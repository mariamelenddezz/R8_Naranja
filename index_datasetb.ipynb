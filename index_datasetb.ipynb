{
 "cells": [
  {
   "cell_type": "code",
   "execution_count": 1,
   "metadata": {},
   "outputs": [],
   "source": [
    "import pandas as pd\n",
    "from elasticsearch import Elasticsearch\n",
    "import numpy as np\n",
    "import datetime as datetime"
   ]
  },
  {
   "cell_type": "code",
   "execution_count": 2,
   "metadata": {},
   "outputs": [],
   "source": [
    "df_b=pd.read_csv('../Datos/Originales/Comp_B.csv')"
   ]
  },
  {
   "cell_type": "code",
   "execution_count": 3,
   "metadata": {},
   "outputs": [
    {
     "data": {
      "text/html": [
       "<div>\n",
       "<style scoped>\n",
       "    .dataframe tbody tr th:only-of-type {\n",
       "        vertical-align: middle;\n",
       "    }\n",
       "\n",
       "    .dataframe tbody tr th {\n",
       "        vertical-align: top;\n",
       "    }\n",
       "\n",
       "    .dataframe thead th {\n",
       "        text-align: right;\n",
       "    }\n",
       "</style>\n",
       "<table border=\"1\" class=\"dataframe\">\n",
       "  <thead>\n",
       "    <tr style=\"text-align: right;\">\n",
       "      <th></th>\n",
       "      <th>Presion</th>\n",
       "      <th>Temperatura</th>\n",
       "      <th>Frecuencia</th>\n",
       "      <th>Potencia_Medida</th>\n",
       "    </tr>\n",
       "  </thead>\n",
       "  <tbody>\n",
       "    <tr>\n",
       "      <th>0</th>\n",
       "      <td>0.746369</td>\n",
       "      <td>13.7</td>\n",
       "      <td>25.883513</td>\n",
       "      <td>90.247441</td>\n",
       "    </tr>\n",
       "    <tr>\n",
       "      <th>1</th>\n",
       "      <td>0.746888</td>\n",
       "      <td>13.7</td>\n",
       "      <td>30.497513</td>\n",
       "      <td>94.649142</td>\n",
       "    </tr>\n",
       "    <tr>\n",
       "      <th>2</th>\n",
       "      <td>0.747145</td>\n",
       "      <td>13.6</td>\n",
       "      <td>32.975970</td>\n",
       "      <td>97.726040</td>\n",
       "    </tr>\n",
       "    <tr>\n",
       "      <th>3</th>\n",
       "      <td>0.747433</td>\n",
       "      <td>13.6</td>\n",
       "      <td>34.000000</td>\n",
       "      <td>99.546341</td>\n",
       "    </tr>\n",
       "    <tr>\n",
       "      <th>4</th>\n",
       "      <td>0.747617</td>\n",
       "      <td>13.5</td>\n",
       "      <td>34.000000</td>\n",
       "      <td>101.412499</td>\n",
       "    </tr>\n",
       "  </tbody>\n",
       "</table>\n",
       "</div>"
      ],
      "text/plain": [
       "    Presion  Temperatura  Frecuencia  Potencia_Medida\n",
       "0  0.746369         13.7   25.883513        90.247441\n",
       "1  0.746888         13.7   30.497513        94.649142\n",
       "2  0.747145         13.6   32.975970        97.726040\n",
       "3  0.747433         13.6   34.000000        99.546341\n",
       "4  0.747617         13.5   34.000000       101.412499"
      ]
     },
     "execution_count": 3,
     "metadata": {},
     "output_type": "execute_result"
    }
   ],
   "source": [
    "df_b.head()"
   ]
  },
  {
   "cell_type": "code",
   "execution_count": 4,
   "metadata": {},
   "outputs": [],
   "source": [
    "df_pequeno_b= df_b.sample(n=5000, random_state=42)"
   ]
  },
  {
   "cell_type": "code",
   "execution_count": 5,
   "metadata": {},
   "outputs": [
    {
     "data": {
      "text/plain": [
       "ObjectApiResponse({'name': 'marta-VirtualBox', 'cluster_name': 'elasticsearch', 'cluster_uuid': 'W_W6tmGfTuauRs68H-lxMg', 'version': {'number': '8.4.3', 'build_flavor': 'default', 'build_type': 'tar', 'build_hash': '42f05b9372a9a4a470db3b52817899b99a76ee73', 'build_date': '2022-10-04T07:17:24.662462378Z', 'build_snapshot': False, 'lucene_version': '9.3.0', 'minimum_wire_compatibility_version': '7.17.0', 'minimum_index_compatibility_version': '7.0.0'}, 'tagline': 'You Know, for Search'})"
      ]
     },
     "execution_count": 5,
     "metadata": {},
     "output_type": "execute_result"
    }
   ],
   "source": [
    "ELASTIC_PASSWORD='fpLcBH8a3VVZBc0w7OnL'\n",
    "\n",
    "client=Elasticsearch(\n",
    "    'https://localhost:9200',\n",
    "    ca_certs='/home/marta/elasticsearch-8.4.3/config/certs/http_ca.crt',\n",
    "    basic_auth=('elastic', ELASTIC_PASSWORD)\n",
    ")\n",
    "\n",
    "client.info()"
   ]
  },
  {
   "cell_type": "code",
   "execution_count": 6,
   "metadata": {},
   "outputs": [],
   "source": [
    "for i in range(len(df_pequeno_b)):\n",
    "    doc=dict()\n",
    "    data=dict(df_pequeno_b.iloc[i])\n",
    "    doc['Presion']=data['Presion'].astype(float)\n",
    "    doc[\"Temperatura\"] = data['Temperatura'].astype(float)\n",
    "    doc['Frecuencia']=data['Frecuencia'].astype(float)\n",
    "    doc[\"Potencia_Medida\"] = data['Potencia_Medida'].astype(float)\n",
    "    client.index(index='comp_b', document=doc, id=i+1)"
   ]
  }
 ],
 "metadata": {
  "kernelspec": {
   "display_name": "reto_08",
   "language": "python",
   "name": "python3"
  },
  "language_info": {
   "codemirror_mode": {
    "name": "ipython",
    "version": 3
   },
   "file_extension": ".py",
   "mimetype": "text/x-python",
   "name": "python",
   "nbconvert_exporter": "python",
   "pygments_lexer": "ipython3",
   "version": "3.10.12"
  }
 },
 "nbformat": 4,
 "nbformat_minor": 2
}
