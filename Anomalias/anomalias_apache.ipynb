{
 "cells": [
  {
   "cell_type": "markdown",
   "metadata": {},
   "source": [
    "## Librerias"
   ]
  },
  {
   "cell_type": "code",
   "execution_count": 30,
   "metadata": {},
   "outputs": [],
   "source": [
    "import pandas as pd\n",
    "import re\n",
    "import plotly.express as px\n",
    "import matplotlib.pyplot as plt"
   ]
  },
  {
   "cell_type": "code",
   "execution_count": 31,
   "metadata": {},
   "outputs": [
    {
     "name": "stdout",
     "output_type": "stream",
     "text": [
      "13853\n"
     ]
    }
   ],
   "source": [
    "cantidad = 0\n",
    "with open('../Datos/Originales/apache-logs.txt', 'r') as archivo:\n",
    "    # Lee cada línea del archivo\n",
    "    for linea in archivo:\n",
    "        # Imprime cada línea\n",
    "        cantidad +=1\n",
    "print(cantidad)"
   ]
  },
  {
   "cell_type": "markdown",
   "metadata": {},
   "source": [
    "## Lectura"
   ]
  },
  {
   "cell_type": "code",
   "execution_count": 46,
   "metadata": {},
   "outputs": [],
   "source": [
    "# pattern = r'^(\\S+) (\\S+) (\\S+) \\[(.*?)\\] \"(\\S+) (\\S+) (\\S+)\" (\\d+) (\\d+) \"([^\"]+)\" \"([^\"]+)\"'\n",
    "\n",
    "# # Lista para almacenar los resultados\n",
    "# data = []\n",
    "\n",
    "# # Leer el archivo de texto línea por línea\n",
    "# with open('../Datos/Originales/apache-logs.txt', 'r') as file:\n",
    "#     for log_line in file:\n",
    "#         matches = re.match(pattern, log_line)\n",
    "#         if matches:\n",
    "#             client_ip, ident, auth, timestamp, method, request, hhtp_version, status_code, bytes_sent, referrer, user_agent = matches.groups()\n",
    "#             data.append([client_ip, ident, auth, timestamp, method, request, hhtp_version, status_code, bytes_sent, referrer, user_agent])\n",
    "#         else:\n",
    "#             print(\"No match found for line:\", log_line)\n",
    "\n",
    "# # Crear DataFrame\n",
    "# df = pd.DataFrame(data, columns=['Client IP', 'Ident', 'Auth', 'Timestamp', 'Method', 'Request', 'HTTP Version', 'Status Code', 'Bytes Sent', 'Referrer', 'User Agent'])\n"
   ]
  },
  {
   "cell_type": "code",
   "execution_count": 47,
   "metadata": {},
   "outputs": [],
   "source": [
    "# df.head()"
   ]
  },
  {
   "cell_type": "code",
   "execution_count": 48,
   "metadata": {},
   "outputs": [
    {
     "name": "stdout",
     "output_type": "stream",
     "text": [
      "Líneas no coincidentes: 231\n"
     ]
    }
   ],
   "source": [
    "# Patrón para analizar las líneas del archivo de registro\n",
    "pattern = r'^(\\S+) (\\S+) (\\S+) \\[(.*?)\\] \"(\\S+) (\\S+) (\\S+)\" (\\d+) (\\d+) \"([^\"]+)\" \"([^\"]+)\"'\n",
    "\n",
    "# Listas para almacenar los resultados\n",
    "valid_data = []\n",
    "invalid_data = []\n",
    "\n",
    "# Leer el archivo de texto línea por línea\n",
    "with open('../Datos/Originales/apache-logs.txt', 'r') as file:\n",
    "    for log_line in file:\n",
    "        matches = re.match(pattern, log_line)\n",
    "        if matches:\n",
    "            # Si hay coincidencia con el patrón, agregar a datos válidos\n",
    "            client_ip, ident, auth, timestamp, method, request, hhtp_version, status_code, bytes_sent, referrer, user_agent = matches.groups()\n",
    "            valid_data.append([client_ip, ident, auth, timestamp, method, request, hhtp_version, status_code, bytes_sent, referrer, user_agent])\n",
    "        else:\n",
    "            # Si no hay coincidencia, agregar a datos inválidos\n",
    "            invalid_data.append([log_line.strip()])\n",
    "\n",
    "# Crear DataFrame para datos válidos\n",
    "df = pd.DataFrame(valid_data, columns=['Client IP', 'Ident', 'Auth', 'Timestamp', 'Method', 'Request', 'HTTP Version', 'Status Code', 'Bytes Sent', 'Referrer', 'User Agent'])\n",
    "\n",
    "# Crear DataFrame para datos inválidos\n",
    "df_invalid = pd.DataFrame(invalid_data, columns=['Invalid Lines'])\n",
    "\n",
    "# Mostrar información sobre las líneas no coincidentes\n",
    "print(\"Líneas no coincidentes:\", len(df_invalid))"
   ]
  },
  {
   "cell_type": "code",
   "execution_count": 49,
   "metadata": {},
   "outputs": [
    {
     "data": {
      "text/html": [
       "<div>\n",
       "<style scoped>\n",
       "    .dataframe tbody tr th:only-of-type {\n",
       "        vertical-align: middle;\n",
       "    }\n",
       "\n",
       "    .dataframe tbody tr th {\n",
       "        vertical-align: top;\n",
       "    }\n",
       "\n",
       "    .dataframe thead th {\n",
       "        text-align: right;\n",
       "    }\n",
       "</style>\n",
       "<table border=\"1\" class=\"dataframe\">\n",
       "  <thead>\n",
       "    <tr style=\"text-align: right;\">\n",
       "      <th></th>\n",
       "      <th>Client IP</th>\n",
       "      <th>Ident</th>\n",
       "      <th>Auth</th>\n",
       "      <th>Timestamp</th>\n",
       "      <th>Method</th>\n",
       "      <th>Request</th>\n",
       "      <th>HTTP Version</th>\n",
       "      <th>Status Code</th>\n",
       "      <th>Bytes Sent</th>\n",
       "      <th>Referrer</th>\n",
       "      <th>User Agent</th>\n",
       "    </tr>\n",
       "  </thead>\n",
       "  <tbody>\n",
       "    <tr>\n",
       "      <th>0</th>\n",
       "      <td>\"192.168.4.164</td>\n",
       "      <td>-</td>\n",
       "      <td>-</td>\n",
       "      <td>22/Dec/2023:15:19:05 +0300</td>\n",
       "      <td>GET</td>\n",
       "      <td>/DVWA/</td>\n",
       "      <td>HTTP/1.1</td>\n",
       "      <td>200</td>\n",
       "      <td>2020</td>\n",
       "      <td>-</td>\n",
       "      <td>Mozilla/5.0 (Windows NT 6.3; WOW64) AppleWebKi...</td>\n",
       "    </tr>\n",
       "    <tr>\n",
       "      <th>1</th>\n",
       "      <td>\"192.168.4.164</td>\n",
       "      <td>-</td>\n",
       "      <td>-</td>\n",
       "      <td>22/Dec/2023:15:19:06 +0300</td>\n",
       "      <td>HEAD</td>\n",
       "      <td>/DVWA/</td>\n",
       "      <td>HTTP/1.1</td>\n",
       "      <td>200</td>\n",
       "      <td>263</td>\n",
       "      <td>-</td>\n",
       "      <td>Mozilla/5.0 (Windows NT 6.3; WOW64) AppleWebKi...</td>\n",
       "    </tr>\n",
       "    <tr>\n",
       "      <th>2</th>\n",
       "      <td>\"192.168.4.164</td>\n",
       "      <td>-</td>\n",
       "      <td>-</td>\n",
       "      <td>22/Dec/2023:15:19:06 +0300</td>\n",
       "      <td>HEAD</td>\n",
       "      <td>/DVWA/.git/config</td>\n",
       "      <td>HTTP/1.1</td>\n",
       "      <td>404</td>\n",
       "      <td>139</td>\n",
       "      <td>-</td>\n",
       "      <td>Mozilla/5.0 (Windows NT 6.3; WOW64) AppleWebKi...</td>\n",
       "    </tr>\n",
       "    <tr>\n",
       "      <th>3</th>\n",
       "      <td>\"192.168.4.164</td>\n",
       "      <td>-</td>\n",
       "      <td>-</td>\n",
       "      <td>22/Dec/2023:15:19:06 +0300</td>\n",
       "      <td>HEAD</td>\n",
       "      <td>/DVWA/.git/config</td>\n",
       "      <td>HTTP/1.1</td>\n",
       "      <td>404</td>\n",
       "      <td>139</td>\n",
       "      <td>-</td>\n",
       "      <td>Mozilla/5.0 (Windows NT 6.3; WOW64) AppleWebKi...</td>\n",
       "    </tr>\n",
       "    <tr>\n",
       "      <th>4</th>\n",
       "      <td>\"192.168.4.164</td>\n",
       "      <td>-</td>\n",
       "      <td>-</td>\n",
       "      <td>22/Dec/2023:15:19:06 +0300</td>\n",
       "      <td>HEAD</td>\n",
       "      <td>/DVWA/.svn/all-wcprops</td>\n",
       "      <td>HTTP/1.1</td>\n",
       "      <td>404</td>\n",
       "      <td>139</td>\n",
       "      <td>-</td>\n",
       "      <td>Mozilla/5.0 (Windows NT 6.3; WOW64) AppleWebKi...</td>\n",
       "    </tr>\n",
       "    <tr>\n",
       "      <th>...</th>\n",
       "      <td>...</td>\n",
       "      <td>...</td>\n",
       "      <td>...</td>\n",
       "      <td>...</td>\n",
       "      <td>...</td>\n",
       "      <td>...</td>\n",
       "      <td>...</td>\n",
       "      <td>...</td>\n",
       "      <td>...</td>\n",
       "      <td>...</td>\n",
       "      <td>...</td>\n",
       "    </tr>\n",
       "    <tr>\n",
       "      <th>13617</th>\n",
       "      <td>\"192.168.4.25</td>\n",
       "      <td>-</td>\n",
       "      <td>-</td>\n",
       "      <td>22/Dec/2022:16:22:11 +0300</td>\n",
       "      <td>POST</td>\n",
       "      <td>/index.php/component/search/</td>\n",
       "      <td>HTTP/1.1</td>\n",
       "      <td>303</td>\n",
       "      <td>376</td>\n",
       "      <td>http://192.168.4.161/DVWA</td>\n",
       "      <td>Mozilla/5.0 (Windows NT 6.1; WOW64) AppleWebKi...</td>\n",
       "    </tr>\n",
       "    <tr>\n",
       "      <th>13618</th>\n",
       "      <td>\"192.168.4.25</td>\n",
       "      <td>-</td>\n",
       "      <td>-</td>\n",
       "      <td>22/Dec/2022:16:33:44 +0300</td>\n",
       "      <td>POST</td>\n",
       "      <td>/index.php/component/search/</td>\n",
       "      <td>HTTP/1.1</td>\n",
       "      <td>303</td>\n",
       "      <td>417</td>\n",
       "      <td>http://192.168.4.161/DVWA</td>\n",
       "      <td>Mozilla/5.0 (Windows NT 6.1; WOW64) AppleWebKi...</td>\n",
       "    </tr>\n",
       "    <tr>\n",
       "      <th>13619</th>\n",
       "      <td>\"192.168.4.25</td>\n",
       "      <td>-</td>\n",
       "      <td>-</td>\n",
       "      <td>22/Dec/2022:16:23:07 +0300</td>\n",
       "      <td>POST</td>\n",
       "      <td>/index.php/component/search/</td>\n",
       "      <td>HTTP/1.1</td>\n",
       "      <td>303</td>\n",
       "      <td>393</td>\n",
       "      <td>http://192.168.4.161/DVWA</td>\n",
       "      <td>Mozilla/5.0 (Windows NT 6.1; WOW64) AppleWebKi...</td>\n",
       "    </tr>\n",
       "    <tr>\n",
       "      <th>13620</th>\n",
       "      <td>\"192.168.4.25</td>\n",
       "      <td>-</td>\n",
       "      <td>-</td>\n",
       "      <td>22/Dec/2022:16:32:54 +0300</td>\n",
       "      <td>POST</td>\n",
       "      <td>/index.php/component/search/</td>\n",
       "      <td>HTTP/1.1</td>\n",
       "      <td>200</td>\n",
       "      <td>3054</td>\n",
       "      <td>http://192.168.4.161/DVWA</td>\n",
       "      <td>Mozilla/5.0 (Windows NT 6.1; WOW64) AppleWebKi...</td>\n",
       "    </tr>\n",
       "    <tr>\n",
       "      <th>13621</th>\n",
       "      <td>\"192.168.4.25</td>\n",
       "      <td>-</td>\n",
       "      <td>-</td>\n",
       "      <td>22/Dec/2022:16:20:55 +0300</td>\n",
       "      <td>POST</td>\n",
       "      <td>/index.php/component/search/</td>\n",
       "      <td>HTTP/1.1</td>\n",
       "      <td>303</td>\n",
       "      <td>363</td>\n",
       "      <td>-</td>\n",
       "      <td>Mozilla/5.0 (Windows NT 6.1; WOW64) AppleWebKi...</td>\n",
       "    </tr>\n",
       "  </tbody>\n",
       "</table>\n",
       "<p>13622 rows × 11 columns</p>\n",
       "</div>"
      ],
      "text/plain": [
       "            Client IP Ident Auth                   Timestamp Method  \\\n",
       "0      \"192.168.4.164     -    -  22/Dec/2023:15:19:05 +0300    GET   \n",
       "1      \"192.168.4.164     -    -  22/Dec/2023:15:19:06 +0300   HEAD   \n",
       "2      \"192.168.4.164     -    -  22/Dec/2023:15:19:06 +0300   HEAD   \n",
       "3      \"192.168.4.164     -    -  22/Dec/2023:15:19:06 +0300   HEAD   \n",
       "4      \"192.168.4.164     -    -  22/Dec/2023:15:19:06 +0300   HEAD   \n",
       "...               ...   ...  ...                         ...    ...   \n",
       "13617   \"192.168.4.25     -    -  22/Dec/2022:16:22:11 +0300   POST   \n",
       "13618   \"192.168.4.25     -    -  22/Dec/2022:16:33:44 +0300   POST   \n",
       "13619   \"192.168.4.25     -    -  22/Dec/2022:16:23:07 +0300   POST   \n",
       "13620   \"192.168.4.25     -    -  22/Dec/2022:16:32:54 +0300   POST   \n",
       "13621   \"192.168.4.25     -    -  22/Dec/2022:16:20:55 +0300   POST   \n",
       "\n",
       "                            Request HTTP Version Status Code Bytes Sent  \\\n",
       "0                            /DVWA/     HTTP/1.1         200       2020   \n",
       "1                            /DVWA/     HTTP/1.1         200        263   \n",
       "2                 /DVWA/.git/config     HTTP/1.1         404        139   \n",
       "3                 /DVWA/.git/config     HTTP/1.1         404        139   \n",
       "4            /DVWA/.svn/all-wcprops     HTTP/1.1         404        139   \n",
       "...                             ...          ...         ...        ...   \n",
       "13617  /index.php/component/search/     HTTP/1.1         303        376   \n",
       "13618  /index.php/component/search/     HTTP/1.1         303        417   \n",
       "13619  /index.php/component/search/     HTTP/1.1         303        393   \n",
       "13620  /index.php/component/search/     HTTP/1.1         200       3054   \n",
       "13621  /index.php/component/search/     HTTP/1.1         303        363   \n",
       "\n",
       "                        Referrer  \\\n",
       "0                              -   \n",
       "1                              -   \n",
       "2                              -   \n",
       "3                              -   \n",
       "4                              -   \n",
       "...                          ...   \n",
       "13617  http://192.168.4.161/DVWA   \n",
       "13618  http://192.168.4.161/DVWA   \n",
       "13619  http://192.168.4.161/DVWA   \n",
       "13620  http://192.168.4.161/DVWA   \n",
       "13621                          -   \n",
       "\n",
       "                                              User Agent  \n",
       "0      Mozilla/5.0 (Windows NT 6.3; WOW64) AppleWebKi...  \n",
       "1      Mozilla/5.0 (Windows NT 6.3; WOW64) AppleWebKi...  \n",
       "2      Mozilla/5.0 (Windows NT 6.3; WOW64) AppleWebKi...  \n",
       "3      Mozilla/5.0 (Windows NT 6.3; WOW64) AppleWebKi...  \n",
       "4      Mozilla/5.0 (Windows NT 6.3; WOW64) AppleWebKi...  \n",
       "...                                                  ...  \n",
       "13617  Mozilla/5.0 (Windows NT 6.1; WOW64) AppleWebKi...  \n",
       "13618  Mozilla/5.0 (Windows NT 6.1; WOW64) AppleWebKi...  \n",
       "13619  Mozilla/5.0 (Windows NT 6.1; WOW64) AppleWebKi...  \n",
       "13620  Mozilla/5.0 (Windows NT 6.1; WOW64) AppleWebKi...  \n",
       "13621  Mozilla/5.0 (Windows NT 6.1; WOW64) AppleWebKi...  \n",
       "\n",
       "[13622 rows x 11 columns]"
      ]
     },
     "execution_count": 49,
     "metadata": {},
     "output_type": "execute_result"
    }
   ],
   "source": [
    "df"
   ]
  },
  {
   "cell_type": "code",
   "execution_count": 21,
   "metadata": {},
   "outputs": [
    {
     "name": "stdout",
     "output_type": "stream",
     "text": [
      "\"192.168.4.164 - - [22/Dec/2023:15:19:14 +0300] \"GET /DVWA/ HTTP/1.1\" 200 1964 \"() { :;}; echo \\\"NS:\\\" $(/bin/sh -c \\\"expr 268409241 - 2\\\")\" \"Mozilla/5.0 (Windows NT 6.3; WOW64) AppleWebKit/537.36 (KHTML, like Gecko) Chrome/41.0.2272.16 Safari/537.36\"\"\n",
      "\"192.168.4.164 - - [22/Dec/2023:15:19:15 +0300] \"GET /DVWA/ HTTP/1.1\" 200 1964 \"'\\\"@--></style></scRipt><scRipt>netsparker(0x000008)</scRipt>\" \"Mozilla/5.0 (Windows NT 6.3; WOW64) AppleWebKit/537.36 (KHTML, like Gecko) Chrome/41.0.2272.16 Safari/537.36\"\"\n",
      "\"192.168.4.164 - - [22/Dec/2023:15:19:15 +0300] \"GET /DVWA/ HTTP/1.1\" 200 1964 \"'\\\"@--></style></scRipt><scRipt>netsparker(0x000009)</scRipt>\" \"Mozilla/5.0 (Windows NT 6.3; WOW64) AppleWebKit/537.36 (KHTML, like Gecko) Chrome/41.0.2272.16 Safari/537.36\"\"\n",
      "\"192.168.4.164 - - [22/Dec/2023:15:19:15 +0300] \"GET /DVWA/ HTTP/1.1\" 200 1964 \"'\\\"--></style></scRipt><scRipt>netsparker(0x000006)</scRipt>\" \"Mozilla/5.0 (Windows NT 6.3; WOW64) AppleWebKit/537.36 (KHTML, like Gecko) Chrome/41.0.2272.16 Safari/537.36\"\"\n",
      "\"192.168.4.164 - - [22/Dec/2023:15:19:15 +0300] \"GET /DVWA/ HTTP/1.1\" 200 1964 \"'\\\"--></style></scRipt><scRipt>netsparker(0x000007)</scRipt>\" \"Mozilla/5.0 (Windows NT 6.3; WOW64) AppleWebKit/537.36 (KHTML, like Gecko) Chrome/41.0.2272.16 Safari/537.36\"\"\n",
      "\"192.168.4.164 - - [22/Dec/2023:15:19:18 +0300] \"GET /DVWA/dvwa/ HTTP/1.1\" 200 675 \"() { :;}; echo \\\"NS:\\\" $(/bin/sh -c \\\"expr 268409241 - 2\\\")\" \"Mozilla/5.0 (Windows NT 6.3; WOW64) AppleWebKit/537.36 (KHTML, like Gecko) Chrome/41.0.2272.16 Safari/537.36\"\"\n",
      "\"192.168.4.164 - - [22/Dec/2023:15:19:18 +0300] \"GET /DVWA/dvwa/ HTTP/1.1\" 200 675 \"'\\\"@--></style></scRipt><scRipt>netsparker(0x000022)</scRipt>\" \"Mozilla/5.0 (Windows NT 6.3; WOW64) AppleWebKit/537.36 (KHTML, like Gecko) Chrome/41.0.2272.16 Safari/537.36\"\"\n",
      "\"192.168.4.164 - - [22/Dec/2023:15:19:18 +0300] \"GET /DVWA/dvwa/ HTTP/1.1\" 200 675 \"'\\\"@--></style></scRipt><scRipt>netsparker(0x000023)</scRipt>\" \"Mozilla/5.0 (Windows NT 6.3; WOW64) AppleWebKit/537.36 (KHTML, like Gecko) Chrome/41.0.2272.16 Safari/537.36\"\"\n",
      "\"192.168.4.164 - - [22/Dec/2023:15:19:18 +0300] \"GET /DVWA/dvwa/ HTTP/1.1\" 200 675 \"'\\\"--></style></scRipt><scRipt>netsparker(0x000020)</scRipt>\" \"Mozilla/5.0 (Windows NT 6.3; WOW64) AppleWebKit/537.36 (KHTML, like Gecko) Chrome/41.0.2272.16 Safari/537.36\"\"\n",
      "\"192.168.4.164 - - [22/Dec/2023:15:19:18 +0300] \"GET /DVWA/dvwa/ HTTP/1.1\" 200 675 \"'\\\"--></style></scRipt><scRipt>netsparker(0x000021)</scRipt>\" \"Mozilla/5.0 (Windows NT 6.3; WOW64) AppleWebKit/537.36 (KHTML, like Gecko) Chrome/41.0.2272.16 Safari/537.36\"\"\n",
      "\"192.168.4.164 - - [22/Dec/2023:15:19:19 +0300] \"GET /DVWA/dvwa/js/ HTTP/1.1\" 200 660 \"() { :;}; echo \\\"NS:\\\" $(/bin/sh -c \\\"expr 268409241 - 2\\\")\" \"Mozilla/5.0 (Windows NT 6.3; WOW64) AppleWebKit/537.36 (KHTML, like Gecko) Chrome/41.0.2272.16 Safari/537.36\"\"\n",
      "\"192.168.4.164 - - [22/Dec/2023:15:19:20 +0300] \"GET /DVWA/dvwa/js/ HTTP/1.1\" 200 660 \"'\\\"@--></style></scRipt><scRipt>netsparker(0x00003C)</scRipt>\" \"Mozilla/5.0 (Windows NT 6.3; WOW64) AppleWebKit/537.36 (KHTML, like Gecko) Chrome/41.0.2272.16 Safari/537.36\"\"\n",
      "\"192.168.4.164 - - [22/Dec/2023:15:19:20 +0300] \"GET /DVWA/dvwa/js/ HTTP/1.1\" 200 660 \"'\\\"@--></style></scRipt><scRipt>netsparker(0x00003D)</scRipt>\" \"Mozilla/5.0 (Windows NT 6.3; WOW64) AppleWebKit/537.36 (KHTML, like Gecko) Chrome/41.0.2272.16 Safari/537.36\"\"\n",
      "\"192.168.4.164 - - [22/Dec/2023:15:19:20 +0300] \"GET /DVWA/dvwa/js/ HTTP/1.1\" 200 660 \"'\\\"--></style></scRipt><scRipt>netsparker(0x00003A)</scRipt>\" \"Mozilla/5.0 (Windows NT 6.3; WOW64) AppleWebKit/537.36 (KHTML, like Gecko) Chrome/41.0.2272.16 Safari/537.36\"\"\n",
      "\"192.168.4.164 - - [22/Dec/2023:15:19:20 +0300] \"GET /DVWA/dvwa/js/ HTTP/1.1\" 200 660 \"'\\\"--></style></scRipt><scRipt>netsparker(0x00003B)</scRipt>\" \"Mozilla/5.0 (Windows NT 6.3; WOW64) AppleWebKit/537.36 (KHTML, like Gecko) Chrome/41.0.2272.16 Safari/537.36\"\"\n",
      "\"192.168.4.164 - - [22/Dec/2023:15:19:21 +0300] \"GET /DVWA/dvwa/images/ HTTP/1.1\" 200 762 \"() { :;}; echo \\\"NS:\\\" $(/bin/sh -c \\\"expr 268409241 - 2\\\")\" \"Mozilla/5.0 (Windows NT 6.3; WOW64) AppleWebKit/537.36 (KHTML, like Gecko) Chrome/41.0.2272.16 Safari/537.36\"\"\n",
      "\"192.168.4.164 - - [22/Dec/2023:15:19:21 +0300] \"GET /DVWA/dvwa/js/dvwaPage.js HTTP/1.1\" 200 706 \"() { :;}; echo \\\"NS:\\\" $(/bin/sh -c \\\"expr 268409241 - 2\\\")\" \"Mozilla/5.0 (Windows NT 6.3; WOW64) AppleWebKit/537.36 (KHTML, like Gecko) Chrome/41.0.2272.16 Safari/537.36\"\"\n",
      "\"192.168.4.164 - - [22/Dec/2023:15:19:21 +0300] \"GET /DVWA/dvwa/js/dvwaPage.js HTTP/1.1\" 200 706 \"'\\\"@--></style></scRipt><scRipt>netsparker(0x000056)</scRipt>\" \"Mozilla/5.0 (Windows NT 6.3; WOW64) AppleWebKit/537.36 (KHTML, like Gecko) Chrome/41.0.2272.16 Safari/537.36\"\"\n",
      "\"192.168.4.164 - - [22/Dec/2023:15:19:21 +0300] \"GET /DVWA/dvwa/js/dvwaPage.js HTTP/1.1\" 200 706 \"'\\\"@--></style></scRipt><scRipt>netsparker(0x000057)</scRipt>\" \"Mozilla/5.0 (Windows NT 6.3; WOW64) AppleWebKit/537.36 (KHTML, like Gecko) Chrome/41.0.2272.16 Safari/537.36\"\"\n",
      "\"192.168.4.164 - - [22/Dec/2023:15:19:21 +0300] \"GET /DVWA/dvwa/js/dvwaPage.js HTTP/1.1\" 200 706 \"'\\\"--></style></scRipt><scRipt>netsparker(0x000054)</scRipt>\" \"Mozilla/5.0 (Windows NT 6.3; WOW64) AppleWebKit/537.36 (KHTML, like Gecko) Chrome/41.0.2272.16 Safari/537.36\"\"\n",
      "\"192.168.4.164 - - [22/Dec/2023:15:19:21 +0300] \"GET /DVWA/dvwa/js/dvwaPage.js HTTP/1.1\" 200 706 \"'\\\"--></style></scRipt><scRipt>netsparker(0x000055)</scRipt>\" \"Mozilla/5.0 (Windows NT 6.3; WOW64) AppleWebKit/537.36 (KHTML, like Gecko) Chrome/41.0.2272.16 Safari/537.36\"\"\n",
      "\"192.168.4.164 - - [22/Dec/2023:15:19:22 +0300] \"GET /DVWA/dvwa/images/ HTTP/1.1\" 200 762 \"'\\\"@--></style></scRipt><scRipt>netsparker(0x000070)</scRipt>\" \"Mozilla/5.0 (Windows NT 6.3; WOW64) AppleWebKit/537.36 (KHTML, like Gecko) Chrome/41.0.2272.16 Safari/537.36\"\"\n",
      "\"192.168.4.164 - - [22/Dec/2023:15:19:22 +0300] \"GET /DVWA/dvwa/images/ HTTP/1.1\" 200 762 \"'\\\"@--></style></scRipt><scRipt>netsparker(0x000071)</scRipt>\" \"Mozilla/5.0 (Windows NT 6.3; WOW64) AppleWebKit/537.36 (KHTML, like Gecko) Chrome/41.0.2272.16 Safari/537.36\"\"\n",
      "\"192.168.4.164 - - [22/Dec/2023:15:19:22 +0300] \"GET /DVWA/dvwa/images/ HTTP/1.1\" 200 762 \"'\\\"--></style></scRipt><scRipt>netsparker(0x00006E)</scRipt>\" \"Mozilla/5.0 (Windows NT 6.3; WOW64) AppleWebKit/537.36 (KHTML, like Gecko) Chrome/41.0.2272.16 Safari/537.36\"\"\n",
      "\"192.168.4.164 - - [22/Dec/2023:15:19:22 +0300] \"GET /DVWA/dvwa/images/ HTTP/1.1\" 200 762 \"'\\\"--></style></scRipt><scRipt>netsparker(0x00006F)</scRipt>\" \"Mozilla/5.0 (Windows NT 6.3; WOW64) AppleWebKit/537.36 (KHTML, like Gecko) Chrome/41.0.2272.16 Safari/537.36\"\"\n",
      "\"192.168.4.164 - - [22/Dec/2023:15:19:23 +0300] \"GET /DVWA/dvwa/css/ HTTP/1.1\" 200 700 \"() { :;}; echo \\\"NS:\\\" $(/bin/sh -c \\\"expr 268409241 - 2\\\")\" \"Mozilla/5.0 (Windows NT 6.3; WOW64) AppleWebKit/537.36 (KHTML, like Gecko) Chrome/41.0.2272.16 Safari/537.36\"\"\n",
      "\"192.168.4.164 - - [22/Dec/2023:15:19:23 +0300] \"GET /DVWA/dvwa/css/ HTTP/1.1\" 200 700 \"'\\\"@--></style></scRipt><scRipt>netsparker(0x00008A)</scRipt>\" \"Mozilla/5.0 (Windows NT 6.3; WOW64) AppleWebKit/537.36 (KHTML, like Gecko) Chrome/41.0.2272.16 Safari/537.36\"\"\n",
      "\"192.168.4.164 - - [22/Dec/2023:15:19:23 +0300] \"GET /DVWA/dvwa/css/ HTTP/1.1\" 200 700 \"'\\\"@--></style></scRipt><scRipt>netsparker(0x00008B)</scRipt>\" \"Mozilla/5.0 (Windows NT 6.3; WOW64) AppleWebKit/537.36 (KHTML, like Gecko) Chrome/41.0.2272.16 Safari/537.36\"\"\n",
      "\"192.168.4.164 - - [22/Dec/2023:15:19:23 +0300] \"GET /DVWA/dvwa/css/ HTTP/1.1\" 200 700 \"'\\\"--></style></scRipt><scRipt>netsparker(0x000088)</scRipt>\" \"Mozilla/5.0 (Windows NT 6.3; WOW64) AppleWebKit/537.36 (KHTML, like Gecko) Chrome/41.0.2272.16 Safari/537.36\"\"\n",
      "\"192.168.4.164 - - [22/Dec/2023:15:19:23 +0300] \"GET /DVWA/dvwa/css/ HTTP/1.1\" 200 700 \"'\\\"--></style></scRipt><scRipt>netsparker(0x000089)</scRipt>\" \"Mozilla/5.0 (Windows NT 6.3; WOW64) AppleWebKit/537.36 (KHTML, like Gecko) Chrome/41.0.2272.16 Safari/537.36\"\"\n",
      "\"192.168.4.164 - - [22/Dec/2023:15:19:23 +0300] \"GET /DVWA/dvwa/css/main.css HTTP/1.1\" 200 1374 \"() { :;}; echo \\\"NS:\\\" $(/bin/sh -c \\\"expr 268409241 - 2\\\")\" \"Mozilla/5.0 (Windows NT 6.3; WOW64) AppleWebKit/537.36 (KHTML, like Gecko) Chrome/41.0.2272.16 Safari/537.36\"\"\n",
      "\"192.168.4.164 - - [22/Dec/2023:15:19:24 +0300] \"GET /DVWA/dvwa/css/main.css HTTP/1.1\" 200 1374 \"'\\\"@--></style></scRipt><scRipt>netsparker(0x0000A4)</scRipt>\" \"Mozilla/5.0 (Windows NT 6.3; WOW64) AppleWebKit/537.36 (KHTML, like Gecko) Chrome/41.0.2272.16 Safari/537.36\"\"\n",
      "\"192.168.4.164 - - [22/Dec/2023:15:19:24 +0300] \"GET /DVWA/dvwa/css/main.css HTTP/1.1\" 200 1374 \"'\\\"@--></style></scRipt><scRipt>netsparker(0x0000A5)</scRipt>\" \"Mozilla/5.0 (Windows NT 6.3; WOW64) AppleWebKit/537.36 (KHTML, like Gecko) Chrome/41.0.2272.16 Safari/537.36\"\"\n",
      "\"192.168.4.164 - - [22/Dec/2023:15:19:24 +0300] \"GET /DVWA/dvwa/css/main.css HTTP/1.1\" 200 1374 \"'\\\"--></style></scRipt><scRipt>netsparker(0x0000A2)</scRipt>\" \"Mozilla/5.0 (Windows NT 6.3; WOW64) AppleWebKit/537.36 (KHTML, like Gecko) Chrome/41.0.2272.16 Safari/537.36\"\"\n",
      "\"192.168.4.164 - - [22/Dec/2023:15:19:24 +0300] \"GET /DVWA/dvwa/css/main.css HTTP/1.1\" 200 1374 \"'\\\"--></style></scRipt><scRipt>netsparker(0x0000A3)</scRipt>\" \"Mozilla/5.0 (Windows NT 6.3; WOW64) AppleWebKit/537.36 (KHTML, like Gecko) Chrome/41.0.2272.16 Safari/537.36\"\"\n",
      "\"192.168.4.164 - - [22/Dec/2023:15:19:24 +0300] \"GET /DVWA/instructions.php HTTP/1.1\" 200 1396 \"() { :;}; echo \\\"NS:\\\" $(/bin/sh -c \\\"expr 268409241 - 2\\\")\" \"Mozilla/5.0 (Windows NT 6.3; WOW64) AppleWebKit/537.36 (KHTML, like Gecko) Chrome/41.0.2272.16 Safari/537.36\"\"\n",
      "\"192.168.4.164 - - [22/Dec/2023:15:19:24 +0300] \"GET /DVWA/setup.php HTTP/1.1\" 200 1561 \"() { :;}; echo \\\"NS:\\\" $(/bin/sh -c \\\"expr 268409241 - 2\\\")\" \"Mozilla/5.0 (Windows NT 6.3; WOW64) AppleWebKit/537.36 (KHTML, like Gecko) Chrome/41.0.2272.16 Safari/537.36\"\"\n",
      "\"192.168.4.164 - - [22/Dec/2023:15:19:24 +0300] \"GET /DVWA/vulnerabilities/ HTTP/1.1\" 200 813 \"'\\\"@--></style></scRipt><scRipt>netsparker(0x0000C2)</scRipt>\" \"Mozilla/5.0 (Windows NT 6.3; WOW64) AppleWebKit/537.36 (KHTML, like Gecko) Chrome/41.0.2272.16 Safari/537.36\"\"\n",
      "\"192.168.4.164 - - [22/Dec/2023:15:19:24 +0300] \"GET /DVWA/vulnerabilities/ HTTP/1.1\" 200 813 \"'\\\"--></style></scRipt><scRipt>netsparker(0x0000C0)</scRipt>\" \"Mozilla/5.0 (Windows NT 6.3; WOW64) AppleWebKit/537.36 (KHTML, like Gecko) Chrome/41.0.2272.16 Safari/537.36\"\"\n",
      "\"192.168.4.164 - - [22/Dec/2023:15:19:24 +0300] \"GET /DVWA/vulnerabilities/ HTTP/1.1\" 200 813 \"'\\\"--></style></scRipt><scRipt>netsparker(0x0000C1)</scRipt>\" \"Mozilla/5.0 (Windows NT 6.3; WOW64) AppleWebKit/537.36 (KHTML, like Gecko) Chrome/41.0.2272.16 Safari/537.36\"\"\n",
      "\"192.168.4.164 - - [22/Dec/2023:15:19:25 +0300] \"GET /DVWA/vulnerabilities/ HTTP/1.1\" 200 813 \"() { :;}; echo \\\"NS:\\\" $(/bin/sh -c \\\"expr 268409241 - 2\\\")\" \"Mozilla/5.0 (Windows NT 6.3; WOW64) AppleWebKit/537.36 (KHTML, like Gecko) Chrome/41.0.2272.16 Safari/537.36\"\"\n",
      "\"192.168.4.164 - - [22/Dec/2023:15:19:25 +0300] \"GET /DVWA/vulnerabilities/ HTTP/1.1\" 200 813 \"'\\\"@--></style></scRipt><scRipt>netsparker(0x0000C3)</scRipt>\" \"Mozilla/5.0 (Windows NT 6.3; WOW64) AppleWebKit/537.36 (KHTML, like Gecko) Chrome/41.0.2272.16 Safari/537.36\"\"\n",
      "\"192.168.4.164 - - [22/Dec/2023:15:19:32 +0300] \"GET /DVWA/vulnerabilities/brute/ HTTP/1.1\" 200 1709 \"() { :;}; echo \\\"NS:\\\" $(/bin/sh -c \\\"expr 268409241 - 2\\\")\" \"Mozilla/5.0 (Windows NT 6.3; WOW64) AppleWebKit/537.36 (KHTML, like Gecko) Chrome/41.0.2272.16 Safari/537.36\"\"\n",
      "\"192.168.4.164 - - [22/Dec/2023:15:19:32 +0300] \"GET /DVWA/vulnerabilities/brute/ HTTP/1.1\" 200 1764 \"'\\\"@--></style></scRipt><scRipt>netsparker(0x0000DC)</scRipt>\" \"Mozilla/5.0 (Windows NT 6.3; WOW64) AppleWebKit/537.36 (KHTML, like Gecko) Chrome/41.0.2272.16 Safari/537.36\"\"\n",
      "\"192.168.4.164 - - [22/Dec/2023:15:19:32 +0300] \"GET /DVWA/vulnerabilities/brute/ HTTP/1.1\" 200 1764 \"'\\\"--></style></scRipt><scRipt>netsparker(0x0000DA)</scRipt>\" \"Mozilla/5.0 (Windows NT 6.3; WOW64) AppleWebKit/537.36 (KHTML, like Gecko) Chrome/41.0.2272.16 Safari/537.36\"\"\n",
      "\"192.168.4.164 - - [22/Dec/2023:15:19:32 +0300] \"GET /DVWA/vulnerabilities/brute/ HTTP/1.1\" 200 1764 \"'\\\"--></style></scRipt><scRipt>netsparker(0x0000DB)</scRipt>\" \"Mozilla/5.0 (Windows NT 6.3; WOW64) AppleWebKit/537.36 (KHTML, like Gecko) Chrome/41.0.2272.16 Safari/537.36\"\"\n",
      "\"192.168.4.164 - - [22/Dec/2023:15:19:33 +0300] \"GET /DVWA/instructions.php HTTP/1.1\" 200 1451 \"'\\\"@--></style></scRipt><scRipt>netsparker(0x0000EA)</scRipt>\" \"Mozilla/5.0 (Windows NT 6.3; WOW64) AppleWebKit/537.36 (KHTML, like Gecko) Chrome/41.0.2272.16 Safari/537.36\"\"\n",
      "\"192.168.4.164 - - [22/Dec/2023:15:19:33 +0300] \"GET /DVWA/instructions.php HTTP/1.1\" 200 1451 \"'\\\"--></style></scRipt><scRipt>netsparker(0x0000E8)</scRipt>\" \"Mozilla/5.0 (Windows NT 6.3; WOW64) AppleWebKit/537.36 (KHTML, like Gecko) Chrome/41.0.2272.16 Safari/537.36\"\"\n",
      "\"192.168.4.164 - - [22/Dec/2023:15:19:33 +0300] \"GET /DVWA/instructions.php HTTP/1.1\" 200 1451 \"'\\\"--></style></scRipt><scRipt>netsparker(0x0000E9)</scRipt>\" \"Mozilla/5.0 (Windows NT 6.3; WOW64) AppleWebKit/537.36 (KHTML, like Gecko) Chrome/41.0.2272.16 Safari/537.36\"\"\n",
      "\"192.168.4.164 - - [22/Dec/2023:15:19:33 +0300] \"GET /DVWA/setup.php HTTP/1.1\" 200 1616 \"'\\\"--></style></scRipt><scRipt>netsparker(0x0000E4)</scRipt>\" \"Mozilla/5.0 (Windows NT 6.3; WOW64) AppleWebKit/537.36 (KHTML, like Gecko) Chrome/41.0.2272.16 Safari/537.36\"\"\n",
      "\"192.168.4.164 - - [22/Dec/2023:15:19:33 +0300] \"GET /DVWA/vulnerabilities/brute/ HTTP/1.1\" 200 1764 \"'\\\"@--></style></scRipt><scRipt>netsparker(0x0000DD)</scRipt>\" \"Mozilla/5.0 (Windows NT 6.3; WOW64) AppleWebKit/537.36 (KHTML, like Gecko) Chrome/41.0.2272.16 Safari/537.36\"\"\n",
      "\"192.168.4.164 - - [22/Dec/2023:15:19:34 +0300] \"GET /DVWA/instructions.php HTTP/1.1\" 200 1451 \"'\\\"@--></style></scRipt><scRipt>netsparker(0x0000EB)</scRipt>\" \"Mozilla/5.0 (Windows NT 6.3; WOW64) AppleWebKit/537.36 (KHTML, like Gecko) Chrome/41.0.2272.16 Safari/537.36\"\"\n",
      "\"192.168.4.164 - - [22/Dec/2023:15:19:34 +0300] \"GET /DVWA/setup.php HTTP/1.1\" 200 1616 \"'\\\"@--></style></scRipt><scRipt>netsparker(0x000106)</scRipt>\" \"Mozilla/5.0 (Windows NT 6.3; WOW64) AppleWebKit/537.36 (KHTML, like Gecko) Chrome/41.0.2272.16 Safari/537.36\"\"\n",
      "\"192.168.4.164 - - [22/Dec/2023:15:19:34 +0300] \"GET /DVWA/setup.php HTTP/1.1\" 200 1616 \"'\\\"@--></style></scRipt><scRipt>netsparker(0x000107)</scRipt>\" \"Mozilla/5.0 (Windows NT 6.3; WOW64) AppleWebKit/537.36 (KHTML, like Gecko) Chrome/41.0.2272.16 Safari/537.36\"\"\n",
      "\"192.168.4.164 - - [22/Dec/2023:15:19:34 +0300] \"GET /DVWA/setup.php HTTP/1.1\" 200 1616 \"'\\\"--></style></scRipt><scRipt>netsparker(0x0000E5)</scRipt>\" \"Mozilla/5.0 (Windows NT 6.3; WOW64) AppleWebKit/537.36 (KHTML, like Gecko) Chrome/41.0.2272.16 Safari/537.36\"\"\n",
      "\"192.168.4.164 - - [22/Dec/2023:15:19:34 +0300] \"GET /DVWA/vulnerabilities/exec/ HTTP/1.1\" 200 1709 \"() { :;}; echo \\\"NS:\\\" $(/bin/sh -c \\\"expr 268409241 - 2\\\")\" \"Mozilla/5.0 (Windows NT 6.3; WOW64) AppleWebKit/537.36 (KHTML, like Gecko) Chrome/41.0.2272.16 Safari/537.36\"\"\n",
      "\"192.168.4.164 - - [22/Dec/2023:15:19:35 +0300] \"GET /DVWA/vulnerabilities/csrf/ HTTP/1.1\" 200 1764 \"() { :;}; echo \\\"NS:\\\" $(/bin/sh -c \\\"expr 268409241 - 2\\\")\" \"Mozilla/5.0 (Windows NT 6.3; WOW64) AppleWebKit/537.36 (KHTML, like Gecko) Chrome/41.0.2272.16 Safari/537.36\"\"\n",
      "\"192.168.4.164 - - [22/Dec/2023:15:19:47 +0300] \"GET /DVWA/vulnerabilities/csrf/ HTTP/1.1\" 200 1763 \"'\\\"@--></style></scRipt><scRipt>netsparker(0x00011E)</scRipt>\" \"Mozilla/5.0 (Windows NT 6.3; WOW64) AppleWebKit/537.36 (KHTML, like Gecko) Chrome/41.0.2272.16 Safari/537.36\"\"\n",
      "\"192.168.4.164 - - [22/Dec/2023:15:19:47 +0300] \"GET /DVWA/vulnerabilities/csrf/ HTTP/1.1\" 200 1763 \"'\\\"@--></style></scRipt><scRipt>netsparker(0x00011F)</scRipt>\" \"Mozilla/5.0 (Windows NT 6.3; WOW64) AppleWebKit/537.36 (KHTML, like Gecko) Chrome/41.0.2272.16 Safari/537.36\"\"\n",
      "\"192.168.4.164 - - [22/Dec/2023:15:19:47 +0300] \"GET /DVWA/vulnerabilities/csrf/ HTTP/1.1\" 200 1763 \"'\\\"--></style></scRipt><scRipt>netsparker(0x00011C)</scRipt>\" \"Mozilla/5.0 (Windows NT 6.3; WOW64) AppleWebKit/537.36 (KHTML, like Gecko) Chrome/41.0.2272.16 Safari/537.36\"\"\n",
      "\"192.168.4.164 - - [22/Dec/2023:15:19:47 +0300] \"GET /DVWA/vulnerabilities/csrf/ HTTP/1.1\" 200 1763 \"'\\\"--></style></scRipt><scRipt>netsparker(0x00011D)</scRipt>\" \"Mozilla/5.0 (Windows NT 6.3; WOW64) AppleWebKit/537.36 (KHTML, like Gecko) Chrome/41.0.2272.16 Safari/537.36\"\"\n",
      "\"192.168.4.164 - - [22/Dec/2023:15:19:49 +0300] \"GET /DVWA/vulnerabilities/exec/ HTTP/1.1\" 200 1708 \"'\\\"@--></style></scRipt><scRipt>netsparker(0x000136)</scRipt>\" \"Mozilla/5.0 (Windows NT 6.3; WOW64) AppleWebKit/537.36 (KHTML, like Gecko) Chrome/41.0.2272.16 Safari/537.36\"\"\n",
      "\"192.168.4.164 - - [22/Dec/2023:15:19:49 +0300] \"GET /DVWA/vulnerabilities/exec/ HTTP/1.1\" 200 1708 \"'\\\"@--></style></scRipt><scRipt>netsparker(0x000137)</scRipt>\" \"Mozilla/5.0 (Windows NT 6.3; WOW64) AppleWebKit/537.36 (KHTML, like Gecko) Chrome/41.0.2272.16 Safari/537.36\"\"\n",
      "\"192.168.4.164 - - [22/Dec/2023:15:19:49 +0300] \"GET /DVWA/vulnerabilities/exec/ HTTP/1.1\" 200 1708 \"'\\\"--></style></scRipt><scRipt>netsparker(0x000134)</scRipt>\" \"Mozilla/5.0 (Windows NT 6.3; WOW64) AppleWebKit/537.36 (KHTML, like Gecko) Chrome/41.0.2272.16 Safari/537.36\"\"\n",
      "\"192.168.4.164 - - [22/Dec/2023:15:19:49 +0300] \"GET /DVWA/vulnerabilities/exec/ HTTP/1.1\" 200 1708 \"'\\\"--></style></scRipt><scRipt>netsparker(0x000135)</scRipt>\" \"Mozilla/5.0 (Windows NT 6.3; WOW64) AppleWebKit/537.36 (KHTML, like Gecko) Chrome/41.0.2272.16 Safari/537.36\"\"\n",
      "\"192.168.4.164 - - [22/Dec/2023:15:19:51 +0300] \"GET /DVWA/vulnerabilities/captcha/ HTTP/1.1\" 200 1988 \"() { :;}; echo \\\"NS:\\\" $(/bin/sh -c \\\"expr 268409241 - 2\\\")\" \"Mozilla/5.0 (Windows NT 6.3; WOW64) AppleWebKit/537.36 (KHTML, like Gecko) Chrome/41.0.2272.16 Safari/537.36\"\"\n",
      "\"192.168.4.164 - - [22/Dec/2023:15:19:51 +0300] \"GET /DVWA/vulnerabilities/captcha/ HTTP/1.1\" 200 1988 \"'\\\"--></style></scRipt><scRipt>netsparker(0x000158)</scRipt>\" \"Mozilla/5.0 (Windows NT 6.3; WOW64) AppleWebKit/537.36 (KHTML, like Gecko) Chrome/41.0.2272.16 Safari/537.36\"\"\n",
      "\"192.168.4.164 - - [22/Dec/2023:15:19:51 +0300] \"GET /DVWA/vulnerabilities/captcha/ HTTP/1.1\" 200 1988 \"'\\\"--></style></scRipt><scRipt>netsparker(0x000159)</scRipt>\" \"Mozilla/5.0 (Windows NT 6.3; WOW64) AppleWebKit/537.36 (KHTML, like Gecko) Chrome/41.0.2272.16 Safari/537.36\"\"\n",
      "\"192.168.4.164 - - [22/Dec/2023:15:19:52 +0300] \"GET /DVWA/vulnerabilities/captcha/ HTTP/1.1\" 200 1988 \"'\\\"@--></style></scRipt><scRipt>netsparker(0x00015A)</scRipt>\" \"Mozilla/5.0 (Windows NT 6.3; WOW64) AppleWebKit/537.36 (KHTML, like Gecko) Chrome/41.0.2272.16 Safari/537.36\"\"\n",
      "\"192.168.4.164 - - [22/Dec/2023:15:19:52 +0300] \"GET /DVWA/vulnerabilities/captcha/ HTTP/1.1\" 200 1988 \"'\\\"@--></style></scRipt><scRipt>netsparker(0x00015B)</scRipt>\" \"Mozilla/5.0 (Windows NT 6.3; WOW64) AppleWebKit/537.36 (KHTML, like Gecko) Chrome/41.0.2272.16 Safari/537.36\"\"\n",
      "\"192.168.4.164 - - [22/Dec/2023:15:19:53 +0300] \"GET /DVWA/vulnerabilities/fi/ HTTP/1.1\" 200 1494 \"() { :;}; echo \\\"NS:\\\" $(/bin/sh -c \\\"expr 268409241 - 2\\\")\" \"Mozilla/5.0 (Windows NT 6.3; WOW64) AppleWebKit/537.36 (KHTML, like Gecko) Chrome/41.0.2272.16 Safari/537.36\"\"\n",
      "\"192.168.4.164 - - [22/Dec/2023:15:19:53 +0300] \"GET /DVWA/vulnerabilities/fi/ HTTP/1.1\" 200 1494 \"'\\\"--></style></scRipt><scRipt>netsparker(0x000172)</scRipt>\" \"Mozilla/5.0 (Windows NT 6.3; WOW64) AppleWebKit/537.36 (KHTML, like Gecko) Chrome/41.0.2272.16 Safari/537.36\"\"\n",
      "\"192.168.4.164 - - [22/Dec/2023:15:19:53 +0300] \"GET /DVWA/vulnerabilities/fi/ HTTP/1.1\" 200 1494 \"'\\\"--></style></scRipt><scRipt>netsparker(0x000173)</scRipt>\" \"Mozilla/5.0 (Windows NT 6.3; WOW64) AppleWebKit/537.36 (KHTML, like Gecko) Chrome/41.0.2272.16 Safari/537.36\"\"\n",
      "\"192.168.4.164 - - [22/Dec/2023:15:19:54 +0300] \"GET /DVWA/vulnerabilities/fi/ HTTP/1.1\" 200 1494 \"'\\\"@--></style></scRipt><scRipt>netsparker(0x000174)</scRipt>\" \"Mozilla/5.0 (Windows NT 6.3; WOW64) AppleWebKit/537.36 (KHTML, like Gecko) Chrome/41.0.2272.16 Safari/537.36\"\"\n",
      "\"192.168.4.164 - - [22/Dec/2023:15:19:54 +0300] \"GET /DVWA/vulnerabilities/fi/ HTTP/1.1\" 200 1494 \"'\\\"@--></style></scRipt><scRipt>netsparker(0x000175)</scRipt>\" \"Mozilla/5.0 (Windows NT 6.3; WOW64) AppleWebKit/537.36 (KHTML, like Gecko) Chrome/41.0.2272.16 Safari/537.36\"\"\n",
      "\"192.168.4.164 - - [22/Dec/2023:15:20:00 +0300] \"GET /DVWA/vulnerabilities/fi/?page=include.php HTTP/1.1\" 200 1637 \"() { :;}; echo \\\"NS:\\\" $(/bin/sh -c \\\"expr 268409241 - 2\\\")\" \"Mozilla/5.0 (Windows NT 6.3; WOW64) AppleWebKit/537.36 (KHTML, like Gecko) Chrome/41.0.2272.16 Safari/537.36\"\"\n",
      "\"192.168.4.164 - - [22/Dec/2023:15:20:03 +0300] \"GET /DVWA/vulnerabilities/sqli/ HTTP/1.1\" 200 1730 \"() { :;}; echo \\\"NS:\\\" $(/bin/sh -c \\\"expr 268409241 - 2\\\")\" \"Mozilla/5.0 (Windows NT 6.3; WOW64) AppleWebKit/537.36 (KHTML, like Gecko) Chrome/41.0.2272.16 Safari/537.36\"\"\n",
      "\"192.168.4.164 - - [22/Dec/2023:15:20:04 +0300] \"GET /DVWA/vulnerabilities/sqli/ HTTP/1.1\" 200 1730 \"'\\\"@--></style></scRipt><scRipt>netsparker(0x000194)</scRipt>\" \"Mozilla/5.0 (Windows NT 6.3; WOW64) AppleWebKit/537.36 (KHTML, like Gecko) Chrome/41.0.2272.16 Safari/537.36\"\"\n",
      "\"192.168.4.164 - - [22/Dec/2023:15:20:04 +0300] \"GET /DVWA/vulnerabilities/sqli/ HTTP/1.1\" 200 1730 \"'\\\"@--></style></scRipt><scRipt>netsparker(0x000195)</scRipt>\" \"Mozilla/5.0 (Windows NT 6.3; WOW64) AppleWebKit/537.36 (KHTML, like Gecko) Chrome/41.0.2272.16 Safari/537.36\"\"\n",
      "\"192.168.4.164 - - [22/Dec/2023:15:20:04 +0300] \"GET /DVWA/vulnerabilities/sqli/ HTTP/1.1\" 200 1730 \"'\\\"--></style></scRipt><scRipt>netsparker(0x000192)</scRipt>\" \"Mozilla/5.0 (Windows NT 6.3; WOW64) AppleWebKit/537.36 (KHTML, like Gecko) Chrome/41.0.2272.16 Safari/537.36\"\"\n",
      "\"192.168.4.164 - - [22/Dec/2023:15:20:04 +0300] \"GET /DVWA/vulnerabilities/sqli/ HTTP/1.1\" 200 1730 \"'\\\"--></style></scRipt><scRipt>netsparker(0x000193)</scRipt>\" \"Mozilla/5.0 (Windows NT 6.3; WOW64) AppleWebKit/537.36 (KHTML, like Gecko) Chrome/41.0.2272.16 Safari/537.36\"\"\n",
      "\"192.168.4.164 - - [22/Dec/2023:15:20:06 +0300] \"GET /DVWA/vulnerabilities/sqli_blind/ HTTP/1.1\" 200 1739 \"() { :;}; echo \\\"NS:\\\" $(/bin/sh -c \\\"expr 268409241 - 2\\\")\" \"Mozilla/5.0 (Windows NT 6.3; WOW64) AppleWebKit/537.36 (KHTML, like Gecko) Chrome/41.0.2272.16 Safari/537.36\"\"\n",
      "\"192.168.4.164 - - [22/Dec/2023:15:20:07 +0300] \"GET /DVWA/vulnerabilities/sqli_blind/ HTTP/1.1\" 200 1739 \"'\\\"@--></style></scRipt><scRipt>netsparker(0x0001AE)</scRipt>\" \"Mozilla/5.0 (Windows NT 6.3; WOW64) AppleWebKit/537.36 (KHTML, like Gecko) Chrome/41.0.2272.16 Safari/537.36\"\"\n",
      "\"192.168.4.164 - - [22/Dec/2023:15:20:07 +0300] \"GET /DVWA/vulnerabilities/sqli_blind/ HTTP/1.1\" 200 1739 \"'\\\"@--></style></scRipt><scRipt>netsparker(0x0001AF)</scRipt>\" \"Mozilla/5.0 (Windows NT 6.3; WOW64) AppleWebKit/537.36 (KHTML, like Gecko) Chrome/41.0.2272.16 Safari/537.36\"\"\n",
      "\"192.168.4.164 - - [22/Dec/2023:15:20:07 +0300] \"GET /DVWA/vulnerabilities/sqli_blind/ HTTP/1.1\" 200 1739 \"'\\\"--></style></scRipt><scRipt>netsparker(0x0001AC)</scRipt>\" \"Mozilla/5.0 (Windows NT 6.3; WOW64) AppleWebKit/537.36 (KHTML, like Gecko) Chrome/41.0.2272.16 Safari/537.36\"\"\n",
      "\"192.168.4.164 - - [22/Dec/2023:15:20:07 +0300] \"GET /DVWA/vulnerabilities/sqli_blind/ HTTP/1.1\" 200 1739 \"'\\\"--></style></scRipt><scRipt>netsparker(0x0001AD)</scRipt>\" \"Mozilla/5.0 (Windows NT 6.3; WOW64) AppleWebKit/537.36 (KHTML, like Gecko) Chrome/41.0.2272.16 Safari/537.36\"\"\n",
      "\"192.168.4.164 - - [22/Dec/2023:15:20:07 +0300] \"GET /DVWA/vulnerabilities/upload/ HTTP/1.1\" 200 1766 \"() { :;}; echo \\\"NS:\\\" $(/bin/sh -c \\\"expr 268409241 - 2\\\")\" \"Mozilla/5.0 (Windows NT 6.3; WOW64) AppleWebKit/537.36 (KHTML, like Gecko) Chrome/41.0.2272.16 Safari/537.36\"\"\n",
      "\"192.168.4.164 - - [22/Dec/2023:15:20:09 +0300] \"GET /DVWA/vulnerabilities/upload/ HTTP/1.1\" 200 1766 \"'\\\"@--></style></scRipt><scRipt>netsparker(0x0001C8)</scRipt>\" \"Mozilla/5.0 (Windows NT 6.3; WOW64) AppleWebKit/537.36 (KHTML, like Gecko) Chrome/41.0.2272.16 Safari/537.36\"\"\n",
      "\"192.168.4.164 - - [22/Dec/2023:15:20:09 +0300] \"GET /DVWA/vulnerabilities/upload/ HTTP/1.1\" 200 1766 \"'\\\"@--></style></scRipt><scRipt>netsparker(0x0001C9)</scRipt>\" \"Mozilla/5.0 (Windows NT 6.3; WOW64) AppleWebKit/537.36 (KHTML, like Gecko) Chrome/41.0.2272.16 Safari/537.36\"\"\n",
      "\"192.168.4.164 - - [22/Dec/2023:15:20:09 +0300] \"GET /DVWA/vulnerabilities/upload/ HTTP/1.1\" 200 1766 \"'\\\"--></style></scRipt><scRipt>netsparker(0x0001C6)</scRipt>\" \"Mozilla/5.0 (Windows NT 6.3; WOW64) AppleWebKit/537.36 (KHTML, like Gecko) Chrome/41.0.2272.16 Safari/537.36\"\"\n",
      "\"192.168.4.164 - - [22/Dec/2023:15:20:09 +0300] \"GET /DVWA/vulnerabilities/upload/ HTTP/1.1\" 200 1766 \"'\\\"--></style></scRipt><scRipt>netsparker(0x0001C7)</scRipt>\" \"Mozilla/5.0 (Windows NT 6.3; WOW64) AppleWebKit/537.36 (KHTML, like Gecko) Chrome/41.0.2272.16 Safari/537.36\"\"\n",
      "\"192.168.4.164 - - [22/Dec/2023:15:20:10 +0300] \"GET /DVWA/vulnerabilities/xss_r/ HTTP/1.1\" 200 1690 \"() { :;}; echo \\\"NS:\\\" $(/bin/sh -c \\\"expr 268409241 - 2\\\")\" \"Mozilla/5.0 (Windows NT 6.3; WOW64) AppleWebKit/537.36 (KHTML, like Gecko) Chrome/41.0.2272.16 Safari/537.36\"\"\n",
      "\"192.168.4.164 - - [22/Dec/2023:15:20:10 +0300] \"GET /DVWA/vulnerabilities/xss_r/ HTTP/1.1\" 200 1690 \"'\\\"@--></style></scRipt><scRipt>netsparker(0x0001E2)</scRipt>\" \"Mozilla/5.0 (Windows NT 6.3; WOW64) AppleWebKit/537.36 (KHTML, like Gecko) Chrome/41.0.2272.16 Safari/537.36\"\"\n",
      "\"192.168.4.164 - - [22/Dec/2023:15:20:10 +0300] \"GET /DVWA/vulnerabilities/xss_r/ HTTP/1.1\" 200 1690 \"'\\\"@--></style></scRipt><scRipt>netsparker(0x0001E3)</scRipt>\" \"Mozilla/5.0 (Windows NT 6.3; WOW64) AppleWebKit/537.36 (KHTML, like Gecko) Chrome/41.0.2272.16 Safari/537.36\"\"\n",
      "\"192.168.4.164 - - [22/Dec/2023:15:20:10 +0300] \"GET /DVWA/vulnerabilities/xss_r/ HTTP/1.1\" 200 1690 \"'\\\"--></style></scRipt><scRipt>netsparker(0x0001E0)</scRipt>\" \"Mozilla/5.0 (Windows NT 6.3; WOW64) AppleWebKit/537.36 (KHTML, like Gecko) Chrome/41.0.2272.16 Safari/537.36\"\"\n",
      "\"192.168.4.164 - - [22/Dec/2023:15:20:10 +0300] \"GET /DVWA/vulnerabilities/xss_r/ HTTP/1.1\" 200 1690 \"'\\\"--></style></scRipt><scRipt>netsparker(0x0001E1)</scRipt>\" \"Mozilla/5.0 (Windows NT 6.3; WOW64) AppleWebKit/537.36 (KHTML, like Gecko) Chrome/41.0.2272.16 Safari/537.36\"\"\n",
      "\"192.168.4.164 - - [22/Dec/2023:15:20:11 +0300] \"GET /DVWA/vulnerabilities/fi/?page=include.php HTTP/1.1\" 200 1637 \"'\\\"@--></style></scRipt><scRipt>netsparker(0x0001EA)</scRipt>\" \"Mozilla/5.0 (Windows NT 6.3; WOW64) AppleWebKit/537.36 (KHTML, like Gecko) Chrome/41.0.2272.16 Safari/537.36\"\"\n",
      "\"192.168.4.164 - - [22/Dec/2023:15:20:11 +0300] \"GET /DVWA/vulnerabilities/fi/?page=include.php HTTP/1.1\" 200 1637 \"'\\\"@--></style></scRipt><scRipt>netsparker(0x0001EB)</scRipt>\" \"Mozilla/5.0 (Windows NT 6.3; WOW64) AppleWebKit/537.36 (KHTML, like Gecko) Chrome/41.0.2272.16 Safari/537.36\"\"\n",
      "\"192.168.4.164 - - [22/Dec/2023:15:20:11 +0300] \"GET /DVWA/vulnerabilities/fi/?page=include.php HTTP/1.1\" 200 1637 \"'\\\"--></style></scRipt><scRipt>netsparker(0x0001E8)</scRipt>\" \"Mozilla/5.0 (Windows NT 6.3; WOW64) AppleWebKit/537.36 (KHTML, like Gecko) Chrome/41.0.2272.16 Safari/537.36\"\"\n",
      "\"192.168.4.164 - - [22/Dec/2023:15:20:11 +0300] \"GET /DVWA/vulnerabilities/fi/?page=include.php HTTP/1.1\" 200 1637 \"'\\\"--></style></scRipt><scRipt>netsparker(0x0001E9)</scRipt>\" \"Mozilla/5.0 (Windows NT 6.3; WOW64) AppleWebKit/537.36 (KHTML, like Gecko) Chrome/41.0.2272.16 Safari/537.36\"\"\n",
      "\"192.168.4.164 - - [22/Dec/2023:15:20:12 +0300] \"GET /DVWA/security.php HTTP/1.1\" 200 1802 \"() { :;}; echo \\\"NS:\\\" $(/bin/sh -c \\\"expr 268409241 - 2\\\")\" \"Mozilla/5.0 (Windows NT 6.3; WOW64) AppleWebKit/537.36 (KHTML, like Gecko) Chrome/41.0.2272.16 Safari/537.36\"\"\n",
      "\"192.168.4.164 - - [22/Dec/2023:15:20:13 +0300] \"GET /DVWA/security.php HTTP/1.1\" 200 1802 \"'\\\"@--></style></scRipt><scRipt>netsparker(0x000204)</scRipt>\" \"Mozilla/5.0 (Windows NT 6.3; WOW64) AppleWebKit/537.36 (KHTML, like Gecko) Chrome/41.0.2272.16 Safari/537.36\"\"\n",
      "\"192.168.4.164 - - [22/Dec/2023:15:20:13 +0300] \"GET /DVWA/security.php HTTP/1.1\" 200 1802 \"'\\\"@--></style></scRipt><scRipt>netsparker(0x000205)</scRipt>\" \"Mozilla/5.0 (Windows NT 6.3; WOW64) AppleWebKit/537.36 (KHTML, like Gecko) Chrome/41.0.2272.16 Safari/537.36\"\"\n",
      "\"192.168.4.164 - - [22/Dec/2023:15:20:13 +0300] \"GET /DVWA/security.php HTTP/1.1\" 200 1802 \"'\\\"--></style></scRipt><scRipt>netsparker(0x000202)</scRipt>\" \"Mozilla/5.0 (Windows NT 6.3; WOW64) AppleWebKit/537.36 (KHTML, like Gecko) Chrome/41.0.2272.16 Safari/537.36\"\"\n",
      "\"192.168.4.164 - - [22/Dec/2023:15:20:13 +0300] \"GET /DVWA/security.php HTTP/1.1\" 200 1802 \"'\\\"--></style></scRipt><scRipt>netsparker(0x000203)</scRipt>\" \"Mozilla/5.0 (Windows NT 6.3; WOW64) AppleWebKit/537.36 (KHTML, like Gecko) Chrome/41.0.2272.16 Safari/537.36\"\"\n",
      "\"192.168.4.164 - - [22/Dec/2023:15:20:14 +0300] \"GET /DVWA/about.php HTTP/1.1\" 200 2282 \"() { :;}; echo \\\"NS:\\\" $(/bin/sh -c \\\"expr 268409241 - 2\\\")\" \"Mozilla/5.0 (Windows NT 6.3; WOW64) AppleWebKit/537.36 (KHTML, like Gecko) Chrome/41.0.2272.16 Safari/537.36\"\"\n",
      "\"192.168.4.164 - - [22/Dec/2023:15:20:14 +0300] \"GET /DVWA/about.php HTTP/1.1\" 200 2282 \"'\\\"@--></style></scRipt><scRipt>netsparker(0x000214)</scRipt>\" \"Mozilla/5.0 (Windows NT 6.3; WOW64) AppleWebKit/537.36 (KHTML, like Gecko) Chrome/41.0.2272.16 Safari/537.36\"\"\n",
      "\"192.168.4.164 - - [22/Dec/2023:15:20:14 +0300] \"GET /DVWA/about.php HTTP/1.1\" 200 2282 \"'\\\"@--></style></scRipt><scRipt>netsparker(0x000215)</scRipt>\" \"Mozilla/5.0 (Windows NT 6.3; WOW64) AppleWebKit/537.36 (KHTML, like Gecko) Chrome/41.0.2272.16 Safari/537.36\"\"\n",
      "\"192.168.4.164 - - [22/Dec/2023:15:20:14 +0300] \"GET /DVWA/about.php HTTP/1.1\" 200 2282 \"'\\\"--></style></scRipt><scRipt>netsparker(0x000212)</scRipt>\" \"Mozilla/5.0 (Windows NT 6.3; WOW64) AppleWebKit/537.36 (KHTML, like Gecko) Chrome/41.0.2272.16 Safari/537.36\"\"\n",
      "\"192.168.4.164 - - [22/Dec/2023:15:20:14 +0300] \"GET /DVWA/about.php HTTP/1.1\" 200 2282 \"'\\\"--></style></scRipt><scRipt>netsparker(0x000213)</scRipt>\" \"Mozilla/5.0 (Windows NT 6.3; WOW64) AppleWebKit/537.36 (KHTML, like Gecko) Chrome/41.0.2272.16 Safari/537.36\"\"\n",
      "\"192.168.4.164 - - [22/Dec/2023:15:20:16 +0300] \"GET /DVWA/include.php HTTP/1.1\" 404 507 \"() { :;}; echo \\\"NS:\\\" $(/bin/sh -c \\\"expr 268409241 - 2\\\")\" \"Mozilla/5.0 (Windows NT 6.3; WOW64) AppleWebKit/537.36 (KHTML, like Gecko) Chrome/41.0.2272.16 Safari/537.36\"\"\n",
      "\"192.168.4.164 - - [22/Dec/2023:15:20:16 +0300] \"GET /DVWA/include.php HTTP/1.1\" 404 507 \"'\\\"@--></style></scRipt><scRipt>netsparker(0x000238)</scRipt>\" \"Mozilla/5.0 (Windows NT 6.3; WOW64) AppleWebKit/537.36 (KHTML, like Gecko) Chrome/41.0.2272.16 Safari/537.36\"\"\n",
      "\"192.168.4.164 - - [22/Dec/2023:15:20:16 +0300] \"GET /DVWA/include.php HTTP/1.1\" 404 507 \"'\\\"@--></style></scRipt><scRipt>netsparker(0x000239)</scRipt>\" \"Mozilla/5.0 (Windows NT 6.3; WOW64) AppleWebKit/537.36 (KHTML, like Gecko) Chrome/41.0.2272.16 Safari/537.36\"\"\n",
      "\"192.168.4.164 - - [22/Dec/2023:15:20:16 +0300] \"GET /DVWA/include.php HTTP/1.1\" 404 507 \"'\\\"--></style></scRipt><scRipt>netsparker(0x000236)</scRipt>\" \"Mozilla/5.0 (Windows NT 6.3; WOW64) AppleWebKit/537.36 (KHTML, like Gecko) Chrome/41.0.2272.16 Safari/537.36\"\"\n",
      "\"192.168.4.164 - - [22/Dec/2023:15:20:16 +0300] \"GET /DVWA/include.php HTTP/1.1\" 404 507 \"'\\\"--></style></scRipt><scRipt>netsparker(0x000237)</scRipt>\" \"Mozilla/5.0 (Windows NT 6.3; WOW64) AppleWebKit/537.36 (KHTML, like Gecko) Chrome/41.0.2272.16 Safari/537.36\"\"\n",
      "\"192.168.4.164 - - [22/Dec/2023:15:20:17 +0300] \"GET /DVWA/vulnerabilities/xss_s/ HTTP/1.1\" 200 1921 \"() { :;}; echo \\\"NS:\\\" $(/bin/sh -c \\\"expr 268409241 - 2\\\")\" \"Mozilla/5.0 (Windows NT 6.3; WOW64) AppleWebKit/537.36 (KHTML, like Gecko) Chrome/41.0.2272.16 Safari/537.36\"\"\n",
      "\"192.168.4.164 - - [22/Dec/2023:15:20:18 +0300] \"GET /DVWA/phpinfo.php HTTP/1.1\" 200 19554 \"() { :;}; echo \\\"NS:\\\" $(/bin/sh -c \\\"expr 268409241 - 2\\\")\" \"Mozilla/5.0 (Windows NT 6.3; WOW64) AppleWebKit/537.36 (KHTML, like Gecko) Chrome/41.0.2272.16 Safari/537.36\"\"\n",
      "\"192.168.4.164 - - [22/Dec/2023:15:20:18 +0300] \"GET /DVWA/vulnerabilities/xss_s/ HTTP/1.1\" 200 1921 \"'\\\"@--></style></scRipt><scRipt>netsparker(0x000252)</scRipt>\" \"Mozilla/5.0 (Windows NT 6.3; WOW64) AppleWebKit/537.36 (KHTML, like Gecko) Chrome/41.0.2272.16 Safari/537.36\"\"\n",
      "\"192.168.4.164 - - [22/Dec/2023:15:20:18 +0300] \"GET /DVWA/vulnerabilities/xss_s/ HTTP/1.1\" 200 1921 \"'\\\"@--></style></scRipt><scRipt>netsparker(0x000253)</scRipt>\" \"Mozilla/5.0 (Windows NT 6.3; WOW64) AppleWebKit/537.36 (KHTML, like Gecko) Chrome/41.0.2272.16 Safari/537.36\"\"\n",
      "\"192.168.4.164 - - [22/Dec/2023:15:20:18 +0300] \"GET /DVWA/vulnerabilities/xss_s/ HTTP/1.1\" 200 1921 \"'\\\"--></style></scRipt><scRipt>netsparker(0x000250)</scRipt>\" \"Mozilla/5.0 (Windows NT 6.3; WOW64) AppleWebKit/537.36 (KHTML, like Gecko) Chrome/41.0.2272.16 Safari/537.36\"\"\n",
      "\"192.168.4.164 - - [22/Dec/2023:15:20:18 +0300] \"GET /DVWA/vulnerabilities/xss_s/ HTTP/1.1\" 200 1921 \"'\\\"--></style></scRipt><scRipt>netsparker(0x000251)</scRipt>\" \"Mozilla/5.0 (Windows NT 6.3; WOW64) AppleWebKit/537.36 (KHTML, like Gecko) Chrome/41.0.2272.16 Safari/537.36\"\"\n",
      "\"192.168.4.164 - - [22/Dec/2023:15:20:22 +0300] \"GET /DVWA/phpinfo.php HTTP/1.1\" 200 19528 \"'\\\"--></style></scRipt><scRipt>netsparker(0x00026A)</scRipt>\" \"Mozilla/5.0 (Windows NT 6.3; WOW64) AppleWebKit/537.36 (KHTML, like Gecko) Chrome/41.0.2272.16 Safari/537.36\"\"\n",
      "\"192.168.4.164 - - [22/Dec/2023:15:20:23 +0300] \"GET /DVWA/phpinfo.php HTTP/1.1\" 200 19530 \"'\\\"--></style></scRipt><scRipt>netsparker(0x00026B)</scRipt>\" \"Mozilla/5.0 (Windows NT 6.3; WOW64) AppleWebKit/537.36 (KHTML, like Gecko) Chrome/41.0.2272.16 Safari/537.36\"\"\n",
      "\"192.168.4.164 - - [22/Dec/2023:15:20:24 +0300] \"GET /DVWA/dvwa/css/login.css HTTP/1.1\" 200 668 \"() { :;}; echo \\\"NS:\\\" $(/bin/sh -c \\\"expr 268409241 - 2\\\")\" \"Mozilla/5.0 (Windows NT 6.3; WOW64) AppleWebKit/537.36 (KHTML, like Gecko) Chrome/41.0.2272.16 Safari/537.36\"\"\n",
      "\"192.168.4.164 - - [22/Dec/2023:15:20:24 +0300] \"GET /DVWA/dvwa/css/login.css HTTP/1.1\" 200 668 \"'\\\"@--></style></scRipt><scRipt>netsparker(0x000274)</scRipt>\" \"Mozilla/5.0 (Windows NT 6.3; WOW64) AppleWebKit/537.36 (KHTML, like Gecko) Chrome/41.0.2272.16 Safari/537.36\"\"\n",
      "\"192.168.4.164 - - [22/Dec/2023:15:20:24 +0300] \"GET /DVWA/dvwa/css/login.css HTTP/1.1\" 200 668 \"'\\\"@--></style></scRipt><scRipt>netsparker(0x000275)</scRipt>\" \"Mozilla/5.0 (Windows NT 6.3; WOW64) AppleWebKit/537.36 (KHTML, like Gecko) Chrome/41.0.2272.16 Safari/537.36\"\"\n",
      "\"192.168.4.164 - - [22/Dec/2023:15:20:24 +0300] \"GET /DVWA/dvwa/css/login.css HTTP/1.1\" 200 668 \"'\\\"--></style></scRipt><scRipt>netsparker(0x000272)</scRipt>\" \"Mozilla/5.0 (Windows NT 6.3; WOW64) AppleWebKit/537.36 (KHTML, like Gecko) Chrome/41.0.2272.16 Safari/537.36\"\"\n",
      "\"192.168.4.164 - - [22/Dec/2023:15:20:24 +0300] \"GET /DVWA/dvwa/css/login.css HTTP/1.1\" 200 668 \"'\\\"--></style></scRipt><scRipt>netsparker(0x000273)</scRipt>\" \"Mozilla/5.0 (Windows NT 6.3; WOW64) AppleWebKit/537.36 (KHTML, like Gecko) Chrome/41.0.2272.16 Safari/537.36\"\"\n",
      "\"192.168.4.164 - - [22/Dec/2023:15:20:24 +0300] \"GET /DVWA/phpinfo.php HTTP/1.1\" 200 19531 \"'\\\"@--></style></scRipt><scRipt>netsparker(0x00026C)</scRipt>\" \"Mozilla/5.0 (Windows NT 6.3; WOW64) AppleWebKit/537.36 (KHTML, like Gecko) Chrome/41.0.2272.16 Safari/537.36\"\"\n",
      "\"192.168.4.164 - - [22/Dec/2023:15:20:24 +0300] \"GET /DVWA/phpinfo.php HTTP/1.1\" 200 19533 \"'\\\"@--></style></scRipt><scRipt>netsparker(0x00026D)</scRipt>\" \"Mozilla/5.0 (Windows NT 6.3; WOW64) AppleWebKit/537.36 (KHTML, like Gecko) Chrome/41.0.2272.16 Safari/537.36\"\"\n",
      "\"192.168.4.164 - - [22/Dec/2023:15:20:25 +0300] \"GET /DVWA/login.php HTTP/1.1\" 200 986 \"() { :;}; echo \\\"NS:\\\" $(/bin/sh -c \\\"expr 268409241 - 2\\\")\" \"Mozilla/5.0 (Windows NT 6.3; WOW64) AppleWebKit/537.36 (KHTML, like Gecko) Chrome/41.0.2272.16 Safari/537.36\"\"\n",
      "\"192.168.4.164 - - [22/Dec/2023:15:20:26 +0300] \"GET /DVWA/login.php HTTP/1.1\" 200 986 \"'\\\"@--></style></scRipt><scRipt>netsparker(0x000294)</scRipt>\" \"Mozilla/5.0 (Windows NT 6.3; WOW64) AppleWebKit/537.36 (KHTML, like Gecko) Chrome/41.0.2272.16 Safari/537.36\"\"\n",
      "\"192.168.4.164 - - [22/Dec/2023:15:20:26 +0300] \"GET /DVWA/login.php HTTP/1.1\" 200 986 \"'\\\"@--></style></scRipt><scRipt>netsparker(0x000295)</scRipt>\" \"Mozilla/5.0 (Windows NT 6.3; WOW64) AppleWebKit/537.36 (KHTML, like Gecko) Chrome/41.0.2272.16 Safari/537.36\"\"\n",
      "\"192.168.4.164 - - [22/Dec/2023:15:20:26 +0300] \"GET /DVWA/login.php HTTP/1.1\" 200 986 \"'\\\"--></style></scRipt><scRipt>netsparker(0x000292)</scRipt>\" \"Mozilla/5.0 (Windows NT 6.3; WOW64) AppleWebKit/537.36 (KHTML, like Gecko) Chrome/41.0.2272.16 Safari/537.36\"\"\n",
      "\"192.168.4.164 - - [22/Dec/2023:15:20:26 +0300] \"GET /DVWA/login.php HTTP/1.1\" 200 986 \"'\\\"--></style></scRipt><scRipt>netsparker(0x000293)</scRipt>\" \"Mozilla/5.0 (Windows NT 6.3; WOW64) AppleWebKit/537.36 (KHTML, like Gecko) Chrome/41.0.2272.16 Safari/537.36\"\"\n",
      "\"192.168.4.164 - - [22/Dec/2023:15:20:34 +0300] \"POST /DVWA/login.php HTTP/1.1\" 302 384 \"() { :;}; echo \\\"NS:\\\" $(/bin/sh -c \\\"expr 268409241 - 2\\\")\" \"Mozilla/5.0 (Windows NT 6.3; WOW64) AppleWebKit/537.36 (KHTML, like Gecko) Chrome/41.0.2272.16 Safari/537.36\"\"\n",
      "\"192.168.4.164 - - [22/Dec/2023:15:20:34 +0300] \"POST /DVWA/login.php HTTP/1.1\" 302 384 \"() { :;}; echo \\\"NS:\\\" $(/bin/sh -c \\\"expr 268409241 - 2\\\")\" \"Mozilla/5.0 (Windows NT 6.3; WOW64) AppleWebKit/537.36 (KHTML, like Gecko) Chrome/41.0.2272.16 Safari/537.36\"\"\n",
      "\"192.168.4.164 - - [22/Dec/2023:15:20:39 +0300] \"GET /DVWA/vulnerabilities/?C=N;O=D HTTP/1.1\" 200 857 \"() { :;}; echo \\\"NS:\\\" $(/bin/sh -c \\\"expr 268409241 - 2\\\")\" \"Mozilla/5.0 (Windows NT 6.3; WOW64) AppleWebKit/537.36 (KHTML, like Gecko) Chrome/41.0.2272.16 Safari/537.36\"\"\n",
      "\"192.168.4.164 - - [22/Dec/2023:15:20:43 +0300] \"GET /DVWA/vulnerabilities/view_help.php HTTP/1.1\" 200 763 \"() { :;}; echo \\\"NS:\\\" $(/bin/sh -c \\\"expr 268409241 - 2\\\")\" \"Mozilla/5.0 (Windows NT 6.3; WOW64) AppleWebKit/537.36 (KHTML, like Gecko) Chrome/41.0.2272.16 Safari/537.36\"\"\n",
      "\"192.168.4.164 - - [22/Dec/2023:15:20:43 +0300] \"GET /DVWA/vulnerabilities/view_help.php HTTP/1.1\" 200 763 \"'\\\"--></style></scRipt><scRipt>netsparker(0x00030E)</scRipt>\" \"Mozilla/5.0 (Windows NT 6.3; WOW64) AppleWebKit/537.36 (KHTML, like Gecko) Chrome/41.0.2272.16 Safari/537.36\"\"\n",
      "\"192.168.4.164 - - [22/Dec/2023:15:20:43 +0300] \"GET /DVWA/vulnerabilities/view_help.php HTTP/1.1\" 200 763 \"'\\\"--></style></scRipt><scRipt>netsparker(0x00030F)</scRipt>\" \"Mozilla/5.0 (Windows NT 6.3; WOW64) AppleWebKit/537.36 (KHTML, like Gecko) Chrome/41.0.2272.16 Safari/537.36\"\"\n",
      "\"192.168.4.164 - - [22/Dec/2023:15:20:44 +0300] \"GET /DVWA/vulnerabilities/view_help.php HTTP/1.1\" 200 763 \"'\\\"@--></style></scRipt><scRipt>netsparker(0x000318)</scRipt>\" \"Mozilla/5.0 (Windows NT 6.3; WOW64) AppleWebKit/537.36 (KHTML, like Gecko) Chrome/41.0.2272.16 Safari/537.36\"\"\n",
      "\"192.168.4.164 - - [22/Dec/2023:15:20:44 +0300] \"GET /DVWA/vulnerabilities/view_help.php HTTP/1.1\" 200 763 \"'\\\"@--></style></scRipt><scRipt>netsparker(0x000319)</scRipt>\" \"Mozilla/5.0 (Windows NT 6.3; WOW64) AppleWebKit/537.36 (KHTML, like Gecko) Chrome/41.0.2272.16 Safari/537.36\"\"\n",
      "\"192.168.4.164 - - [22/Dec/2023:15:20:45 +0300] \"GET /DVWA/vulnerabilities/view_source.php HTTP/1.1\" 200 962 \"() { :;}; echo \\\"NS:\\\" $(/bin/sh -c \\\"expr 268409241 - 2\\\")\" \"Mozilla/5.0 (Windows NT 6.3; WOW64) AppleWebKit/537.36 (KHTML, like Gecko) Chrome/41.0.2272.16 Safari/537.36\"\"\n",
      "\"192.168.4.164 - - [22/Dec/2023:15:20:45 +0300] \"GET /DVWA/vulnerabilities/view_source.php HTTP/1.1\" 200 962 \"'\\\"@--></style></scRipt><scRipt>netsparker(0x000344)</scRipt>\" \"Mozilla/5.0 (Windows NT 6.3; WOW64) AppleWebKit/537.36 (KHTML, like Gecko) Chrome/41.0.2272.16 Safari/537.36\"\"\n",
      "\"192.168.4.164 - - [22/Dec/2023:15:20:45 +0300] \"GET /DVWA/vulnerabilities/view_source.php HTTP/1.1\" 200 962 \"'\\\"@--></style></scRipt><scRipt>netsparker(0x000345)</scRipt>\" \"Mozilla/5.0 (Windows NT 6.3; WOW64) AppleWebKit/537.36 (KHTML, like Gecko) Chrome/41.0.2272.16 Safari/537.36\"\"\n",
      "\"192.168.4.164 - - [22/Dec/2023:15:20:45 +0300] \"GET /DVWA/vulnerabilities/view_source.php HTTP/1.1\" 200 962 \"'\\\"--></style></scRipt><scRipt>netsparker(0x000342)</scRipt>\" \"Mozilla/5.0 (Windows NT 6.3; WOW64) AppleWebKit/537.36 (KHTML, like Gecko) Chrome/41.0.2272.16 Safari/537.36\"\"\n",
      "\"192.168.4.164 - - [22/Dec/2023:15:20:45 +0300] \"GET /DVWA/vulnerabilities/view_source.php HTTP/1.1\" 200 962 \"'\\\"--></style></scRipt><scRipt>netsparker(0x000343)</scRipt>\" \"Mozilla/5.0 (Windows NT 6.3; WOW64) AppleWebKit/537.36 (KHTML, like Gecko) Chrome/41.0.2272.16 Safari/537.36\"\"\n",
      "\"192.168.4.164 - - [22/Dec/2023:15:20:46 +0300] \"GET /DVWA/vulnerabilities/?C=N;O=D HTTP/1.1\" 200 857 \"'\\\"@--></style></scRipt><scRipt>netsparker(0x000360)</scRipt>\" \"Mozilla/5.0 (Windows NT 6.3; WOW64) AppleWebKit/537.36 (KHTML, like Gecko) Chrome/41.0.2272.16 Safari/537.36\"\"\n",
      "\"192.168.4.164 - - [22/Dec/2023:15:20:46 +0300] \"GET /DVWA/vulnerabilities/?C=N;O=D HTTP/1.1\" 200 857 \"'\\\"@--></style></scRipt><scRipt>netsparker(0x000361)</scRipt>\" \"Mozilla/5.0 (Windows NT 6.3; WOW64) AppleWebKit/537.36 (KHTML, like Gecko) Chrome/41.0.2272.16 Safari/537.36\"\"\n",
      "\"192.168.4.164 - - [22/Dec/2023:15:20:46 +0300] \"GET /DVWA/vulnerabilities/?C=N;O=D HTTP/1.1\" 200 857 \"'\\\"--></style></scRipt><scRipt>netsparker(0x00035E)</scRipt>\" \"Mozilla/5.0 (Windows NT 6.3; WOW64) AppleWebKit/537.36 (KHTML, like Gecko) Chrome/41.0.2272.16 Safari/537.36\"\"\n",
      "\"192.168.4.164 - - [22/Dec/2023:15:20:46 +0300] \"GET /DVWA/vulnerabilities/?C=N;O=D HTTP/1.1\" 200 857 \"'\\\"--></style></scRipt><scRipt>netsparker(0x00035F)</scRipt>\" \"Mozilla/5.0 (Windows NT 6.3; WOW64) AppleWebKit/537.36 (KHTML, like Gecko) Chrome/41.0.2272.16 Safari/537.36\"\"\n",
      "\"192.168.4.164 - - [22/Dec/2023:15:20:47 +0300] \"GET /DVWA/vulnerabilities/view_source_all.php HTTP/1.1\" 200 967 \"() { :;}; echo \\\"NS:\\\" $(/bin/sh -c \\\"expr 268409241 - 2\\\")\" \"Mozilla/5.0 (Windows NT 6.3; WOW64) AppleWebKit/537.36 (KHTML, like Gecko) Chrome/41.0.2272.16 Safari/537.36\"\"\n",
      "\"192.168.4.164 - - [22/Dec/2023:15:20:47 +0300] \"GET /DVWA/vulnerabilities/view_source_all.php HTTP/1.1\" 200 967 \"'\\\"@--></style></scRipt><scRipt>netsparker(0x000370)</scRipt>\" \"Mozilla/5.0 (Windows NT 6.3; WOW64) AppleWebKit/537.36 (KHTML, like Gecko) Chrome/41.0.2272.16 Safari/537.36\"\"\n",
      "\"192.168.4.164 - - [22/Dec/2023:15:20:47 +0300] \"GET /DVWA/vulnerabilities/view_source_all.php HTTP/1.1\" 200 967 \"'\\\"@--></style></scRipt><scRipt>netsparker(0x000371)</scRipt>\" \"Mozilla/5.0 (Windows NT 6.3; WOW64) AppleWebKit/537.36 (KHTML, like Gecko) Chrome/41.0.2272.16 Safari/537.36\"\"\n",
      "\"192.168.4.164 - - [22/Dec/2023:15:20:47 +0300] \"GET /DVWA/vulnerabilities/view_source_all.php HTTP/1.1\" 200 967 \"'\\\"--></style></scRipt><scRipt>netsparker(0x00036C)</scRipt>\" \"Mozilla/5.0 (Windows NT 6.3; WOW64) AppleWebKit/537.36 (KHTML, like Gecko) Chrome/41.0.2272.16 Safari/537.36\"\"\n",
      "\"192.168.4.164 - - [22/Dec/2023:15:20:47 +0300] \"GET /DVWA/vulnerabilities/view_source_all.php HTTP/1.1\" 200 967 \"'\\\"--></style></scRipt><scRipt>netsparker(0x00036D)</scRipt>\" \"Mozilla/5.0 (Windows NT 6.3; WOW64) AppleWebKit/537.36 (KHTML, like Gecko) Chrome/41.0.2272.16 Safari/537.36\"\"\n",
      "\"192.168.4.164 - - [22/Dec/2023:15:20:49 +0300] \"GET /DVWA/dvwa/images/?C=N;O=D HTTP/1.1\" 200 812 \"() { :;}; echo \\\"NS:\\\" $(/bin/sh -c \\\"expr 268409241 - 2\\\")\" \"Mozilla/5.0 (Windows NT 6.3; WOW64) AppleWebKit/537.36 (KHTML, like Gecko) Chrome/41.0.2272.16 Safari/537.36\"\"\n",
      "\"192.168.4.164 - - [22/Dec/2023:15:20:54 +0300] \"GET /DVWA/instructions.php?doc=readme HTTP/1.1\" 200 1451 \"() { :;}; echo \\\"NS:\\\" $(/bin/sh -c \\\"expr 268409241 - 2\\\")\" \"Mozilla/5.0 (Windows NT 6.3; WOW64) AppleWebKit/537.36 (KHTML, like Gecko) Chrome/41.0.2272.16 Safari/537.36\"\"\n",
      "\"192.168.4.164 - - [22/Dec/2023:15:20:57 +0300] \"GET /DVWA/dvwa/images/?C=N;O=D HTTP/1.1\" 200 812 \"'\\\"@--></style></scRipt><scRipt>netsparker(0x000414)</scRipt>\" \"Mozilla/5.0 (Windows NT 6.3; WOW64) AppleWebKit/537.36 (KHTML, like Gecko) Chrome/41.0.2272.16 Safari/537.36\"\"\n",
      "\"192.168.4.164 - - [22/Dec/2023:15:20:57 +0300] \"GET /DVWA/dvwa/images/?C=N;O=D HTTP/1.1\" 200 812 \"'\\\"--></style></scRipt><scRipt>netsparker(0x00040E)</scRipt>\" \"Mozilla/5.0 (Windows NT 6.3; WOW64) AppleWebKit/537.36 (KHTML, like Gecko) Chrome/41.0.2272.16 Safari/537.36\"\"\n",
      "\"192.168.4.164 - - [22/Dec/2023:15:20:57 +0300] \"GET /DVWA/dvwa/images/?C=N;O=D HTTP/1.1\" 200 812 \"'\\\"--></style></scRipt><scRipt>netsparker(0x00040F)</scRipt>\" \"Mozilla/5.0 (Windows NT 6.3; WOW64) AppleWebKit/537.36 (KHTML, like Gecko) Chrome/41.0.2272.16 Safari/537.36\"\"\n",
      "\"192.168.4.164 - - [22/Dec/2023:15:20:58 +0300] \"GET /DVWA/dvwa/images/?C=N;O=D HTTP/1.1\" 200 812 \"'\\\"@--></style></scRipt><scRipt>netsparker(0x000415)</scRipt>\" \"Mozilla/5.0 (Windows NT 6.3; WOW64) AppleWebKit/537.36 (KHTML, like Gecko) Chrome/41.0.2272.16 Safari/537.36\"\"\n",
      "\"192.168.4.164 - - [22/Dec/2023:15:20:58 +0300] \"GET /DVWA/instructions.php?doc=readme HTTP/1.1\" 200 1547 \"'\\\"--></style></scRipt><scRipt>netsparker(0x00041C)</scRipt>\" \"Mozilla/5.0 (Windows NT 6.3; WOW64) AppleWebKit/537.36 (KHTML, like Gecko) Chrome/41.0.2272.16 Safari/537.36\"\"\n",
      "\"192.168.4.164 - - [22/Dec/2023:15:20:59 +0300] \"GET /DVWA/instructions.php?doc=readme HTTP/1.1\" 200 1451 \"'\\\"@--></style></scRipt><scRipt>netsparker(0x000426)</scRipt>\" \"Mozilla/5.0 (Windows NT 6.3; WOW64) AppleWebKit/537.36 (KHTML, like Gecko) Chrome/41.0.2272.16 Safari/537.36\"\"\n",
      "\"192.168.4.164 - - [22/Dec/2023:15:20:59 +0300] \"GET /DVWA/instructions.php?doc=readme HTTP/1.1\" 200 1451 \"'\\\"--></style></scRipt><scRipt>netsparker(0x00041D)</scRipt>\" \"Mozilla/5.0 (Windows NT 6.3; WOW64) AppleWebKit/537.36 (KHTML, like Gecko) Chrome/41.0.2272.16 Safari/537.36\"\"\n",
      "\"192.168.4.164 - - [22/Dec/2023:15:20:59 +0300] \"POST /DVWA/setup.php HTTP/1.1\" 302 390 \"() { :;}; echo \\\"NS:\\\" $(/bin/sh -c \\\"expr 268409241 - 2\\\")\" \"Mozilla/5.0 (Windows NT 6.3; WOW64) AppleWebKit/537.36 (KHTML, like Gecko) Chrome/41.0.2272.16 Safari/537.36\"\"\n",
      "\"192.168.4.164 - - [22/Dec/2023:15:21:00 +0300] \"GET /DVWA/instructions.php?doc=readme HTTP/1.1\" 200 1451 \"'\\\"@--></style></scRipt><scRipt>netsparker(0x000427)</scRipt>\" \"Mozilla/5.0 (Windows NT 6.3; WOW64) AppleWebKit/537.36 (KHTML, like Gecko) Chrome/41.0.2272.16 Safari/537.36\"\"\n",
      "\"192.168.4.164 - - [22/Dec/2023:15:21:02 +0300] \"GET /DVWA/dvwa/css/?C=N;O=D HTTP/1.1\" 200 754 \"() { :;}; echo \\\"NS:\\\" $(/bin/sh -c \\\"expr 268409241 - 2\\\")\" \"Mozilla/5.0 (Windows NT 6.3; WOW64) AppleWebKit/537.36 (KHTML, like Gecko) Chrome/41.0.2272.16 Safari/537.36\"\"\n",
      "\"192.168.4.164 - - [22/Dec/2023:15:21:04 +0300] \"GET /DVWA/dvwa/css/help.css HTTP/1.1\" 200 503 \"() { :;}; echo \\\"NS:\\\" $(/bin/sh -c \\\"expr 268409241 - 2\\\")\" \"Mozilla/5.0 (Windows NT 6.3; WOW64) AppleWebKit/537.36 (KHTML, like Gecko) Chrome/41.0.2272.16 Safari/537.36\"\"\n",
      "\"192.168.4.164 - - [22/Dec/2023:15:21:04 +0300] \"POST /DVWA/login.php HTTP/1.1\" 302 384 \"'\\\"--></style></scRipt><scRipt>netsparker(0x000462)</scRipt>\" \"Mozilla/5.0 (Windows NT 6.3; WOW64) AppleWebKit/537.36 (KHTML, like Gecko) Chrome/41.0.2272.16 Safari/537.36\"\"\n",
      "\"192.168.4.164 - - [22/Dec/2023:15:21:05 +0300] \"GET /DVWA/dvwa/css/help.css HTTP/1.1\" 200 503 \"'\\\"@--></style></scRipt><scRipt>netsparker(0x000468)</scRipt>\" \"Mozilla/5.0 (Windows NT 6.3; WOW64) AppleWebKit/537.36 (KHTML, like Gecko) Chrome/41.0.2272.16 Safari/537.36\"\"\n",
      "\"192.168.4.164 - - [22/Dec/2023:15:21:05 +0300] \"GET /DVWA/dvwa/css/help.css HTTP/1.1\" 200 503 \"'\\\"@--></style></scRipt><scRipt>netsparker(0x000469)</scRipt>\" \"Mozilla/5.0 (Windows NT 6.3; WOW64) AppleWebKit/537.36 (KHTML, like Gecko) Chrome/41.0.2272.16 Safari/537.36\"\"\n",
      "\"192.168.4.164 - - [22/Dec/2023:15:21:05 +0300] \"GET /DVWA/dvwa/css/help.css HTTP/1.1\" 200 503 \"'\\\"--></style></scRipt><scRipt>netsparker(0x000466)</scRipt>\" \"Mozilla/5.0 (Windows NT 6.3; WOW64) AppleWebKit/537.36 (KHTML, like Gecko) Chrome/41.0.2272.16 Safari/537.36\"\"\n",
      "\"192.168.4.164 - - [22/Dec/2023:15:21:05 +0300] \"GET /DVWA/dvwa/css/help.css HTTP/1.1\" 200 503 \"'\\\"--></style></scRipt><scRipt>netsparker(0x000467)</scRipt>\" \"Mozilla/5.0 (Windows NT 6.3; WOW64) AppleWebKit/537.36 (KHTML, like Gecko) Chrome/41.0.2272.16 Safari/537.36\"\"\n",
      "\"192.168.4.164 - - [22/Dec/2023:15:21:05 +0300] \"GET /DVWA/dvwa/css/source.css HTTP/1.1\" 200 503 \"() { :;}; echo \\\"NS:\\\" $(/bin/sh -c \\\"expr 268409241 - 2\\\")\" \"Mozilla/5.0 (Windows NT 6.3; WOW64) AppleWebKit/537.36 (KHTML, like Gecko) Chrome/41.0.2272.16 Safari/537.36\"\"\n",
      "\"192.168.4.164 - - [22/Dec/2023:15:21:05 +0300] \"POST /DVWA/login.php HTTP/1.1\" 302 384 \"'\\\"@--></style></scRipt><scRipt>netsparker(0x000470)</scRipt>\" \"Mozilla/5.0 (Windows NT 6.3; WOW64) AppleWebKit/537.36 (KHTML, like Gecko) Chrome/41.0.2272.16 Safari/537.36\"\"\n",
      "\"192.168.4.164 - - [22/Dec/2023:15:21:05 +0300] \"POST /DVWA/login.php HTTP/1.1\" 302 384 \"'\\\"@--></style></scRipt><scRipt>netsparker(0x000473)</scRipt>\" \"Mozilla/5.0 (Windows NT 6.3; WOW64) AppleWebKit/537.36 (KHTML, like Gecko) Chrome/41.0.2272.16 Safari/537.36\"\"\n",
      "\"192.168.4.164 - - [22/Dec/2023:15:21:05 +0300] \"POST /DVWA/login.php HTTP/1.1\" 302 384 \"'\\\"--></style></scRipt><scRipt>netsparker(0x000463)</scRipt>\" \"Mozilla/5.0 (Windows NT 6.3; WOW64) AppleWebKit/537.36 (KHTML, like Gecko) Chrome/41.0.2272.16 Safari/537.36\"\"\n",
      "\"192.168.4.164 - - [22/Dec/2023:15:21:06 +0300] \"GET /DVWA/dvwa/css/source.css HTTP/1.1\" 200 503 \"'\\\"@--></style></scRipt><scRipt>netsparker(0x000496)</scRipt>\" \"Mozilla/5.0 (Windows NT 6.3; WOW64) AppleWebKit/537.36 (KHTML, like Gecko) Chrome/41.0.2272.16 Safari/537.36\"\"\n",
      "\"192.168.4.164 - - [22/Dec/2023:15:21:06 +0300] \"GET /DVWA/dvwa/css/source.css HTTP/1.1\" 200 503 \"'\\\"@--></style></scRipt><scRipt>netsparker(0x000497)</scRipt>\" \"Mozilla/5.0 (Windows NT 6.3; WOW64) AppleWebKit/537.36 (KHTML, like Gecko) Chrome/41.0.2272.16 Safari/537.36\"\"\n",
      "\"192.168.4.164 - - [22/Dec/2023:15:21:06 +0300] \"GET /DVWA/dvwa/css/source.css HTTP/1.1\" 200 503 \"'\\\"--></style></scRipt><scRipt>netsparker(0x000492)</scRipt>\" \"Mozilla/5.0 (Windows NT 6.3; WOW64) AppleWebKit/537.36 (KHTML, like Gecko) Chrome/41.0.2272.16 Safari/537.36\"\"\n",
      "\"192.168.4.164 - - [22/Dec/2023:15:21:06 +0300] \"GET /DVWA/dvwa/css/source.css HTTP/1.1\" 200 503 \"'\\\"--></style></scRipt><scRipt>netsparker(0x000493)</scRipt>\" \"Mozilla/5.0 (Windows NT 6.3; WOW64) AppleWebKit/537.36 (KHTML, like Gecko) Chrome/41.0.2272.16 Safari/537.36\"\"\n",
      "\"192.168.4.164 - - [22/Dec/2023:15:21:07 +0300] \"GET /DVWA/dvwa/js/?C=N;O=D HTTP/1.1\" 200 713 \"() { :;}; echo \\\"NS:\\\" $(/bin/sh -c \\\"expr 268409241 - 2\\\")\" \"Mozilla/5.0 (Windows NT 6.3; WOW64) AppleWebKit/537.36 (KHTML, like Gecko) Chrome/41.0.2272.16 Safari/537.36\"\"\n",
      "\"192.168.4.164 - - [22/Dec/2023:15:21:08 +0300] \"GET /DVWA/dvwa/css/?C=N;O=D HTTP/1.1\" 200 718 \"'\\\"--></style></scRipt><scRipt>netsparker(0x0004DE)</scRipt>\" \"Mozilla/5.0 (Windows NT 6.3; WOW64) AppleWebKit/537.36 (KHTML, like Gecko) Chrome/41.0.2272.16 Safari/537.36\"\"\n",
      "\"192.168.4.164 - - [22/Dec/2023:15:21:09 +0300] \"GET /DVWA/dvwa/css/?C=N;O=D HTTP/1.1\" 200 754 \"'\\\"--></style></scRipt><scRipt>netsparker(0x0004DF)</scRipt>\" \"Mozilla/5.0 (Windows NT 6.3; WOW64) AppleWebKit/537.36 (KHTML, like Gecko) Chrome/41.0.2272.16 Safari/537.36\"\"\n",
      "\"192.168.4.164 - - [22/Dec/2023:15:21:10 +0300] \"GET /DVWA/dvwa/?C=N;O=D HTTP/1.1\" 200 729 \"() { :;}; echo \\\"NS:\\\" $(/bin/sh -c \\\"expr 268409241 - 2\\\")\" \"Mozilla/5.0 (Windows NT 6.3; WOW64) AppleWebKit/537.36 (KHTML, like Gecko) Chrome/41.0.2272.16 Safari/537.36\"\"\n",
      "\"192.168.4.164 - - [22/Dec/2023:15:21:10 +0300] \"GET /DVWA/dvwa/css/?C=N;O=D HTTP/1.1\" 200 754 \"'\\\"@--></style></scRipt><scRipt>netsparker(0x0004F2)</scRipt>\" \"Mozilla/5.0 (Windows NT 6.3; WOW64) AppleWebKit/537.36 (KHTML, like Gecko) Chrome/41.0.2272.16 Safari/537.36\"\"\n",
      "\"192.168.4.164 - - [22/Dec/2023:15:21:10 +0300] \"GET /DVWA/dvwa/css/?C=N;O=D HTTP/1.1\" 200 754 \"'\\\"@--></style></scRipt><scRipt>netsparker(0x0004F3)</scRipt>\" \"Mozilla/5.0 (Windows NT 6.3; WOW64) AppleWebKit/537.36 (KHTML, like Gecko) Chrome/41.0.2272.16 Safari/537.36\"\"\n",
      "\"192.168.4.164 - - [22/Dec/2023:15:21:10 +0300] \"POST /DVWA/setup.php HTTP/1.1\" 302 390 \"'\\\"@--></style></scRipt><scRipt>netsparker(0x0004F4)</scRipt>\" \"Mozilla/5.0 (Windows NT 6.3; WOW64) AppleWebKit/537.36 (KHTML, like Gecko) Chrome/41.0.2272.16 Safari/537.36\"\"\n",
      "\"192.168.4.164 - - [22/Dec/2023:15:21:10 +0300] \"POST /DVWA/setup.php HTTP/1.1\" 302 390 \"'\\\"@--></style></scRipt><scRipt>netsparker(0x0004F5)</scRipt>\" \"Mozilla/5.0 (Windows NT 6.3; WOW64) AppleWebKit/537.36 (KHTML, like Gecko) Chrome/41.0.2272.16 Safari/537.36\"\"\n",
      "\"192.168.4.164 - - [22/Dec/2023:15:21:10 +0300] \"POST /DVWA/setup.php HTTP/1.1\" 302 390 \"'\\\"--></style></scRipt><scRipt>netsparker(0x0004F0)</scRipt>\" \"Mozilla/5.0 (Windows NT 6.3; WOW64) AppleWebKit/537.36 (KHTML, like Gecko) Chrome/41.0.2272.16 Safari/537.36\"\"\n",
      "\"192.168.4.164 - - [22/Dec/2023:15:21:10 +0300] \"POST /DVWA/setup.php HTTP/1.1\" 302 390 \"'\\\"--></style></scRipt><scRipt>netsparker(0x0004F1)</scRipt>\" \"Mozilla/5.0 (Windows NT 6.3; WOW64) AppleWebKit/537.36 (KHTML, like Gecko) Chrome/41.0.2272.16 Safari/537.36\"\"\n",
      "\"192.168.4.164 - - [22/Dec/2023:15:21:12 +0300] \"GET /DVWA/dvwa/includes/ HTTP/1.1\" 200 762 \"() { :;}; echo \\\"NS:\\\" $(/bin/sh -c \\\"expr 268409241 - 2\\\")\" \"Mozilla/5.0 (Windows NT 6.3; WOW64) AppleWebKit/537.36 (KHTML, like Gecko) Chrome/41.0.2272.16 Safari/537.36\"\"\n",
      "\"192.168.4.164 - - [22/Dec/2023:15:21:13 +0300] \"GET /DVWA/dvwa/includes/ HTTP/1.1\" 200 761 \"'\\\"@--></style></scRipt><scRipt>netsparker(0x00053C)</scRipt>\" \"Mozilla/5.0 (Windows NT 6.3; WOW64) AppleWebKit/537.36 (KHTML, like Gecko) Chrome/41.0.2272.16 Safari/537.36\"\"\n",
      "\"192.168.4.164 - - [22/Dec/2023:15:21:13 +0300] \"GET /DVWA/dvwa/includes/ HTTP/1.1\" 200 762 \"'\\\"--></style></scRipt><scRipt>netsparker(0x000530)</scRipt>\" \"Mozilla/5.0 (Windows NT 6.3; WOW64) AppleWebKit/537.36 (KHTML, like Gecko) Chrome/41.0.2272.16 Safari/537.36\"\"\n",
      "\"192.168.4.164 - - [22/Dec/2023:15:21:13 +0300] \"GET /DVWA/dvwa/includes/ HTTP/1.1\" 200 762 \"'\\\"--></style></scRipt><scRipt>netsparker(0x000531)</scRipt>\" \"Mozilla/5.0 (Windows NT 6.3; WOW64) AppleWebKit/537.36 (KHTML, like Gecko) Chrome/41.0.2272.16 Safari/537.36\"\"\n",
      "\"192.168.4.164 - - [22/Dec/2023:15:21:13 +0300] \"GET /DVWA/dvwa/js/?C=N;O=D HTTP/1.1\" 200 712 \"'\\\"@--></style></scRipt><scRipt>netsparker(0x000529)</scRipt>\" \"Mozilla/5.0 (Windows NT 6.3; WOW64) AppleWebKit/537.36 (KHTML, like Gecko) Chrome/41.0.2272.16 Safari/537.36\"\"\n",
      "\"192.168.4.164 - - [22/Dec/2023:15:21:13 +0300] \"GET /DVWA/dvwa/js/?C=N;O=D HTTP/1.1\" 200 713 \"'\\\"@--></style></scRipt><scRipt>netsparker(0x000528)</scRipt>\" \"Mozilla/5.0 (Windows NT 6.3; WOW64) AppleWebKit/537.36 (KHTML, like Gecko) Chrome/41.0.2272.16 Safari/537.36\"\"\n",
      "\"192.168.4.164 - - [22/Dec/2023:15:21:13 +0300] \"GET /DVWA/dvwa/js/?C=N;O=D HTTP/1.1\" 200 713 \"'\\\"--></style></scRipt><scRipt>netsparker(0x000524)</scRipt>\" \"Mozilla/5.0 (Windows NT 6.3; WOW64) AppleWebKit/537.36 (KHTML, like Gecko) Chrome/41.0.2272.16 Safari/537.36\"\"\n",
      "\"192.168.4.164 - - [22/Dec/2023:15:21:13 +0300] \"GET /DVWA/dvwa/js/?C=N;O=D HTTP/1.1\" 200 713 \"'\\\"--></style></scRipt><scRipt>netsparker(0x000525)</scRipt>\" \"Mozilla/5.0 (Windows NT 6.3; WOW64) AppleWebKit/537.36 (KHTML, like Gecko) Chrome/41.0.2272.16 Safari/537.36\"\"\n",
      "\"192.168.4.164 - - [22/Dec/2023:15:21:13 +0300] \"GET /DVWA/vulnerabilities/exec/include.php HTTP/1.1\" 404 528 \"() { :;}; echo \\\"NS:\\\" $(/bin/sh -c \\\"expr 268409241 - 2\\\")\" \"Mozilla/5.0 (Windows NT 6.3; WOW64) AppleWebKit/537.36 (KHTML, like Gecko) Chrome/41.0.2272.16 Safari/537.36\"\"\n",
      "\"192.168.4.164 - - [22/Dec/2023:15:21:13 +0300] \"GET /DVWA/vulnerabilities/exec/include.php HTTP/1.1\" 404 528 \"'\\\"--></style></scRipt><scRipt>netsparker(0x000534)</scRipt>\" \"Mozilla/5.0 (Windows NT 6.3; WOW64) AppleWebKit/537.36 (KHTML, like Gecko) Chrome/41.0.2272.16 Safari/537.36\"\"\n",
      "\"192.168.4.164 - - [22/Dec/2023:15:21:13 +0300] \"GET /DVWA/vulnerabilities/exec/include.php HTTP/1.1\" 404 528 \"'\\\"--></style></scRipt><scRipt>netsparker(0x000535)</scRipt>\" \"Mozilla/5.0 (Windows NT 6.3; WOW64) AppleWebKit/537.36 (KHTML, like Gecko) Chrome/41.0.2272.16 Safari/537.36\"\"\n",
      "\"192.168.4.164 - - [22/Dec/2023:15:21:14 +0300] \"GET /DVWA/dvwa/includes/ HTTP/1.1\" 200 761 \"'\\\"@--></style></scRipt><scRipt>netsparker(0x00053D)</scRipt>\" \"Mozilla/5.0 (Windows NT 6.3; WOW64) AppleWebKit/537.36 (KHTML, like Gecko) Chrome/41.0.2272.16 Safari/537.36\"\"\n",
      "\"192.168.4.164 - - [22/Dec/2023:15:21:14 +0300] \"GET /DVWA/vulnerabilities/exec/include.php HTTP/1.1\" 404 527 \"'\\\"@--></style></scRipt><scRipt>netsparker(0x000540)</scRipt>\" \"Mozilla/5.0 (Windows NT 6.3; WOW64) AppleWebKit/537.36 (KHTML, like Gecko) Chrome/41.0.2272.16 Safari/537.36\"\"\n",
      "\"192.168.4.164 - - [22/Dec/2023:15:21:14 +0300] \"GET /DVWA/vulnerabilities/exec/include.php HTTP/1.1\" 404 527 \"'\\\"@--></style></scRipt><scRipt>netsparker(0x000541)</scRipt>\" \"Mozilla/5.0 (Windows NT 6.3; WOW64) AppleWebKit/537.36 (KHTML, like Gecko) Chrome/41.0.2272.16 Safari/537.36\"\"\n",
      "\"192.168.4.164 - - [22/Dec/2023:15:21:15 +0300] \"GET /DVWA/dvwa/?C=N;O=D HTTP/1.1\" 200 729 \"'\\\"@--></style></scRipt><scRipt>netsparker(0x000584)</scRipt>\" \"Mozilla/5.0 (Windows NT 6.3; WOW64) AppleWebKit/537.36 (KHTML, like Gecko) Chrome/41.0.2272.16 Safari/537.36\"\"\n",
      "\"192.168.4.164 - - [22/Dec/2023:15:21:15 +0300] \"GET /DVWA/dvwa/?C=N;O=D HTTP/1.1\" 200 729 \"'\\\"--></style></scRipt><scRipt>netsparker(0x000582)</scRipt>\" \"Mozilla/5.0 (Windows NT 6.3; WOW64) AppleWebKit/537.36 (KHTML, like Gecko) Chrome/41.0.2272.16 Safari/537.36\"\"\n",
      "\"192.168.4.164 - - [22/Dec/2023:15:21:15 +0300] \"GET /DVWA/dvwa/?C=N;O=D HTTP/1.1\" 200 729 \"'\\\"--></style></scRipt><scRipt>netsparker(0x000583)</scRipt>\" \"Mozilla/5.0 (Windows NT 6.3; WOW64) AppleWebKit/537.36 (KHTML, like Gecko) Chrome/41.0.2272.16 Safari/537.36\"\"\n",
      "\"192.168.4.164 - - [22/Dec/2023:15:21:16 +0300] \"GET /DVWA/dvwa/?C=N;O=D HTTP/1.1\" 200 729 \"'\\\"@--></style></scRipt><scRipt>netsparker(0x000585)</scRipt>\" \"Mozilla/5.0 (Windows NT 6.3; WOW64) AppleWebKit/537.36 (KHTML, like Gecko) Chrome/41.0.2272.16 Safari/537.36\"\"\n",
      "\"192.168.4.164 - - [22/Dec/2023:15:21:16 +0300] \"GET /DVWA/vulnerabilities/view_help.php?id=exec&security=low HTTP/1.1\" 200 1250 \"() { :;}; echo \\\"NS:\\\" $(/bin/sh -c \\\"expr 268409241 - 2\\\")\" \"Mozilla/5.0 (Windows NT 6.3; WOW64) AppleWebKit/537.36 (KHTML, like Gecko) Chrome/41.0.2272.16 Safari/537.36\"\"\n",
      "\"192.168.4.164 - - [22/Dec/2023:15:21:19 +0300] \"GET /DVWA/vulnerabilities/view_source.php?id=exec&security=low HTTP/1.1\" 200 1301 \"() { :;}; echo \\\"NS:\\\" $(/bin/sh -c \\\"expr 268409241 - 2\\\")\" \"Mozilla/5.0 (Windows NT 6.3; WOW64) AppleWebKit/537.36 (KHTML, like Gecko) Chrome/41.0.2272.16 Safari/537.36\"\"\n",
      "\"192.168.4.164 - - [22/Dec/2023:15:22:38 +0300] \"GET /DVWA/vulnerabilities/view_help.php?id=exec&security=low HTTP/1.1\" 200 1250 \"'\\\"--></style></scRipt><scRipt>netsparker(0x0005F0)</scRipt>\" \"Mozilla/5.0 (Windows NT 6.3; WOW64) AppleWebKit/537.36 (KHTML, like Gecko) Chrome/41.0.2272.16 Safari/537.36\"\"\n",
      "\"192.168.4.164 - - [22/Dec/2023:15:23:07 +0300] \"GET /DVWA/vulnerabilities/view_help.php?id=exec&security=low HTTP/1.1\" 200 1250 \"'\\\"--></style></scRipt><scRipt>netsparker(0x0005F1)</scRipt>\" \"Mozilla/5.0 (Windows NT 6.3; WOW64) AppleWebKit/537.36 (KHTML, like Gecko) Chrome/41.0.2272.16 Safari/537.36\"\"\n",
      "\"192.168.4.164 - - [22/Dec/2023:15:23:48 +0300] \"GET /DVWA/vulnerabilities/view_help.php?id=exec&security=low HTTP/1.1\" 200 1250 \"'\\\"@--></style></scRipt><scRipt>netsparker(0x0005F6)</scRipt>\" \"Mozilla/5.0 (Windows NT 6.3; WOW64) AppleWebKit/537.36 (KHTML, like Gecko) Chrome/41.0.2272.16 Safari/537.36\"\"\n",
      "\"192.168.4.164 - - [22/Dec/2023:15:24:12 +0300] \"GET /DVWA/vulnerabilities/view_help.php?id=exec&security=low HTTP/1.1\" 200 1251 \"'\\\"@--></style></scRipt><scRipt>netsparker(0x0005F7)</scRipt>\" \"Mozilla/5.0 (Windows NT 6.3; WOW64) AppleWebKit/537.36 (KHTML, like Gecko) Chrome/41.0.2272.16 Safari/537.36\"\"\n",
      "\"192.168.4.164 - - [22/Dec/2023:15:33:26 +0300] \"POST /DVWA/vulnerabilities/exec/ HTTP/1.1\" 200 1714 \"() { :;}; echo \\\"NS:\\\" $(/bin/sh -c \\\"expr 268409241 - 2\\\")\" \"Mozilla/5.0 (Windows NT 6.3; WOW64) AppleWebKit/537.36 (KHTML, like Gecko) Chrome/41.0.2272.16 Safari/537.36\"\"\n",
      "\"192.168.4.164 - - [22/Dec/2023:15:33:51 +0300] \"POST /DVWA/vulnerabilities/exec/ HTTP/1.1\" 200 1817 \"() { :;}; echo \\\"NS:\\\" $(/bin/sh -c \\\"expr 268409241 - 2\\\")\" \"Mozilla/5.0 (Windows NT 6.3; WOW64) AppleWebKit/537.36 (KHTML, like Gecko) Chrome/41.0.2272.16 Safari/537.36\"\"\n",
      "\"192.168.4.164 - - [22/Dec/2023:15:35:03 +0300] \"GET /DVWA/vulnerabilities/brute/include.php HTTP/1.1\" 404 529 \"() { :;}; echo \\\"NS:\\\" $(/bin/sh -c \\\"expr 268409241 - 2\\\")\" \"Mozilla/5.0 (Windows NT 6.3; WOW64) AppleWebKit/537.36 (KHTML, like Gecko) Chrome/41.0.2272.16 Safari/537.36\"\"\n",
      "\"192.168.4.164 - - [22/Dec/2023:15:35:03 +0300] \"GET /DVWA/vulnerabilities/brute/include.php HTTP/1.1\" 404 529 \"'\\\"@--></style></scRipt><scRipt>netsparker(0x000626)</scRipt>\" \"Mozilla/5.0 (Windows NT 6.3; WOW64) AppleWebKit/537.36 (KHTML, like Gecko) Chrome/41.0.2272.16 Safari/537.36\"\"\n",
      "\"192.168.4.164 - - [22/Dec/2023:15:35:03 +0300] \"GET /DVWA/vulnerabilities/brute/include.php HTTP/1.1\" 404 529 \"'\\\"@--></style></scRipt><scRipt>netsparker(0x000627)</scRipt>\" \"Mozilla/5.0 (Windows NT 6.3; WOW64) AppleWebKit/537.36 (KHTML, like Gecko) Chrome/41.0.2272.16 Safari/537.36\"\"\n",
      "\"192.168.4.164 - - [22/Dec/2023:15:35:03 +0300] \"GET /DVWA/vulnerabilities/brute/include.php HTTP/1.1\" 404 529 \"'\\\"--></style></scRipt><scRipt>netsparker(0x000624)</scRipt>\" \"Mozilla/5.0 (Windows NT 6.3; WOW64) AppleWebKit/537.36 (KHTML, like Gecko) Chrome/41.0.2272.16 Safari/537.36\"\"\n",
      "\"192.168.4.164 - - [22/Dec/2023:15:35:03 +0300] \"GET /DVWA/vulnerabilities/brute/include.php HTTP/1.1\" 404 529 \"'\\\"--></style></scRipt><scRipt>netsparker(0x000625)</scRipt>\" \"Mozilla/5.0 (Windows NT 6.3; WOW64) AppleWebKit/537.36 (KHTML, like Gecko) Chrome/41.0.2272.16 Safari/537.36\"\"\n",
      "\"192.168.4.25 - - [22/Dec/2022:16:18:25 +0300] \"GET /index.php?wvstest=javascript:domxssExecutionSink(1,%22'%5C%22%3E%3Cxsstag%3E()locxss%22)&option=com_search HTTP/1.1\" 200 3147 \"http://www.acunetix-referrer.com/javascript:domxssExecutionSink(0,\\\"'\\\\\\\"><xsstag>()refdxss\\\")\" \"Mozilla/5.0 (Windows NT 6.1; WOW64) AppleWebKit/537.21 (KHTML, like Gecko) Chrome/41.0.2228.0 Safari/537.21\"\"\n",
      "\"192.168.4.25 - - [22/Dec/2022:16:18:08 +0300] \"GET /cgi-sys/entropybanner.cgi HTTP/1.1\" 404 516 \"() { Referer; }; echo -e \\\"Content-Type: text/plain\\\\n\\\"; echo -e \\\"\\\\0141\\\\0143\\\\0165\\\\0156\\\\0145\\\\0164\\\\0151\\\\0170\\\\0163\\\\0150\\\\0145\\\\0154\\\\0154\\\\0163\\\\0150\\\\0157\\\\0143\\\\0153\\\"\" \"Mozilla/5.0 (Windows NT 6.1; WOW64) AppleWebKit/537.21 (KHTML, like Gecko) Chrome/41.0.2228.0 Safari/537.21\"\"\n",
      "\"192.168.4.25 - - [22/Dec/2022:16:18:09 +0300] \"GET  HTTP/1.1\" 400 300 \"-\" \"-\"\"\n",
      "\"192.168.4.25 - - [22/Dec/2022:16:18:07 +0300] \"GET / HTTP/1.1\" 200 3358 \"() { Referer; }; echo -e \\\"Content-Type: text/plain\\\\n\\\"; echo -e \\\"\\\\0141\\\\0143\\\\0165\\\\0156\\\\0145\\\\0164\\\\0151\\\\0170\\\\0163\\\\0150\\\\0145\\\\0154\\\\0154\\\\0163\\\\0150\\\\0157\\\\0143\\\\0153\\\"\" \"Mozilla/5.0 (Windows NT 6.1; WOW64) AppleWebKit/537.21 (KHTML, like Gecko) Chrome/41.0.2228.0 Safari/537.21\"\"\n",
      "\"192.168.4.25 - - [22/Dec/2022:16:18:08 +0300] \"GET /cgi-sys/domainredirect.cgi HTTP/1.1\" 404 517 \"() { Referer; }; echo -e \\\"Content-Type: text/plain\\\\n\\\"; echo -e \\\"\\\\0141\\\\0143\\\\0165\\\\0156\\\\0145\\\\0164\\\\0151\\\\0170\\\\0163\\\\0150\\\\0145\\\\0154\\\\0154\\\\0163\\\\0150\\\\0157\\\\0143\\\\0153\\\"\" \"Mozilla/5.0 (Windows NT 6.1; WOW64) AppleWebKit/537.21 (KHTML, like Gecko) Chrome/41.0.2228.0 Safari/537.21\"\"\n",
      "\"192.168.4.25 - - [22/Dec/2022:16:18:26 +0300] \"GET /index.php/component/users/?wvstest=javascript:domxssExecutionSink(1,%22'%5C%22%3E%3Cxsstag%3E()locxss%22) HTTP/1.1\" 200 2822 \"http://www.acunetix-referrer.com/javascript:domxssExecutionSink(0,\\\"'\\\\\\\"><xsstag>()refdxss\\\")\" \"Mozilla/5.0 (Windows NT 6.1; WOW64) AppleWebKit/537.21 (KHTML, like Gecko) Chrome/41.0.2228.0 Safari/537.21\"\"\n",
      "\"192.168.4.25 - - [22/Dec/2022:16:18:07 +0300] \"GET /admin.cgi HTTP/1.1\" 404 500 \"() { Referer; }; echo -e \\\"Content-Type: text/plain\\\\n\\\"; echo -e \\\"\\\\0141\\\\0143\\\\0165\\\\0156\\\\0145\\\\0164\\\\0151\\\\0170\\\\0163\\\\0150\\\\0145\\\\0154\\\\0154\\\\0163\\\\0150\\\\0157\\\\0143\\\\0153\\\"\" \"Mozilla/5.0 (Windows NT 6.1; WOW64) AppleWebKit/537.21 (KHTML, like Gecko) Chrome/41.0.2228.0 Safari/537.21\"\"\n"
     ]
    },
    {
     "name": "stderr",
     "output_type": "stream",
     "text": [
      "C:\\Users\\maria\\AppData\\Local\\Temp\\ipykernel_26844\\1443181846.py:2: FutureWarning: Series.__getitem__ treating keys as positions is deprecated. In a future version, integer keys will always be treated as labels (consistent with DataFrame behavior). To access a value by position, use `ser.iloc[pos]`\n",
      "  print (row[0])\n"
     ]
    }
   ],
   "source": [
    "for i, row in df_invalid.iterrows():\n",
    "    print (row[0])"
   ]
  },
  {
   "cell_type": "code",
   "execution_count": 38,
   "metadata": {},
   "outputs": [
    {
     "name": "stdout",
     "output_type": "stream",
     "text": [
      "No match found for line: \"192.168.4.25 - - [22/Dec/2022:16:18:09 +0300] \"GET  HTTP/1.1\" 400 300 \"-\" \"-\"\"\n"
     ]
    },
    {
     "name": "stderr",
     "output_type": "stream",
     "text": [
      "C:\\Users\\maria\\AppData\\Local\\Temp\\ipykernel_26844\\216764288.py:8: FutureWarning: Series.__getitem__ treating keys as positions is deprecated. In a future version, integer keys will always be treated as labels (consistent with DataFrame behavior). To access a value by position, use `ser.iloc[pos]`\n",
      "  match = re.match(log_pattern, row[0])\n",
      "C:\\Users\\maria\\AppData\\Local\\Temp\\ipykernel_26844\\216764288.py:21: FutureWarning: Series.__getitem__ treating keys as positions is deprecated. In a future version, integer keys will always be treated as labels (consistent with DataFrame behavior). To access a value by position, use `ser.iloc[pos]`\n",
      "  print(\"No match found for line:\", row[0])\n"
     ]
    }
   ],
   "source": [
    "log_pattern = r'^(\\S+) (\\S+) (\\S+) \\[(.*?)\\] \"(\\S+) (\\S+.*?) (\\S+)\" (\\d+) (\\d+)'\n",
    "\n",
    "# Dataframe para almacenar los datos válidos\n",
    "valid_data = []\n",
    "\n",
    "# Iteración sobre las filas del DataFrame\n",
    "for i, row in df_invalid.iterrows():\n",
    "    match = re.match(log_pattern, row[0])\n",
    "    if match:\n",
    "        # Accede a los grupos capturados para obtener los campos relevantes\n",
    "        client_ip = match.group(1)\n",
    "        timestamp = match.group(4)\n",
    "        method = match.group(5)\n",
    "        request = match.group(6)\n",
    "        status_code = match.group(8)\n",
    "        bytes_sent = match.group(9)\n",
    "        \n",
    "        # Agrega los datos a la lista\n",
    "        valid_data.append([client_ip, timestamp, method, request, status_code, bytes_sent])\n",
    "    else:\n",
    "        print(\"No match found for line:\", row[0])\n",
    "\n",
    "# Crear DataFrame con los datos válidos\n",
    "df_invalid = pd.DataFrame(valid_data, columns=['Client IP', 'Timestamp', 'Method', 'Request', 'Status Code', 'Bytes Sent'])"
   ]
  },
  {
   "cell_type": "code",
   "execution_count": 39,
   "metadata": {},
   "outputs": [
    {
     "data": {
      "text/html": [
       "<div>\n",
       "<style scoped>\n",
       "    .dataframe tbody tr th:only-of-type {\n",
       "        vertical-align: middle;\n",
       "    }\n",
       "\n",
       "    .dataframe tbody tr th {\n",
       "        vertical-align: top;\n",
       "    }\n",
       "\n",
       "    .dataframe thead th {\n",
       "        text-align: right;\n",
       "    }\n",
       "</style>\n",
       "<table border=\"1\" class=\"dataframe\">\n",
       "  <thead>\n",
       "    <tr style=\"text-align: right;\">\n",
       "      <th></th>\n",
       "      <th>Client IP</th>\n",
       "      <th>Timestamp</th>\n",
       "      <th>Method</th>\n",
       "      <th>Request</th>\n",
       "      <th>Status Code</th>\n",
       "      <th>Bytes Sent</th>\n",
       "    </tr>\n",
       "  </thead>\n",
       "  <tbody>\n",
       "    <tr>\n",
       "      <th>0</th>\n",
       "      <td>\"192.168.4.164</td>\n",
       "      <td>22/Dec/2023:15:19:14 +0300</td>\n",
       "      <td>GET</td>\n",
       "      <td>/DVWA/</td>\n",
       "      <td>200</td>\n",
       "      <td>1964</td>\n",
       "    </tr>\n",
       "    <tr>\n",
       "      <th>1</th>\n",
       "      <td>\"192.168.4.164</td>\n",
       "      <td>22/Dec/2023:15:19:15 +0300</td>\n",
       "      <td>GET</td>\n",
       "      <td>/DVWA/</td>\n",
       "      <td>200</td>\n",
       "      <td>1964</td>\n",
       "    </tr>\n",
       "    <tr>\n",
       "      <th>2</th>\n",
       "      <td>\"192.168.4.164</td>\n",
       "      <td>22/Dec/2023:15:19:15 +0300</td>\n",
       "      <td>GET</td>\n",
       "      <td>/DVWA/</td>\n",
       "      <td>200</td>\n",
       "      <td>1964</td>\n",
       "    </tr>\n",
       "    <tr>\n",
       "      <th>3</th>\n",
       "      <td>\"192.168.4.164</td>\n",
       "      <td>22/Dec/2023:15:19:15 +0300</td>\n",
       "      <td>GET</td>\n",
       "      <td>/DVWA/</td>\n",
       "      <td>200</td>\n",
       "      <td>1964</td>\n",
       "    </tr>\n",
       "    <tr>\n",
       "      <th>4</th>\n",
       "      <td>\"192.168.4.164</td>\n",
       "      <td>22/Dec/2023:15:19:15 +0300</td>\n",
       "      <td>GET</td>\n",
       "      <td>/DVWA/</td>\n",
       "      <td>200</td>\n",
       "      <td>1964</td>\n",
       "    </tr>\n",
       "    <tr>\n",
       "      <th>...</th>\n",
       "      <td>...</td>\n",
       "      <td>...</td>\n",
       "      <td>...</td>\n",
       "      <td>...</td>\n",
       "      <td>...</td>\n",
       "      <td>...</td>\n",
       "    </tr>\n",
       "    <tr>\n",
       "      <th>225</th>\n",
       "      <td>\"192.168.4.25</td>\n",
       "      <td>22/Dec/2022:16:18:08 +0300</td>\n",
       "      <td>GET</td>\n",
       "      <td>/cgi-sys/entropybanner.cgi</td>\n",
       "      <td>404</td>\n",
       "      <td>516</td>\n",
       "    </tr>\n",
       "    <tr>\n",
       "      <th>226</th>\n",
       "      <td>\"192.168.4.25</td>\n",
       "      <td>22/Dec/2022:16:18:07 +0300</td>\n",
       "      <td>GET</td>\n",
       "      <td>/</td>\n",
       "      <td>200</td>\n",
       "      <td>3358</td>\n",
       "    </tr>\n",
       "    <tr>\n",
       "      <th>227</th>\n",
       "      <td>\"192.168.4.25</td>\n",
       "      <td>22/Dec/2022:16:18:08 +0300</td>\n",
       "      <td>GET</td>\n",
       "      <td>/cgi-sys/domainredirect.cgi</td>\n",
       "      <td>404</td>\n",
       "      <td>517</td>\n",
       "    </tr>\n",
       "    <tr>\n",
       "      <th>228</th>\n",
       "      <td>\"192.168.4.25</td>\n",
       "      <td>22/Dec/2022:16:18:26 +0300</td>\n",
       "      <td>GET</td>\n",
       "      <td>/index.php/component/users/?wvstest=javascript...</td>\n",
       "      <td>200</td>\n",
       "      <td>2822</td>\n",
       "    </tr>\n",
       "    <tr>\n",
       "      <th>229</th>\n",
       "      <td>\"192.168.4.25</td>\n",
       "      <td>22/Dec/2022:16:18:07 +0300</td>\n",
       "      <td>GET</td>\n",
       "      <td>/admin.cgi</td>\n",
       "      <td>404</td>\n",
       "      <td>500</td>\n",
       "    </tr>\n",
       "  </tbody>\n",
       "</table>\n",
       "<p>230 rows × 6 columns</p>\n",
       "</div>"
      ],
      "text/plain": [
       "          Client IP                   Timestamp Method  \\\n",
       "0    \"192.168.4.164  22/Dec/2023:15:19:14 +0300    GET   \n",
       "1    \"192.168.4.164  22/Dec/2023:15:19:15 +0300    GET   \n",
       "2    \"192.168.4.164  22/Dec/2023:15:19:15 +0300    GET   \n",
       "3    \"192.168.4.164  22/Dec/2023:15:19:15 +0300    GET   \n",
       "4    \"192.168.4.164  22/Dec/2023:15:19:15 +0300    GET   \n",
       "..              ...                         ...    ...   \n",
       "225   \"192.168.4.25  22/Dec/2022:16:18:08 +0300    GET   \n",
       "226   \"192.168.4.25  22/Dec/2022:16:18:07 +0300    GET   \n",
       "227   \"192.168.4.25  22/Dec/2022:16:18:08 +0300    GET   \n",
       "228   \"192.168.4.25  22/Dec/2022:16:18:26 +0300    GET   \n",
       "229   \"192.168.4.25  22/Dec/2022:16:18:07 +0300    GET   \n",
       "\n",
       "                                               Request Status Code Bytes Sent  \n",
       "0                                               /DVWA/         200       1964  \n",
       "1                                               /DVWA/         200       1964  \n",
       "2                                               /DVWA/         200       1964  \n",
       "3                                               /DVWA/         200       1964  \n",
       "4                                               /DVWA/         200       1964  \n",
       "..                                                 ...         ...        ...  \n",
       "225                         /cgi-sys/entropybanner.cgi         404        516  \n",
       "226                                                  /         200       3358  \n",
       "227                        /cgi-sys/domainredirect.cgi         404        517  \n",
       "228  /index.php/component/users/?wvstest=javascript...         200       2822  \n",
       "229                                         /admin.cgi         404        500  \n",
       "\n",
       "[230 rows x 6 columns]"
      ]
     },
     "execution_count": 39,
     "metadata": {},
     "output_type": "execute_result"
    }
   ],
   "source": [
    "df_invalid"
   ]
  },
  {
   "cell_type": "markdown",
   "metadata": {},
   "source": [
    "## Duplicidades"
   ]
  },
  {
   "cell_type": "code",
   "execution_count": 50,
   "metadata": {},
   "outputs": [
    {
     "data": {
      "text/html": [
       "<div>\n",
       "<style scoped>\n",
       "    .dataframe tbody tr th:only-of-type {\n",
       "        vertical-align: middle;\n",
       "    }\n",
       "\n",
       "    .dataframe tbody tr th {\n",
       "        vertical-align: top;\n",
       "    }\n",
       "\n",
       "    .dataframe thead th {\n",
       "        text-align: right;\n",
       "    }\n",
       "</style>\n",
       "<table border=\"1\" class=\"dataframe\">\n",
       "  <thead>\n",
       "    <tr style=\"text-align: right;\">\n",
       "      <th></th>\n",
       "      <th>Client IP</th>\n",
       "      <th>Ident</th>\n",
       "      <th>Auth</th>\n",
       "      <th>Timestamp</th>\n",
       "      <th>Method</th>\n",
       "      <th>Request</th>\n",
       "      <th>HTTP Version</th>\n",
       "      <th>Status Code</th>\n",
       "      <th>Bytes Sent</th>\n",
       "      <th>Referrer</th>\n",
       "      <th>User Agent</th>\n",
       "    </tr>\n",
       "  </thead>\n",
       "  <tbody>\n",
       "    <tr>\n",
       "      <th>3</th>\n",
       "      <td>\"192.168.4.164</td>\n",
       "      <td>-</td>\n",
       "      <td>-</td>\n",
       "      <td>22/Dec/2023:15:19:06 +0300</td>\n",
       "      <td>HEAD</td>\n",
       "      <td>/DVWA/.git/config</td>\n",
       "      <td>HTTP/1.1</td>\n",
       "      <td>404</td>\n",
       "      <td>139</td>\n",
       "      <td>-</td>\n",
       "      <td>Mozilla/5.0 (Windows NT 6.3; WOW64) AppleWebKi...</td>\n",
       "    </tr>\n",
       "    <tr>\n",
       "      <th>5</th>\n",
       "      <td>\"192.168.4.164</td>\n",
       "      <td>-</td>\n",
       "      <td>-</td>\n",
       "      <td>22/Dec/2023:15:19:06 +0300</td>\n",
       "      <td>HEAD</td>\n",
       "      <td>/DVWA/.svn/all-wcprops</td>\n",
       "      <td>HTTP/1.1</td>\n",
       "      <td>404</td>\n",
       "      <td>139</td>\n",
       "      <td>-</td>\n",
       "      <td>Mozilla/5.0 (Windows NT 6.3; WOW64) AppleWebKi...</td>\n",
       "    </tr>\n",
       "    <tr>\n",
       "      <th>7</th>\n",
       "      <td>\"192.168.4.164</td>\n",
       "      <td>-</td>\n",
       "      <td>-</td>\n",
       "      <td>22/Dec/2023:15:19:06 +0300</td>\n",
       "      <td>HEAD</td>\n",
       "      <td>/DVWA/.svn/wc.db</td>\n",
       "      <td>HTTP/1.1</td>\n",
       "      <td>404</td>\n",
       "      <td>139</td>\n",
       "      <td>-</td>\n",
       "      <td>Mozilla/5.0 (Windows NT 6.3; WOW64) AppleWebKi...</td>\n",
       "    </tr>\n",
       "    <tr>\n",
       "      <th>9</th>\n",
       "      <td>\"192.168.4.164</td>\n",
       "      <td>-</td>\n",
       "      <td>-</td>\n",
       "      <td>22/Dec/2023:15:19:06 +0300</td>\n",
       "      <td>HEAD</td>\n",
       "      <td>/DVWA/~.aspx</td>\n",
       "      <td>HTTP/1.1</td>\n",
       "      <td>404</td>\n",
       "      <td>139</td>\n",
       "      <td>-</td>\n",
       "      <td>Mozilla/5.0 (Windows NT 6.3; WOW64) AppleWebKi...</td>\n",
       "    </tr>\n",
       "    <tr>\n",
       "      <th>11</th>\n",
       "      <td>\"192.168.4.164</td>\n",
       "      <td>-</td>\n",
       "      <td>-</td>\n",
       "      <td>22/Dec/2023:15:19:06 +0300</td>\n",
       "      <td>HEAD</td>\n",
       "      <td>/DVWA/cgi-bin/</td>\n",
       "      <td>HTTP/1.1</td>\n",
       "      <td>404</td>\n",
       "      <td>139</td>\n",
       "      <td>-</td>\n",
       "      <td>Mozilla/5.0 (Windows NT 6.3; WOW64) AppleWebKi...</td>\n",
       "    </tr>\n",
       "    <tr>\n",
       "      <th>...</th>\n",
       "      <td>...</td>\n",
       "      <td>...</td>\n",
       "      <td>...</td>\n",
       "      <td>...</td>\n",
       "      <td>...</td>\n",
       "      <td>...</td>\n",
       "      <td>...</td>\n",
       "      <td>...</td>\n",
       "      <td>...</td>\n",
       "      <td>...</td>\n",
       "      <td>...</td>\n",
       "    </tr>\n",
       "    <tr>\n",
       "      <th>13591</th>\n",
       "      <td>\"192.168.4.25</td>\n",
       "      <td>-</td>\n",
       "      <td>-</td>\n",
       "      <td>22/Dec/2022:16:38:55 +0300</td>\n",
       "      <td>POST</td>\n",
       "      <td>/index.php/component/users/?task=registration....</td>\n",
       "      <td>HTTP/1.1</td>\n",
       "      <td>200</td>\n",
       "      <td>237</td>\n",
       "      <td>http://192.168.4.161/DVWA</td>\n",
       "      <td>Mozilla/5.0 (Windows NT 6.1; WOW64) AppleWebKi...</td>\n",
       "    </tr>\n",
       "    <tr>\n",
       "      <th>13595</th>\n",
       "      <td>\"192.168.4.25</td>\n",
       "      <td>-</td>\n",
       "      <td>-</td>\n",
       "      <td>22/Dec/2022:16:27:03 +0300</td>\n",
       "      <td>POST</td>\n",
       "      <td>/index.php/component/search/</td>\n",
       "      <td>HTTP/1.1</td>\n",
       "      <td>200</td>\n",
       "      <td>3053</td>\n",
       "      <td>-</td>\n",
       "      <td>Mozilla/5.0 (Windows NT 6.1; WOW64) AppleWebKi...</td>\n",
       "    </tr>\n",
       "    <tr>\n",
       "      <th>13613</th>\n",
       "      <td>\"192.168.4.25</td>\n",
       "      <td>-</td>\n",
       "      <td>-</td>\n",
       "      <td>22/Dec/2022:16:29:16 +0300</td>\n",
       "      <td>POST</td>\n",
       "      <td>/administrator/index.php</td>\n",
       "      <td>HTTP/1.1</td>\n",
       "      <td>500</td>\n",
       "      <td>1522</td>\n",
       "      <td>-</td>\n",
       "      <td>Mozilla/5.0 (Windows NT 6.1; WOW64) AppleWebKi...</td>\n",
       "    </tr>\n",
       "    <tr>\n",
       "      <th>13617</th>\n",
       "      <td>\"192.168.4.25</td>\n",
       "      <td>-</td>\n",
       "      <td>-</td>\n",
       "      <td>22/Dec/2022:16:22:11 +0300</td>\n",
       "      <td>POST</td>\n",
       "      <td>/index.php/component/search/</td>\n",
       "      <td>HTTP/1.1</td>\n",
       "      <td>303</td>\n",
       "      <td>376</td>\n",
       "      <td>http://192.168.4.161/DVWA</td>\n",
       "      <td>Mozilla/5.0 (Windows NT 6.1; WOW64) AppleWebKi...</td>\n",
       "    </tr>\n",
       "    <tr>\n",
       "      <th>13621</th>\n",
       "      <td>\"192.168.4.25</td>\n",
       "      <td>-</td>\n",
       "      <td>-</td>\n",
       "      <td>22/Dec/2022:16:20:55 +0300</td>\n",
       "      <td>POST</td>\n",
       "      <td>/index.php/component/search/</td>\n",
       "      <td>HTTP/1.1</td>\n",
       "      <td>303</td>\n",
       "      <td>363</td>\n",
       "      <td>-</td>\n",
       "      <td>Mozilla/5.0 (Windows NT 6.1; WOW64) AppleWebKi...</td>\n",
       "    </tr>\n",
       "  </tbody>\n",
       "</table>\n",
       "<p>2577 rows × 11 columns</p>\n",
       "</div>"
      ],
      "text/plain": [
       "            Client IP Ident Auth                   Timestamp Method  \\\n",
       "3      \"192.168.4.164     -    -  22/Dec/2023:15:19:06 +0300   HEAD   \n",
       "5      \"192.168.4.164     -    -  22/Dec/2023:15:19:06 +0300   HEAD   \n",
       "7      \"192.168.4.164     -    -  22/Dec/2023:15:19:06 +0300   HEAD   \n",
       "9      \"192.168.4.164     -    -  22/Dec/2023:15:19:06 +0300   HEAD   \n",
       "11     \"192.168.4.164     -    -  22/Dec/2023:15:19:06 +0300   HEAD   \n",
       "...               ...   ...  ...                         ...    ...   \n",
       "13591   \"192.168.4.25     -    -  22/Dec/2022:16:38:55 +0300   POST   \n",
       "13595   \"192.168.4.25     -    -  22/Dec/2022:16:27:03 +0300   POST   \n",
       "13613   \"192.168.4.25     -    -  22/Dec/2022:16:29:16 +0300   POST   \n",
       "13617   \"192.168.4.25     -    -  22/Dec/2022:16:22:11 +0300   POST   \n",
       "13621   \"192.168.4.25     -    -  22/Dec/2022:16:20:55 +0300   POST   \n",
       "\n",
       "                                                 Request HTTP Version  \\\n",
       "3                                      /DVWA/.git/config     HTTP/1.1   \n",
       "5                                 /DVWA/.svn/all-wcprops     HTTP/1.1   \n",
       "7                                       /DVWA/.svn/wc.db     HTTP/1.1   \n",
       "9                                           /DVWA/~.aspx     HTTP/1.1   \n",
       "11                                        /DVWA/cgi-bin/     HTTP/1.1   \n",
       "...                                                  ...          ...   \n",
       "13591  /index.php/component/users/?task=registration....     HTTP/1.1   \n",
       "13595                       /index.php/component/search/     HTTP/1.1   \n",
       "13613                           /administrator/index.php     HTTP/1.1   \n",
       "13617                       /index.php/component/search/     HTTP/1.1   \n",
       "13621                       /index.php/component/search/     HTTP/1.1   \n",
       "\n",
       "      Status Code Bytes Sent                   Referrer  \\\n",
       "3             404        139                          -   \n",
       "5             404        139                          -   \n",
       "7             404        139                          -   \n",
       "9             404        139                          -   \n",
       "11            404        139                          -   \n",
       "...           ...        ...                        ...   \n",
       "13591         200        237  http://192.168.4.161/DVWA   \n",
       "13595         200       3053                          -   \n",
       "13613         500       1522                          -   \n",
       "13617         303        376  http://192.168.4.161/DVWA   \n",
       "13621         303        363                          -   \n",
       "\n",
       "                                              User Agent  \n",
       "3      Mozilla/5.0 (Windows NT 6.3; WOW64) AppleWebKi...  \n",
       "5      Mozilla/5.0 (Windows NT 6.3; WOW64) AppleWebKi...  \n",
       "7      Mozilla/5.0 (Windows NT 6.3; WOW64) AppleWebKi...  \n",
       "9      Mozilla/5.0 (Windows NT 6.3; WOW64) AppleWebKi...  \n",
       "11     Mozilla/5.0 (Windows NT 6.3; WOW64) AppleWebKi...  \n",
       "...                                                  ...  \n",
       "13591  Mozilla/5.0 (Windows NT 6.1; WOW64) AppleWebKi...  \n",
       "13595  Mozilla/5.0 (Windows NT 6.1; WOW64) AppleWebKi...  \n",
       "13613  Mozilla/5.0 (Windows NT 6.1; WOW64) AppleWebKi...  \n",
       "13617  Mozilla/5.0 (Windows NT 6.1; WOW64) AppleWebKi...  \n",
       "13621  Mozilla/5.0 (Windows NT 6.1; WOW64) AppleWebKi...  \n",
       "\n",
       "[2577 rows x 11 columns]"
      ]
     },
     "execution_count": 50,
     "metadata": {},
     "output_type": "execute_result"
    }
   ],
   "source": [
    "df[df.duplicated()]"
   ]
  },
  {
   "cell_type": "code",
   "execution_count": 51,
   "metadata": {},
   "outputs": [
    {
     "data": {
      "text/html": [
       "<div>\n",
       "<style scoped>\n",
       "    .dataframe tbody tr th:only-of-type {\n",
       "        vertical-align: middle;\n",
       "    }\n",
       "\n",
       "    .dataframe tbody tr th {\n",
       "        vertical-align: top;\n",
       "    }\n",
       "\n",
       "    .dataframe thead th {\n",
       "        text-align: right;\n",
       "    }\n",
       "</style>\n",
       "<table border=\"1\" class=\"dataframe\">\n",
       "  <thead>\n",
       "    <tr style=\"text-align: right;\">\n",
       "      <th></th>\n",
       "      <th>Invalid Lines</th>\n",
       "    </tr>\n",
       "  </thead>\n",
       "  <tbody>\n",
       "    <tr>\n",
       "      <th>136</th>\n",
       "      <td>\"192.168.4.164 - - [22/Dec/2023:15:20:34 +0300...</td>\n",
       "    </tr>\n",
       "  </tbody>\n",
       "</table>\n",
       "</div>"
      ],
      "text/plain": [
       "                                         Invalid Lines\n",
       "136  \"192.168.4.164 - - [22/Dec/2023:15:20:34 +0300..."
      ]
     },
     "execution_count": 51,
     "metadata": {},
     "output_type": "execute_result"
    }
   ],
   "source": [
    "df_invalid[df_invalid.duplicated()]"
   ]
  },
  {
   "cell_type": "markdown",
   "metadata": {},
   "source": [
    "# Eliminar duplicidades???????????"
   ]
  },
  {
   "cell_type": "markdown",
   "metadata": {},
   "source": [
    "Distribucion method"
   ]
  },
  {
   "cell_type": "code",
   "execution_count": null,
   "metadata": {},
   "outputs": [
    {
     "data": {
      "text/plain": [
       "array(['GET', 'HEAD', 'NETSPARKER', 'POST', 'OPTIONS', 'PROPFIND'],\n",
       "      dtype=object)"
      ]
     },
     "execution_count": 7,
     "metadata": {},
     "output_type": "execute_result"
    }
   ],
   "source": [
    "df['Method'].unique()"
   ]
  },
  {
   "cell_type": "code",
   "execution_count": null,
   "metadata": {},
   "outputs": [
    {
     "data": {
      "text/html": [
       "<div>\n",
       "<style scoped>\n",
       "    .dataframe tbody tr th:only-of-type {\n",
       "        vertical-align: middle;\n",
       "    }\n",
       "\n",
       "    .dataframe tbody tr th {\n",
       "        vertical-align: top;\n",
       "    }\n",
       "\n",
       "    .dataframe thead th {\n",
       "        text-align: right;\n",
       "    }\n",
       "</style>\n",
       "<table border=\"1\" class=\"dataframe\">\n",
       "  <thead>\n",
       "    <tr style=\"text-align: right;\">\n",
       "      <th></th>\n",
       "      <th>Method</th>\n",
       "      <th>count</th>\n",
       "    </tr>\n",
       "  </thead>\n",
       "  <tbody>\n",
       "    <tr>\n",
       "      <th>0</th>\n",
       "      <td>POST</td>\n",
       "      <td>6689</td>\n",
       "    </tr>\n",
       "    <tr>\n",
       "      <th>1</th>\n",
       "      <td>GET</td>\n",
       "      <td>4826</td>\n",
       "    </tr>\n",
       "    <tr>\n",
       "      <th>2</th>\n",
       "      <td>HEAD</td>\n",
       "      <td>2038</td>\n",
       "    </tr>\n",
       "    <tr>\n",
       "      <th>3</th>\n",
       "      <td>OPTIONS</td>\n",
       "      <td>34</td>\n",
       "    </tr>\n",
       "    <tr>\n",
       "      <th>4</th>\n",
       "      <td>PROPFIND</td>\n",
       "      <td>34</td>\n",
       "    </tr>\n",
       "    <tr>\n",
       "      <th>5</th>\n",
       "      <td>NETSPARKER</td>\n",
       "      <td>1</td>\n",
       "    </tr>\n",
       "  </tbody>\n",
       "</table>\n",
       "</div>"
      ],
      "text/plain": [
       "       Method  count\n",
       "0        POST   6689\n",
       "1         GET   4826\n",
       "2        HEAD   2038\n",
       "3     OPTIONS     34\n",
       "4    PROPFIND     34\n",
       "5  NETSPARKER      1"
      ]
     },
     "execution_count": 8,
     "metadata": {},
     "output_type": "execute_result"
    }
   ],
   "source": [
    "metodos = df['Method'].value_counts().reset_index()\n",
    "metodos"
   ]
  },
  {
   "cell_type": "code",
   "execution_count": null,
   "metadata": {},
   "outputs": [
    {
     "data": {
      "application/vnd.plotly.v1+json": {
       "config": {
        "plotlyServerURL": "https://plot.ly"
       },
       "data": [
        {
         "alignmentgroup": "True",
         "hovertemplate": "Method=%{x}<br>count=%{y}<extra></extra>",
         "legendgroup": "POST",
         "marker": {
          "color": "#636efa",
          "pattern": {
           "shape": ""
          }
         },
         "name": "POST",
         "offsetgroup": "POST",
         "orientation": "v",
         "showlegend": true,
         "textposition": "auto",
         "type": "bar",
         "x": [
          "POST"
         ],
         "xaxis": "x",
         "y": [
          6689
         ],
         "yaxis": "y"
        },
        {
         "alignmentgroup": "True",
         "hovertemplate": "Method=%{x}<br>count=%{y}<extra></extra>",
         "legendgroup": "GET",
         "marker": {
          "color": "#EF553B",
          "pattern": {
           "shape": ""
          }
         },
         "name": "GET",
         "offsetgroup": "GET",
         "orientation": "v",
         "showlegend": true,
         "textposition": "auto",
         "type": "bar",
         "x": [
          "GET"
         ],
         "xaxis": "x",
         "y": [
          4826
         ],
         "yaxis": "y"
        },
        {
         "alignmentgroup": "True",
         "hovertemplate": "Method=%{x}<br>count=%{y}<extra></extra>",
         "legendgroup": "HEAD",
         "marker": {
          "color": "#00cc96",
          "pattern": {
           "shape": ""
          }
         },
         "name": "HEAD",
         "offsetgroup": "HEAD",
         "orientation": "v",
         "showlegend": true,
         "textposition": "auto",
         "type": "bar",
         "x": [
          "HEAD"
         ],
         "xaxis": "x",
         "y": [
          2038
         ],
         "yaxis": "y"
        },
        {
         "alignmentgroup": "True",
         "hovertemplate": "Method=%{x}<br>count=%{y}<extra></extra>",
         "legendgroup": "OPTIONS",
         "marker": {
          "color": "#ab63fa",
          "pattern": {
           "shape": ""
          }
         },
         "name": "OPTIONS",
         "offsetgroup": "OPTIONS",
         "orientation": "v",
         "showlegend": true,
         "textposition": "auto",
         "type": "bar",
         "x": [
          "OPTIONS"
         ],
         "xaxis": "x",
         "y": [
          34
         ],
         "yaxis": "y"
        },
        {
         "alignmentgroup": "True",
         "hovertemplate": "Method=%{x}<br>count=%{y}<extra></extra>",
         "legendgroup": "PROPFIND",
         "marker": {
          "color": "#FFA15A",
          "pattern": {
           "shape": ""
          }
         },
         "name": "PROPFIND",
         "offsetgroup": "PROPFIND",
         "orientation": "v",
         "showlegend": true,
         "textposition": "auto",
         "type": "bar",
         "x": [
          "PROPFIND"
         ],
         "xaxis": "x",
         "y": [
          34
         ],
         "yaxis": "y"
        },
        {
         "alignmentgroup": "True",
         "hovertemplate": "Method=%{x}<br>count=%{y}<extra></extra>",
         "legendgroup": "NETSPARKER",
         "marker": {
          "color": "#19d3f3",
          "pattern": {
           "shape": ""
          }
         },
         "name": "NETSPARKER",
         "offsetgroup": "NETSPARKER",
         "orientation": "v",
         "showlegend": true,
         "textposition": "auto",
         "type": "bar",
         "x": [
          "NETSPARKER"
         ],
         "xaxis": "x",
         "y": [
          1
         ],
         "yaxis": "y"
        }
       ],
       "layout": {
        "barmode": "relative",
        "legend": {
         "title": {
          "text": "Method"
         },
         "tracegroupgap": 0
        },
        "template": {
         "data": {
          "bar": [
           {
            "error_x": {
             "color": "#2a3f5f"
            },
            "error_y": {
             "color": "#2a3f5f"
            },
            "marker": {
             "line": {
              "color": "#E5ECF6",
              "width": 0.5
             },
             "pattern": {
              "fillmode": "overlay",
              "size": 10,
              "solidity": 0.2
             }
            },
            "type": "bar"
           }
          ],
          "barpolar": [
           {
            "marker": {
             "line": {
              "color": "#E5ECF6",
              "width": 0.5
             },
             "pattern": {
              "fillmode": "overlay",
              "size": 10,
              "solidity": 0.2
             }
            },
            "type": "barpolar"
           }
          ],
          "carpet": [
           {
            "aaxis": {
             "endlinecolor": "#2a3f5f",
             "gridcolor": "white",
             "linecolor": "white",
             "minorgridcolor": "white",
             "startlinecolor": "#2a3f5f"
            },
            "baxis": {
             "endlinecolor": "#2a3f5f",
             "gridcolor": "white",
             "linecolor": "white",
             "minorgridcolor": "white",
             "startlinecolor": "#2a3f5f"
            },
            "type": "carpet"
           }
          ],
          "choropleth": [
           {
            "colorbar": {
             "outlinewidth": 0,
             "ticks": ""
            },
            "type": "choropleth"
           }
          ],
          "contour": [
           {
            "colorbar": {
             "outlinewidth": 0,
             "ticks": ""
            },
            "colorscale": [
             [
              0,
              "#0d0887"
             ],
             [
              0.1111111111111111,
              "#46039f"
             ],
             [
              0.2222222222222222,
              "#7201a8"
             ],
             [
              0.3333333333333333,
              "#9c179e"
             ],
             [
              0.4444444444444444,
              "#bd3786"
             ],
             [
              0.5555555555555556,
              "#d8576b"
             ],
             [
              0.6666666666666666,
              "#ed7953"
             ],
             [
              0.7777777777777778,
              "#fb9f3a"
             ],
             [
              0.8888888888888888,
              "#fdca26"
             ],
             [
              1,
              "#f0f921"
             ]
            ],
            "type": "contour"
           }
          ],
          "contourcarpet": [
           {
            "colorbar": {
             "outlinewidth": 0,
             "ticks": ""
            },
            "type": "contourcarpet"
           }
          ],
          "heatmap": [
           {
            "colorbar": {
             "outlinewidth": 0,
             "ticks": ""
            },
            "colorscale": [
             [
              0,
              "#0d0887"
             ],
             [
              0.1111111111111111,
              "#46039f"
             ],
             [
              0.2222222222222222,
              "#7201a8"
             ],
             [
              0.3333333333333333,
              "#9c179e"
             ],
             [
              0.4444444444444444,
              "#bd3786"
             ],
             [
              0.5555555555555556,
              "#d8576b"
             ],
             [
              0.6666666666666666,
              "#ed7953"
             ],
             [
              0.7777777777777778,
              "#fb9f3a"
             ],
             [
              0.8888888888888888,
              "#fdca26"
             ],
             [
              1,
              "#f0f921"
             ]
            ],
            "type": "heatmap"
           }
          ],
          "heatmapgl": [
           {
            "colorbar": {
             "outlinewidth": 0,
             "ticks": ""
            },
            "colorscale": [
             [
              0,
              "#0d0887"
             ],
             [
              0.1111111111111111,
              "#46039f"
             ],
             [
              0.2222222222222222,
              "#7201a8"
             ],
             [
              0.3333333333333333,
              "#9c179e"
             ],
             [
              0.4444444444444444,
              "#bd3786"
             ],
             [
              0.5555555555555556,
              "#d8576b"
             ],
             [
              0.6666666666666666,
              "#ed7953"
             ],
             [
              0.7777777777777778,
              "#fb9f3a"
             ],
             [
              0.8888888888888888,
              "#fdca26"
             ],
             [
              1,
              "#f0f921"
             ]
            ],
            "type": "heatmapgl"
           }
          ],
          "histogram": [
           {
            "marker": {
             "pattern": {
              "fillmode": "overlay",
              "size": 10,
              "solidity": 0.2
             }
            },
            "type": "histogram"
           }
          ],
          "histogram2d": [
           {
            "colorbar": {
             "outlinewidth": 0,
             "ticks": ""
            },
            "colorscale": [
             [
              0,
              "#0d0887"
             ],
             [
              0.1111111111111111,
              "#46039f"
             ],
             [
              0.2222222222222222,
              "#7201a8"
             ],
             [
              0.3333333333333333,
              "#9c179e"
             ],
             [
              0.4444444444444444,
              "#bd3786"
             ],
             [
              0.5555555555555556,
              "#d8576b"
             ],
             [
              0.6666666666666666,
              "#ed7953"
             ],
             [
              0.7777777777777778,
              "#fb9f3a"
             ],
             [
              0.8888888888888888,
              "#fdca26"
             ],
             [
              1,
              "#f0f921"
             ]
            ],
            "type": "histogram2d"
           }
          ],
          "histogram2dcontour": [
           {
            "colorbar": {
             "outlinewidth": 0,
             "ticks": ""
            },
            "colorscale": [
             [
              0,
              "#0d0887"
             ],
             [
              0.1111111111111111,
              "#46039f"
             ],
             [
              0.2222222222222222,
              "#7201a8"
             ],
             [
              0.3333333333333333,
              "#9c179e"
             ],
             [
              0.4444444444444444,
              "#bd3786"
             ],
             [
              0.5555555555555556,
              "#d8576b"
             ],
             [
              0.6666666666666666,
              "#ed7953"
             ],
             [
              0.7777777777777778,
              "#fb9f3a"
             ],
             [
              0.8888888888888888,
              "#fdca26"
             ],
             [
              1,
              "#f0f921"
             ]
            ],
            "type": "histogram2dcontour"
           }
          ],
          "mesh3d": [
           {
            "colorbar": {
             "outlinewidth": 0,
             "ticks": ""
            },
            "type": "mesh3d"
           }
          ],
          "parcoords": [
           {
            "line": {
             "colorbar": {
              "outlinewidth": 0,
              "ticks": ""
             }
            },
            "type": "parcoords"
           }
          ],
          "pie": [
           {
            "automargin": true,
            "type": "pie"
           }
          ],
          "scatter": [
           {
            "fillpattern": {
             "fillmode": "overlay",
             "size": 10,
             "solidity": 0.2
            },
            "type": "scatter"
           }
          ],
          "scatter3d": [
           {
            "line": {
             "colorbar": {
              "outlinewidth": 0,
              "ticks": ""
             }
            },
            "marker": {
             "colorbar": {
              "outlinewidth": 0,
              "ticks": ""
             }
            },
            "type": "scatter3d"
           }
          ],
          "scattercarpet": [
           {
            "marker": {
             "colorbar": {
              "outlinewidth": 0,
              "ticks": ""
             }
            },
            "type": "scattercarpet"
           }
          ],
          "scattergeo": [
           {
            "marker": {
             "colorbar": {
              "outlinewidth": 0,
              "ticks": ""
             }
            },
            "type": "scattergeo"
           }
          ],
          "scattergl": [
           {
            "marker": {
             "colorbar": {
              "outlinewidth": 0,
              "ticks": ""
             }
            },
            "type": "scattergl"
           }
          ],
          "scattermapbox": [
           {
            "marker": {
             "colorbar": {
              "outlinewidth": 0,
              "ticks": ""
             }
            },
            "type": "scattermapbox"
           }
          ],
          "scatterpolar": [
           {
            "marker": {
             "colorbar": {
              "outlinewidth": 0,
              "ticks": ""
             }
            },
            "type": "scatterpolar"
           }
          ],
          "scatterpolargl": [
           {
            "marker": {
             "colorbar": {
              "outlinewidth": 0,
              "ticks": ""
             }
            },
            "type": "scatterpolargl"
           }
          ],
          "scatterternary": [
           {
            "marker": {
             "colorbar": {
              "outlinewidth": 0,
              "ticks": ""
             }
            },
            "type": "scatterternary"
           }
          ],
          "surface": [
           {
            "colorbar": {
             "outlinewidth": 0,
             "ticks": ""
            },
            "colorscale": [
             [
              0,
              "#0d0887"
             ],
             [
              0.1111111111111111,
              "#46039f"
             ],
             [
              0.2222222222222222,
              "#7201a8"
             ],
             [
              0.3333333333333333,
              "#9c179e"
             ],
             [
              0.4444444444444444,
              "#bd3786"
             ],
             [
              0.5555555555555556,
              "#d8576b"
             ],
             [
              0.6666666666666666,
              "#ed7953"
             ],
             [
              0.7777777777777778,
              "#fb9f3a"
             ],
             [
              0.8888888888888888,
              "#fdca26"
             ],
             [
              1,
              "#f0f921"
             ]
            ],
            "type": "surface"
           }
          ],
          "table": [
           {
            "cells": {
             "fill": {
              "color": "#EBF0F8"
             },
             "line": {
              "color": "white"
             }
            },
            "header": {
             "fill": {
              "color": "#C8D4E3"
             },
             "line": {
              "color": "white"
             }
            },
            "type": "table"
           }
          ]
         },
         "layout": {
          "annotationdefaults": {
           "arrowcolor": "#2a3f5f",
           "arrowhead": 0,
           "arrowwidth": 1
          },
          "autotypenumbers": "strict",
          "coloraxis": {
           "colorbar": {
            "outlinewidth": 0,
            "ticks": ""
           }
          },
          "colorscale": {
           "diverging": [
            [
             0,
             "#8e0152"
            ],
            [
             0.1,
             "#c51b7d"
            ],
            [
             0.2,
             "#de77ae"
            ],
            [
             0.3,
             "#f1b6da"
            ],
            [
             0.4,
             "#fde0ef"
            ],
            [
             0.5,
             "#f7f7f7"
            ],
            [
             0.6,
             "#e6f5d0"
            ],
            [
             0.7,
             "#b8e186"
            ],
            [
             0.8,
             "#7fbc41"
            ],
            [
             0.9,
             "#4d9221"
            ],
            [
             1,
             "#276419"
            ]
           ],
           "sequential": [
            [
             0,
             "#0d0887"
            ],
            [
             0.1111111111111111,
             "#46039f"
            ],
            [
             0.2222222222222222,
             "#7201a8"
            ],
            [
             0.3333333333333333,
             "#9c179e"
            ],
            [
             0.4444444444444444,
             "#bd3786"
            ],
            [
             0.5555555555555556,
             "#d8576b"
            ],
            [
             0.6666666666666666,
             "#ed7953"
            ],
            [
             0.7777777777777778,
             "#fb9f3a"
            ],
            [
             0.8888888888888888,
             "#fdca26"
            ],
            [
             1,
             "#f0f921"
            ]
           ],
           "sequentialminus": [
            [
             0,
             "#0d0887"
            ],
            [
             0.1111111111111111,
             "#46039f"
            ],
            [
             0.2222222222222222,
             "#7201a8"
            ],
            [
             0.3333333333333333,
             "#9c179e"
            ],
            [
             0.4444444444444444,
             "#bd3786"
            ],
            [
             0.5555555555555556,
             "#d8576b"
            ],
            [
             0.6666666666666666,
             "#ed7953"
            ],
            [
             0.7777777777777778,
             "#fb9f3a"
            ],
            [
             0.8888888888888888,
             "#fdca26"
            ],
            [
             1,
             "#f0f921"
            ]
           ]
          },
          "colorway": [
           "#636efa",
           "#EF553B",
           "#00cc96",
           "#ab63fa",
           "#FFA15A",
           "#19d3f3",
           "#FF6692",
           "#B6E880",
           "#FF97FF",
           "#FECB52"
          ],
          "font": {
           "color": "#2a3f5f"
          },
          "geo": {
           "bgcolor": "white",
           "lakecolor": "white",
           "landcolor": "#E5ECF6",
           "showlakes": true,
           "showland": true,
           "subunitcolor": "white"
          },
          "hoverlabel": {
           "align": "left"
          },
          "hovermode": "closest",
          "mapbox": {
           "style": "light"
          },
          "paper_bgcolor": "white",
          "plot_bgcolor": "#E5ECF6",
          "polar": {
           "angularaxis": {
            "gridcolor": "white",
            "linecolor": "white",
            "ticks": ""
           },
           "bgcolor": "#E5ECF6",
           "radialaxis": {
            "gridcolor": "white",
            "linecolor": "white",
            "ticks": ""
           }
          },
          "scene": {
           "xaxis": {
            "backgroundcolor": "#E5ECF6",
            "gridcolor": "white",
            "gridwidth": 2,
            "linecolor": "white",
            "showbackground": true,
            "ticks": "",
            "zerolinecolor": "white"
           },
           "yaxis": {
            "backgroundcolor": "#E5ECF6",
            "gridcolor": "white",
            "gridwidth": 2,
            "linecolor": "white",
            "showbackground": true,
            "ticks": "",
            "zerolinecolor": "white"
           },
           "zaxis": {
            "backgroundcolor": "#E5ECF6",
            "gridcolor": "white",
            "gridwidth": 2,
            "linecolor": "white",
            "showbackground": true,
            "ticks": "",
            "zerolinecolor": "white"
           }
          },
          "shapedefaults": {
           "line": {
            "color": "#2a3f5f"
           }
          },
          "ternary": {
           "aaxis": {
            "gridcolor": "white",
            "linecolor": "white",
            "ticks": ""
           },
           "baxis": {
            "gridcolor": "white",
            "linecolor": "white",
            "ticks": ""
           },
           "bgcolor": "#E5ECF6",
           "caxis": {
            "gridcolor": "white",
            "linecolor": "white",
            "ticks": ""
           }
          },
          "title": {
           "x": 0.05
          },
          "xaxis": {
           "automargin": true,
           "gridcolor": "white",
           "linecolor": "white",
           "ticks": "",
           "title": {
            "standoff": 15
           },
           "zerolinecolor": "white",
           "zerolinewidth": 2
          },
          "yaxis": {
           "automargin": true,
           "gridcolor": "white",
           "linecolor": "white",
           "ticks": "",
           "title": {
            "standoff": 15
           },
           "zerolinecolor": "white",
           "zerolinewidth": 2
          }
         }
        },
        "title": {
         "text": "Distribución de los métodos"
        },
        "xaxis": {
         "anchor": "y",
         "categoryarray": [
          "POST",
          "GET",
          "HEAD",
          "OPTIONS",
          "PROPFIND",
          "NETSPARKER"
         ],
         "categoryorder": "array",
         "domain": [
          0,
          1
         ],
         "title": {
          "text": "Method"
         }
        },
        "yaxis": {
         "anchor": "x",
         "domain": [
          0,
          1
         ],
         "title": {
          "text": "count"
         }
        }
       }
      }
     },
     "metadata": {},
     "output_type": "display_data"
    }
   ],
   "source": [
    "fig = px.bar(metodos, x='Method', y='count', color='Method', title='Distribución de los métodos')\n",
    "\n",
    "# Mostrar el gráfico\n",
    "fig.show()"
   ]
  },
  {
   "cell_type": "markdown",
   "metadata": {},
   "source": [
    "Peticiones % que llegan bien"
   ]
  },
  {
   "cell_type": "code",
   "execution_count": null,
   "metadata": {},
   "outputs": [],
   "source": [
    "peticiones = df[df['Method'] == 'GET']"
   ]
  },
  {
   "cell_type": "code",
   "execution_count": null,
   "metadata": {},
   "outputs": [
    {
     "data": {
      "text/html": [
       "<div>\n",
       "<style scoped>\n",
       "    .dataframe tbody tr th:only-of-type {\n",
       "        vertical-align: middle;\n",
       "    }\n",
       "\n",
       "    .dataframe tbody tr th {\n",
       "        vertical-align: top;\n",
       "    }\n",
       "\n",
       "    .dataframe thead th {\n",
       "        text-align: right;\n",
       "    }\n",
       "</style>\n",
       "<table border=\"1\" class=\"dataframe\">\n",
       "  <thead>\n",
       "    <tr style=\"text-align: right;\">\n",
       "      <th></th>\n",
       "      <th>Client IP</th>\n",
       "      <th>Ident</th>\n",
       "      <th>Auth</th>\n",
       "      <th>Timestamp</th>\n",
       "      <th>Method</th>\n",
       "      <th>Request</th>\n",
       "      <th>HTTP Version</th>\n",
       "      <th>Status Code</th>\n",
       "      <th>Bytes Sent</th>\n",
       "      <th>Referrer</th>\n",
       "      <th>User Agent</th>\n",
       "    </tr>\n",
       "  </thead>\n",
       "  <tbody>\n",
       "    <tr>\n",
       "      <th>0</th>\n",
       "      <td>\"192.168.4.164</td>\n",
       "      <td>-</td>\n",
       "      <td>-</td>\n",
       "      <td>22/Dec/2023:15:19:05 +0300</td>\n",
       "      <td>GET</td>\n",
       "      <td>/DVWA/</td>\n",
       "      <td>HTTP/1.1</td>\n",
       "      <td>200</td>\n",
       "      <td>2020</td>\n",
       "      <td>-</td>\n",
       "      <td>Mozilla/5.0 (Windows NT 6.3; WOW64) AppleWebKi...</td>\n",
       "    </tr>\n",
       "    <tr>\n",
       "      <th>26</th>\n",
       "      <td>\"192.168.4.164</td>\n",
       "      <td>-</td>\n",
       "      <td>-</td>\n",
       "      <td>22/Dec/2023:15:19:07 +0300</td>\n",
       "      <td>GET</td>\n",
       "      <td>/DVWA/</td>\n",
       "      <td>HTTP/1.1</td>\n",
       "      <td>302</td>\n",
       "      <td>433</td>\n",
       "      <td>-</td>\n",
       "      <td>Mozilla/5.0 (Windows NT 6.3; WOW64) AppleWebKi...</td>\n",
       "    </tr>\n",
       "    <tr>\n",
       "      <th>27</th>\n",
       "      <td>\"192.168.4.164</td>\n",
       "      <td>-</td>\n",
       "      <td>-</td>\n",
       "      <td>22/Dec/2023:15:19:07 +0300</td>\n",
       "      <td>GET</td>\n",
       "      <td>/DVWA/login.php</td>\n",
       "      <td>HTTP/1.1</td>\n",
       "      <td>200</td>\n",
       "      <td>1016</td>\n",
       "      <td>-</td>\n",
       "      <td>Mozilla/5.0 (Windows NT 6.3; WOW64) AppleWebKi...</td>\n",
       "    </tr>\n",
       "    <tr>\n",
       "      <th>206</th>\n",
       "      <td>\"192.168.4.164</td>\n",
       "      <td>-</td>\n",
       "      <td>-</td>\n",
       "      <td>22/Dec/2023:15:19:08 +0300</td>\n",
       "      <td>GET</td>\n",
       "      <td>/DVWA/</td>\n",
       "      <td>HTTP/1.1</td>\n",
       "      <td>302</td>\n",
       "      <td>414</td>\n",
       "      <td>-</td>\n",
       "      <td>Mozilla/5.0 (Windows NT 6.3; WOW64) AppleWebKi...</td>\n",
       "    </tr>\n",
       "    <tr>\n",
       "      <th>207</th>\n",
       "      <td>\"192.168.4.164</td>\n",
       "      <td>-</td>\n",
       "      <td>-</td>\n",
       "      <td>22/Dec/2023:15:19:08 +0300</td>\n",
       "      <td>GET</td>\n",
       "      <td>/DVWA/dvwa/</td>\n",
       "      <td>HTTP/1.1</td>\n",
       "      <td>200</td>\n",
       "      <td>675</td>\n",
       "      <td>-</td>\n",
       "      <td>Mozilla/5.0 (Windows NT 6.3; WOW64) AppleWebKi...</td>\n",
       "    </tr>\n",
       "  </tbody>\n",
       "</table>\n",
       "</div>"
      ],
      "text/plain": [
       "          Client IP Ident Auth                   Timestamp Method  \\\n",
       "0    \"192.168.4.164     -    -  22/Dec/2023:15:19:05 +0300    GET   \n",
       "26   \"192.168.4.164     -    -  22/Dec/2023:15:19:07 +0300    GET   \n",
       "27   \"192.168.4.164     -    -  22/Dec/2023:15:19:07 +0300    GET   \n",
       "206  \"192.168.4.164     -    -  22/Dec/2023:15:19:08 +0300    GET   \n",
       "207  \"192.168.4.164     -    -  22/Dec/2023:15:19:08 +0300    GET   \n",
       "\n",
       "             Request HTTP Version Status Code Bytes Sent Referrer  \\\n",
       "0             /DVWA/     HTTP/1.1         200       2020        -   \n",
       "26            /DVWA/     HTTP/1.1         302        433        -   \n",
       "27   /DVWA/login.php     HTTP/1.1         200       1016        -   \n",
       "206           /DVWA/     HTTP/1.1         302        414        -   \n",
       "207      /DVWA/dvwa/     HTTP/1.1         200        675        -   \n",
       "\n",
       "                                            User Agent  \n",
       "0    Mozilla/5.0 (Windows NT 6.3; WOW64) AppleWebKi...  \n",
       "26   Mozilla/5.0 (Windows NT 6.3; WOW64) AppleWebKi...  \n",
       "27   Mozilla/5.0 (Windows NT 6.3; WOW64) AppleWebKi...  \n",
       "206  Mozilla/5.0 (Windows NT 6.3; WOW64) AppleWebKi...  \n",
       "207  Mozilla/5.0 (Windows NT 6.3; WOW64) AppleWebKi...  "
      ]
     },
     "execution_count": 11,
     "metadata": {},
     "output_type": "execute_result"
    }
   ],
   "source": [
    "peticiones.head()"
   ]
  },
  {
   "cell_type": "code",
   "execution_count": null,
   "metadata": {},
   "outputs": [
    {
     "data": {
      "text/html": [
       "<div>\n",
       "<style scoped>\n",
       "    .dataframe tbody tr th:only-of-type {\n",
       "        vertical-align: middle;\n",
       "    }\n",
       "\n",
       "    .dataframe tbody tr th {\n",
       "        vertical-align: top;\n",
       "    }\n",
       "\n",
       "    .dataframe thead th {\n",
       "        text-align: right;\n",
       "    }\n",
       "</style>\n",
       "<table border=\"1\" class=\"dataframe\">\n",
       "  <thead>\n",
       "    <tr style=\"text-align: right;\">\n",
       "      <th></th>\n",
       "      <th>Status Code</th>\n",
       "      <th>count</th>\n",
       "    </tr>\n",
       "  </thead>\n",
       "  <tbody>\n",
       "    <tr>\n",
       "      <th>0</th>\n",
       "      <td>200</td>\n",
       "      <td>3808</td>\n",
       "    </tr>\n",
       "    <tr>\n",
       "      <th>1</th>\n",
       "      <td>404</td>\n",
       "      <td>770</td>\n",
       "    </tr>\n",
       "    <tr>\n",
       "      <th>2</th>\n",
       "      <td>500</td>\n",
       "      <td>163</td>\n",
       "    </tr>\n",
       "    <tr>\n",
       "      <th>3</th>\n",
       "      <td>302</td>\n",
       "      <td>55</td>\n",
       "    </tr>\n",
       "    <tr>\n",
       "      <th>4</th>\n",
       "      <td>301</td>\n",
       "      <td>18</td>\n",
       "    </tr>\n",
       "    <tr>\n",
       "      <th>5</th>\n",
       "      <td>400</td>\n",
       "      <td>11</td>\n",
       "    </tr>\n",
       "    <tr>\n",
       "      <th>6</th>\n",
       "      <td>403</td>\n",
       "      <td>1</td>\n",
       "    </tr>\n",
       "  </tbody>\n",
       "</table>\n",
       "</div>"
      ],
      "text/plain": [
       "  Status Code  count\n",
       "0         200   3808\n",
       "1         404    770\n",
       "2         500    163\n",
       "3         302     55\n",
       "4         301     18\n",
       "5         400     11\n",
       "6         403      1"
      ]
     },
     "execution_count": 12,
     "metadata": {},
     "output_type": "execute_result"
    }
   ],
   "source": [
    "peticiones_status = peticiones['Status Code'].value_counts().reset_index()\n",
    "peticiones_status"
   ]
  },
  {
   "cell_type": "code",
   "execution_count": null,
   "metadata": {},
   "outputs": [
    {
     "data": {
      "application/vnd.plotly.v1+json": {
       "config": {
        "plotlyServerURL": "https://plot.ly"
       },
       "data": [
        {
         "alignmentgroup": "True",
         "hovertemplate": "Status Code=%{x}<br>count=%{y}<br>text=%{text}<extra></extra>",
         "legendgroup": "200",
         "marker": {
          "color": "#636efa",
          "pattern": {
           "shape": ""
          }
         },
         "name": "200",
         "offsetgroup": "200",
         "orientation": "v",
         "showlegend": true,
         "text": [
          "78.91%"
         ],
         "textposition": "auto",
         "type": "bar",
         "x": [
          "200"
         ],
         "xaxis": "x",
         "y": [
          3808
         ],
         "yaxis": "y"
        },
        {
         "alignmentgroup": "True",
         "hovertemplate": "Status Code=%{x}<br>count=%{y}<br>text=%{text}<extra></extra>",
         "legendgroup": "404",
         "marker": {
          "color": "#EF553B",
          "pattern": {
           "shape": ""
          }
         },
         "name": "404",
         "offsetgroup": "404",
         "orientation": "v",
         "showlegend": true,
         "text": [
          "15.96%"
         ],
         "textposition": "auto",
         "type": "bar",
         "x": [
          "404"
         ],
         "xaxis": "x",
         "y": [
          770
         ],
         "yaxis": "y"
        },
        {
         "alignmentgroup": "True",
         "hovertemplate": "Status Code=%{x}<br>count=%{y}<br>text=%{text}<extra></extra>",
         "legendgroup": "500",
         "marker": {
          "color": "#00cc96",
          "pattern": {
           "shape": ""
          }
         },
         "name": "500",
         "offsetgroup": "500",
         "orientation": "v",
         "showlegend": true,
         "text": [
          "3.38%"
         ],
         "textposition": "auto",
         "type": "bar",
         "x": [
          "500"
         ],
         "xaxis": "x",
         "y": [
          163
         ],
         "yaxis": "y"
        },
        {
         "alignmentgroup": "True",
         "hovertemplate": "Status Code=%{x}<br>count=%{y}<br>text=%{text}<extra></extra>",
         "legendgroup": "302",
         "marker": {
          "color": "#ab63fa",
          "pattern": {
           "shape": ""
          }
         },
         "name": "302",
         "offsetgroup": "302",
         "orientation": "v",
         "showlegend": true,
         "text": [
          "1.14%"
         ],
         "textposition": "auto",
         "type": "bar",
         "x": [
          "302"
         ],
         "xaxis": "x",
         "y": [
          55
         ],
         "yaxis": "y"
        },
        {
         "alignmentgroup": "True",
         "hovertemplate": "Status Code=%{x}<br>count=%{y}<br>text=%{text}<extra></extra>",
         "legendgroup": "301",
         "marker": {
          "color": "#FFA15A",
          "pattern": {
           "shape": ""
          }
         },
         "name": "301",
         "offsetgroup": "301",
         "orientation": "v",
         "showlegend": true,
         "text": [
          "0.37%"
         ],
         "textposition": "auto",
         "type": "bar",
         "x": [
          "301"
         ],
         "xaxis": "x",
         "y": [
          18
         ],
         "yaxis": "y"
        },
        {
         "alignmentgroup": "True",
         "hovertemplate": "Status Code=%{x}<br>count=%{y}<br>text=%{text}<extra></extra>",
         "legendgroup": "400",
         "marker": {
          "color": "#19d3f3",
          "pattern": {
           "shape": ""
          }
         },
         "name": "400",
         "offsetgroup": "400",
         "orientation": "v",
         "showlegend": true,
         "text": [
          "0.23%"
         ],
         "textposition": "auto",
         "type": "bar",
         "x": [
          "400"
         ],
         "xaxis": "x",
         "y": [
          11
         ],
         "yaxis": "y"
        },
        {
         "alignmentgroup": "True",
         "hovertemplate": "Status Code=%{x}<br>count=%{y}<br>text=%{text}<extra></extra>",
         "legendgroup": "403",
         "marker": {
          "color": "#FF6692",
          "pattern": {
           "shape": ""
          }
         },
         "name": "403",
         "offsetgroup": "403",
         "orientation": "v",
         "showlegend": true,
         "text": [
          "0.02%"
         ],
         "textposition": "auto",
         "type": "bar",
         "x": [
          "403"
         ],
         "xaxis": "x",
         "y": [
          1
         ],
         "yaxis": "y"
        }
       ],
       "layout": {
        "barmode": "relative",
        "legend": {
         "title": {
          "text": "Status Code"
         },
         "tracegroupgap": 0
        },
        "template": {
         "data": {
          "bar": [
           {
            "error_x": {
             "color": "#2a3f5f"
            },
            "error_y": {
             "color": "#2a3f5f"
            },
            "marker": {
             "line": {
              "color": "#E5ECF6",
              "width": 0.5
             },
             "pattern": {
              "fillmode": "overlay",
              "size": 10,
              "solidity": 0.2
             }
            },
            "type": "bar"
           }
          ],
          "barpolar": [
           {
            "marker": {
             "line": {
              "color": "#E5ECF6",
              "width": 0.5
             },
             "pattern": {
              "fillmode": "overlay",
              "size": 10,
              "solidity": 0.2
             }
            },
            "type": "barpolar"
           }
          ],
          "carpet": [
           {
            "aaxis": {
             "endlinecolor": "#2a3f5f",
             "gridcolor": "white",
             "linecolor": "white",
             "minorgridcolor": "white",
             "startlinecolor": "#2a3f5f"
            },
            "baxis": {
             "endlinecolor": "#2a3f5f",
             "gridcolor": "white",
             "linecolor": "white",
             "minorgridcolor": "white",
             "startlinecolor": "#2a3f5f"
            },
            "type": "carpet"
           }
          ],
          "choropleth": [
           {
            "colorbar": {
             "outlinewidth": 0,
             "ticks": ""
            },
            "type": "choropleth"
           }
          ],
          "contour": [
           {
            "colorbar": {
             "outlinewidth": 0,
             "ticks": ""
            },
            "colorscale": [
             [
              0,
              "#0d0887"
             ],
             [
              0.1111111111111111,
              "#46039f"
             ],
             [
              0.2222222222222222,
              "#7201a8"
             ],
             [
              0.3333333333333333,
              "#9c179e"
             ],
             [
              0.4444444444444444,
              "#bd3786"
             ],
             [
              0.5555555555555556,
              "#d8576b"
             ],
             [
              0.6666666666666666,
              "#ed7953"
             ],
             [
              0.7777777777777778,
              "#fb9f3a"
             ],
             [
              0.8888888888888888,
              "#fdca26"
             ],
             [
              1,
              "#f0f921"
             ]
            ],
            "type": "contour"
           }
          ],
          "contourcarpet": [
           {
            "colorbar": {
             "outlinewidth": 0,
             "ticks": ""
            },
            "type": "contourcarpet"
           }
          ],
          "heatmap": [
           {
            "colorbar": {
             "outlinewidth": 0,
             "ticks": ""
            },
            "colorscale": [
             [
              0,
              "#0d0887"
             ],
             [
              0.1111111111111111,
              "#46039f"
             ],
             [
              0.2222222222222222,
              "#7201a8"
             ],
             [
              0.3333333333333333,
              "#9c179e"
             ],
             [
              0.4444444444444444,
              "#bd3786"
             ],
             [
              0.5555555555555556,
              "#d8576b"
             ],
             [
              0.6666666666666666,
              "#ed7953"
             ],
             [
              0.7777777777777778,
              "#fb9f3a"
             ],
             [
              0.8888888888888888,
              "#fdca26"
             ],
             [
              1,
              "#f0f921"
             ]
            ],
            "type": "heatmap"
           }
          ],
          "heatmapgl": [
           {
            "colorbar": {
             "outlinewidth": 0,
             "ticks": ""
            },
            "colorscale": [
             [
              0,
              "#0d0887"
             ],
             [
              0.1111111111111111,
              "#46039f"
             ],
             [
              0.2222222222222222,
              "#7201a8"
             ],
             [
              0.3333333333333333,
              "#9c179e"
             ],
             [
              0.4444444444444444,
              "#bd3786"
             ],
             [
              0.5555555555555556,
              "#d8576b"
             ],
             [
              0.6666666666666666,
              "#ed7953"
             ],
             [
              0.7777777777777778,
              "#fb9f3a"
             ],
             [
              0.8888888888888888,
              "#fdca26"
             ],
             [
              1,
              "#f0f921"
             ]
            ],
            "type": "heatmapgl"
           }
          ],
          "histogram": [
           {
            "marker": {
             "pattern": {
              "fillmode": "overlay",
              "size": 10,
              "solidity": 0.2
             }
            },
            "type": "histogram"
           }
          ],
          "histogram2d": [
           {
            "colorbar": {
             "outlinewidth": 0,
             "ticks": ""
            },
            "colorscale": [
             [
              0,
              "#0d0887"
             ],
             [
              0.1111111111111111,
              "#46039f"
             ],
             [
              0.2222222222222222,
              "#7201a8"
             ],
             [
              0.3333333333333333,
              "#9c179e"
             ],
             [
              0.4444444444444444,
              "#bd3786"
             ],
             [
              0.5555555555555556,
              "#d8576b"
             ],
             [
              0.6666666666666666,
              "#ed7953"
             ],
             [
              0.7777777777777778,
              "#fb9f3a"
             ],
             [
              0.8888888888888888,
              "#fdca26"
             ],
             [
              1,
              "#f0f921"
             ]
            ],
            "type": "histogram2d"
           }
          ],
          "histogram2dcontour": [
           {
            "colorbar": {
             "outlinewidth": 0,
             "ticks": ""
            },
            "colorscale": [
             [
              0,
              "#0d0887"
             ],
             [
              0.1111111111111111,
              "#46039f"
             ],
             [
              0.2222222222222222,
              "#7201a8"
             ],
             [
              0.3333333333333333,
              "#9c179e"
             ],
             [
              0.4444444444444444,
              "#bd3786"
             ],
             [
              0.5555555555555556,
              "#d8576b"
             ],
             [
              0.6666666666666666,
              "#ed7953"
             ],
             [
              0.7777777777777778,
              "#fb9f3a"
             ],
             [
              0.8888888888888888,
              "#fdca26"
             ],
             [
              1,
              "#f0f921"
             ]
            ],
            "type": "histogram2dcontour"
           }
          ],
          "mesh3d": [
           {
            "colorbar": {
             "outlinewidth": 0,
             "ticks": ""
            },
            "type": "mesh3d"
           }
          ],
          "parcoords": [
           {
            "line": {
             "colorbar": {
              "outlinewidth": 0,
              "ticks": ""
             }
            },
            "type": "parcoords"
           }
          ],
          "pie": [
           {
            "automargin": true,
            "type": "pie"
           }
          ],
          "scatter": [
           {
            "fillpattern": {
             "fillmode": "overlay",
             "size": 10,
             "solidity": 0.2
            },
            "type": "scatter"
           }
          ],
          "scatter3d": [
           {
            "line": {
             "colorbar": {
              "outlinewidth": 0,
              "ticks": ""
             }
            },
            "marker": {
             "colorbar": {
              "outlinewidth": 0,
              "ticks": ""
             }
            },
            "type": "scatter3d"
           }
          ],
          "scattercarpet": [
           {
            "marker": {
             "colorbar": {
              "outlinewidth": 0,
              "ticks": ""
             }
            },
            "type": "scattercarpet"
           }
          ],
          "scattergeo": [
           {
            "marker": {
             "colorbar": {
              "outlinewidth": 0,
              "ticks": ""
             }
            },
            "type": "scattergeo"
           }
          ],
          "scattergl": [
           {
            "marker": {
             "colorbar": {
              "outlinewidth": 0,
              "ticks": ""
             }
            },
            "type": "scattergl"
           }
          ],
          "scattermapbox": [
           {
            "marker": {
             "colorbar": {
              "outlinewidth": 0,
              "ticks": ""
             }
            },
            "type": "scattermapbox"
           }
          ],
          "scatterpolar": [
           {
            "marker": {
             "colorbar": {
              "outlinewidth": 0,
              "ticks": ""
             }
            },
            "type": "scatterpolar"
           }
          ],
          "scatterpolargl": [
           {
            "marker": {
             "colorbar": {
              "outlinewidth": 0,
              "ticks": ""
             }
            },
            "type": "scatterpolargl"
           }
          ],
          "scatterternary": [
           {
            "marker": {
             "colorbar": {
              "outlinewidth": 0,
              "ticks": ""
             }
            },
            "type": "scatterternary"
           }
          ],
          "surface": [
           {
            "colorbar": {
             "outlinewidth": 0,
             "ticks": ""
            },
            "colorscale": [
             [
              0,
              "#0d0887"
             ],
             [
              0.1111111111111111,
              "#46039f"
             ],
             [
              0.2222222222222222,
              "#7201a8"
             ],
             [
              0.3333333333333333,
              "#9c179e"
             ],
             [
              0.4444444444444444,
              "#bd3786"
             ],
             [
              0.5555555555555556,
              "#d8576b"
             ],
             [
              0.6666666666666666,
              "#ed7953"
             ],
             [
              0.7777777777777778,
              "#fb9f3a"
             ],
             [
              0.8888888888888888,
              "#fdca26"
             ],
             [
              1,
              "#f0f921"
             ]
            ],
            "type": "surface"
           }
          ],
          "table": [
           {
            "cells": {
             "fill": {
              "color": "#EBF0F8"
             },
             "line": {
              "color": "white"
             }
            },
            "header": {
             "fill": {
              "color": "#C8D4E3"
             },
             "line": {
              "color": "white"
             }
            },
            "type": "table"
           }
          ]
         },
         "layout": {
          "annotationdefaults": {
           "arrowcolor": "#2a3f5f",
           "arrowhead": 0,
           "arrowwidth": 1
          },
          "autotypenumbers": "strict",
          "coloraxis": {
           "colorbar": {
            "outlinewidth": 0,
            "ticks": ""
           }
          },
          "colorscale": {
           "diverging": [
            [
             0,
             "#8e0152"
            ],
            [
             0.1,
             "#c51b7d"
            ],
            [
             0.2,
             "#de77ae"
            ],
            [
             0.3,
             "#f1b6da"
            ],
            [
             0.4,
             "#fde0ef"
            ],
            [
             0.5,
             "#f7f7f7"
            ],
            [
             0.6,
             "#e6f5d0"
            ],
            [
             0.7,
             "#b8e186"
            ],
            [
             0.8,
             "#7fbc41"
            ],
            [
             0.9,
             "#4d9221"
            ],
            [
             1,
             "#276419"
            ]
           ],
           "sequential": [
            [
             0,
             "#0d0887"
            ],
            [
             0.1111111111111111,
             "#46039f"
            ],
            [
             0.2222222222222222,
             "#7201a8"
            ],
            [
             0.3333333333333333,
             "#9c179e"
            ],
            [
             0.4444444444444444,
             "#bd3786"
            ],
            [
             0.5555555555555556,
             "#d8576b"
            ],
            [
             0.6666666666666666,
             "#ed7953"
            ],
            [
             0.7777777777777778,
             "#fb9f3a"
            ],
            [
             0.8888888888888888,
             "#fdca26"
            ],
            [
             1,
             "#f0f921"
            ]
           ],
           "sequentialminus": [
            [
             0,
             "#0d0887"
            ],
            [
             0.1111111111111111,
             "#46039f"
            ],
            [
             0.2222222222222222,
             "#7201a8"
            ],
            [
             0.3333333333333333,
             "#9c179e"
            ],
            [
             0.4444444444444444,
             "#bd3786"
            ],
            [
             0.5555555555555556,
             "#d8576b"
            ],
            [
             0.6666666666666666,
             "#ed7953"
            ],
            [
             0.7777777777777778,
             "#fb9f3a"
            ],
            [
             0.8888888888888888,
             "#fdca26"
            ],
            [
             1,
             "#f0f921"
            ]
           ]
          },
          "colorway": [
           "#636efa",
           "#EF553B",
           "#00cc96",
           "#ab63fa",
           "#FFA15A",
           "#19d3f3",
           "#FF6692",
           "#B6E880",
           "#FF97FF",
           "#FECB52"
          ],
          "font": {
           "color": "#2a3f5f"
          },
          "geo": {
           "bgcolor": "white",
           "lakecolor": "white",
           "landcolor": "#E5ECF6",
           "showlakes": true,
           "showland": true,
           "subunitcolor": "white"
          },
          "hoverlabel": {
           "align": "left"
          },
          "hovermode": "closest",
          "mapbox": {
           "style": "light"
          },
          "paper_bgcolor": "white",
          "plot_bgcolor": "#E5ECF6",
          "polar": {
           "angularaxis": {
            "gridcolor": "white",
            "linecolor": "white",
            "ticks": ""
           },
           "bgcolor": "#E5ECF6",
           "radialaxis": {
            "gridcolor": "white",
            "linecolor": "white",
            "ticks": ""
           }
          },
          "scene": {
           "xaxis": {
            "backgroundcolor": "#E5ECF6",
            "gridcolor": "white",
            "gridwidth": 2,
            "linecolor": "white",
            "showbackground": true,
            "ticks": "",
            "zerolinecolor": "white"
           },
           "yaxis": {
            "backgroundcolor": "#E5ECF6",
            "gridcolor": "white",
            "gridwidth": 2,
            "linecolor": "white",
            "showbackground": true,
            "ticks": "",
            "zerolinecolor": "white"
           },
           "zaxis": {
            "backgroundcolor": "#E5ECF6",
            "gridcolor": "white",
            "gridwidth": 2,
            "linecolor": "white",
            "showbackground": true,
            "ticks": "",
            "zerolinecolor": "white"
           }
          },
          "shapedefaults": {
           "line": {
            "color": "#2a3f5f"
           }
          },
          "ternary": {
           "aaxis": {
            "gridcolor": "white",
            "linecolor": "white",
            "ticks": ""
           },
           "baxis": {
            "gridcolor": "white",
            "linecolor": "white",
            "ticks": ""
           },
           "bgcolor": "#E5ECF6",
           "caxis": {
            "gridcolor": "white",
            "linecolor": "white",
            "ticks": ""
           }
          },
          "title": {
           "x": 0.05
          },
          "xaxis": {
           "automargin": true,
           "gridcolor": "white",
           "linecolor": "white",
           "ticks": "",
           "title": {
            "standoff": 15
           },
           "zerolinecolor": "white",
           "zerolinewidth": 2
          },
          "yaxis": {
           "automargin": true,
           "gridcolor": "white",
           "linecolor": "white",
           "ticks": "",
           "title": {
            "standoff": 15
           },
           "zerolinecolor": "white",
           "zerolinewidth": 2
          }
         }
        },
        "title": {
         "text": "Distribución de los Status Code de las peticiones"
        },
        "xaxis": {
         "anchor": "y",
         "categoryarray": [
          "200",
          "404",
          "500",
          "302",
          "301",
          "400",
          "403"
         ],
         "categoryorder": "array",
         "domain": [
          0,
          1
         ],
         "title": {
          "text": "Status Code"
         }
        },
        "yaxis": {
         "anchor": "x",
         "domain": [
          0,
          1
         ],
         "title": {
          "text": "count"
         }
        }
       }
      }
     },
     "metadata": {},
     "output_type": "display_data"
    }
   ],
   "source": [
    "total_peticiones = peticiones_status['count'].sum()\n",
    "\n",
    "# Calcular el porcentaje de cada barra con dos decimales\n",
    "peticiones_status['porcentaje'] = (peticiones_status['count'] / total_peticiones * 100).round(2)\n",
    "\n",
    "# Crear el gráfico de barras\n",
    "fig = px.bar(peticiones_status, x='Status Code', y='count', color='Status Code', title='Distribución de los Status Code de las peticiones',\n",
    "             text=peticiones_status['porcentaje'].astype(str) + '%')  # Mostrar el porcentaje de cada barra con dos decimales como texto\n",
    "\n",
    "# Mostrar el gráfico\n",
    "fig.show()"
   ]
  },
  {
   "cell_type": "markdown",
   "metadata": {},
   "source": [
    "Envios % que se hacen bien"
   ]
  },
  {
   "cell_type": "code",
   "execution_count": null,
   "metadata": {},
   "outputs": [],
   "source": [
    "envios = df[df['Method'] == 'POST']"
   ]
  },
  {
   "cell_type": "code",
   "execution_count": null,
   "metadata": {},
   "outputs": [
    {
     "data": {
      "text/html": [
       "<div>\n",
       "<style scoped>\n",
       "    .dataframe tbody tr th:only-of-type {\n",
       "        vertical-align: middle;\n",
       "    }\n",
       "\n",
       "    .dataframe tbody tr th {\n",
       "        vertical-align: top;\n",
       "    }\n",
       "\n",
       "    .dataframe thead th {\n",
       "        text-align: right;\n",
       "    }\n",
       "</style>\n",
       "<table border=\"1\" class=\"dataframe\">\n",
       "  <thead>\n",
       "    <tr style=\"text-align: right;\">\n",
       "      <th></th>\n",
       "      <th>Client IP</th>\n",
       "      <th>Ident</th>\n",
       "      <th>Auth</th>\n",
       "      <th>Timestamp</th>\n",
       "      <th>Method</th>\n",
       "      <th>Request</th>\n",
       "      <th>HTTP Version</th>\n",
       "      <th>Status Code</th>\n",
       "      <th>Bytes Sent</th>\n",
       "      <th>Referrer</th>\n",
       "      <th>User Agent</th>\n",
       "    </tr>\n",
       "  </thead>\n",
       "  <tbody>\n",
       "    <tr>\n",
       "      <th>938</th>\n",
       "      <td>\"192.168.4.164</td>\n",
       "      <td>-</td>\n",
       "      <td>-</td>\n",
       "      <td>22/Dec/2023:15:19:10 +0300</td>\n",
       "      <td>POST</td>\n",
       "      <td>/DVWA/login.php</td>\n",
       "      <td>HTTP/1.1</td>\n",
       "      <td>302</td>\n",
       "      <td>329</td>\n",
       "      <td>http://192.168.4.161/DVWA/</td>\n",
       "      <td>Mozilla/5.0 (Windows NT 6.3; WOW64) AppleWebKi...</td>\n",
       "    </tr>\n",
       "    <tr>\n",
       "      <th>1843</th>\n",
       "      <td>\"192.168.4.164</td>\n",
       "      <td>-</td>\n",
       "      <td>-</td>\n",
       "      <td>22/Dec/2023:15:19:17 +0300</td>\n",
       "      <td>POST</td>\n",
       "      <td>/DVWA/setup.php</td>\n",
       "      <td>HTTP/1.1</td>\n",
       "      <td>302</td>\n",
       "      <td>335</td>\n",
       "      <td>http://192.168.4.161/DVWA/setup.php</td>\n",
       "      <td>Mozilla/5.0 (Windows NT 6.3; WOW64) AppleWebKi...</td>\n",
       "    </tr>\n",
       "    <tr>\n",
       "      <th>2023</th>\n",
       "      <td>\"192.168.4.164</td>\n",
       "      <td>-</td>\n",
       "      <td>-</td>\n",
       "      <td>22/Dec/2023:15:19:19 +0300</td>\n",
       "      <td>POST</td>\n",
       "      <td>/DVWA/vulnerabilities/exec/</td>\n",
       "      <td>HTTP/1.1</td>\n",
       "      <td>200</td>\n",
       "      <td>1659</td>\n",
       "      <td>http://192.168.4.161/DVWA/vulnerabilities/exec/</td>\n",
       "      <td>Mozilla/5.0 (Windows NT 6.3; WOW64) AppleWebKi...</td>\n",
       "    </tr>\n",
       "    <tr>\n",
       "      <th>2024</th>\n",
       "      <td>\"192.168.4.164</td>\n",
       "      <td>-</td>\n",
       "      <td>-</td>\n",
       "      <td>22/Dec/2023:15:19:19 +0300</td>\n",
       "      <td>POST</td>\n",
       "      <td>/DVWA/vulnerabilities/exec/</td>\n",
       "      <td>HTTP/1.1</td>\n",
       "      <td>200</td>\n",
       "      <td>1659</td>\n",
       "      <td>http://192.168.4.161/DVWA/vulnerabilities/exec/</td>\n",
       "      <td>Mozilla/5.0 (Windows NT 6.3; WOW64) AppleWebKi...</td>\n",
       "    </tr>\n",
       "    <tr>\n",
       "      <th>2025</th>\n",
       "      <td>\"192.168.4.164</td>\n",
       "      <td>-</td>\n",
       "      <td>-</td>\n",
       "      <td>22/Dec/2023:15:19:19 +0300</td>\n",
       "      <td>POST</td>\n",
       "      <td>/DVWA/vulnerabilities/exec/</td>\n",
       "      <td>HTTP/1.1</td>\n",
       "      <td>200</td>\n",
       "      <td>1762</td>\n",
       "      <td>http://192.168.4.161/DVWA/vulnerabilities/exec/</td>\n",
       "      <td>Mozilla/5.0 (Windows NT 6.3; WOW64) AppleWebKi...</td>\n",
       "    </tr>\n",
       "  </tbody>\n",
       "</table>\n",
       "</div>"
      ],
      "text/plain": [
       "           Client IP Ident Auth                   Timestamp Method  \\\n",
       "938   \"192.168.4.164     -    -  22/Dec/2023:15:19:10 +0300   POST   \n",
       "1843  \"192.168.4.164     -    -  22/Dec/2023:15:19:17 +0300   POST   \n",
       "2023  \"192.168.4.164     -    -  22/Dec/2023:15:19:19 +0300   POST   \n",
       "2024  \"192.168.4.164     -    -  22/Dec/2023:15:19:19 +0300   POST   \n",
       "2025  \"192.168.4.164     -    -  22/Dec/2023:15:19:19 +0300   POST   \n",
       "\n",
       "                          Request HTTP Version Status Code Bytes Sent  \\\n",
       "938               /DVWA/login.php     HTTP/1.1         302        329   \n",
       "1843              /DVWA/setup.php     HTTP/1.1         302        335   \n",
       "2023  /DVWA/vulnerabilities/exec/     HTTP/1.1         200       1659   \n",
       "2024  /DVWA/vulnerabilities/exec/     HTTP/1.1         200       1659   \n",
       "2025  /DVWA/vulnerabilities/exec/     HTTP/1.1         200       1762   \n",
       "\n",
       "                                             Referrer  \\\n",
       "938                        http://192.168.4.161/DVWA/   \n",
       "1843              http://192.168.4.161/DVWA/setup.php   \n",
       "2023  http://192.168.4.161/DVWA/vulnerabilities/exec/   \n",
       "2024  http://192.168.4.161/DVWA/vulnerabilities/exec/   \n",
       "2025  http://192.168.4.161/DVWA/vulnerabilities/exec/   \n",
       "\n",
       "                                             User Agent  \n",
       "938   Mozilla/5.0 (Windows NT 6.3; WOW64) AppleWebKi...  \n",
       "1843  Mozilla/5.0 (Windows NT 6.3; WOW64) AppleWebKi...  \n",
       "2023  Mozilla/5.0 (Windows NT 6.3; WOW64) AppleWebKi...  \n",
       "2024  Mozilla/5.0 (Windows NT 6.3; WOW64) AppleWebKi...  \n",
       "2025  Mozilla/5.0 (Windows NT 6.3; WOW64) AppleWebKi...  "
      ]
     },
     "execution_count": 15,
     "metadata": {},
     "output_type": "execute_result"
    }
   ],
   "source": [
    "envios.head()"
   ]
  },
  {
   "cell_type": "code",
   "execution_count": null,
   "metadata": {},
   "outputs": [
    {
     "data": {
      "text/html": [
       "<div>\n",
       "<style scoped>\n",
       "    .dataframe tbody tr th:only-of-type {\n",
       "        vertical-align: middle;\n",
       "    }\n",
       "\n",
       "    .dataframe tbody tr th {\n",
       "        vertical-align: top;\n",
       "    }\n",
       "\n",
       "    .dataframe thead th {\n",
       "        text-align: right;\n",
       "    }\n",
       "</style>\n",
       "<table border=\"1\" class=\"dataframe\">\n",
       "  <thead>\n",
       "    <tr style=\"text-align: right;\">\n",
       "      <th></th>\n",
       "      <th>Status Code</th>\n",
       "      <th>count</th>\n",
       "    </tr>\n",
       "  </thead>\n",
       "  <tbody>\n",
       "    <tr>\n",
       "      <th>0</th>\n",
       "      <td>303</td>\n",
       "      <td>3407</td>\n",
       "    </tr>\n",
       "    <tr>\n",
       "      <th>1</th>\n",
       "      <td>200</td>\n",
       "      <td>1729</td>\n",
       "    </tr>\n",
       "    <tr>\n",
       "      <th>2</th>\n",
       "      <td>302</td>\n",
       "      <td>943</td>\n",
       "    </tr>\n",
       "    <tr>\n",
       "      <th>3</th>\n",
       "      <td>500</td>\n",
       "      <td>546</td>\n",
       "    </tr>\n",
       "    <tr>\n",
       "      <th>4</th>\n",
       "      <td>404</td>\n",
       "      <td>62</td>\n",
       "    </tr>\n",
       "    <tr>\n",
       "      <th>5</th>\n",
       "      <td>403</td>\n",
       "      <td>2</td>\n",
       "    </tr>\n",
       "  </tbody>\n",
       "</table>\n",
       "</div>"
      ],
      "text/plain": [
       "  Status Code  count\n",
       "0         303   3407\n",
       "1         200   1729\n",
       "2         302    943\n",
       "3         500    546\n",
       "4         404     62\n",
       "5         403      2"
      ]
     },
     "execution_count": 16,
     "metadata": {},
     "output_type": "execute_result"
    }
   ],
   "source": [
    "envios_status = envios['Status Code'].value_counts().reset_index()\n",
    "envios_status"
   ]
  },
  {
   "cell_type": "code",
   "execution_count": null,
   "metadata": {},
   "outputs": [
    {
     "data": {
      "application/vnd.plotly.v1+json": {
       "config": {
        "plotlyServerURL": "https://plot.ly"
       },
       "data": [
        {
         "alignmentgroup": "True",
         "hovertemplate": "Status Code=%{x}<br>count=%{y}<br>text=%{text}<extra></extra>",
         "legendgroup": "303",
         "marker": {
          "color": "#636efa",
          "pattern": {
           "shape": ""
          }
         },
         "name": "303",
         "offsetgroup": "303",
         "orientation": "v",
         "showlegend": true,
         "text": [
          "50.93%"
         ],
         "textposition": "auto",
         "type": "bar",
         "x": [
          "303"
         ],
         "xaxis": "x",
         "y": [
          3407
         ],
         "yaxis": "y"
        },
        {
         "alignmentgroup": "True",
         "hovertemplate": "Status Code=%{x}<br>count=%{y}<br>text=%{text}<extra></extra>",
         "legendgroup": "200",
         "marker": {
          "color": "#EF553B",
          "pattern": {
           "shape": ""
          }
         },
         "name": "200",
         "offsetgroup": "200",
         "orientation": "v",
         "showlegend": true,
         "text": [
          "25.85%"
         ],
         "textposition": "auto",
         "type": "bar",
         "x": [
          "200"
         ],
         "xaxis": "x",
         "y": [
          1729
         ],
         "yaxis": "y"
        },
        {
         "alignmentgroup": "True",
         "hovertemplate": "Status Code=%{x}<br>count=%{y}<br>text=%{text}<extra></extra>",
         "legendgroup": "302",
         "marker": {
          "color": "#00cc96",
          "pattern": {
           "shape": ""
          }
         },
         "name": "302",
         "offsetgroup": "302",
         "orientation": "v",
         "showlegend": true,
         "text": [
          "14.1%"
         ],
         "textposition": "auto",
         "type": "bar",
         "x": [
          "302"
         ],
         "xaxis": "x",
         "y": [
          943
         ],
         "yaxis": "y"
        },
        {
         "alignmentgroup": "True",
         "hovertemplate": "Status Code=%{x}<br>count=%{y}<br>text=%{text}<extra></extra>",
         "legendgroup": "500",
         "marker": {
          "color": "#ab63fa",
          "pattern": {
           "shape": ""
          }
         },
         "name": "500",
         "offsetgroup": "500",
         "orientation": "v",
         "showlegend": true,
         "text": [
          "8.16%"
         ],
         "textposition": "auto",
         "type": "bar",
         "x": [
          "500"
         ],
         "xaxis": "x",
         "y": [
          546
         ],
         "yaxis": "y"
        },
        {
         "alignmentgroup": "True",
         "hovertemplate": "Status Code=%{x}<br>count=%{y}<br>text=%{text}<extra></extra>",
         "legendgroup": "404",
         "marker": {
          "color": "#FFA15A",
          "pattern": {
           "shape": ""
          }
         },
         "name": "404",
         "offsetgroup": "404",
         "orientation": "v",
         "showlegend": true,
         "text": [
          "0.93%"
         ],
         "textposition": "auto",
         "type": "bar",
         "x": [
          "404"
         ],
         "xaxis": "x",
         "y": [
          62
         ],
         "yaxis": "y"
        },
        {
         "alignmentgroup": "True",
         "hovertemplate": "Status Code=%{x}<br>count=%{y}<br>text=%{text}<extra></extra>",
         "legendgroup": "403",
         "marker": {
          "color": "#19d3f3",
          "pattern": {
           "shape": ""
          }
         },
         "name": "403",
         "offsetgroup": "403",
         "orientation": "v",
         "showlegend": true,
         "text": [
          "0.03%"
         ],
         "textposition": "auto",
         "type": "bar",
         "x": [
          "403"
         ],
         "xaxis": "x",
         "y": [
          2
         ],
         "yaxis": "y"
        }
       ],
       "layout": {
        "barmode": "relative",
        "legend": {
         "title": {
          "text": "Status Code"
         },
         "tracegroupgap": 0
        },
        "template": {
         "data": {
          "bar": [
           {
            "error_x": {
             "color": "#2a3f5f"
            },
            "error_y": {
             "color": "#2a3f5f"
            },
            "marker": {
             "line": {
              "color": "#E5ECF6",
              "width": 0.5
             },
             "pattern": {
              "fillmode": "overlay",
              "size": 10,
              "solidity": 0.2
             }
            },
            "type": "bar"
           }
          ],
          "barpolar": [
           {
            "marker": {
             "line": {
              "color": "#E5ECF6",
              "width": 0.5
             },
             "pattern": {
              "fillmode": "overlay",
              "size": 10,
              "solidity": 0.2
             }
            },
            "type": "barpolar"
           }
          ],
          "carpet": [
           {
            "aaxis": {
             "endlinecolor": "#2a3f5f",
             "gridcolor": "white",
             "linecolor": "white",
             "minorgridcolor": "white",
             "startlinecolor": "#2a3f5f"
            },
            "baxis": {
             "endlinecolor": "#2a3f5f",
             "gridcolor": "white",
             "linecolor": "white",
             "minorgridcolor": "white",
             "startlinecolor": "#2a3f5f"
            },
            "type": "carpet"
           }
          ],
          "choropleth": [
           {
            "colorbar": {
             "outlinewidth": 0,
             "ticks": ""
            },
            "type": "choropleth"
           }
          ],
          "contour": [
           {
            "colorbar": {
             "outlinewidth": 0,
             "ticks": ""
            },
            "colorscale": [
             [
              0,
              "#0d0887"
             ],
             [
              0.1111111111111111,
              "#46039f"
             ],
             [
              0.2222222222222222,
              "#7201a8"
             ],
             [
              0.3333333333333333,
              "#9c179e"
             ],
             [
              0.4444444444444444,
              "#bd3786"
             ],
             [
              0.5555555555555556,
              "#d8576b"
             ],
             [
              0.6666666666666666,
              "#ed7953"
             ],
             [
              0.7777777777777778,
              "#fb9f3a"
             ],
             [
              0.8888888888888888,
              "#fdca26"
             ],
             [
              1,
              "#f0f921"
             ]
            ],
            "type": "contour"
           }
          ],
          "contourcarpet": [
           {
            "colorbar": {
             "outlinewidth": 0,
             "ticks": ""
            },
            "type": "contourcarpet"
           }
          ],
          "heatmap": [
           {
            "colorbar": {
             "outlinewidth": 0,
             "ticks": ""
            },
            "colorscale": [
             [
              0,
              "#0d0887"
             ],
             [
              0.1111111111111111,
              "#46039f"
             ],
             [
              0.2222222222222222,
              "#7201a8"
             ],
             [
              0.3333333333333333,
              "#9c179e"
             ],
             [
              0.4444444444444444,
              "#bd3786"
             ],
             [
              0.5555555555555556,
              "#d8576b"
             ],
             [
              0.6666666666666666,
              "#ed7953"
             ],
             [
              0.7777777777777778,
              "#fb9f3a"
             ],
             [
              0.8888888888888888,
              "#fdca26"
             ],
             [
              1,
              "#f0f921"
             ]
            ],
            "type": "heatmap"
           }
          ],
          "heatmapgl": [
           {
            "colorbar": {
             "outlinewidth": 0,
             "ticks": ""
            },
            "colorscale": [
             [
              0,
              "#0d0887"
             ],
             [
              0.1111111111111111,
              "#46039f"
             ],
             [
              0.2222222222222222,
              "#7201a8"
             ],
             [
              0.3333333333333333,
              "#9c179e"
             ],
             [
              0.4444444444444444,
              "#bd3786"
             ],
             [
              0.5555555555555556,
              "#d8576b"
             ],
             [
              0.6666666666666666,
              "#ed7953"
             ],
             [
              0.7777777777777778,
              "#fb9f3a"
             ],
             [
              0.8888888888888888,
              "#fdca26"
             ],
             [
              1,
              "#f0f921"
             ]
            ],
            "type": "heatmapgl"
           }
          ],
          "histogram": [
           {
            "marker": {
             "pattern": {
              "fillmode": "overlay",
              "size": 10,
              "solidity": 0.2
             }
            },
            "type": "histogram"
           }
          ],
          "histogram2d": [
           {
            "colorbar": {
             "outlinewidth": 0,
             "ticks": ""
            },
            "colorscale": [
             [
              0,
              "#0d0887"
             ],
             [
              0.1111111111111111,
              "#46039f"
             ],
             [
              0.2222222222222222,
              "#7201a8"
             ],
             [
              0.3333333333333333,
              "#9c179e"
             ],
             [
              0.4444444444444444,
              "#bd3786"
             ],
             [
              0.5555555555555556,
              "#d8576b"
             ],
             [
              0.6666666666666666,
              "#ed7953"
             ],
             [
              0.7777777777777778,
              "#fb9f3a"
             ],
             [
              0.8888888888888888,
              "#fdca26"
             ],
             [
              1,
              "#f0f921"
             ]
            ],
            "type": "histogram2d"
           }
          ],
          "histogram2dcontour": [
           {
            "colorbar": {
             "outlinewidth": 0,
             "ticks": ""
            },
            "colorscale": [
             [
              0,
              "#0d0887"
             ],
             [
              0.1111111111111111,
              "#46039f"
             ],
             [
              0.2222222222222222,
              "#7201a8"
             ],
             [
              0.3333333333333333,
              "#9c179e"
             ],
             [
              0.4444444444444444,
              "#bd3786"
             ],
             [
              0.5555555555555556,
              "#d8576b"
             ],
             [
              0.6666666666666666,
              "#ed7953"
             ],
             [
              0.7777777777777778,
              "#fb9f3a"
             ],
             [
              0.8888888888888888,
              "#fdca26"
             ],
             [
              1,
              "#f0f921"
             ]
            ],
            "type": "histogram2dcontour"
           }
          ],
          "mesh3d": [
           {
            "colorbar": {
             "outlinewidth": 0,
             "ticks": ""
            },
            "type": "mesh3d"
           }
          ],
          "parcoords": [
           {
            "line": {
             "colorbar": {
              "outlinewidth": 0,
              "ticks": ""
             }
            },
            "type": "parcoords"
           }
          ],
          "pie": [
           {
            "automargin": true,
            "type": "pie"
           }
          ],
          "scatter": [
           {
            "fillpattern": {
             "fillmode": "overlay",
             "size": 10,
             "solidity": 0.2
            },
            "type": "scatter"
           }
          ],
          "scatter3d": [
           {
            "line": {
             "colorbar": {
              "outlinewidth": 0,
              "ticks": ""
             }
            },
            "marker": {
             "colorbar": {
              "outlinewidth": 0,
              "ticks": ""
             }
            },
            "type": "scatter3d"
           }
          ],
          "scattercarpet": [
           {
            "marker": {
             "colorbar": {
              "outlinewidth": 0,
              "ticks": ""
             }
            },
            "type": "scattercarpet"
           }
          ],
          "scattergeo": [
           {
            "marker": {
             "colorbar": {
              "outlinewidth": 0,
              "ticks": ""
             }
            },
            "type": "scattergeo"
           }
          ],
          "scattergl": [
           {
            "marker": {
             "colorbar": {
              "outlinewidth": 0,
              "ticks": ""
             }
            },
            "type": "scattergl"
           }
          ],
          "scattermapbox": [
           {
            "marker": {
             "colorbar": {
              "outlinewidth": 0,
              "ticks": ""
             }
            },
            "type": "scattermapbox"
           }
          ],
          "scatterpolar": [
           {
            "marker": {
             "colorbar": {
              "outlinewidth": 0,
              "ticks": ""
             }
            },
            "type": "scatterpolar"
           }
          ],
          "scatterpolargl": [
           {
            "marker": {
             "colorbar": {
              "outlinewidth": 0,
              "ticks": ""
             }
            },
            "type": "scatterpolargl"
           }
          ],
          "scatterternary": [
           {
            "marker": {
             "colorbar": {
              "outlinewidth": 0,
              "ticks": ""
             }
            },
            "type": "scatterternary"
           }
          ],
          "surface": [
           {
            "colorbar": {
             "outlinewidth": 0,
             "ticks": ""
            },
            "colorscale": [
             [
              0,
              "#0d0887"
             ],
             [
              0.1111111111111111,
              "#46039f"
             ],
             [
              0.2222222222222222,
              "#7201a8"
             ],
             [
              0.3333333333333333,
              "#9c179e"
             ],
             [
              0.4444444444444444,
              "#bd3786"
             ],
             [
              0.5555555555555556,
              "#d8576b"
             ],
             [
              0.6666666666666666,
              "#ed7953"
             ],
             [
              0.7777777777777778,
              "#fb9f3a"
             ],
             [
              0.8888888888888888,
              "#fdca26"
             ],
             [
              1,
              "#f0f921"
             ]
            ],
            "type": "surface"
           }
          ],
          "table": [
           {
            "cells": {
             "fill": {
              "color": "#EBF0F8"
             },
             "line": {
              "color": "white"
             }
            },
            "header": {
             "fill": {
              "color": "#C8D4E3"
             },
             "line": {
              "color": "white"
             }
            },
            "type": "table"
           }
          ]
         },
         "layout": {
          "annotationdefaults": {
           "arrowcolor": "#2a3f5f",
           "arrowhead": 0,
           "arrowwidth": 1
          },
          "autotypenumbers": "strict",
          "coloraxis": {
           "colorbar": {
            "outlinewidth": 0,
            "ticks": ""
           }
          },
          "colorscale": {
           "diverging": [
            [
             0,
             "#8e0152"
            ],
            [
             0.1,
             "#c51b7d"
            ],
            [
             0.2,
             "#de77ae"
            ],
            [
             0.3,
             "#f1b6da"
            ],
            [
             0.4,
             "#fde0ef"
            ],
            [
             0.5,
             "#f7f7f7"
            ],
            [
             0.6,
             "#e6f5d0"
            ],
            [
             0.7,
             "#b8e186"
            ],
            [
             0.8,
             "#7fbc41"
            ],
            [
             0.9,
             "#4d9221"
            ],
            [
             1,
             "#276419"
            ]
           ],
           "sequential": [
            [
             0,
             "#0d0887"
            ],
            [
             0.1111111111111111,
             "#46039f"
            ],
            [
             0.2222222222222222,
             "#7201a8"
            ],
            [
             0.3333333333333333,
             "#9c179e"
            ],
            [
             0.4444444444444444,
             "#bd3786"
            ],
            [
             0.5555555555555556,
             "#d8576b"
            ],
            [
             0.6666666666666666,
             "#ed7953"
            ],
            [
             0.7777777777777778,
             "#fb9f3a"
            ],
            [
             0.8888888888888888,
             "#fdca26"
            ],
            [
             1,
             "#f0f921"
            ]
           ],
           "sequentialminus": [
            [
             0,
             "#0d0887"
            ],
            [
             0.1111111111111111,
             "#46039f"
            ],
            [
             0.2222222222222222,
             "#7201a8"
            ],
            [
             0.3333333333333333,
             "#9c179e"
            ],
            [
             0.4444444444444444,
             "#bd3786"
            ],
            [
             0.5555555555555556,
             "#d8576b"
            ],
            [
             0.6666666666666666,
             "#ed7953"
            ],
            [
             0.7777777777777778,
             "#fb9f3a"
            ],
            [
             0.8888888888888888,
             "#fdca26"
            ],
            [
             1,
             "#f0f921"
            ]
           ]
          },
          "colorway": [
           "#636efa",
           "#EF553B",
           "#00cc96",
           "#ab63fa",
           "#FFA15A",
           "#19d3f3",
           "#FF6692",
           "#B6E880",
           "#FF97FF",
           "#FECB52"
          ],
          "font": {
           "color": "#2a3f5f"
          },
          "geo": {
           "bgcolor": "white",
           "lakecolor": "white",
           "landcolor": "#E5ECF6",
           "showlakes": true,
           "showland": true,
           "subunitcolor": "white"
          },
          "hoverlabel": {
           "align": "left"
          },
          "hovermode": "closest",
          "mapbox": {
           "style": "light"
          },
          "paper_bgcolor": "white",
          "plot_bgcolor": "#E5ECF6",
          "polar": {
           "angularaxis": {
            "gridcolor": "white",
            "linecolor": "white",
            "ticks": ""
           },
           "bgcolor": "#E5ECF6",
           "radialaxis": {
            "gridcolor": "white",
            "linecolor": "white",
            "ticks": ""
           }
          },
          "scene": {
           "xaxis": {
            "backgroundcolor": "#E5ECF6",
            "gridcolor": "white",
            "gridwidth": 2,
            "linecolor": "white",
            "showbackground": true,
            "ticks": "",
            "zerolinecolor": "white"
           },
           "yaxis": {
            "backgroundcolor": "#E5ECF6",
            "gridcolor": "white",
            "gridwidth": 2,
            "linecolor": "white",
            "showbackground": true,
            "ticks": "",
            "zerolinecolor": "white"
           },
           "zaxis": {
            "backgroundcolor": "#E5ECF6",
            "gridcolor": "white",
            "gridwidth": 2,
            "linecolor": "white",
            "showbackground": true,
            "ticks": "",
            "zerolinecolor": "white"
           }
          },
          "shapedefaults": {
           "line": {
            "color": "#2a3f5f"
           }
          },
          "ternary": {
           "aaxis": {
            "gridcolor": "white",
            "linecolor": "white",
            "ticks": ""
           },
           "baxis": {
            "gridcolor": "white",
            "linecolor": "white",
            "ticks": ""
           },
           "bgcolor": "#E5ECF6",
           "caxis": {
            "gridcolor": "white",
            "linecolor": "white",
            "ticks": ""
           }
          },
          "title": {
           "x": 0.05
          },
          "xaxis": {
           "automargin": true,
           "gridcolor": "white",
           "linecolor": "white",
           "ticks": "",
           "title": {
            "standoff": 15
           },
           "zerolinecolor": "white",
           "zerolinewidth": 2
          },
          "yaxis": {
           "automargin": true,
           "gridcolor": "white",
           "linecolor": "white",
           "ticks": "",
           "title": {
            "standoff": 15
           },
           "zerolinecolor": "white",
           "zerolinewidth": 2
          }
         }
        },
        "title": {
         "text": "Distribución de los Status Code de los envios"
        },
        "xaxis": {
         "anchor": "y",
         "categoryarray": [
          "303",
          "200",
          "302",
          "500",
          "404",
          "403"
         ],
         "categoryorder": "array",
         "domain": [
          0,
          1
         ],
         "title": {
          "text": "Status Code"
         }
        },
        "yaxis": {
         "anchor": "x",
         "domain": [
          0,
          1
         ],
         "title": {
          "text": "count"
         }
        }
       }
      }
     },
     "metadata": {},
     "output_type": "display_data"
    }
   ],
   "source": [
    "total_envios = envios_status['count'].sum()\n",
    "\n",
    "# Calcular el porcentaje de cada barra con dos decimales\n",
    "envios_status['porcentaje'] = (envios_status['count'] / total_envios * 100).round(2)\n",
    "\n",
    "# Crear el gráfico de barras\n",
    "fig = px.bar(envios_status, x='Status Code', y='count', color='Status Code', title='Distribución de los Status Code de los envios',\n",
    "             text=envios_status['porcentaje'].astype(str) + '%')  # Mostrar el porcentaje de cada barra con dos decimales como texto\n",
    "\n",
    "# Mostrar el gráfico\n",
    "fig.show()"
   ]
  },
  {
   "cell_type": "code",
   "execution_count": 54,
   "metadata": {},
   "outputs": [
    {
     "name": "stdout",
     "output_type": "stream",
     "text": [
      "Total bytes sent: 7133163\n",
      "Total bytes received: 6744949\n"
     ]
    }
   ],
   "source": [
    "# Calcular el ratio de bytes enviados y recibidos para cada método HTTP\n",
    "bytes_sent = 0\n",
    "bytes_received = 0\n",
    "\n",
    "for i, row in df.iterrows():\n",
    "    method = row['Method']\n",
    "    bytes_str = row['Bytes Sent']\n",
    "    bytes = int(bytes_str)  # Convierte la cadena a un número entero\n",
    "\n",
    "    \n",
    "    if method in ['GET', 'HEAD', 'NETSPARKER']:\n",
    "        bytes_sent += bytes\n",
    "    else:\n",
    "        bytes_received += bytes\n",
    "\n",
    "print(\"Total bytes sent:\", bytes_sent)\n",
    "print(\"Total bytes received:\", bytes_received)\n"
   ]
  },
  {
   "cell_type": "code",
   "execution_count": null,
   "metadata": {},
   "outputs": [],
   "source": [
    "# Mapa de calor de bytes enviados vs recibidos en diferentes momentos del día\n",
    "df_logs['Hour'] = df_logs['Timestamp'].dt.hour\n",
    "heatmap_data = df_logs.groupby(['Hour'])[['Bytes Sent', 'Bytes Received']].mean()\n",
    "plt.figure(figsize=(10, 6))\n",
    "plt.imshow(heatmap_data, cmap='viridis', aspect='auto')\n",
    "plt.colorbar(label='Bytes')\n",
    "plt.xlabel('Hora del día')\n",
    "plt.ylabel('Día')\n",
    "plt.title('Mapa de calor de bytes enviados y recibidos en diferentes momentos del día')\n",
    "plt.show()"
   ]
  },
  {
   "cell_type": "code",
   "execution_count": 67,
   "metadata": {},
   "outputs": [
    {
     "data": {
      "text/plain": [
       "0        31531122.0\n",
       "1               0.0\n",
       "2               0.0\n",
       "3               0.0\n",
       "4               0.0\n",
       "            ...    \n",
       "13617           0.0\n",
       "13618           0.0\n",
       "13619           1.0\n",
       "13620           1.0\n",
       "13621           0.0\n",
       "Name: Latency, Length: 13622, dtype: float64"
      ]
     },
     "execution_count": 67,
     "metadata": {},
     "output_type": "execute_result"
    }
   ],
   "source": [
    "df['Latency'] "
   ]
  },
  {
   "cell_type": "code",
   "execution_count": 66,
   "metadata": {},
   "outputs": [
    {
     "data": {
      "image/png": "[encoded data removed]",
      "text/plain": [
       "<Figure size 1000x600 with 1 Axes>"
      ]
     },
     "metadata": {},
     "output_type": "display_data"
    }
   ],
   "source": [
    "# Análisis de latencia\n",
    "df['Latency'] = (df_ordenado['Timestamp:'] - df_ordenado['Timestamp:'].shift()).fillna(0)\n",
    "\n",
    "# Visualizar la latencia en un histograma\n",
    "plt.figure(figsize=(10, 6))\n",
    "plt.hist(df['Latency'], bins=10, color='blue', alpha=0.7)\n",
    "plt.xlabel('Latency (seconds)')\n",
    "plt.ylabel('Frequency')\n",
    "plt.title('Latency Distribution')\n",
    "plt.show()"
   ]
  },
  {
   "cell_type": "code",
   "execution_count": null,
   "metadata": {},
   "outputs": [
    {
     "data": {
      "text/plain": [
       "0        1.703248e+09\n",
       "1        1.703248e+09\n",
       "2        1.703248e+09\n",
       "3        1.703248e+09\n",
       "4        1.703248e+09\n",
       "             ...     \n",
       "13617    1.671715e+09\n",
       "13618    1.671716e+09\n",
       "13619    1.671715e+09\n",
       "13620    1.671716e+09\n",
       "13621    1.671715e+09\n",
       "Name: Timestamp:, Length: 13622, dtype: float64"
      ]
     },
     "execution_count": 33,
     "metadata": {},
     "output_type": "execute_result"
    }
   ],
   "source": [
    "df['Timestamp:']"
   ]
  },
  {
   "cell_type": "code",
   "execution_count": 59,
   "metadata": {},
   "outputs": [],
   "source": [
    "df_ordenado = df.sort_values(by='Timestamp')"
   ]
  },
  {
   "cell_type": "code",
   "execution_count": 60,
   "metadata": {},
   "outputs": [],
   "source": [
    "formato_entrada = \"%d/%b/%Y:%H:%M:%S %z\""
   ]
  },
  {
   "cell_type": "code",
   "execution_count": 61,
   "metadata": {},
   "outputs": [],
   "source": [
    "from datetime import datetime"
   ]
  },
  {
   "cell_type": "code",
   "execution_count": 62,
   "metadata": {},
   "outputs": [],
   "source": [
    "df_ordenado['Timestamp:'] = df_ordenado['Timestamp'].apply(lambda x: datetime.strptime(x, formato_entrada).timestamp())"
   ]
  },
  {
   "cell_type": "code",
   "execution_count": 89,
   "metadata": {},
   "outputs": [
    {
     "data": {
      "text/plain": [
       "9611     1.671715e+09\n",
       "12210    1.671715e+09\n",
       "9036     1.671715e+09\n",
       "10667    1.671715e+09\n",
       "7989     1.671715e+09\n",
       "             ...     \n",
       "7085     1.703249e+09\n",
       "7086     1.703249e+09\n",
       "7087     1.703249e+09\n",
       "7088     1.703249e+09\n",
       "7089     1.703249e+09\n",
       "Name: Timestamp:, Length: 13622, dtype: float64"
      ]
     },
     "execution_count": 89,
     "metadata": {},
     "output_type": "execute_result"
    }
   ],
   "source": [
    "df_ordenado['Timestamp:']"
   ]
  },
  {
   "cell_type": "code",
   "execution_count": 75,
   "metadata": {},
   "outputs": [
    {
     "data": {
      "text/html": [
       "<div>\n",
       "<style scoped>\n",
       "    .dataframe tbody tr th:only-of-type {\n",
       "        vertical-align: middle;\n",
       "    }\n",
       "\n",
       "    .dataframe tbody tr th {\n",
       "        vertical-align: top;\n",
       "    }\n",
       "\n",
       "    .dataframe thead th {\n",
       "        text-align: right;\n",
       "    }\n",
       "</style>\n",
       "<table border=\"1\" class=\"dataframe\">\n",
       "  <thead>\n",
       "    <tr style=\"text-align: right;\">\n",
       "      <th></th>\n",
       "      <th>Client IP</th>\n",
       "      <th>Ident</th>\n",
       "      <th>Auth</th>\n",
       "      <th>Timestamp</th>\n",
       "      <th>Method</th>\n",
       "      <th>Request</th>\n",
       "      <th>HTTP Version</th>\n",
       "      <th>Status Code</th>\n",
       "      <th>Bytes Sent</th>\n",
       "      <th>Referrer</th>\n",
       "      <th>User Agent</th>\n",
       "      <th>Timestamp:</th>\n",
       "      <th>Latency</th>\n",
       "    </tr>\n",
       "  </thead>\n",
       "  <tbody>\n",
       "    <tr>\n",
       "      <th>9611</th>\n",
       "      <td>\"192.168.4.25</td>\n",
       "      <td>-</td>\n",
       "      <td>-</td>\n",
       "      <td>22/Dec/2022:16:11:41 +0300</td>\n",
       "      <td>POST</td>\n",
       "      <td>/DVWA/login.php</td>\n",
       "      <td>HTTP/1.1</td>\n",
       "      <td>200</td>\n",
       "      <td>1532</td>\n",
       "      <td>-</td>\n",
       "      <td>Mozilla/4.0 (compatible; MSIE 8.0; Windows NT ...</td>\n",
       "      <td>1.671715e+09</td>\n",
       "      <td>NaN</td>\n",
       "    </tr>\n",
       "    <tr>\n",
       "      <th>12210</th>\n",
       "      <td>\"192.168.4.25</td>\n",
       "      <td>-</td>\n",
       "      <td>-</td>\n",
       "      <td>22/Dec/2022:16:11:41 +0300</td>\n",
       "      <td>GET</td>\n",
       "      <td>/DVWA</td>\n",
       "      <td>HTTP/1.1</td>\n",
       "      <td>301</td>\n",
       "      <td>518</td>\n",
       "      <td>-</td>\n",
       "      <td>Mozilla/4.0 (compatible; MSIE 8.0; Windows NT ...</td>\n",
       "      <td>1.671715e+09</td>\n",
       "      <td>0.0</td>\n",
       "    </tr>\n",
       "    <tr>\n",
       "      <th>9036</th>\n",
       "      <td>\"192.168.4.25</td>\n",
       "      <td>-</td>\n",
       "      <td>-</td>\n",
       "      <td>22/Dec/2022:16:18:05 +0300</td>\n",
       "      <td>GET</td>\n",
       "      <td>/DVWA/login.php</td>\n",
       "      <td>HTTP/1.1</td>\n",
       "      <td>200</td>\n",
       "      <td>969</td>\n",
       "      <td>http://192.168.4.161/DVWA</td>\n",
       "      <td>Mozilla/5.0 (Windows NT 6.1; WOW64) AppleWebKi...</td>\n",
       "      <td>1.671715e+09</td>\n",
       "      <td>384.0</td>\n",
       "    </tr>\n",
       "    <tr>\n",
       "      <th>10667</th>\n",
       "      <td>\"192.168.4.25</td>\n",
       "      <td>-</td>\n",
       "      <td>-</td>\n",
       "      <td>22/Dec/2022:16:18:05 +0300</td>\n",
       "      <td>GET</td>\n",
       "      <td>/DVWA</td>\n",
       "      <td>HTTP/1.1</td>\n",
       "      <td>301</td>\n",
       "      <td>537</td>\n",
       "      <td>-</td>\n",
       "      <td>Mozilla/5.0 (Windows NT 6.1; WOW64) AppleWebKi...</td>\n",
       "      <td>1.671715e+09</td>\n",
       "      <td>0.0</td>\n",
       "    </tr>\n",
       "    <tr>\n",
       "      <th>7989</th>\n",
       "      <td>\"192.168.4.25</td>\n",
       "      <td>-</td>\n",
       "      <td>-</td>\n",
       "      <td>22/Dec/2022:16:18:06 +0300</td>\n",
       "      <td>GET</td>\n",
       "      <td>/DVWA/</td>\n",
       "      <td>HTTP/1.1</td>\n",
       "      <td>200</td>\n",
       "      <td>1983</td>\n",
       "      <td>-</td>\n",
       "      <td>Mozilla/5.0 (Windows NT 6.1; WOW64) AppleWebKi...</td>\n",
       "      <td>1.671715e+09</td>\n",
       "      <td>1.0</td>\n",
       "    </tr>\n",
       "    <tr>\n",
       "      <th>...</th>\n",
       "      <td>...</td>\n",
       "      <td>...</td>\n",
       "      <td>...</td>\n",
       "      <td>...</td>\n",
       "      <td>...</td>\n",
       "      <td>...</td>\n",
       "      <td>...</td>\n",
       "      <td>...</td>\n",
       "      <td>...</td>\n",
       "      <td>...</td>\n",
       "      <td>...</td>\n",
       "      <td>...</td>\n",
       "      <td>...</td>\n",
       "    </tr>\n",
       "    <tr>\n",
       "      <th>7085</th>\n",
       "      <td>\"192.168.4.164</td>\n",
       "      <td>-</td>\n",
       "      <td>-</td>\n",
       "      <td>22/Dec/2023:15:37:15 +0300</td>\n",
       "      <td>POST</td>\n",
       "      <td>/DVWA/vulnerabilities/exec/</td>\n",
       "      <td>HTTP/1.1</td>\n",
       "      <td>200</td>\n",
       "      <td>1714</td>\n",
       "      <td>http://192.168.4.161/DVWA/vulnerabilities/exec/</td>\n",
       "      <td>Mozilla/5.0 (Windows NT 6.3; WOW64) AppleWebKi...</td>\n",
       "      <td>1.703249e+09</td>\n",
       "      <td>36.0</td>\n",
       "    </tr>\n",
       "    <tr>\n",
       "      <th>7086</th>\n",
       "      <td>\"192.168.4.164</td>\n",
       "      <td>-</td>\n",
       "      <td>-</td>\n",
       "      <td>22/Dec/2023:15:37:15 +0300</td>\n",
       "      <td>POST</td>\n",
       "      <td>/DVWA/vulnerabilities/exec/</td>\n",
       "      <td>HTTP/1.1</td>\n",
       "      <td>200</td>\n",
       "      <td>1714</td>\n",
       "      <td>http://192.168.4.161/DVWA/vulnerabilities/exec/</td>\n",
       "      <td>Mozilla/5.0 (Windows NT 6.3; WOW64) AppleWebKi...</td>\n",
       "      <td>1.703249e+09</td>\n",
       "      <td>0.0</td>\n",
       "    </tr>\n",
       "    <tr>\n",
       "      <th>7087</th>\n",
       "      <td>\"192.168.4.164</td>\n",
       "      <td>-</td>\n",
       "      <td>-</td>\n",
       "      <td>22/Dec/2023:15:37:27 +0300</td>\n",
       "      <td>POST</td>\n",
       "      <td>/DVWA/vulnerabilities/exec/</td>\n",
       "      <td>HTTP/1.1</td>\n",
       "      <td>200</td>\n",
       "      <td>1714</td>\n",
       "      <td>http://192.168.4.161/DVWA/vulnerabilities/exec/</td>\n",
       "      <td>Mozilla/5.0 (Windows NT 6.3; WOW64) AppleWebKi...</td>\n",
       "      <td>1.703249e+09</td>\n",
       "      <td>12.0</td>\n",
       "    </tr>\n",
       "    <tr>\n",
       "      <th>7088</th>\n",
       "      <td>\"192.168.4.164</td>\n",
       "      <td>-</td>\n",
       "      <td>-</td>\n",
       "      <td>22/Dec/2023:15:37:27 +0300</td>\n",
       "      <td>POST</td>\n",
       "      <td>/DVWA/vulnerabilities/exec/</td>\n",
       "      <td>HTTP/1.1</td>\n",
       "      <td>200</td>\n",
       "      <td>1714</td>\n",
       "      <td>http://192.168.4.161/DVWA/vulnerabilities/exec/</td>\n",
       "      <td>Mozilla/5.0 (Windows NT 6.3; WOW64) AppleWebKi...</td>\n",
       "      <td>1.703249e+09</td>\n",
       "      <td>0.0</td>\n",
       "    </tr>\n",
       "    <tr>\n",
       "      <th>7089</th>\n",
       "      <td>\"192.168.4.164</td>\n",
       "      <td>-</td>\n",
       "      <td>-</td>\n",
       "      <td>22/Dec/2023:15:37:27 +0300</td>\n",
       "      <td>POST</td>\n",
       "      <td>/DVWA/vulnerabilities/exec/</td>\n",
       "      <td>HTTP/1.1</td>\n",
       "      <td>200</td>\n",
       "      <td>1714</td>\n",
       "      <td>http://192.168.4.161/DVWA/vulnerabilities/exec/</td>\n",
       "      <td>Mozilla/5.0 (Windows NT 6.3; WOW64) AppleWebKi...</td>\n",
       "      <td>1.703249e+09</td>\n",
       "      <td>0.0</td>\n",
       "    </tr>\n",
       "  </tbody>\n",
       "</table>\n",
       "<p>13622 rows × 13 columns</p>\n",
       "</div>"
      ],
      "text/plain": [
       "            Client IP Ident Auth                   Timestamp Method  \\\n",
       "9611    \"192.168.4.25     -    -  22/Dec/2022:16:11:41 +0300   POST   \n",
       "12210   \"192.168.4.25     -    -  22/Dec/2022:16:11:41 +0300    GET   \n",
       "9036    \"192.168.4.25     -    -  22/Dec/2022:16:18:05 +0300    GET   \n",
       "10667   \"192.168.4.25     -    -  22/Dec/2022:16:18:05 +0300    GET   \n",
       "7989    \"192.168.4.25     -    -  22/Dec/2022:16:18:06 +0300    GET   \n",
       "...               ...   ...  ...                         ...    ...   \n",
       "7085   \"192.168.4.164     -    -  22/Dec/2023:15:37:15 +0300   POST   \n",
       "7086   \"192.168.4.164     -    -  22/Dec/2023:15:37:15 +0300   POST   \n",
       "7087   \"192.168.4.164     -    -  22/Dec/2023:15:37:27 +0300   POST   \n",
       "7088   \"192.168.4.164     -    -  22/Dec/2023:15:37:27 +0300   POST   \n",
       "7089   \"192.168.4.164     -    -  22/Dec/2023:15:37:27 +0300   POST   \n",
       "\n",
       "                           Request HTTP Version Status Code Bytes Sent  \\\n",
       "9611               /DVWA/login.php     HTTP/1.1         200       1532   \n",
       "12210                        /DVWA     HTTP/1.1         301        518   \n",
       "9036               /DVWA/login.php     HTTP/1.1         200        969   \n",
       "10667                        /DVWA     HTTP/1.1         301        537   \n",
       "7989                        /DVWA/     HTTP/1.1         200       1983   \n",
       "...                            ...          ...         ...        ...   \n",
       "7085   /DVWA/vulnerabilities/exec/     HTTP/1.1         200       1714   \n",
       "7086   /DVWA/vulnerabilities/exec/     HTTP/1.1         200       1714   \n",
       "7087   /DVWA/vulnerabilities/exec/     HTTP/1.1         200       1714   \n",
       "7088   /DVWA/vulnerabilities/exec/     HTTP/1.1         200       1714   \n",
       "7089   /DVWA/vulnerabilities/exec/     HTTP/1.1         200       1714   \n",
       "\n",
       "                                              Referrer  \\\n",
       "9611                                                 -   \n",
       "12210                                                -   \n",
       "9036                         http://192.168.4.161/DVWA   \n",
       "10667                                                -   \n",
       "7989                                                 -   \n",
       "...                                                ...   \n",
       "7085   http://192.168.4.161/DVWA/vulnerabilities/exec/   \n",
       "7086   http://192.168.4.161/DVWA/vulnerabilities/exec/   \n",
       "7087   http://192.168.4.161/DVWA/vulnerabilities/exec/   \n",
       "7088   http://192.168.4.161/DVWA/vulnerabilities/exec/   \n",
       "7089   http://192.168.4.161/DVWA/vulnerabilities/exec/   \n",
       "\n",
       "                                              User Agent    Timestamp:  \\\n",
       "9611   Mozilla/4.0 (compatible; MSIE 8.0; Windows NT ...  1.671715e+09   \n",
       "12210  Mozilla/4.0 (compatible; MSIE 8.0; Windows NT ...  1.671715e+09   \n",
       "9036   Mozilla/5.0 (Windows NT 6.1; WOW64) AppleWebKi...  1.671715e+09   \n",
       "10667  Mozilla/5.0 (Windows NT 6.1; WOW64) AppleWebKi...  1.671715e+09   \n",
       "7989   Mozilla/5.0 (Windows NT 6.1; WOW64) AppleWebKi...  1.671715e+09   \n",
       "...                                                  ...           ...   \n",
       "7085   Mozilla/5.0 (Windows NT 6.3; WOW64) AppleWebKi...  1.703249e+09   \n",
       "7086   Mozilla/5.0 (Windows NT 6.3; WOW64) AppleWebKi...  1.703249e+09   \n",
       "7087   Mozilla/5.0 (Windows NT 6.3; WOW64) AppleWebKi...  1.703249e+09   \n",
       "7088   Mozilla/5.0 (Windows NT 6.3; WOW64) AppleWebKi...  1.703249e+09   \n",
       "7089   Mozilla/5.0 (Windows NT 6.3; WOW64) AppleWebKi...  1.703249e+09   \n",
       "\n",
       "       Latency  \n",
       "9611       NaN  \n",
       "12210      0.0  \n",
       "9036     384.0  \n",
       "10667      0.0  \n",
       "7989       1.0  \n",
       "...        ...  \n",
       "7085      36.0  \n",
       "7086       0.0  \n",
       "7087      12.0  \n",
       "7088       0.0  \n",
       "7089       0.0  \n",
       "\n",
       "[13622 rows x 13 columns]"
      ]
     },
     "execution_count": 75,
     "metadata": {},
     "output_type": "execute_result"
    }
   ],
   "source": [
    "df_ordenado"
   ]
  },
  {
   "cell_type": "code",
   "execution_count": 82,
   "metadata": {},
   "outputs": [
    {
     "data": {
      "text/plain": [
       "array([3.8400000e+02, 4.0000000e+00, 3.0000000e+00, 3.1531122e+07,\n",
       "       6.0000000e+00, 1.1000000e+01, 1.2000000e+01, 2.4000000e+01,\n",
       "       1.4000000e+01, 2.7000000e+01, 2.9000000e+01, 9.0000000e+00,\n",
       "       1.3000000e+01, 1.0000000e+01, 3.6000000e+01])"
      ]
     },
     "execution_count": 82,
     "metadata": {},
     "output_type": "execute_result"
    }
   ],
   "source": [
    "df_ordenado[df_ordenado['Latency'] > 2]['Latency'].unique()"
   ]
  },
  {
   "cell_type": "code",
   "execution_count": 80,
   "metadata": {},
   "outputs": [
    {
     "data": {
      "text/html": [
       "<div>\n",
       "<style scoped>\n",
       "    .dataframe tbody tr th:only-of-type {\n",
       "        vertical-align: middle;\n",
       "    }\n",
       "\n",
       "    .dataframe tbody tr th {\n",
       "        vertical-align: top;\n",
       "    }\n",
       "\n",
       "    .dataframe thead th {\n",
       "        text-align: right;\n",
       "    }\n",
       "</style>\n",
       "<table border=\"1\" class=\"dataframe\">\n",
       "  <thead>\n",
       "    <tr style=\"text-align: right;\">\n",
       "      <th></th>\n",
       "      <th>Client IP</th>\n",
       "      <th>Ident</th>\n",
       "      <th>Auth</th>\n",
       "      <th>Timestamp</th>\n",
       "      <th>Method</th>\n",
       "      <th>Request</th>\n",
       "      <th>HTTP Version</th>\n",
       "      <th>Status Code</th>\n",
       "      <th>Bytes Sent</th>\n",
       "      <th>Referrer</th>\n",
       "      <th>User Agent</th>\n",
       "      <th>Timestamp:</th>\n",
       "      <th>Latency</th>\n",
       "    </tr>\n",
       "  </thead>\n",
       "  <tbody>\n",
       "    <tr>\n",
       "      <th>0</th>\n",
       "      <td>\"192.168.4.164</td>\n",
       "      <td>-</td>\n",
       "      <td>-</td>\n",
       "      <td>22/Dec/2023:15:19:05 +0300</td>\n",
       "      <td>GET</td>\n",
       "      <td>/DVWA/</td>\n",
       "      <td>HTTP/1.1</td>\n",
       "      <td>200</td>\n",
       "      <td>2020</td>\n",
       "      <td>-</td>\n",
       "      <td>Mozilla/5.0 (Windows NT 6.3; WOW64) AppleWebKi...</td>\n",
       "      <td>1.703248e+09</td>\n",
       "      <td>31531122.0</td>\n",
       "    </tr>\n",
       "  </tbody>\n",
       "</table>\n",
       "</div>"
      ],
      "text/plain": [
       "        Client IP Ident Auth                   Timestamp Method Request  \\\n",
       "0  \"192.168.4.164     -    -  22/Dec/2023:15:19:05 +0300    GET  /DVWA/   \n",
       "\n",
       "  HTTP Version Status Code Bytes Sent Referrer  \\\n",
       "0     HTTP/1.1         200       2020        -   \n",
       "\n",
       "                                          User Agent    Timestamp:     Latency  \n",
       "0  Mozilla/5.0 (Windows NT 6.3; WOW64) AppleWebKi...  1.703248e+09  31531122.0  "
      ]
     },
     "execution_count": 80,
     "metadata": {},
     "output_type": "execute_result"
    }
   ],
   "source": [
    "filas_juan = df_ordenado[df_ordenado.index == 0]\n",
    "filas_juan"
   ]
  },
  {
   "cell_type": "code",
   "execution_count": 81,
   "metadata": {},
   "outputs": [
    {
     "data": {
      "text/plain": [
       "6532"
      ]
     },
     "execution_count": 81,
     "metadata": {},
     "output_type": "execute_result"
    }
   ],
   "source": [
    "indice_nuevo = df_ordenado.index.get_loc(0)\n",
    "indice_nuevo"
   ]
  },
  {
   "cell_type": "code",
   "execution_count": 86,
   "metadata": {},
   "outputs": [
    {
     "data": {
      "image/png": "[encoded data removed]",
      "text/plain": [
       "<Figure size 1000x600 with 1 Axes>"
      ]
     },
     "metadata": {},
     "output_type": "display_data"
    }
   ],
   "source": [
    "# Análisis de latencia\n",
    "df_ordenado['Latency'] = (df_ordenado['Timestamp:'] - df_ordenado['Timestamp:'].shift())\n",
    "\n",
    "df_filtrado = df_ordenado[(df_ordenado['Latency'] != 0) & (df_ordenado['Latency'] < 3000) & (df_ordenado['Latency'] > 4)] \n",
    "\n",
    "# Visualizar la latencia en un histograma\n",
    "plt.figure(figsize=(10, 6))\n",
    "plt.hist(df_filtrado['Latency'],bins = 300, edgecolor='black')\n",
    "plt.xlabel('Latencia (segundos)')\n",
    "plt.ylabel('Frecuencia')\n",
    "plt.title('Histograma de latencia')\n",
    "plt.show()"
   ]
  },
  {
   "cell_type": "code",
   "execution_count": null,
   "metadata": {},
   "outputs": [
    {
     "data": {
      "text/plain": [
       "array([       nan,  1.000e+00,  0.000e+00, ...,  9.760e+02,  1.233e+03,\n",
       "       -7.030e+02])"
      ]
     },
     "execution_count": 50,
     "metadata": {},
     "output_type": "execute_result"
    }
   ],
   "source": [
    "df['Latency'].unique()"
   ]
  }
 ],
 "metadata": {
  "kernelspec": {
   "display_name": "RETO07_NARANJA",
   "language": "python",
   "name": "python3"
  },
  "language_info": {
   "codemirror_mode": {
    "name": "ipython",
    "version": 3
   },
   "file_extension": ".py",
   "mimetype": "text/x-python",
   "name": "python",
   "nbconvert_exporter": "python",
   "pygments_lexer": "ipython3",
   "version": "3.9.18"
  }
 },
 "nbformat": 4,
 "nbformat_minor": 2
}
