{
 "cells": [
  {
   "cell_type": "markdown",
   "metadata": {},
   "source": [
    "Carga de librerías"
   ]
  },
  {
   "cell_type": "code",
   "execution_count": null,
   "metadata": {},
   "outputs": [
    {
     "ename": "",
     "evalue": "",
     "output_type": "error",
     "traceback": [
      "\u001b[1;31mFailed to start the Kernel. \n",
      "\u001b[1;31mUnable to start Kernel 'RETO_06_PBD (Python 3.9.18)' due to a connection timeout. \n",
      "\u001b[1;31mView Jupyter <a href='command:jupyter.viewOutput'>log</a> for further details."
     ]
    }
   ],
   "source": [
    "import pandas as pd\n",
    "import missingno as msno\n",
    "import numpy as np"
   ]
  },
  {
   "cell_type": "markdown",
   "metadata": {},
   "source": [
    "## CARGA DE LOS DATOS"
   ]
  },
  {
   "cell_type": "markdown",
   "metadata": {},
   "source": [
    "CSV de Compresores"
   ]
  },
  {
   "cell_type": "code",
   "execution_count": null,
   "metadata": {},
   "outputs": [
    {
     "ename": "",
     "evalue": "",
     "output_type": "error",
     "traceback": [
      "\u001b[1;31mFailed to start the Kernel. \n",
      "\u001b[1;31mUnable to start Kernel 'RETO_06_PBD (Python 3.9.18)' due to a connection timeout. \n",
      "\u001b[1;31mView Jupyter <a href='command:jupyter.viewOutput'>log</a> for further details."
     ]
    }
   ],
   "source": [
    "#Esto hay que cambiarlo, debido a que en progra se nos pide no repetir código, habría que cambiarlo por una función que los lea\n",
    "comp_a = pd.read_csv(\"C:/Users/aleja/Desktop/Clases/Segundo/Reto_8/DATA_MINING/R8/Comp_a.csv\")\n",
    "comp_b = pd.read_csv(\"C:/Users/aleja/Desktop/Clases/Segundo/Reto_8/DATA_MINING/R8/Comp_b.csv\")\n",
    "comp_c = pd.read_csv(\"C:/Users/aleja/Desktop/Clases/Segundo/Reto_8/DATA_MINING/R8/Comp_c.csv\")\n",
    "comp_d = pd.read_csv(\"C:/Users/aleja/Desktop/Clases/Segundo/Reto_8/DATA_MINING/R8/Comp_d.csv\")"
   ]
  },
  {
   "cell_type": "markdown",
   "metadata": {},
   "source": [
    "### Estudio de las variables de los diferentes dataframes"
   ]
  },
  {
   "cell_type": "code",
   "execution_count": 9,
   "metadata": {},
   "outputs": [
    {
     "name": "stdout",
     "output_type": "stream",
     "text": [
      "<class 'pandas.core.frame.DataFrame'>\n",
      "RangeIndex: 39321 entries, 0 to 39320\n",
      "Data columns (total 4 columns):\n",
      " #   Column           Non-Null Count  Dtype  \n",
      "---  ------           --------------  -----  \n",
      " 0   Presion          39321 non-null  float64\n",
      " 1   Temperatura      39321 non-null  float64\n",
      " 2   Frecuencia       39321 non-null  float64\n",
      " 3   Potencia_Medida  39321 non-null  float64\n",
      "dtypes: float64(4)\n",
      "memory usage: 1.2 MB\n",
      "None\n"
     ]
    }
   ],
   "source": [
    "print(comp_a.info())"
   ]
  },
  {
   "cell_type": "code",
   "execution_count": 10,
   "metadata": {},
   "outputs": [
    {
     "name": "stdout",
     "output_type": "stream",
     "text": [
      "<class 'pandas.core.frame.DataFrame'>\n",
      "RangeIndex: 45966 entries, 0 to 45965\n",
      "Data columns (total 4 columns):\n",
      " #   Column           Non-Null Count  Dtype  \n",
      "---  ------           --------------  -----  \n",
      " 0   Presion          45966 non-null  float64\n",
      " 1   Temperatura      45966 non-null  float64\n",
      " 2   Frecuencia       45966 non-null  float64\n",
      " 3   Potencia_Medida  45966 non-null  float64\n",
      "dtypes: float64(4)\n",
      "memory usage: 1.4 MB\n",
      "None\n"
     ]
    }
   ],
   "source": [
    "print(comp_b.info())"
   ]
  },
  {
   "cell_type": "code",
   "execution_count": 11,
   "metadata": {},
   "outputs": [
    {
     "name": "stdout",
     "output_type": "stream",
     "text": [
      "<class 'pandas.core.frame.DataFrame'>\n",
      "RangeIndex: 49705 entries, 0 to 49704\n",
      "Data columns (total 4 columns):\n",
      " #   Column           Non-Null Count  Dtype  \n",
      "---  ------           --------------  -----  \n",
      " 0   Presion          49705 non-null  float64\n",
      " 1   Temperatura      49705 non-null  float64\n",
      " 2   Frecuencia       49705 non-null  float64\n",
      " 3   Potencia_Medida  49705 non-null  float64\n",
      "dtypes: float64(4)\n",
      "memory usage: 1.5 MB\n",
      "None\n"
     ]
    }
   ],
   "source": [
    "print(comp_c.info())"
   ]
  },
  {
   "cell_type": "code",
   "execution_count": 12,
   "metadata": {},
   "outputs": [
    {
     "name": "stdout",
     "output_type": "stream",
     "text": [
      "<class 'pandas.core.frame.DataFrame'>\n",
      "RangeIndex: 41789 entries, 0 to 41788\n",
      "Data columns (total 4 columns):\n",
      " #   Column           Non-Null Count  Dtype  \n",
      "---  ------           --------------  -----  \n",
      " 0   Presion          41789 non-null  float64\n",
      " 1   Temperatura      41789 non-null  float64\n",
      " 2   Frecuencia       41789 non-null  float64\n",
      " 3   Potencia_Medida  41789 non-null  float64\n",
      "dtypes: float64(4)\n",
      "memory usage: 1.3 MB\n",
      "None\n"
     ]
    }
   ],
   "source": [
    "print(comp_d.info())"
   ]
  },
  {
   "cell_type": "markdown",
   "metadata": {},
   "source": [
    "# Análisis de Duplicados"
   ]
  },
  {
   "cell_type": "code",
   "execution_count": 15,
   "metadata": {},
   "outputs": [
    {
     "name": "stdout",
     "output_type": "stream",
     "text": [
      "0\n",
      "0\n",
      "6\n",
      "5\n"
     ]
    }
   ],
   "source": [
    "print(comp_a.duplicated().sum()) \n",
    "print(comp_b.duplicated().sum()) \n",
    "print(comp_c.duplicated().sum()) #Se observa que hay 6 filas duplicadas\n",
    "print(comp_d.duplicated().sum()) #Se observa que hay 5 filas duplicadas"
   ]
  },
  {
   "cell_type": "markdown",
   "metadata": {},
   "source": [
    "Tras observar que hay duplicados, vamos a proceder a aislarlos para ver el caso con el que nos encontramos"
   ]
  },
  {
   "cell_type": "code",
   "execution_count": 17,
   "metadata": {},
   "outputs": [],
   "source": [
    "comp_c_duplicados = comp_c[comp_c.duplicated()]\n",
    "comp_d_duplicados = comp_d[comp_d.duplicated()]"
   ]
  },
  {
   "cell_type": "markdown",
   "metadata": {},
   "source": [
    "Entendemos que se han cogido como duplicados, debido a que en algunos casos, los valores de las columnas son las mismas, pero el index es diferente, se entiende que\n",
    "al medirse cada poco tiempo se dé el caso en el cual los datos se puedan parecer en el tiempo."
   ]
  },
  {
   "cell_type": "markdown",
   "metadata": {},
   "source": [
    "# Missings"
   ]
  }
 ],
 "metadata": {
  "kernelspec": {
   "display_name": "RETO_06_PBD",
   "language": "python",
   "name": "python3"
  },
  "language_info": {
   "codemirror_mode": {
    "name": "ipython",
    "version": 3
   },
   "file_extension": ".py",
   "mimetype": "text/x-python",
   "name": "python",
   "nbconvert_exporter": "python",
   "pygments_lexer": "ipython3",
   "version": "3.9.18"
  }
 },
 "nbformat": 4,
 "nbformat_minor": 2
}
