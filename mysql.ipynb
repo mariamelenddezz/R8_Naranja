{
 "cells": [
  {
   "cell_type": "code",
   "execution_count": 1,
   "metadata": {},
   "outputs": [],
   "source": [
    "import pandas as pd\n",
    "import mysql.connector\n",
    "import json\n",
    "import pymongo\n",
    "from funciones import *\n",
    "import pandas as pd\n",
    "import numpy as np\n",
    "import os\n",
    "from sklearn.model_selection import train_test_split\n",
    "from sklearn.preprocessing import MinMaxScaler\n",
    "import pickle\n",
    "from empiricaldist import Cdf\n",
    "import matplotlib.pyplot as plt\n",
    "import seaborn as sns\n",
    "from sklearn import linear_model, svm\n",
    "from sklearn.ensemble import StackingRegressor\n",
    "from sklearn.neighbors import KNeighborsRegressor\n",
    "from sklearn.tree import DecisionTreeRegressor\n",
    "from sklearn.svm import SVR\n",
    "from sklearn.linear_model import LinearRegression, Lasso, Ridge, ElasticNet, TweedieRegressor\n",
    "from sklearn.ensemble import RandomForestRegressor, GradientBoostingRegressor\n",
    "from sklearn.model_selection import cross_val_score\n",
    "from sklearn.metrics import make_scorer, mean_squared_error, r2_score\n",
    "from yellowbrick.regressor import ResidualsPlot\n",
    "import pygad\n",
    "import random\n",
    "import math\n",
    "import matplotlib.pyplot as plt"
   ]
  },
  {
   "cell_type": "code",
   "execution_count": 2,
   "metadata": {},
   "outputs": [
    {
     "name": "stderr",
     "output_type": "stream",
     "text": [
      "c:\\Users\\HP\\.conda\\envs\\reto06_progra\\lib\\site-packages\\sklearn\\base.py:347: InconsistentVersionWarning: Trying to unpickle estimator DecisionTreeRegressor from version 1.4.0 when using version 1.3.0. This might lead to breaking code or invalid results. Use at your own risk. For more info please refer to:\n",
      "https://scikit-learn.org/stable/model_persistence.html#security-maintainability-limitations\n",
      "  warnings.warn(\n",
      "c:\\Users\\HP\\.conda\\envs\\reto06_progra\\lib\\site-packages\\sklearn\\base.py:347: InconsistentVersionWarning: Trying to unpickle estimator RandomForestRegressor from version 1.4.0 when using version 1.3.0. This might lead to breaking code or invalid results. Use at your own risk. For more info please refer to:\n",
      "https://scikit-learn.org/stable/model_persistence.html#security-maintainability-limitations\n",
      "  warnings.warn(\n",
      "c:\\Users\\HP\\.conda\\envs\\reto06_progra\\lib\\site-packages\\sklearn\\base.py:347: InconsistentVersionWarning: Trying to unpickle estimator MinMaxScaler from version 1.4.0 when using version 1.3.0. This might lead to breaking code or invalid results. Use at your own risk. For more info please refer to:\n",
      "https://scikit-learn.org/stable/model_persistence.html#security-maintainability-limitations\n",
      "  warnings.warn(\n"
     ]
    }
   ],
   "source": [
    "with open('Modelos/Comp_a/RandomForestRegressor_modelo.pkl', 'rb') as archivo:\n",
    "    modelo_a = pickle.load(archivo)\n",
    "with open('Modelos/Comp_b/RandomForestRegressor_modelo.pkl', 'rb') as archivo:\n",
    "    modelo_b = pickle.load(archivo)\n",
    "with open('Modelos/Comp_c/RandomForestRegressor_modelo.pkl', 'rb') as archivo:\n",
    "    modelo_c = pickle.load(archivo)\n",
    "with open('Modelos/Comp_d/RandomForestRegressor_modelo.pkl', 'rb') as archivo:\n",
    "    modelo_d = pickle.load(archivo)\n",
    "with open('Modelos/Comp_a/scaler_model.pkl', 'rb') as archivo:\n",
    "    scaler_a = pickle.load(archivo)\n",
    "with open('Modelos/Comp_b/scaler_model.pkl', 'rb') as archivo:\n",
    "    scaler_b = pickle.load(archivo)\n",
    "with open('Modelos/Comp_c/scaler_model.pkl', 'rb') as archivo:\n",
    "    scaler_c = pickle.load(archivo)\n",
    "with open('Modelos/Comp_d/scaler_model.pkl', 'rb') as archivo:\n",
    "    scaler_d = pickle.load(archivo)\n",
    "comp_a = pd.read_csv('Datos/Originales/Comp_A.csv')\n",
    "comp_b = pd.read_csv('Datos/Originales/Comp_B.csv')\n",
    "comp_c = pd.read_csv('Datos/Originales/Comp_C.csv')\n",
    "comp_d = pd.read_csv('Datos/Originales/Comp_D.csv')\n",
    "condiciones_iniciales = [25, 25, 25, 25]\n",
    "# Generamos la poblacion inicial\n",
    "random.seed(42) #semilla para que en todas las ejecuciones la poblacion inicial sea la misma\n",
    "poblacion_inicial = []\n",
    "poblacion_inicial.append(condiciones_iniciales)\n",
    "for _ in range(50):\n",
    "    individuo = []\n",
    "    for _ in range(4):\n",
    "        gen = random.uniform(1, 90)\n",
    "        individuo.append(gen)\n",
    "    poblacion_inicial.append(individuo)"
   ]
  },
  {
   "cell_type": "code",
   "execution_count": 3,
   "metadata": {},
   "outputs": [],
   "source": [
    "presion = list(comp_a['Presion'])\n",
    "presion.extend(comp_b['Presion'])\n",
    "presion.extend(comp_c['Presion'])\n",
    "presion.extend(comp_d['Presion'])\n",
    "presion = np.median(presion)\n",
    "temp = list(comp_a['Temperatura'])\n",
    "temp.extend(comp_b['Temperatura'])\n",
    "temp.extend(comp_c['Temperatura'])\n",
    "temp.extend(comp_d['Temperatura'])\n",
    "temp = np.median(temp)"
   ]
  },
  {
   "cell_type": "code",
   "execution_count": 4,
   "metadata": {},
   "outputs": [],
   "source": [
    "#definimos la funcion fitness\n",
    "def fitness_func(ga_instance, solution, solution_idx):\n",
    "    capacidad = np.array([100, 90, 95, 110])\n",
    "    frecuencia_porcentaje = [numero / 100 for numero in solution]\n",
    "    volumen_aire  = capacidad * frecuencia_porcentaje\n",
    "    if sum(volumen_aire) >= objetivo:\n",
    "        comp_a = pd.DataFrame({\n",
    "        'Presion': [presion],\n",
    "        'Temperatura': [temp],\n",
    "        'Frecuencia': solution[0]\n",
    "        })\n",
    "        X = scaler_d.transform(comp_a)\n",
    "        X = pd.DataFrame(X, columns=comp_a.columns)\n",
    "        potencia_a = modelo_a.predict(X)\n",
    "        comp_b = pd.DataFrame({\n",
    "        'Presion': [presion],\n",
    "        'Temperatura': [temp],\n",
    "        'Frecuencia': solution[1]\n",
    "        })\n",
    "        X = scaler_d.transform(comp_b)\n",
    "        X = pd.DataFrame(X, columns=comp_b.columns)\n",
    "        potencia_b = modelo_b.predict(X)\n",
    "        comp_c = pd.DataFrame({\n",
    "        'Presion': [presion],\n",
    "        'Temperatura': [temp],\n",
    "        'Frecuencia': solution[2]\n",
    "        })\n",
    "        X = scaler_d.transform(comp_c)\n",
    "        X = pd.DataFrame(X, columns=comp_c.columns)\n",
    "        potencia_c = modelo_c.predict(X)\n",
    "        comp_d = pd.DataFrame({\n",
    "        'Presion': [presion],\n",
    "        'Temperatura': [temp],\n",
    "        'Frecuencia': solution[3]\n",
    "        })\n",
    "        X = scaler_d.transform(comp_d)\n",
    "        X = pd.DataFrame(X, columns=comp_d.columns)\n",
    "        potencia_d = modelo_d.predict(X)\n",
    "        fitness = (potencia_a + potencia_b + potencia_c + potencia_d)\n",
    "        penalizacion = sum(volumen_aire) - objetivo\n",
    "        fitness = (fitness)+math.exp(penalizacion)\n",
    "        for i in range(len(solution)):\n",
    "            if solution[i] != condiciones_iniciales[i]:\n",
    "                fitness +=3\n",
    "        fitness = -fitness\n",
    "        fitness = float(fitness[0])\n",
    "    else:\n",
    "        fitness = -10e99\n",
    "    return fitness"
   ]
  },
  {
   "cell_type": "code",
   "execution_count": 5,
   "metadata": {},
   "outputs": [],
   "source": [
    "num_generations = 100000\n",
    "num_parents_mating = len(poblacion_inicial)//2\n",
    "num_genes = len(poblacion_inicial[0])\n",
    "parent_selection_type = 'random'\n",
    "crossover_type = 'two_points'\n",
    "mutation_type = 'swap'\n",
    "mutation_percent_genes = 1\n",
    "mutation_probability = 0.1\n",
    "keep_parents = 2\n",
    "gene_space = range(1, 90)"
   ]
  },
  {
   "cell_type": "code",
   "execution_count": 6,
   "metadata": {},
   "outputs": [],
   "source": [
    "def on_stop(ga_instance, last_population_fitness):\n",
    "    print(f\"El algoritmo genético ha finalizado.\")\n",
    "    print(\"Mejor solución encontrada:\", ga_instance.best_solution())"
   ]
  },
  {
   "cell_type": "code",
   "execution_count": 7,
   "metadata": {},
   "outputs": [],
   "source": [
    "def on_generation(ga_instance):\n",
    "    print(\"Generación {generation}: Mejor solucion = {best_solution} Mejor fitness = {best_fitness}\".format(generation=ga_instance.generations_completed,\n",
    "                                                                          best_solution = ga_instance.best_solution()[0],\n",
    "                                                                          best_fitness = ga_instance.best_solution()[1]))"
   ]
  },
  {
   "cell_type": "code",
   "execution_count": 8,
   "metadata": {},
   "outputs": [],
   "source": [
    "def nuevos_datos(consigna):\n",
    "    global objetivo\n",
    "    objetivo = consigna\n",
    "    ga_instance_1 = pygad.GA(fitness_func=fitness_func,\n",
    "                       num_generations=100000, \n",
    "                       num_parents_mating=num_parents_mating,\n",
    "                       num_genes=num_genes,\n",
    "                       parent_selection_type=parent_selection_type,\n",
    "                       crossover_type=crossover_type,\n",
    "                       mutation_type= mutation_type,\n",
    "                       gene_space=gene_space,\n",
    "                       mutation_percent_genes = mutation_percent_genes,\n",
    "                       mutation_probability=mutation_probability,\n",
    "                       initial_population=poblacion_inicial,\n",
    "                       gene_type=float,\n",
    "                       on_stop=on_stop,\n",
    "                       save_solutions=True,\n",
    "                       stop_criteria=\"saturate_20\")\n",
    "    ga_instance_1.run()\n",
    "    #eliminamos la penalizacion del fitness para obtener la potencia medida\n",
    "    capacidad = np.array([100, 90, 95, 110])\n",
    "    frecuencia_porcentaje = [numero / 100 for numero in list(ga_instance_1.best_solution()[0])]\n",
    "    volumen_aire  = capacidad * frecuencia_porcentaje\n",
    "    penalizacion = sum(volumen_aire) - objetivo\n",
    "    potencia = (ga_instance_1.best_solution()[1])+math.exp(penalizacion)\n",
    "    return objetivo, ga_instance_1.best_solution()[0][0], ga_instance_1.best_solution()[0][1], ga_instance_1.best_solution()[0][2], ga_instance_1.best_solution()[0][3], -potencia"
   ]
  },
  {
   "cell_type": "code",
   "execution_count": 9,
   "metadata": {},
   "outputs": [
    {
     "name": "stderr",
     "output_type": "stream",
     "text": [
      "c:\\Users\\HP\\.conda\\envs\\reto06_progra\\lib\\site-packages\\pygad\\pygad.py:1139: UserWarning: The 'delay_after_gen' parameter is deprecated starting from PyGAD 3.3.0. To delay or pause the evolution after each generation, assign a callback function/method to the 'on_generation' parameter to adds some time delay.\n",
      "  warnings.warn(\"The 'delay_after_gen' parameter is deprecated starting from PyGAD 3.3.0. To delay or pause the evolution after each generation, assign a callback function/method to the 'on_generation' parameter to adds some time delay.\")\n",
      "c:\\Users\\HP\\.conda\\envs\\reto06_progra\\lib\\site-packages\\pygad\\pygad.py:1162: UserWarning: Use the 'save_solutions' parameter with caution as it may cause memory overflow when either the number of generations, number of genes, or number of solutions in population is large.\n",
      "  warnings.warn(\"Use the 'save_solutions' parameter with caution as it may cause memory overflow when either the number of generations, number of genes, or number of solutions in population is large.\")\n"
     ]
    },
    {
     "name": "stdout",
     "output_type": "stream",
     "text": [
      "El algoritmo genético ha finalizado.\n",
      "Mejor solución encontrada: (array([86.19196343, 25.79051788, 72.83441632, 48.20147683]), -471.5405298582343, 0)\n"
     ]
    },
    {
     "name": "stderr",
     "output_type": "stream",
     "text": [
      "c:\\Users\\HP\\.conda\\envs\\reto06_progra\\lib\\site-packages\\pygad\\pygad.py:1139: UserWarning: The 'delay_after_gen' parameter is deprecated starting from PyGAD 3.3.0. To delay or pause the evolution after each generation, assign a callback function/method to the 'on_generation' parameter to adds some time delay.\n",
      "  warnings.warn(\"The 'delay_after_gen' parameter is deprecated starting from PyGAD 3.3.0. To delay or pause the evolution after each generation, assign a callback function/method to the 'on_generation' parameter to adds some time delay.\")\n",
      "c:\\Users\\HP\\.conda\\envs\\reto06_progra\\lib\\site-packages\\pygad\\pygad.py:1162: UserWarning: Use the 'save_solutions' parameter with caution as it may cause memory overflow when either the number of generations, number of genes, or number of solutions in population is large.\n",
      "  warnings.warn(\"Use the 'save_solutions' parameter with caution as it may cause memory overflow when either the number of generations, number of genes, or number of solutions in population is large.\")\n"
     ]
    },
    {
     "name": "stdout",
     "output_type": "stream",
     "text": [
      "El algoritmo genético ha finalizado.\n",
      "Mejor solución encontrada: (array([84.26076741, 16.90001737, 48.72430014, 16.90001737]), -423.0724162284589, 0)\n"
     ]
    },
    {
     "name": "stderr",
     "output_type": "stream",
     "text": [
      "c:\\Users\\HP\\.conda\\envs\\reto06_progra\\lib\\site-packages\\pygad\\pygad.py:1139: UserWarning: The 'delay_after_gen' parameter is deprecated starting from PyGAD 3.3.0. To delay or pause the evolution after each generation, assign a callback function/method to the 'on_generation' parameter to adds some time delay.\n",
      "  warnings.warn(\"The 'delay_after_gen' parameter is deprecated starting from PyGAD 3.3.0. To delay or pause the evolution after each generation, assign a callback function/method to the 'on_generation' parameter to adds some time delay.\")\n",
      "c:\\Users\\HP\\.conda\\envs\\reto06_progra\\lib\\site-packages\\pygad\\pygad.py:1162: UserWarning: Use the 'save_solutions' parameter with caution as it may cause memory overflow when either the number of generations, number of genes, or number of solutions in population is large.\n",
      "  warnings.warn(\"Use the 'save_solutions' parameter with caution as it may cause memory overflow when either the number of generations, number of genes, or number of solutions in population is large.\")\n"
     ]
    },
    {
     "name": "stdout",
     "output_type": "stream",
     "text": [
      "El algoritmo genético ha finalizado.\n",
      "Mejor solución encontrada: (array([19.77747308,  3.65195253, 38.55104195, 84.91896458]), -411.7994710524208, 0)\n"
     ]
    },
    {
     "name": "stderr",
     "output_type": "stream",
     "text": [
      "c:\\Users\\HP\\.conda\\envs\\reto06_progra\\lib\\site-packages\\pygad\\pygad.py:1139: UserWarning: The 'delay_after_gen' parameter is deprecated starting from PyGAD 3.3.0. To delay or pause the evolution after each generation, assign a callback function/method to the 'on_generation' parameter to adds some time delay.\n",
      "  warnings.warn(\"The 'delay_after_gen' parameter is deprecated starting from PyGAD 3.3.0. To delay or pause the evolution after each generation, assign a callback function/method to the 'on_generation' parameter to adds some time delay.\")\n",
      "c:\\Users\\HP\\.conda\\envs\\reto06_progra\\lib\\site-packages\\pygad\\pygad.py:1162: UserWarning: Use the 'save_solutions' parameter with caution as it may cause memory overflow when either the number of generations, number of genes, or number of solutions in population is large.\n",
      "  warnings.warn(\"Use the 'save_solutions' parameter with caution as it may cause memory overflow when either the number of generations, number of genes, or number of solutions in population is large.\")\n"
     ]
    },
    {
     "name": "stdout",
     "output_type": "stream",
     "text": [
      "El algoritmo genético ha finalizado.\n",
      "Mejor solución encontrada: (array([78.99671876, 25.        , 74.81701512, 65.14424192]), -478.537650412097, 0)\n"
     ]
    },
    {
     "name": "stderr",
     "output_type": "stream",
     "text": [
      "c:\\Users\\HP\\.conda\\envs\\reto06_progra\\lib\\site-packages\\pygad\\pygad.py:1139: UserWarning: The 'delay_after_gen' parameter is deprecated starting from PyGAD 3.3.0. To delay or pause the evolution after each generation, assign a callback function/method to the 'on_generation' parameter to adds some time delay.\n",
      "  warnings.warn(\"The 'delay_after_gen' parameter is deprecated starting from PyGAD 3.3.0. To delay or pause the evolution after each generation, assign a callback function/method to the 'on_generation' parameter to adds some time delay.\")\n",
      "c:\\Users\\HP\\.conda\\envs\\reto06_progra\\lib\\site-packages\\pygad\\pygad.py:1162: UserWarning: Use the 'save_solutions' parameter with caution as it may cause memory overflow when either the number of generations, number of genes, or number of solutions in population is large.\n",
      "  warnings.warn(\"Use the 'save_solutions' parameter with caution as it may cause memory overflow when either the number of generations, number of genes, or number of solutions in population is large.\")\n"
     ]
    },
    {
     "name": "stdout",
     "output_type": "stream",
     "text": [
      "El algoritmo genético ha finalizado.\n",
      "Mejor solución encontrada: (array([63.70689342, 30.95691452, 65.8877506 , 28.74274993]), -453.78375935361015, 0)\n"
     ]
    },
    {
     "name": "stderr",
     "output_type": "stream",
     "text": [
      "c:\\Users\\HP\\.conda\\envs\\reto06_progra\\lib\\site-packages\\pygad\\pygad.py:1139: UserWarning: The 'delay_after_gen' parameter is deprecated starting from PyGAD 3.3.0. To delay or pause the evolution after each generation, assign a callback function/method to the 'on_generation' parameter to adds some time delay.\n",
      "  warnings.warn(\"The 'delay_after_gen' parameter is deprecated starting from PyGAD 3.3.0. To delay or pause the evolution after each generation, assign a callback function/method to the 'on_generation' parameter to adds some time delay.\")\n",
      "c:\\Users\\HP\\.conda\\envs\\reto06_progra\\lib\\site-packages\\pygad\\pygad.py:1162: UserWarning: Use the 'save_solutions' parameter with caution as it may cause memory overflow when either the number of generations, number of genes, or number of solutions in population is large.\n",
      "  warnings.warn(\"Use the 'save_solutions' parameter with caution as it may cause memory overflow when either the number of generations, number of genes, or number of solutions in population is large.\")\n"
     ]
    },
    {
     "name": "stdout",
     "output_type": "stream",
     "text": [
      "El algoritmo genético ha finalizado.\n",
      "Mejor solución encontrada: (array([82.2238777 , 25.        , 25.        , 48.20147683]), -425.40260749066306, 0)\n"
     ]
    },
    {
     "name": "stderr",
     "output_type": "stream",
     "text": [
      "c:\\Users\\HP\\.conda\\envs\\reto06_progra\\lib\\site-packages\\pygad\\pygad.py:1139: UserWarning: The 'delay_after_gen' parameter is deprecated starting from PyGAD 3.3.0. To delay or pause the evolution after each generation, assign a callback function/method to the 'on_generation' parameter to adds some time delay.\n",
      "  warnings.warn(\"The 'delay_after_gen' parameter is deprecated starting from PyGAD 3.3.0. To delay or pause the evolution after each generation, assign a callback function/method to the 'on_generation' parameter to adds some time delay.\")\n",
      "c:\\Users\\HP\\.conda\\envs\\reto06_progra\\lib\\site-packages\\pygad\\pygad.py:1162: UserWarning: Use the 'save_solutions' parameter with caution as it may cause memory overflow when either the number of generations, number of genes, or number of solutions in population is large.\n",
      "  warnings.warn(\"Use the 'save_solutions' parameter with caution as it may cause memory overflow when either the number of generations, number of genes, or number of solutions in population is large.\")\n"
     ]
    },
    {
     "name": "stdout",
     "output_type": "stream",
     "text": [
      "El algoritmo genético ha finalizado.\n",
      "Mejor solución encontrada: (array([89.93613969,  5.19335741,  9.09093768, 68.69359271]), -415.2499003644568, 0)\n"
     ]
    },
    {
     "name": "stderr",
     "output_type": "stream",
     "text": [
      "c:\\Users\\HP\\.conda\\envs\\reto06_progra\\lib\\site-packages\\pygad\\pygad.py:1139: UserWarning: The 'delay_after_gen' parameter is deprecated starting from PyGAD 3.3.0. To delay or pause the evolution after each generation, assign a callback function/method to the 'on_generation' parameter to adds some time delay.\n",
      "  warnings.warn(\"The 'delay_after_gen' parameter is deprecated starting from PyGAD 3.3.0. To delay or pause the evolution after each generation, assign a callback function/method to the 'on_generation' parameter to adds some time delay.\")\n",
      "c:\\Users\\HP\\.conda\\envs\\reto06_progra\\lib\\site-packages\\pygad\\pygad.py:1162: UserWarning: Use the 'save_solutions' parameter with caution as it may cause memory overflow when either the number of generations, number of genes, or number of solutions in population is large.\n",
      "  warnings.warn(\"Use the 'save_solutions' parameter with caution as it may cause memory overflow when either the number of generations, number of genes, or number of solutions in population is large.\")\n"
     ]
    },
    {
     "name": "stdout",
     "output_type": "stream",
     "text": [
      "El algoritmo genético ha finalizado.\n",
      "Mejor solución encontrada: (array([43.30013165, 25.        , 77.68885574, 25.        ]), -424.49277851678534, 0)\n"
     ]
    },
    {
     "name": "stderr",
     "output_type": "stream",
     "text": [
      "c:\\Users\\HP\\.conda\\envs\\reto06_progra\\lib\\site-packages\\pygad\\pygad.py:1139: UserWarning: The 'delay_after_gen' parameter is deprecated starting from PyGAD 3.3.0. To delay or pause the evolution after each generation, assign a callback function/method to the 'on_generation' parameter to adds some time delay.\n",
      "  warnings.warn(\"The 'delay_after_gen' parameter is deprecated starting from PyGAD 3.3.0. To delay or pause the evolution after each generation, assign a callback function/method to the 'on_generation' parameter to adds some time delay.\")\n",
      "c:\\Users\\HP\\.conda\\envs\\reto06_progra\\lib\\site-packages\\pygad\\pygad.py:1162: UserWarning: Use the 'save_solutions' parameter with caution as it may cause memory overflow when either the number of generations, number of genes, or number of solutions in population is large.\n",
      "  warnings.warn(\"Use the 'save_solutions' parameter with caution as it may cause memory overflow when either the number of generations, number of genes, or number of solutions in population is large.\")\n"
     ]
    },
    {
     "name": "stdout",
     "output_type": "stream",
     "text": [
      "El algoritmo genético ha finalizado.\n",
      "Mejor solución encontrada: (array([19.77747308, 24.82893796, 29.07532128, 84.91896458]), -417.8160319911407, 0)\n"
     ]
    },
    {
     "name": "stderr",
     "output_type": "stream",
     "text": [
      "c:\\Users\\HP\\.conda\\envs\\reto06_progra\\lib\\site-packages\\pygad\\pygad.py:1139: UserWarning: The 'delay_after_gen' parameter is deprecated starting from PyGAD 3.3.0. To delay or pause the evolution after each generation, assign a callback function/method to the 'on_generation' parameter to adds some time delay.\n",
      "  warnings.warn(\"The 'delay_after_gen' parameter is deprecated starting from PyGAD 3.3.0. To delay or pause the evolution after each generation, assign a callback function/method to the 'on_generation' parameter to adds some time delay.\")\n",
      "c:\\Users\\HP\\.conda\\envs\\reto06_progra\\lib\\site-packages\\pygad\\pygad.py:1162: UserWarning: Use the 'save_solutions' parameter with caution as it may cause memory overflow when either the number of generations, number of genes, or number of solutions in population is large.\n",
      "  warnings.warn(\"Use the 'save_solutions' parameter with caution as it may cause memory overflow when either the number of generations, number of genes, or number of solutions in population is large.\")\n"
     ]
    },
    {
     "name": "stdout",
     "output_type": "stream",
     "text": [
      "El algoritmo genético ha finalizado.\n",
      "Mejor solución encontrada: (array([89.56829274, 65.14424192, 24.74744191, 58.83914713]), -478.35779976695716, 0)\n"
     ]
    },
    {
     "name": "stderr",
     "output_type": "stream",
     "text": [
      "c:\\Users\\HP\\.conda\\envs\\reto06_progra\\lib\\site-packages\\pygad\\pygad.py:1139: UserWarning: The 'delay_after_gen' parameter is deprecated starting from PyGAD 3.3.0. To delay or pause the evolution after each generation, assign a callback function/method to the 'on_generation' parameter to adds some time delay.\n",
      "  warnings.warn(\"The 'delay_after_gen' parameter is deprecated starting from PyGAD 3.3.0. To delay or pause the evolution after each generation, assign a callback function/method to the 'on_generation' parameter to adds some time delay.\")\n",
      "c:\\Users\\HP\\.conda\\envs\\reto06_progra\\lib\\site-packages\\pygad\\pygad.py:1162: UserWarning: Use the 'save_solutions' parameter with caution as it may cause memory overflow when either the number of generations, number of genes, or number of solutions in population is large.\n",
      "  warnings.warn(\"Use the 'save_solutions' parameter with caution as it may cause memory overflow when either the number of generations, number of genes, or number of solutions in population is large.\")\n"
     ]
    },
    {
     "name": "stdout",
     "output_type": "stream",
     "text": [
      "El algoritmo genético ha finalizado.\n",
      "Mejor solución encontrada: (array([ 9.62684247, 85.88961755, 41.38140986, 85.88961755]), -472.7845202456152, 0)\n"
     ]
    },
    {
     "name": "stderr",
     "output_type": "stream",
     "text": [
      "c:\\Users\\HP\\.conda\\envs\\reto06_progra\\lib\\site-packages\\pygad\\pygad.py:1139: UserWarning: The 'delay_after_gen' parameter is deprecated starting from PyGAD 3.3.0. To delay or pause the evolution after each generation, assign a callback function/method to the 'on_generation' parameter to adds some time delay.\n",
      "  warnings.warn(\"The 'delay_after_gen' parameter is deprecated starting from PyGAD 3.3.0. To delay or pause the evolution after each generation, assign a callback function/method to the 'on_generation' parameter to adds some time delay.\")\n",
      "c:\\Users\\HP\\.conda\\envs\\reto06_progra\\lib\\site-packages\\pygad\\pygad.py:1162: UserWarning: Use the 'save_solutions' parameter with caution as it may cause memory overflow when either the number of generations, number of genes, or number of solutions in population is large.\n",
      "  warnings.warn(\"Use the 'save_solutions' parameter with caution as it may cause memory overflow when either the number of generations, number of genes, or number of solutions in population is large.\")\n"
     ]
    },
    {
     "name": "stdout",
     "output_type": "stream",
     "text": [
      "El algoritmo genético ha finalizado.\n",
      "Mejor solución encontrada: (array([87.42597561, 49.49979177, 19.77747308,  9.75919053]), -422.3797725206187, 0)\n"
     ]
    },
    {
     "name": "stderr",
     "output_type": "stream",
     "text": [
      "c:\\Users\\HP\\.conda\\envs\\reto06_progra\\lib\\site-packages\\pygad\\pygad.py:1139: UserWarning: The 'delay_after_gen' parameter is deprecated starting from PyGAD 3.3.0. To delay or pause the evolution after each generation, assign a callback function/method to the 'on_generation' parameter to adds some time delay.\n",
      "  warnings.warn(\"The 'delay_after_gen' parameter is deprecated starting from PyGAD 3.3.0. To delay or pause the evolution after each generation, assign a callback function/method to the 'on_generation' parameter to adds some time delay.\")\n",
      "c:\\Users\\HP\\.conda\\envs\\reto06_progra\\lib\\site-packages\\pygad\\pygad.py:1162: UserWarning: Use the 'save_solutions' parameter with caution as it may cause memory overflow when either the number of generations, number of genes, or number of solutions in population is large.\n",
      "  warnings.warn(\"Use the 'save_solutions' parameter with caution as it may cause memory overflow when either the number of generations, number of genes, or number of solutions in population is large.\")\n"
     ]
    },
    {
     "name": "stdout",
     "output_type": "stream",
     "text": [
      "El algoritmo genético ha finalizado.\n",
      "Mejor solución encontrada: (array([80.40398153,  8.7375561 , 89.65480284, 48.09117671]), -461.4857505809839, 0)\n"
     ]
    },
    {
     "name": "stderr",
     "output_type": "stream",
     "text": [
      "c:\\Users\\HP\\.conda\\envs\\reto06_progra\\lib\\site-packages\\pygad\\pygad.py:1139: UserWarning: The 'delay_after_gen' parameter is deprecated starting from PyGAD 3.3.0. To delay or pause the evolution after each generation, assign a callback function/method to the 'on_generation' parameter to adds some time delay.\n",
      "  warnings.warn(\"The 'delay_after_gen' parameter is deprecated starting from PyGAD 3.3.0. To delay or pause the evolution after each generation, assign a callback function/method to the 'on_generation' parameter to adds some time delay.\")\n",
      "c:\\Users\\HP\\.conda\\envs\\reto06_progra\\lib\\site-packages\\pygad\\pygad.py:1162: UserWarning: Use the 'save_solutions' parameter with caution as it may cause memory overflow when either the number of generations, number of genes, or number of solutions in population is large.\n",
      "  warnings.warn(\"Use the 'save_solutions' parameter with caution as it may cause memory overflow when either the number of generations, number of genes, or number of solutions in population is large.\")\n"
     ]
    },
    {
     "name": "stdout",
     "output_type": "stream",
     "text": [
      "El algoritmo genético ha finalizado.\n",
      "Mejor solución encontrada: (array([73.03931064, 29.00633139, 86.19196343, 20.998063  ]), -448.8483330026649, 0)\n"
     ]
    },
    {
     "name": "stderr",
     "output_type": "stream",
     "text": [
      "c:\\Users\\HP\\.conda\\envs\\reto06_progra\\lib\\site-packages\\pygad\\pygad.py:1139: UserWarning: The 'delay_after_gen' parameter is deprecated starting from PyGAD 3.3.0. To delay or pause the evolution after each generation, assign a callback function/method to the 'on_generation' parameter to adds some time delay.\n",
      "  warnings.warn(\"The 'delay_after_gen' parameter is deprecated starting from PyGAD 3.3.0. To delay or pause the evolution after each generation, assign a callback function/method to the 'on_generation' parameter to adds some time delay.\")\n",
      "c:\\Users\\HP\\.conda\\envs\\reto06_progra\\lib\\site-packages\\pygad\\pygad.py:1162: UserWarning: Use the 'save_solutions' parameter with caution as it may cause memory overflow when either the number of generations, number of genes, or number of solutions in population is large.\n",
      "  warnings.warn(\"Use the 'save_solutions' parameter with caution as it may cause memory overflow when either the number of generations, number of genes, or number of solutions in population is large.\")\n"
     ]
    },
    {
     "name": "stdout",
     "output_type": "stream",
     "text": [
      "El algoritmo genético ha finalizado.\n",
      "Mejor solución encontrada: (array([53.02815313, 25.        ,  8.10148595, 65.14424192]), -416.4803017151747, 0)\n"
     ]
    },
    {
     "name": "stderr",
     "output_type": "stream",
     "text": [
      "c:\\Users\\HP\\.conda\\envs\\reto06_progra\\lib\\site-packages\\pygad\\pygad.py:1139: UserWarning: The 'delay_after_gen' parameter is deprecated starting from PyGAD 3.3.0. To delay or pause the evolution after each generation, assign a callback function/method to the 'on_generation' parameter to adds some time delay.\n",
      "  warnings.warn(\"The 'delay_after_gen' parameter is deprecated starting from PyGAD 3.3.0. To delay or pause the evolution after each generation, assign a callback function/method to the 'on_generation' parameter to adds some time delay.\")\n",
      "c:\\Users\\HP\\.conda\\envs\\reto06_progra\\lib\\site-packages\\pygad\\pygad.py:1162: UserWarning: Use the 'save_solutions' parameter with caution as it may cause memory overflow when either the number of generations, number of genes, or number of solutions in population is large.\n",
      "  warnings.warn(\"Use the 'save_solutions' parameter with caution as it may cause memory overflow when either the number of generations, number of genes, or number of solutions in population is large.\")\n"
     ]
    },
    {
     "name": "stdout",
     "output_type": "stream",
     "text": [
      "El algoritmo genético ha finalizado.\n",
      "Mejor solución encontrada: (array([89.93613969,  3.65195253, 78.99671876,  8.7375561 ]), -419.21006559046174, 0)\n"
     ]
    },
    {
     "name": "stderr",
     "output_type": "stream",
     "text": [
      "c:\\Users\\HP\\.conda\\envs\\reto06_progra\\lib\\site-packages\\pygad\\pygad.py:1139: UserWarning: The 'delay_after_gen' parameter is deprecated starting from PyGAD 3.3.0. To delay or pause the evolution after each generation, assign a callback function/method to the 'on_generation' parameter to adds some time delay.\n",
      "  warnings.warn(\"The 'delay_after_gen' parameter is deprecated starting from PyGAD 3.3.0. To delay or pause the evolution after each generation, assign a callback function/method to the 'on_generation' parameter to adds some time delay.\")\n",
      "c:\\Users\\HP\\.conda\\envs\\reto06_progra\\lib\\site-packages\\pygad\\pygad.py:1162: UserWarning: Use the 'save_solutions' parameter with caution as it may cause memory overflow when either the number of generations, number of genes, or number of solutions in population is large.\n",
      "  warnings.warn(\"Use the 'save_solutions' parameter with caution as it may cause memory overflow when either the number of generations, number of genes, or number of solutions in population is large.\")\n"
     ]
    },
    {
     "name": "stdout",
     "output_type": "stream",
     "text": [
      "El algoritmo genético ha finalizado.\n",
      "Mejor solución encontrada: (array([86.19196343,  6.15533982, 86.19196343,  6.15533982]), -421.76316522582863, 0)\n"
     ]
    },
    {
     "name": "stderr",
     "output_type": "stream",
     "text": [
      "c:\\Users\\HP\\.conda\\envs\\reto06_progra\\lib\\site-packages\\pygad\\pygad.py:1139: UserWarning: The 'delay_after_gen' parameter is deprecated starting from PyGAD 3.3.0. To delay or pause the evolution after each generation, assign a callback function/method to the 'on_generation' parameter to adds some time delay.\n",
      "  warnings.warn(\"The 'delay_after_gen' parameter is deprecated starting from PyGAD 3.3.0. To delay or pause the evolution after each generation, assign a callback function/method to the 'on_generation' parameter to adds some time delay.\")\n",
      "c:\\Users\\HP\\.conda\\envs\\reto06_progra\\lib\\site-packages\\pygad\\pygad.py:1162: UserWarning: Use the 'save_solutions' parameter with caution as it may cause memory overflow when either the number of generations, number of genes, or number of solutions in population is large.\n",
      "  warnings.warn(\"Use the 'save_solutions' parameter with caution as it may cause memory overflow when either the number of generations, number of genes, or number of solutions in population is large.\")\n"
     ]
    },
    {
     "name": "stdout",
     "output_type": "stream",
     "text": [
      "El algoritmo genético ha finalizado.\n",
      "Mejor solución encontrada: (array([70.2977566 , 34.9641165 , 19.77747308, 85.27850063]), -454.3510636327318, 0)\n"
     ]
    },
    {
     "name": "stderr",
     "output_type": "stream",
     "text": [
      "c:\\Users\\HP\\.conda\\envs\\reto06_progra\\lib\\site-packages\\pygad\\pygad.py:1139: UserWarning: The 'delay_after_gen' parameter is deprecated starting from PyGAD 3.3.0. To delay or pause the evolution after each generation, assign a callback function/method to the 'on_generation' parameter to adds some time delay.\n",
      "  warnings.warn(\"The 'delay_after_gen' parameter is deprecated starting from PyGAD 3.3.0. To delay or pause the evolution after each generation, assign a callback function/method to the 'on_generation' parameter to adds some time delay.\")\n",
      "c:\\Users\\HP\\.conda\\envs\\reto06_progra\\lib\\site-packages\\pygad\\pygad.py:1162: UserWarning: Use the 'save_solutions' parameter with caution as it may cause memory overflow when either the number of generations, number of genes, or number of solutions in population is large.\n",
      "  warnings.warn(\"Use the 'save_solutions' parameter with caution as it may cause memory overflow when either the number of generations, number of genes, or number of solutions in population is large.\")\n"
     ]
    },
    {
     "name": "stdout",
     "output_type": "stream",
     "text": [
      "El algoritmo genético ha finalizado.\n",
      "Mejor solución encontrada: (array([78.99671876, 16.90001737, 82.2238777 , 49.93251982]), -468.03925167685543, 0)\n"
     ]
    },
    {
     "name": "stderr",
     "output_type": "stream",
     "text": [
      "c:\\Users\\HP\\.conda\\envs\\reto06_progra\\lib\\site-packages\\pygad\\pygad.py:1139: UserWarning: The 'delay_after_gen' parameter is deprecated starting from PyGAD 3.3.0. To delay or pause the evolution after each generation, assign a callback function/method to the 'on_generation' parameter to adds some time delay.\n",
      "  warnings.warn(\"The 'delay_after_gen' parameter is deprecated starting from PyGAD 3.3.0. To delay or pause the evolution after each generation, assign a callback function/method to the 'on_generation' parameter to adds some time delay.\")\n",
      "c:\\Users\\HP\\.conda\\envs\\reto06_progra\\lib\\site-packages\\pygad\\pygad.py:1162: UserWarning: Use the 'save_solutions' parameter with caution as it may cause memory overflow when either the number of generations, number of genes, or number of solutions in population is large.\n",
      "  warnings.warn(\"Use the 'save_solutions' parameter with caution as it may cause memory overflow when either the number of generations, number of genes, or number of solutions in population is large.\")\n"
     ]
    },
    {
     "name": "stdout",
     "output_type": "stream",
     "text": [
      "El algoritmo genético ha finalizado.\n",
      "Mejor solución encontrada: (array([48.72430014, 83.68977685,  2.02181095, 87.60730299]), -461.1331269674808, 0)\n"
     ]
    }
   ],
   "source": [
    "random.seed(42)  # Semilla para que siempre se generen las mismas consignas\n",
    "lista = []\n",
    "consignas_generadas = set()\n",
    "while len(lista) < 20:\n",
    "    consigna = random.randint(150, 250)\n",
    "    if consigna not in consignas_generadas:\n",
    "        consignas_generadas.add(consigna)\n",
    "        datos = nuevos_datos(consigna)\n",
    "        lista.append(datos)"
   ]
  },
  {
   "cell_type": "markdown",
   "metadata": {},
   "source": [
    "Se ha decidido utilizar mysql por delante de mongo ya que en los datos que se iban a utilizar todas las filas iban a contar con las mismas columnas por lo que la flexibilidad que nos ofrece mongo no es neccesaria. Por otro lado podiamos utilizar una clave primaria para que no se pudieran repetir consignas, haciendo mas sencillas las busquedas de consignas en las mismas. Además, es una base de datos mas utilizada por lo que la integración con las tecnologias del cliente seguramente sea mas sencilla."
   ]
  },
  {
   "cell_type": "code",
   "execution_count": 16,
   "metadata": {},
   "outputs": [],
   "source": [
    "keyfile = '.pwd.json' #hay que utilizar la utentificacion de cada uno\n",
    "with open(keyfile, 'r') as f:\n",
    "  creds = json.load(f)\n",
    "\n",
    "usuario = creds.get(\"usuario\")\n",
    "contrasena = creds.get(\"contrasena\")\n",
    "ruta = creds.get(\"ruta\")\n",
    "conn = mysql.connector.connect(user=usuario, password=contrasena, host=ruta)\n",
    "cur = conn.cursor()\n",
    "cur.execute('''DROP DATABASE IF EXISTS compresores''') \n",
    "cur.execute('''CREATE DATABASE compresores''') \n",
    "conn.close() \n",
    "DATABASE = 'compresores'\n",
    "conn = mysql.connector.connect(user=usuario, password=contrasena, host=ruta, database = DATABASE)\n",
    "cur = conn.cursor()\n",
    "try:\n",
    "    cur.execute('''CREATE TABLE optimizados (\n",
    "    Consigna INT NOT NULL,\n",
    "    Compresor_A FLOAT NOT NULL,\n",
    "    Compresor_B FLOAT NOT NULL,\n",
    "    Compresor_C FLOAT NOT NULL,\n",
    "    Compresor_D FLOAT NOT NULL,\n",
    "    Potencia FLOAT NOT NULL,\n",
    "    PRIMARY KEY (Consigna)           \n",
    "    )''') \n",
    "except mysql.connector.Error as err:\n",
    "    print(err)\n",
    "    conn.rollback() \n",
    "finally:\n",
    "    conn.close()\n",
    "conn = mysql.connector.connect(user=usuario, password=contrasena, host=ruta, database = DATABASE)\n",
    "cur = conn.cursor()\n",
    "\n",
    "try:\n",
    "    cur.executemany('''INSERT INTO optimizados (Consigna, Compresor_A, Compresor_B, Compresor_C, Compresor_D, Potencia) \n",
    "    VALUES (%s, %s, %s, %s, %s, %s)''',\n",
    "    lista) \n",
    "    conn.commit()\n",
    "except mysql.connector.Error as err:\n",
    "    print(err)\n",
    "    conn.rollback() \n",
    "finally:\n",
    "    conn.close()"
   ]
  },
  {
   "cell_type": "markdown",
   "metadata": {},
   "source": [
    "Querys"
   ]
  },
  {
   "cell_type": "code",
   "execution_count": 17,
   "metadata": {},
   "outputs": [
    {
     "name": "stdout",
     "output_type": "stream",
     "text": [
      "[(153, 19.7775, 3.65195, 38.551, 84.919, 410.696), (154, 53.0282, 25.0, 8.10149, 65.1442, 414.062), (161, 87.426, 49.4998, 19.7775, 9.75919, 420.732), (163, 19.7775, 24.8289, 29.0753, 84.919, 416.647), (164, 84.2608, 16.9, 48.7243, 16.9, 421.655), (167, 43.3001, 25.0, 77.6889, 25.0, 423.383), (177, 89.9361, 3.65195, 78.9967, 8.73756, 416.797), (178, 89.9361, 5.19336, 9.09094, 68.6936, 413.003), (179, 86.192, 6.15534, 86.192, 6.15534, 417.768), (181, 82.2239, 25.0, 25.0, 48.2015, 423.761), (185, 63.7069, 30.9569, 65.8877, 28.7428, 451.606), (204, 73.0393, 29.0063, 86.192, 20.9981, 447.715), (214, 70.2978, 34.9641, 19.7775, 85.2785, 452.917), (219, 9.62684, 85.8896, 41.3814, 85.8896, 467.209), (221, 48.7243, 83.6898, 2.02181, 87.6073, 457.337), (225, 80.404, 8.73756, 89.6548, 48.0912, 457.666), (227, 78.9967, 16.9, 82.2239, 49.9325, 466.761), (231, 86.192, 25.7905, 72.8344, 48.2015, 469.686), (236, 89.5683, 65.1442, 24.7474, 58.8391, 476.819), (244, 78.9967, 25.0, 74.817, 65.1442, 477.277)]\n"
     ]
    }
   ],
   "source": [
    "#miramos la base de datos entera\n",
    "conn = mysql.connector.connect(user=usuario, password=contrasena, host=ruta, database = DATABASE)\n",
    "cur = conn.cursor()\n",
    "cur.execute('''SELECT * FROM optimizados''')\n",
    "print(cur.fetchall())\n",
    "conn.close()"
   ]
  },
  {
   "cell_type": "code",
   "execution_count": null,
   "metadata": {},
   "outputs": [],
   "source": []
  }
 ],
 "metadata": {
  "kernelspec": {
   "display_name": "RETO_06_23-24",
   "language": "python",
   "name": "python3"
  },
  "language_info": {
   "codemirror_mode": {
    "name": "ipython",
    "version": 3
   },
   "file_extension": ".py",
   "mimetype": "text/x-python",
   "name": "python",
   "nbconvert_exporter": "python",
   "pygments_lexer": "ipython3",
   "version": "3.9.18"
  }
 },
 "nbformat": 4,
 "nbformat_minor": 2
}
