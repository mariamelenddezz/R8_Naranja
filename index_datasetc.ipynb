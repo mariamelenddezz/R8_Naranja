{
 "cells": [
  {
   "cell_type": "code",
   "execution_count": null,
   "metadata": {},
   "outputs": [],
   "source": [
    "import pandas as pd\n",
    "from elasticsearch import Elasticsearch\n",
    "import numpy as np\n",
    "import datetime as datetime"
   ]
  },
  {
   "cell_type": "code",
   "execution_count": 4,
   "metadata": {},
   "outputs": [],
   "source": [
    "df_c=pd.read_csv('../Datos/Originales/Comp_C.csv')"
   ]
  },
  {
   "cell_type": "code",
   "execution_count": null,
   "metadata": {},
   "outputs": [],
   "source": [
    "df_c.head()"
   ]
  },
  {
   "cell_type": "code",
   "execution_count": null,
   "metadata": {},
   "outputs": [],
   "source": [
    "df_c.dtypes"
   ]
  },
  {
   "cell_type": "code",
   "execution_count": null,
   "metadata": {},
   "outputs": [],
   "source": [
    "df_pequeno_c= df_c.sample(n=1000, random_state=42)"
   ]
  },
  {
   "cell_type": "code",
   "execution_count": null,
   "metadata": {},
   "outputs": [],
   "source": [
    "ELASTIC_PASSWORD='fpLcBH8a3VVZBc0w7OnL'\n",
    "\n",
    "client=Elasticsearch(\n",
    "    'https://localhost:9200',\n",
    "    ca_certs='/home/marta/elasticsearch-8.4.3/config/certs/http_ca.crt',\n",
    "    basic_auth=('elastic', ELASTIC_PASSWORD)\n",
    ")\n",
    "\n",
    "client.info()"
   ]
  },
  {
   "cell_type": "code",
   "execution_count": null,
   "metadata": {},
   "outputs": [],
   "source": [
    "for i in range(len(df_pequeno_c)):\n",
    "    doc=dict()\n",
    "    data=dict(df_pequeno_c.iloc[i])\n",
    "    doc['Presion']=data['Presion'].astype(float)\n",
    "    doc[\"Temperatura\"] = data['Temperatura'].astype(float)\n",
    "    doc['Frecuencia']=data['Frecuencia'].astype(float)\n",
    "    doc[\"Potencia_Medida\"] = data['Potencia_Medida'].astype(float)\n",
    "    client.index(index='comp_a', document=doc, id=i+1)"
   ]
  }
 ],
 "metadata": {
  "kernelspec": {
   "display_name": "reto6",
   "language": "python",
   "name": "python3"
  },
  "language_info": {
   "codemirror_mode": {
    "name": "ipython",
    "version": 3
   },
   "file_extension": ".py",
   "mimetype": "text/x-python",
   "name": "python",
   "nbconvert_exporter": "python",
   "pygments_lexer": "ipython3",
   "version": "3.9.18"
  }
 },
 "nbformat": 4,
 "nbformat_minor": 2
}
